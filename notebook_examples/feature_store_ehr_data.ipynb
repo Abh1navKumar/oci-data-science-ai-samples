{
 "cells": [
  {
   "cell_type": "raw",
   "id": "f76c6053",
   "metadata": {},
   "source": [
    "qweews@notebook{feature_store-querying.ipynb,\n",
    "    title: Using feature store for feature querying using pandas like interface for query and join,\n",
    "    summary: Feature store quickstart guide to perform feature querying using pandas like interface for query and join.,\n",
    "    developed_on: pyspark32_p38_cpu_feature_store_v1,\n",
    "    keywords: feature store, querying,\n",
    "    license: Universal Permissive License v 1.0\n",
    "}"
   ]
  },
  {
   "cell_type": "raw",
   "id": "9efb9345",
   "metadata": {
    "ExecuteTime": {
     "end_time": "2023-05-24T08:26:08.572567Z",
     "start_time": "2023-05-24T08:26:08.328013Z"
    }
   },
   "source": [
    "!odsc conda install -s fspyspark32_p38_cpu_v2"
   ]
  },
  {
   "cell_type": "code",
   "execution_count": null,
   "id": "9facb62e",
   "metadata": {},
   "outputs": [],
   "source": [
    "!odsc data-catalog config --authentication resource_principal --metastore <metastore_id>"
   ]
  },
  {
   "cell_type": "markdown",
   "id": "e85fec3a",
   "metadata": {},
   "source": [
    "Oracle Data Science service sample notebook.\n",
    "\n",
    "Copyright (c) 2022 Oracle, Inc. All rights reserved. Licensed under the [Universal Permissive License v 1.0](https://oss.oracle.com/licenses/upl).\n",
    "\n",
    "***\n",
    "\n",
    "# <font color=\"red\">Feature Engineering for medical data in Feature store </font>\n",
    "<p style=\"margin-left:10%; margin-right:10%;\">by the <font color=\"teal\">Oracle Cloud Infrastructure Data Science Service.</font></p>\n",
    "\n",
    "---\n",
    "# Overview:\n",
    "---\n",
    "Managing many datasets, data-sources and transformations for machine learning is complex and costly. Poorly cleaned data, data issues, bugs in transformations, data drift and training serving skew all leads to increased model development time and worse model performance. Here, feature store is well positioned to solve many of the problems since it provides a centralised way to transform and access data for training and serving time and helps defines a standardised pipeline for ingestion of data and querying of data. This notebook demonstrates how to use feature store within a long lasting [Oracle Cloud Infrastructure Data Flow](https://docs.oracle.com/en-us/iaas/data-flow/using/home.htm) cluster.\n",
    "\n",
    "Compatible conda pack: [PySpark 3.2 and Feature store](https://docs.oracle.com/iaas/data-science/using/conda-pyspark-fam.htm) for CPU on Python 3.8\n",
    "\n",
    "<div>\n",
    "    <img src=\"https://objectstorage.us-ashburn-1.oraclecloud.com/p/hh2NOgFJbVSg4amcLM3G3hkTuHyBD-8aE_iCsuZKEvIav1Wlld-3zfCawG4ycQGN/n/ociodscdev/b/oci-feature-store/o/beta/_images/overview-roles.png\"  />\n",
    "</div>\n",
    "\n",
    "## Contents:\n",
    "\n",
    "- <a href=\"#concepts\">1. Introduction</a>\n",
    "- <a href='#pre-requisites'>1. Pre-requisites</a>\n",
    "    - <a href='#policies'>2.1 Policies</a>\n",
    "    - <a href='#prerequisites_authentication'>2.2 Authentication</a>\n",
    "    - <a href='#prerequisites_variables'>2.3 Variables</a>\n",
    "- <a href='#featurestore_querying'>3. Feature store querying</a>\n",
    "    - <a href='#data_exploration'>3.1. Exploration of data in feature store</a>\n",
    "    - <a href='#load_featuregroup'>3.2. Load feature groups</a>\n",
    "    - <a href='#explore_featuregroup'>3.3. Explore feature groups</a>\n",
    "    - <a href='#select_subset_featuregroup'>3.4. Select subset of features</a>\n",
    "    - <a href='#filter_featuregroup'>3.5. Filter feature groups</a>\n",
    "    - <a href='#join_featuregroup'>3.6. Apply joins on feature group</a>\n",
    "    - <a href='#create_dataset'>3.7. Create dataset from multiple or one feature group</a>\n",
    "    - <a href='#sql_query'>3.8 Free form sql query</a>\n",
    "- <a href='#ref'>4. References</a>\n",
    "\n",
    "---\n",
    "\n",
    "**Important:**\n",
    "\n",
    "Placeholder text for required values are surrounded by angle brackets that must be removed when adding the indicated content. For example, when adding a database name to `database_name = \"<database_name>\"` would become `database_name = \"production\"`.\n",
    "\n",
    "---"
   ]
  },
  {
   "cell_type": "markdown",
   "id": "c788d3fb",
   "metadata": {},
   "source": [
    "<a id=\"concepts\"></a>\n",
    "# 1. Introduction\n",
    "\n",
    "Oracle feature store is a stack based solution that is deployed in the customer enclave using OCI resource manager. Customer can stand up the service with infrastructure in their own tenancy. The service consists of API which are deployed in customer tenancy using resource manager.\n",
    "\n",
    "The following are some key terms that will help you understand OCI Data Science Feature Store:\n",
    "\n",
    "\n",
    "* **Feature Vector**: Set of feature values for any one primary/identifier key. Eg. All/subset of features of customer id ‘2536’ can be called as one feature vector.\n",
    "\n",
    "* **Feature**: A feature is an individual measurable property or characteristic of a phenomenon being observed.\n",
    "\n",
    "* **Entity**: An entity is a group of semantically related features. The first step a consumer of features would typically do when accessing the feature store service is to list the entities and the entities associated features. Another way to look at it is that an entity is an object or concept that is described by its features. Examples of entities could be customer, product, transaction, review, image, document, etc.\n",
    "\n",
    "* **Feature Group**: A feature group in a feature store is a collection of related features that are often used together in ml models. It serves as an organizational unit within the feature store for users to manage, version and share features across different ml projects. By organizing features into groups, data scientists and ml engineers can efficiently discover, reuse and collaborate on features reducing the redundant work and ensuring consistency in feature engineering.\n",
    "\n",
    "* **Feature Group Job**: Feature group job is the execution instance of a feature group. Each feature group job will include validation results and statistics results.\n",
    "\n",
    "* **Dataset**: A dataset is a collection of feature that are used together to either train a model or perform model inference.\n",
    "\n",
    "* **Dataset Job**: Dataset job is the execution instance of a dataset. Each dataset job will include validation results and statistics results."
   ]
  },
  {
   "cell_type": "markdown",
   "id": "75ced462",
   "metadata": {},
   "source": [
    "<a id='pre-requisites'></a>\n",
    "# 2. Pre-requisites\n",
    "\n",
    "Data Flow Sessions are accessible through the following conda environment:\n",
    "\n",
    "* **PySpark 3.2, Feature store 1.0 and Data Flow 1.0 (fs_pyspark32_p38_cpu_v1)**\n",
    "\n",
    "The [Data Catalog Hive Metastore](https://docs.oracle.com/en-us/iaas/data-catalog/using/metastore.htm) provides schema definitions for objects in structured and unstructured data assets. The Metastore is the central metadata repository to understand tables backed by files on object storage. You can customize `fs_pyspark32_p38_cpu_v1`, publish it, and use it as a runtime environment for a Data Flow session cluster. The metastore id of hive metastore is tied to feature store construct of feature store service.\n"
   ]
  },
  {
   "cell_type": "markdown",
   "id": "3bc9fc7b",
   "metadata": {},
   "source": [
    "<a id='setup_spark-defaults'></a>\n",
    "### `spark-defaults.conf`\n",
    "\n",
    "The `spark-defaults.conf` file is used to define the properties that are used by Spark. A templated version is installed when you install a Data Science conda environment that supports PySpark. However, you must update the template so that the Data Catalog metastore can be accessed. You can do this manually. However, the `odsc data-catalog config` commandline tool is ideal for setting up the file because it gathers information about your environment, and uses that to build the file.\n",
    "\n",
    "The `odsc data-catalog config` command line tool needs the `--metastore` option to define the Data Catalog metastore OCID. No other command line option is needed because settings have default values, or they take values from your notebook session environment. Following are common parameters that you may need to override.\n",
    "\n",
    "The `--authentication` option sets the authentication mode. It supports resource principal and API keys. The preferred method for authentication is resource principal, which is sent with `--authentication resource_principal`. If you want to use API keys, then use the `--authentication api_key` option. If the `--authentication` isn't specified, API keys are used. When API keys are used, information from the OCI configuration file is used to create the `spark-defaults.conf` file.\n",
    "\n",
    "Object Storage and Data Catalog are regional services. By default, the region is set to the region your notebook session is running in. This information is taken from the environment variable, `NB_REGION`. Use the `--region` option to override this behavior.\n",
    "\n",
    "The default location of the `spark-defaults.conf` file is `/home/datascience/spark_conf_dir` as defined in the `SPARK_CONF_DIR` environment variable. Use the `--output` option to define the directory where to write the file.\n",
    "\n",
    "You need to determine what settings are appropriate for your configuration. However, the following works for most configurations and is run in a terminal window.\n",
    "\n",
    "```bash\n",
    "odsc data-catalog config --authentication resource_principal --metastore <metastore_id>\n",
    "```\n",
    "For more assistance, use the following command in a terminal window:\n",
    "\n",
    "```bash\n",
    "odsc data-catalog config --help\n",
    "```\n",
    "\n",
    "<a id='setup_session'></a>\n",
    "### Session Setup\n",
    "\n",
    "The notebook makes connections to the Data Catalog metastore and Object Storage. In the next cell, specify the bucket URI to act as the data warehouse. Use the `warehouse_uri` variable with the `oci://<bucket_name>@<namespace_name>/<key>` format. Update the variable `metastore_id` with the OCID of the Data Catalog metastore."
   ]
  },
  {
   "cell_type": "markdown",
   "id": "ef8d3520",
   "metadata": {},
   "source": [
    "<a id='policies'></a>\n",
    "### 2.1. Policies\n",
    "This section covers the creation of dynamic groups and policies needed to use the service.\n",
    "\n",
    "* [Data Flow Policies](https://docs.oracle.com/iaas/data-flow/using/policies.htm/)\n",
    "* [Data Catalog Metastore Required Policies](https://docs.oracle.com/en-us/iaas/data-catalog/using/metastore.htm)\n",
    "* [Getting Started with Data Flow](https://docs.oracle.com/iaas/data-flow/using/dfs_getting_started.htm)\n",
    "* [About Data Science Policies](https://docs.oracle.com/iaas/data-science/using/policies.htm)"
   ]
  },
  {
   "cell_type": "markdown",
   "id": "c6995144",
   "metadata": {},
   "source": [
    "<a id=\"prerequisites_authentication\"></a>\n",
    "### 2.2. Authentication\n",
    "The [Oracle Accelerated Data Science SDK (ADS)](https://docs.oracle.com/iaas/tools/ads-sdk/latest/index.html) controls the authentication mechanism with the notebook cluster.<br>\n",
    "To setup authentication use the ```ads.set_auth(\"resource_principal\")``` or ```ads.set_auth(\"api_key\")```."
   ]
  },
  {
   "cell_type": "code",
   "execution_count": 1,
   "id": "677a7e8f",
   "metadata": {
    "ExecuteTime": {
     "start_time": "2023-05-24T08:26:08.577504Z"
    },
    "is_executing": true,
    "pycharm": {
     "is_executing": true
    }
   },
   "outputs": [],
   "source": [
    "import ads\n",
    "ads.set_auth(auth=\"resource_principal\", client_kwargs={\"fs_service_endpoint\": \"https://pxch6velt3jybrrmzja7p74bam.apigateway.us-ashburn-1.oci.customer-oci.com/20230101\"})"
   ]
  },
  {
   "cell_type": "markdown",
   "id": "7838bdc7",
   "metadata": {},
   "source": [
    "<a id=\"prerequisites_variables\"></a>\n",
    "### 2.3. Variables\n",
    "To run this notebook, you must provide some information about your tenancy configuration. To create and run a feature store, you must specify a `<compartment_id>` and bucket `<metastore_id>` for offline feature store."
   ]
  },
  {
   "cell_type": "code",
   "execution_count": 2,
   "id": "5efbc385",
   "metadata": {
    "pycharm": {
     "is_executing": true
    }
   },
   "outputs": [],
   "source": [
    "import os\n",
    "\n",
    "compartment_id = os.environ.get(\"NB_SESSION_COMPARTMENT_OCID\")\n",
    "metastore_id = \"ocid1.datacatalogmetastore.oc1.iad.amaaaaaabiudgxya2ipeqjr2m7npnn3kboq4s27erl3ts56wggl6ls6gpn3q\""
   ]
  },
  {
   "cell_type": "markdown",
   "id": "429db8de",
   "metadata": {},
   "source": [
    "<a id=\"featurestore_querying\"></a>\n",
    "# 3. Feature group querying\n",
    "By default the **PySpark 3.2, Feature store and Data Flow** conda environment includes pre-installed [great-expectations](https://legacy.docs.greatexpectations.io/en/latest/reference/core_concepts/validation.html) and OCI ML monitoring libraries. The joining functionality is heavily inspired by the APIs used by Pandas to merge, join or filter DataFrames. The APIs allow you to specify which features to select from which feature group, how to join them and which features to use in join conditions.\n",
    "\n"
   ]
  },
  {
   "cell_type": "code",
   "execution_count": 3,
   "id": "b26ea894",
   "metadata": {
    "pycharm": {
     "is_executing": true
    }
   },
   "outputs": [
    {
     "name": "stdout",
     "output_type": "stream",
     "text": [
      "WARNING:py.warnings:/home/datascience/conda/fspyspark32_p38_cpu_v2/lib/python3.8/site-packages/ads/model/deployment/model_deployment.py:54: DeprecationWarning: The `ads.model.deployment.model_deployment_properties` is deprecated in `oracle-ads 2.8.6` and will be removed in `oracle-ads 3.0`.Use `ModelDeploymentInfrastructure` and `ModelDeploymentRuntime` classes in `ads.model.deployment` module for configuring model deployment. Check https://accelerated-data-science.readthedocs.io/en/latest/user_guide/model_registration/introduction.html\n",
      "  from .model_deployment_properties import ModelDeploymentProperties\n",
      "\n",
      "WARNING:py.warnings:/home/datascience/conda/fspyspark32_p38_cpu_v2/lib/python3.8/site-packages/ads/model/deployment/__init__.py:7: DeprecationWarning: The `ads.model.deployment.model_deployer` is deprecated in `oracle-ads 2.8.6` and will be removed in `oracle-ads 3.0`.Use `ModelDeployment` class in `ads.model.deployment` module for initializing and deploying model deployment. Check https://accelerated-data-science.readthedocs.io/en/latest/user_guide/model_registration/introduction.html\n",
      "  from .model_deployer import ModelDeployer\n",
      "\n",
      "WARNING:py.warnings:/home/datascience/conda/fspyspark32_p38_cpu_v2/lib/python3.8/site-packages/pyspark/sql/pandas/utils.py:35: DeprecationWarning: distutils Version classes are deprecated. Use packaging.version instead.\n",
      "  if LooseVersion(pandas.__version__) < LooseVersion(minimum_pandas_version):\n",
      "\n",
      "WARNING:py.warnings:/home/datascience/conda/fspyspark32_p38_cpu_v2/lib/python3.8/site-packages/pyspark/sql/pandas/utils.py:57: DeprecationWarning: distutils Version classes are deprecated. Use packaging.version instead.\n",
      "  if LooseVersion(pyarrow.__version__) < LooseVersion(minimum_pyarrow_version):\n",
      "\n",
      "WARNING:py.warnings:/home/datascience/conda/fspyspark32_p38_cpu_v2/lib/python3.8/site-packages/pyspark/pandas/__init__.py:44: DeprecationWarning: distutils Version classes are deprecated. Use packaging.version instead.\n",
      "  LooseVersion(pyarrow.__version__) >= LooseVersion(\"2.0.0\")\n",
      "\n",
      "WARNING:root:'PYARROW_IGNORE_TIMEZONE' environment variable was not set. It is required to set this environment variable to '1' in both driver and executor sides if you use pyarrow>=2.0.0. pandas-on-Spark will set it for you but it does not work if there is a Spark context already launched.\n",
      "WARNING:py.warnings:/home/datascience/conda/fspyspark32_p38_cpu_v2/lib/python3.8/site-packages/pyspark/pandas/frame.py:62: DeprecationWarning: distutils Version classes are deprecated. Use packaging.version instead.\n",
      "  if LooseVersion(pd.__version__) >= LooseVersion(\"0.24\"):\n",
      "\n",
      "WARNING:py.warnings:/home/datascience/conda/fspyspark32_p38_cpu_v2/lib/python3.8/site-packages/pyspark/pandas/missing/frame.py:81: DeprecationWarning: distutils Version classes are deprecated. Use packaging.version instead.\n",
      "  if LooseVersion(pd.__version__) < LooseVersion(\"1.0\"):\n",
      "\n",
      "WARNING:py.warnings:/home/datascience/conda/fspyspark32_p38_cpu_v2/lib/python3.8/site-packages/pyspark/pandas/missing/indexes.py:85: DeprecationWarning: distutils Version classes are deprecated. Use packaging.version instead.\n",
      "  if LooseVersion(pd.__version__) < LooseVersion(\"1.0\"):\n",
      "\n",
      "WARNING:py.warnings:/home/datascience/conda/fspyspark32_p38_cpu_v2/lib/python3.8/site-packages/pyspark/pandas/missing/indexes.py:191: DeprecationWarning: distutils Version classes are deprecated. Use packaging.version instead.\n",
      "  if LooseVersion(pd.__version__) < LooseVersion(\"1.0\"):\n",
      "\n",
      "WARNING:py.warnings:/home/datascience/conda/fspyspark32_p38_cpu_v2/lib/python3.8/site-packages/pyspark/pandas/missing/series.py:89: DeprecationWarning: distutils Version classes are deprecated. Use packaging.version instead.\n",
      "  if LooseVersion(pd.__version__) < LooseVersion(\"1.0\"):\n",
      "\n",
      "WARNING:py.warnings:/home/datascience/conda/fspyspark32_p38_cpu_v2/lib/python3.8/site-packages/pyspark/pandas/groupby.py:50: DeprecationWarning: distutils Version classes are deprecated. Use packaging.version instead.\n",
      "  if LooseVersion(pd.__version__) >= LooseVersion(\"1.3.0\"):\n",
      "\n",
      "WARNING:py.warnings:/home/datascience/conda/fspyspark32_p38_cpu_v2/lib/python3.8/site-packages/fs/__init__.py:4: DeprecationWarning: Deprecated call to `pkg_resources.declare_namespace('fs')`.\n",
      "Implementing implicit namespace packages (as specified in PEP 420) is preferred to `pkg_resources.declare_namespace`. See https://setuptools.pypa.io/en/latest/references/keywords.html#keyword-namespace-packages\n",
      "  __import__(\"pkg_resources\").declare_namespace(__name__)  # type: ignore\n",
      "\n",
      "WARNING:py.warnings:/home/datascience/conda/fspyspark32_p38_cpu_v2/lib/python3.8/site-packages/fs/opener/__init__.py:6: DeprecationWarning: Deprecated call to `pkg_resources.declare_namespace('fs.opener')`.\n",
      "Implementing implicit namespace packages (as specified in PEP 420) is preferred to `pkg_resources.declare_namespace`. See https://setuptools.pypa.io/en/latest/references/keywords.html#keyword-namespace-packages\n",
      "  __import__(\"pkg_resources\").declare_namespace(__name__)  # type: ignore\n",
      "\n",
      "WARNING:py.warnings:/home/datascience/conda/fspyspark32_p38_cpu_v2/lib/python3.8/site-packages/pkg_resources/__init__.py:2350: DeprecationWarning: Deprecated call to `pkg_resources.declare_namespace('fs')`.\n",
      "Implementing implicit namespace packages (as specified in PEP 420) is preferred to `pkg_resources.declare_namespace`. See https://setuptools.pypa.io/en/latest/references/keywords.html#keyword-namespace-packages\n",
      "  declare_namespace(parent)\n",
      "\n"
     ]
    }
   ],
   "source": [
    "import pandas as pd\n",
    "from ads.feature_store.feature_store import FeatureStore\n",
    "from ads.feature_store.feature_group import FeatureGroup\n",
    "from ads.feature_store.model_details import ModelDetails\n",
    "from ads.feature_store.dataset import Dataset\n",
    "from ads.feature_store.common.enums import DatasetIngestionMode\n",
    "\n",
    "from ads.feature_store.feature_group_expectation import ExpectationType\n",
    "from great_expectations.core import ExpectationSuite, ExpectationConfiguration\n",
    "from ads.feature_store.feature_store_registrar import FeatureStoreRegistrar"
   ]
  },
  {
   "cell_type": "markdown",
   "id": "d72293bb",
   "metadata": {},
   "source": [
    "<a id=\"data_exploration\"></a>\n",
    "### 3.1. Exploration of data in feature store\n",
    "\n",
    "The dataset contains Electronic Health Record predictions collected from a private Hospital in Indonesia. It contains the patient's laboratory test results used to determine the next patient's treatment whether in care or out care.\n"
   ]
  },
  {
   "cell_type": "code",
   "execution_count": 4,
   "id": "4aeca7ad",
   "metadata": {
    "pycharm": {
     "is_executing": true
    }
   },
   "outputs": [
    {
     "data": {
      "text/html": [
       "<div>\n",
       "<style scoped>\n",
       "    .dataframe tbody tr th:only-of-type {\n",
       "        vertical-align: middle;\n",
       "    }\n",
       "\n",
       "    .dataframe tbody tr th {\n",
       "        vertical-align: top;\n",
       "    }\n",
       "\n",
       "    .dataframe thead th {\n",
       "        text-align: right;\n",
       "    }\n",
       "</style>\n",
       "<table border=\"1\" class=\"dataframe\">\n",
       "  <thead>\n",
       "    <tr style=\"text-align: right;\">\n",
       "      <th></th>\n",
       "      <th>HAEMATOCRIT</th>\n",
       "      <th>HAEMOGLOBINS</th>\n",
       "      <th>ERYTHROCYTE</th>\n",
       "      <th>LEUCOCYTE</th>\n",
       "      <th>THROMBOCYTE</th>\n",
       "      <th>MCH</th>\n",
       "      <th>MCHC</th>\n",
       "      <th>MCV</th>\n",
       "      <th>AGE</th>\n",
       "      <th>SEX</th>\n",
       "      <th>SOURCE</th>\n",
       "    </tr>\n",
       "  </thead>\n",
       "  <tbody>\n",
       "    <tr>\n",
       "      <th>0</th>\n",
       "      <td>35.1</td>\n",
       "      <td>11.8</td>\n",
       "      <td>4.65</td>\n",
       "      <td>6.3</td>\n",
       "      <td>310</td>\n",
       "      <td>25.4</td>\n",
       "      <td>33.6</td>\n",
       "      <td>75.5</td>\n",
       "      <td>1</td>\n",
       "      <td>F</td>\n",
       "      <td>out</td>\n",
       "    </tr>\n",
       "    <tr>\n",
       "      <th>1</th>\n",
       "      <td>43.5</td>\n",
       "      <td>14.8</td>\n",
       "      <td>5.39</td>\n",
       "      <td>12.7</td>\n",
       "      <td>334</td>\n",
       "      <td>27.5</td>\n",
       "      <td>34.0</td>\n",
       "      <td>80.7</td>\n",
       "      <td>1</td>\n",
       "      <td>F</td>\n",
       "      <td>out</td>\n",
       "    </tr>\n",
       "    <tr>\n",
       "      <th>2</th>\n",
       "      <td>33.5</td>\n",
       "      <td>11.3</td>\n",
       "      <td>4.74</td>\n",
       "      <td>13.2</td>\n",
       "      <td>305</td>\n",
       "      <td>23.8</td>\n",
       "      <td>33.7</td>\n",
       "      <td>70.7</td>\n",
       "      <td>1</td>\n",
       "      <td>F</td>\n",
       "      <td>out</td>\n",
       "    </tr>\n",
       "    <tr>\n",
       "      <th>3</th>\n",
       "      <td>39.1</td>\n",
       "      <td>13.7</td>\n",
       "      <td>4.98</td>\n",
       "      <td>10.5</td>\n",
       "      <td>366</td>\n",
       "      <td>27.5</td>\n",
       "      <td>35.0</td>\n",
       "      <td>78.5</td>\n",
       "      <td>1</td>\n",
       "      <td>F</td>\n",
       "      <td>out</td>\n",
       "    </tr>\n",
       "    <tr>\n",
       "      <th>4</th>\n",
       "      <td>30.9</td>\n",
       "      <td>9.9</td>\n",
       "      <td>4.23</td>\n",
       "      <td>22.1</td>\n",
       "      <td>333</td>\n",
       "      <td>23.4</td>\n",
       "      <td>32.0</td>\n",
       "      <td>73.0</td>\n",
       "      <td>1</td>\n",
       "      <td>M</td>\n",
       "      <td>out</td>\n",
       "    </tr>\n",
       "  </tbody>\n",
       "</table>\n",
       "</div>"
      ],
      "text/plain": [
       "   HAEMATOCRIT  HAEMOGLOBINS  ERYTHROCYTE  LEUCOCYTE  THROMBOCYTE   MCH  MCHC  \\\n",
       "0         35.1          11.8         4.65        6.3          310  25.4  33.6   \n",
       "1         43.5          14.8         5.39       12.7          334  27.5  34.0   \n",
       "2         33.5          11.3         4.74       13.2          305  23.8  33.7   \n",
       "3         39.1          13.7         4.98       10.5          366  27.5  35.0   \n",
       "4         30.9           9.9         4.23       22.1          333  23.4  32.0   \n",
       "\n",
       "    MCV  AGE SEX SOURCE  \n",
       "0  75.5    1   F    out  \n",
       "1  80.7    1   F    out  \n",
       "2  70.7    1   F    out  \n",
       "3  78.5    1   F    out  \n",
       "4  73.0    1   M    out  "
      ]
     },
     "execution_count": 4,
     "metadata": {},
     "output_type": "execute_result"
    }
   ],
   "source": [
    "patient_result_df = pd.read_csv(\"https://objectstorage.us-ashburn-1.oraclecloud.com/p/hh2NOgFJbVSg4amcLM3G3hkTuHyBD-8aE_iCsuZKEvIav1Wlld-3zfCawG4ycQGN/n/ociodscdev/b/oci-feature-store/o/beta/data/EHR/data-ori.csv\")\n",
    "patient_result_df.head()"
   ]
  },
  {
   "cell_type": "markdown",
   "id": "cd307adf",
   "metadata": {},
   "source": [
    "#### Dataset Overview "
   ]
  },
  {
   "cell_type": "code",
   "execution_count": 5,
   "id": "9d9adc69",
   "metadata": {},
   "outputs": [
    {
     "name": "stdout",
     "output_type": "stream",
     "text": [
      "The dataset contains 4412 rows and 11 columns\n",
      "Total number of features : 10\n",
      "Number of numerical features : 9\n",
      "Number of categorical features : 1\n",
      "\n"
     ]
    }
   ],
   "source": [
    "print(f\"The dataset contains {patient_result_df.shape[0]} rows and {patient_result_df.shape[1]} columns\")\n",
    "\n",
    "# get all the features\n",
    "features = [feat for feat in patient_result_df.columns if feat !='SOURCE']\n",
    "num_features = [feat for feat in features if patient_result_df[feat].dtype != object]\n",
    "cat_features = [feat for feat in features if patient_result_df[feat].dtype == object]\n",
    "\n",
    "print(f\"Total number of features : {len(features)}\")\n",
    "print(f\"Number of numerical features : {len(num_features)}\")\n",
    "print(f\"Number of categorical features : {len(cat_features)}\\n\")"
   ]
  },
  {
   "cell_type": "markdown",
   "id": "a59294ed",
   "metadata": {},
   "source": [
    "<b> Missing Values</b>"
   ]
  },
  {
   "cell_type": "code",
   "execution_count": 6,
   "id": "cab1363c",
   "metadata": {},
   "outputs": [
    {
     "data": {
      "text/html": [
       "<div>\n",
       "<style scoped>\n",
       "    .dataframe tbody tr th:only-of-type {\n",
       "        vertical-align: middle;\n",
       "    }\n",
       "\n",
       "    .dataframe tbody tr th {\n",
       "        vertical-align: top;\n",
       "    }\n",
       "\n",
       "    .dataframe thead th {\n",
       "        text-align: right;\n",
       "    }\n",
       "</style>\n",
       "<table border=\"1\" class=\"dataframe\">\n",
       "  <thead>\n",
       "    <tr style=\"text-align: right;\">\n",
       "      <th></th>\n",
       "      <th>Missing %</th>\n",
       "    </tr>\n",
       "  </thead>\n",
       "  <tbody>\n",
       "    <tr>\n",
       "      <th>HAEMATOCRIT</th>\n",
       "      <td>0.0</td>\n",
       "    </tr>\n",
       "    <tr>\n",
       "      <th>HAEMOGLOBINS</th>\n",
       "      <td>0.0</td>\n",
       "    </tr>\n",
       "    <tr>\n",
       "      <th>ERYTHROCYTE</th>\n",
       "      <td>0.0</td>\n",
       "    </tr>\n",
       "    <tr>\n",
       "      <th>LEUCOCYTE</th>\n",
       "      <td>0.0</td>\n",
       "    </tr>\n",
       "    <tr>\n",
       "      <th>THROMBOCYTE</th>\n",
       "      <td>0.0</td>\n",
       "    </tr>\n",
       "    <tr>\n",
       "      <th>MCH</th>\n",
       "      <td>0.0</td>\n",
       "    </tr>\n",
       "    <tr>\n",
       "      <th>MCHC</th>\n",
       "      <td>0.0</td>\n",
       "    </tr>\n",
       "    <tr>\n",
       "      <th>MCV</th>\n",
       "      <td>0.0</td>\n",
       "    </tr>\n",
       "    <tr>\n",
       "      <th>AGE</th>\n",
       "      <td>0.0</td>\n",
       "    </tr>\n",
       "    <tr>\n",
       "      <th>SEX</th>\n",
       "      <td>0.0</td>\n",
       "    </tr>\n",
       "    <tr>\n",
       "      <th>SOURCE</th>\n",
       "      <td>0.0</td>\n",
       "    </tr>\n",
       "  </tbody>\n",
       "</table>\n",
       "</div>"
      ],
      "text/plain": [
       "              Missing %\n",
       "HAEMATOCRIT         0.0\n",
       "HAEMOGLOBINS        0.0\n",
       "ERYTHROCYTE         0.0\n",
       "LEUCOCYTE           0.0\n",
       "THROMBOCYTE         0.0\n",
       "MCH                 0.0\n",
       "MCHC                0.0\n",
       "MCV                 0.0\n",
       "AGE                 0.0\n",
       "SEX                 0.0\n",
       "SOURCE              0.0"
      ]
     },
     "execution_count": 6,
     "metadata": {},
     "output_type": "execute_result"
    }
   ],
   "source": [
    "patient_result_df.isna().mean().to_frame(name='Missing %')"
   ]
  },
  {
   "cell_type": "markdown",
   "id": "b31498d1",
   "metadata": {},
   "source": [
    "<b>Unique Values</b>"
   ]
  },
  {
   "cell_type": "code",
   "execution_count": 7,
   "id": "4b000f53",
   "metadata": {},
   "outputs": [
    {
     "data": {
      "text/html": [
       "<div>\n",
       "<style scoped>\n",
       "    .dataframe tbody tr th:only-of-type {\n",
       "        vertical-align: middle;\n",
       "    }\n",
       "\n",
       "    .dataframe tbody tr th {\n",
       "        vertical-align: top;\n",
       "    }\n",
       "\n",
       "    .dataframe thead th {\n",
       "        text-align: right;\n",
       "    }\n",
       "</style>\n",
       "<table border=\"1\" class=\"dataframe\">\n",
       "  <thead>\n",
       "    <tr style=\"text-align: right;\">\n",
       "      <th></th>\n",
       "      <th># of unique values</th>\n",
       "    </tr>\n",
       "  </thead>\n",
       "  <tbody>\n",
       "    <tr>\n",
       "      <th>HAEMATOCRIT</th>\n",
       "      <td>326</td>\n",
       "    </tr>\n",
       "    <tr>\n",
       "      <th>HAEMOGLOBINS</th>\n",
       "      <td>128</td>\n",
       "    </tr>\n",
       "    <tr>\n",
       "      <th>ERYTHROCYTE</th>\n",
       "      <td>433</td>\n",
       "    </tr>\n",
       "    <tr>\n",
       "      <th>LEUCOCYTE</th>\n",
       "      <td>276</td>\n",
       "    </tr>\n",
       "    <tr>\n",
       "      <th>THROMBOCYTE</th>\n",
       "      <td>554</td>\n",
       "    </tr>\n",
       "    <tr>\n",
       "      <th>MCH</th>\n",
       "      <td>189</td>\n",
       "    </tr>\n",
       "    <tr>\n",
       "      <th>MCHC</th>\n",
       "      <td>105</td>\n",
       "    </tr>\n",
       "    <tr>\n",
       "      <th>MCV</th>\n",
       "      <td>406</td>\n",
       "    </tr>\n",
       "    <tr>\n",
       "      <th>AGE</th>\n",
       "      <td>95</td>\n",
       "    </tr>\n",
       "    <tr>\n",
       "      <th>SEX</th>\n",
       "      <td>2</td>\n",
       "    </tr>\n",
       "    <tr>\n",
       "      <th>SOURCE</th>\n",
       "      <td>2</td>\n",
       "    </tr>\n",
       "  </tbody>\n",
       "</table>\n",
       "</div>"
      ],
      "text/plain": [
       "              # of unique values\n",
       "HAEMATOCRIT                  326\n",
       "HAEMOGLOBINS                 128\n",
       "ERYTHROCYTE                  433\n",
       "LEUCOCYTE                    276\n",
       "THROMBOCYTE                  554\n",
       "MCH                          189\n",
       "MCHC                         105\n",
       "MCV                          406\n",
       "AGE                           95\n",
       "SEX                            2\n",
       "SOURCE                         2"
      ]
     },
     "execution_count": 7,
     "metadata": {},
     "output_type": "execute_result"
    }
   ],
   "source": [
    "patient_result_df.nunique().to_frame(name='# of unique values')"
   ]
  },
  {
   "cell_type": "markdown",
   "id": "84c3f0b6",
   "metadata": {},
   "source": [
    "<a id=\"load_featuregroup\"></a>\n",
    "### 3.2. Create feature store logical entities"
   ]
  },
  {
   "cell_type": "markdown",
   "id": "f4cf12e7",
   "metadata": {},
   "source": [
    "#### 3.2.1 Feature Store\n",
    "Feature store is the top level entity for feature store service"
   ]
  },
  {
   "cell_type": "code",
   "execution_count": 8,
   "id": "fc9ce3ef",
   "metadata": {
    "pycharm": {
     "is_executing": true
    }
   },
   "outputs": [],
   "source": [
    "feature_store_resource = (\n",
    "    FeatureStore().\n",
    "    with_description(\"Electronic Heath Data consisting of Patient Test Results\").\n",
    "    with_compartment_id(compartment_id).\n",
    "    with_display_name(\"EHR details\").\n",
    "    with_offline_config(metastore_id=metastore_id)\n",
    ")"
   ]
  },
  {
   "cell_type": "markdown",
   "id": "f2f36a6e",
   "metadata": {},
   "source": [
    "<a id=\"create_feature_store\"></a>\n",
    "##### Create Feature Store\n",
    "\n",
    "Call the ```.create()``` method of the Feature store instance to create a feature store."
   ]
  },
  {
   "cell_type": "code",
   "execution_count": 9,
   "id": "47916f67",
   "metadata": {
    "pycharm": {
     "is_executing": true
    }
   },
   "outputs": [
    {
     "data": {
      "text/plain": [
       "\n",
       "kind: featurestore\n",
       "spec:\n",
       "  compartmentId: ocid1.tenancy.oc1..aaaaaaaa462hfhplpx652b32ix62xrdijppq2c7okwcqjlgrbknhgtj2kofa\n",
       "  description: Electronic Heath Data consisting of Patient Test Results\n",
       "  displayName: EHR details\n",
       "  id: B5D18A2B5D08F462AC230FBEAF9032BF\n",
       "  offlineConfig:\n",
       "    metastoreId: ocid1.datacatalogmetastore.oc1.iad.amaaaaaabiudgxya2ipeqjr2m7npnn3kboq4s27erl3ts56wggl6ls6gpn3q\n",
       "type: featureStore"
      ]
     },
     "execution_count": 9,
     "metadata": {},
     "output_type": "execute_result"
    }
   ],
   "source": [
    "feature_store = feature_store_resource.create()\n",
    "feature_store"
   ]
  },
  {
   "cell_type": "markdown",
   "id": "bc692171",
   "metadata": {},
   "source": [
    "#### 3.2.2 Entity\n",
    "An entity is a group of semantically related features."
   ]
  },
  {
   "cell_type": "code",
   "execution_count": 10,
   "id": "2b20c158",
   "metadata": {},
   "outputs": [
    {
     "data": {
      "text/plain": [
       "\n",
       "kind: entity\n",
       "spec:\n",
       "  compartmentId: ocid1.tenancy.oc1..aaaaaaaa462hfhplpx652b32ix62xrdijppq2c7okwcqjlgrbknhgtj2kofa\n",
       "  description: Electronic Health Record predictions\n",
       "  featureStoreId: B5D18A2B5D08F462AC230FBEAF9032BF\n",
       "  id: AA52BA1722E547CE8B83607D5F6CE55B\n",
       "  name: EHR\n",
       "type: entity"
      ]
     },
     "execution_count": 10,
     "metadata": {},
     "output_type": "execute_result"
    }
   ],
   "source": [
    "entity = feature_store.create_entity(\n",
    "    display_name=\"EHR\",\n",
    "    description=\"Electronic Health Record predictions\"\n",
    ")\n",
    "entity"
   ]
  },
  {
   "cell_type": "markdown",
   "id": "fbd3a049",
   "metadata": {},
   "source": [
    "#### 3.2.3 Transformation\n",
    "Transformations in a feature store refers to the operations and processes applied to raw data to create, modify or derive new features that can be used as inputs for ML Models\n"
   ]
  },
  {
   "cell_type": "markdown",
   "id": "0eaa9d3a",
   "metadata": {},
   "source": [
    "Below python function defines 2 PANDAS transformations which are used for feature engineering.<code>label_encoder_transformation</code> performs label encoding to convert  categorical variables into numerical format. It take the column label as input keyword argument that needs to be encoded. Another transformation is  <code>min_max_scaler</code> which scale the features to a range of 0 to 1<br>\n",
    "<code>chained_transformation</code> chains both of these transformation by first performing imputation and then\n",
    "doing label encoding on the returned dataframe."
   ]
  },
  {
   "cell_type": "code",
   "execution_count": 11,
   "id": "bdc83fda",
   "metadata": {},
   "outputs": [],
   "source": [
    "def chained_transformation(patient_result_df, **transformation_args):\n",
    "    def label_encoder_transformation(patient_result_df, **transformation_args):\n",
    "        from sklearn.preprocessing import LabelEncoder\n",
    "        # creating instance of labelencoder\n",
    "        labelencoder = LabelEncoder()\n",
    "        result_df = patient_result_df.copy()\n",
    "        column_labels= transformation_args.get(\"label_encode_column\")\n",
    "        if isinstance(column_labels,list):\n",
    "            for col in column_labels:\n",
    "                result_df[col] = labelencoder.fit_transform(result_df[col])\n",
    "        elif isinstance(column_labels, str):\n",
    "             result_df[column_labels] = labelencoder.fit_transform(result_df[column_labels])\n",
    "        else:\n",
    "            return None\n",
    "        return result_df\n",
    "    \n",
    "    def min_max_scaler(patient_result_df, **transformation_args):\n",
    "        from sklearn.preprocessing import MinMaxScaler\n",
    "        final_result_df = patient_result_df.copy()\n",
    "        scaler = MinMaxScaler(feature_range=(0, 1))\n",
    "        column_labels= transformation_args.get(\"scaling_column_labels\")\n",
    "        final_result_df[column_labels] = scaler.fit_transform(final_result_df[column_labels])\n",
    "        return patient_result_df\n",
    "    \n",
    "    def feature_removal(input_df, **transformation_args):\n",
    "        output_df = input_df.copy()\n",
    "        output_df.drop(transformation_args.get(\"redundant_feature_label\"), axis=1, inplace=True)\n",
    "        return output_df\n",
    "\n",
    "    out1 = label_encoder_transformation(patient_result_df, **transformation_args)\n",
    "    out2 = min_max_scaler(out1, **transformation_args)\n",
    "    return feature_removal(out2, **transformation_args)"
   ]
  },
  {
   "cell_type": "code",
   "execution_count": 12,
   "id": "5b824c0d",
   "metadata": {},
   "outputs": [],
   "source": [
    "transformation_args = {\n",
    "    \"label_encode_column\": [\"SEX\",\"SOURCE\"],\n",
    "    \"scaling_column_labels\": num_features,\n",
    "    \"redundant_feature_label\": [\"MCH\", \"MCHC\", \"MCV\"]\n",
    "}\n"
   ]
  },
  {
   "cell_type": "code",
   "execution_count": 13,
   "id": "bc22c753",
   "metadata": {},
   "outputs": [
    {
     "data": {
      "text/plain": [
       "\n",
       "kind: transformation\n",
       "spec:\n",
       "  compartmentId: ocid1.tenancy.oc1..aaaaaaaa462hfhplpx652b32ix62xrdijppq2c7okwcqjlgrbknhgtj2kofa\n",
       "  description: transformation to perform feature engineering\n",
       "  displayName: chained_transformation\n",
       "  featureStoreId: B5D18A2B5D08F462AC230FBEAF9032BF\n",
       "  id: 37E3C80B27B814591B072EFC53FABE4E\n",
       "  sourceCode: ZGVmIGNoYWluZWRfdHJhbnNmb3JtYXRpb24ocGF0aWVudF9yZXN1bHRfZGYsICoqdHJhbnNmb3JtYXRpb25fYXJncyk6CiAgICBkZWYgbGFiZWxfZW5jb2Rlcl90cmFuc2Zvcm1hdGlvbihwYXRpZW50X3Jlc3VsdF9kZiwgKip0cmFuc2Zvcm1hdGlvbl9hcmdzKToKICAgICAgICBmcm9tIHNrbGVhcm4ucHJlcHJvY2Vzc2luZyBpbXBvcnQgTGFiZWxFbmNvZGVyCiAgICAgICAgIyBjcmVhdGluZyBpbnN0YW5jZSBvZiBsYWJlbGVuY29kZXIKICAgICAgICBsYWJlbGVuY29kZXIgPSBMYWJlbEVuY29kZXIoKQogICAgICAgIHJlc3VsdF9kZiA9IHBhdGllbnRfcmVzdWx0X2RmLmNvcHkoKQogICAgICAgIGNvbHVtbl9sYWJlbHM9IHRyYW5zZm9ybWF0aW9uX2FyZ3MuZ2V0KCJsYWJlbF9lbmNvZGVfY29sdW1uIikKICAgICAgICBpZiBpc2luc3RhbmNlKGNvbHVtbl9sYWJlbHMsbGlzdCk6CiAgICAgICAgICAgIGZvciBjb2wgaW4gY29sdW1uX2xhYmVsczoKICAgICAgICAgICAgICAgIHJlc3VsdF9kZltjb2xdID0gbGFiZWxlbmNvZGVyLmZpdF90cmFuc2Zvcm0ocmVzdWx0X2RmW2NvbF0pCiAgICAgICAgZWxpZiBpc2luc3RhbmNlKGNvbHVtbl9sYWJlbHMsIHN0cik6CiAgICAgICAgICAgICByZXN1bHRfZGZbY29sdW1uX2xhYmVsc10gPSBsYWJlbGVuY29kZXIuZml0X3RyYW5zZm9ybShyZXN1bHRfZGZbY29sdW1uX2xhYmVsc10pCiAgICAgICAgZWxzZToKICAgICAgICAgICAgcmV0dXJuIE5vbmUKICAgICAgICByZXR1cm4gcmVzdWx0X2RmCiAgICAKICAgIGRlZiBtaW5fbWF4X3NjYWxlcihwYXRpZW50X3Jlc3VsdF9kZiwgKip0cmFuc2Zvcm1hdGlvbl9hcmdzKToKICAgICAgICBmcm9tIHNrbGVhcm4ucHJlcHJvY2Vzc2luZyBpbXBvcnQgTWluTWF4U2NhbGVyCiAgICAgICAgZmluYWxfcmVzdWx0X2RmID0gcGF0aWVudF9yZXN1bHRfZGYuY29weSgpCiAgICAgICAgc2NhbGVyID0gTWluTWF4U2NhbGVyKGZlYXR1cmVfcmFuZ2U9KDAsIDEpKQogICAgICAgIGNvbHVtbl9sYWJlbHM9IHRyYW5zZm9ybWF0aW9uX2FyZ3MuZ2V0KCJzY2FsaW5nX2NvbHVtbl9sYWJlbHMiKQogICAgICAgIGZpbmFsX3Jlc3VsdF9kZltjb2x1bW5fbGFiZWxzXSA9IHNjYWxlci5maXRfdHJhbnNmb3JtKGZpbmFsX3Jlc3VsdF9kZltjb2x1bW5fbGFiZWxzXSkKICAgICAgICByZXR1cm4gcGF0aWVudF9yZXN1bHRfZGYKICAgIAogICAgZGVmIGZlYXR1cmVfcmVtb3ZhbChpbnB1dF9kZiwgKip0cmFuc2Zvcm1hdGlvbl9hcmdzKToKICAgICAgICBvdXRwdXRfZGYgPSBpbnB1dF9kZi5jb3B5KCkKICAgICAgICBvdXRwdXRfZGYuZHJvcCh0cmFuc2Zvcm1hdGlvbl9hcmdzLmdldCgicmVkdW5kYW50X2ZlYXR1cmVfbGFiZWwiKSwgYXhpcz0xLCBpbnBsYWNlPVRydWUpCiAgICAgICAgcmV0dXJuIG91dHB1dF9kZgoKICAgIG91dDEgPSBsYWJlbF9lbmNvZGVyX3RyYW5zZm9ybWF0aW9uKHBhdGllbnRfcmVzdWx0X2RmLCAqKnRyYW5zZm9ybWF0aW9uX2FyZ3MpCiAgICBvdXQyID0gbWluX21heF9zY2FsZXIob3V0MSwgKip0cmFuc2Zvcm1hdGlvbl9hcmdzKQogICAgcmV0dXJuIGZlYXR1cmVfcmVtb3ZhbChvdXQyLCAqKnRyYW5zZm9ybWF0aW9uX2FyZ3MpCg==\n",
       "  transformationMode: pandas\n",
       "type: transformation"
      ]
     },
     "execution_count": 13,
     "metadata": {},
     "output_type": "execute_result"
    }
   ],
   "source": [
    "from ads.feature_store.transformation import Transformation,TransformationMode\n",
    "\n",
    "transformation = (\n",
    "    Transformation()\n",
    "    .with_display_name(\"chained_transformation\")\n",
    "    .with_feature_store_id(feature_store.id)\n",
    "    .with_source_code_function(chained_transformation)\n",
    "    .with_transformation_mode(TransformationMode.PANDAS)\n",
    "    .with_description(\"transformation to perform feature engineering\")\n",
    "    .with_compartment_id(compartment_id)\n",
    ")\n",
    "\n",
    "transformation.create()"
   ]
  },
  {
   "cell_type": "markdown",
   "id": "88b3c26b",
   "metadata": {},
   "source": [
    "#### 3.2.3 Feature group\n",
    "A feature group is an object that represents a logical group of time-series feature data as it is found in a datasource."
   ]
  },
  {
   "cell_type": "markdown",
   "id": "ecc6d191",
   "metadata": {},
   "source": [
    "<a id=\"create_feature_group_ehr\"></a>\n",
    "##### Patient's EHR Feature Group\n",
    "\n",
    "Create feature group for EHR\n",
    "\n",
    "<div>\n",
    "    <img src=\"https://objectstorage.us-ashburn-1.oraclecloud.com/p/hh2NOgFJbVSg4amcLM3G3hkTuHyBD-8aE_iCsuZKEvIav1Wlld-3zfCawG4ycQGN/n/ociodscdev/b/oci-feature-store/o/beta/_images/feature_group_flights.gif\" width=\"700\" height=\"350\" />\n",
    "</div>"
   ]
  },
  {
   "cell_type": "code",
   "execution_count": 14,
   "id": "c2b9fc0b",
   "metadata": {},
   "outputs": [
    {
     "name": "stdout",
     "output_type": "stream",
     "text": [
      "WARNING:ads.common.oci_client:OCI SDK with feature store support is not installed\n"
     ]
    },
    {
     "name": "stderr",
     "output_type": "stream",
     "text": [
      "Setting default log level to \"WARN\".\n",
      "To adjust logging level use sc.setLogLevel(newLevel). For SparkR, use setLogLevel(newLevel).\n",
      "2023/12/12 03:54:43 NativeCodeLoader: Unable to load native-hadoop library for your platform... using builtin-java classes where applicable\n"
     ]
    },
    {
     "name": "stdout",
     "output_type": "stream",
     "text": [
      "WARNING:py.warnings:/home/datascience/conda/fspyspark32_p38_cpu_v2/lib/python3.8/site-packages/pyspark/sql/pandas/utils.py:35: DeprecationWarning: distutils Version classes are deprecated. Use packaging.version instead.\n",
      "  if LooseVersion(pandas.__version__) < LooseVersion(minimum_pandas_version):\n",
      "\n",
      "WARNING:py.warnings:/home/datascience/conda/fspyspark32_p38_cpu_v2/lib/python3.8/site-packages/pyspark/sql/pandas/utils.py:57: DeprecationWarning: distutils Version classes are deprecated. Use packaging.version instead.\n",
      "  if LooseVersion(pyarrow.__version__) < LooseVersion(minimum_pyarrow_version):\n",
      "\n",
      "WARNING:py.warnings:/home/datascience/conda/fspyspark32_p38_cpu_v2/lib/python3.8/site-packages/pyspark/sql/pandas/conversion.py:471: FutureWarning: iteritems is deprecated and will be removed in a future version. Use .items instead.\n",
      "  arrow_data = [[(c, t) for (_, c), t in zip(pdf_slice.iteritems(), arrow_types)]\n",
      "\n"
     ]
    }
   ],
   "source": [
    "feature_group_ehr = (\n",
    "    FeatureGroup()\n",
    "    .with_feature_store_id(feature_store.id)\n",
    "    .with_primary_keys([])\n",
    "    .with_name(\"ehr_feature_group\")\n",
    "    .with_entity_id(entity.id)\n",
    "    .with_compartment_id(compartment_id)\n",
    "    .with_schema_details_from_dataframe(patient_result_df)\n",
    "    .with_transformation_id(transformation.id)\n",
    "    .with_transformation_kwargs(transformation_args)\n",
    ")"
   ]
  },
  {
   "cell_type": "code",
   "execution_count": 15,
   "id": "f6258198",
   "metadata": {
    "collapsed": false,
    "jupyter": {
     "outputs_hidden": false
    }
   },
   "outputs": [
    {
     "data": {
      "text/plain": [
       "\n",
       "kind: FeatureGroup\n",
       "spec:\n",
       "  compartmentId: ocid1.tenancy.oc1..aaaaaaaa462hfhplpx652b32ix62xrdijppq2c7okwcqjlgrbknhgtj2kofa\n",
       "  entityId: AA52BA1722E547CE8B83607D5F6CE55B\n",
       "  featureStoreId: B5D18A2B5D08F462AC230FBEAF9032BF\n",
       "  id: BE716DA76DD4E94BBE745C02FA582318\n",
       "  inputFeatureDetails:\n",
       "  - featureType: DOUBLE\n",
       "    name: HAEMATOCRIT\n",
       "    orderNumber: 1\n",
       "  - featureType: DOUBLE\n",
       "    name: HAEMOGLOBINS\n",
       "    orderNumber: 2\n",
       "  - featureType: DOUBLE\n",
       "    name: ERYTHROCYTE\n",
       "    orderNumber: 3\n",
       "  - featureType: DOUBLE\n",
       "    name: LEUCOCYTE\n",
       "    orderNumber: 4\n",
       "  - featureType: LONG\n",
       "    name: THROMBOCYTE\n",
       "    orderNumber: 5\n",
       "  - featureType: DOUBLE\n",
       "    name: MCH\n",
       "    orderNumber: 6\n",
       "  - featureType: DOUBLE\n",
       "    name: MCHC\n",
       "    orderNumber: 7\n",
       "  - featureType: DOUBLE\n",
       "    name: MCV\n",
       "    orderNumber: 8\n",
       "  - featureType: LONG\n",
       "    name: AGE\n",
       "    orderNumber: 9\n",
       "  - featureType: STRING\n",
       "    name: SEX\n",
       "    orderNumber: 10\n",
       "  - featureType: STRING\n",
       "    name: SOURCE\n",
       "    orderNumber: 11\n",
       "  isInferSchema: true\n",
       "  name: ehr_feature_group\n",
       "  primaryKeys:\n",
       "    items: []\n",
       "  statisticsConfig:\n",
       "    isEnabled: true\n",
       "  transformationId: 37E3C80B27B814591B072EFC53FABE4E\n",
       "  transformationParameters: eyJsYWJlbF9lbmNvZGVfY29sdW1uIjogWyJTRVgiLCAiU09VUkNFIl0sICJzY2FsaW5nX2NvbHVtbl9sYWJlbHMiOiBbIkhBRU1BVE9DUklUIiwgIkhBRU1PR0xPQklOUyIsICJFUllUSFJPQ1lURSIsICJMRVVDT0NZVEUiLCAiVEhST01CT0NZVEUiLCAiTUNIIiwgIk1DSEMiLCAiTUNWIiwgIkFHRSJdLCAicmVkdW5kYW50X2ZlYXR1cmVfbGFiZWwiOiBbIk1DSCIsICJNQ0hDIiwgIk1DViJdfQ==\n",
       "type: featureGroup"
      ]
     },
     "execution_count": 15,
     "metadata": {},
     "output_type": "execute_result"
    }
   ],
   "source": [
    "feature_group_ehr.create()"
   ]
  },
  {
   "cell_type": "code",
   "execution_count": 16,
   "id": "ea1d069d",
   "metadata": {},
   "outputs": [
    {
     "data": {
      "image/svg+xml": [
       "<?xml version=\"1.0\" encoding=\"UTF-8\" standalone=\"no\"?>\n",
       "<!DOCTYPE svg PUBLIC \"-//W3C//DTD SVG 1.1//EN\"\n",
       " \"http://www.w3.org/Graphics/SVG/1.1/DTD/svg11.dtd\">\n",
       "<!-- Generated by graphviz version 2.50.0 (0)\n",
       " -->\n",
       "<!-- Pages: 1 -->\n",
       "<svg width=\"524pt\" height=\"138pt\"\n",
       " viewBox=\"0.00 0.00 524.00 138.00\" xmlns=\"http://www.w3.org/2000/svg\" xmlns:xlink=\"http://www.w3.org/1999/xlink\">\n",
       "<g id=\"graph0\" class=\"graph\" transform=\"scale(1 1) rotate(0) translate(4 134)\">\n",
       "<polygon fill=\"white\" stroke=\"transparent\" points=\"-4,4 -4,-134 520,-134 520,4 -4,4\"/>\n",
       "<!-- B5D18A2B5D08F462AC230FBEAF9032BF -->\n",
       "<g id=\"node1\" class=\"node\">\n",
       "<title>B5D18A2B5D08F462AC230FBEAF9032BF</title>\n",
       "<path fill=\"#dedede\" stroke=\"#dedede\" d=\"M133,-93C133,-93 12,-93 12,-93 6,-93 0,-87 0,-81 0,-81 0,-49 0,-49 0,-43 6,-37 12,-37 12,-37 133,-37 133,-37 139,-37 145,-43 145,-49 145,-49 145,-81 145,-81 145,-87 139,-93 133,-93\"/>\n",
       "<text text-anchor=\"start\" x=\"41\" y=\"-76.2\" font-family=\"Helvetica,Arial,sans-serif\" font-size=\"11.00\">EHR details</text>\n",
       "<text text-anchor=\"start\" x=\"48\" y=\"-61.4\" font-family=\"Helvetica,Arial,sans-serif\" font-size=\"7.00\">Feature Store</text>\n",
       "<text text-anchor=\"start\" x=\"12.5\" y=\"-47.4\" font-family=\"Courier New\" font-size=\"7.00\">B5D18A2B5D08F462AC230FBEAF9032BF</text>\n",
       "</g>\n",
       "<!-- AA52BA1722E547CE8B83607D5F6CE55B -->\n",
       "<g id=\"node2\" class=\"node\">\n",
       "<title>AA52BA1722E547CE8B83607D5F6CE55B</title>\n",
       "<path fill=\"#dedede\" stroke=\"#dedede\" d=\"M318.5,-130C318.5,-130 197.5,-130 197.5,-130 191.5,-130 185.5,-124 185.5,-118 185.5,-118 185.5,-86 185.5,-86 185.5,-80 191.5,-74 197.5,-74 197.5,-74 318.5,-74 318.5,-74 324.5,-74 330.5,-80 330.5,-86 330.5,-86 330.5,-118 330.5,-118 330.5,-124 324.5,-130 318.5,-130\"/>\n",
       "<text text-anchor=\"start\" x=\"247\" y=\"-113.2\" font-family=\"Helvetica,Arial,sans-serif\" font-size=\"11.00\">EHR</text>\n",
       "<text text-anchor=\"start\" x=\"247.5\" y=\"-98.4\" font-family=\"Helvetica,Arial,sans-serif\" font-size=\"7.00\">Entity</text>\n",
       "<text text-anchor=\"start\" x=\"198\" y=\"-84.4\" font-family=\"Courier New\" font-size=\"7.00\">AA52BA1722E547CE8B83607D5F6CE55B</text>\n",
       "</g>\n",
       "<!-- B5D18A2B5D08F462AC230FBEAF9032BF&#45;&gt;AA52BA1722E547CE8B83607D5F6CE55B -->\n",
       "<g id=\"edge1\" class=\"edge\">\n",
       "<title>B5D18A2B5D08F462AC230FBEAF9032BF&#45;&gt;AA52BA1722E547CE8B83607D5F6CE55B</title>\n",
       "<path fill=\"none\" stroke=\"black\" d=\"M145.23,-79.46C155.11,-81.46 165.31,-83.51 175.35,-85.54\"/>\n",
       "<polygon fill=\"black\" stroke=\"black\" points=\"174.82,-89 185.32,-87.55 176.2,-82.14 174.82,-89\"/>\n",
       "</g>\n",
       "<!-- 37E3C80B27B814591B072EFC53FABE4E -->\n",
       "<g id=\"node3\" class=\"node\">\n",
       "<title>37E3C80B27B814591B072EFC53FABE4E</title>\n",
       "<path fill=\"#dedede\" stroke=\"#dedede\" d=\"M323,-56C323,-56 193,-56 193,-56 187,-56 181,-50 181,-44 181,-44 181,-12 181,-12 181,-6 187,0 193,0 193,0 323,0 323,0 329,0 335,-6 335,-12 335,-12 335,-44 335,-44 335,-50 329,-56 323,-56\"/>\n",
       "<text text-anchor=\"start\" x=\"193\" y=\"-39.2\" font-family=\"Helvetica,Arial,sans-serif\" font-size=\"11.00\">chained_transformation</text>\n",
       "<text text-anchor=\"start\" x=\"230.5\" y=\"-24.4\" font-family=\"Helvetica,Arial,sans-serif\" font-size=\"7.00\">Transformation</text>\n",
       "<text text-anchor=\"start\" x=\"197.5\" y=\"-10.4\" font-family=\"Courier New\" font-size=\"7.00\">37E3C80B27B814591B072EFC53FABE4E</text>\n",
       "</g>\n",
       "<!-- B5D18A2B5D08F462AC230FBEAF9032BF&#45;&gt;37E3C80B27B814591B072EFC53FABE4E -->\n",
       "<g id=\"edge2\" class=\"edge\">\n",
       "<title>B5D18A2B5D08F462AC230FBEAF9032BF&#45;&gt;37E3C80B27B814591B072EFC53FABE4E</title>\n",
       "<path fill=\"none\" stroke=\"black\" d=\"M145.23,-50.54C153.62,-48.85 162.23,-47.11 170.78,-45.38\"/>\n",
       "<polygon fill=\"black\" stroke=\"black\" points=\"171.66,-48.78 180.77,-43.37 170.28,-41.92 171.66,-48.78\"/>\n",
       "</g>\n",
       "<!-- BE716DA76DD4E94BBE745C02FA582318 -->\n",
       "<g id=\"node4\" class=\"node\">\n",
       "<title>BE716DA76DD4E94BBE745C02FA582318</title>\n",
       "<path fill=\"#dedede\" stroke=\"#dedede\" d=\"M504,-93C504,-93 383,-93 383,-93 377,-93 371,-87 371,-81 371,-81 371,-49 371,-49 371,-43 377,-37 383,-37 383,-37 504,-37 504,-37 510,-37 516,-43 516,-49 516,-49 516,-81 516,-81 516,-87 510,-93 504,-93\"/>\n",
       "<text text-anchor=\"start\" x=\"394\" y=\"-76.2\" font-family=\"Helvetica,Arial,sans-serif\" font-size=\"11.00\">ehr_feature_group</text>\n",
       "<text text-anchor=\"start\" x=\"418\" y=\"-61.4\" font-family=\"Helvetica,Arial,sans-serif\" font-size=\"7.00\">Feature Group</text>\n",
       "<text text-anchor=\"start\" x=\"383.5\" y=\"-47.4\" font-family=\"Courier New\" font-size=\"7.00\">BE716DA76DD4E94BBE745C02FA582318</text>\n",
       "</g>\n",
       "<!-- AA52BA1722E547CE8B83607D5F6CE55B&#45;&gt;BE716DA76DD4E94BBE745C02FA582318 -->\n",
       "<g id=\"edge3\" class=\"edge\">\n",
       "<title>AA52BA1722E547CE8B83607D5F6CE55B&#45;&gt;BE716DA76DD4E94BBE745C02FA582318</title>\n",
       "<path fill=\"none\" stroke=\"black\" d=\"M330.73,-87.54C340.61,-85.54 350.81,-83.49 360.85,-81.46\"/>\n",
       "<polygon fill=\"black\" stroke=\"black\" points=\"361.7,-84.86 370.82,-79.45 360.32,-78 361.7,-84.86\"/>\n",
       "</g>\n",
       "<!-- 37E3C80B27B814591B072EFC53FABE4E&#45;&gt;BE716DA76DD4E94BBE745C02FA582318 -->\n",
       "<g id=\"edge4\" class=\"edge\">\n",
       "<title>37E3C80B27B814591B072EFC53FABE4E&#45;&gt;BE716DA76DD4E94BBE745C02FA582318</title>\n",
       "<path fill=\"none\" stroke=\"black\" d=\"M335.23,-43.37C343.72,-45.08 352.4,-46.83 360.95,-48.56\"/>\n",
       "<polygon fill=\"black\" stroke=\"black\" points=\"360.43,-52.02 370.92,-50.57 361.81,-45.16 360.43,-52.02\"/>\n",
       "</g>\n",
       "</g>\n",
       "</svg>\n"
      ],
      "text/plain": [
       "<graphviz.dot.Digraph at 0x7fc897589eb0>"
      ]
     },
     "metadata": {},
     "output_type": "display_data"
    }
   ],
   "source": [
    "feature_group_ehr.show()"
   ]
  },
  {
   "cell_type": "markdown",
   "id": "88f6dcc4",
   "metadata": {},
   "source": [
    "##### Expectations\n",
    "\n",
    "Update feature group with expectations"
   ]
  },
  {
   "cell_type": "markdown",
   "id": "39c3085c",
   "metadata": {},
   "source": [
    "\n"
   ]
  },
  {
   "cell_type": "code",
   "execution_count": 17,
   "id": "a705b41a",
   "metadata": {},
   "outputs": [
    {
     "data": {
      "text/plain": [
       "{\"expectation_type\": \"expect_column_values_to_be_between\", \"kwargs\": {\"column\": \"HAEMOGLOBINS\", \"min_value\": 0, \"max_value\": 30}, \"meta\": {}}"
      ]
     },
     "execution_count": 17,
     "metadata": {},
     "output_type": "execute_result"
    }
   ],
   "source": [
    "expectation_suite_ehr = ExpectationSuite(\n",
    "    expectation_suite_name=\"test_hcm_df\"\n",
    ")\n",
    "expectation_suite_ehr.add_expectation(\n",
    "    ExpectationConfiguration(\n",
    "        expectation_type=\"expect_column_values_to_not_be_null\",\n",
    "        kwargs={\"column\": \"AGE\"},\n",
    "    )\n",
    ")\n",
    "expectation_suite_ehr.add_expectation(\n",
    "    ExpectationConfiguration(\n",
    "        expectation_type=\"expect_column_values_to_be_between\",\n",
    "        kwargs={\"column\": \"HAEMOGLOBINS\", \"min_value\": 0, \"max_value\": 30},\n",
    "    )\n",
    ")"
   ]
  },
  {
   "cell_type": "code",
   "execution_count": 18,
   "id": "09d0c340",
   "metadata": {},
   "outputs": [
    {
     "data": {
      "text/plain": [
       "\n",
       "kind: FeatureGroup\n",
       "spec:\n",
       "  compartmentId: ocid1.tenancy.oc1..aaaaaaaa462hfhplpx652b32ix62xrdijppq2c7okwcqjlgrbknhgtj2kofa\n",
       "  entityId: AA52BA1722E547CE8B83607D5F6CE55B\n",
       "  expectationDetails:\n",
       "    createRuleDetails:\n",
       "    - arguments:\n",
       "        column: AGE\n",
       "      levelType: ERROR\n",
       "      name: Rule-0\n",
       "      ruleType: expect_column_values_to_not_be_null\n",
       "    - arguments:\n",
       "        column: HAEMOGLOBINS\n",
       "        max_value: 30\n",
       "        min_value: 0\n",
       "      levelType: ERROR\n",
       "      name: Rule-1\n",
       "      ruleType: expect_column_values_to_be_between\n",
       "    expectationType: STRICT\n",
       "    name: test_hcm_df\n",
       "    validationEngineType: GREAT_EXPECTATIONS\n",
       "  featureStoreId: B5D18A2B5D08F462AC230FBEAF9032BF\n",
       "  id: BE716DA76DD4E94BBE745C02FA582318\n",
       "  inputFeatureDetails:\n",
       "  - featureType: DOUBLE\n",
       "    name: HAEMATOCRIT\n",
       "    orderNumber: 1\n",
       "  - featureType: DOUBLE\n",
       "    name: HAEMOGLOBINS\n",
       "    orderNumber: 2\n",
       "  - featureType: DOUBLE\n",
       "    name: ERYTHROCYTE\n",
       "    orderNumber: 3\n",
       "  - featureType: DOUBLE\n",
       "    name: LEUCOCYTE\n",
       "    orderNumber: 4\n",
       "  - featureType: LONG\n",
       "    name: THROMBOCYTE\n",
       "    orderNumber: 5\n",
       "  - featureType: DOUBLE\n",
       "    name: MCH\n",
       "    orderNumber: 6\n",
       "  - featureType: DOUBLE\n",
       "    name: MCHC\n",
       "    orderNumber: 7\n",
       "  - featureType: DOUBLE\n",
       "    name: MCV\n",
       "    orderNumber: 8\n",
       "  - featureType: LONG\n",
       "    name: AGE\n",
       "    orderNumber: 9\n",
       "  - featureType: STRING\n",
       "    name: SEX\n",
       "    orderNumber: 10\n",
       "  - featureType: STRING\n",
       "    name: SOURCE\n",
       "    orderNumber: 11\n",
       "  isInferSchema: true\n",
       "  name: ehr_feature_group\n",
       "  primaryKeys:\n",
       "    items: []\n",
       "  statisticsConfig:\n",
       "    isEnabled: true\n",
       "  transformationId: 37E3C80B27B814591B072EFC53FABE4E\n",
       "  transformationParameters: eyJsYWJlbF9lbmNvZGVfY29sdW1uIjogWyJTRVgiLCAiU09VUkNFIl0sICJzY2FsaW5nX2NvbHVtbl9sYWJlbHMiOiBbIkhBRU1BVE9DUklUIiwgIkhBRU1PR0xPQklOUyIsICJFUllUSFJPQ1lURSIsICJMRVVDT0NZVEUiLCAiVEhST01CT0NZVEUiLCAiTUNIIiwgIk1DSEMiLCAiTUNWIiwgIkFHRSJdLCAicmVkdW5kYW50X2ZlYXR1cmVfbGFiZWwiOiBbIk1DSCIsICJNQ0hDIiwgIk1DViJdfQ==\n",
       "type: featureGroup"
      ]
     },
     "execution_count": 18,
     "metadata": {},
     "output_type": "execute_result"
    }
   ],
   "source": [
    "from ads.feature_store.common.enums import ExpectationType\n",
    "\n",
    "feature_group_ehr.with_expectation_suite(expectation_suite_ehr, expectation_type = ExpectationType.STRICT)\n",
    "feature_group_ehr.update()"
   ]
  },
  {
   "cell_type": "code",
   "execution_count": 19,
   "id": "14384006",
   "metadata": {},
   "outputs": [
    {
     "name": "stderr",
     "output_type": "stream",
     "text": [
      "Hive Session ID = a59ce864-7c1c-4778-bca5-097b184bf500\n"
     ]
    },
    {
     "name": "stdout",
     "output_type": "stream",
     "text": [
      "INFO:great_expectations.validator.validator:\t2 expectation(s) included in expectation_suite.\n"
     ]
    },
    {
     "data": {
      "application/vnd.jupyter.widget-view+json": {
       "model_id": "2e36f22fe1634ffa8a5932557bb349b1",
       "version_major": 2,
       "version_minor": 0
      },
      "text/plain": [
       "Calculating Metrics:   0%|          | 0/11 [00:00<?, ?it/s]"
      ]
     },
     "metadata": {},
     "output_type": "display_data"
    },
    {
     "name": "stdout",
     "output_type": "stream",
     "text": [
      "INFO:ads.feature_store.common.utils.utility:Validation Summary \n",
      "╒════════════════════╤══════════════════════════╤═══════════════════════════╤═════════════════════════════╤═══════════════════╤═══════════════════════╕\n",
      "│  expectation_type  │  evaluated_expectations  │  successful_expectations  │  unsuccessful_expectations  │  success_percent  │   ingestion_status    │\n",
      "╞════════════════════╪══════════════════════════╪═══════════════════════════╪═════════════════════════════╪═══════════════════╪═══════════════════════╡\n",
      "│       STRICT       │            2             │             2             │              0              │        100        │ Ingestion in progress │\n",
      "╘════════════════════╧══════════════════════════╧═══════════════════════════╧═════════════════════════════╧═══════════════════╧═══════════════════════╛\n",
      "INFO:ads.feature_store.common.utils.utility:Validations Rules Summary \n",
      "╒═════════════════════════════════════╤═════════════════════════════════════════════════════════════╤══════════╕\n",
      "│              rule_type              │                          arguments                          │  status  │\n",
      "╞═════════════════════════════════════╪═════════════════════════════════════════════════════════════╪══════════╡\n",
      "│ expect_column_values_to_not_be_null │                      {'column': 'AGE'}                      │   True   │\n",
      "├─────────────────────────────────────┼─────────────────────────────────────────────────────────────┼──────────┤\n",
      "│ expect_column_values_to_be_between  │ {'column': 'HAEMOGLOBINS', 'min_value': 0, 'max_value': 30} │   True   │\n",
      "╘═════════════════════════════════════╧═════════════════════════════════════════════════════════════╧══════════╛\n",
      "WARNING:py.warnings:/home/datascience/conda/fspyspark32_p38_cpu_v2/lib/python3.8/site-packages/pyspark/sql/pandas/utils.py:35: DeprecationWarning: distutils Version classes are deprecated. Use packaging.version instead.\n",
      "  if LooseVersion(pandas.__version__) < LooseVersion(minimum_pandas_version):\n",
      "\n",
      "WARNING:py.warnings:/home/datascience/conda/fspyspark32_p38_cpu_v2/lib/python3.8/site-packages/pyspark/sql/pandas/utils.py:57: DeprecationWarning: distutils Version classes are deprecated. Use packaging.version instead.\n",
      "  if LooseVersion(pyarrow.__version__) < LooseVersion(minimum_pyarrow_version):\n",
      "\n",
      "WARNING:py.warnings:/home/datascience/conda/fspyspark32_p38_cpu_v2/lib/python3.8/site-packages/pyspark/sql/pandas/conversion.py:471: FutureWarning: iteritems is deprecated and will be removed in a future version. Use .items instead.\n",
      "  arrow_data = [[(c, t) for (_, c), t in zip(pdf_slice.iteritems(), arrow_types)]\n",
      "\n"
     ]
    },
    {
     "name": "stderr",
     "output_type": "stream",
     "text": [
      "[Stage 8:===========================================================(2 + 0) / 2]\r"
     ]
    },
    {
     "name": "stdout",
     "output_type": "stream",
     "text": [
      "INFO:ads.feature_store.common.utils.utility:Ingestion Summary \n",
      "╒══════════════════════════════════╤═══════════════╤════════════════════╤═════════════════╕\n",
      "│            entity_id             │  entity_type  │  ingestion_status  │  error_details  │\n",
      "╞══════════════════════════════════╪═══════════════╪════════════════════╪═════════════════╡\n",
      "│ BE716DA76DD4E94BBE745C02FA582318 │ FEATURE_GROUP │     Succeeded      │      None       │\n",
      "╘══════════════════════════════════╧═══════════════╧════════════════════╧═════════════════╛\n"
     ]
    },
    {
     "name": "stderr",
     "output_type": "stream",
     "text": [
      "                                                                                \r"
     ]
    }
   ],
   "source": [
    "feature_group_ehr.materialise(patient_result_df)"
   ]
  },
  {
   "cell_type": "markdown",
   "id": "05a513ac",
   "metadata": {},
   "source": [
    "<a id=\"explore_featuregroup\"></a>\n",
    "### 3.3. Explore feature groups"
   ]
  },
  {
   "cell_type": "code",
   "execution_count": 20,
   "id": "f4b50709",
   "metadata": {},
   "outputs": [
    {
     "data": {
      "text/html": [
       "<div>\n",
       "<style scoped>\n",
       "    .dataframe tbody tr th:only-of-type {\n",
       "        vertical-align: middle;\n",
       "    }\n",
       "\n",
       "    .dataframe tbody tr th {\n",
       "        vertical-align: top;\n",
       "    }\n",
       "\n",
       "    .dataframe thead th {\n",
       "        text-align: right;\n",
       "    }\n",
       "</style>\n",
       "<table border=\"1\" class=\"dataframe\">\n",
       "  <thead>\n",
       "    <tr style=\"text-align: right;\">\n",
       "      <th></th>\n",
       "      <th>name</th>\n",
       "      <th>type</th>\n",
       "    </tr>\n",
       "  </thead>\n",
       "  <tbody>\n",
       "    <tr>\n",
       "      <th>0</th>\n",
       "      <td>HAEMATOCRIT</td>\n",
       "      <td>DOUBLE</td>\n",
       "    </tr>\n",
       "    <tr>\n",
       "      <th>1</th>\n",
       "      <td>HAEMOGLOBINS</td>\n",
       "      <td>DOUBLE</td>\n",
       "    </tr>\n",
       "    <tr>\n",
       "      <th>2</th>\n",
       "      <td>ERYTHROCYTE</td>\n",
       "      <td>DOUBLE</td>\n",
       "    </tr>\n",
       "    <tr>\n",
       "      <th>3</th>\n",
       "      <td>LEUCOCYTE</td>\n",
       "      <td>DOUBLE</td>\n",
       "    </tr>\n",
       "    <tr>\n",
       "      <th>4</th>\n",
       "      <td>THROMBOCYTE</td>\n",
       "      <td>LONG</td>\n",
       "    </tr>\n",
       "    <tr>\n",
       "      <th>5</th>\n",
       "      <td>AGE</td>\n",
       "      <td>LONG</td>\n",
       "    </tr>\n",
       "    <tr>\n",
       "      <th>6</th>\n",
       "      <td>SEX</td>\n",
       "      <td>LONG</td>\n",
       "    </tr>\n",
       "    <tr>\n",
       "      <th>7</th>\n",
       "      <td>SOURCE</td>\n",
       "      <td>LONG</td>\n",
       "    </tr>\n",
       "  </tbody>\n",
       "</table>\n",
       "</div>"
      ],
      "text/plain": [
       "           name    type\n",
       "0   HAEMATOCRIT  DOUBLE\n",
       "1  HAEMOGLOBINS  DOUBLE\n",
       "2   ERYTHROCYTE  DOUBLE\n",
       "3     LEUCOCYTE  DOUBLE\n",
       "4   THROMBOCYTE    LONG\n",
       "5           AGE    LONG\n",
       "6           SEX    LONG\n",
       "7        SOURCE    LONG"
      ]
     },
     "execution_count": 20,
     "metadata": {},
     "output_type": "execute_result"
    }
   ],
   "source": [
    "feature_group_ehr.get_features_df()"
   ]
  },
  {
   "cell_type": "code",
   "execution_count": 21,
   "id": "5dd89605",
   "metadata": {},
   "outputs": [
    {
     "name": "stderr",
     "output_type": "stream",
     "text": [
      "[Stage 13:>                                                         (0 + 1) / 1]\r"
     ]
    },
    {
     "name": "stdout",
     "output_type": "stream",
     "text": [
      "+-----------+------------+-----------+---------+-----------+---+---+------+\n",
      "|HAEMATOCRIT|HAEMOGLOBINS|ERYTHROCYTE|LEUCOCYTE|THROMBOCYTE|AGE|SEX|SOURCE|\n",
      "+-----------+------------+-----------+---------+-----------+---+---+------+\n",
      "|       33.8|        11.2|        4.0|      9.0|        140| 47|  0|     0|\n",
      "|       39.5|        13.2|       4.55|      2.3|         74| 47|  0|     0|\n",
      "|       31.6|         9.6|       4.52|      7.9|        301| 47|  0|     0|\n",
      "|       33.1|        10.9|       3.97|      8.2|        143| 47|  0|     0|\n",
      "|       39.3|        13.3|       4.49|      3.3|         50| 47|  0|     0|\n",
      "|       40.1|        12.2|       5.53|      6.4|        326| 47|  0|     0|\n",
      "|       39.7|        12.7|       4.63|      4.0|        167| 47|  1|     0|\n",
      "|       25.0|         8.1|        3.1|      5.3|        125| 47|  1|     0|\n",
      "|       26.4|         8.0|        3.1|     10.0|         64| 47|  1|     0|\n",
      "|       33.1|        11.5|       3.94|     13.3|        248| 47|  1|     0|\n",
      "+-----------+------------+-----------+---------+-----------+---+---+------+\n",
      "only showing top 10 rows\n",
      "\n"
     ]
    },
    {
     "name": "stderr",
     "output_type": "stream",
     "text": [
      "                                                                                \r"
     ]
    }
   ],
   "source": [
    "feature_group_ehr.select().show()"
   ]
  },
  {
   "cell_type": "code",
   "execution_count": 22,
   "id": "c7720964",
   "metadata": {},
   "outputs": [
    {
     "data": {
      "text/html": [
       "<div>\n",
       "<style scoped>\n",
       "    .dataframe tbody tr th:only-of-type {\n",
       "        vertical-align: middle;\n",
       "    }\n",
       "\n",
       "    .dataframe tbody tr th {\n",
       "        vertical-align: top;\n",
       "    }\n",
       "\n",
       "    .dataframe thead th {\n",
       "        text-align: right;\n",
       "    }\n",
       "</style>\n",
       "<table border=\"1\" class=\"dataframe\">\n",
       "  <thead>\n",
       "    <tr style=\"text-align: right;\">\n",
       "      <th></th>\n",
       "      <th>HAEMATOCRIT</th>\n",
       "      <th>HAEMOGLOBINS</th>\n",
       "      <th>ERYTHROCYTE</th>\n",
       "      <th>LEUCOCYTE</th>\n",
       "      <th>THROMBOCYTE</th>\n",
       "      <th>AGE</th>\n",
       "      <th>SEX</th>\n",
       "      <th>SOURCE</th>\n",
       "    </tr>\n",
       "  </thead>\n",
       "  <tbody>\n",
       "    <tr>\n",
       "      <th>Skewness</th>\n",
       "      <td>{'metric_name': 'Skewness', 'metric_description': 'Feature Metric to compute Skewness', 'variable_count': 1, 'variable_names': ['skewness'], 'variable_types': ['CONTINUOUS'], 'variable_dtypes': ['FLOAT'], 'variable_dimensions': [0], 'metric_data': [-0.30371526085897005], 'metadata': {}}</td>\n",
       "      <td>{'metric_name': 'Skewness', 'metric_description': 'Feature Metric to compute Skewness', 'variable_count': 1, 'variable_names': ['skewness'], 'variable_types': ['CONTINUOUS'], 'variable_dtypes': ['FLOAT'], 'variable_dimensions': [0], 'metric_data': [-0.312333213182426], 'metadata': {}}</td>\n",
       "      <td>{'metric_name': 'Skewness', 'metric_description': 'Feature Metric to compute Skewness', 'variable_count': 1, 'variable_names': ['skewness'], 'variable_types': ['CONTINUOUS'], 'variable_dtypes': ['FLOAT'], 'variable_dimensions': [0], 'metric_data': [-0.007433477628864001], 'metadata': {}}</td>\n",
       "      <td>{'metric_name': 'Skewness', 'metric_description': 'Feature Metric to compute Skewness', 'variable_count': 1, 'variable_names': ['skewness'], 'variable_types': ['CONTINUOUS'], 'variable_dtypes': ['FLOAT'], 'variable_dimensions': [0], 'metric_data': [2.791606961929011], 'metadata': {}}</td>\n",
       "      <td>{'metric_name': 'Skewness', 'metric_description': 'Feature Metric to compute Skewness', 'variable_count': 1, 'variable_names': ['skewness'], 'variable_types': ['CONTINUOUS'], 'variable_dtypes': ['FLOAT'], 'variable_dimensions': [0], 'metric_data': [0.8452104901645501], 'metadata': {}}</td>\n",
       "      <td>{'metric_name': 'Skewness', 'metric_description': 'Feature Metric to compute Skewness', 'variable_count': 1, 'variable_names': ['skewness'], 'variable_types': ['CONTINUOUS'], 'variable_dtypes': ['FLOAT'], 'variable_dimensions': [0], 'metric_data': [-0.12448168156378502], 'metadata': {}}</td>\n",
       "      <td>{'metric_name': 'Skewness', 'metric_description': 'Feature Metric to compute Skewness', 'variable_count': 1, 'variable_names': ['skewness'], 'variable_types': ['CONTINUOUS'], 'variable_dtypes': ['FLOAT'], 'variable_dimensions': [0], 'metric_data': [-0.07621120891710201], 'metadata': {}}</td>\n",
       "      <td>{'metric_name': 'Skewness', 'metric_description': 'Feature Metric to compute Skewness', 'variable_count': 1, 'variable_names': ['skewness'], 'variable_types': ['CONTINUOUS'], 'variable_dtypes': ['FLOAT'], 'variable_dimensions': [0], 'metric_data': [-0.38979147911674406], 'metadata': {}}</td>\n",
       "    </tr>\n",
       "    <tr>\n",
       "      <th>StandardDeviation</th>\n",
       "      <td>{'metric_name': 'StandardDeviation', 'metric_description': 'Feature Metric to compute Standard Deviation', 'variable_count': 1, 'variable_names': ['standard_deviation'], 'variable_types': ['CONTINUOUS'], 'variable_dtypes': ['FLOAT'], 'variable_dimensions': [0], 'metric_data': [5.974107330011201], 'metadata': {}}</td>\n",
       "      <td>{'metric_name': 'StandardDeviation', 'metric_description': 'Feature Metric to compute Standard Deviation', 'variable_count': 1, 'variable_names': ['standard_deviation'], 'variable_types': ['CONTINUOUS'], 'variable_dtypes': ['FLOAT'], 'variable_dimensions': [0], 'metric_data': [2.079667141984532], 'metadata': {}}</td>\n",
       "      <td>{'metric_name': 'StandardDeviation', 'metric_description': 'Feature Metric to compute Standard Deviation', 'variable_count': 1, 'variable_names': ['standard_deviation'], 'variable_types': ['CONTINUOUS'], 'variable_dtypes': ['FLOAT'], 'variable_dimensions': [0], 'metric_data': [0.7840023881508601], 'metadata': {}}</td>\n",
       "      <td>{'metric_name': 'StandardDeviation', 'metric_description': 'Feature Metric to compute Standard Deviation', 'variable_count': 1, 'variable_names': ['standard_deviation'], 'variable_types': ['CONTINUOUS'], 'variable_dtypes': ['FLOAT'], 'variable_dimensions': [0], 'metric_data': [5.048468665770701], 'metadata': {}}</td>\n",
       "      <td>{'metric_name': 'StandardDeviation', 'metric_description': 'Feature Metric to compute Standard Deviation', 'variable_count': 1, 'variable_names': ['standard_deviation'], 'variable_types': ['CONTINUOUS'], 'variable_dtypes': ['FLOAT'], 'variable_dimensions': [0], 'metric_data': [113.95944781860656], 'metadata': {}}</td>\n",
       "      <td>{'metric_name': 'StandardDeviation', 'metric_description': 'Feature Metric to compute Standard Deviation', 'variable_count': 1, 'variable_names': ['standard_deviation'], 'variable_types': ['CONTINUOUS'], 'variable_dtypes': ['FLOAT'], 'variable_dimensions': [0], 'metric_data': [21.728755362258855], 'metadata': {}}</td>\n",
       "      <td>{'metric_name': 'StandardDeviation', 'metric_description': 'Feature Metric to compute Standard Deviation', 'variable_count': 1, 'variable_names': ['standard_deviation'], 'variable_types': ['CONTINUOUS'], 'variable_dtypes': ['FLOAT'], 'variable_dimensions': [0], 'metric_data': [0.49963738557665704], 'metadata': {}}</td>\n",
       "      <td>{'metric_name': 'StandardDeviation', 'metric_description': 'Feature Metric to compute Standard Deviation', 'variable_count': 1, 'variable_names': ['standard_deviation'], 'variable_types': ['CONTINUOUS'], 'variable_dtypes': ['FLOAT'], 'variable_dimensions': [0], 'metric_data': [0.49076615174361504], 'metadata': {}}</td>\n",
       "    </tr>\n",
       "    <tr>\n",
       "      <th>Min</th>\n",
       "      <td>{'metric_name': 'Min', 'metric_description': 'Feature Metric to compute minimum value', 'variable_count': 1, 'variable_names': ['min'], 'variable_types': ['CONTINUOUS'], 'variable_dtypes': ['FLOAT'], 'variable_dimensions': [0], 'metric_data': [13.7], 'metadata': {}}</td>\n",
       "      <td>{'metric_name': 'Min', 'metric_description': 'Feature Metric to compute minimum value', 'variable_count': 1, 'variable_names': ['min'], 'variable_types': ['CONTINUOUS'], 'variable_dtypes': ['FLOAT'], 'variable_dimensions': [0], 'metric_data': [3.8], 'metadata': {}}</td>\n",
       "      <td>{'metric_name': 'Min', 'metric_description': 'Feature Metric to compute minimum value', 'variable_count': 1, 'variable_names': ['min'], 'variable_types': ['CONTINUOUS'], 'variable_dtypes': ['FLOAT'], 'variable_dimensions': [0], 'metric_data': [1.48], 'metadata': {}}</td>\n",
       "      <td>{'metric_name': 'Min', 'metric_description': 'Feature Metric to compute minimum value', 'variable_count': 1, 'variable_names': ['min'], 'variable_types': ['CONTINUOUS'], 'variable_dtypes': ['FLOAT'], 'variable_dimensions': [0], 'metric_data': [1.1], 'metadata': {}}</td>\n",
       "      <td>{'metric_name': 'Min', 'metric_description': 'Feature Metric to compute minimum value', 'variable_count': 1, 'variable_names': ['min'], 'variable_types': ['CONTINUOUS'], 'variable_dtypes': ['FLOAT'], 'variable_dimensions': [0], 'metric_data': [8.0], 'metadata': {}}</td>\n",
       "      <td>{'metric_name': 'Min', 'metric_description': 'Feature Metric to compute minimum value', 'variable_count': 1, 'variable_names': ['min'], 'variable_types': ['CONTINUOUS'], 'variable_dtypes': ['FLOAT'], 'variable_dimensions': [0], 'metric_data': [1.0], 'metadata': {}}</td>\n",
       "      <td>{'metric_name': 'Min', 'metric_description': 'Feature Metric to compute minimum value', 'variable_count': 1, 'variable_names': ['min'], 'variable_types': ['CONTINUOUS'], 'variable_dtypes': ['FLOAT'], 'variable_dimensions': [0], 'metric_data': [0.0], 'metadata': {}}</td>\n",
       "      <td>{'metric_name': 'Min', 'metric_description': 'Feature Metric to compute minimum value', 'variable_count': 1, 'variable_names': ['min'], 'variable_types': ['CONTINUOUS'], 'variable_dtypes': ['FLOAT'], 'variable_dimensions': [0], 'metric_data': [0.0], 'metadata': {}}</td>\n",
       "    </tr>\n",
       "    <tr>\n",
       "      <th>IsConstantFeature</th>\n",
       "      <td>{'metric_name': 'IsConstantFeature', 'metric_description': 'Feature Metric to compute if all values are same', 'variable_count': 1, 'variable_names': ['is_constant'], 'variable_types': ['BINARY'], 'variable_dtypes': ['BOOLEAN'], 'variable_dimensions': [0], 'metric_data': [False], 'metadata': {}}</td>\n",
       "      <td>{'metric_name': 'IsConstantFeature', 'metric_description': 'Feature Metric to compute if all values are same', 'variable_count': 1, 'variable_names': ['is_constant'], 'variable_types': ['BINARY'], 'variable_dtypes': ['BOOLEAN'], 'variable_dimensions': [0], 'metric_data': [False], 'metadata': {}}</td>\n",
       "      <td>{'metric_name': 'IsConstantFeature', 'metric_description': 'Feature Metric to compute if all values are same', 'variable_count': 1, 'variable_names': ['is_constant'], 'variable_types': ['BINARY'], 'variable_dtypes': ['BOOLEAN'], 'variable_dimensions': [0], 'metric_data': [False], 'metadata': {}}</td>\n",
       "      <td>{'metric_name': 'IsConstantFeature', 'metric_description': 'Feature Metric to compute if all values are same', 'variable_count': 1, 'variable_names': ['is_constant'], 'variable_types': ['BINARY'], 'variable_dtypes': ['BOOLEAN'], 'variable_dimensions': [0], 'metric_data': [False], 'metadata': {}}</td>\n",
       "      <td>{'metric_name': 'IsConstantFeature', 'metric_description': 'Feature Metric to compute if all values are same', 'variable_count': 1, 'variable_names': ['is_constant'], 'variable_types': ['BINARY'], 'variable_dtypes': ['BOOLEAN'], 'variable_dimensions': [0], 'metric_data': [False], 'metadata': {}}</td>\n",
       "      <td>{'metric_name': 'IsConstantFeature', 'metric_description': 'Feature Metric to compute if all values are same', 'variable_count': 1, 'variable_names': ['is_constant'], 'variable_types': ['BINARY'], 'variable_dtypes': ['BOOLEAN'], 'variable_dimensions': [0], 'metric_data': [False], 'metadata': {}}</td>\n",
       "      <td>{'metric_name': 'IsConstantFeature', 'metric_description': 'Feature Metric to compute if all values are same', 'variable_count': 1, 'variable_names': ['is_constant'], 'variable_types': ['BINARY'], 'variable_dtypes': ['BOOLEAN'], 'variable_dimensions': [0], 'metric_data': [False], 'metadata': {}}</td>\n",
       "      <td>{'metric_name': 'IsConstantFeature', 'metric_description': 'Feature Metric to compute if all values are same', 'variable_count': 1, 'variable_names': ['is_constant'], 'variable_types': ['BINARY'], 'variable_dtypes': ['BOOLEAN'], 'variable_dimensions': [0], 'metric_data': [False], 'metadata': {}}</td>\n",
       "    </tr>\n",
       "    <tr>\n",
       "      <th>IQR</th>\n",
       "      <td>{'metric_name': 'IQR', 'metric_description': 'Compute the interquartile range of the data. Interquartile range (IQR) is the difference between the 75th and 25th percentile of the data. It is a measure of the dispersion similar to standard deviation or variance, but is much more robust against outliers', 'variable_count': 1, 'variable_names': ['i_q_r'], 'variable_types': ['CONTINUOUS'], 'variable_dtypes': ['FLOAT'], 'variable_dimensions': [0], 'metric_data': [8.100000000000001], 'metadata': {}}</td>\n",
       "      <td>{'metric_name': 'IQR', 'metric_description': 'Compute the interquartile range of the data. Interquartile range (IQR) is the difference between the 75th and 25th percentile of the data. It is a measure of the dispersion similar to standard deviation or variance, but is much more robust against outliers', 'variable_count': 1, 'variable_names': ['i_q_r'], 'variable_types': ['CONTINUOUS'], 'variable_dtypes': ['FLOAT'], 'variable_dimensions': [0], 'metric_data': [2.799999999999999], 'metadata': {}}</td>\n",
       "      <td>{'metric_name': 'IQR', 'metric_description': 'Compute the interquartile range of the data. Interquartile range (IQR) is the difference between the 75th and 25th percentile of the data. It is a measure of the dispersion similar to standard deviation or variance, but is much more robust against outliers', 'variable_count': 1, 'variable_names': ['i_q_r'], 'variable_types': ['CONTINUOUS'], 'variable_dtypes': ['FLOAT'], 'variable_dimensions': [0], 'metric_data': [1.0], 'metadata': {}}</td>\n",
       "      <td>{'metric_name': 'IQR', 'metric_description': 'Compute the interquartile range of the data. Interquartile range (IQR) is the difference between the 75th and 25th percentile of the data. It is a measure of the dispersion similar to standard deviation or variance, but is much more robust against outliers', 'variable_count': 1, 'variable_names': ['i_q_r'], 'variable_types': ['CONTINUOUS'], 'variable_dtypes': ['FLOAT'], 'variable_dimensions': [0], 'metric_data': [4.7], 'metadata': {}}</td>\n",
       "      <td>{'metric_name': 'IQR', 'metric_description': 'Compute the interquartile range of the data. Interquartile range (IQR) is the difference between the 75th and 25th percentile of the data. It is a measure of the dispersion similar to standard deviation or variance, but is much more robust against outliers', 'variable_count': 1, 'variable_names': ['i_q_r'], 'variable_types': ['CONTINUOUS'], 'variable_dtypes': ['FLOAT'], 'variable_dimensions': [0], 'metric_data': [132.0], 'metadata': {}}</td>\n",
       "      <td>{'metric_name': 'IQR', 'metric_description': 'Compute the interquartile range of the data. Interquartile range (IQR) is the difference between the 75th and 25th percentile of the data. It is a measure of the dispersion similar to standard deviation or variance, but is much more robust against outliers', 'variable_count': 1, 'variable_names': ['i_q_r'], 'variable_types': ['CONTINUOUS'], 'variable_dtypes': ['FLOAT'], 'variable_dimensions': [0], 'metric_data': [35.0], 'metadata': {}}</td>\n",
       "      <td>{'metric_name': 'IQR', 'metric_description': 'Compute the interquartile range of the data. Interquartile range (IQR) is the difference between the 75th and 25th percentile of the data. It is a measure of the dispersion similar to standard deviation or variance, but is much more robust against outliers', 'variable_count': 1, 'variable_names': ['i_q_r'], 'variable_types': ['CONTINUOUS'], 'variable_dtypes': ['FLOAT'], 'variable_dimensions': [0], 'metric_data': [1.0], 'metadata': {}}</td>\n",
       "      <td>{'metric_name': 'IQR', 'metric_description': 'Compute the interquartile range of the data. Interquartile range (IQR) is the difference between the 75th and 25th percentile of the data. It is a measure of the dispersion similar to standard deviation or variance, but is much more robust against outliers', 'variable_count': 1, 'variable_names': ['i_q_r'], 'variable_types': ['CONTINUOUS'], 'variable_dtypes': ['FLOAT'], 'variable_dimensions': [0], 'metric_data': [1.0], 'metadata': {}}</td>\n",
       "    </tr>\n",
       "    <tr>\n",
       "      <th>Range</th>\n",
       "      <td>{'metric_name': 'Range', 'metric_description': 'Feature Metric to compute range value', 'variable_count': 1, 'variable_names': ['range'], 'variable_types': ['CONTINUOUS'], 'variable_dtypes': ['FLOAT'], 'variable_dimensions': [0], 'metric_data': [55.3], 'metadata': {}}</td>\n",
       "      <td>{'metric_name': 'Range', 'metric_description': 'Feature Metric to compute range value', 'variable_count': 1, 'variable_names': ['range'], 'variable_types': ['CONTINUOUS'], 'variable_dtypes': ['FLOAT'], 'variable_dimensions': [0], 'metric_data': [15.099999999999998], 'metadata': {}}</td>\n",
       "      <td>{'metric_name': 'Range', 'metric_description': 'Feature Metric to compute range value', 'variable_count': 1, 'variable_names': ['range'], 'variable_types': ['CONTINUOUS'], 'variable_dtypes': ['FLOAT'], 'variable_dimensions': [0], 'metric_data': [6.380000000000001], 'metadata': {}}</td>\n",
       "      <td>{'metric_name': 'Range', 'metric_description': 'Feature Metric to compute range value', 'variable_count': 1, 'variable_names': ['range'], 'variable_types': ['CONTINUOUS'], 'variable_dtypes': ['FLOAT'], 'variable_dimensions': [0], 'metric_data': [75.5], 'metadata': {}}</td>\n",
       "      <td>{'metric_name': 'Range', 'metric_description': 'Feature Metric to compute range value', 'variable_count': 1, 'variable_names': ['range'], 'variable_types': ['CONTINUOUS'], 'variable_dtypes': ['FLOAT'], 'variable_dimensions': [0], 'metric_data': [1175.0], 'metadata': {}}</td>\n",
       "      <td>{'metric_name': 'Range', 'metric_description': 'Feature Metric to compute range value', 'variable_count': 1, 'variable_names': ['range'], 'variable_types': ['CONTINUOUS'], 'variable_dtypes': ['FLOAT'], 'variable_dimensions': [0], 'metric_data': [98.0], 'metadata': {}}</td>\n",
       "      <td>{'metric_name': 'Range', 'metric_description': 'Feature Metric to compute range value', 'variable_count': 1, 'variable_names': ['range'], 'variable_types': ['CONTINUOUS'], 'variable_dtypes': ['FLOAT'], 'variable_dimensions': [0], 'metric_data': [1.0], 'metadata': {}}</td>\n",
       "      <td>{'metric_name': 'Range', 'metric_description': 'Feature Metric to compute range value', 'variable_count': 1, 'variable_names': ['range'], 'variable_types': ['CONTINUOUS'], 'variable_dtypes': ['FLOAT'], 'variable_dimensions': [0], 'metric_data': [1.0], 'metadata': {}}</td>\n",
       "    </tr>\n",
       "    <tr>\n",
       "      <th>KolmogorovSmirnov</th>\n",
       "      <td>{'metric_name': 'KolmogorovSmirnov', 'metric_description': 'Data Drift Metric to compute two-sample Kolmogorov-Smirnov test for goodness of fit', 'error': 'Missing required parameter profile or registry or feature name in KolmogorovSmirnov'}</td>\n",
       "      <td>{'metric_name': 'KolmogorovSmirnov', 'metric_description': 'Data Drift Metric to compute two-sample Kolmogorov-Smirnov test for goodness of fit', 'error': 'Missing required parameter profile or registry or feature name in KolmogorovSmirnov'}</td>\n",
       "      <td>{'metric_name': 'KolmogorovSmirnov', 'metric_description': 'Data Drift Metric to compute two-sample Kolmogorov-Smirnov test for goodness of fit', 'error': 'Missing required parameter profile or registry or feature name in KolmogorovSmirnov'}</td>\n",
       "      <td>{'metric_name': 'KolmogorovSmirnov', 'metric_description': 'Data Drift Metric to compute two-sample Kolmogorov-Smirnov test for goodness of fit', 'error': 'Missing required parameter profile or registry or feature name in KolmogorovSmirnov'}</td>\n",
       "      <td>{'metric_name': 'KolmogorovSmirnov', 'metric_description': 'Data Drift Metric to compute two-sample Kolmogorov-Smirnov test for goodness of fit', 'error': 'Missing required parameter profile or registry or feature name in KolmogorovSmirnov'}</td>\n",
       "      <td>{'metric_name': 'KolmogorovSmirnov', 'metric_description': 'Data Drift Metric to compute two-sample Kolmogorov-Smirnov test for goodness of fit', 'error': 'Missing required parameter profile or registry or feature name in KolmogorovSmirnov'}</td>\n",
       "      <td>{'metric_name': 'KolmogorovSmirnov', 'metric_description': 'Data Drift Metric to compute two-sample Kolmogorov-Smirnov test for goodness of fit', 'error': 'Missing required parameter profile or registry or feature name in KolmogorovSmirnov'}</td>\n",
       "      <td>{'metric_name': 'KolmogorovSmirnov', 'metric_description': 'Data Drift Metric to compute two-sample Kolmogorov-Smirnov test for goodness of fit', 'error': 'Missing required parameter profile or registry or feature name in KolmogorovSmirnov'}</td>\n",
       "    </tr>\n",
       "    <tr>\n",
       "      <th>ProbabilityDistribution</th>\n",
       "      <td>{'metric_name': 'ProbabilityDistribution', 'metric_description': 'Feature Metric to compute probability density', 'variable_count': 2, 'variable_names': ['bins', 'density'], 'variable_types': ['CONTINUOUS', 'CONTINUOUS'], 'variable_dtypes': ['FLOAT', 'FLOAT'], 'variable_dimensions': [1, 1], 'metric_data': [[13.7, 17.65, 21.599999999999998, 25.549999999999997, 29.5, 33.45, 37.4, 41.349999999999994, 45.3, 49.25, 53.2, 57.14999999999999, 61.099999999999994, 65.05, 69.0], [0.0027198549410690004, 0.0, 0.018132366273798002, 0.065276518585675, 0.12692656391659102, 0.19945602901178602, 0.264732547597461, 0.213961922030824, 0.090661831368993, 0.014505893019039002, 0.003626473254759, 0.0, 0.0, 0.0]], 'metadata': {}}</td>\n",
       "      <td>{'metric_name': 'ProbabilityDistribution', 'metric_description': 'Feature Metric to compute probability density', 'variable_count': 2, 'variable_names': ['bins', 'density'], 'variable_types': ['CONTINUOUS', 'CONTINUOUS'], 'variable_dtypes': ['FLOAT', 'FLOAT'], 'variable_dimensions': [1, 1], 'metric_data': [[3.8, 4.878571428571428, 5.957142857142857, 7.035714285714286, 8.114285714285714, 9.192857142857143, 10.271428571428572, 11.35, 12.428571428571427, 13.507142857142856, 14.585714285714285, 15.664285714285715, 16.742857142857144, 17.82142857142857, 18.9], [0.0009066183136890001, 0.001813236627379, 0.0, 0.010879419764279, 0.036264732547597, 0.07978241160471401, 0.10879419764279201, 0.17769718948322702, 0.21033544877606503, 0.174070716228467, 0.12692656391659102, 0.058023572076155, 0.010879419764279, 0.003626473254759]], 'metadata': {}}</td>\n",
       "      <td>{'metric_name': 'ProbabilityDistribution', 'metric_description': 'Feature Metric to compute probability density', 'variable_count': 2, 'variable_names': ['bins', 'density'], 'variable_types': ['CONTINUOUS', 'CONTINUOUS'], 'variable_dtypes': ['FLOAT', 'FLOAT'], 'variable_dimensions': [1, 1], 'metric_data': [[1.48, 1.935714285714285, 2.391428571428571, 2.847142857142857, 3.302857142857143, 3.758571428571429, 4.214285714285715, 4.67, 5.125714285714286, 5.581428571428573, 6.037142857142857, 6.492857142857144, 6.94857142857143, 7.404285714285715, 7.86], [0.0009066183136890001, 0.001813236627379, 0.014505893019038001, 0.047144152311876006, 0.09428830462375301, 0.152311876699909, 0.23934723481414302, 0.23209428830462303, 0.14143245693563, 0.054397098821396005, 0.010879419764279, 0.0072529465095190005, 0.0, 0.003626473254759]], 'metadata': {}}</td>\n",
       "      <td>{'metric_name': 'ProbabilityDistribution', 'metric_description': 'Feature Metric to compute probability density', 'variable_count': 2, 'variable_names': ['bins', 'density'], 'variable_types': ['CONTINUOUS', 'CONTINUOUS'], 'variable_dtypes': ['FLOAT', 'FLOAT'], 'variable_dimensions': [1, 1], 'metric_data': [[1.1, 6.492857142857144, 11.885714285714286, 17.278571428571432, 22.671428571428574, 28.064285714285717, 33.45714285714286, 38.85, 44.24285714285715, 49.63571428571429, 55.02857142857143, 60.42142857142858, 65.81428571428572, 71.20714285714286, 76.6], [0.35448776065276505, 0.467815049864007, 0.11967361740707101, 0.039891205802357006, 0.010879419764279, 0.003626473254759, 0.0, 0.0, 0.0, 0.003626473254759, 0.0, 0.0, 0.0, 0.0]], 'metadata': {}}</td>\n",
       "      <td>{'metric_name': 'ProbabilityDistribution', 'metric_description': 'Feature Metric to compute probability density', 'variable_count': 2, 'variable_names': ['bins', 'density'], 'variable_types': ['CONTINUOUS', 'CONTINUOUS'], 'variable_dtypes': ['FLOAT', 'FLOAT'], 'variable_dimensions': [1, 1], 'metric_data': [[8.0, 91.92857142857143, 175.85714285714286, 259.7857142857143, 343.7142857142857, 427.64285714285717, 511.57142857142856, 595.5, 679.4285714285714, 763.3571428571429, 847.2857142857143, 931.2142857142858, 1015.1428571428571, 1099.0714285714287, 1183.0], [0.075249320036264, 0.14143245693563, 0.29737080689029904, 0.304623753399818, 0.11967361740707101, 0.039891205802357006, 0.010879419764279, 0.003626473254759, 0.003626473254759, 0.0, 0.003626473254759, 0.0, 0.0, 0.0]], 'metadata': {}}</td>\n",
       "      <td>{'metric_name': 'ProbabilityDistribution', 'metric_description': 'Feature Metric to compute probability density', 'variable_count': 2, 'variable_names': ['bins', 'density'], 'variable_types': ['CONTINUOUS', 'CONTINUOUS'], 'variable_dtypes': ['FLOAT', 'FLOAT'], 'variable_dimensions': [1, 1], 'metric_data': [[1.0, 8.0, 15.0, 22.0, 29.0, 36.0, 43.0, 50.0, 57.0, 64.0, 71.0, 78.0, 85.0, 92.0, 99.0], [0.046237533998186, 0.036264732547597, 0.050770625566636, 0.101541251133272, 0.10516772438803201, 0.087035358114233, 0.101541251133272, 0.097914777878513, 0.11604714415231102, 0.11604714415231102, 0.07978241160471401, 0.036264732547597, 0.021758839528558, 0.003626473254759]], 'metadata': {}}</td>\n",
       "      <td>{'metric_name': 'ProbabilityDistribution', 'metric_description': 'Feature Metric to compute probability density', 'variable_count': 2, 'variable_names': ['bins', 'density'], 'variable_types': ['CONTINUOUS', 'CONTINUOUS'], 'variable_dtypes': ['FLOAT', 'FLOAT'], 'variable_dimensions': [1, 1], 'metric_data': [[0.0, 0.07142857142857101, 0.14285714285714202, 0.21428571428571402, 0.28571428571428503, 0.35714285714285704, 0.42857142857142805, 0.5, 0.5714285714285711, 0.642857142857142, 0.7142857142857141, 0.785714285714285, 0.8571428571428571, 0.928571428571428, 1.0], [0.47778785131459606, 0.0, 0.0, 0.0, 0.0, 0.0, 0.0, 0.0, 0.0, 0.0, 0.0, 0.0, 0.0, 0.522212148685403]], 'metadata': {}}</td>\n",
       "      <td>{'metric_name': 'ProbabilityDistribution', 'metric_description': 'Feature Metric to compute probability density', 'variable_count': 2, 'variable_names': ['bins', 'density'], 'variable_types': ['CONTINUOUS', 'CONTINUOUS'], 'variable_dtypes': ['FLOAT', 'FLOAT'], 'variable_dimensions': [1, 1], 'metric_data': [[0.0, 0.07142857142857101, 0.14285714285714202, 0.21428571428571402, 0.28571428571428503, 0.35714285714285704, 0.42857142857142805, 0.5, 0.5714285714285711, 0.642857142857142, 0.7142857142857141, 0.785714285714285, 0.8571428571428571, 0.928571428571428, 1.0], [0.405258386219401, 0.0, 0.0, 0.0, 0.0, 0.0, 0.0, 0.0, 0.0, 0.0, 0.0, 0.0, 0.0, 0.5947416137805981]], 'metadata': {}}</td>\n",
       "    </tr>\n",
       "    <tr>\n",
       "      <th>Variance</th>\n",
       "      <td>{'metric_name': 'Variance', 'metric_description': 'Feature Metric to compute Variance', 'variable_count': 1, 'variable_names': ['variance'], 'variable_types': ['CONTINUOUS'], 'variable_dtypes': ['FLOAT'], 'variable_dimensions': [0], 'metric_data': [35.68995839049357], 'metadata': {}}</td>\n",
       "      <td>{'metric_name': 'Variance', 'metric_description': 'Feature Metric to compute Variance', 'variable_count': 1, 'variable_names': ['variance'], 'variable_types': ['CONTINUOUS'], 'variable_dtypes': ['FLOAT'], 'variable_dimensions': [0], 'metric_data': [4.325015421450113], 'metadata': {}}</td>\n",
       "      <td>{'metric_name': 'Variance', 'metric_description': 'Feature Metric to compute Variance', 'variable_count': 1, 'variable_names': ['variance'], 'variable_types': ['CONTINUOUS'], 'variable_dtypes': ['FLOAT'], 'variable_dimensions': [0], 'metric_data': [0.6146597446262521], 'metadata': {}}</td>\n",
       "      <td>{'metric_name': 'Variance', 'metric_description': 'Feature Metric to compute Variance', 'variable_count': 1, 'variable_names': ['variance'], 'variable_types': ['CONTINUOUS'], 'variable_dtypes': ['FLOAT'], 'variable_dimensions': [0], 'metric_data': [25.487035869268603], 'metadata': {}}</td>\n",
       "      <td>{'metric_name': 'Variance', 'metric_description': 'Feature Metric to compute Variance', 'variable_count': 1, 'variable_names': ['variance'], 'variable_types': ['CONTINUOUS'], 'variable_dtypes': ['FLOAT'], 'variable_dimensions': [0], 'metric_data': [12986.755747121711], 'metadata': {}}</td>\n",
       "      <td>{'metric_name': 'Variance', 'metric_description': 'Feature Metric to compute Variance', 'variable_count': 1, 'variable_names': ['variance'], 'variable_types': ['CONTINUOUS'], 'variable_dtypes': ['FLOAT'], 'variable_dimensions': [0], 'metric_data': [472.138809592893], 'metadata': {}}</td>\n",
       "      <td>{'metric_name': 'Variance', 'metric_description': 'Feature Metric to compute Variance', 'variable_count': 1, 'variable_names': ['variance'], 'variable_types': ['CONTINUOUS'], 'variable_dtypes': ['FLOAT'], 'variable_dimensions': [0], 'metric_data': [0.24963751706587703], 'metadata': {}}</td>\n",
       "      <td>{'metric_name': 'Variance', 'metric_description': 'Feature Metric to compute Variance', 'variable_count': 1, 'variable_names': ['variance'], 'variable_types': ['CONTINUOUS'], 'variable_dtypes': ['FLOAT'], 'variable_dimensions': [0], 'metric_data': [0.24085141569723703], 'metadata': {}}</td>\n",
       "    </tr>\n",
       "    <tr>\n",
       "      <th>TypeMetric</th>\n",
       "      <td>{'metric_name': 'TypeMetric', 'metric_description': 'Feature Metric to compute count of data types for feature values', 'variable_count': 4, 'variable_names': ['string_type_count', 'integral_type_count', 'fractional_type_count', 'boolean_type_count'], 'variable_types': ['DISCRETE', 'DISCRETE', 'DISCRETE', 'DISCRETE'], 'variable_dtypes': ['INTEGER', 'INTEGER', 'INTEGER', 'INTEGER'], 'variable_dimensions': [0, 0, 0, 0], 'metric_data': [0, 0, 4412, 0], 'metadata': {}}</td>\n",
       "      <td>{'metric_name': 'TypeMetric', 'metric_description': 'Feature Metric to compute count of data types for feature values', 'variable_count': 4, 'variable_names': ['string_type_count', 'integral_type_count', 'fractional_type_count', 'boolean_type_count'], 'variable_types': ['DISCRETE', 'DISCRETE', 'DISCRETE', 'DISCRETE'], 'variable_dtypes': ['INTEGER', 'INTEGER', 'INTEGER', 'INTEGER'], 'variable_dimensions': [0, 0, 0, 0], 'metric_data': [0, 0, 4412, 0], 'metadata': {}}</td>\n",
       "      <td>{'metric_name': 'TypeMetric', 'metric_description': 'Feature Metric to compute count of data types for feature values', 'variable_count': 4, 'variable_names': ['string_type_count', 'integral_type_count', 'fractional_type_count', 'boolean_type_count'], 'variable_types': ['DISCRETE', 'DISCRETE', 'DISCRETE', 'DISCRETE'], 'variable_dtypes': ['INTEGER', 'INTEGER', 'INTEGER', 'INTEGER'], 'variable_dimensions': [0, 0, 0, 0], 'metric_data': [0, 0, 4412, 0], 'metadata': {}}</td>\n",
       "      <td>{'metric_name': 'TypeMetric', 'metric_description': 'Feature Metric to compute count of data types for feature values', 'variable_count': 4, 'variable_names': ['string_type_count', 'integral_type_count', 'fractional_type_count', 'boolean_type_count'], 'variable_types': ['DISCRETE', 'DISCRETE', 'DISCRETE', 'DISCRETE'], 'variable_dtypes': ['INTEGER', 'INTEGER', 'INTEGER', 'INTEGER'], 'variable_dimensions': [0, 0, 0, 0], 'metric_data': [0, 0, 4412, 0], 'metadata': {}}</td>\n",
       "      <td>{'metric_name': 'TypeMetric', 'metric_description': 'Feature Metric to compute count of data types for feature values', 'variable_count': 4, 'variable_names': ['string_type_count', 'integral_type_count', 'fractional_type_count', 'boolean_type_count'], 'variable_types': ['DISCRETE', 'DISCRETE', 'DISCRETE', 'DISCRETE'], 'variable_dtypes': ['INTEGER', 'INTEGER', 'INTEGER', 'INTEGER'], 'variable_dimensions': [0, 0, 0, 0], 'metric_data': [0, 4412, 0, 0], 'metadata': {}}</td>\n",
       "      <td>{'metric_name': 'TypeMetric', 'metric_description': 'Feature Metric to compute count of data types for feature values', 'variable_count': 4, 'variable_names': ['string_type_count', 'integral_type_count', 'fractional_type_count', 'boolean_type_count'], 'variable_types': ['DISCRETE', 'DISCRETE', 'DISCRETE', 'DISCRETE'], 'variable_dtypes': ['INTEGER', 'INTEGER', 'INTEGER', 'INTEGER'], 'variable_dimensions': [0, 0, 0, 0], 'metric_data': [0, 4412, 0, 0], 'metadata': {}}</td>\n",
       "      <td>{'metric_name': 'TypeMetric', 'metric_description': 'Feature Metric to compute count of data types for feature values', 'variable_count': 4, 'variable_names': ['string_type_count', 'integral_type_count', 'fractional_type_count', 'boolean_type_count'], 'variable_types': ['DISCRETE', 'DISCRETE', 'DISCRETE', 'DISCRETE'], 'variable_dtypes': ['INTEGER', 'INTEGER', 'INTEGER', 'INTEGER'], 'variable_dimensions': [0, 0, 0, 0], 'metric_data': [0, 4412, 0, 0], 'metadata': {}}</td>\n",
       "      <td>{'metric_name': 'TypeMetric', 'metric_description': 'Feature Metric to compute count of data types for feature values', 'variable_count': 4, 'variable_names': ['string_type_count', 'integral_type_count', 'fractional_type_count', 'boolean_type_count'], 'variable_types': ['DISCRETE', 'DISCRETE', 'DISCRETE', 'DISCRETE'], 'variable_dtypes': ['INTEGER', 'INTEGER', 'INTEGER', 'INTEGER'], 'variable_dimensions': [0, 0, 0, 0], 'metric_data': [0, 4412, 0, 0], 'metadata': {}}</td>\n",
       "    </tr>\n",
       "    <tr>\n",
       "      <th>FrequencyDistribution</th>\n",
       "      <td>{'metric_name': 'FrequencyDistribution', 'metric_description': 'Feature Metric to compute Frequency distribution', 'variable_count': 2, 'variable_names': ['bins', 'frequency'], 'variable_types': ['CONTINUOUS', 'CONTINUOUS'], 'variable_dtypes': ['FLOAT', 'FLOAT'], 'variable_dimensions': [1, 1], 'metric_data': [[13.7, 17.65, 21.599999999999998, 25.549999999999997, 29.5, 33.45, 37.4, 41.349999999999994, 45.3, 49.25, 53.2, 57.14999999999999, 61.099999999999994, 65.05, 69.0], [12, 0, 80, 288, 560, 880, 1168, 944, 400, 64, 16, 0, 0, 0]], 'metadata': {}}</td>\n",
       "      <td>{'metric_name': 'FrequencyDistribution', 'metric_description': 'Feature Metric to compute Frequency distribution', 'variable_count': 2, 'variable_names': ['bins', 'frequency'], 'variable_types': ['CONTINUOUS', 'CONTINUOUS'], 'variable_dtypes': ['FLOAT', 'FLOAT'], 'variable_dimensions': [1, 1], 'metric_data': [[3.8, 4.878571428571428, 5.957142857142857, 7.035714285714286, 8.114285714285714, 9.192857142857143, 10.271428571428572, 11.35, 12.428571428571427, 13.507142857142856, 14.585714285714285, 15.664285714285715, 16.742857142857144, 17.82142857142857, 18.9], [4, 8, 0, 48, 160, 352, 480, 784, 928, 768, 560, 256, 48, 16]], 'metadata': {}}</td>\n",
       "      <td>{'metric_name': 'FrequencyDistribution', 'metric_description': 'Feature Metric to compute Frequency distribution', 'variable_count': 2, 'variable_names': ['bins', 'frequency'], 'variable_types': ['CONTINUOUS', 'CONTINUOUS'], 'variable_dtypes': ['FLOAT', 'FLOAT'], 'variable_dimensions': [1, 1], 'metric_data': [[1.48, 1.935714285714285, 2.391428571428571, 2.847142857142857, 3.302857142857143, 3.758571428571429, 4.214285714285715, 4.67, 5.125714285714286, 5.581428571428573, 6.037142857142857, 6.492857142857144, 6.94857142857143, 7.404285714285715, 7.86], [4, 8, 64, 208, 416, 672, 1056, 1024, 624, 240, 48, 32, 0, 16]], 'metadata': {}}</td>\n",
       "      <td>{'metric_name': 'FrequencyDistribution', 'metric_description': 'Feature Metric to compute Frequency distribution', 'variable_count': 2, 'variable_names': ['bins', 'frequency'], 'variable_types': ['CONTINUOUS', 'CONTINUOUS'], 'variable_dtypes': ['FLOAT', 'FLOAT'], 'variable_dimensions': [1, 1], 'metric_data': [[1.1, 6.492857142857144, 11.885714285714286, 17.278571428571432, 22.671428571428574, 28.064285714285717, 33.45714285714286, 38.85, 44.24285714285715, 49.63571428571429, 55.02857142857143, 60.42142857142858, 65.81428571428572, 71.20714285714286, 76.6], [1564, 2064, 528, 176, 48, 16, 0, 0, 0, 16, 0, 0, 0, 0]], 'metadata': {}}</td>\n",
       "      <td>{'metric_name': 'FrequencyDistribution', 'metric_description': 'Feature Metric to compute Frequency distribution', 'variable_count': 2, 'variable_names': ['bins', 'frequency'], 'variable_types': ['CONTINUOUS', 'CONTINUOUS'], 'variable_dtypes': ['FLOAT', 'FLOAT'], 'variable_dimensions': [1, 1], 'metric_data': [[8.0, 91.92857142857143, 175.85714285714286, 259.7857142857143, 343.7142857142857, 427.64285714285717, 511.57142857142856, 595.5, 679.4285714285714, 763.3571428571429, 847.2857142857143, 931.2142857142858, 1015.1428571428571, 1099.0714285714287, 1183.0], [332, 624, 1312, 1344, 528, 176, 48, 16, 16, 0, 16, 0, 0, 0]], 'metadata': {}}</td>\n",
       "      <td>{'metric_name': 'FrequencyDistribution', 'metric_description': 'Feature Metric to compute Frequency distribution', 'variable_count': 2, 'variable_names': ['bins', 'frequency'], 'variable_types': ['CONTINUOUS', 'CONTINUOUS'], 'variable_dtypes': ['FLOAT', 'FLOAT'], 'variable_dimensions': [1, 1], 'metric_data': [[1.0, 8.0, 15.0, 22.0, 29.0, 36.0, 43.0, 50.0, 57.0, 64.0, 71.0, 78.0, 85.0, 92.0, 99.0], [204, 160, 224, 448, 464, 384, 448, 432, 512, 512, 352, 160, 96, 16]], 'metadata': {}}</td>\n",
       "      <td>{'metric_name': 'FrequencyDistribution', 'metric_description': 'Feature Metric to compute Frequency distribution', 'variable_count': 2, 'variable_names': ['bins', 'frequency'], 'variable_types': ['CONTINUOUS', 'CONTINUOUS'], 'variable_dtypes': ['FLOAT', 'FLOAT'], 'variable_dimensions': [1, 1], 'metric_data': [[0.0, 0.07142857142857101, 0.14285714285714202, 0.21428571428571402, 0.28571428571428503, 0.35714285714285704, 0.42857142857142805, 0.5, 0.5714285714285711, 0.642857142857142, 0.7142857142857141, 0.785714285714285, 0.8571428571428571, 0.928571428571428, 1.0], [2108, 0, 0, 0, 0, 0, 0, 0, 0, 0, 0, 0, 0, 2304]], 'metadata': {}}</td>\n",
       "      <td>{'metric_name': 'FrequencyDistribution', 'metric_description': 'Feature Metric to compute Frequency distribution', 'variable_count': 2, 'variable_names': ['bins', 'frequency'], 'variable_types': ['CONTINUOUS', 'CONTINUOUS'], 'variable_dtypes': ['FLOAT', 'FLOAT'], 'variable_dimensions': [1, 1], 'metric_data': [[0.0, 0.07142857142857101, 0.14285714285714202, 0.21428571428571402, 0.28571428571428503, 0.35714285714285704, 0.42857142857142805, 0.5, 0.5714285714285711, 0.642857142857142, 0.7142857142857141, 0.785714285714285, 0.8571428571428571, 0.928571428571428, 1.0], [1788, 0, 0, 0, 0, 0, 0, 0, 0, 0, 0, 0, 0, 2624]], 'metadata': {}}</td>\n",
       "    </tr>\n",
       "    <tr>\n",
       "      <th>Count</th>\n",
       "      <td>{'metric_name': 'Count', 'metric_description': 'Feature metric that returns total count, missing count and missing count percentage', 'variable_count': 3, 'variable_names': ['total_count', 'missing_count', 'missing_count_percentage'], 'variable_types': ['CONTINUOUS', 'CONTINUOUS', 'CONTINUOUS'], 'variable_dtypes': ['INTEGER', 'INTEGER', 'FLOAT'], 'variable_dimensions': [0, 0, 0], 'metric_data': [4412.0, 0.0, 0.0], 'metadata': {}}</td>\n",
       "      <td>{'metric_name': 'Count', 'metric_description': 'Feature metric that returns total count, missing count and missing count percentage', 'variable_count': 3, 'variable_names': ['total_count', 'missing_count', 'missing_count_percentage'], 'variable_types': ['CONTINUOUS', 'CONTINUOUS', 'CONTINUOUS'], 'variable_dtypes': ['INTEGER', 'INTEGER', 'FLOAT'], 'variable_dimensions': [0, 0, 0], 'metric_data': [4412.0, 0.0, 0.0], 'metadata': {}}</td>\n",
       "      <td>{'metric_name': 'Count', 'metric_description': 'Feature metric that returns total count, missing count and missing count percentage', 'variable_count': 3, 'variable_names': ['total_count', 'missing_count', 'missing_count_percentage'], 'variable_types': ['CONTINUOUS', 'CONTINUOUS', 'CONTINUOUS'], 'variable_dtypes': ['INTEGER', 'INTEGER', 'FLOAT'], 'variable_dimensions': [0, 0, 0], 'metric_data': [4412.0, 0.0, 0.0], 'metadata': {}}</td>\n",
       "      <td>{'metric_name': 'Count', 'metric_description': 'Feature metric that returns total count, missing count and missing count percentage', 'variable_count': 3, 'variable_names': ['total_count', 'missing_count', 'missing_count_percentage'], 'variable_types': ['CONTINUOUS', 'CONTINUOUS', 'CONTINUOUS'], 'variable_dtypes': ['INTEGER', 'INTEGER', 'FLOAT'], 'variable_dimensions': [0, 0, 0], 'metric_data': [4412.0, 0.0, 0.0], 'metadata': {}}</td>\n",
       "      <td>{'metric_name': 'Count', 'metric_description': 'Feature metric that returns total count, missing count and missing count percentage', 'variable_count': 3, 'variable_names': ['total_count', 'missing_count', 'missing_count_percentage'], 'variable_types': ['CONTINUOUS', 'CONTINUOUS', 'CONTINUOUS'], 'variable_dtypes': ['INTEGER', 'INTEGER', 'FLOAT'], 'variable_dimensions': [0, 0, 0], 'metric_data': [4412.0, 0.0, 0.0], 'metadata': {}}</td>\n",
       "      <td>{'metric_name': 'Count', 'metric_description': 'Feature metric that returns total count, missing count and missing count percentage', 'variable_count': 3, 'variable_names': ['total_count', 'missing_count', 'missing_count_percentage'], 'variable_types': ['CONTINUOUS', 'CONTINUOUS', 'CONTINUOUS'], 'variable_dtypes': ['INTEGER', 'INTEGER', 'FLOAT'], 'variable_dimensions': [0, 0, 0], 'metric_data': [4412.0, 0.0, 0.0], 'metadata': {}}</td>\n",
       "      <td>{'metric_name': 'Count', 'metric_description': 'Feature metric that returns total count, missing count and missing count percentage', 'variable_count': 3, 'variable_names': ['total_count', 'missing_count', 'missing_count_percentage'], 'variable_types': ['CONTINUOUS', 'CONTINUOUS', 'CONTINUOUS'], 'variable_dtypes': ['INTEGER', 'INTEGER', 'FLOAT'], 'variable_dimensions': [0, 0, 0], 'metric_data': [4412.0, 0.0, 0.0], 'metadata': {}}</td>\n",
       "      <td>{'metric_name': 'Count', 'metric_description': 'Feature metric that returns total count, missing count and missing count percentage', 'variable_count': 3, 'variable_names': ['total_count', 'missing_count', 'missing_count_percentage'], 'variable_types': ['CONTINUOUS', 'CONTINUOUS', 'CONTINUOUS'], 'variable_dtypes': ['INTEGER', 'INTEGER', 'FLOAT'], 'variable_dimensions': [0, 0, 0], 'metric_data': [4412.0, 0.0, 0.0], 'metadata': {}}</td>\n",
       "    </tr>\n",
       "    <tr>\n",
       "      <th>IsQuasiConstantFeature</th>\n",
       "      <td>{'metric_name': 'IsQuasiConstantFeature', 'metric_description': 'Feature Metric to compute if all values are almost same', 'variable_count': 1, 'variable_names': ['is_quasi_constant'], 'variable_types': ['BINARY'], 'variable_dtypes': ['BOOLEAN'], 'variable_dimensions': [0], 'metric_data': [False], 'metadata': {}}</td>\n",
       "      <td>{'metric_name': 'IsQuasiConstantFeature', 'metric_description': 'Feature Metric to compute if all values are almost same', 'variable_count': 1, 'variable_names': ['is_quasi_constant'], 'variable_types': ['BINARY'], 'variable_dtypes': ['BOOLEAN'], 'variable_dimensions': [0], 'metric_data': [False], 'metadata': {}}</td>\n",
       "      <td>{'metric_name': 'IsQuasiConstantFeature', 'metric_description': 'Feature Metric to compute if all values are almost same', 'variable_count': 1, 'variable_names': ['is_quasi_constant'], 'variable_types': ['BINARY'], 'variable_dtypes': ['BOOLEAN'], 'variable_dimensions': [0], 'metric_data': [False], 'metadata': {}}</td>\n",
       "      <td>{'metric_name': 'IsQuasiConstantFeature', 'metric_description': 'Feature Metric to compute if all values are almost same', 'variable_count': 1, 'variable_names': ['is_quasi_constant'], 'variable_types': ['BINARY'], 'variable_dtypes': ['BOOLEAN'], 'variable_dimensions': [0], 'metric_data': [False], 'metadata': {}}</td>\n",
       "      <td>{'metric_name': 'IsQuasiConstantFeature', 'metric_description': 'Feature Metric to compute if all values are almost same', 'variable_count': 1, 'variable_names': ['is_quasi_constant'], 'variable_types': ['BINARY'], 'variable_dtypes': ['BOOLEAN'], 'variable_dimensions': [0], 'metric_data': [False], 'metadata': {}}</td>\n",
       "      <td>{'metric_name': 'IsQuasiConstantFeature', 'metric_description': 'Feature Metric to compute if all values are almost same', 'variable_count': 1, 'variable_names': ['is_quasi_constant'], 'variable_types': ['BINARY'], 'variable_dtypes': ['BOOLEAN'], 'variable_dimensions': [0], 'metric_data': [False], 'metadata': {}}</td>\n",
       "      <td>{'metric_name': 'IsQuasiConstantFeature', 'metric_description': 'Feature Metric to compute if all values are almost same', 'variable_count': 1, 'variable_names': ['is_quasi_constant'], 'variable_types': ['BINARY'], 'variable_dtypes': ['BOOLEAN'], 'variable_dimensions': [0], 'metric_data': [False], 'metadata': {}}</td>\n",
       "      <td>{'metric_name': 'IsQuasiConstantFeature', 'metric_description': 'Feature Metric to compute if all values are almost same', 'variable_count': 1, 'variable_names': ['is_quasi_constant'], 'variable_types': ['BINARY'], 'variable_dtypes': ['BOOLEAN'], 'variable_dimensions': [0], 'metric_data': [False], 'metadata': {}}</td>\n",
       "    </tr>\n",
       "    <tr>\n",
       "      <th>DistinctCount</th>\n",
       "      <td>{'metric_name': 'DistinctCount', 'metric_description': 'Approximate Distinct Count', 'variable_count': 1, 'variable_names': ['distinct_count'], 'variable_types': ['CONTINUOUS'], 'variable_dtypes': ['INTEGER'], 'variable_dimensions': [0], 'metric_data': [326], 'metadata': {}}</td>\n",
       "      <td>{'metric_name': 'DistinctCount', 'metric_description': 'Approximate Distinct Count', 'variable_count': 1, 'variable_names': ['distinct_count'], 'variable_types': ['CONTINUOUS'], 'variable_dtypes': ['INTEGER'], 'variable_dimensions': [0], 'metric_data': [128], 'metadata': {}}</td>\n",
       "      <td>{'metric_name': 'DistinctCount', 'metric_description': 'Approximate Distinct Count', 'variable_count': 1, 'variable_names': ['distinct_count'], 'variable_types': ['CONTINUOUS'], 'variable_dtypes': ['INTEGER'], 'variable_dimensions': [0], 'metric_data': [435], 'metadata': {}}</td>\n",
       "      <td>{'metric_name': 'DistinctCount', 'metric_description': 'Approximate Distinct Count', 'variable_count': 1, 'variable_names': ['distinct_count'], 'variable_types': ['CONTINUOUS'], 'variable_dtypes': ['INTEGER'], 'variable_dimensions': [0], 'metric_data': [276], 'metadata': {}}</td>\n",
       "      <td>{'metric_name': 'DistinctCount', 'metric_description': 'Approximate Distinct Count', 'variable_count': 1, 'variable_names': ['distinct_count'], 'variable_types': ['CONTINUOUS'], 'variable_dtypes': ['INTEGER'], 'variable_dimensions': [0], 'metric_data': [550], 'metadata': {}}</td>\n",
       "      <td>{'metric_name': 'DistinctCount', 'metric_description': 'Approximate Distinct Count', 'variable_count': 1, 'variable_names': ['distinct_count'], 'variable_types': ['CONTINUOUS'], 'variable_dtypes': ['INTEGER'], 'variable_dimensions': [0], 'metric_data': [95], 'metadata': {}}</td>\n",
       "      <td>{'metric_name': 'DistinctCount', 'metric_description': 'Approximate Distinct Count', 'variable_count': 1, 'variable_names': ['distinct_count'], 'variable_types': ['CONTINUOUS'], 'variable_dtypes': ['INTEGER'], 'variable_dimensions': [0], 'metric_data': [2], 'metadata': {}}</td>\n",
       "      <td>{'metric_name': 'DistinctCount', 'metric_description': 'Approximate Distinct Count', 'variable_count': 1, 'variable_names': ['distinct_count'], 'variable_types': ['CONTINUOUS'], 'variable_dtypes': ['INTEGER'], 'variable_dimensions': [0], 'metric_data': [2], 'metadata': {}}</td>\n",
       "    </tr>\n",
       "    <tr>\n",
       "      <th>Sum</th>\n",
       "      <td>{'metric_name': 'Sum', 'metric_description': '', 'variable_count': 1, 'variable_names': ['sum'], 'variable_types': ['CONTINUOUS'], 'variable_dtypes': ['FLOAT'], 'variable_dimensions': [0], 'metric_data': [168528.19999999998], 'metadata': {}}</td>\n",
       "      <td>{'metric_name': 'Sum', 'metric_description': '', 'variable_count': 1, 'variable_names': ['sum'], 'variable_types': ['CONTINUOUS'], 'variable_dtypes': ['FLOAT'], 'variable_dimensions': [0], 'metric_data': [56216.5], 'metadata': {}}</td>\n",
       "      <td>{'metric_name': 'Sum', 'metric_description': '', 'variable_count': 1, 'variable_names': ['sum'], 'variable_types': ['CONTINUOUS'], 'variable_dtypes': ['FLOAT'], 'variable_dimensions': [0], 'metric_data': [20036.04], 'metadata': {}}</td>\n",
       "      <td>{'metric_name': 'Sum', 'metric_description': '', 'variable_count': 1, 'variable_names': ['sum'], 'variable_types': ['CONTINUOUS'], 'variable_dtypes': ['FLOAT'], 'variable_dimensions': [0], 'metric_data': [38466.5], 'metadata': {}}</td>\n",
       "      <td>{'metric_name': 'Sum', 'metric_description': '', 'variable_count': 1, 'variable_names': ['sum'], 'variable_types': ['CONTINUOUS'], 'variable_dtypes': ['FLOAT'], 'variable_dimensions': [0], 'metric_data': [1136198.0], 'metadata': {}}</td>\n",
       "      <td>{'metric_name': 'Sum', 'metric_description': '', 'variable_count': 1, 'variable_names': ['sum'], 'variable_types': ['CONTINUOUS'], 'variable_dtypes': ['FLOAT'], 'variable_dimensions': [0], 'metric_data': [205716.0], 'metadata': {}}</td>\n",
       "      <td>{'metric_name': 'Sum', 'metric_description': '', 'variable_count': 1, 'variable_names': ['sum'], 'variable_types': ['CONTINUOUS'], 'variable_dtypes': ['FLOAT'], 'variable_dimensions': [0], 'metric_data': [2290.0], 'metadata': {}}</td>\n",
       "      <td>{'metric_name': 'Sum', 'metric_description': '', 'variable_count': 1, 'variable_names': ['sum'], 'variable_types': ['CONTINUOUS'], 'variable_dtypes': ['FLOAT'], 'variable_dimensions': [0], 'metric_data': [2628.0], 'metadata': {}}</td>\n",
       "    </tr>\n",
       "    <tr>\n",
       "      <th>Kurtosis</th>\n",
       "      <td>{'metric_name': 'Kurtosis', 'metric_description': 'Feature Metric to compute Kurtosis', 'variable_count': 1, 'variable_names': ['kurtosis'], 'variable_types': ['CONTINUOUS'], 'variable_dtypes': ['FLOAT'], 'variable_dimensions': [0], 'metric_data': [0.128107999757428], 'metadata': {}}</td>\n",
       "      <td>{'metric_name': 'Kurtosis', 'metric_description': 'Feature Metric to compute Kurtosis', 'variable_count': 1, 'variable_names': ['kurtosis'], 'variable_types': ['CONTINUOUS'], 'variable_dtypes': ['FLOAT'], 'variable_dimensions': [0], 'metric_data': [-0.064811929023964], 'metadata': {}}</td>\n",
       "      <td>{'metric_name': 'Kurtosis', 'metric_description': 'Feature Metric to compute Kurtosis', 'variable_count': 1, 'variable_names': ['kurtosis'], 'variable_types': ['CONTINUOUS'], 'variable_dtypes': ['FLOAT'], 'variable_dimensions': [0], 'metric_data': [0.5246227066982521], 'metadata': {}}</td>\n",
       "      <td>{'metric_name': 'Kurtosis', 'metric_description': 'Feature Metric to compute Kurtosis', 'variable_count': 1, 'variable_names': ['kurtosis'], 'variable_types': ['CONTINUOUS'], 'variable_dtypes': ['FLOAT'], 'variable_dimensions': [0], 'metric_data': [17.721173730517165], 'metadata': {}}</td>\n",
       "      <td>{'metric_name': 'Kurtosis', 'metric_description': 'Feature Metric to compute Kurtosis', 'variable_count': 1, 'variable_names': ['kurtosis'], 'variable_types': ['CONTINUOUS'], 'variable_dtypes': ['FLOAT'], 'variable_dimensions': [0], 'metric_data': [3.9302722437805953], 'metadata': {}}</td>\n",
       "      <td>{'metric_name': 'Kurtosis', 'metric_description': 'Feature Metric to compute Kurtosis', 'variable_count': 1, 'variable_names': ['kurtosis'], 'variable_types': ['CONTINUOUS'], 'variable_dtypes': ['FLOAT'], 'variable_dimensions': [0], 'metric_data': [-0.839838819576141], 'metadata': {}}</td>\n",
       "      <td>{'metric_name': 'Kurtosis', 'metric_description': 'Feature Metric to compute Kurtosis', 'variable_count': 1, 'variable_names': ['kurtosis'], 'variable_types': ['CONTINUOUS'], 'variable_dtypes': ['FLOAT'], 'variable_dimensions': [0], 'metric_data': [-1.9941918516353931], 'metadata': {}}</td>\n",
       "      <td>{'metric_name': 'Kurtosis', 'metric_description': 'Feature Metric to compute Kurtosis', 'variable_count': 1, 'variable_names': ['kurtosis'], 'variable_types': ['CONTINUOUS'], 'variable_dtypes': ['FLOAT'], 'variable_dimensions': [0], 'metric_data': [-1.848062602807981], 'metadata': {}}</td>\n",
       "    </tr>\n",
       "    <tr>\n",
       "      <th>Quartiles</th>\n",
       "      <td>{'metric_name': 'Quartiles', 'metric_description': 'Feature Metric to compute Quartiles (Q1, Q2, Q3)', 'variable_count': 3, 'variable_names': ['q1', 'q2', 'q3'], 'variable_types': ['CONTINUOUS', 'CONTINUOUS', 'CONTINUOUS'], 'variable_dtypes': ['FLOAT', 'FLOAT', 'FLOAT'], 'variable_dimensions': [0, 0, 0], 'metric_data': [34.4, 38.7, 42.5], 'metadata': {}}</td>\n",
       "      <td>{'metric_name': 'Quartiles', 'metric_description': 'Feature Metric to compute Quartiles (Q1, Q2, Q3)', 'variable_count': 3, 'variable_names': ['q1', 'q2', 'q3'], 'variable_types': ['CONTINUOUS', 'CONTINUOUS', 'CONTINUOUS'], 'variable_dtypes': ['FLOAT', 'FLOAT', 'FLOAT'], 'variable_dimensions': [0, 0, 0], 'metric_data': [11.4, 12.9, 14.2], 'metadata': {}}</td>\n",
       "      <td>{'metric_name': 'Quartiles', 'metric_description': 'Feature Metric to compute Quartiles (Q1, Q2, Q3)', 'variable_count': 3, 'variable_names': ['q1', 'q2', 'q3'], 'variable_types': ['CONTINUOUS', 'CONTINUOUS', 'CONTINUOUS'], 'variable_dtypes': ['FLOAT', 'FLOAT', 'FLOAT'], 'variable_dimensions': [0, 0, 0], 'metric_data': [4.06, 4.58, 5.06], 'metadata': {}}</td>\n",
       "      <td>{'metric_name': 'Quartiles', 'metric_description': 'Feature Metric to compute Quartiles (Q1, Q2, Q3)', 'variable_count': 3, 'variable_names': ['q1', 'q2', 'q3'], 'variable_types': ['CONTINUOUS', 'CONTINUOUS', 'CONTINUOUS'], 'variable_dtypes': ['FLOAT', 'FLOAT', 'FLOAT'], 'variable_dimensions': [0, 0, 0], 'metric_data': [5.7, 7.6, 10.4], 'metadata': {}}</td>\n",
       "      <td>{'metric_name': 'Quartiles', 'metric_description': 'Feature Metric to compute Quartiles (Q1, Q2, Q3)', 'variable_count': 3, 'variable_names': ['q1', 'q2', 'q3'], 'variable_types': ['CONTINUOUS', 'CONTINUOUS', 'CONTINUOUS'], 'variable_dtypes': ['FLOAT', 'FLOAT', 'FLOAT'], 'variable_dimensions': [0, 0, 0], 'metric_data': [189.0, 256.0, 321.0], 'metadata': {}}</td>\n",
       "      <td>{'metric_name': 'Quartiles', 'metric_description': 'Feature Metric to compute Quartiles (Q1, Q2, Q3)', 'variable_count': 3, 'variable_names': ['q1', 'q2', 'q3'], 'variable_types': ['CONTINUOUS', 'CONTINUOUS', 'CONTINUOUS'], 'variable_dtypes': ['FLOAT', 'FLOAT', 'FLOAT'], 'variable_dimensions': [0, 0, 0], 'metric_data': [29.0, 47.0, 64.0], 'metadata': {}}</td>\n",
       "      <td>{'metric_name': 'Quartiles', 'metric_description': 'Feature Metric to compute Quartiles (Q1, Q2, Q3)', 'variable_count': 3, 'variable_names': ['q1', 'q2', 'q3'], 'variable_types': ['CONTINUOUS', 'CONTINUOUS', 'CONTINUOUS'], 'variable_dtypes': ['FLOAT', 'FLOAT', 'FLOAT'], 'variable_dimensions': [0, 0, 0], 'metric_data': [0.0, 1.0, 1.0], 'metadata': {}}</td>\n",
       "      <td>{'metric_name': 'Quartiles', 'metric_description': 'Feature Metric to compute Quartiles (Q1, Q2, Q3)', 'variable_count': 3, 'variable_names': ['q1', 'q2', 'q3'], 'variable_types': ['CONTINUOUS', 'CONTINUOUS', 'CONTINUOUS'], 'variable_dtypes': ['FLOAT', 'FLOAT', 'FLOAT'], 'variable_dimensions': [0, 0, 0], 'metric_data': [0.0, 1.0, 1.0], 'metadata': {}}</td>\n",
       "    </tr>\n",
       "    <tr>\n",
       "      <th>Mean</th>\n",
       "      <td>{'metric_name': 'Mean', 'metric_description': 'Feature Metric to compute mean', 'variable_count': 1, 'variable_names': ['mean'], 'variable_types': ['CONTINUOUS'], 'variable_dtypes': ['FLOAT'], 'variable_dimensions': [0], 'metric_data': [38.19768812330008], 'metadata': {}}</td>\n",
       "      <td>{'metric_name': 'Mean', 'metric_description': 'Feature Metric to compute mean', 'variable_count': 1, 'variable_names': ['mean'], 'variable_types': ['CONTINUOUS'], 'variable_dtypes': ['FLOAT'], 'variable_dimensions': [0], 'metric_data': [12.741727107887577], 'metadata': {}}</td>\n",
       "      <td>{'metric_name': 'Mean', 'metric_description': 'Feature Metric to compute mean', 'variable_count': 1, 'variable_names': ['mean'], 'variable_types': ['CONTINUOUS'], 'variable_dtypes': ['FLOAT'], 'variable_dimensions': [0], 'metric_data': [4.541260199456029], 'metadata': {}}</td>\n",
       "      <td>{'metric_name': 'Mean', 'metric_description': 'Feature Metric to compute mean', 'variable_count': 1, 'variable_names': ['mean'], 'variable_types': ['CONTINUOUS'], 'variable_dtypes': ['FLOAT'], 'variable_dimensions': [0], 'metric_data': [8.718608340888485], 'metadata': {}}</td>\n",
       "      <td>{'metric_name': 'Mean', 'metric_description': 'Feature Metric to compute mean', 'variable_count': 1, 'variable_names': ['mean'], 'variable_types': ['CONTINUOUS'], 'variable_dtypes': ['FLOAT'], 'variable_dimensions': [0], 'metric_data': [257.5244786944696], 'metadata': {}}</td>\n",
       "      <td>{'metric_name': 'Mean', 'metric_description': 'Feature Metric to compute mean', 'variable_count': 1, 'variable_names': ['mean'], 'variable_types': ['CONTINUOUS'], 'variable_dtypes': ['FLOAT'], 'variable_dimensions': [0], 'metric_data': [46.626473254759745], 'metadata': {}}</td>\n",
       "      <td>{'metric_name': 'Mean', 'metric_description': 'Feature Metric to compute mean', 'variable_count': 1, 'variable_names': ['mean'], 'variable_types': ['CONTINUOUS'], 'variable_dtypes': ['FLOAT'], 'variable_dimensions': [0], 'metric_data': [0.5190389845874881], 'metadata': {}}</td>\n",
       "      <td>{'metric_name': 'Mean', 'metric_description': 'Feature Metric to compute mean', 'variable_count': 1, 'variable_names': ['mean'], 'variable_types': ['CONTINUOUS'], 'variable_dtypes': ['FLOAT'], 'variable_dimensions': [0], 'metric_data': [0.5956482320942881], 'metadata': {}}</td>\n",
       "    </tr>\n",
       "    <tr>\n",
       "      <th>Max</th>\n",
       "      <td>{'metric_name': 'Max', 'metric_description': 'Feature Metric to compute maximum value', 'variable_count': 1, 'variable_names': ['max'], 'variable_types': ['CONTINUOUS'], 'variable_dtypes': ['FLOAT'], 'variable_dimensions': [0], 'metric_data': [69.0], 'metadata': {}}</td>\n",
       "      <td>{'metric_name': 'Max', 'metric_description': 'Feature Metric to compute maximum value', 'variable_count': 1, 'variable_names': ['max'], 'variable_types': ['CONTINUOUS'], 'variable_dtypes': ['FLOAT'], 'variable_dimensions': [0], 'metric_data': [18.9], 'metadata': {}}</td>\n",
       "      <td>{'metric_name': 'Max', 'metric_description': 'Feature Metric to compute maximum value', 'variable_count': 1, 'variable_names': ['max'], 'variable_types': ['CONTINUOUS'], 'variable_dtypes': ['FLOAT'], 'variable_dimensions': [0], 'metric_data': [7.86], 'metadata': {}}</td>\n",
       "      <td>{'metric_name': 'Max', 'metric_description': 'Feature Metric to compute maximum value', 'variable_count': 1, 'variable_names': ['max'], 'variable_types': ['CONTINUOUS'], 'variable_dtypes': ['FLOAT'], 'variable_dimensions': [0], 'metric_data': [76.6], 'metadata': {}}</td>\n",
       "      <td>{'metric_name': 'Max', 'metric_description': 'Feature Metric to compute maximum value', 'variable_count': 1, 'variable_names': ['max'], 'variable_types': ['CONTINUOUS'], 'variable_dtypes': ['FLOAT'], 'variable_dimensions': [0], 'metric_data': [1183.0], 'metadata': {}}</td>\n",
       "      <td>{'metric_name': 'Max', 'metric_description': 'Feature Metric to compute maximum value', 'variable_count': 1, 'variable_names': ['max'], 'variable_types': ['CONTINUOUS'], 'variable_dtypes': ['FLOAT'], 'variable_dimensions': [0], 'metric_data': [99.0], 'metadata': {}}</td>\n",
       "      <td>{'metric_name': 'Max', 'metric_description': 'Feature Metric to compute maximum value', 'variable_count': 1, 'variable_names': ['max'], 'variable_types': ['CONTINUOUS'], 'variable_dtypes': ['FLOAT'], 'variable_dimensions': [0], 'metric_data': [1.0], 'metadata': {}}</td>\n",
       "      <td>{'metric_name': 'Max', 'metric_description': 'Feature Metric to compute maximum value', 'variable_count': 1, 'variable_names': ['max'], 'variable_types': ['CONTINUOUS'], 'variable_dtypes': ['FLOAT'], 'variable_dimensions': [0], 'metric_data': [1.0], 'metadata': {}}</td>\n",
       "    </tr>\n",
       "  </tbody>\n",
       "</table>\n",
       "</div>"
      ],
      "text/plain": [
       "                                                                                                                                                                                                                                                                                                                                                                                                                                                                                                                                                                                                                                                                                                                                                         HAEMATOCRIT  \\\n",
       "Skewness                                                                                                                                                                                                                                                                                                                                                                                                                                                             {'metric_name': 'Skewness', 'metric_description': 'Feature Metric to compute Skewness', 'variable_count': 1, 'variable_names': ['skewness'], 'variable_types': ['CONTINUOUS'], 'variable_dtypes': ['FLOAT'], 'variable_dimensions': [0], 'metric_data': [-0.30371526085897005], 'metadata': {}}   \n",
       "StandardDeviation                                                                                                                                                                                                                                                                                                                                                                                                                          {'metric_name': 'StandardDeviation', 'metric_description': 'Feature Metric to compute Standard Deviation', 'variable_count': 1, 'variable_names': ['standard_deviation'], 'variable_types': ['CONTINUOUS'], 'variable_dtypes': ['FLOAT'], 'variable_dimensions': [0], 'metric_data': [5.974107330011201], 'metadata': {}}   \n",
       "Min                                                                                                                                                                                                                                                                                                                                                                                                                                                                                       {'metric_name': 'Min', 'metric_description': 'Feature Metric to compute minimum value', 'variable_count': 1, 'variable_names': ['min'], 'variable_types': ['CONTINUOUS'], 'variable_dtypes': ['FLOAT'], 'variable_dimensions': [0], 'metric_data': [13.7], 'metadata': {}}   \n",
       "IsConstantFeature                                                                                                                                                                                                                                                                                                                                                                                                                                           {'metric_name': 'IsConstantFeature', 'metric_description': 'Feature Metric to compute if all values are same', 'variable_count': 1, 'variable_names': ['is_constant'], 'variable_types': ['BINARY'], 'variable_dtypes': ['BOOLEAN'], 'variable_dimensions': [0], 'metric_data': [False], 'metadata': {}}   \n",
       "IQR                                                                                                                                                                                                                                               {'metric_name': 'IQR', 'metric_description': 'Compute the interquartile range of the data. Interquartile range (IQR) is the difference between the 75th and 25th percentile of the data. It is a measure of the dispersion similar to standard deviation or variance, but is much more robust against outliers', 'variable_count': 1, 'variable_names': ['i_q_r'], 'variable_types': ['CONTINUOUS'], 'variable_dtypes': ['FLOAT'], 'variable_dimensions': [0], 'metric_data': [8.100000000000001], 'metadata': {}}   \n",
       "Range                                                                                                                                                                                                                                                                                                                                                                                                                                                                                   {'metric_name': 'Range', 'metric_description': 'Feature Metric to compute range value', 'variable_count': 1, 'variable_names': ['range'], 'variable_types': ['CONTINUOUS'], 'variable_dtypes': ['FLOAT'], 'variable_dimensions': [0], 'metric_data': [55.3], 'metadata': {}}   \n",
       "KolmogorovSmirnov                                                                                                                                                                                                                                                                                                                                                                                                                                                                                                  {'metric_name': 'KolmogorovSmirnov', 'metric_description': 'Data Drift Metric to compute two-sample Kolmogorov-Smirnov test for goodness of fit', 'error': 'Missing required parameter profile or registry or feature name in KolmogorovSmirnov'}   \n",
       "ProbabilityDistribution  {'metric_name': 'ProbabilityDistribution', 'metric_description': 'Feature Metric to compute probability density', 'variable_count': 2, 'variable_names': ['bins', 'density'], 'variable_types': ['CONTINUOUS', 'CONTINUOUS'], 'variable_dtypes': ['FLOAT', 'FLOAT'], 'variable_dimensions': [1, 1], 'metric_data': [[13.7, 17.65, 21.599999999999998, 25.549999999999997, 29.5, 33.45, 37.4, 41.349999999999994, 45.3, 49.25, 53.2, 57.14999999999999, 61.099999999999994, 65.05, 69.0], [0.0027198549410690004, 0.0, 0.018132366273798002, 0.065276518585675, 0.12692656391659102, 0.19945602901178602, 0.264732547597461, 0.213961922030824, 0.090661831368993, 0.014505893019039002, 0.003626473254759, 0.0, 0.0, 0.0]], 'metadata': {}}   \n",
       "Variance                                                                                                                                                                                                                                                                                                                                                                                                                                                                {'metric_name': 'Variance', 'metric_description': 'Feature Metric to compute Variance', 'variable_count': 1, 'variable_names': ['variance'], 'variable_types': ['CONTINUOUS'], 'variable_dtypes': ['FLOAT'], 'variable_dimensions': [0], 'metric_data': [35.68995839049357], 'metadata': {}}   \n",
       "TypeMetric                                                                                                                                                                                                                                                                     {'metric_name': 'TypeMetric', 'metric_description': 'Feature Metric to compute count of data types for feature values', 'variable_count': 4, 'variable_names': ['string_type_count', 'integral_type_count', 'fractional_type_count', 'boolean_type_count'], 'variable_types': ['DISCRETE', 'DISCRETE', 'DISCRETE', 'DISCRETE'], 'variable_dtypes': ['INTEGER', 'INTEGER', 'INTEGER', 'INTEGER'], 'variable_dimensions': [0, 0, 0, 0], 'metric_data': [0, 0, 4412, 0], 'metadata': {}}   \n",
       "FrequencyDistribution                                                                                                                                                                      {'metric_name': 'FrequencyDistribution', 'metric_description': 'Feature Metric to compute Frequency distribution', 'variable_count': 2, 'variable_names': ['bins', 'frequency'], 'variable_types': ['CONTINUOUS', 'CONTINUOUS'], 'variable_dtypes': ['FLOAT', 'FLOAT'], 'variable_dimensions': [1, 1], 'metric_data': [[13.7, 17.65, 21.599999999999998, 25.549999999999997, 29.5, 33.45, 37.4, 41.349999999999994, 45.3, 49.25, 53.2, 57.14999999999999, 61.099999999999994, 65.05, 69.0], [12, 0, 80, 288, 560, 880, 1168, 944, 400, 64, 16, 0, 0, 0]], 'metadata': {}}   \n",
       "Count                                                                                                                                                                                                                                                                                                              {'metric_name': 'Count', 'metric_description': 'Feature metric that returns total count, missing count and missing count percentage', 'variable_count': 3, 'variable_names': ['total_count', 'missing_count', 'missing_count_percentage'], 'variable_types': ['CONTINUOUS', 'CONTINUOUS', 'CONTINUOUS'], 'variable_dtypes': ['INTEGER', 'INTEGER', 'FLOAT'], 'variable_dimensions': [0, 0, 0], 'metric_data': [4412.0, 0.0, 0.0], 'metadata': {}}   \n",
       "IsQuasiConstantFeature                                                                                                                                                                                                                                                                                                                                                                                                                    {'metric_name': 'IsQuasiConstantFeature', 'metric_description': 'Feature Metric to compute if all values are almost same', 'variable_count': 1, 'variable_names': ['is_quasi_constant'], 'variable_types': ['BINARY'], 'variable_dtypes': ['BOOLEAN'], 'variable_dimensions': [0], 'metric_data': [False], 'metadata': {}}   \n",
       "DistinctCount                                                                                                                                                                                                                                                                                                                                                                                                                                                                    {'metric_name': 'DistinctCount', 'metric_description': 'Approximate Distinct Count', 'variable_count': 1, 'variable_names': ['distinct_count'], 'variable_types': ['CONTINUOUS'], 'variable_dtypes': ['INTEGER'], 'variable_dimensions': [0], 'metric_data': [326], 'metadata': {}}   \n",
       "Sum                                                                                                                                                                                                                                                                                                                                                                                                                                                                                                                {'metric_name': 'Sum', 'metric_description': '', 'variable_count': 1, 'variable_names': ['sum'], 'variable_types': ['CONTINUOUS'], 'variable_dtypes': ['FLOAT'], 'variable_dimensions': [0], 'metric_data': [168528.19999999998], 'metadata': {}}   \n",
       "Kurtosis                                                                                                                                                                                                                                                                                                                                                                                                                                                                {'metric_name': 'Kurtosis', 'metric_description': 'Feature Metric to compute Kurtosis', 'variable_count': 1, 'variable_names': ['kurtosis'], 'variable_types': ['CONTINUOUS'], 'variable_dtypes': ['FLOAT'], 'variable_dimensions': [0], 'metric_data': [0.128107999757428], 'metadata': {}}   \n",
       "Quartiles                                                                                                                                                                                                                                                                                                                                                                                       {'metric_name': 'Quartiles', 'metric_description': 'Feature Metric to compute Quartiles (Q1, Q2, Q3)', 'variable_count': 3, 'variable_names': ['q1', 'q2', 'q3'], 'variable_types': ['CONTINUOUS', 'CONTINUOUS', 'CONTINUOUS'], 'variable_dtypes': ['FLOAT', 'FLOAT', 'FLOAT'], 'variable_dimensions': [0, 0, 0], 'metric_data': [34.4, 38.7, 42.5], 'metadata': {}}   \n",
       "Mean                                                                                                                                                                                                                                                                                                                                                                                                                                                                                {'metric_name': 'Mean', 'metric_description': 'Feature Metric to compute mean', 'variable_count': 1, 'variable_names': ['mean'], 'variable_types': ['CONTINUOUS'], 'variable_dtypes': ['FLOAT'], 'variable_dimensions': [0], 'metric_data': [38.19768812330008], 'metadata': {}}   \n",
       "Max                                                                                                                                                                                                                                                                                                                                                                                                                                                                                       {'metric_name': 'Max', 'metric_description': 'Feature Metric to compute maximum value', 'variable_count': 1, 'variable_names': ['max'], 'variable_types': ['CONTINUOUS'], 'variable_dtypes': ['FLOAT'], 'variable_dimensions': [0], 'metric_data': [69.0], 'metadata': {}}   \n",
       "\n",
       "                                                                                                                                                                                                                                                                                                                                                                                                                                                                                                                                                                                                                                                                                                                                                                                                                                                                                           HAEMOGLOBINS  \\\n",
       "Skewness                                                                                                                                                                                                                                                                                                                                                                                                                                                                                                                                                                                                  {'metric_name': 'Skewness', 'metric_description': 'Feature Metric to compute Skewness', 'variable_count': 1, 'variable_names': ['skewness'], 'variable_types': ['CONTINUOUS'], 'variable_dtypes': ['FLOAT'], 'variable_dimensions': [0], 'metric_data': [-0.312333213182426], 'metadata': {}}   \n",
       "StandardDeviation                                                                                                                                                                                                                                                                                                                                                                                                                                                                                                                                                             {'metric_name': 'StandardDeviation', 'metric_description': 'Feature Metric to compute Standard Deviation', 'variable_count': 1, 'variable_names': ['standard_deviation'], 'variable_types': ['CONTINUOUS'], 'variable_dtypes': ['FLOAT'], 'variable_dimensions': [0], 'metric_data': [2.079667141984532], 'metadata': {}}   \n",
       "Min                                                                                                                                                                                                                                                                                                                                                                                                                                                                                                                                                                                                                           {'metric_name': 'Min', 'metric_description': 'Feature Metric to compute minimum value', 'variable_count': 1, 'variable_names': ['min'], 'variable_types': ['CONTINUOUS'], 'variable_dtypes': ['FLOAT'], 'variable_dimensions': [0], 'metric_data': [3.8], 'metadata': {}}   \n",
       "IsConstantFeature                                                                                                                                                                                                                                                                                                                                                                                                                                                                                                                                                                              {'metric_name': 'IsConstantFeature', 'metric_description': 'Feature Metric to compute if all values are same', 'variable_count': 1, 'variable_names': ['is_constant'], 'variable_types': ['BINARY'], 'variable_dtypes': ['BOOLEAN'], 'variable_dimensions': [0], 'metric_data': [False], 'metadata': {}}   \n",
       "IQR                                                                                                                                                                                                                                                                                                                                                                                  {'metric_name': 'IQR', 'metric_description': 'Compute the interquartile range of the data. Interquartile range (IQR) is the difference between the 75th and 25th percentile of the data. It is a measure of the dispersion similar to standard deviation or variance, but is much more robust against outliers', 'variable_count': 1, 'variable_names': ['i_q_r'], 'variable_types': ['CONTINUOUS'], 'variable_dtypes': ['FLOAT'], 'variable_dimensions': [0], 'metric_data': [2.799999999999999], 'metadata': {}}   \n",
       "Range                                                                                                                                                                                                                                                                                                                                                                                                                                                                                                                                                                                                        {'metric_name': 'Range', 'metric_description': 'Feature Metric to compute range value', 'variable_count': 1, 'variable_names': ['range'], 'variable_types': ['CONTINUOUS'], 'variable_dtypes': ['FLOAT'], 'variable_dimensions': [0], 'metric_data': [15.099999999999998], 'metadata': {}}   \n",
       "KolmogorovSmirnov                                                                                                                                                                                                                                                                                                                                                                                                                                                                                                                                                                                                                                     {'metric_name': 'KolmogorovSmirnov', 'metric_description': 'Data Drift Metric to compute two-sample Kolmogorov-Smirnov test for goodness of fit', 'error': 'Missing required parameter profile or registry or feature name in KolmogorovSmirnov'}   \n",
       "ProbabilityDistribution  {'metric_name': 'ProbabilityDistribution', 'metric_description': 'Feature Metric to compute probability density', 'variable_count': 2, 'variable_names': ['bins', 'density'], 'variable_types': ['CONTINUOUS', 'CONTINUOUS'], 'variable_dtypes': ['FLOAT', 'FLOAT'], 'variable_dimensions': [1, 1], 'metric_data': [[3.8, 4.878571428571428, 5.957142857142857, 7.035714285714286, 8.114285714285714, 9.192857142857143, 10.271428571428572, 11.35, 12.428571428571427, 13.507142857142856, 14.585714285714285, 15.664285714285715, 16.742857142857144, 17.82142857142857, 18.9], [0.0009066183136890001, 0.001813236627379, 0.0, 0.010879419764279, 0.036264732547597, 0.07978241160471401, 0.10879419764279201, 0.17769718948322702, 0.21033544877606503, 0.174070716228467, 0.12692656391659102, 0.058023572076155, 0.010879419764279, 0.003626473254759]], 'metadata': {}}   \n",
       "Variance                                                                                                                                                                                                                                                                                                                                                                                                                                                                                                                                                                                                   {'metric_name': 'Variance', 'metric_description': 'Feature Metric to compute Variance', 'variable_count': 1, 'variable_names': ['variance'], 'variable_types': ['CONTINUOUS'], 'variable_dtypes': ['FLOAT'], 'variable_dimensions': [0], 'metric_data': [4.325015421450113], 'metadata': {}}   \n",
       "TypeMetric                                                                                                                                                                                                                                                                                                                                                                                                        {'metric_name': 'TypeMetric', 'metric_description': 'Feature Metric to compute count of data types for feature values', 'variable_count': 4, 'variable_names': ['string_type_count', 'integral_type_count', 'fractional_type_count', 'boolean_type_count'], 'variable_types': ['DISCRETE', 'DISCRETE', 'DISCRETE', 'DISCRETE'], 'variable_dtypes': ['INTEGER', 'INTEGER', 'INTEGER', 'INTEGER'], 'variable_dimensions': [0, 0, 0, 0], 'metric_data': [0, 0, 4412, 0], 'metadata': {}}   \n",
       "FrequencyDistribution                                                                                                                                                                                                              {'metric_name': 'FrequencyDistribution', 'metric_description': 'Feature Metric to compute Frequency distribution', 'variable_count': 2, 'variable_names': ['bins', 'frequency'], 'variable_types': ['CONTINUOUS', 'CONTINUOUS'], 'variable_dtypes': ['FLOAT', 'FLOAT'], 'variable_dimensions': [1, 1], 'metric_data': [[3.8, 4.878571428571428, 5.957142857142857, 7.035714285714286, 8.114285714285714, 9.192857142857143, 10.271428571428572, 11.35, 12.428571428571427, 13.507142857142856, 14.585714285714285, 15.664285714285715, 16.742857142857144, 17.82142857142857, 18.9], [4, 8, 0, 48, 160, 352, 480, 784, 928, 768, 560, 256, 48, 16]], 'metadata': {}}   \n",
       "Count                                                                                                                                                                                                                                                                                                                                                                                                                                                 {'metric_name': 'Count', 'metric_description': 'Feature metric that returns total count, missing count and missing count percentage', 'variable_count': 3, 'variable_names': ['total_count', 'missing_count', 'missing_count_percentage'], 'variable_types': ['CONTINUOUS', 'CONTINUOUS', 'CONTINUOUS'], 'variable_dtypes': ['INTEGER', 'INTEGER', 'FLOAT'], 'variable_dimensions': [0, 0, 0], 'metric_data': [4412.0, 0.0, 0.0], 'metadata': {}}   \n",
       "IsQuasiConstantFeature                                                                                                                                                                                                                                                                                                                                                                                                                                                                                                                                                       {'metric_name': 'IsQuasiConstantFeature', 'metric_description': 'Feature Metric to compute if all values are almost same', 'variable_count': 1, 'variable_names': ['is_quasi_constant'], 'variable_types': ['BINARY'], 'variable_dtypes': ['BOOLEAN'], 'variable_dimensions': [0], 'metric_data': [False], 'metadata': {}}   \n",
       "DistinctCount                                                                                                                                                                                                                                                                                                                                                                                                                                                                                                                                                                                                       {'metric_name': 'DistinctCount', 'metric_description': 'Approximate Distinct Count', 'variable_count': 1, 'variable_names': ['distinct_count'], 'variable_types': ['CONTINUOUS'], 'variable_dtypes': ['INTEGER'], 'variable_dimensions': [0], 'metric_data': [128], 'metadata': {}}   \n",
       "Sum                                                                                                                                                                                                                                                                                                                                                                                                                                                                                                                                                                                                                                                              {'metric_name': 'Sum', 'metric_description': '', 'variable_count': 1, 'variable_names': ['sum'], 'variable_types': ['CONTINUOUS'], 'variable_dtypes': ['FLOAT'], 'variable_dimensions': [0], 'metric_data': [56216.5], 'metadata': {}}   \n",
       "Kurtosis                                                                                                                                                                                                                                                                                                                                                                                                                                                                                                                                                                                                  {'metric_name': 'Kurtosis', 'metric_description': 'Feature Metric to compute Kurtosis', 'variable_count': 1, 'variable_names': ['kurtosis'], 'variable_types': ['CONTINUOUS'], 'variable_dtypes': ['FLOAT'], 'variable_dimensions': [0], 'metric_data': [-0.064811929023964], 'metadata': {}}   \n",
       "Quartiles                                                                                                                                                                                                                                                                                                                                                                                                                                                                                                                          {'metric_name': 'Quartiles', 'metric_description': 'Feature Metric to compute Quartiles (Q1, Q2, Q3)', 'variable_count': 3, 'variable_names': ['q1', 'q2', 'q3'], 'variable_types': ['CONTINUOUS', 'CONTINUOUS', 'CONTINUOUS'], 'variable_dtypes': ['FLOAT', 'FLOAT', 'FLOAT'], 'variable_dimensions': [0, 0, 0], 'metric_data': [11.4, 12.9, 14.2], 'metadata': {}}   \n",
       "Mean                                                                                                                                                                                                                                                                                                                                                                                                                                                                                                                                                                                                                  {'metric_name': 'Mean', 'metric_description': 'Feature Metric to compute mean', 'variable_count': 1, 'variable_names': ['mean'], 'variable_types': ['CONTINUOUS'], 'variable_dtypes': ['FLOAT'], 'variable_dimensions': [0], 'metric_data': [12.741727107887577], 'metadata': {}}   \n",
       "Max                                                                                                                                                                                                                                                                                                                                                                                                                                                                                                                                                                                                                          {'metric_name': 'Max', 'metric_description': 'Feature Metric to compute maximum value', 'variable_count': 1, 'variable_names': ['max'], 'variable_types': ['CONTINUOUS'], 'variable_dtypes': ['FLOAT'], 'variable_dimensions': [0], 'metric_data': [18.9], 'metadata': {}}   \n",
       "\n",
       "                                                                                                                                                                                                                                                                                                                                                                                                                                                                                                                                                                                                                                                                                                                                                                                                                                                                                             ERYTHROCYTE  \\\n",
       "Skewness                                                                                                                                                                                                                                                                                                                                                                                                                                                                                                                                                                                                {'metric_name': 'Skewness', 'metric_description': 'Feature Metric to compute Skewness', 'variable_count': 1, 'variable_names': ['skewness'], 'variable_types': ['CONTINUOUS'], 'variable_dtypes': ['FLOAT'], 'variable_dimensions': [0], 'metric_data': [-0.007433477628864001], 'metadata': {}}   \n",
       "StandardDeviation                                                                                                                                                                                                                                                                                                                                                                                                                                                                                                                                                             {'metric_name': 'StandardDeviation', 'metric_description': 'Feature Metric to compute Standard Deviation', 'variable_count': 1, 'variable_names': ['standard_deviation'], 'variable_types': ['CONTINUOUS'], 'variable_dtypes': ['FLOAT'], 'variable_dimensions': [0], 'metric_data': [0.7840023881508601], 'metadata': {}}   \n",
       "Min                                                                                                                                                                                                                                                                                                                                                                                                                                                                                                                                                                                                                           {'metric_name': 'Min', 'metric_description': 'Feature Metric to compute minimum value', 'variable_count': 1, 'variable_names': ['min'], 'variable_types': ['CONTINUOUS'], 'variable_dtypes': ['FLOAT'], 'variable_dimensions': [0], 'metric_data': [1.48], 'metadata': {}}   \n",
       "IsConstantFeature                                                                                                                                                                                                                                                                                                                                                                                                                                                                                                                                                                               {'metric_name': 'IsConstantFeature', 'metric_description': 'Feature Metric to compute if all values are same', 'variable_count': 1, 'variable_names': ['is_constant'], 'variable_types': ['BINARY'], 'variable_dtypes': ['BOOLEAN'], 'variable_dimensions': [0], 'metric_data': [False], 'metadata': {}}   \n",
       "IQR                                                                                                                                                                                                                                                                                                                                                                                                 {'metric_name': 'IQR', 'metric_description': 'Compute the interquartile range of the data. Interquartile range (IQR) is the difference between the 75th and 25th percentile of the data. It is a measure of the dispersion similar to standard deviation or variance, but is much more robust against outliers', 'variable_count': 1, 'variable_names': ['i_q_r'], 'variable_types': ['CONTINUOUS'], 'variable_dtypes': ['FLOAT'], 'variable_dimensions': [0], 'metric_data': [1.0], 'metadata': {}}   \n",
       "Range                                                                                                                                                                                                                                                                                                                                                                                                                                                                                                                                                                                                          {'metric_name': 'Range', 'metric_description': 'Feature Metric to compute range value', 'variable_count': 1, 'variable_names': ['range'], 'variable_types': ['CONTINUOUS'], 'variable_dtypes': ['FLOAT'], 'variable_dimensions': [0], 'metric_data': [6.380000000000001], 'metadata': {}}   \n",
       "KolmogorovSmirnov                                                                                                                                                                                                                                                                                                                                                                                                                                                                                                                                                                                                                                      {'metric_name': 'KolmogorovSmirnov', 'metric_description': 'Data Drift Metric to compute two-sample Kolmogorov-Smirnov test for goodness of fit', 'error': 'Missing required parameter profile or registry or feature name in KolmogorovSmirnov'}   \n",
       "ProbabilityDistribution  {'metric_name': 'ProbabilityDistribution', 'metric_description': 'Feature Metric to compute probability density', 'variable_count': 2, 'variable_names': ['bins', 'density'], 'variable_types': ['CONTINUOUS', 'CONTINUOUS'], 'variable_dtypes': ['FLOAT', 'FLOAT'], 'variable_dimensions': [1, 1], 'metric_data': [[1.48, 1.935714285714285, 2.391428571428571, 2.847142857142857, 3.302857142857143, 3.758571428571429, 4.214285714285715, 4.67, 5.125714285714286, 5.581428571428573, 6.037142857142857, 6.492857142857144, 6.94857142857143, 7.404285714285715, 7.86], [0.0009066183136890001, 0.001813236627379, 0.014505893019038001, 0.047144152311876006, 0.09428830462375301, 0.152311876699909, 0.23934723481414302, 0.23209428830462303, 0.14143245693563, 0.054397098821396005, 0.010879419764279, 0.0072529465095190005, 0.0, 0.003626473254759]], 'metadata': {}}   \n",
       "Variance                                                                                                                                                                                                                                                                                                                                                                                                                                                                                                                                                                                                   {'metric_name': 'Variance', 'metric_description': 'Feature Metric to compute Variance', 'variable_count': 1, 'variable_names': ['variance'], 'variable_types': ['CONTINUOUS'], 'variable_dtypes': ['FLOAT'], 'variable_dimensions': [0], 'metric_data': [0.6146597446262521], 'metadata': {}}   \n",
       "TypeMetric                                                                                                                                                                                                                                                                                                                                                                                                         {'metric_name': 'TypeMetric', 'metric_description': 'Feature Metric to compute count of data types for feature values', 'variable_count': 4, 'variable_names': ['string_type_count', 'integral_type_count', 'fractional_type_count', 'boolean_type_count'], 'variable_types': ['DISCRETE', 'DISCRETE', 'DISCRETE', 'DISCRETE'], 'variable_dtypes': ['INTEGER', 'INTEGER', 'INTEGER', 'INTEGER'], 'variable_dimensions': [0, 0, 0, 0], 'metric_data': [0, 0, 4412, 0], 'metadata': {}}   \n",
       "FrequencyDistribution                                                                                                                                                                                                                     {'metric_name': 'FrequencyDistribution', 'metric_description': 'Feature Metric to compute Frequency distribution', 'variable_count': 2, 'variable_names': ['bins', 'frequency'], 'variable_types': ['CONTINUOUS', 'CONTINUOUS'], 'variable_dtypes': ['FLOAT', 'FLOAT'], 'variable_dimensions': [1, 1], 'metric_data': [[1.48, 1.935714285714285, 2.391428571428571, 2.847142857142857, 3.302857142857143, 3.758571428571429, 4.214285714285715, 4.67, 5.125714285714286, 5.581428571428573, 6.037142857142857, 6.492857142857144, 6.94857142857143, 7.404285714285715, 7.86], [4, 8, 64, 208, 416, 672, 1056, 1024, 624, 240, 48, 32, 0, 16]], 'metadata': {}}   \n",
       "Count                                                                                                                                                                                                                                                                                                                                                                                                                                                  {'metric_name': 'Count', 'metric_description': 'Feature metric that returns total count, missing count and missing count percentage', 'variable_count': 3, 'variable_names': ['total_count', 'missing_count', 'missing_count_percentage'], 'variable_types': ['CONTINUOUS', 'CONTINUOUS', 'CONTINUOUS'], 'variable_dtypes': ['INTEGER', 'INTEGER', 'FLOAT'], 'variable_dimensions': [0, 0, 0], 'metric_data': [4412.0, 0.0, 0.0], 'metadata': {}}   \n",
       "IsQuasiConstantFeature                                                                                                                                                                                                                                                                                                                                                                                                                                                                                                                                                        {'metric_name': 'IsQuasiConstantFeature', 'metric_description': 'Feature Metric to compute if all values are almost same', 'variable_count': 1, 'variable_names': ['is_quasi_constant'], 'variable_types': ['BINARY'], 'variable_dtypes': ['BOOLEAN'], 'variable_dimensions': [0], 'metric_data': [False], 'metadata': {}}   \n",
       "DistinctCount                                                                                                                                                                                                                                                                                                                                                                                                                                                                                                                                                                                                        {'metric_name': 'DistinctCount', 'metric_description': 'Approximate Distinct Count', 'variable_count': 1, 'variable_names': ['distinct_count'], 'variable_types': ['CONTINUOUS'], 'variable_dtypes': ['INTEGER'], 'variable_dimensions': [0], 'metric_data': [435], 'metadata': {}}   \n",
       "Sum                                                                                                                                                                                                                                                                                                                                                                                                                                                                                                                                                                                                                                                              {'metric_name': 'Sum', 'metric_description': '', 'variable_count': 1, 'variable_names': ['sum'], 'variable_types': ['CONTINUOUS'], 'variable_dtypes': ['FLOAT'], 'variable_dimensions': [0], 'metric_data': [20036.04], 'metadata': {}}   \n",
       "Kurtosis                                                                                                                                                                                                                                                                                                                                                                                                                                                                                                                                                                                                   {'metric_name': 'Kurtosis', 'metric_description': 'Feature Metric to compute Kurtosis', 'variable_count': 1, 'variable_names': ['kurtosis'], 'variable_types': ['CONTINUOUS'], 'variable_dtypes': ['FLOAT'], 'variable_dimensions': [0], 'metric_data': [0.5246227066982521], 'metadata': {}}   \n",
       "Quartiles                                                                                                                                                                                                                                                                                                                                                                                                                                                                                                                           {'metric_name': 'Quartiles', 'metric_description': 'Feature Metric to compute Quartiles (Q1, Q2, Q3)', 'variable_count': 3, 'variable_names': ['q1', 'q2', 'q3'], 'variable_types': ['CONTINUOUS', 'CONTINUOUS', 'CONTINUOUS'], 'variable_dtypes': ['FLOAT', 'FLOAT', 'FLOAT'], 'variable_dimensions': [0, 0, 0], 'metric_data': [4.06, 4.58, 5.06], 'metadata': {}}   \n",
       "Mean                                                                                                                                                                                                                                                                                                                                                                                                                                                                                                                                                                                                                    {'metric_name': 'Mean', 'metric_description': 'Feature Metric to compute mean', 'variable_count': 1, 'variable_names': ['mean'], 'variable_types': ['CONTINUOUS'], 'variable_dtypes': ['FLOAT'], 'variable_dimensions': [0], 'metric_data': [4.541260199456029], 'metadata': {}}   \n",
       "Max                                                                                                                                                                                                                                                                                                                                                                                                                                                                                                                                                                                                                           {'metric_name': 'Max', 'metric_description': 'Feature Metric to compute maximum value', 'variable_count': 1, 'variable_names': ['max'], 'variable_types': ['CONTINUOUS'], 'variable_dtypes': ['FLOAT'], 'variable_dimensions': [0], 'metric_data': [7.86], 'metadata': {}}   \n",
       "\n",
       "                                                                                                                                                                                                                                                                                                                                                                                                                                                                                                                                                                                                                                                                                                                                                                                                 LEUCOCYTE  \\\n",
       "Skewness                                                                                                                                                                                                                                                                                                                                                                                                                                                                                                      {'metric_name': 'Skewness', 'metric_description': 'Feature Metric to compute Skewness', 'variable_count': 1, 'variable_names': ['skewness'], 'variable_types': ['CONTINUOUS'], 'variable_dtypes': ['FLOAT'], 'variable_dimensions': [0], 'metric_data': [2.791606961929011], 'metadata': {}}   \n",
       "StandardDeviation                                                                                                                                                                                                                                                                                                                                                                                                                                                                {'metric_name': 'StandardDeviation', 'metric_description': 'Feature Metric to compute Standard Deviation', 'variable_count': 1, 'variable_names': ['standard_deviation'], 'variable_types': ['CONTINUOUS'], 'variable_dtypes': ['FLOAT'], 'variable_dimensions': [0], 'metric_data': [5.048468665770701], 'metadata': {}}   \n",
       "Min                                                                                                                                                                                                                                                                                                                                                                                                                                                                                                                              {'metric_name': 'Min', 'metric_description': 'Feature Metric to compute minimum value', 'variable_count': 1, 'variable_names': ['min'], 'variable_types': ['CONTINUOUS'], 'variable_dtypes': ['FLOAT'], 'variable_dimensions': [0], 'metric_data': [1.1], 'metadata': {}}   \n",
       "IsConstantFeature                                                                                                                                                                                                                                                                                                                                                                                                                                                                                 {'metric_name': 'IsConstantFeature', 'metric_description': 'Feature Metric to compute if all values are same', 'variable_count': 1, 'variable_names': ['is_constant'], 'variable_types': ['BINARY'], 'variable_dtypes': ['BOOLEAN'], 'variable_dimensions': [0], 'metric_data': [False], 'metadata': {}}   \n",
       "IQR                                                                                                                                                                                                                                                                                                   {'metric_name': 'IQR', 'metric_description': 'Compute the interquartile range of the data. Interquartile range (IQR) is the difference between the 75th and 25th percentile of the data. It is a measure of the dispersion similar to standard deviation or variance, but is much more robust against outliers', 'variable_count': 1, 'variable_names': ['i_q_r'], 'variable_types': ['CONTINUOUS'], 'variable_dtypes': ['FLOAT'], 'variable_dimensions': [0], 'metric_data': [4.7], 'metadata': {}}   \n",
       "Range                                                                                                                                                                                                                                                                                                                                                                                                                                                                                                                         {'metric_name': 'Range', 'metric_description': 'Feature Metric to compute range value', 'variable_count': 1, 'variable_names': ['range'], 'variable_types': ['CONTINUOUS'], 'variable_dtypes': ['FLOAT'], 'variable_dimensions': [0], 'metric_data': [75.5], 'metadata': {}}   \n",
       "KolmogorovSmirnov                                                                                                                                                                                                                                                                                                                                                                                                                                                                                                                                        {'metric_name': 'KolmogorovSmirnov', 'metric_description': 'Data Drift Metric to compute two-sample Kolmogorov-Smirnov test for goodness of fit', 'error': 'Missing required parameter profile or registry or feature name in KolmogorovSmirnov'}   \n",
       "ProbabilityDistribution  {'metric_name': 'ProbabilityDistribution', 'metric_description': 'Feature Metric to compute probability density', 'variable_count': 2, 'variable_names': ['bins', 'density'], 'variable_types': ['CONTINUOUS', 'CONTINUOUS'], 'variable_dtypes': ['FLOAT', 'FLOAT'], 'variable_dimensions': [1, 1], 'metric_data': [[1.1, 6.492857142857144, 11.885714285714286, 17.278571428571432, 22.671428571428574, 28.064285714285717, 33.45714285714286, 38.85, 44.24285714285715, 49.63571428571429, 55.02857142857143, 60.42142857142858, 65.81428571428572, 71.20714285714286, 76.6], [0.35448776065276505, 0.467815049864007, 0.11967361740707101, 0.039891205802357006, 0.010879419764279, 0.003626473254759, 0.0, 0.0, 0.0, 0.003626473254759, 0.0, 0.0, 0.0, 0.0]], 'metadata': {}}   \n",
       "Variance                                                                                                                                                                                                                                                                                                                                                                                                                                                                                                     {'metric_name': 'Variance', 'metric_description': 'Feature Metric to compute Variance', 'variable_count': 1, 'variable_names': ['variance'], 'variable_types': ['CONTINUOUS'], 'variable_dtypes': ['FLOAT'], 'variable_dimensions': [0], 'metric_data': [25.487035869268603], 'metadata': {}}   \n",
       "TypeMetric                                                                                                                                                                                                                                                                                                           {'metric_name': 'TypeMetric', 'metric_description': 'Feature Metric to compute count of data types for feature values', 'variable_count': 4, 'variable_names': ['string_type_count', 'integral_type_count', 'fractional_type_count', 'boolean_type_count'], 'variable_types': ['DISCRETE', 'DISCRETE', 'DISCRETE', 'DISCRETE'], 'variable_dtypes': ['INTEGER', 'INTEGER', 'INTEGER', 'INTEGER'], 'variable_dimensions': [0, 0, 0, 0], 'metric_data': [0, 0, 4412, 0], 'metadata': {}}   \n",
       "FrequencyDistribution                                                                                                                         {'metric_name': 'FrequencyDistribution', 'metric_description': 'Feature Metric to compute Frequency distribution', 'variable_count': 2, 'variable_names': ['bins', 'frequency'], 'variable_types': ['CONTINUOUS', 'CONTINUOUS'], 'variable_dtypes': ['FLOAT', 'FLOAT'], 'variable_dimensions': [1, 1], 'metric_data': [[1.1, 6.492857142857144, 11.885714285714286, 17.278571428571432, 22.671428571428574, 28.064285714285717, 33.45714285714286, 38.85, 44.24285714285715, 49.63571428571429, 55.02857142857143, 60.42142857142858, 65.81428571428572, 71.20714285714286, 76.6], [1564, 2064, 528, 176, 48, 16, 0, 0, 0, 16, 0, 0, 0, 0]], 'metadata': {}}   \n",
       "Count                                                                                                                                                                                                                                                                                                                                                    {'metric_name': 'Count', 'metric_description': 'Feature metric that returns total count, missing count and missing count percentage', 'variable_count': 3, 'variable_names': ['total_count', 'missing_count', 'missing_count_percentage'], 'variable_types': ['CONTINUOUS', 'CONTINUOUS', 'CONTINUOUS'], 'variable_dtypes': ['INTEGER', 'INTEGER', 'FLOAT'], 'variable_dimensions': [0, 0, 0], 'metric_data': [4412.0, 0.0, 0.0], 'metadata': {}}   \n",
       "IsQuasiConstantFeature                                                                                                                                                                                                                                                                                                                                                                                                                                                          {'metric_name': 'IsQuasiConstantFeature', 'metric_description': 'Feature Metric to compute if all values are almost same', 'variable_count': 1, 'variable_names': ['is_quasi_constant'], 'variable_types': ['BINARY'], 'variable_dtypes': ['BOOLEAN'], 'variable_dimensions': [0], 'metric_data': [False], 'metadata': {}}   \n",
       "DistinctCount                                                                                                                                                                                                                                                                                                                                                                                                                                                                                                          {'metric_name': 'DistinctCount', 'metric_description': 'Approximate Distinct Count', 'variable_count': 1, 'variable_names': ['distinct_count'], 'variable_types': ['CONTINUOUS'], 'variable_dtypes': ['INTEGER'], 'variable_dimensions': [0], 'metric_data': [276], 'metadata': {}}   \n",
       "Sum                                                                                                                                                                                                                                                                                                                                                                                                                                                                                                                                                                 {'metric_name': 'Sum', 'metric_description': '', 'variable_count': 1, 'variable_names': ['sum'], 'variable_types': ['CONTINUOUS'], 'variable_dtypes': ['FLOAT'], 'variable_dimensions': [0], 'metric_data': [38466.5], 'metadata': {}}   \n",
       "Kurtosis                                                                                                                                                                                                                                                                                                                                                                                                                                                                                                     {'metric_name': 'Kurtosis', 'metric_description': 'Feature Metric to compute Kurtosis', 'variable_count': 1, 'variable_names': ['kurtosis'], 'variable_types': ['CONTINUOUS'], 'variable_dtypes': ['FLOAT'], 'variable_dimensions': [0], 'metric_data': [17.721173730517165], 'metadata': {}}   \n",
       "Quartiles                                                                                                                                                                                                                                                                                                                                                                                                                               {'metric_name': 'Quartiles', 'metric_description': 'Feature Metric to compute Quartiles (Q1, Q2, Q3)', 'variable_count': 3, 'variable_names': ['q1', 'q2', 'q3'], 'variable_types': ['CONTINUOUS', 'CONTINUOUS', 'CONTINUOUS'], 'variable_dtypes': ['FLOAT', 'FLOAT', 'FLOAT'], 'variable_dimensions': [0, 0, 0], 'metric_data': [5.7, 7.6, 10.4], 'metadata': {}}   \n",
       "Mean                                                                                                                                                                                                                                                                                                                                                                                                                                                                                                                      {'metric_name': 'Mean', 'metric_description': 'Feature Metric to compute mean', 'variable_count': 1, 'variable_names': ['mean'], 'variable_types': ['CONTINUOUS'], 'variable_dtypes': ['FLOAT'], 'variable_dimensions': [0], 'metric_data': [8.718608340888485], 'metadata': {}}   \n",
       "Max                                                                                                                                                                                                                                                                                                                                                                                                                                                                                                                             {'metric_name': 'Max', 'metric_description': 'Feature Metric to compute maximum value', 'variable_count': 1, 'variable_names': ['max'], 'variable_types': ['CONTINUOUS'], 'variable_dtypes': ['FLOAT'], 'variable_dimensions': [0], 'metric_data': [76.6], 'metadata': {}}   \n",
       "\n",
       "                                                                                                                                                                                                                                                                                                                                                                                                                                                                                                                                                                                                                                                                                                                                                                                                                                           THROMBOCYTE  \\\n",
       "Skewness                                                                                                                                                                                                                                                                                                                                                                                                                                                                                                                                                 {'metric_name': 'Skewness', 'metric_description': 'Feature Metric to compute Skewness', 'variable_count': 1, 'variable_names': ['skewness'], 'variable_types': ['CONTINUOUS'], 'variable_dtypes': ['FLOAT'], 'variable_dimensions': [0], 'metric_data': [0.8452104901645501], 'metadata': {}}   \n",
       "StandardDeviation                                                                                                                                                                                                                                                                                                                                                                                                                                                                                                           {'metric_name': 'StandardDeviation', 'metric_description': 'Feature Metric to compute Standard Deviation', 'variable_count': 1, 'variable_names': ['standard_deviation'], 'variable_types': ['CONTINUOUS'], 'variable_dtypes': ['FLOAT'], 'variable_dimensions': [0], 'metric_data': [113.95944781860656], 'metadata': {}}   \n",
       "Min                                                                                                                                                                                                                                                                                                                                                                                                                                                                                                                                                                          {'metric_name': 'Min', 'metric_description': 'Feature Metric to compute minimum value', 'variable_count': 1, 'variable_names': ['min'], 'variable_types': ['CONTINUOUS'], 'variable_dtypes': ['FLOAT'], 'variable_dimensions': [0], 'metric_data': [8.0], 'metadata': {}}   \n",
       "IsConstantFeature                                                                                                                                                                                                                                                                                                                                                                                                                                                                                                                             {'metric_name': 'IsConstantFeature', 'metric_description': 'Feature Metric to compute if all values are same', 'variable_count': 1, 'variable_names': ['is_constant'], 'variable_types': ['BINARY'], 'variable_dtypes': ['BOOLEAN'], 'variable_dimensions': [0], 'metric_data': [False], 'metadata': {}}   \n",
       "IQR                                                                                                                                                                                                                                                                                                                                             {'metric_name': 'IQR', 'metric_description': 'Compute the interquartile range of the data. Interquartile range (IQR) is the difference between the 75th and 25th percentile of the data. It is a measure of the dispersion similar to standard deviation or variance, but is much more robust against outliers', 'variable_count': 1, 'variable_names': ['i_q_r'], 'variable_types': ['CONTINUOUS'], 'variable_dtypes': ['FLOAT'], 'variable_dimensions': [0], 'metric_data': [132.0], 'metadata': {}}   \n",
       "Range                                                                                                                                                                                                                                                                                                                                                                                                                                                                                                                                                                   {'metric_name': 'Range', 'metric_description': 'Feature Metric to compute range value', 'variable_count': 1, 'variable_names': ['range'], 'variable_types': ['CONTINUOUS'], 'variable_dtypes': ['FLOAT'], 'variable_dimensions': [0], 'metric_data': [1175.0], 'metadata': {}}   \n",
       "KolmogorovSmirnov                                                                                                                                                                                                                                                                                                                                                                                                                                                                                                                                                                                    {'metric_name': 'KolmogorovSmirnov', 'metric_description': 'Data Drift Metric to compute two-sample Kolmogorov-Smirnov test for goodness of fit', 'error': 'Missing required parameter profile or registry or feature name in KolmogorovSmirnov'}   \n",
       "ProbabilityDistribution  {'metric_name': 'ProbabilityDistribution', 'metric_description': 'Feature Metric to compute probability density', 'variable_count': 2, 'variable_names': ['bins', 'density'], 'variable_types': ['CONTINUOUS', 'CONTINUOUS'], 'variable_dtypes': ['FLOAT', 'FLOAT'], 'variable_dimensions': [1, 1], 'metric_data': [[8.0, 91.92857142857143, 175.85714285714286, 259.7857142857143, 343.7142857142857, 427.64285714285717, 511.57142857142856, 595.5, 679.4285714285714, 763.3571428571429, 847.2857142857143, 931.2142857142858, 1015.1428571428571, 1099.0714285714287, 1183.0], [0.075249320036264, 0.14143245693563, 0.29737080689029904, 0.304623753399818, 0.11967361740707101, 0.039891205802357006, 0.010879419764279, 0.003626473254759, 0.003626473254759, 0.0, 0.003626473254759, 0.0, 0.0, 0.0]], 'metadata': {}}   \n",
       "Variance                                                                                                                                                                                                                                                                                                                                                                                                                                                                                                                                                 {'metric_name': 'Variance', 'metric_description': 'Feature Metric to compute Variance', 'variable_count': 1, 'variable_names': ['variance'], 'variable_types': ['CONTINUOUS'], 'variable_dtypes': ['FLOAT'], 'variable_dimensions': [0], 'metric_data': [12986.755747121711], 'metadata': {}}   \n",
       "TypeMetric                                                                                                                                                                                                                                                                                                                                                       {'metric_name': 'TypeMetric', 'metric_description': 'Feature Metric to compute count of data types for feature values', 'variable_count': 4, 'variable_names': ['string_type_count', 'integral_type_count', 'fractional_type_count', 'boolean_type_count'], 'variable_types': ['DISCRETE', 'DISCRETE', 'DISCRETE', 'DISCRETE'], 'variable_dtypes': ['INTEGER', 'INTEGER', 'INTEGER', 'INTEGER'], 'variable_dimensions': [0, 0, 0, 0], 'metric_data': [0, 4412, 0, 0], 'metadata': {}}   \n",
       "FrequencyDistribution                                                                                                                                                             {'metric_name': 'FrequencyDistribution', 'metric_description': 'Feature Metric to compute Frequency distribution', 'variable_count': 2, 'variable_names': ['bins', 'frequency'], 'variable_types': ['CONTINUOUS', 'CONTINUOUS'], 'variable_dtypes': ['FLOAT', 'FLOAT'], 'variable_dimensions': [1, 1], 'metric_data': [[8.0, 91.92857142857143, 175.85714285714286, 259.7857142857143, 343.7142857142857, 427.64285714285717, 511.57142857142856, 595.5, 679.4285714285714, 763.3571428571429, 847.2857142857143, 931.2142857142858, 1015.1428571428571, 1099.0714285714287, 1183.0], [332, 624, 1312, 1344, 528, 176, 48, 16, 16, 0, 16, 0, 0, 0]], 'metadata': {}}   \n",
       "Count                                                                                                                                                                                                                                                                                                                                                                                                {'metric_name': 'Count', 'metric_description': 'Feature metric that returns total count, missing count and missing count percentage', 'variable_count': 3, 'variable_names': ['total_count', 'missing_count', 'missing_count_percentage'], 'variable_types': ['CONTINUOUS', 'CONTINUOUS', 'CONTINUOUS'], 'variable_dtypes': ['INTEGER', 'INTEGER', 'FLOAT'], 'variable_dimensions': [0, 0, 0], 'metric_data': [4412.0, 0.0, 0.0], 'metadata': {}}   \n",
       "IsQuasiConstantFeature                                                                                                                                                                                                                                                                                                                                                                                                                                                                                                      {'metric_name': 'IsQuasiConstantFeature', 'metric_description': 'Feature Metric to compute if all values are almost same', 'variable_count': 1, 'variable_names': ['is_quasi_constant'], 'variable_types': ['BINARY'], 'variable_dtypes': ['BOOLEAN'], 'variable_dimensions': [0], 'metric_data': [False], 'metadata': {}}   \n",
       "DistinctCount                                                                                                                                                                                                                                                                                                                                                                                                                                                                                                                                                      {'metric_name': 'DistinctCount', 'metric_description': 'Approximate Distinct Count', 'variable_count': 1, 'variable_names': ['distinct_count'], 'variable_types': ['CONTINUOUS'], 'variable_dtypes': ['INTEGER'], 'variable_dimensions': [0], 'metric_data': [550], 'metadata': {}}   \n",
       "Sum                                                                                                                                                                                                                                                                                                                                                                                                                                                                                                                                                                                                           {'metric_name': 'Sum', 'metric_description': '', 'variable_count': 1, 'variable_names': ['sum'], 'variable_types': ['CONTINUOUS'], 'variable_dtypes': ['FLOAT'], 'variable_dimensions': [0], 'metric_data': [1136198.0], 'metadata': {}}   \n",
       "Kurtosis                                                                                                                                                                                                                                                                                                                                                                                                                                                                                                                                                 {'metric_name': 'Kurtosis', 'metric_description': 'Feature Metric to compute Kurtosis', 'variable_count': 1, 'variable_names': ['kurtosis'], 'variable_types': ['CONTINUOUS'], 'variable_dtypes': ['FLOAT'], 'variable_dimensions': [0], 'metric_data': [3.9302722437805953], 'metadata': {}}   \n",
       "Quartiles                                                                                                                                                                                                                                                                                                                                                                                                                                                                      {'metric_name': 'Quartiles', 'metric_description': 'Feature Metric to compute Quartiles (Q1, Q2, Q3)', 'variable_count': 3, 'variable_names': ['q1', 'q2', 'q3'], 'variable_types': ['CONTINUOUS', 'CONTINUOUS', 'CONTINUOUS'], 'variable_dtypes': ['FLOAT', 'FLOAT', 'FLOAT'], 'variable_dimensions': [0, 0, 0], 'metric_data': [189.0, 256.0, 321.0], 'metadata': {}}   \n",
       "Mean                                                                                                                                                                                                                                                                                                                                                                                                                                                                                                                                                                  {'metric_name': 'Mean', 'metric_description': 'Feature Metric to compute mean', 'variable_count': 1, 'variable_names': ['mean'], 'variable_types': ['CONTINUOUS'], 'variable_dtypes': ['FLOAT'], 'variable_dimensions': [0], 'metric_data': [257.5244786944696], 'metadata': {}}   \n",
       "Max                                                                                                                                                                                                                                                                                                                                                                                                                                                                                                                                                                       {'metric_name': 'Max', 'metric_description': 'Feature Metric to compute maximum value', 'variable_count': 1, 'variable_names': ['max'], 'variable_types': ['CONTINUOUS'], 'variable_dtypes': ['FLOAT'], 'variable_dimensions': [0], 'metric_data': [1183.0], 'metadata': {}}   \n",
       "\n",
       "                                                                                                                                                                                                                                                                                                                                                                                                                                                                                                                                                                                                                                                                                                                                        AGE  \\\n",
       "Skewness                                                                                                                                                                                                                                                                                                                                                                                                                                    {'metric_name': 'Skewness', 'metric_description': 'Feature Metric to compute Skewness', 'variable_count': 1, 'variable_names': ['skewness'], 'variable_types': ['CONTINUOUS'], 'variable_dtypes': ['FLOAT'], 'variable_dimensions': [0], 'metric_data': [-0.12448168156378502], 'metadata': {}}   \n",
       "StandardDeviation                                                                                                                                                                                                                                                                                                                                                                                                {'metric_name': 'StandardDeviation', 'metric_description': 'Feature Metric to compute Standard Deviation', 'variable_count': 1, 'variable_names': ['standard_deviation'], 'variable_types': ['CONTINUOUS'], 'variable_dtypes': ['FLOAT'], 'variable_dimensions': [0], 'metric_data': [21.728755362258855], 'metadata': {}}   \n",
       "Min                                                                                                                                                                                                                                                                                                                                                                                                                                                               {'metric_name': 'Min', 'metric_description': 'Feature Metric to compute minimum value', 'variable_count': 1, 'variable_names': ['min'], 'variable_types': ['CONTINUOUS'], 'variable_dtypes': ['FLOAT'], 'variable_dimensions': [0], 'metric_data': [1.0], 'metadata': {}}   \n",
       "IsConstantFeature                                                                                                                                                                                                                                                                                                                                                                                                                  {'metric_name': 'IsConstantFeature', 'metric_description': 'Feature Metric to compute if all values are same', 'variable_count': 1, 'variable_names': ['is_constant'], 'variable_types': ['BINARY'], 'variable_dtypes': ['BOOLEAN'], 'variable_dimensions': [0], 'metric_data': [False], 'metadata': {}}   \n",
       "IQR                                                                                                                                                                                                                                   {'metric_name': 'IQR', 'metric_description': 'Compute the interquartile range of the data. Interquartile range (IQR) is the difference between the 75th and 25th percentile of the data. It is a measure of the dispersion similar to standard deviation or variance, but is much more robust against outliers', 'variable_count': 1, 'variable_names': ['i_q_r'], 'variable_types': ['CONTINUOUS'], 'variable_dtypes': ['FLOAT'], 'variable_dimensions': [0], 'metric_data': [35.0], 'metadata': {}}   \n",
       "Range                                                                                                                                                                                                                                                                                                                                                                                                                                                          {'metric_name': 'Range', 'metric_description': 'Feature Metric to compute range value', 'variable_count': 1, 'variable_names': ['range'], 'variable_types': ['CONTINUOUS'], 'variable_dtypes': ['FLOAT'], 'variable_dimensions': [0], 'metric_data': [98.0], 'metadata': {}}   \n",
       "KolmogorovSmirnov                                                                                                                                                                                                                                                                                                                                                                                                                                                                         {'metric_name': 'KolmogorovSmirnov', 'metric_description': 'Data Drift Metric to compute two-sample Kolmogorov-Smirnov test for goodness of fit', 'error': 'Missing required parameter profile or registry or feature name in KolmogorovSmirnov'}   \n",
       "ProbabilityDistribution  {'metric_name': 'ProbabilityDistribution', 'metric_description': 'Feature Metric to compute probability density', 'variable_count': 2, 'variable_names': ['bins', 'density'], 'variable_types': ['CONTINUOUS', 'CONTINUOUS'], 'variable_dtypes': ['FLOAT', 'FLOAT'], 'variable_dimensions': [1, 1], 'metric_data': [[1.0, 8.0, 15.0, 22.0, 29.0, 36.0, 43.0, 50.0, 57.0, 64.0, 71.0, 78.0, 85.0, 92.0, 99.0], [0.046237533998186, 0.036264732547597, 0.050770625566636, 0.101541251133272, 0.10516772438803201, 0.087035358114233, 0.101541251133272, 0.097914777878513, 0.11604714415231102, 0.11604714415231102, 0.07978241160471401, 0.036264732547597, 0.021758839528558, 0.003626473254759]], 'metadata': {}}   \n",
       "Variance                                                                                                                                                                                                                                                                                                                                                                                                                                        {'metric_name': 'Variance', 'metric_description': 'Feature Metric to compute Variance', 'variable_count': 1, 'variable_names': ['variance'], 'variable_types': ['CONTINUOUS'], 'variable_dtypes': ['FLOAT'], 'variable_dimensions': [0], 'metric_data': [472.138809592893], 'metadata': {}}   \n",
       "TypeMetric                                                                                                                                                                                                                                            {'metric_name': 'TypeMetric', 'metric_description': 'Feature Metric to compute count of data types for feature values', 'variable_count': 4, 'variable_names': ['string_type_count', 'integral_type_count', 'fractional_type_count', 'boolean_type_count'], 'variable_types': ['DISCRETE', 'DISCRETE', 'DISCRETE', 'DISCRETE'], 'variable_dtypes': ['INTEGER', 'INTEGER', 'INTEGER', 'INTEGER'], 'variable_dimensions': [0, 0, 0, 0], 'metric_data': [0, 4412, 0, 0], 'metadata': {}}   \n",
       "FrequencyDistribution                                                                                                                                                                                                               {'metric_name': 'FrequencyDistribution', 'metric_description': 'Feature Metric to compute Frequency distribution', 'variable_count': 2, 'variable_names': ['bins', 'frequency'], 'variable_types': ['CONTINUOUS', 'CONTINUOUS'], 'variable_dtypes': ['FLOAT', 'FLOAT'], 'variable_dimensions': [1, 1], 'metric_data': [[1.0, 8.0, 15.0, 22.0, 29.0, 36.0, 43.0, 50.0, 57.0, 64.0, 71.0, 78.0, 85.0, 92.0, 99.0], [204, 160, 224, 448, 464, 384, 448, 432, 512, 512, 352, 160, 96, 16]], 'metadata': {}}   \n",
       "Count                                                                                                                                                                                                                                                                                     {'metric_name': 'Count', 'metric_description': 'Feature metric that returns total count, missing count and missing count percentage', 'variable_count': 3, 'variable_names': ['total_count', 'missing_count', 'missing_count_percentage'], 'variable_types': ['CONTINUOUS', 'CONTINUOUS', 'CONTINUOUS'], 'variable_dtypes': ['INTEGER', 'INTEGER', 'FLOAT'], 'variable_dimensions': [0, 0, 0], 'metric_data': [4412.0, 0.0, 0.0], 'metadata': {}}   \n",
       "IsQuasiConstantFeature                                                                                                                                                                                                                                                                                                                                                                                           {'metric_name': 'IsQuasiConstantFeature', 'metric_description': 'Feature Metric to compute if all values are almost same', 'variable_count': 1, 'variable_names': ['is_quasi_constant'], 'variable_types': ['BINARY'], 'variable_dtypes': ['BOOLEAN'], 'variable_dimensions': [0], 'metric_data': [False], 'metadata': {}}   \n",
       "DistinctCount                                                                                                                                                                                                                                                                                                                                                                                                                                            {'metric_name': 'DistinctCount', 'metric_description': 'Approximate Distinct Count', 'variable_count': 1, 'variable_names': ['distinct_count'], 'variable_types': ['CONTINUOUS'], 'variable_dtypes': ['INTEGER'], 'variable_dimensions': [0], 'metric_data': [95], 'metadata': {}}   \n",
       "Sum                                                                                                                                                                                                                                                                                                                                                                                                                                                                                                 {'metric_name': 'Sum', 'metric_description': '', 'variable_count': 1, 'variable_names': ['sum'], 'variable_types': ['CONTINUOUS'], 'variable_dtypes': ['FLOAT'], 'variable_dimensions': [0], 'metric_data': [205716.0], 'metadata': {}}   \n",
       "Kurtosis                                                                                                                                                                                                                                                                                                                                                                                                                                      {'metric_name': 'Kurtosis', 'metric_description': 'Feature Metric to compute Kurtosis', 'variable_count': 1, 'variable_names': ['kurtosis'], 'variable_types': ['CONTINUOUS'], 'variable_dtypes': ['FLOAT'], 'variable_dimensions': [0], 'metric_data': [-0.839838819576141], 'metadata': {}}   \n",
       "Quartiles                                                                                                                                                                                                                                                                                                                                                              {'metric_name': 'Quartiles', 'metric_description': 'Feature Metric to compute Quartiles (Q1, Q2, Q3)', 'variable_count': 3, 'variable_names': ['q1', 'q2', 'q3'], 'variable_types': ['CONTINUOUS', 'CONTINUOUS', 'CONTINUOUS'], 'variable_dtypes': ['FLOAT', 'FLOAT', 'FLOAT'], 'variable_dimensions': [0, 0, 0], 'metric_data': [29.0, 47.0, 64.0], 'metadata': {}}   \n",
       "Mean                                                                                                                                                                                                                                                                                                                                                                                                                                                      {'metric_name': 'Mean', 'metric_description': 'Feature Metric to compute mean', 'variable_count': 1, 'variable_names': ['mean'], 'variable_types': ['CONTINUOUS'], 'variable_dtypes': ['FLOAT'], 'variable_dimensions': [0], 'metric_data': [46.626473254759745], 'metadata': {}}   \n",
       "Max                                                                                                                                                                                                                                                                                                                                                                                                                                                              {'metric_name': 'Max', 'metric_description': 'Feature Metric to compute maximum value', 'variable_count': 1, 'variable_names': ['max'], 'variable_types': ['CONTINUOUS'], 'variable_dtypes': ['FLOAT'], 'variable_dimensions': [0], 'metric_data': [99.0], 'metadata': {}}   \n",
       "\n",
       "                                                                                                                                                                                                                                                                                                                                                                                                                                                                                                                                                                                                                                                                                                                                    SEX  \\\n",
       "Skewness                                                                                                                                                                                                                                                                                                                                                                                                                                {'metric_name': 'Skewness', 'metric_description': 'Feature Metric to compute Skewness', 'variable_count': 1, 'variable_names': ['skewness'], 'variable_types': ['CONTINUOUS'], 'variable_dtypes': ['FLOAT'], 'variable_dimensions': [0], 'metric_data': [-0.07621120891710201], 'metadata': {}}   \n",
       "StandardDeviation                                                                                                                                                                                                                                                                                                                                                                                           {'metric_name': 'StandardDeviation', 'metric_description': 'Feature Metric to compute Standard Deviation', 'variable_count': 1, 'variable_names': ['standard_deviation'], 'variable_types': ['CONTINUOUS'], 'variable_dtypes': ['FLOAT'], 'variable_dimensions': [0], 'metric_data': [0.49963738557665704], 'metadata': {}}   \n",
       "Min                                                                                                                                                                                                                                                                                                                                                                                                                                                           {'metric_name': 'Min', 'metric_description': 'Feature Metric to compute minimum value', 'variable_count': 1, 'variable_names': ['min'], 'variable_types': ['CONTINUOUS'], 'variable_dtypes': ['FLOAT'], 'variable_dimensions': [0], 'metric_data': [0.0], 'metadata': {}}   \n",
       "IsConstantFeature                                                                                                                                                                                                                                                                                                                                                                                                              {'metric_name': 'IsConstantFeature', 'metric_description': 'Feature Metric to compute if all values are same', 'variable_count': 1, 'variable_names': ['is_constant'], 'variable_types': ['BINARY'], 'variable_dtypes': ['BOOLEAN'], 'variable_dimensions': [0], 'metric_data': [False], 'metadata': {}}   \n",
       "IQR                                                                                                                                                                                                                                {'metric_name': 'IQR', 'metric_description': 'Compute the interquartile range of the data. Interquartile range (IQR) is the difference between the 75th and 25th percentile of the data. It is a measure of the dispersion similar to standard deviation or variance, but is much more robust against outliers', 'variable_count': 1, 'variable_names': ['i_q_r'], 'variable_types': ['CONTINUOUS'], 'variable_dtypes': ['FLOAT'], 'variable_dimensions': [0], 'metric_data': [1.0], 'metadata': {}}   \n",
       "Range                                                                                                                                                                                                                                                                                                                                                                                                                                                       {'metric_name': 'Range', 'metric_description': 'Feature Metric to compute range value', 'variable_count': 1, 'variable_names': ['range'], 'variable_types': ['CONTINUOUS'], 'variable_dtypes': ['FLOAT'], 'variable_dimensions': [0], 'metric_data': [1.0], 'metadata': {}}   \n",
       "KolmogorovSmirnov                                                                                                                                                                                                                                                                                                                                                                                                                                                                     {'metric_name': 'KolmogorovSmirnov', 'metric_description': 'Data Drift Metric to compute two-sample Kolmogorov-Smirnov test for goodness of fit', 'error': 'Missing required parameter profile or registry or feature name in KolmogorovSmirnov'}   \n",
       "ProbabilityDistribution  {'metric_name': 'ProbabilityDistribution', 'metric_description': 'Feature Metric to compute probability density', 'variable_count': 2, 'variable_names': ['bins', 'density'], 'variable_types': ['CONTINUOUS', 'CONTINUOUS'], 'variable_dtypes': ['FLOAT', 'FLOAT'], 'variable_dimensions': [1, 1], 'metric_data': [[0.0, 0.07142857142857101, 0.14285714285714202, 0.21428571428571402, 0.28571428571428503, 0.35714285714285704, 0.42857142857142805, 0.5, 0.5714285714285711, 0.642857142857142, 0.7142857142857141, 0.785714285714285, 0.8571428571428571, 0.928571428571428, 1.0], [0.47778785131459606, 0.0, 0.0, 0.0, 0.0, 0.0, 0.0, 0.0, 0.0, 0.0, 0.0, 0.0, 0.0, 0.522212148685403]], 'metadata': {}}   \n",
       "Variance                                                                                                                                                                                                                                                                                                                                                                                                                                 {'metric_name': 'Variance', 'metric_description': 'Feature Metric to compute Variance', 'variable_count': 1, 'variable_names': ['variance'], 'variable_types': ['CONTINUOUS'], 'variable_dtypes': ['FLOAT'], 'variable_dimensions': [0], 'metric_data': [0.24963751706587703], 'metadata': {}}   \n",
       "TypeMetric                                                                                                                                                                                                                                        {'metric_name': 'TypeMetric', 'metric_description': 'Feature Metric to compute count of data types for feature values', 'variable_count': 4, 'variable_names': ['string_type_count', 'integral_type_count', 'fractional_type_count', 'boolean_type_count'], 'variable_types': ['DISCRETE', 'DISCRETE', 'DISCRETE', 'DISCRETE'], 'variable_dtypes': ['INTEGER', 'INTEGER', 'INTEGER', 'INTEGER'], 'variable_dimensions': [0, 0, 0, 0], 'metric_data': [0, 4412, 0, 0], 'metadata': {}}   \n",
       "FrequencyDistribution                                                     {'metric_name': 'FrequencyDistribution', 'metric_description': 'Feature Metric to compute Frequency distribution', 'variable_count': 2, 'variable_names': ['bins', 'frequency'], 'variable_types': ['CONTINUOUS', 'CONTINUOUS'], 'variable_dtypes': ['FLOAT', 'FLOAT'], 'variable_dimensions': [1, 1], 'metric_data': [[0.0, 0.07142857142857101, 0.14285714285714202, 0.21428571428571402, 0.28571428571428503, 0.35714285714285704, 0.42857142857142805, 0.5, 0.5714285714285711, 0.642857142857142, 0.7142857142857141, 0.785714285714285, 0.8571428571428571, 0.928571428571428, 1.0], [2108, 0, 0, 0, 0, 0, 0, 0, 0, 0, 0, 0, 0, 2304]], 'metadata': {}}   \n",
       "Count                                                                                                                                                                                                                                                                                 {'metric_name': 'Count', 'metric_description': 'Feature metric that returns total count, missing count and missing count percentage', 'variable_count': 3, 'variable_names': ['total_count', 'missing_count', 'missing_count_percentage'], 'variable_types': ['CONTINUOUS', 'CONTINUOUS', 'CONTINUOUS'], 'variable_dtypes': ['INTEGER', 'INTEGER', 'FLOAT'], 'variable_dimensions': [0, 0, 0], 'metric_data': [4412.0, 0.0, 0.0], 'metadata': {}}   \n",
       "IsQuasiConstantFeature                                                                                                                                                                                                                                                                                                                                                                                       {'metric_name': 'IsQuasiConstantFeature', 'metric_description': 'Feature Metric to compute if all values are almost same', 'variable_count': 1, 'variable_names': ['is_quasi_constant'], 'variable_types': ['BINARY'], 'variable_dtypes': ['BOOLEAN'], 'variable_dimensions': [0], 'metric_data': [False], 'metadata': {}}   \n",
       "DistinctCount                                                                                                                                                                                                                                                                                                                                                                                                                                         {'metric_name': 'DistinctCount', 'metric_description': 'Approximate Distinct Count', 'variable_count': 1, 'variable_names': ['distinct_count'], 'variable_types': ['CONTINUOUS'], 'variable_dtypes': ['INTEGER'], 'variable_dimensions': [0], 'metric_data': [2], 'metadata': {}}   \n",
       "Sum                                                                                                                                                                                                                                                                                                                                                                                                                                                                                               {'metric_name': 'Sum', 'metric_description': '', 'variable_count': 1, 'variable_names': ['sum'], 'variable_types': ['CONTINUOUS'], 'variable_dtypes': ['FLOAT'], 'variable_dimensions': [0], 'metric_data': [2290.0], 'metadata': {}}   \n",
       "Kurtosis                                                                                                                                                                                                                                                                                                                                                                                                                                 {'metric_name': 'Kurtosis', 'metric_description': 'Feature Metric to compute Kurtosis', 'variable_count': 1, 'variable_names': ['kurtosis'], 'variable_types': ['CONTINUOUS'], 'variable_dtypes': ['FLOAT'], 'variable_dimensions': [0], 'metric_data': [-1.9941918516353931], 'metadata': {}}   \n",
       "Quartiles                                                                                                                                                                                                                                                                                                                                                             {'metric_name': 'Quartiles', 'metric_description': 'Feature Metric to compute Quartiles (Q1, Q2, Q3)', 'variable_count': 3, 'variable_names': ['q1', 'q2', 'q3'], 'variable_types': ['CONTINUOUS', 'CONTINUOUS', 'CONTINUOUS'], 'variable_dtypes': ['FLOAT', 'FLOAT', 'FLOAT'], 'variable_dimensions': [0, 0, 0], 'metric_data': [0.0, 1.0, 1.0], 'metadata': {}}   \n",
       "Mean                                                                                                                                                                                                                                                                                                                                                                                                                                                  {'metric_name': 'Mean', 'metric_description': 'Feature Metric to compute mean', 'variable_count': 1, 'variable_names': ['mean'], 'variable_types': ['CONTINUOUS'], 'variable_dtypes': ['FLOAT'], 'variable_dimensions': [0], 'metric_data': [0.5190389845874881], 'metadata': {}}   \n",
       "Max                                                                                                                                                                                                                                                                                                                                                                                                                                                           {'metric_name': 'Max', 'metric_description': 'Feature Metric to compute maximum value', 'variable_count': 1, 'variable_names': ['max'], 'variable_types': ['CONTINUOUS'], 'variable_dtypes': ['FLOAT'], 'variable_dimensions': [0], 'metric_data': [1.0], 'metadata': {}}   \n",
       "\n",
       "                                                                                                                                                                                                                                                                                                                                                                                                                                                                                                                                                                                                                                                                                                                                SOURCE  \n",
       "Skewness                                                                                                                                                                                                                                                                                                                                                                                                                               {'metric_name': 'Skewness', 'metric_description': 'Feature Metric to compute Skewness', 'variable_count': 1, 'variable_names': ['skewness'], 'variable_types': ['CONTINUOUS'], 'variable_dtypes': ['FLOAT'], 'variable_dimensions': [0], 'metric_data': [-0.38979147911674406], 'metadata': {}}  \n",
       "StandardDeviation                                                                                                                                                                                                                                                                                                                                                                                          {'metric_name': 'StandardDeviation', 'metric_description': 'Feature Metric to compute Standard Deviation', 'variable_count': 1, 'variable_names': ['standard_deviation'], 'variable_types': ['CONTINUOUS'], 'variable_dtypes': ['FLOAT'], 'variable_dimensions': [0], 'metric_data': [0.49076615174361504], 'metadata': {}}  \n",
       "Min                                                                                                                                                                                                                                                                                                                                                                                                                                                          {'metric_name': 'Min', 'metric_description': 'Feature Metric to compute minimum value', 'variable_count': 1, 'variable_names': ['min'], 'variable_types': ['CONTINUOUS'], 'variable_dtypes': ['FLOAT'], 'variable_dimensions': [0], 'metric_data': [0.0], 'metadata': {}}  \n",
       "IsConstantFeature                                                                                                                                                                                                                                                                                                                                                                                                             {'metric_name': 'IsConstantFeature', 'metric_description': 'Feature Metric to compute if all values are same', 'variable_count': 1, 'variable_names': ['is_constant'], 'variable_types': ['BINARY'], 'variable_dtypes': ['BOOLEAN'], 'variable_dimensions': [0], 'metric_data': [False], 'metadata': {}}  \n",
       "IQR                                                                                                                                                                                                                               {'metric_name': 'IQR', 'metric_description': 'Compute the interquartile range of the data. Interquartile range (IQR) is the difference between the 75th and 25th percentile of the data. It is a measure of the dispersion similar to standard deviation or variance, but is much more robust against outliers', 'variable_count': 1, 'variable_names': ['i_q_r'], 'variable_types': ['CONTINUOUS'], 'variable_dtypes': ['FLOAT'], 'variable_dimensions': [0], 'metric_data': [1.0], 'metadata': {}}  \n",
       "Range                                                                                                                                                                                                                                                                                                                                                                                                                                                      {'metric_name': 'Range', 'metric_description': 'Feature Metric to compute range value', 'variable_count': 1, 'variable_names': ['range'], 'variable_types': ['CONTINUOUS'], 'variable_dtypes': ['FLOAT'], 'variable_dimensions': [0], 'metric_data': [1.0], 'metadata': {}}  \n",
       "KolmogorovSmirnov                                                                                                                                                                                                                                                                                                                                                                                                                                                                    {'metric_name': 'KolmogorovSmirnov', 'metric_description': 'Data Drift Metric to compute two-sample Kolmogorov-Smirnov test for goodness of fit', 'error': 'Missing required parameter profile or registry or feature name in KolmogorovSmirnov'}  \n",
       "ProbabilityDistribution  {'metric_name': 'ProbabilityDistribution', 'metric_description': 'Feature Metric to compute probability density', 'variable_count': 2, 'variable_names': ['bins', 'density'], 'variable_types': ['CONTINUOUS', 'CONTINUOUS'], 'variable_dtypes': ['FLOAT', 'FLOAT'], 'variable_dimensions': [1, 1], 'metric_data': [[0.0, 0.07142857142857101, 0.14285714285714202, 0.21428571428571402, 0.28571428571428503, 0.35714285714285704, 0.42857142857142805, 0.5, 0.5714285714285711, 0.642857142857142, 0.7142857142857141, 0.785714285714285, 0.8571428571428571, 0.928571428571428, 1.0], [0.405258386219401, 0.0, 0.0, 0.0, 0.0, 0.0, 0.0, 0.0, 0.0, 0.0, 0.0, 0.0, 0.0, 0.5947416137805981]], 'metadata': {}}  \n",
       "Variance                                                                                                                                                                                                                                                                                                                                                                                                                                {'metric_name': 'Variance', 'metric_description': 'Feature Metric to compute Variance', 'variable_count': 1, 'variable_names': ['variance'], 'variable_types': ['CONTINUOUS'], 'variable_dtypes': ['FLOAT'], 'variable_dimensions': [0], 'metric_data': [0.24085141569723703], 'metadata': {}}  \n",
       "TypeMetric                                                                                                                                                                                                                                       {'metric_name': 'TypeMetric', 'metric_description': 'Feature Metric to compute count of data types for feature values', 'variable_count': 4, 'variable_names': ['string_type_count', 'integral_type_count', 'fractional_type_count', 'boolean_type_count'], 'variable_types': ['DISCRETE', 'DISCRETE', 'DISCRETE', 'DISCRETE'], 'variable_dtypes': ['INTEGER', 'INTEGER', 'INTEGER', 'INTEGER'], 'variable_dimensions': [0, 0, 0, 0], 'metric_data': [0, 4412, 0, 0], 'metadata': {}}  \n",
       "FrequencyDistribution                                                    {'metric_name': 'FrequencyDistribution', 'metric_description': 'Feature Metric to compute Frequency distribution', 'variable_count': 2, 'variable_names': ['bins', 'frequency'], 'variable_types': ['CONTINUOUS', 'CONTINUOUS'], 'variable_dtypes': ['FLOAT', 'FLOAT'], 'variable_dimensions': [1, 1], 'metric_data': [[0.0, 0.07142857142857101, 0.14285714285714202, 0.21428571428571402, 0.28571428571428503, 0.35714285714285704, 0.42857142857142805, 0.5, 0.5714285714285711, 0.642857142857142, 0.7142857142857141, 0.785714285714285, 0.8571428571428571, 0.928571428571428, 1.0], [1788, 0, 0, 0, 0, 0, 0, 0, 0, 0, 0, 0, 0, 2624]], 'metadata': {}}  \n",
       "Count                                                                                                                                                                                                                                                                                {'metric_name': 'Count', 'metric_description': 'Feature metric that returns total count, missing count and missing count percentage', 'variable_count': 3, 'variable_names': ['total_count', 'missing_count', 'missing_count_percentage'], 'variable_types': ['CONTINUOUS', 'CONTINUOUS', 'CONTINUOUS'], 'variable_dtypes': ['INTEGER', 'INTEGER', 'FLOAT'], 'variable_dimensions': [0, 0, 0], 'metric_data': [4412.0, 0.0, 0.0], 'metadata': {}}  \n",
       "IsQuasiConstantFeature                                                                                                                                                                                                                                                                                                                                                                                      {'metric_name': 'IsQuasiConstantFeature', 'metric_description': 'Feature Metric to compute if all values are almost same', 'variable_count': 1, 'variable_names': ['is_quasi_constant'], 'variable_types': ['BINARY'], 'variable_dtypes': ['BOOLEAN'], 'variable_dimensions': [0], 'metric_data': [False], 'metadata': {}}  \n",
       "DistinctCount                                                                                                                                                                                                                                                                                                                                                                                                                                        {'metric_name': 'DistinctCount', 'metric_description': 'Approximate Distinct Count', 'variable_count': 1, 'variable_names': ['distinct_count'], 'variable_types': ['CONTINUOUS'], 'variable_dtypes': ['INTEGER'], 'variable_dimensions': [0], 'metric_data': [2], 'metadata': {}}  \n",
       "Sum                                                                                                                                                                                                                                                                                                                                                                                                                                                                                              {'metric_name': 'Sum', 'metric_description': '', 'variable_count': 1, 'variable_names': ['sum'], 'variable_types': ['CONTINUOUS'], 'variable_dtypes': ['FLOAT'], 'variable_dimensions': [0], 'metric_data': [2628.0], 'metadata': {}}  \n",
       "Kurtosis                                                                                                                                                                                                                                                                                                                                                                                                                                 {'metric_name': 'Kurtosis', 'metric_description': 'Feature Metric to compute Kurtosis', 'variable_count': 1, 'variable_names': ['kurtosis'], 'variable_types': ['CONTINUOUS'], 'variable_dtypes': ['FLOAT'], 'variable_dimensions': [0], 'metric_data': [-1.848062602807981], 'metadata': {}}  \n",
       "Quartiles                                                                                                                                                                                                                                                                                                                                                            {'metric_name': 'Quartiles', 'metric_description': 'Feature Metric to compute Quartiles (Q1, Q2, Q3)', 'variable_count': 3, 'variable_names': ['q1', 'q2', 'q3'], 'variable_types': ['CONTINUOUS', 'CONTINUOUS', 'CONTINUOUS'], 'variable_dtypes': ['FLOAT', 'FLOAT', 'FLOAT'], 'variable_dimensions': [0, 0, 0], 'metric_data': [0.0, 1.0, 1.0], 'metadata': {}}  \n",
       "Mean                                                                                                                                                                                                                                                                                                                                                                                                                                                 {'metric_name': 'Mean', 'metric_description': 'Feature Metric to compute mean', 'variable_count': 1, 'variable_names': ['mean'], 'variable_types': ['CONTINUOUS'], 'variable_dtypes': ['FLOAT'], 'variable_dimensions': [0], 'metric_data': [0.5956482320942881], 'metadata': {}}  \n",
       "Max                                                                                                                                                                                                                                                                                                                                                                                                                                                          {'metric_name': 'Max', 'metric_description': 'Feature Metric to compute maximum value', 'variable_count': 1, 'variable_names': ['max'], 'variable_types': ['CONTINUOUS'], 'variable_dtypes': ['FLOAT'], 'variable_dimensions': [0], 'metric_data': [1.0], 'metadata': {}}  "
      ]
     },
     "execution_count": 22,
     "metadata": {},
     "output_type": "execute_result"
    }
   ],
   "source": [
    "feature_group_ehr.get_statistics().to_pandas()"
   ]
  },
  {
   "cell_type": "code",
   "execution_count": 23,
   "id": "2ff06e5a",
   "metadata": {},
   "outputs": [
    {
     "data": {
      "text/html": [
       "<div>\n",
       "<style scoped>\n",
       "    .dataframe tbody tr th:only-of-type {\n",
       "        vertical-align: middle;\n",
       "    }\n",
       "\n",
       "    .dataframe tbody tr th {\n",
       "        vertical-align: top;\n",
       "    }\n",
       "\n",
       "    .dataframe thead th {\n",
       "        text-align: right;\n",
       "    }\n",
       "</style>\n",
       "<table border=\"1\" class=\"dataframe\">\n",
       "  <thead>\n",
       "    <tr style=\"text-align: right;\">\n",
       "      <th></th>\n",
       "      <th>0</th>\n",
       "      <th>1</th>\n",
       "    </tr>\n",
       "  </thead>\n",
       "  <tbody>\n",
       "    <tr>\n",
       "      <th>success</th>\n",
       "      <td>True</td>\n",
       "      <td>True</td>\n",
       "    </tr>\n",
       "    <tr>\n",
       "      <th>expectation_config.expectation_type</th>\n",
       "      <td>expect_column_values_to_not_be_null</td>\n",
       "      <td>expect_column_values_to_be_between</td>\n",
       "    </tr>\n",
       "    <tr>\n",
       "      <th>expectation_config.kwargs.column</th>\n",
       "      <td>AGE</td>\n",
       "      <td>HAEMOGLOBINS</td>\n",
       "    </tr>\n",
       "    <tr>\n",
       "      <th>expectation_config.kwargs.batch_id</th>\n",
       "      <td>7fd249029a1b247d18e2b509ae8e8fcb</td>\n",
       "      <td>7fd249029a1b247d18e2b509ae8e8fcb</td>\n",
       "    </tr>\n",
       "    <tr>\n",
       "      <th>result.element_count</th>\n",
       "      <td>4412</td>\n",
       "      <td>4412</td>\n",
       "    </tr>\n",
       "    <tr>\n",
       "      <th>result.unexpected_count</th>\n",
       "      <td>0</td>\n",
       "      <td>0</td>\n",
       "    </tr>\n",
       "    <tr>\n",
       "      <th>result.unexpected_percent</th>\n",
       "      <td>0.0</td>\n",
       "      <td>0.0</td>\n",
       "    </tr>\n",
       "    <tr>\n",
       "      <th>result.partial_unexpected_list</th>\n",
       "      <td>[]</td>\n",
       "      <td>[]</td>\n",
       "    </tr>\n",
       "    <tr>\n",
       "      <th>exception_info.raised_exception</th>\n",
       "      <td>False</td>\n",
       "      <td>False</td>\n",
       "    </tr>\n",
       "    <tr>\n",
       "      <th>exception_info.exception_traceback</th>\n",
       "      <td>None</td>\n",
       "      <td>None</td>\n",
       "    </tr>\n",
       "    <tr>\n",
       "      <th>exception_info.exception_message</th>\n",
       "      <td>None</td>\n",
       "      <td>None</td>\n",
       "    </tr>\n",
       "    <tr>\n",
       "      <th>expectation_config.kwargs.min_value</th>\n",
       "      <td>NaN</td>\n",
       "      <td>0.0</td>\n",
       "    </tr>\n",
       "    <tr>\n",
       "      <th>expectation_config.kwargs.max_value</th>\n",
       "      <td>NaN</td>\n",
       "      <td>30.0</td>\n",
       "    </tr>\n",
       "    <tr>\n",
       "      <th>result.missing_count</th>\n",
       "      <td>NaN</td>\n",
       "      <td>0.0</td>\n",
       "    </tr>\n",
       "    <tr>\n",
       "      <th>result.missing_percent</th>\n",
       "      <td>NaN</td>\n",
       "      <td>0.0</td>\n",
       "    </tr>\n",
       "    <tr>\n",
       "      <th>result.unexpected_percent_total</th>\n",
       "      <td>NaN</td>\n",
       "      <td>0.0</td>\n",
       "    </tr>\n",
       "    <tr>\n",
       "      <th>result.unexpected_percent_nonmissing</th>\n",
       "      <td>NaN</td>\n",
       "      <td>0.0</td>\n",
       "    </tr>\n",
       "  </tbody>\n",
       "</table>\n",
       "</div>"
      ],
      "text/plain": [
       "                                                                        0  \\\n",
       "success                                                              True   \n",
       "expectation_config.expectation_type   expect_column_values_to_not_be_null   \n",
       "expectation_config.kwargs.column                                      AGE   \n",
       "expectation_config.kwargs.batch_id       7fd249029a1b247d18e2b509ae8e8fcb   \n",
       "result.element_count                                                 4412   \n",
       "result.unexpected_count                                                 0   \n",
       "result.unexpected_percent                                             0.0   \n",
       "result.partial_unexpected_list                                         []   \n",
       "exception_info.raised_exception                                     False   \n",
       "exception_info.exception_traceback                                   None   \n",
       "exception_info.exception_message                                     None   \n",
       "expectation_config.kwargs.min_value                                   NaN   \n",
       "expectation_config.kwargs.max_value                                   NaN   \n",
       "result.missing_count                                                  NaN   \n",
       "result.missing_percent                                                NaN   \n",
       "result.unexpected_percent_total                                       NaN   \n",
       "result.unexpected_percent_nonmissing                                  NaN   \n",
       "\n",
       "                                                                       1  \n",
       "success                                                             True  \n",
       "expectation_config.expectation_type   expect_column_values_to_be_between  \n",
       "expectation_config.kwargs.column                            HAEMOGLOBINS  \n",
       "expectation_config.kwargs.batch_id      7fd249029a1b247d18e2b509ae8e8fcb  \n",
       "result.element_count                                                4412  \n",
       "result.unexpected_count                                                0  \n",
       "result.unexpected_percent                                            0.0  \n",
       "result.partial_unexpected_list                                        []  \n",
       "exception_info.raised_exception                                    False  \n",
       "exception_info.exception_traceback                                  None  \n",
       "exception_info.exception_message                                    None  \n",
       "expectation_config.kwargs.min_value                                  0.0  \n",
       "expectation_config.kwargs.max_value                                 30.0  \n",
       "result.missing_count                                                 0.0  \n",
       "result.missing_percent                                               0.0  \n",
       "result.unexpected_percent_total                                      0.0  \n",
       "result.unexpected_percent_nonmissing                                 0.0  "
      ]
     },
     "execution_count": 23,
     "metadata": {},
     "output_type": "execute_result"
    }
   ],
   "source": [
    "feature_group_ehr.get_validation_output().to_pandas()"
   ]
  },
  {
   "cell_type": "markdown",
   "id": "77bf8f09",
   "metadata": {},
   "source": [
    "<a id=\"select_subset_featuregroup\"></a>\n",
    "### 3.4. Select subset of features"
   ]
  },
  {
   "cell_type": "code",
   "execution_count": 24,
   "id": "87b4e151",
   "metadata": {},
   "outputs": [
    {
     "name": "stdout",
     "output_type": "stream",
     "text": [
      "+---+---+------+\n",
      "|AGE|SEX|SOURCE|\n",
      "+---+---+------+\n",
      "| 47|  0|     0|\n",
      "| 47|  0|     0|\n",
      "| 47|  0|     0|\n",
      "| 47|  0|     0|\n",
      "| 47|  0|     0|\n",
      "| 47|  0|     0|\n",
      "| 47|  1|     0|\n",
      "| 47|  1|     0|\n",
      "| 47|  1|     0|\n",
      "| 47|  1|     0|\n",
      "+---+---+------+\n",
      "only showing top 10 rows\n",
      "\n"
     ]
    }
   ],
   "source": [
    "feature_group_ehr.select(['AGE', 'SEX', 'SOURCE']).show()"
   ]
  },
  {
   "cell_type": "markdown",
   "id": "16a80ec1",
   "metadata": {},
   "source": [
    "<a id=\"filter_featuregroup\"></a>\n",
    "### 3.5. Filter feature groups"
   ]
  },
  {
   "cell_type": "code",
   "execution_count": 25,
   "id": "7941d82c",
   "metadata": {},
   "outputs": [
    {
     "name": "stderr",
     "output_type": "stream",
     "text": [
      "[Stage 19:>                                                         (0 + 1) / 1]\r"
     ]
    },
    {
     "name": "stdout",
     "output_type": "stream",
     "text": [
      "+-----------+------------+-----------+---------+-----------+---+---+------+\n",
      "|HAEMATOCRIT|HAEMOGLOBINS|ERYTHROCYTE|LEUCOCYTE|THROMBOCYTE|AGE|SEX|SOURCE|\n",
      "+-----------+------------+-----------+---------+-----------+---+---+------+\n",
      "|       35.8|        12.7|       4.14|      5.6|        329| 48|  0|     1|\n",
      "|       36.8|        13.5|       4.77|     23.3|        409| 48|  0|     1|\n",
      "|       40.2|        13.5|        4.4|      4.1|        166| 48|  0|     1|\n",
      "|       42.5|        14.1|        4.7|      8.0|        291| 48|  0|     1|\n",
      "|       46.2|        15.8|       5.62|     11.9|        254| 48|  1|     1|\n",
      "|       40.1|        13.7|       4.81|      4.6|        192| 48|  1|     1|\n",
      "|       39.2|        13.0|       4.56|      5.2|        232| 48|  1|     1|\n",
      "|       44.6|        15.5|       5.35|      9.0|        341| 48|  1|     1|\n",
      "|       36.5|        12.1|       4.21|      8.0|        407| 48|  0|     1|\n",
      "|       43.7|        15.0|       5.44|      5.1|        180| 48|  0|     1|\n",
      "+-----------+------------+-----------+---------+-----------+---+---+------+\n",
      "only showing top 10 rows\n",
      "\n"
     ]
    },
    {
     "name": "stderr",
     "output_type": "stream",
     "text": [
      "                                                                                \r"
     ]
    }
   ],
   "source": [
    "feature_group_ehr.filter(feature_group_ehr.SOURCE == \"1\").show()"
   ]
  },
  {
   "cell_type": "markdown",
   "id": "2f7206b2",
   "metadata": {},
   "source": [
    "<a id=\"create_dataset\"></a>\n",
    "### 3.7 Create dataset\n",
    "A dataset is a collection of feature snapshots that are joined together to either train a model or perform model inference.\n",
    "\n",
    "<div>\n",
    "    <img src=\"https://objectstorage.us-ashburn-1.oraclecloud.com/p/hh2NOgFJbVSg4amcLM3G3hkTuHyBD-8aE_iCsuZKEvIav1Wlld-3zfCawG4ycQGN/n/ociodscdev/b/oci-feature-store/o/beta/_images/fs_ehr_dataset.gif\" width=\"700\" height=\"350\" />\n",
    "</div>"
   ]
  },
  {
   "cell_type": "code",
   "execution_count": 26,
   "id": "79bc79cb",
   "metadata": {},
   "outputs": [
    {
     "name": "stdout",
     "output_type": "stream",
     "text": [
      "+-----------+------------+-----------+---------+-----------+---+---+------+\n",
      "|HAEMATOCRIT|HAEMOGLOBINS|ERYTHROCYTE|LEUCOCYTE|THROMBOCYTE|AGE|SEX|SOURCE|\n",
      "+-----------+------------+-----------+---------+-----------+---+---+------+\n",
      "|       33.8|        11.2|        4.0|      9.0|        140| 47|  0|     0|\n",
      "|       39.5|        13.2|       4.55|      2.3|         74| 47|  0|     0|\n",
      "|       31.6|         9.6|       4.52|      7.9|        301| 47|  0|     0|\n",
      "|       33.1|        10.9|       3.97|      8.2|        143| 47|  0|     0|\n",
      "|       39.3|        13.3|       4.49|      3.3|         50| 47|  0|     0|\n",
      "|       40.1|        12.2|       5.53|      6.4|        326| 47|  0|     0|\n",
      "|       39.7|        12.7|       4.63|      4.0|        167| 47|  1|     0|\n",
      "|       25.0|         8.1|        3.1|      5.3|        125| 47|  1|     0|\n",
      "|       26.4|         8.0|        3.1|     10.0|         64| 47|  1|     0|\n",
      "|       33.1|        11.5|       3.94|     13.3|        248| 47|  1|     0|\n",
      "+-----------+------------+-----------+---------+-----------+---+---+------+\n",
      "only showing top 10 rows\n",
      "\n"
     ]
    }
   ],
   "source": [
    "query = feature_group_ehr.select() \n",
    "query.show()"
   ]
  },
  {
   "cell_type": "code",
   "execution_count": 27,
   "id": "bf67e5e1",
   "metadata": {},
   "outputs": [],
   "source": [
    "dataset = (\n",
    "    Dataset()\n",
    "    .with_description(\"Combined dataset for EHR\")\n",
    "    .with_compartment_id(compartment_id)\n",
    "    .with_name(\"ehr_dataset\")\n",
    "    .with_entity_id(entity.id)\n",
    "    .with_feature_store_id(feature_store.id)\n",
    "    .with_query(query.to_string())\n",
    ")"
   ]
  },
  {
   "cell_type": "markdown",
   "id": "85fd2117",
   "metadata": {},
   "source": [
    "<a id=\"create_dataset\"></a>\n",
    "##### Create Dataset\n",
    "\n",
    "Call the ```.create()``` method of the Dataset instance to create a dataset."
   ]
  },
  {
   "cell_type": "code",
   "execution_count": 28,
   "id": "d8bfa867",
   "metadata": {},
   "outputs": [
    {
     "data": {
      "text/plain": [
       "\n",
       "kind: Dataset\n",
       "spec:\n",
       "  compartmentId: ocid1.tenancy.oc1..aaaaaaaa462hfhplpx652b32ix62xrdijppq2c7okwcqjlgrbknhgtj2kofa\n",
       "  datasetFeatureGroups:\n",
       "    isManualAssociation: false\n",
       "    items:\n",
       "    - featureGroupId: BE716DA76DD4E94BBE745C02FA582318\n",
       "  description: Combined dataset for EHR\n",
       "  entityId: AA52BA1722E547CE8B83607D5F6CE55B\n",
       "  featureStoreId: B5D18A2B5D08F462AC230FBEAF9032BF\n",
       "  id: BE0E61AAAC57CDC347BE131E2B1F1A0D\n",
       "  lifecycleState: ACTIVE\n",
       "  modelDetails: {}\n",
       "  name: ehr_dataset\n",
       "  outputFeatureDetails:\n",
       "    items: []\n",
       "  query: SELECT fg_0.HAEMATOCRIT HAEMATOCRIT, fg_0.HAEMOGLOBINS HAEMOGLOBINS, fg_0.ERYTHROCYTE\n",
       "    ERYTHROCYTE, fg_0.LEUCOCYTE LEUCOCYTE, fg_0.THROMBOCYTE THROMBOCYTE, fg_0.AGE\n",
       "    AGE, fg_0.SEX SEX, fg_0.SOURCE SOURCE FROM `AA52BA1722E547CE8B83607D5F6CE55B`.ehr_feature_group\n",
       "    fg_0\n",
       "  statisticsConfig:\n",
       "    isEnabled: true\n",
       "type: dataset"
      ]
     },
     "execution_count": 28,
     "metadata": {},
     "output_type": "execute_result"
    }
   ],
   "source": [
    "dataset.create()"
   ]
  },
  {
   "cell_type": "code",
   "execution_count": 29,
   "id": "a062ec83",
   "metadata": {},
   "outputs": [
    {
     "name": "stderr",
     "output_type": "stream",
     "text": [
      "                                                                                \r"
     ]
    },
    {
     "name": "stdout",
     "output_type": "stream",
     "text": [
      "WARNING:py.warnings:/home/datascience/conda/fspyspark32_p38_cpu_v2/lib/python3.8/site-packages/pyspark/sql/pandas/utils.py:35: DeprecationWarning: distutils Version classes are deprecated. Use packaging.version instead.\n",
      "  if LooseVersion(pandas.__version__) < LooseVersion(minimum_pandas_version):\n",
      "\n",
      "WARNING:py.warnings:/home/datascience/conda/fspyspark32_p38_cpu_v2/lib/python3.8/site-packages/pyspark/sql/pandas/utils.py:57: DeprecationWarning: distutils Version classes are deprecated. Use packaging.version instead.\n",
      "  if LooseVersion(pyarrow.__version__) < LooseVersion(minimum_pyarrow_version):\n",
      "\n"
     ]
    },
    {
     "name": "stderr",
     "output_type": "stream",
     "text": [
      "[Stage 39:=============================>                            (1 + 1) / 2]\r"
     ]
    },
    {
     "name": "stdout",
     "output_type": "stream",
     "text": [
      "INFO:ads.feature_store.common.utils.utility:Ingestion Summary \n",
      "╒══════════════════════════════════╤═══════════════╤════════════════════╤═════════════════╕\n",
      "│            entity_id             │  entity_type  │  ingestion_status  │  error_details  │\n",
      "╞══════════════════════════════════╪═══════════════╪════════════════════╪═════════════════╡\n",
      "│ BE0E61AAAC57CDC347BE131E2B1F1A0D │    DATASET    │     Succeeded      │      None       │\n",
      "╘══════════════════════════════════╧═══════════════╧════════════════════╧═════════════════╛\n"
     ]
    },
    {
     "name": "stderr",
     "output_type": "stream",
     "text": [
      "                                                                                \r"
     ]
    }
   ],
   "source": [
    "dataset.materialise()"
   ]
  },
  {
   "cell_type": "markdown",
   "id": "75b76762",
   "metadata": {},
   "source": [
    "### Interoperability with model"
   ]
  },
  {
   "cell_type": "code",
   "execution_count": 30,
   "id": "5e040a7f",
   "metadata": {},
   "outputs": [
    {
     "data": {
      "text/plain": [
       "\n",
       "kind: Dataset\n",
       "spec:\n",
       "  compartmentId: ocid1.tenancy.oc1..aaaaaaaa462hfhplpx652b32ix62xrdijppq2c7okwcqjlgrbknhgtj2kofa\n",
       "  datasetFeatureGroups:\n",
       "    isManualAssociation: false\n",
       "    items:\n",
       "    - featureGroupId: BE716DA76DD4E94BBE745C02FA582318\n",
       "  description: Combined dataset for EHR\n",
       "  entityId: AA52BA1722E547CE8B83607D5F6CE55B\n",
       "  featureStoreId: B5D18A2B5D08F462AC230FBEAF9032BF\n",
       "  id: BE0E61AAAC57CDC347BE131E2B1F1A0D\n",
       "  jobId: 89588f6e-0f2d-4b00-8ae0-b635fff3964d\n",
       "  lifecycleState: ACTIVE\n",
       "  modelDetails:\n",
       "    items:\n",
       "    - ocid1.datasciencemodel.oc1.iad.amaaaaaabiudgxyaoggzrpcpgvjb7u2oh7wjoho3u6km6wweppv6mcaxnv2q\n",
       "  name: ehr_dataset\n",
       "  outputFeatureDetails:\n",
       "    items:\n",
       "    - datasetId: BE0E61AAAC57CDC347BE131E2B1F1A0D\n",
       "      featureType: DOUBLE\n",
       "      name: HAEMATOCRIT\n",
       "    - datasetId: BE0E61AAAC57CDC347BE131E2B1F1A0D\n",
       "      featureType: DOUBLE\n",
       "      name: HAEMOGLOBINS\n",
       "    - datasetId: BE0E61AAAC57CDC347BE131E2B1F1A0D\n",
       "      featureType: DOUBLE\n",
       "      name: ERYTHROCYTE\n",
       "    - datasetId: BE0E61AAAC57CDC347BE131E2B1F1A0D\n",
       "      featureType: DOUBLE\n",
       "      name: LEUCOCYTE\n",
       "    - datasetId: BE0E61AAAC57CDC347BE131E2B1F1A0D\n",
       "      featureType: LONG\n",
       "      name: THROMBOCYTE\n",
       "    - datasetId: BE0E61AAAC57CDC347BE131E2B1F1A0D\n",
       "      featureType: LONG\n",
       "      name: AGE\n",
       "    - datasetId: BE0E61AAAC57CDC347BE131E2B1F1A0D\n",
       "      featureType: LONG\n",
       "      name: SEX\n",
       "    - datasetId: BE0E61AAAC57CDC347BE131E2B1F1A0D\n",
       "      featureType: LONG\n",
       "      name: SOURCE\n",
       "  query: SELECT fg_0.HAEMATOCRIT HAEMATOCRIT, fg_0.HAEMOGLOBINS HAEMOGLOBINS, fg_0.ERYTHROCYTE\n",
       "    ERYTHROCYTE, fg_0.LEUCOCYTE LEUCOCYTE, fg_0.THROMBOCYTE THROMBOCYTE, fg_0.AGE\n",
       "    AGE, fg_0.SEX SEX, fg_0.SOURCE SOURCE FROM `AA52BA1722E547CE8B83607D5F6CE55B`.ehr_feature_group\n",
       "    fg_0\n",
       "  statisticsConfig:\n",
       "    isEnabled: true\n",
       "type: dataset"
      ]
     },
     "execution_count": 30,
     "metadata": {},
     "output_type": "execute_result"
    }
   ],
   "source": [
    "model_details = ModelDetails().with_items([\"ocid1.datasciencemodel.oc1.iad.unique_id\"])\n",
    "dataset.add_models(model_details)"
   ]
  },
  {
   "cell_type": "markdown",
   "id": "74acf2be",
   "metadata": {},
   "source": [
    "<a id=\"visualise_lineage\"></a>\n",
    "##### Visualise lineage\n",
    "\n",
    "Use the ```.show()``` method on the Dataset instance to visualize the lineage of the dataset."
   ]
  },
  {
   "cell_type": "code",
   "execution_count": 31,
   "id": "666767b0",
   "metadata": {},
   "outputs": [
    {
     "data": {
      "image/svg+xml": [
       "<?xml version=\"1.0\" encoding=\"UTF-8\" standalone=\"no\"?>\n",
       "<!DOCTYPE svg PUBLIC \"-//W3C//DTD SVG 1.1//EN\"\n",
       " \"http://www.w3.org/Graphics/SVG/1.1/DTD/svg11.dtd\">\n",
       "<!-- Generated by graphviz version 2.50.0 (0)\n",
       " -->\n",
       "<!-- Pages: 1 -->\n",
       "<svg width=\"1107pt\" height=\"138pt\"\n",
       " viewBox=\"0.00 0.00 1107.00 138.00\" xmlns=\"http://www.w3.org/2000/svg\" xmlns:xlink=\"http://www.w3.org/1999/xlink\">\n",
       "<g id=\"graph0\" class=\"graph\" transform=\"scale(1 1) rotate(0) translate(4 134)\">\n",
       "<polygon fill=\"white\" stroke=\"transparent\" points=\"-4,4 -4,-134 1103,-134 1103,4 -4,4\"/>\n",
       "<!-- B5D18A2B5D08F462AC230FBEAF9032BF -->\n",
       "<g id=\"node1\" class=\"node\">\n",
       "<title>B5D18A2B5D08F462AC230FBEAF9032BF</title>\n",
       "<path fill=\"#dedede\" stroke=\"#dedede\" d=\"M133,-93C133,-93 12,-93 12,-93 6,-93 0,-87 0,-81 0,-81 0,-49 0,-49 0,-43 6,-37 12,-37 12,-37 133,-37 133,-37 139,-37 145,-43 145,-49 145,-49 145,-81 145,-81 145,-87 139,-93 133,-93\"/>\n",
       "<text text-anchor=\"start\" x=\"41\" y=\"-76.2\" font-family=\"Helvetica,Arial,sans-serif\" font-size=\"11.00\">EHR details</text>\n",
       "<text text-anchor=\"start\" x=\"48\" y=\"-61.4\" font-family=\"Helvetica,Arial,sans-serif\" font-size=\"7.00\">Feature Store</text>\n",
       "<text text-anchor=\"start\" x=\"12.5\" y=\"-47.4\" font-family=\"Courier New\" font-size=\"7.00\">B5D18A2B5D08F462AC230FBEAF9032BF</text>\n",
       "</g>\n",
       "<!-- AA52BA1722E547CE8B83607D5F6CE55B -->\n",
       "<g id=\"node2\" class=\"node\">\n",
       "<title>AA52BA1722E547CE8B83607D5F6CE55B</title>\n",
       "<path fill=\"#dedede\" stroke=\"#dedede\" d=\"M318.5,-56C318.5,-56 197.5,-56 197.5,-56 191.5,-56 185.5,-50 185.5,-44 185.5,-44 185.5,-12 185.5,-12 185.5,-6 191.5,0 197.5,0 197.5,0 318.5,0 318.5,0 324.5,0 330.5,-6 330.5,-12 330.5,-12 330.5,-44 330.5,-44 330.5,-50 324.5,-56 318.5,-56\"/>\n",
       "<text text-anchor=\"start\" x=\"247\" y=\"-39.2\" font-family=\"Helvetica,Arial,sans-serif\" font-size=\"11.00\">EHR</text>\n",
       "<text text-anchor=\"start\" x=\"247.5\" y=\"-24.4\" font-family=\"Helvetica,Arial,sans-serif\" font-size=\"7.00\">Entity</text>\n",
       "<text text-anchor=\"start\" x=\"198\" y=\"-10.4\" font-family=\"Courier New\" font-size=\"7.00\">AA52BA1722E547CE8B83607D5F6CE55B</text>\n",
       "</g>\n",
       "<!-- B5D18A2B5D08F462AC230FBEAF9032BF&#45;&gt;AA52BA1722E547CE8B83607D5F6CE55B -->\n",
       "<g id=\"edge1\" class=\"edge\">\n",
       "<title>B5D18A2B5D08F462AC230FBEAF9032BF&#45;&gt;AA52BA1722E547CE8B83607D5F6CE55B</title>\n",
       "<path fill=\"none\" stroke=\"black\" d=\"M145.23,-50.54C155.11,-48.54 165.31,-46.49 175.35,-44.46\"/>\n",
       "<polygon fill=\"black\" stroke=\"black\" points=\"176.2,-47.86 185.32,-42.45 174.82,-41 176.2,-47.86\"/>\n",
       "</g>\n",
       "<!-- 37E3C80B27B814591B072EFC53FABE4E -->\n",
       "<g id=\"node3\" class=\"node\">\n",
       "<title>37E3C80B27B814591B072EFC53FABE4E</title>\n",
       "<path fill=\"#dedede\" stroke=\"#dedede\" d=\"M323,-130C323,-130 193,-130 193,-130 187,-130 181,-124 181,-118 181,-118 181,-86 181,-86 181,-80 187,-74 193,-74 193,-74 323,-74 323,-74 329,-74 335,-80 335,-86 335,-86 335,-118 335,-118 335,-124 329,-130 323,-130\"/>\n",
       "<text text-anchor=\"start\" x=\"193\" y=\"-113.2\" font-family=\"Helvetica,Arial,sans-serif\" font-size=\"11.00\">chained_transformation</text>\n",
       "<text text-anchor=\"start\" x=\"230.5\" y=\"-98.4\" font-family=\"Helvetica,Arial,sans-serif\" font-size=\"7.00\">Transformation</text>\n",
       "<text text-anchor=\"start\" x=\"197.5\" y=\"-84.4\" font-family=\"Courier New\" font-size=\"7.00\">37E3C80B27B814591B072EFC53FABE4E</text>\n",
       "</g>\n",
       "<!-- B5D18A2B5D08F462AC230FBEAF9032BF&#45;&gt;37E3C80B27B814591B072EFC53FABE4E -->\n",
       "<g id=\"edge2\" class=\"edge\">\n",
       "<title>B5D18A2B5D08F462AC230FBEAF9032BF&#45;&gt;37E3C80B27B814591B072EFC53FABE4E</title>\n",
       "<path fill=\"none\" stroke=\"black\" d=\"M145.23,-79.46C153.62,-81.15 162.23,-82.89 170.78,-84.62\"/>\n",
       "<polygon fill=\"black\" stroke=\"black\" points=\"170.28,-88.08 180.77,-86.63 171.66,-81.22 170.28,-88.08\"/>\n",
       "</g>\n",
       "<!-- BE716DA76DD4E94BBE745C02FA582318 -->\n",
       "<g id=\"node4\" class=\"node\">\n",
       "<title>BE716DA76DD4E94BBE745C02FA582318</title>\n",
       "<path fill=\"#dedede\" stroke=\"#dedede\" d=\"M504,-112C504,-112 383,-112 383,-112 377,-112 371,-106 371,-100 371,-100 371,-68 371,-68 371,-62 377,-56 383,-56 383,-56 504,-56 504,-56 510,-56 516,-62 516,-68 516,-68 516,-100 516,-100 516,-106 510,-112 504,-112\"/>\n",
       "<text text-anchor=\"start\" x=\"394\" y=\"-95.2\" font-family=\"Helvetica,Arial,sans-serif\" font-size=\"11.00\">ehr_feature_group</text>\n",
       "<text text-anchor=\"start\" x=\"418\" y=\"-80.4\" font-family=\"Helvetica,Arial,sans-serif\" font-size=\"7.00\">Feature Group</text>\n",
       "<text text-anchor=\"start\" x=\"383.5\" y=\"-66.4\" font-family=\"Courier New\" font-size=\"7.00\">BE716DA76DD4E94BBE745C02FA582318</text>\n",
       "</g>\n",
       "<!-- AA52BA1722E547CE8B83607D5F6CE55B&#45;&gt;BE716DA76DD4E94BBE745C02FA582318 -->\n",
       "<g id=\"edge3\" class=\"edge\">\n",
       "<title>AA52BA1722E547CE8B83607D5F6CE55B&#45;&gt;BE716DA76DD4E94BBE745C02FA582318</title>\n",
       "<path fill=\"none\" stroke=\"black\" d=\"M330.73,-49.89C340.71,-52.94 351.02,-56.08 361.16,-59.18\"/>\n",
       "<polygon fill=\"black\" stroke=\"black\" points=\"360.23,-62.55 370.82,-62.12 362.27,-55.86 360.23,-62.55\"/>\n",
       "</g>\n",
       "<!-- BE0E61AAAC57CDC347BE131E2B1F1A0D -->\n",
       "<g id=\"node5\" class=\"node\">\n",
       "<title>BE0E61AAAC57CDC347BE131E2B1F1A0D</title>\n",
       "<path fill=\"#dedede\" stroke=\"#dedede\" d=\"M685,-84C685,-84 564,-84 564,-84 558,-84 552,-78 552,-72 552,-72 552,-40 552,-40 552,-34 558,-28 564,-28 564,-28 685,-28 685,-28 691,-28 697,-34 697,-40 697,-40 697,-72 697,-72 697,-78 691,-84 685,-84\"/>\n",
       "<text text-anchor=\"start\" x=\"592\" y=\"-67.2\" font-family=\"Helvetica,Arial,sans-serif\" font-size=\"11.00\">ehr_dataset</text>\n",
       "<text text-anchor=\"start\" x=\"610.5\" y=\"-52.4\" font-family=\"Helvetica,Arial,sans-serif\" font-size=\"7.00\">Dataset</text>\n",
       "<text text-anchor=\"start\" x=\"564.5\" y=\"-38.4\" font-family=\"Courier New\" font-size=\"7.00\">BE0E61AAAC57CDC347BE131E2B1F1A0D</text>\n",
       "</g>\n",
       "<!-- AA52BA1722E547CE8B83607D5F6CE55B&#45;&gt;BE0E61AAAC57CDC347BE131E2B1F1A0D -->\n",
       "<g id=\"edge5\" class=\"edge\">\n",
       "<title>AA52BA1722E547CE8B83607D5F6CE55B&#45;&gt;BE0E61AAAC57CDC347BE131E2B1F1A0D</title>\n",
       "<path fill=\"none\" stroke=\"black\" d=\"M330.74,-33.12C382.3,-36.84 453.45,-42.07 516,-47 524.32,-47.66 533,-48.36 541.66,-49.07\"/>\n",
       "<polygon fill=\"black\" stroke=\"black\" points=\"541.55,-52.57 551.81,-49.9 542.13,-45.59 541.55,-52.57\"/>\n",
       "</g>\n",
       "<!-- 37E3C80B27B814591B072EFC53FABE4E&#45;&gt;BE716DA76DD4E94BBE745C02FA582318 -->\n",
       "<g id=\"edge4\" class=\"edge\">\n",
       "<title>37E3C80B27B814591B072EFC53FABE4E&#45;&gt;BE716DA76DD4E94BBE745C02FA582318</title>\n",
       "<path fill=\"none\" stroke=\"black\" d=\"M335.23,-94.52C343.72,-93.69 352.4,-92.84 360.95,-92\"/>\n",
       "<polygon fill=\"black\" stroke=\"black\" points=\"361.31,-95.48 370.92,-91.02 360.63,-88.51 361.31,-95.48\"/>\n",
       "</g>\n",
       "<!-- BE716DA76DD4E94BBE745C02FA582318&#45;&gt;BE0E61AAAC57CDC347BE131E2B1F1A0D -->\n",
       "<g id=\"edge6\" class=\"edge\">\n",
       "<title>BE716DA76DD4E94BBE745C02FA582318&#45;&gt;BE0E61AAAC57CDC347BE131E2B1F1A0D</title>\n",
       "<path fill=\"none\" stroke=\"black\" d=\"M516.02,-72.81C524.49,-71.49 533.18,-70.13 541.78,-68.78\"/>\n",
       "<polygon fill=\"black\" stroke=\"black\" points=\"542.47,-72.22 551.8,-67.21 541.38,-65.3 542.47,-72.22\"/>\n",
       "</g>\n",
       "<!-- ocid1.datasciencemodel.oc1.iad.amaaaaaabiudgxyaoggzrpcpgvjb7u2oh7wjoho3u6km6wweppv6mcaxnv2q -->\n",
       "<g id=\"node6\" class=\"node\">\n",
       "<title>ocid1.datasciencemodel.oc1.iad.amaaaaaabiudgxyaoggzrpcpgvjb7u2oh7wjoho3u6km6wweppv6mcaxnv2q</title>\n",
       "<path fill=\"#dedede\" stroke=\"#dedede\" d=\"M1087,-84C1087,-84 745,-84 745,-84 739,-84 733,-78 733,-72 733,-72 733,-40 733,-40 733,-34 739,-28 745,-28 745,-28 1087,-28 1087,-28 1093,-28 1099,-34 1099,-40 1099,-40 1099,-72 1099,-72 1099,-78 1093,-84 1087,-84\"/>\n",
       "<text text-anchor=\"start\" x=\"914\" y=\"-67.2\" font-family=\"Helvetica,Arial,sans-serif\" font-size=\"11.00\"> </text>\n",
       "<text text-anchor=\"start\" x=\"905\" y=\"-52.4\" font-family=\"Helvetica,Arial,sans-serif\" font-size=\"7.00\">Model</text>\n",
       "<text text-anchor=\"start\" x=\"745\" y=\"-38.4\" font-family=\"Courier New\" font-size=\"7.00\">ocid1.datasciencemodel.oc1.iad.amaaaaaabiudgxyaoggzrpcpgvjb7u2oh7wjoho3u6km6wweppv6mcaxnv2q</text>\n",
       "</g>\n",
       "<!-- BE0E61AAAC57CDC347BE131E2B1F1A0D&#45;&gt;ocid1.datasciencemodel.oc1.iad.amaaaaaabiudgxyaoggzrpcpgvjb7u2oh7wjoho3u6km6wweppv6mcaxnv2q -->\n",
       "<g id=\"edge7\" class=\"edge\">\n",
       "<title>BE0E61AAAC57CDC347BE131E2B1F1A0D&#45;&gt;ocid1.datasciencemodel.oc1.iad.amaaaaaabiudgxyaoggzrpcpgvjb7u2oh7wjoho3u6km6wweppv6mcaxnv2q</title>\n",
       "<path fill=\"none\" stroke=\"black\" d=\"M697.06,-56C705.27,-56 713.91,-56 722.82,-56\"/>\n",
       "<polygon fill=\"black\" stroke=\"black\" points=\"722.98,-59.5 732.98,-56 722.98,-52.5 722.98,-59.5\"/>\n",
       "</g>\n",
       "</g>\n",
       "</svg>\n"
      ],
      "text/plain": [
       "<graphviz.dot.Digraph at 0x7fc8975e67f0>"
      ]
     },
     "metadata": {},
     "output_type": "display_data"
    }
   ],
   "source": [
    "dataset.show()"
   ]
  },
  {
   "cell_type": "code",
   "execution_count": 32,
   "id": "b7f5676e",
   "metadata": {},
   "outputs": [
    {
     "name": "stdout",
     "output_type": "stream",
     "text": [
      "+------+--------------------+--------------------+-----------+--------------------+--------------------+-------------------+----------------+--------+-----------+----------+----------------+----------------+\n",
      "|format|                  id|                name|description|            location|           createdAt|       lastModified|partitionColumns|numFiles|sizeInBytes|properties|minReaderVersion|minWriterVersion|\n",
      "+------+--------------------+--------------------+-----------+--------------------+--------------------+-------------------+----------------+--------+-----------+----------+----------------+----------------+\n",
      "| delta|bef3e45f-ccdc-4ec...|aa52ba1722e547ce8...|       null|oci://MetaStore-M...|2023-12-12 03:55:...|2023-12-12 03:55:48|              []|       2|      42226|        {}|               1|               2|\n",
      "+------+--------------------+--------------------+-----------+--------------------+--------------------+-------------------+----------------+--------+-----------+----------+----------------+----------------+\n",
      "\n"
     ]
    }
   ],
   "source": [
    "dataset.profile().show()"
   ]
  },
  {
   "cell_type": "code",
   "execution_count": 33,
   "id": "4968f4bf",
   "metadata": {},
   "outputs": [
    {
     "name": "stdout",
     "output_type": "stream",
     "text": [
      "WARNING:py.warnings:/tmp/ipykernel_10563/1598638043.py:1: DeprecationWarning: preview functionality is deprecated. Please use as_of.\n",
      "  dataset.preview().show()\n",
      "\n"
     ]
    },
    {
     "name": "stderr",
     "output_type": "stream",
     "text": [
      "[Stage 45:=============================>                            (1 + 1) / 2]\r"
     ]
    },
    {
     "name": "stdout",
     "output_type": "stream",
     "text": [
      "+-----------+------------+-----------+---------+-----------+---+---+------+\n",
      "|HAEMATOCRIT|HAEMOGLOBINS|ERYTHROCYTE|LEUCOCYTE|THROMBOCYTE|AGE|SEX|SOURCE|\n",
      "+-----------+------------+-----------+---------+-----------+---+---+------+\n",
      "|       33.8|        11.2|        4.0|      9.0|        140| 47|  0|     0|\n",
      "|       39.5|        13.2|       4.55|      2.3|         74| 47|  0|     0|\n",
      "|       31.6|         9.6|       4.52|      7.9|        301| 47|  0|     0|\n",
      "|       33.1|        10.9|       3.97|      8.2|        143| 47|  0|     0|\n",
      "|       39.3|        13.3|       4.49|      3.3|         50| 47|  0|     0|\n",
      "|       40.1|        12.2|       5.53|      6.4|        326| 47|  0|     0|\n",
      "|       39.7|        12.7|       4.63|      4.0|        167| 47|  1|     0|\n",
      "|       25.0|         8.1|        3.1|      5.3|        125| 47|  1|     0|\n",
      "|       26.4|         8.0|        3.1|     10.0|         64| 47|  1|     0|\n",
      "|       33.1|        11.5|       3.94|     13.3|        248| 47|  1|     0|\n",
      "+-----------+------------+-----------+---------+-----------+---+---+------+\n",
      "\n"
     ]
    },
    {
     "name": "stderr",
     "output_type": "stream",
     "text": [
      "                                                                                \r"
     ]
    }
   ],
   "source": [
    "dataset.preview().show()"
   ]
  },
  {
   "cell_type": "markdown",
   "id": "2b09082d",
   "metadata": {},
   "source": [
    "<a id='ref'></a>\n",
    "# References\n",
    "\n",
    "- [ADS Library Documentation](https://accelerated-data-science.readthedocs.io/en/latest/index.html)\n",
    "- [Data Science YouTube Videos](https://www.youtube.com/playlist?list=PLKCk3OyNwIzv6CWMhvqSB_8MLJIZdO80L)\n",
    "- [OCI Data Science Documentation](https://docs.cloud.oracle.com/en-us/iaas/data-science/using/data-science.htm)\n",
    "- [Oracle Data & AI Blog](https://blogs.oracle.com/datascience/)"
   ]
  },
  {
   "cell_type": "code",
   "execution_count": null,
   "id": "89df403e",
   "metadata": {},
   "outputs": [],
   "source": []
  }
 ],
 "metadata": {
  "kernelspec": {
   "display_name": "Python [conda env:fspyspark32_p38_cpu_v2]",
   "language": "python",
   "name": "conda-env-fspyspark32_p38_cpu_v2-py"
  },
  "language_info": {
   "codemirror_mode": {
    "name": "ipython",
    "version": 3
   },
   "file_extension": ".py",
   "mimetype": "text/x-python",
   "name": "python",
   "nbconvert_exporter": "python",
   "pygments_lexer": "ipython3",
   "version": "3.8.16"
  }
 },
 "nbformat": 4,
 "nbformat_minor": 5
}
