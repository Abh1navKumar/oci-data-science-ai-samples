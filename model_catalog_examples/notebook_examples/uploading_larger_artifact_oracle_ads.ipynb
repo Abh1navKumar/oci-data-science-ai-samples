{
 "cells": [
  {
   "cell_type": "markdown",
   "id": "70f47e2f",
   "metadata": {},
   "source": [
    "<font color=gray>Oracle Cloud Infrastructure Data Science Sample Notebook\n",
    "\n",
    "Copyright (c) 2021 Oracle, Inc.  All rights reserved. <br>\n",
    "Licensed under the Universal Permissive License v 1.0 as shown at https://oss.oracle.com/licenses/upl.\n",
    "</font>"
   ]
  },
  {
   "cell_type": "markdown",
   "id": "3c2003df",
   "metadata": {},
   "source": [
    "# Uploading Larger Size Model Artifact Using Oracle ADS Library \n",
    "\n",
    "This notebook demonstrates simple solution for Oracle ADS Library which allows data scientists to upload larger model artifacts and eliminate the timeout error that is experienced by most folks when the artifact is large. It shows end-to-end steps from setting up the configuration till uploading the model artifact."
   ]
  },
  {
   "cell_type": "markdown",
   "id": "3921c890",
   "metadata": {},
   "source": [
    "## Pre-requisites to Running this Notebook "
   ]
  },
  {
   "cell_type": "markdown",
   "id": "6b96593d",
   "metadata": {},
   "source": [
    "* We recommend that you run this notebook in a notebook session using the **Data Science Conda Environment \"Data Exploration and Manipulation for CPU Python 3.7 V2 conda environment\"** \n",
    "* You need access to the public internet\n",
    "\n",
    "***\n",
    " \n",
    "<font color=gray>Datasets are provided as a convenience. Datasets are considered Third Party Content and are not considered Materials under your agreement with Oracle applicable to the Services.\n",
    " \n",
    "The dataset `oracle_classification_dataset1` is distributed under the [UPL license](oracle_data/UPL.txt). \n",
    "</font>\n",
    "***"
   ]
  },
  {
   "cell_type": "code",
   "execution_count": null,
   "id": "989969b3",
   "metadata": {},
   "outputs": [],
   "source": [
    "import ads\n",
    "import logging\n",
    "import os\n",
    "import tempfile\n",
    "import warnings\n",
    "\n",
    "from ads.catalog.model import ModelCatalog\n",
    "from ads.common.model import ADSModel\n",
    "from ads.common.model_export_util import prepare_generic_model\n",
    "from ads.common.model_metadata import (MetadataCustomCategory,\n",
    "                                       UseCaseType,\n",
    "                                       Framework)\n",
    "from ads.dataset.factory import DatasetFactory\n",
    "from ads.feature_engineering.schema import Expression, Schema\n",
    "from os import path\n",
    "from sklearn.ensemble import RandomForestClassifier\n",
    "\n",
    "logging.basicConfig(format='%(levelname)s:%(message)s', level=logging.ERROR)\n",
    "warnings.filterwarnings('ignore')\n",
    "ads.set_documentation_mode(True)\n",
    "# Load the dataset\n",
    "ds_path = path.join(\"/\", \"opt\", \"notebooks\", \"ads-examples\", \"oracle_data\", \"oracle_classification_dataset1_150K.csv\")\n",
    "\n",
    "ds = DatasetFactory.open(ds_path, target=\"class\")\n",
    "\n",
    "ds\n",
    "# Data preprocessing\n",
    "transformed_ds = ds.auto_transform(fix_imbalance=False)\n",
    "train, test = transformed_ds.train_test_split(test_size=0.15)\n",
    "\n",
    "# Build the model and convert it to an ADSModel object\n",
    "rf_clf = RandomForestClassifier(n_estimators=10).fit(train.X.values, train.y.values)\n",
    "rf_model = ADSModel.from_estimator(rf_clf)"
   ]
  },
  {
   "cell_type": "code",
   "execution_count": null,
   "id": "4538b3c8",
   "metadata": {},
   "outputs": [],
   "source": [
    "# Prepare the model artifacts\n",
    "path_to_ADS_model_artifact = tempfile.mkdtemp()\n",
    "\n",
    "rf_model_artifact = rf_model.prepare(path_to_ADS_model_artifact, use_case_type=UseCaseType.DIMENSIONALITY_REDUCTION,\n",
    "                                     force_overwrite=True, data_sample=test, data_science_env=True,\n",
    "                                     fn_artifact_files_included=False)\n",
    "\n",
    "print(\"Model Artifact Path: {}\\n\\nModel Artifact Files:\".format(path_to_ADS_model_artifact))\n",
    "for file in os.listdir(path_to_ADS_model_artifact):\n",
    "    if path.isdir(path.join(path_to_ADS_model_artifact, file)):\n",
    "        for file2 in os.listdir(path.join(path_to_ADS_model_artifact, file)):\n",
    "            print(path.join(file,file2))\n",
    "    else:\n",
    "        print(file)"
   ]
  },
  {
   "cell_type": "code",
   "execution_count": null,
   "id": "9a15bb33",
   "metadata": {},
   "outputs": [],
   "source": [
    "# Saving the model artifact to the model catalog:\n",
    "mc_model = rf_model_artifact.save(project_id=os.environ['PROJECT_OCID'],\n",
    "                                  compartment_id=os.environ['NB_SESSION_COMPARTMENT_OCID'],\n",
    "                                  training_id=os.environ['NB_SESSION_OCID'],\n",
    "                                  display_name=f\"<replace-with-display-name>\",\n",
    "                                  description=f\"<replace-with-description>\",\n",
    "                                  ignore_pending_changes=True,\n",
    "                                  timeout=1800,\n",
    "                                  ignore_introspection=True,\n",
    "                                 )\n",
    "mc_model"
   ]
  }
 ],
 "metadata": {
  "kernelspec": {
   "display_name": "Python 3",
   "language": "python",
   "name": "python3"
  },
  "language_info": {
   "codemirror_mode": {
    "name": "ipython",
    "version": 3
   },
   "file_extension": ".py",
   "mimetype": "text/x-python",
   "name": "python",
   "nbconvert_exporter": "python",
   "pygments_lexer": "ipython3",
   "version": "3.8.8"
  }
 },
 "nbformat": 4,
 "nbformat_minor": 5
}
