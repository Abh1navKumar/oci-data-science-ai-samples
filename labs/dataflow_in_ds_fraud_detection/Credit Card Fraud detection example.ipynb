{
 "cells": [
  {
   "cell_type": "markdown",
   "metadata": {},
   "source": [
    "Copyright (c) 2022 Oracle, Inc. All rights reserved. Licensed under the [Universal Permissive License v 1.0](https://oss.oracle.com/licenses/upl).\n",
    "\n",
    "---\n",
    "\n",
    "# <font color=\"red\">Train and Deploy Models from Massive Datasets: Credit Card Fraud Detection use-case</font>\n",
    "<p style=\"margin-left:10%; margin-right:10%;\">by the <font color=\"teal\">Oracle Cloud Infrastructure Data Science Service.</font></p>\n",
    "\n",
    "---"
   ]
  },
  {
   "cell_type": "markdown",
   "metadata": {},
   "source": [
    "# Overview:\n",
    "\n",
    "Credit card fraud is a major source of losses for any merchant, and the prevalence of this form of payment combined with the increase in online transactions makes it an important issue to try to tackle.\n",
    "\n",
    "However fraud is still a small fraction of all transactions and training a macine learning model for this purpose tends to require a vast amount of data.\n",
    "\n",
    "In this notebook, we'll show how to work with Spark, a distributed computing framework which is available as a service on Oracle Cloud Infrastructure (OCI) as DataFlow; a fully managed Spark deployment.\n",
    "\n",
    "We'll start with exploring a synthetic dataset of credit card transactions, developing Spark code on a subset of a very large dataset, engineering features and selecting a model, and then implement the model as a DataFlow Application, to run the model training on terabytes of data."
   ]
  },
  {
   "cell_type": "markdown",
   "metadata": {},
   "source": [
    "<a id=\"feature1\"></a>\n",
    "## Prerequisites\n",
    "\n",
    "- Experience with the specific Topic: Intermediate.\n",
    "\n",
    "- Professional experience: None\n",
    "\n",
    "- The data generation part of this use case can be very time consuming, depending on the amount of data you wish to generate. We recommend the use of the shape with at least 8 OCPUs. To generate terabytes of data, we recommend using the maximum amount of OCPUs for the E3 Flex shape (64 cores) to run the tool; this would allow generating ~1.4TB of data in ~2h. To run this notebook, medium size datasets that can be generated in a few minutes is sufficient. When running the DataFlow run to train the final model, you should do so on the largest dataset.\n"
   ]
  },
  {
   "cell_type": "markdown",
   "metadata": {},
   "source": [
    "## Objectives\n",
    "\n",
    "In this notebook, we'll go over the datascience workflow from exploration to model deployment.\n",
    "\n",
    "We'll explore a credit card transaction dataset, try models and evaluate their performance on this dataset, \n",
    "create Spark applications to run training and batch scoring on Oracle Cloud Infrastructure DataFlow, the Oracle serverless Spark platform, \n",
    "and deploy a model inference server callable via a REST endpoint.\n"
   ]
  },
  {
   "cell_type": "markdown",
   "metadata": {},
   "source": [
    "---\n",
    "\n",
    "## Contents:\n",
    "\n",
    "- <a href='#use_case'>1. Fraud Detection Use Case</a>\n",
    "    - <a href=\"#utilities\">1.1. Utility Functions</a>\n",
    "    - <a href=\"#dataset\">1.2. Generate the Dataset</a>\n",
    "    - <a href=\"#store_data\">1.3. Store Dataset on Object Storage</a>\n",
    "    - <a href=\"#explore\">1.4. Exploring the Dataset</a>\n",
    "        - <a href=\"#customer_info\">1.4.1. Customer Information</a>\n",
    "            - <a href=\"#age\">1.4.1.1. Customer Age</a>\n",
    "            - <a href=\"#gender\">1.4.1.2. Customer Gender</a>\n",
    "            - <a href=\"#city_population\">1.4.1.3. Customer City Population</a>\n",
    "        - <a href=\"#transaction_info\">1.4.2. Transaction Information</a>\n",
    "            - <a href=\"#day_of_week\">1.4.2.1. Day of Week</a>\n",
    "            - <a href=\"#weekend\">1.4.2.2. Weekend or Weekday</a>\n",
    "            - <a href=\"#month_of_year\">1.4.2.3. Month of the Year</a>\n",
    "            - <a href=\"#time_of_day\">1.4.2.4. Time of Day</a>\n",
    "            - <a href=\"#amount\">1.4.2.5. Transaction Amount</a>\n",
    "            - <a href=\"#category\">1.4.2.6. Merchant Category</a>\n",
    "            - <a href=\"#distance\">1.4.2.7. Distance to Merchant</a>\n",
    "    - <a href=\"#features\">1.5. Feature Engineering</a>\n",
    "        - <a href=\"#build_features\">1.5.1. Build the feature set</a>\n",
    "        - <a href=\"#split_set\">1.5.2. Split Train and Test sets</a>\n",
    "        - <a href=\"#rebalance\">1.5.3. Rebalance Classes</a>\n",
    "        - <a href=\"#eval_helper\">1.5.4. Model Evaluation helper</a>\n",
    "    - <a href=\"#model_selection\">1.6. Model Selection</a>\n",
    "        - <a href=\"#lr\">1.6.1. Logistic Regression Model</a>\n",
    "        - <a href=\"#dt\">1.6.2. Decision Tree Classifier Model</a>\n",
    "        - <a href=\"#rf\">1.6.3. Random Forest Classifier</a>\n",
    "        - <a href=\"#gbt\">1.6.4. Gradient Boosted Trees</a>\n",
    "    - <a href=\"#df_training\">1.7. Running Training on OCI DataFlow</a>\n",
    "        - <a href=\"#training_script\">1.7.1. DataFlow Training Application script</a>\n",
    "        - <a href=\"#test_training\">1.7.2. Test the DataFlow Application script locally</a>\n",
    "        - <a href=\"#training_app\">1.7.3. Create the DataFlow Application</a>\n",
    "        - <a href=\"#training_run\">1.7.4. Create a DataFlow Training Run</a>\n",
    "        - <a href=\"#edit_script\">1.7.5. Editing DataFlow applications</a>\n",
    "    - <a href=\"#df_scoring\">1.8. Create a Batch Scoring Application</a>\n",
    "        - <a href=\"#scoring_script\">1.8.1. DataFlow Batch Scoring Application script</a>\n",
    "        - <a href=\"#scoring_run\">1.8.2. Create a DataFlow Run for scoring</a>\n",
    "    - <a href=\"#model_cat\">1.9. Create a Model in Model Catalog</a>\n",
    "        - <a href=\"#artifact\">1.9.1. Prepare the Model Artifact for Model Catalog</a>\n",
    "        - <a href=\"#model_script\">1.9.2. Create the Inference Model script</a>\n",
    "        - <a href=\"#pull_model\">1.9.3. Get the trained model into the model deployment folder</a>\n",
    "        - <a href=\"#save_to_cat\">1.9.4. Save the model into Model Catalog</a>\n",
    "        - <a href=\"#test_model\">1.9.5. Test the model locally</a>\n",
    "    - <a href=\"#md\">1.10. Deploy the model</a>\n",
    "        - <a href=\"#md_create\">1.10.1 Create a Model Deployment and Endpoint</a>\n",
    "        - <a href=\"#test_md\">1.10.2 Test the Model Deployment Endpoint</a>\n",
    "- <a href=\"#reference\">References</a>\n",
    "\n",
    "---\n",
    "\n",
    "**Important:**\n",
    "\n",
    "Placeholder text for required values are surrounded by angle brackets that must be removed when adding the indicated content. For example, when adding a database name to `database_name = \"<database_name>\"` would become `database_name = \"production\"`."
   ]
  },
  {
   "cell_type": "code",
   "execution_count": 23,
   "metadata": {
    "collapsed": true,
    "jupyter": {
     "outputs_hidden": true
    }
   },
   "outputs": [
    {
     "name": "stdout",
     "output_type": "stream",
     "text": [
      "Requirement already satisfied: oracle-ads~=2.6.1 in /home/datascience/conda/pyspark30_p37_cpu_v4/lib/python3.7/site-packages (2.6.1)\n",
      "Requirement already satisfied: psutil>=5.7.2 in /home/datascience/conda/pyspark30_p37_cpu_v4/lib/python3.7/site-packages (from oracle-ads~=2.6.1) (5.9.0)\n",
      "Requirement already satisfied: cerberus>=1.3.4 in /home/datascience/conda/pyspark30_p37_cpu_v4/lib/python3.7/site-packages (from oracle-ads~=2.6.1) (1.3.4)\n",
      "Requirement already satisfied: sqlalchemy>=1.4.1 in /home/datascience/conda/pyspark30_p37_cpu_v4/lib/python3.7/site-packages (from oracle-ads~=2.6.1) (1.4.32)\n",
      "Requirement already satisfied: folium>=0.12.1 in /home/datascience/conda/pyspark30_p37_cpu_v4/lib/python3.7/site-packages (from oracle-ads~=2.6.1) (0.12.1.post1)\n",
      "Requirement already satisfied: protobuf<=3.20 in /home/datascience/conda/pyspark30_p37_cpu_v4/lib/python3.7/site-packages (from oracle-ads~=2.6.1) (3.19.4)\n",
      "Requirement already satisfied: geopandas>=0.9.0 in /home/datascience/conda/pyspark30_p37_cpu_v4/lib/python3.7/site-packages (from oracle-ads~=2.6.1) (0.10.2)\n",
      "Requirement already satisfied: numexpr>=2.7.3 in /home/datascience/conda/pyspark30_p37_cpu_v4/lib/python3.7/site-packages (from oracle-ads~=2.6.1) (2.8.1)\n",
      "Requirement already satisfied: onnxruntime>=1.10.0 in /home/datascience/conda/pyspark30_p37_cpu_v4/lib/python3.7/site-packages (from oracle-ads~=2.6.1) (1.11.1)\n",
      "Requirement already satisfied: htmllistparse>=0.6.0 in /home/datascience/conda/pyspark30_p37_cpu_v4/lib/python3.7/site-packages (from oracle-ads~=2.6.1) (0.6.0)\n",
      "Requirement already satisfied: cloudpickle>=1.6.0 in /home/datascience/conda/pyspark30_p37_cpu_v4/lib/python3.7/site-packages (from oracle-ads~=2.6.1) (2.0.0)\n",
      "Requirement already satisfied: seaborn>=0.11.0 in /home/datascience/conda/pyspark30_p37_cpu_v4/lib/python3.7/site-packages (from oracle-ads~=2.6.1) (0.11.2)\n",
      "Requirement already satisfied: tqdm>=4.59.0 in /home/datascience/conda/pyspark30_p37_cpu_v4/lib/python3.7/site-packages (from oracle-ads~=2.6.1) (4.63.0)\n",
      "Requirement already satisfied: datefinder>=0.7.1 in /home/datascience/conda/pyspark30_p37_cpu_v4/lib/python3.7/site-packages (from oracle-ads~=2.6.1) (0.7.1)\n",
      "Requirement already satisfied: py-cpuinfo>=7.0.0 in /home/datascience/conda/pyspark30_p37_cpu_v4/lib/python3.7/site-packages (from oracle-ads~=2.6.1) (8.0.0)\n",
      "Requirement already satisfied: six>=1.14.0 in /home/datascience/conda/pyspark30_p37_cpu_v4/lib/python3.7/site-packages (from oracle-ads~=2.6.1) (1.16.0)\n",
      "Requirement already satisfied: scipy>=1.5.4 in /home/datascience/conda/pyspark30_p37_cpu_v4/lib/python3.7/site-packages (from oracle-ads~=2.6.1) (1.7.3)\n",
      "Requirement already satisfied: graphviz<0.17 in /home/datascience/conda/pyspark30_p37_cpu_v4/lib/python3.7/site-packages (from oracle-ads~=2.6.1) (0.16)\n",
      "Requirement already satisfied: ocifs>=0.1.5 in /home/datascience/conda/pyspark30_p37_cpu_v4/lib/python3.7/site-packages (from oracle-ads~=2.6.1) (1.0.1)\n",
      "Requirement already satisfied: bokeh>=2.3.0 in /home/datascience/conda/pyspark30_p37_cpu_v4/lib/python3.7/site-packages (from oracle-ads~=2.6.1) (2.4.2)\n",
      "Requirement already satisfied: matplotlib>=3.1.3 in /home/datascience/conda/pyspark30_p37_cpu_v4/lib/python3.7/site-packages (from oracle-ads~=2.6.1) (3.5.1)\n",
      "Requirement already satisfied: scikit-learn>=0.23.2 in /home/datascience/conda/pyspark30_p37_cpu_v4/lib/python3.7/site-packages (from oracle-ads~=2.6.1) (1.0.2)\n",
      "Requirement already satisfied: asteval>=0.9.25 in /home/datascience/conda/pyspark30_p37_cpu_v4/lib/python3.7/site-packages (from oracle-ads~=2.6.1) (0.9.26)\n",
      "Requirement already satisfied: jinja2>=2.11.2 in /home/datascience/conda/pyspark30_p37_cpu_v4/lib/python3.7/site-packages (from oracle-ads~=2.6.1) (3.0.3)\n",
      "Requirement already satisfied: optuna==2.9.0 in /home/datascience/conda/pyspark30_p37_cpu_v4/lib/python3.7/site-packages (from oracle-ads~=2.6.1) (2.9.0)\n",
      "Requirement already satisfied: fsspec>=0.8.7 in /home/datascience/conda/pyspark30_p37_cpu_v4/lib/python3.7/site-packages (from oracle-ads~=2.6.1) (2022.2.0)\n",
      "Requirement already satisfied: onnxmltools>=1.10.0 in /home/datascience/conda/pyspark30_p37_cpu_v4/lib/python3.7/site-packages (from oracle-ads~=2.6.1) (1.11.1)\n",
      "Requirement already satisfied: oci>=2.59.0 in /home/datascience/conda/pyspark30_p37_cpu_v4/lib/python3.7/site-packages (from oracle-ads~=2.6.1) (2.60.1)\n",
      "Requirement already satisfied: skl2onnx>=1.10.4 in /home/datascience/conda/pyspark30_p37_cpu_v4/lib/python3.7/site-packages (from oracle-ads~=2.6.1) (1.11.2)\n",
      "Requirement already satisfied: ipython<8.0,>=7.23.1 in /home/datascience/conda/pyspark30_p37_cpu_v4/lib/python3.7/site-packages (from oracle-ads~=2.6.1) (7.32.0)\n",
      "Requirement already satisfied: gitpython>=3.1.2 in /home/datascience/conda/pyspark30_p37_cpu_v4/lib/python3.7/site-packages (from oracle-ads~=2.6.1) (3.1.27)\n",
      "Requirement already satisfied: onnx~=1.10.2 in /home/datascience/conda/pyspark30_p37_cpu_v4/lib/python3.7/site-packages (from oracle-ads~=2.6.1) (1.10.2)\n",
      "Requirement already satisfied: tabulate>=0.8.9 in /home/datascience/conda/pyspark30_p37_cpu_v4/lib/python3.7/site-packages (from oracle-ads~=2.6.1) (0.8.9)\n",
      "Requirement already satisfied: numpy>=1.19.2 in /home/datascience/conda/pyspark30_p37_cpu_v4/lib/python3.7/site-packages (from oracle-ads~=2.6.1) (1.21.5)\n",
      "Requirement already satisfied: python-jsonschema-objects>=0.3.13 in /home/datascience/conda/pyspark30_p37_cpu_v4/lib/python3.7/site-packages (from oracle-ads~=2.6.1) (0.4.1)\n",
      "Requirement already satisfied: jsonschema<4.0 in /home/datascience/conda/pyspark30_p37_cpu_v4/lib/python3.7/site-packages (from oracle-ads~=2.6.1) (3.2.0)\n",
      "Requirement already satisfied: pandas<1.4,>1.2.1 in /home/datascience/conda/pyspark30_p37_cpu_v4/lib/python3.7/site-packages (from oracle-ads~=2.6.1) (1.3.5)\n",
      "Requirement already satisfied: colorlog in /home/datascience/conda/pyspark30_p37_cpu_v4/lib/python3.7/site-packages (from optuna==2.9.0->oracle-ads~=2.6.1) (6.6.0)\n",
      "Requirement already satisfied: alembic in /home/datascience/conda/pyspark30_p37_cpu_v4/lib/python3.7/site-packages (from optuna==2.9.0->oracle-ads~=2.6.1) (1.8.0)\n",
      "Requirement already satisfied: cliff in /home/datascience/conda/pyspark30_p37_cpu_v4/lib/python3.7/site-packages (from optuna==2.9.0->oracle-ads~=2.6.1) (3.10.1)\n",
      "Requirement already satisfied: packaging>=20.0 in /home/datascience/conda/pyspark30_p37_cpu_v4/lib/python3.7/site-packages (from optuna==2.9.0->oracle-ads~=2.6.1) (21.3)\n",
      "Requirement already satisfied: PyYAML in /home/datascience/conda/pyspark30_p37_cpu_v4/lib/python3.7/site-packages (from optuna==2.9.0->oracle-ads~=2.6.1) (5.4.1)\n",
      "Requirement already satisfied: cmaes>=0.8.2 in /home/datascience/conda/pyspark30_p37_cpu_v4/lib/python3.7/site-packages (from optuna==2.9.0->oracle-ads~=2.6.1) (0.8.2)\n",
      "Requirement already satisfied: importlib-metadata in /home/datascience/conda/pyspark30_p37_cpu_v4/lib/python3.7/site-packages (from asteval>=0.9.25->oracle-ads~=2.6.1) (4.11.3)\n",
      "Requirement already satisfied: tornado>=5.1 in /home/datascience/conda/pyspark30_p37_cpu_v4/lib/python3.7/site-packages (from bokeh>=2.3.0->oracle-ads~=2.6.1) (6.1)\n",
      "Requirement already satisfied: typing-extensions>=3.10.0 in /home/datascience/conda/pyspark30_p37_cpu_v4/lib/python3.7/site-packages (from bokeh>=2.3.0->oracle-ads~=2.6.1) (4.1.1)\n",
      "Requirement already satisfied: pillow>=7.1.0 in /home/datascience/conda/pyspark30_p37_cpu_v4/lib/python3.7/site-packages (from bokeh>=2.3.0->oracle-ads~=2.6.1) (9.0.1)\n",
      "Requirement already satisfied: setuptools in /home/datascience/conda/pyspark30_p37_cpu_v4/lib/python3.7/site-packages (from cerberus>=1.3.4->oracle-ads~=2.6.1) (59.8.0)\n",
      "Requirement already satisfied: python-dateutil>=2.4.2 in /home/datascience/conda/pyspark30_p37_cpu_v4/lib/python3.7/site-packages (from datefinder>=0.7.1->oracle-ads~=2.6.1) (2.8.2)\n",
      "Requirement already satisfied: regex>=2017.02.08 in /home/datascience/conda/pyspark30_p37_cpu_v4/lib/python3.7/site-packages (from datefinder>=0.7.1->oracle-ads~=2.6.1) (2022.3.15)\n",
      "Requirement already satisfied: pytz in /home/datascience/conda/pyspark30_p37_cpu_v4/lib/python3.7/site-packages (from datefinder>=0.7.1->oracle-ads~=2.6.1) (2021.3)\n",
      "Requirement already satisfied: requests in /home/datascience/conda/pyspark30_p37_cpu_v4/lib/python3.7/site-packages (from folium>=0.12.1->oracle-ads~=2.6.1) (2.27.1)\n",
      "Requirement already satisfied: branca>=0.3.0 in /home/datascience/conda/pyspark30_p37_cpu_v4/lib/python3.7/site-packages (from folium>=0.12.1->oracle-ads~=2.6.1) (0.4.2)\n",
      "Requirement already satisfied: fiona>=1.8 in /home/datascience/conda/pyspark30_p37_cpu_v4/lib/python3.7/site-packages (from geopandas>=0.9.0->oracle-ads~=2.6.1) (1.8.21)\n",
      "Requirement already satisfied: pyproj>=2.2.0 in /home/datascience/conda/pyspark30_p37_cpu_v4/lib/python3.7/site-packages (from geopandas>=0.9.0->oracle-ads~=2.6.1) (3.2.1)\n",
      "Requirement already satisfied: shapely>=1.6 in /home/datascience/conda/pyspark30_p37_cpu_v4/lib/python3.7/site-packages (from geopandas>=0.9.0->oracle-ads~=2.6.1) (1.8.1.post1)\n",
      "Requirement already satisfied: gitdb<5,>=4.0.1 in /home/datascience/conda/pyspark30_p37_cpu_v4/lib/python3.7/site-packages (from gitpython>=3.1.2->oracle-ads~=2.6.1) (4.0.9)\n",
      "Requirement already satisfied: beautifulsoup4 in /home/datascience/conda/pyspark30_p37_cpu_v4/lib/python3.7/site-packages (from htmllistparse>=0.6.0->oracle-ads~=2.6.1) (4.10.0)\n",
      "Requirement already satisfied: fusepy in /home/datascience/conda/pyspark30_p37_cpu_v4/lib/python3.7/site-packages (from htmllistparse>=0.6.0->oracle-ads~=2.6.1) (3.0.1)\n",
      "Requirement already satisfied: html5lib in /home/datascience/conda/pyspark30_p37_cpu_v4/lib/python3.7/site-packages (from htmllistparse>=0.6.0->oracle-ads~=2.6.1) (1.1)\n",
      "Requirement already satisfied: decorator in /home/datascience/conda/pyspark30_p37_cpu_v4/lib/python3.7/site-packages (from ipython<8.0,>=7.23.1->oracle-ads~=2.6.1) (5.1.1)\n",
      "Requirement already satisfied: prompt-toolkit!=3.0.0,!=3.0.1,<3.1.0,>=2.0.0 in /home/datascience/conda/pyspark30_p37_cpu_v4/lib/python3.7/site-packages (from ipython<8.0,>=7.23.1->oracle-ads~=2.6.1) (3.0.27)\n",
      "Requirement already satisfied: backcall in /home/datascience/conda/pyspark30_p37_cpu_v4/lib/python3.7/site-packages (from ipython<8.0,>=7.23.1->oracle-ads~=2.6.1) (0.2.0)\n",
      "Requirement already satisfied: pickleshare in /home/datascience/conda/pyspark30_p37_cpu_v4/lib/python3.7/site-packages (from ipython<8.0,>=7.23.1->oracle-ads~=2.6.1) (0.7.5)\n",
      "Requirement already satisfied: jedi>=0.16 in /home/datascience/conda/pyspark30_p37_cpu_v4/lib/python3.7/site-packages (from ipython<8.0,>=7.23.1->oracle-ads~=2.6.1) (0.18.1)\n",
      "Requirement already satisfied: matplotlib-inline in /home/datascience/conda/pyspark30_p37_cpu_v4/lib/python3.7/site-packages (from ipython<8.0,>=7.23.1->oracle-ads~=2.6.1) (0.1.3)\n",
      "Requirement already satisfied: pexpect>4.3 in /home/datascience/conda/pyspark30_p37_cpu_v4/lib/python3.7/site-packages (from ipython<8.0,>=7.23.1->oracle-ads~=2.6.1) (4.8.0)\n",
      "Requirement already satisfied: pygments in /home/datascience/conda/pyspark30_p37_cpu_v4/lib/python3.7/site-packages (from ipython<8.0,>=7.23.1->oracle-ads~=2.6.1) (2.11.2)\n",
      "Requirement already satisfied: traitlets>=4.2 in /home/datascience/conda/pyspark30_p37_cpu_v4/lib/python3.7/site-packages (from ipython<8.0,>=7.23.1->oracle-ads~=2.6.1) (5.1.1)\n",
      "Requirement already satisfied: MarkupSafe>=2.0 in /home/datascience/conda/pyspark30_p37_cpu_v4/lib/python3.7/site-packages (from jinja2>=2.11.2->oracle-ads~=2.6.1) (2.1.1)\n",
      "Requirement already satisfied: pyrsistent>=0.14.0 in /home/datascience/conda/pyspark30_p37_cpu_v4/lib/python3.7/site-packages (from jsonschema<4.0->oracle-ads~=2.6.1) (0.18.1)\n",
      "Requirement already satisfied: attrs>=17.4.0 in /home/datascience/conda/pyspark30_p37_cpu_v4/lib/python3.7/site-packages (from jsonschema<4.0->oracle-ads~=2.6.1) (21.4.0)\n",
      "Requirement already satisfied: cycler>=0.10 in /home/datascience/conda/pyspark30_p37_cpu_v4/lib/python3.7/site-packages (from matplotlib>=3.1.3->oracle-ads~=2.6.1) (0.11.0)\n",
      "Requirement already satisfied: pyparsing>=2.2.1 in /home/datascience/conda/pyspark30_p37_cpu_v4/lib/python3.7/site-packages (from matplotlib>=3.1.3->oracle-ads~=2.6.1) (3.0.7)\n",
      "Requirement already satisfied: fonttools>=4.22.0 in /home/datascience/conda/pyspark30_p37_cpu_v4/lib/python3.7/site-packages (from matplotlib>=3.1.3->oracle-ads~=2.6.1) (4.30.0)\n",
      "Requirement already satisfied: kiwisolver>=1.0.1 in /home/datascience/conda/pyspark30_p37_cpu_v4/lib/python3.7/site-packages (from matplotlib>=3.1.3->oracle-ads~=2.6.1) (1.4.0)\n",
      "Requirement already satisfied: certifi in /home/datascience/conda/pyspark30_p37_cpu_v4/lib/python3.7/site-packages (from oci>=2.59.0->oracle-ads~=2.6.1) (2021.10.8)\n",
      "Requirement already satisfied: pyOpenSSL<=19.1.0,>=17.5.0 in /home/datascience/conda/pyspark30_p37_cpu_v4/lib/python3.7/site-packages (from oci>=2.59.0->oracle-ads~=2.6.1) (19.1.0)\n",
      "Requirement already satisfied: cryptography<=3.4.7,>=3.2.1 in /home/datascience/conda/pyspark30_p37_cpu_v4/lib/python3.7/site-packages (from oci>=2.59.0->oracle-ads~=2.6.1) (3.4.7)\n",
      "Requirement already satisfied: circuitbreaker<2.0.0,>=1.3.1 in /home/datascience/conda/pyspark30_p37_cpu_v4/lib/python3.7/site-packages (from oci>=2.59.0->oracle-ads~=2.6.1) (1.3.2)\n",
      "Requirement already satisfied: flatbuffers in /home/datascience/conda/pyspark30_p37_cpu_v4/lib/python3.7/site-packages (from onnxruntime>=1.10.0->oracle-ads~=2.6.1) (2.0)\n",
      "Requirement already satisfied: inflection>=0.2 in /home/datascience/conda/pyspark30_p37_cpu_v4/lib/python3.7/site-packages (from python-jsonschema-objects>=0.3.13->oracle-ads~=2.6.1) (0.5.1)\n",
      "Requirement already satisfied: Markdown>=2.4 in /home/datascience/conda/pyspark30_p37_cpu_v4/lib/python3.7/site-packages (from python-jsonschema-objects>=0.3.13->oracle-ads~=2.6.1) (3.3.6)\n",
      "Requirement already satisfied: threadpoolctl>=2.0.0 in /home/datascience/conda/pyspark30_p37_cpu_v4/lib/python3.7/site-packages (from scikit-learn>=0.23.2->oracle-ads~=2.6.1) (3.1.0)\n",
      "Requirement already satisfied: joblib>=0.11 in /home/datascience/conda/pyspark30_p37_cpu_v4/lib/python3.7/site-packages (from scikit-learn>=0.23.2->oracle-ads~=2.6.1) (1.1.0)\n",
      "Requirement already satisfied: onnxconverter-common>=1.7.0 in /home/datascience/conda/pyspark30_p37_cpu_v4/lib/python3.7/site-packages (from skl2onnx>=1.10.4->oracle-ads~=2.6.1) (1.9.0)\n",
      "Requirement already satisfied: greenlet!=0.4.17 in /home/datascience/conda/pyspark30_p37_cpu_v4/lib/python3.7/site-packages (from sqlalchemy>=1.4.1->oracle-ads~=2.6.1) (1.1.2)\n",
      "Requirement already satisfied: cffi>=1.12 in /home/datascience/conda/pyspark30_p37_cpu_v4/lib/python3.7/site-packages (from cryptography<=3.4.7,>=3.2.1->oci>=2.59.0->oracle-ads~=2.6.1) (1.15.0)\n",
      "Requirement already satisfied: click>=4.0 in /home/datascience/conda/pyspark30_p37_cpu_v4/lib/python3.7/site-packages (from fiona>=1.8->geopandas>=0.9.0->oracle-ads~=2.6.1) (7.1.2)\n",
      "Requirement already satisfied: click-plugins>=1.0 in /home/datascience/conda/pyspark30_p37_cpu_v4/lib/python3.7/site-packages (from fiona>=1.8->geopandas>=0.9.0->oracle-ads~=2.6.1) (1.1.1)\n",
      "Requirement already satisfied: munch in /home/datascience/conda/pyspark30_p37_cpu_v4/lib/python3.7/site-packages (from fiona>=1.8->geopandas>=0.9.0->oracle-ads~=2.6.1) (2.5.0)\n",
      "Requirement already satisfied: cligj>=0.5 in /home/datascience/conda/pyspark30_p37_cpu_v4/lib/python3.7/site-packages (from fiona>=1.8->geopandas>=0.9.0->oracle-ads~=2.6.1) (0.7.2)\n",
      "Requirement already satisfied: smmap<6,>=3.0.1 in /home/datascience/conda/pyspark30_p37_cpu_v4/lib/python3.7/site-packages (from gitdb<5,>=4.0.1->gitpython>=3.1.2->oracle-ads~=2.6.1) (5.0.0)\n",
      "Requirement already satisfied: parso<0.9.0,>=0.8.0 in /home/datascience/conda/pyspark30_p37_cpu_v4/lib/python3.7/site-packages (from jedi>=0.16->ipython<8.0,>=7.23.1->oracle-ads~=2.6.1) (0.8.3)\n",
      "Requirement already satisfied: zipp>=0.5 in /home/datascience/conda/pyspark30_p37_cpu_v4/lib/python3.7/site-packages (from importlib-metadata->asteval>=0.9.25->oracle-ads~=2.6.1) (3.7.0)\n",
      "Requirement already satisfied: ptyprocess>=0.5 in /home/datascience/conda/pyspark30_p37_cpu_v4/lib/python3.7/site-packages (from pexpect>4.3->ipython<8.0,>=7.23.1->oracle-ads~=2.6.1) (0.7.0)\n",
      "Requirement already satisfied: wcwidth in /home/datascience/conda/pyspark30_p37_cpu_v4/lib/python3.7/site-packages (from prompt-toolkit!=3.0.0,!=3.0.1,<3.1.0,>=2.0.0->ipython<8.0,>=7.23.1->oracle-ads~=2.6.1) (0.2.5)\n",
      "Requirement already satisfied: importlib-resources in /home/datascience/conda/pyspark30_p37_cpu_v4/lib/python3.7/site-packages (from alembic->optuna==2.9.0->oracle-ads~=2.6.1) (5.4.0)\n",
      "Requirement already satisfied: Mako in /home/datascience/conda/pyspark30_p37_cpu_v4/lib/python3.7/site-packages (from alembic->optuna==2.9.0->oracle-ads~=2.6.1) (1.2.0)\n",
      "Requirement already satisfied: soupsieve>1.2 in /home/datascience/conda/pyspark30_p37_cpu_v4/lib/python3.7/site-packages (from beautifulsoup4->htmllistparse>=0.6.0->oracle-ads~=2.6.1) (2.3.1)\n",
      "Requirement already satisfied: stevedore>=2.0.1 in /home/datascience/conda/pyspark30_p37_cpu_v4/lib/python3.7/site-packages (from cliff->optuna==2.9.0->oracle-ads~=2.6.1) (3.5.0)\n",
      "Requirement already satisfied: autopage>=0.4.0 in /home/datascience/conda/pyspark30_p37_cpu_v4/lib/python3.7/site-packages (from cliff->optuna==2.9.0->oracle-ads~=2.6.1) (0.5.1)\n",
      "Requirement already satisfied: cmd2>=1.0.0 in /home/datascience/conda/pyspark30_p37_cpu_v4/lib/python3.7/site-packages (from cliff->optuna==2.9.0->oracle-ads~=2.6.1) (2.4.1)\n",
      "Requirement already satisfied: PrettyTable>=0.7.2 in /home/datascience/conda/pyspark30_p37_cpu_v4/lib/python3.7/site-packages (from cliff->optuna==2.9.0->oracle-ads~=2.6.1) (3.3.0)\n",
      "Requirement already satisfied: pbr!=2.1.0,>=2.0.0 in /home/datascience/conda/pyspark30_p37_cpu_v4/lib/python3.7/site-packages (from cliff->optuna==2.9.0->oracle-ads~=2.6.1) (5.9.0)\n",
      "Requirement already satisfied: webencodings in /home/datascience/conda/pyspark30_p37_cpu_v4/lib/python3.7/site-packages (from html5lib->htmllistparse>=0.6.0->oracle-ads~=2.6.1) (0.5.1)\n",
      "Requirement already satisfied: urllib3<1.27,>=1.21.1 in /home/datascience/conda/pyspark30_p37_cpu_v4/lib/python3.7/site-packages (from requests->folium>=0.12.1->oracle-ads~=2.6.1) (1.26.8)\n",
      "Requirement already satisfied: idna<4,>=2.5 in /home/datascience/conda/pyspark30_p37_cpu_v4/lib/python3.7/site-packages (from requests->folium>=0.12.1->oracle-ads~=2.6.1) (3.3)\n",
      "Requirement already satisfied: charset-normalizer~=2.0.0 in /home/datascience/conda/pyspark30_p37_cpu_v4/lib/python3.7/site-packages (from requests->folium>=0.12.1->oracle-ads~=2.6.1) (2.0.12)\n",
      "Requirement already satisfied: pycparser in /home/datascience/conda/pyspark30_p37_cpu_v4/lib/python3.7/site-packages (from cffi>=1.12->cryptography<=3.4.7,>=3.2.1->oci>=2.59.0->oracle-ads~=2.6.1) (2.21)\n",
      "Requirement already satisfied: pyperclip>=1.6 in /home/datascience/conda/pyspark30_p37_cpu_v4/lib/python3.7/site-packages (from cmd2>=1.0.0->cliff->optuna==2.9.0->oracle-ads~=2.6.1) (1.8.2)\n"
     ]
    }
   ],
   "source": [
    "# make sure we have ads 2.6.1\n",
    "!pip install -U oracle-ads~=2.6.1"
   ]
  },
  {
   "cell_type": "code",
   "execution_count": 1,
   "metadata": {},
   "outputs": [
    {
     "data": {
      "text/plain": [
       "datetime.datetime(2022, 6, 16, 2, 20, 21, 494611)"
      ]
     },
     "execution_count": 1,
     "metadata": {},
     "output_type": "execute_result"
    }
   ],
   "source": [
    "from datetime import datetime\n",
    "datetime.now()"
   ]
  },
  {
   "cell_type": "code",
   "execution_count": 24,
   "metadata": {},
   "outputs": [],
   "source": [
    "import ads\n",
    "import json\n",
    "import matplotlib.pyplot as plt\n",
    "import numpy as np\n",
    "import oci\n",
    "import ocifs\n",
    "import os\n",
    "import pandas as pd\n",
    "import pyspark\n",
    "import re\n",
    "import requests\n",
    "import sys\n",
    "\n",
    "from ads.catalog.model import ModelCatalog\n",
    "from ads.common.model_artifact import ModelArtifact\n",
    "from ads.common.model_export_util import prepare_generic_model\n",
    "from ads.dataflow.dataflow import DataFlow\n",
    "from ads.model.deployment import ModelDeployer\n",
    "\n",
    "from datetime import datetime\n",
    "from glob import glob\n",
    "\n",
    "from pyspark import SparkContext\n",
    "from pyspark.conf import SparkConf\n",
    "from pyspark.ml import Pipeline, PipelineModel\n",
    "from pyspark.ml.classification import DecisionTreeClassifier\n",
    "from pyspark.ml.classification import LogisticRegression\n",
    "from pyspark.ml.classification import GBTClassifier\n",
    "from pyspark.ml.classification import RandomForestClassifier\n",
    "from pyspark.ml.evaluation import BinaryClassificationEvaluator\n",
    "from pyspark.ml.feature import StringIndexer, OneHotEncoder, VectorAssembler\n",
    "from pyspark.ml.functions import vector_to_array\n",
    "\n",
    "from sklearn.metrics import auc, roc_curve, roc_auc_score\n",
    "from sklearn.metrics import confusion_matrix\n",
    "from sklearn.metrics import RocCurveDisplay\n",
    "from sklearn.metrics import ConfusionMatrixDisplay\n",
    "from sklearn.metrics import precision_recall_curve\n",
    "from sklearn.metrics import PrecisionRecallDisplay\n",
    "\n",
    "from pyspark.sql.functions import *\n",
    "from pyspark.sql import SparkSession\n",
    "from pyspark.sql.types import FloatType\n"
   ]
  },
  {
   "cell_type": "markdown",
   "metadata": {},
   "source": [
    "<a id='use_case'></a>\n",
    "# 1. Fraud Detection Use Case\n",
    "\n",
    "In this notebook, we'll first demonstrate how to export data generated locally to object storage. \n",
    "\n",
    "We'll then explore a sub-sample of a large dataset and engineer features to be used to train a model using PySpark in the DataScience Notebook. \n",
    "\n",
    "We'll then train different models from the Spark MLLib library to select the best performing model. To do this, we'll train the model on the smaller dataset. \n",
    "\n",
    "Once features are defined and a model is selected, we'll use the code to create a DataFlow Application, and run it on our large dataset from the Data Science Notebook.\n",
    "\n",
    "\n"
   ]
  },
  {
   "cell_type": "markdown",
   "metadata": {},
   "source": [
    "<a id=\"utilities\"></a>\n",
    "## 1.1. Utility Functions\n",
    "\n",
    "In this section, we'll define a utility function to get a Spark session. The way to obtain the Spark session depends on whether the code runs locally, in a Data Science Notebook or DataFlow."
   ]
  },
  {
   "cell_type": "code",
   "execution_count": 3,
   "metadata": {},
   "outputs": [],
   "source": [
    "def is_in_oci():\n",
    "    return os.environ.get(\"HOME\") == \"/home/dataflow\" or os.environ.get(\"HOME\") == \"/home/datascience\"\n",
    "\n",
    "def get_spark_session(\n",
    "        app_name, \n",
    "        file_location=None, \n",
    "        profile_name=None, \n",
    "        spark_config={}\n",
    "    ):\n",
    "    \"\"\"\n",
    "    Get a Spark session in a way that supports running locally or in Data Flow.\n",
    "    \"\"\"\n",
    "    \n",
    "    # If we are in DataFlow or DataScience, we assume the instance uses Instance Principal \n",
    "    # for authorization, and we can create a Spark Session Builder without config\n",
    "    if is_in_oci():\n",
    "        spark_builder = SparkSession.builder.appName(app_name)\n",
    "        \n",
    "    # If we run on a local machine, we need to provide authentication from the OCI config\n",
    "    else:\n",
    "        # Import OCI.\n",
    "        try:\n",
    "            import oci\n",
    "        except:\n",
    "            raise Exception(\n",
    "                \"You need to install the OCI python library to test locally\"\n",
    "            )\n",
    "        # Use defaults for anything unset.\n",
    "        if file_location is None:\n",
    "            file_location = oci.config.DEFAULT_LOCATION\n",
    "        if profile_name is None:\n",
    "            profile_name = oci.config.DEFAULT_PROFILE\n",
    "\n",
    "        # Load the config file.\n",
    "        try:\n",
    "            oci_config = oci.config.from_file(\n",
    "                file_location=file_location, profile_name=profile_name\n",
    "            )\n",
    "        except Exception as e:\n",
    "            print(\"You need to set up your OCI config properly to run locally\")\n",
    "            raise e\n",
    "        conf = SparkConf()\n",
    "        conf.set(\"fs.oci.client.auth.tenantId\", oci_config[\"tenancy\"])\n",
    "        conf.set(\"fs.oci.client.auth.userId\", oci_config[\"user\"])\n",
    "        conf.set(\"fs.oci.client.auth.fingerprint\", oci_config[\"fingerprint\"])\n",
    "        conf.set(\"fs.oci.client.auth.pemfilepath\", oci_config[\"key_file\"])\n",
    "        conf.set(\n",
    "            \"fs.oci.client.hostname\",\n",
    "            \"https://objectstorage.\\{0\\}.oraclecloud.com\".format(oci_config[\"region\"]),\n",
    "        )\n",
    "        spark_builder = SparkSession.builder.appName(app_name).config(conf=conf)\n",
    "\n",
    "    # Add in extra configuration.\n",
    "    for key, val in spark_config.items():\n",
    "        spark_builder.config(key, val)\n",
    "\n",
    "    # Create the Spark session.\n",
    "    session = spark_builder.getOrCreate()\n",
    "    return session\n",
    "        "
   ]
  },
  {
   "cell_type": "markdown",
   "metadata": {},
   "source": [
    "Configure resource principal for the local Spark context. This allow access to things like Object Storage seamlessly."
   ]
  },
  {
   "cell_type": "code",
   "execution_count": 4,
   "metadata": {},
   "outputs": [
    {
     "name": "stdout",
     "output_type": "stream",
     "text": [
      "The core-site.xml is being written to /home/datascience/spark_conf_dir/core-site.xml\n"
     ]
    }
   ],
   "source": [
    "!odsc core-site config -o -a resource_principal"
   ]
  },
  {
   "cell_type": "markdown",
   "metadata": {},
   "source": [
    "<a id=\"dataset\"></a>\n",
    "## 1.2. Generate the Dataset\n",
    "\n",
    "In this section, we'll go over how to generate a synthetic credit card transaction dataset, using the project at [https://github.com/namebrandon/Sparkov_Data_Generation](https://github.com/namebrandon/Sparkov_Data_Generation)\n",
    "\n",
    "Proceed as follows:\n",
    "\n",
    "- If you are running this in a DataScience environment, go to the Launcher and open a Terminal window\n",
    "\n",
    "- In the Terminal window, run the following:\n",
    "\n",
    "- Clone the data generation repository:\n",
    "\n",
    "    ```bash\n",
    "    git clone https://github.com/namebrandon/Sparkov_Data_Generation\n",
    "    ```\n",
    "\n",
    "\n",
    "- Get into the Sparkov_Data_Generation folder and install the requirements:\n",
    "\n",
    "    ```bash\n",
    "    cd Sparkov_Data_Generation\n",
    "    pip install -r requirements.txt\n",
    "    ```\n",
    "    \n",
    "\n",
    "- Generate a large training dataset with 10000 customers and transactions over a 1 year period:\n",
    "\n",
    "    ```bash\n",
    "    python datagen.py -n 10000 -o \"data/training set/large\" 01-01-2012 12-31-2012\n",
    "    ```\n",
    "\n",
    "\n",
    "- Generate a medium scoring dataset with 1000 customers and transactions over a 2 year period:\n",
    "\n",
    "    ```bash\n",
    "    python datagen.py -n 1000 -o \"data/scoring set/medium\" 01-01-2012 12-31-2013\n",
    "    ```\n",
    "\n",
    "\n",
    "- To generate a very large training dataset of ~1.5TB, ~5.5B records, to use with the DataFlow application, the following setting were used:\n",
    "\n",
    "    ```bash\n",
    "    python datagen.py -n 250000 -o \"data/training set/xlarge\" 01-01-2000 12-31-2020\n",
    "    ```\n",
    "    This will take ~2h on a 64cores / 128 threads VM and require you have selected at least 2000GB of storage when provisioning the notebook session.\n",
    "\n"
   ]
  },
  {
   "cell_type": "code",
   "execution_count": 5,
   "metadata": {},
   "outputs": [],
   "source": [
    "# Edit the location of the data folder according to where you saved the data\n",
    "data_folder = '/home/datascience/workspace/data/Sparkov_Data_Generation/data/'\n",
    "# the file pattern insures we do not pick up the 'customers.csv' file \n",
    "# while picking up all the *male*.csv and *female*.csv files\n",
    "file_pattern = 'training set/medium/*male*.csv'\n",
    "# file_pattern = 'training set/large/*male*.csv'"
   ]
  },
  {
   "cell_type": "markdown",
   "metadata": {},
   "source": [
    "<a id=\"store_data\"></a>\n",
    "## 1.3. Store Dataset on Object Storage\n",
    "\n",
    "Make sure you have created an object storage bucket in your compartment before running the following cells, and edit the tenancy_name and bucket_name"
   ]
  },
  {
   "cell_type": "code",
   "execution_count": 6,
   "metadata": {},
   "outputs": [],
   "source": [
    "tenancy_namespace = 'bigdatadatasciencelarge'\n",
    "bucket_name = 'fraud-detection-data'\n",
    "\n",
    "def store_on_oss(tenancy_namespace, bucket_name, data_folder, file_pattern):\n",
    "    if is_in_oci():\n",
    "        signer = oci.auth.signers.get_resource_principals_signer()\n",
    "        object_storage_client = oci.object_storage.ObjectStorageClient(config={}, signer=signer)\n",
    "    else:\n",
    "        config = oci.config.from_file()\n",
    "        object_storage_client = oci.object_storage.ObjectStorageClient(config)\n",
    "\n",
    "    files = glob(data_folder + file_pattern)\n",
    "    file_count = len(files)\n",
    "    for i, file in enumerate(files):\n",
    "        print(f'{i + 1}/{file_count} copy: {file}')\n",
    "        filename = file.replace(data_folder, '')\n",
    "        print(f'{i + 1}/{file_count} to: {bucket_name}@{tenancy_namespace}/{filename}')\n",
    "        with open(file, 'r') as f:\n",
    "            put_object_response = object_storage_client.put_object(\n",
    "                namespace_name=tenancy_namespace,\n",
    "                bucket_name=bucket_name,\n",
    "                object_name=filename,\n",
    "                put_object_body=f\n",
    "            )\n",
    "        # sign in every so often because the auth has a timeout\n",
    "        if i == 100:\n",
    "            signer = oci.auth.signers.get_resource_principals_signer()\n",
    "            object_storage_client = oci.object_storage.ObjectStorageClient(config={}, signer=signer)"
   ]
  },
  {
   "cell_type": "code",
   "execution_count": 7,
   "metadata": {},
   "outputs": [],
   "source": [
    "# store_on_oss(tenancy_namespace, bucket_name, data_folder, file_pattern)"
   ]
  },
  {
   "cell_type": "markdown",
   "metadata": {},
   "source": [
    "<a id=\"explore\"></a>\n",
    "## 1.4. Exploring the Dataset\n",
    "\n",
    "We'll start by loading our large dataset, and sample a subset for exploration."
   ]
  },
  {
   "cell_type": "code",
   "execution_count": 8,
   "metadata": {},
   "outputs": [
    {
     "name": "stderr",
     "output_type": "stream",
     "text": [
      "Using Spark's default log4j profile: org/apache/spark/log4j-defaults.properties\n",
      "Setting default log level to \"WARN\".\n",
      "To adjust logging level use sc.setLogLevel(newLevel). For SparkR, use setLogLevel(newLevel).\n"
     ]
    }
   ],
   "source": [
    "sc = get_spark_session(app_name=\"CC_Fraud_Detection\")"
   ]
  },
  {
   "cell_type": "code",
   "execution_count": 9,
   "metadata": {},
   "outputs": [
    {
     "name": "stderr",
     "output_type": "stream",
     "text": [
      "                                                                                \r"
     ]
    }
   ],
   "source": [
    "sc.conf.set(\"spark.sql.legacy.timeParserPolicy\", \"LEGACY\")\n",
    "cc_df = sc.read.option(\"delimiter\", \"|\").csv(data_folder + file_pattern, header=True, inferSchema=True)\n"
   ]
  },
  {
   "cell_type": "markdown",
   "metadata": {},
   "source": [
    "Let's have a look at the schema"
   ]
  },
  {
   "cell_type": "code",
   "execution_count": 10,
   "metadata": {},
   "outputs": [
    {
     "name": "stdout",
     "output_type": "stream",
     "text": [
      "root\n",
      " |-- ssn: string (nullable = true)\n",
      " |-- cc_num: long (nullable = true)\n",
      " |-- first: string (nullable = true)\n",
      " |-- last: string (nullable = true)\n",
      " |-- gender: string (nullable = true)\n",
      " |-- street: string (nullable = true)\n",
      " |-- city: string (nullable = true)\n",
      " |-- state: string (nullable = true)\n",
      " |-- zip: integer (nullable = true)\n",
      " |-- lat: double (nullable = true)\n",
      " |-- long: double (nullable = true)\n",
      " |-- city_pop: integer (nullable = true)\n",
      " |-- job: string (nullable = true)\n",
      " |-- dob: string (nullable = true)\n",
      " |-- acct_num: long (nullable = true)\n",
      " |-- profile: string (nullable = true)\n",
      " |-- trans_num: string (nullable = true)\n",
      " |-- trans_date: string (nullable = true)\n",
      " |-- trans_time: string (nullable = true)\n",
      " |-- unix_time: integer (nullable = true)\n",
      " |-- category: string (nullable = true)\n",
      " |-- amt: double (nullable = true)\n",
      " |-- is_fraud: integer (nullable = true)\n",
      " |-- merchant: string (nullable = true)\n",
      " |-- merch_lat: double (nullable = true)\n",
      " |-- merch_long: double (nullable = true)\n",
      "\n"
     ]
    }
   ],
   "source": [
    "cc_df.printSchema()"
   ]
  },
  {
   "cell_type": "markdown",
   "metadata": {},
   "source": [
    "and the distribution of the data"
   ]
  },
  {
   "cell_type": "code",
   "execution_count": 11,
   "metadata": {},
   "outputs": [
    {
     "name": "stderr",
     "output_type": "stream",
     "text": [
      "22/06/15 18:48:20 WARN package: Truncated the string representation of a plan since it was too large. This behavior can be adjusted by setting 'spark.sql.debug.maxToStringFields'.\n"
     ]
    },
    {
     "data": {
      "text/plain": [
       "1633210"
      ]
     },
     "execution_count": 11,
     "metadata": {},
     "output_type": "execute_result"
    }
   ],
   "source": [
    "cc_df.count()"
   ]
  },
  {
   "cell_type": "code",
   "execution_count": 12,
   "metadata": {},
   "outputs": [
    {
     "name": "stderr",
     "output_type": "stream",
     "text": [
      "                                                                                \r"
     ]
    },
    {
     "name": "stdout",
     "output_type": "stream",
     "text": [
      "+--------+-------+\n",
      "|is_fraud|  count|\n",
      "+--------+-------+\n",
      "|       1|   9357|\n",
      "|       0|1623853|\n",
      "+--------+-------+\n",
      "\n"
     ]
    }
   ],
   "source": [
    "cc_df.groupBy('is_fraud').count().show(2)"
   ]
  },
  {
   "cell_type": "code",
   "execution_count": 13,
   "metadata": {},
   "outputs": [],
   "source": [
    "cc_df_sample = cc_df.sample(False, 0.05)"
   ]
  },
  {
   "cell_type": "code",
   "execution_count": 14,
   "metadata": {},
   "outputs": [
    {
     "data": {
      "text/plain": [
       "81466"
      ]
     },
     "execution_count": 14,
     "metadata": {},
     "output_type": "execute_result"
    }
   ],
   "source": [
    "cc_df_sample.count()"
   ]
  },
  {
   "cell_type": "code",
   "execution_count": 15,
   "metadata": {},
   "outputs": [
    {
     "name": "stdout",
     "output_type": "stream",
     "text": [
      "+--------+-----+\n",
      "|is_fraud|count|\n",
      "+--------+-----+\n",
      "|       1|  478|\n",
      "|       0|80988|\n",
      "+--------+-----+\n",
      "\n"
     ]
    }
   ],
   "source": [
    "cc_df_sample.groupBy('is_fraud').count().show(2)"
   ]
  },
  {
   "cell_type": "markdown",
   "metadata": {},
   "source": [
    "Here we see that we have a similar distribution of fraudulent transactions in both the sample and the full dataset, so we can use our sample as a representative dataset."
   ]
  },
  {
   "cell_type": "markdown",
   "metadata": {},
   "source": [
    "<a id=\"customer_info\"></a>\n",
    "### 1.4.1. Customer Information\n",
    "\n",
    "The first 16 columns correspond to the customer profile:\n",
    "- ssn: string (nullable = true)\n",
    "- cc_num: long (nullable = true)\n",
    "- first: string (nullable = true)\n",
    "- last: string (nullable = true)\n",
    "- gender: string (nullable = true)\n",
    "- street: string (nullable = true)\n",
    "- city: string (nullable = true)\n",
    "- state: string (nullable = true)\n",
    "- zip: integer (nullable = true)\n",
    "- lat: double (nullable = true)\n",
    "- long: double (nullable = true)\n",
    "- city_pop: integer (nullable = true)\n",
    "- job: string (nullable = true)\n",
    "- dob: string (nullable = true)\n",
    "- acct_num: long (nullable = true)\n",
    "- profile: string (nullable = true)"
   ]
  },
  {
   "cell_type": "markdown",
   "metadata": {},
   "source": [
    "Looking at how the data is generated, we can see that any customer may have fraudulent transactions, so that `ssn`, `acct_num`, `name` or `job` may not be relevant.\n",
    "\n",
    "Each customer has a specific profile, which determine the type, amount and frequency of transactions. The profiles consider `gender`, `age` and type of city (urban or rural), so gender, age and city information are relevant columns.\n",
    "\n",
    "In each profile, there is also a flag determining if the customer travels or not. Note that at the time of writing (v1.0) the generator code does not take this flag into account)\n",
    "\n",
    "Since most machine learning models expect numeric values as input, and we have many string values columns, we will need to encode those.\n",
    "\n",
    "- `gender` is `male` or `female` so it can essily be 1-hot encoded.\n",
    "- `street`, `city`, `state` are difficult to 1-hot encode as this assumes a fixed set of categories. `zip` actually encodes these values fairly accurately so we could use that alone, \n",
    "however despites being an integer, it is technically categorical data, not numeric.\n",
    "- `long`, `lat` pair of values is actually a better representation of the city location and potential area for fraud. Distance to the merchant is the actual metric of interest in this model.\n",
    "- `dob` (date of birth) is useful information, but customer profiles actually use `age`, so we'll compute `age` from `dob`.\n",
    "- `city_pop` defines whether a city is urban or rural, which is part of the profiles.\n",
    "\n",
    "In conclusion, we should:\n",
    "\n",
    "- keep and 1-hot encode `gender`\n",
    "- use `long` and `lat` to compute distance to the merchant\n",
    "- use `city_pop` to represent city area\n",
    "- drop the rest that is not relevant to this dataset\n",
    "    \n",
    "Note: in a real-life fraud detection dataset, job, ssn or account numbers may be relevant. They just happen to be random and not used to determine fraud in this dataset.\n",
    "    \n"
   ]
  },
  {
   "cell_type": "markdown",
   "metadata": {},
   "source": [
    "<a id=\"age\"></a>\n",
    "#### 1.4.1.1. Customer Age\n",
    "\n",
    "Let's have a look at the customer attributes, starting with age:"
   ]
  },
  {
   "cell_type": "code",
   "execution_count": 16,
   "metadata": {},
   "outputs": [
    {
     "name": "stderr",
     "output_type": "stream",
     "text": [
      "                                                                                \r"
     ]
    },
    {
     "data": {
      "text/plain": [
       "<AxesSubplot:ylabel='Frequency'>"
      ]
     },
     "execution_count": 16,
     "metadata": {},
     "output_type": "execute_result"
    },
    {
     "data": {
      "image/png": "[encoded data removed]",
      "text/plain": [
       "<Figure size 432x288 with 1 Axes>"
      ]
     },
     "metadata": {
      "needs_background": "light"
     },
     "output_type": "display_data"
    },
    {
     "data": {
      "image/png": "[encoded data removed]",
      "text/plain": [
       "<Figure size 432x288 with 1 Axes>"
      ]
     },
     "metadata": {
      "needs_background": "light"
     },
     "output_type": "display_data"
    }
   ],
   "source": [
    "cc_df_sample.filter(col('is_fraud') == 1)\\\n",
    "    .withColumn('age',floor(datediff(col('trans_date'), to_date(col('dob'), 'yyyy-mm-dd'))/365.25))\\\n",
    "    .select('age')\\\n",
    "    .toPandas().plot.hist(by='age', bins=100)    \n",
    "\n",
    "cc_df_sample.filter(col('is_fraud') == 0)\\\n",
    "    .withColumn('age',floor(datediff(col('trans_date'), to_date(col('dob'), 'yyyy-mm-dd'))/365.25))\\\n",
    "    .select('age')\\\n",
    "    .toPandas().plot.hist(by='age', bins=100)    \n"
   ]
  },
  {
   "cell_type": "markdown",
   "metadata": {},
   "source": [
    "<a id=\"gender\"></a>\n",
    "#### 1.4.1.2. Customer Gender\n"
   ]
  },
  {
   "cell_type": "code",
   "execution_count": 17,
   "metadata": {},
   "outputs": [
    {
     "name": "stderr",
     "output_type": "stream",
     "text": [
      "                                                                                \r"
     ]
    },
    {
     "data": {
      "text/plain": [
       "<AxesSubplot:title={'center':'legitimate'}, ylabel='count'>"
      ]
     },
     "execution_count": 17,
     "metadata": {},
     "output_type": "execute_result"
    },
    {
     "data": {
      "image/png": "[encoded data removed]",
      "text/plain": [
       "<Figure size 432x288 with 1 Axes>"
      ]
     },
     "metadata": {},
     "output_type": "display_data"
    },
    {
     "data": {
      "image/png": "[encoded data removed]",
      "text/plain": [
       "<Figure size 432x288 with 1 Axes>"
      ]
     },
     "metadata": {},
     "output_type": "display_data"
    }
   ],
   "source": [
    "cc_df_sample.filter(col('is_fraud') == 1)\\\n",
    "    .withColumn('gender',when((col('gender') == 'M'),1).when((col('gender') == 'F'),0).otherwise(-1))\\\n",
    "    .select('gender')\\\n",
    "    .groupBy('gender')\\\n",
    "    .count()\\\n",
    "    .toPandas()[['gender', 'count']].plot.pie(y='count', title='fraud')\n",
    "\n",
    "cc_df_sample.filter(col('is_fraud') == 0)\\\n",
    "    .withColumn('gender',when((col('gender') == 'M'),1).when((col('gender') == 'F'),0).otherwise(-1))\\\n",
    "    .select('gender')\\\n",
    "    .groupBy('gender')\\\n",
    "    .count()\\\n",
    "    .toPandas()[['gender', 'count']].plot.pie(y='count', title='legitimate')"
   ]
  },
  {
   "cell_type": "markdown",
   "metadata": {},
   "source": [
    "<a id=\"city_population\"></a>\n",
    "#### 1.4.1.3. Customer City Population\n"
   ]
  },
  {
   "cell_type": "code",
   "execution_count": 18,
   "metadata": {},
   "outputs": [
    {
     "data": {
      "text/plain": [
       "<AxesSubplot:ylabel='Frequency'>"
      ]
     },
     "execution_count": 18,
     "metadata": {},
     "output_type": "execute_result"
    },
    {
     "data": {
      "image/png": "[encoded data removed]",
      "text/plain": [
       "<Figure size 432x288 with 1 Axes>"
      ]
     },
     "metadata": {
      "needs_background": "light"
     },
     "output_type": "display_data"
    },
    {
     "data": {
      "image/png": "[encoded data removed]",
      "text/plain": [
       "<Figure size 432x288 with 1 Axes>"
      ]
     },
     "metadata": {
      "needs_background": "light"
     },
     "output_type": "display_data"
    }
   ],
   "source": [
    "cc_df_sample.filter(col('is_fraud') == 1)\\\n",
    "    .select('city_pop')\\\n",
    "    .toPandas().plot.hist(by='city_pop', bins=100)\n",
    "\n",
    "cc_df_sample.filter(col('is_fraud') == 0)\\\n",
    "    .select('city_pop')\\\n",
    "    .toPandas().plot.hist(by='city_pop', bins=100)"
   ]
  },
  {
   "cell_type": "markdown",
   "metadata": {},
   "source": [
    "<a id=\"transaction_info\"></a>\n",
    "### 1.4.2. Transaction Information\n",
    "\n",
    "The next 10 columns is the transaction information with the label `is_fraud`:\n",
    "- trans_num: string (nullable = true)\n",
    "- trans_date: string (nullable = true)\n",
    "- trans_time: string (nullable = true)\n",
    "- unix_time: integer (nullable = true)\n",
    "- category: string (nullable = true)\n",
    "- amt: double (nullable = true)\n",
    "- is_fraud: integer (nullable = true)\n",
    "- merchant: string (nullable = true)\n",
    "- merch_lat: double (nullable = true)\n",
    "- merch_long: double (nullable = true)"
   ]
  },
  {
   "cell_type": "markdown",
   "metadata": {},
   "source": [
    "Let's have a look at the transaction columns to see what may be relevant:\n",
    "\n"
   ]
  },
  {
   "cell_type": "markdown",
   "metadata": {},
   "source": [
    "<a id=\"day_of_week\"></a>\n",
    "#### 1.4.2.1. Day of Week\n",
    "\n",
    "First, let's look for patterns of fraudulent transactions vs. legitimate ones in the transaction date"
   ]
  },
  {
   "cell_type": "code",
   "execution_count": 19,
   "metadata": {},
   "outputs": [
    {
     "name": "stderr",
     "output_type": "stream",
     "text": [
      "                                                                                \r"
     ]
    },
    {
     "data": {
      "text/plain": [
       "<AxesSubplot:title={'center':'legitimate'}, xlabel='day_of_week'>"
      ]
     },
     "execution_count": 19,
     "metadata": {},
     "output_type": "execute_result"
    },
    {
     "data": {
      "image/png": "[encoded data removed]",
      "text/plain": [
       "<Figure size 432x288 with 1 Axes>"
      ]
     },
     "metadata": {
      "needs_background": "light"
     },
     "output_type": "display_data"
    },
    {
     "data": {
      "image/png": "[encoded data removed]",
      "text/plain": [
       "<Figure size 432x288 with 1 Axes>"
      ]
     },
     "metadata": {
      "needs_background": "light"
     },
     "output_type": "display_data"
    }
   ],
   "source": [
    "cc_df_sample.filter(col('is_fraud') == 1)\\\n",
    "    .withColumn('day_of_week', dayofweek(col('trans_date')))\\\n",
    "    .select('day_of_week')\\\n",
    "    .groupBy('day_of_week')\\\n",
    "    .count()\\\n",
    "    .sort('day_of_week')\\\n",
    "    .toPandas().plot.bar(y='count', x='day_of_week', title='fraud')\n",
    "\n",
    "cc_df_sample.filter(col('is_fraud') == 0)\\\n",
    "    .withColumn('day_of_week', dayofweek(col('trans_date')))\\\n",
    "    .select('day_of_week')\\\n",
    "    .groupBy('day_of_week')\\\n",
    "    .count()\\\n",
    "    .sort('day_of_week')\\\n",
    "    .toPandas().plot.bar(y='count', x='day_of_week', title='legitimate')\n"
   ]
  },
  {
   "cell_type": "markdown",
   "metadata": {},
   "source": [
    "Day of the week seem to have some relevance although it may just be our sample."
   ]
  },
  {
   "cell_type": "markdown",
   "metadata": {},
   "source": [
    "<a id=\"weekend\"></a>\n",
    "#### 1.4.2.2. Weekend or Weekday\n",
    "\n",
    "Let's now look if fraud is more prevalent on weekend or weekdays"
   ]
  },
  {
   "cell_type": "code",
   "execution_count": 20,
   "metadata": {},
   "outputs": [
    {
     "name": "stderr",
     "output_type": "stream",
     "text": [
      "                                                                                \r"
     ]
    },
    {
     "data": {
      "text/plain": [
       "<AxesSubplot:title={'center':'legitimate'}, ylabel='count'>"
      ]
     },
     "execution_count": 20,
     "metadata": {},
     "output_type": "execute_result"
    },
    {
     "data": {
      "image/png": "[encoded data removed]",
      "text/plain": [
       "<Figure size 432x288 with 1 Axes>"
      ]
     },
     "metadata": {},
     "output_type": "display_data"
    },
    {
     "data": {
      "image/png": "[encoded data removed]",
      "text/plain": [
       "<Figure size 432x288 with 1 Axes>"
      ]
     },
     "metadata": {},
     "output_type": "display_data"
    }
   ],
   "source": [
    "cc_df_sample.filter(col('is_fraud') == 1)\\\n",
    "    .withColumn('is_weekend', dayofweek(col(\"trans_date\")).isin([1,7]).cast(\"int\"))\\\n",
    "    .select('is_weekend')\\\n",
    "    .groupBy('is_weekend')\\\n",
    "    .count()\\\n",
    "    .toPandas()[['is_weekend', 'count']].plot.pie(y='count', title='fraud')\n",
    "cc_df_sample.filter(col('is_fraud') == 0)\\\n",
    "    .withColumn('is_weekend', dayofweek(col(\"trans_date\")).isin([1,7]).cast(\"int\"))\\\n",
    "    .select('is_weekend')\\\n",
    "    .groupBy('is_weekend')\\\n",
    "    .count()\\\n",
    "    .toPandas()[['is_weekend', 'count']].plot.pie(y='count', title='legitimate')"
   ]
  },
  {
   "cell_type": "markdown",
   "metadata": {},
   "source": [
    "<a id=\"month_of_year\"></a>\n",
    "#### 1.4.2.3. Month of the Year\n",
    "\n",
    "Let's now look at the month of the year"
   ]
  },
  {
   "cell_type": "code",
   "execution_count": 21,
   "metadata": {},
   "outputs": [
    {
     "data": {
      "text/plain": [
       "<AxesSubplot:title={'center':'legitimate'}, xlabel='month_of_year'>"
      ]
     },
     "execution_count": 21,
     "metadata": {},
     "output_type": "execute_result"
    },
    {
     "data": {
      "image/png": "[encoded data removed]",
      "text/plain": [
       "<Figure size 432x288 with 1 Axes>"
      ]
     },
     "metadata": {
      "needs_background": "light"
     },
     "output_type": "display_data"
    },
    {
     "data": {
      "image/png": "[encoded data removed]",
      "text/plain": [
       "<Figure size 432x288 with 1 Axes>"
      ]
     },
     "metadata": {
      "needs_background": "light"
     },
     "output_type": "display_data"
    }
   ],
   "source": [
    "cc_df_sample.filter(col('is_fraud') == 1)\\\n",
    "    .withColumn('month_of_year', month(col('trans_date')))\\\n",
    "    .select('month_of_year')\\\n",
    "    .groupBy('month_of_year')\\\n",
    "    .count()\\\n",
    "    .sort('month_of_year')\\\n",
    "    .toPandas().plot.bar(y='count', x='month_of_year', title='fraud')\n",
    "\n",
    "cc_df_sample.filter(col('is_fraud') == 0)\\\n",
    "    .withColumn('month_of_year', month(col('trans_date')))\\\n",
    "    .select('month_of_year')\\\n",
    "    .groupBy('month_of_year')\\\n",
    "    .count()\\\n",
    "    .sort('month_of_year')\\\n",
    "    .toPandas().plot.bar(y='count', x='month_of_year', title='legitimate')\n"
   ]
  },
  {
   "cell_type": "markdown",
   "metadata": {},
   "source": [
    "We can see some relevance to the month of the year."
   ]
  },
  {
   "cell_type": "markdown",
   "metadata": {},
   "source": [
    "<a id=\"time_of_day\"></a>\n",
    "#### 1.4.2.4. Time of Day\n",
    "\n",
    "Now let's look at the time of day:"
   ]
  },
  {
   "cell_type": "code",
   "execution_count": 22,
   "metadata": {},
   "outputs": [
    {
     "name": "stderr",
     "output_type": "stream",
     "text": [
      "                                                                                \r"
     ]
    },
    {
     "data": {
      "text/plain": [
       "<AxesSubplot:title={'center':'legitimate'}, xlabel='hour_of_day'>"
      ]
     },
     "execution_count": 22,
     "metadata": {},
     "output_type": "execute_result"
    },
    {
     "data": {
      "image/png": "[encoded data removed]",
      "text/plain": [
       "<Figure size 432x288 with 1 Axes>"
      ]
     },
     "metadata": {
      "needs_background": "light"
     },
     "output_type": "display_data"
    },
    {
     "data": {
      "image/png": "[encoded data removed]",
      "text/plain": [
       "<Figure size 432x288 with 1 Axes>"
      ]
     },
     "metadata": {
      "needs_background": "light"
     },
     "output_type": "display_data"
    }
   ],
   "source": [
    "cc_df_sample.filter(col('is_fraud') == 1)\\\n",
    "    .withColumn('hour_of_day', hour(col('trans_time')))\\\n",
    "    .select('hour_of_day')\\\n",
    "    .groupBy('hour_of_day')\\\n",
    "    .count()\\\n",
    "    .sort('hour_of_day')\\\n",
    "    .toPandas().plot.bar(y='count', x='hour_of_day', title='fraud')\n",
    "\n",
    "cc_df_sample.filter(col('is_fraud') == 0)\\\n",
    "    .withColumn('hour_of_day', hour(col('trans_time')))\\\n",
    "    .select('hour_of_day')\\\n",
    "    .groupBy('hour_of_day')\\\n",
    "    .count()\\\n",
    "    .sort('hour_of_day')\\\n",
    "    .toPandas().plot.bar(y='count', x='hour_of_day', title='legitimate')\n"
   ]
  },
  {
   "cell_type": "markdown",
   "metadata": {},
   "source": [
    "<a id=\"amount\"></a>\n",
    "#### 1.4.2.5. Transaction Amount\n",
    "\n",
    "Let's see what other columns may be relevant. Let's look at the amount distribution:"
   ]
  },
  {
   "cell_type": "code",
   "execution_count": 23,
   "metadata": {},
   "outputs": [
    {
     "name": "stderr",
     "output_type": "stream",
     "text": [
      "                                                                                \r"
     ]
    },
    {
     "data": {
      "text/plain": [
       "<AxesSubplot:ylabel='Frequency'>"
      ]
     },
     "execution_count": 23,
     "metadata": {},
     "output_type": "execute_result"
    },
    {
     "data": {
      "image/png": "[encoded data removed]",
      "text/plain": [
       "<Figure size 432x288 with 1 Axes>"
      ]
     },
     "metadata": {
      "needs_background": "light"
     },
     "output_type": "display_data"
    },
    {
     "data": {
      "image/png": "[encoded data removed]",
      "text/plain": [
       "<Figure size 432x288 with 1 Axes>"
      ]
     },
     "metadata": {
      "needs_background": "light"
     },
     "output_type": "display_data"
    }
   ],
   "source": [
    "cc_df_sample.filter(col('is_fraud') == 1)\\\n",
    "    .select('amt')\\\n",
    "    .toPandas().plot.hist(by='amt', bins=30)\n",
    "\n",
    "cc_df_sample.filter(col('is_fraud') == 0)\\\n",
    "    .select('amt')\\\n",
    "    .toPandas().plot.hist(by='amt', bins=30)\n"
   ]
  },
  {
   "cell_type": "markdown",
   "metadata": {},
   "source": [
    "Amount is definitely a factor, so we'll keep this column"
   ]
  },
  {
   "cell_type": "markdown",
   "metadata": {},
   "source": [
    "<a id=\"category\"></a>\n",
    "#### 1.4.2.6. Merchant Category\n",
    "\n",
    "Let's look at the `category` column:"
   ]
  },
  {
   "cell_type": "code",
   "execution_count": 24,
   "metadata": {},
   "outputs": [
    {
     "name": "stderr",
     "output_type": "stream",
     "text": [
      "                                                                                \r"
     ]
    },
    {
     "data": {
      "text/plain": [
       "<AxesSubplot:title={'center':'legitimate'}, xlabel='category'>"
      ]
     },
     "execution_count": 24,
     "metadata": {},
     "output_type": "execute_result"
    },
    {
     "data": {
      "image/png": "[encoded data removed]",
      "text/plain": [
       "<Figure size 432x288 with 1 Axes>"
      ]
     },
     "metadata": {
      "needs_background": "light"
     },
     "output_type": "display_data"
    },
    {
     "data": {
      "image/png": "[encoded data removed]",
      "text/plain": [
       "<Figure size 432x288 with 1 Axes>"
      ]
     },
     "metadata": {
      "needs_background": "light"
     },
     "output_type": "display_data"
    }
   ],
   "source": [
    "cc_df_sample.filter(col('is_fraud') == 1)\\\n",
    "    .select('category')\\\n",
    "    .groupBy('category')\\\n",
    "    .count()\\\n",
    "    .toPandas().plot.bar(y='count', x='category', title='fraud')\n",
    "\n",
    "cc_df_sample.filter(col('is_fraud') == 0)\\\n",
    "    .select('category')\\\n",
    "    .groupBy('category')\\\n",
    "    .count()\\\n",
    "    .toPandas().plot.bar(y='count', x='category', title='legitimate')\n"
   ]
  },
  {
   "cell_type": "markdown",
   "metadata": {},
   "source": [
    "It also seem to carry some information about fraud, so we'll use the column, although we will need to encode it."
   ]
  },
  {
   "cell_type": "markdown",
   "metadata": {},
   "source": [
    "<a id=\"distance\"></a>\n",
    "#### 1.4.2.7. Distance to Merchant\n",
    "\n",
    "Let's look at the distance to the merchant. For this, we will need a small helper function to compute distance from geo coordinates"
   ]
  },
  {
   "cell_type": "code",
   "execution_count": 25,
   "metadata": {},
   "outputs": [],
   "source": [
    "def distance(lat, long, merch_lat, merch_long):\n",
    "\n",
    "    s_lat, s_lng, e_lat, e_lng = float(lat), float(long), float(merch_lat), float(merch_long)\n",
    "\n",
    "    # approximate radius of earth in km\n",
    "    R = 6373.0\n",
    "\n",
    "    s_lat = s_lat*np.pi/180.0                      \n",
    "    s_lng = np.deg2rad(s_lng)     \n",
    "    e_lat = np.deg2rad(e_lat)                       \n",
    "    e_lng = np.deg2rad(e_lng)  \n",
    "\n",
    "    d = np.sin((e_lat - s_lat)/2)**2 + np.cos(s_lat)*np.cos(e_lat) * np.sin((e_lng - s_lng)/2)**2\n",
    "\n",
    "    return float(2 * R * np.arcsin(np.sqrt(d)))"
   ]
  },
  {
   "cell_type": "code",
   "execution_count": 26,
   "metadata": {},
   "outputs": [],
   "source": [
    "distance_udf = udf(lambda lat, long, merch_lat, merch_long: distance(lat, long, merch_lat, merch_long), FloatType())"
   ]
  },
  {
   "cell_type": "code",
   "execution_count": 27,
   "metadata": {},
   "outputs": [],
   "source": [
    "cc_df_sample = cc_df_sample.withColumn(\"distance\", distance_udf(col('lat'), col('long'), col('merch_lat'), col('merch_long')))"
   ]
  },
  {
   "cell_type": "code",
   "execution_count": 28,
   "metadata": {},
   "outputs": [
    {
     "name": "stderr",
     "output_type": "stream",
     "text": [
      "                                                                                \r"
     ]
    },
    {
     "data": {
      "text/plain": [
       "<AxesSubplot:ylabel='Frequency'>"
      ]
     },
     "execution_count": 28,
     "metadata": {},
     "output_type": "execute_result"
    },
    {
     "data": {
      "image/png": "[encoded data removed]",
      "text/plain": [
       "<Figure size 432x288 with 1 Axes>"
      ]
     },
     "metadata": {
      "needs_background": "light"
     },
     "output_type": "display_data"
    },
    {
     "data": {
      "image/png": "[encoded data removed]",
      "text/plain": [
       "<Figure size 432x288 with 1 Axes>"
      ]
     },
     "metadata": {
      "needs_background": "light"
     },
     "output_type": "display_data"
    }
   ],
   "source": [
    "cc_df_sample.filter(col('is_fraud') == 1)\\\n",
    "    .select('distance')\\\n",
    "    .toPandas().plot.hist(by='distance', bins=100) \n",
    "cc_df_sample.filter(col('is_fraud') == 0)\\\n",
    "    .select('distance')\\\n",
    "    .toPandas().plot.hist(by='distance', bins=100) "
   ]
  },
  {
   "cell_type": "markdown",
   "metadata": {},
   "source": [
    "<a id=\"features\"></a>\n",
    "## 1.5. Feature Engineering"
   ]
  },
  {
   "cell_type": "markdown",
   "metadata": {},
   "source": [
    "Now we identified relevant features, we can write up a single function for feature engineering that includes the necessary transforms.\n",
    "\n",
    "This includes the 1-hot encoding for the `category` column we have not worked on yet."
   ]
  },
  {
   "cell_type": "markdown",
   "metadata": {},
   "source": [
    "<a id=\"build_features\"></a>\n",
    "### 1.5.1 Build the feature set"
   ]
  },
  {
   "cell_type": "code",
   "execution_count": 29,
   "metadata": {},
   "outputs": [],
   "source": [
    "def create_feature_columns(df):\n",
    "    # Augments the dataset with features we identified\n",
    "    \n",
    "    # drop unneeded columns\n",
    "    df = df.drop('ssn', 'cc_num', 'first', 'last', 'street', 'city', 'state', \n",
    "                 'zip', 'job', 'acct_num', 'profile', 'trans_num', 'unix_time', \n",
    "                 'merchant')\n",
    "\n",
    "    # transaction date and time features\n",
    "    df = df.withColumn('day_of_week', dayofweek(col('trans_date')))\n",
    "    df = df.withColumn('month_of_year', month(col('trans_date')))\n",
    "    df = df.withColumn('hour_of_day', hour(col('trans_time')))\n",
    "    df = df.withColumn('is_weekend', col('day_of_week').isin([1,7]).cast('int'))\n",
    "    \n",
    "    # distance\n",
    "    distance_udf = udf(lambda lat, long, merch_lat, merch_long: distance(lat, long, merch_lat, merch_long), FloatType())\n",
    "    df = df.withColumn(\"distance\", distance_udf(col('lat'), col('long'), col('merch_lat'), col('merch_long')))\n",
    "    \n",
    "    # customer age and gender\n",
    "    df = df.withColumn('age', floor(datediff(col('trans_date'), to_date(col('dob'), 'yyyy-mm-dd'))/365.25))\n",
    "    df = df.withColumn('gender', when((col('gender') == 'M'), 1).when((col('gender') == 'F'), 0).otherwise(-1))\n",
    "    \n",
    "    # drop no longer used columns\n",
    "    df = df.drop('dob', 'trans_date', 'trans_time')\n",
    "\n",
    "    return df\n",
    "\n",
    "def create_feature_encoding_pipeline(df):\n",
    "    # Create a pipeline model encoding categorica features\n",
    "    # which can be re-used to evaluate the model\n",
    "    \n",
    "    # 1-hot encode merchant category\n",
    "    stringIndexer = StringIndexer(inputCol='category', outputCol='category_index')\n",
    "    encoder = OneHotEncoder(inputCols=[stringIndexer.getOutputCol()], outputCols=['category_classVec'])\n",
    "    \n",
    "    stages = [stringIndexer, encoder]\n",
    "    \n",
    "    numeric_columns = [col[0] for col in df.dtypes if col[1] in ['int', 'double'] and col[0] != 'is_fraud']\n",
    "    assembler_inputs = ['category_classVec'] + numeric_columns\n",
    "    assembler = VectorAssembler(inputCols=assembler_inputs, outputCol=\"features\")\n",
    "    stages += [assembler]\n",
    "    \n",
    "    # put together the pipeline with the indexer, encoder and vector assembler\n",
    "    pipeline = Pipeline(stages=stages)\n",
    "    # fit the pipeline with the dataset\n",
    "    pipeline_model = pipeline.fit(df)\n",
    "    return pipeline_model\n",
    "\n",
    "def encode_features(df, pipeline_model):\n",
    "    df = pipeline_model.transform(df)\n",
    "    df = df.drop('category_classVec')    \n",
    "    return df\n",
    "    "
   ]
  },
  {
   "cell_type": "markdown",
   "metadata": {},
   "source": [
    "Putting it all together:"
   ]
  },
  {
   "cell_type": "code",
   "execution_count": 30,
   "metadata": {},
   "outputs": [
    {
     "name": "stderr",
     "output_type": "stream",
     "text": [
      "                                                                                \r"
     ]
    }
   ],
   "source": [
    "df2 = create_feature_columns(cc_df_sample)\n",
    "pipeline_model = create_feature_encoding_pipeline(df2)\n",
    "df2 = encode_features(df2, pipeline_model)"
   ]
  },
  {
   "cell_type": "markdown",
   "metadata": {},
   "source": [
    "Now we have a dataset with the encoded features as a vector in the `features` column"
   ]
  },
  {
   "cell_type": "code",
   "execution_count": 31,
   "metadata": {},
   "outputs": [
    {
     "name": "stdout",
     "output_type": "stream",
     "text": [
      "root\n",
      " |-- gender: integer (nullable = false)\n",
      " |-- lat: double (nullable = true)\n",
      " |-- long: double (nullable = true)\n",
      " |-- city_pop: integer (nullable = true)\n",
      " |-- category: string (nullable = true)\n",
      " |-- amt: double (nullable = true)\n",
      " |-- is_fraud: integer (nullable = true)\n",
      " |-- merch_lat: double (nullable = true)\n",
      " |-- merch_long: double (nullable = true)\n",
      " |-- distance: float (nullable = true)\n",
      " |-- day_of_week: integer (nullable = true)\n",
      " |-- month_of_year: integer (nullable = true)\n",
      " |-- hour_of_day: integer (nullable = true)\n",
      " |-- is_weekend: integer (nullable = true)\n",
      " |-- age: long (nullable = true)\n",
      " |-- category_index: double (nullable = false)\n",
      " |-- features: vector (nullable = true)\n",
      "\n"
     ]
    }
   ],
   "source": [
    "df2.printSchema()"
   ]
  },
  {
   "cell_type": "markdown",
   "metadata": {},
   "source": [
    "<a id=\"split_set\"></a>\n",
    "### 1.5.1. Split Train and Test sets\n",
    "\n",
    "First let's split our dataset into train and test subsets, with a ratio of 80:20"
   ]
  },
  {
   "cell_type": "code",
   "execution_count": 32,
   "metadata": {},
   "outputs": [
    {
     "name": "stderr",
     "output_type": "stream",
     "text": [
      "                                                                                \r"
     ]
    },
    {
     "name": "stdout",
     "output_type": "stream",
     "text": [
      "Training Dataset Count: 65343\n"
     ]
    },
    {
     "name": "stderr",
     "output_type": "stream",
     "text": [
      "[Stage 82:==================================================>     (18 + 2) / 20]\r"
     ]
    },
    {
     "name": "stdout",
     "output_type": "stream",
     "text": [
      "Test Dataset Count: 16123\n"
     ]
    },
    {
     "name": "stderr",
     "output_type": "stream",
     "text": [
      "                                                                                \r"
     ]
    }
   ],
   "source": [
    "train, test = df2.randomSplit([0.8, 0.2], seed = 2018)\n",
    "print(\"Training Dataset Count: \" + str(train.count()))\n",
    "print(\"Test Dataset Count: \" + str(test.count()))"
   ]
  },
  {
   "cell_type": "markdown",
   "metadata": {},
   "source": [
    "<a id=\"rebalance\"></a>\n",
    "### 1.5.2. Rebalance Classes\n",
    "\n",
    "We saw early on that fraud amounted for about 1% of transactions, so we should rebalance our dataset to give the fraud cases more weight.\n"
   ]
  },
  {
   "cell_type": "code",
   "execution_count": 33,
   "metadata": {},
   "outputs": [
    {
     "name": "stderr",
     "output_type": "stream",
     "text": [
      "[Stage 84:============================================>           (16 + 4) / 20]\r"
     ]
    },
    {
     "name": "stdout",
     "output_type": "stream",
     "text": [
      "+--------+-----+\n",
      "|is_fraud|count|\n",
      "+--------+-----+\n",
      "|       0| 3290|\n",
      "|       1|  402|\n",
      "+--------+-----+\n",
      "\n"
     ]
    },
    {
     "name": "stderr",
     "output_type": "stream",
     "text": [
      "                                                                                \r"
     ]
    }
   ],
   "source": [
    "train_downsampled = train.sampleBy('is_fraud',\n",
    "                                    fractions = {\n",
    "                                         1: 1,\n",
    "                                         0: 0.05\n",
    "                                     }, seed= 1234)\n",
    "train_downsampled.groupBy('is_fraud').count().orderBy('is_fraud').show(2)"
   ]
  },
  {
   "cell_type": "code",
   "execution_count": 34,
   "metadata": {},
   "outputs": [
    {
     "name": "stderr",
     "output_type": "stream",
     "text": [
      "[Stage 86:===========>                                            (4 + 16) / 20]\r"
     ]
    },
    {
     "name": "stdout",
     "output_type": "stream",
     "text": [
      "+--------+-----+\n",
      "|is_fraud|count|\n",
      "+--------+-----+\n",
      "|       0|  837|\n",
      "|       1|   76|\n",
      "+--------+-----+\n",
      "\n"
     ]
    },
    {
     "name": "stderr",
     "output_type": "stream",
     "text": [
      "                                                                                \r"
     ]
    }
   ],
   "source": [
    "test_downsampled = test.sampleBy('is_fraud',\n",
    "                                    fractions = {\n",
    "                                         1: 1,\n",
    "                                         0: 0.05\n",
    "                                     }, seed= 1234)\n",
    "test_downsampled.groupBy('is_fraud').count().orderBy('is_fraud').show(2)"
   ]
  },
  {
   "cell_type": "markdown",
   "metadata": {},
   "source": [
    "<a id=\"eval_helper\"></a>\n",
    "### 1.5.3. Model Evaluation helper\n",
    "\n",
    "To evaluate the performance of our model, we'll look at the receiver operating characteristic (ROC) curve, the Precision / Recall curve, and the confusion matrix, which give us indications about rates of false positives and false negatives.\n",
    "\n",
    "The next cell is a helper function to perform these function, which we will use for all our models."
   ]
  },
  {
   "cell_type": "code",
   "execution_count": 61,
   "metadata": {},
   "outputs": [],
   "source": [
    "def eval_model(results, data):\n",
    "    \n",
    "    preds = results.transform(data)\n",
    "    y_preds = preds.select('prediction').rdd.keys().collect()\n",
    "    y_score = preds.select(vector_to_array(\"probability\")[1]).rdd.keys().collect()\n",
    "    y = preds.select(\"is_fraud\").rdd.keys().collect()\n",
    "    fpr, tpr, _ = roc_curve(y, y_score)\n",
    "    prec, recall, _ = precision_recall_curve(y, y_score)    \n",
    "    cm = confusion_matrix(y, y_preds)\n",
    "    print(f\"ROC area under curve Score: {roc_auc_score(y, y_score)}\")\n",
    "    pr = np.array([prec, recall]).T\n",
    "    pr = pr[pr[:,0].argsort()]\n",
    "    print(f\"PR area under curve Score: {auc(pr[:,0], pr[:,1])}\")\n",
    "    print(f\"Confusion Matrix:\")\n",
    "    print(cm)\n",
    "    roc_display = RocCurveDisplay(fpr=fpr, tpr=tpr).plot()\n",
    "    pr_display = PrecisionRecallDisplay(precision=prec, recall=recall).plot()\n",
    "    cm_display = ConfusionMatrixDisplay(confusion_matrix=cm).plot()\n"
   ]
  },
  {
   "cell_type": "markdown",
   "metadata": {},
   "source": [
    "The helper function provides an assessment of the model looking at a few metrics:\n",
    "\n",
    "- The model decision function provides a way to introspect the ability of the classifier at different thresholds or steps of fitting.\n",
    "- The Receiver Operating Characteristic (ROC) Area Under the Curve (AUC) provides a single metric measuring the area under the \n",
    "    ROC curve. The ROC curve looks at False Positive Rate vs. True Positive Rate across the decision function. \n",
    "- The Confusion Matrix shows the number of True Positive, True Negative, False Positive and False Negative, that is, the number of \n",
    "    predictions that were correctly assigned to True or False as well as incorrectly classified. \n",
    "- The Precision / Recall curve provides another way to look at model performance. Precision is the ratio of\n",
    "    correctly predicted fraudulent transactions over the number of predicted fraudulent transactions. Recall is the ratio of \n",
    "    correctly predicted fraudulent transactions over the number of fraudulent transactions in the dataset. Ideally both are close to 1.0.\n",
    "    \n",
    "The ROC and PR curves are useful because the curves of different models can be compared directly.\n",
    "\n",
    "ROC curves should be used when classes are balanced, while Precision-Recall curves are most useful for imbalanced datasets because ROC curve make use of true negatives in the False Positive Ratewhile it is avoided in the Precision-Recall curve.\n"
   ]
  },
  {
   "cell_type": "markdown",
   "metadata": {},
   "source": [
    "To evaluate our model, we'll also use the scoring dataset, without rebalancing the classes, so when looking at these values need to take into consideration that we have a very unbalanced dataset, and we re-sampled the test set, but not the scoring set. "
   ]
  },
  {
   "cell_type": "code",
   "execution_count": 36,
   "metadata": {},
   "outputs": [
    {
     "name": "stderr",
     "output_type": "stream",
     "text": [
      "                                                                                \r"
     ]
    }
   ],
   "source": [
    "scoring_file_pattern = 'scoring set/medium/*male*.csv'\n",
    "scoring_df = sc.read.option(\"delimiter\", \"|\").csv(data_folder + scoring_file_pattern, header=True, inferSchema=True)\n"
   ]
  },
  {
   "cell_type": "markdown",
   "metadata": {},
   "source": [
    "We then need to create and encode features on that dataset, using the encoding pipeline we created earlier, so it's ready to evaluate"
   ]
  },
  {
   "cell_type": "code",
   "execution_count": 37,
   "metadata": {},
   "outputs": [],
   "source": [
    "scoring_df = create_feature_columns(scoring_df)\n",
    "scoring_df = encode_features(scoring_df, pipeline_model)"
   ]
  },
  {
   "cell_type": "markdown",
   "metadata": {},
   "source": [
    "<a id=\"model_selection\"></a>\n",
    "## 1.6. Model Selection\n",
    "\n",
    "We'll train a selection of models on our smaller sample to find the best performing solution\n"
   ]
  },
  {
   "cell_type": "markdown",
   "metadata": {},
   "source": [
    "<a id=\"lr\"></a>\n",
    "### 1.6.1. Logistic Regression Model\n"
   ]
  },
  {
   "cell_type": "code",
   "execution_count": 88,
   "metadata": {},
   "outputs": [
    {
     "name": "stderr",
     "output_type": "stream",
     "text": [
      "                                                                                \r"
     ]
    }
   ],
   "source": [
    "c_lr = LogisticRegression(featuresCol='features', labelCol='is_fraud')\n",
    "model_lr = c_lr.fit(train_downsampled)"
   ]
  },
  {
   "cell_type": "markdown",
   "metadata": {},
   "source": [
    "Let's evaluate our trained model on the test set"
   ]
  },
  {
   "cell_type": "code",
   "execution_count": 89,
   "metadata": {},
   "outputs": [
    {
     "name": "stderr",
     "output_type": "stream",
     "text": [
      "[Stage 10407:=============================>                       (11 + 9) / 20]\r"
     ]
    },
    {
     "name": "stdout",
     "output_type": "stream",
     "text": [
      "ROC area under curve Score: 0.9057567754511727\n",
      "PR area under curve Score: 0.6363071633162831\n",
      "Confusion Matrix:\n",
      "[[830   7]\n",
      " [ 32  44]]\n"
     ]
    },
    {
     "name": "stderr",
     "output_type": "stream",
     "text": [
      "                                                                                \r"
     ]
    },
    {
     "data": {
      "image/png": "[encoded data removed]",
      "text/plain": [
       "<Figure size 432x288 with 1 Axes>"
      ]
     },
     "metadata": {
      "needs_background": "light"
     },
     "output_type": "display_data"
    },
    {
     "data": {
      "image/png": "[encoded data removed]",
      "text/plain": [
       "<Figure size 432x288 with 1 Axes>"
      ]
     },
     "metadata": {
      "needs_background": "light"
     },
     "output_type": "display_data"
    },
    {
     "data": {
      "image/png": "[encoded data removed]",
      "text/plain": [
       "<Figure size 432x288 with 2 Axes>"
      ]
     },
     "metadata": {
      "needs_background": "light"
     },
     "output_type": "display_data"
    }
   ],
   "source": [
    "eval_model(model_lr, test_downsampled)"
   ]
  },
  {
   "cell_type": "markdown",
   "metadata": {},
   "source": [
    "and more importantly, on our scoring set"
   ]
  },
  {
   "cell_type": "code",
   "execution_count": 90,
   "metadata": {},
   "outputs": [
    {
     "name": "stderr",
     "output_type": "stream",
     "text": [
      "                                                                                \r"
     ]
    },
    {
     "name": "stdout",
     "output_type": "stream",
     "text": [
      "ROC area under curve Score: 0.8801815642734724\n",
      "PR area under curve Score: 0.3057940663189113\n",
      "Confusion Matrix:\n",
      "[[1581108   10467]\n",
      " [   4973    4639]]\n"
     ]
    },
    {
     "data": {
      "image/png": "[encoded data removed]",
      "text/plain": [
       "<Figure size 432x288 with 1 Axes>"
      ]
     },
     "metadata": {
      "needs_background": "light"
     },
     "output_type": "display_data"
    },
    {
     "data": {
      "image/png": "[encoded data removed]",
      "text/plain": [
       "<Figure size 432x288 with 1 Axes>"
      ]
     },
     "metadata": {
      "needs_background": "light"
     },
     "output_type": "display_data"
    },
    {
     "data": {
      "image/png": "[encoded data removed]",
      "text/plain": [
       "<Figure size 432x288 with 2 Axes>"
      ]
     },
     "metadata": {
      "needs_background": "light"
     },
     "output_type": "display_data"
    }
   ],
   "source": [
    "eval_model(model_lr, scoring_df)"
   ]
  },
  {
   "cell_type": "markdown",
   "metadata": {},
   "source": [
    "The model performs OK on the balanced training set, but its performance drops quite significantly when looking at the unbalanced scoring set."
   ]
  },
  {
   "cell_type": "markdown",
   "metadata": {},
   "source": [
    "<a id=\"dt\"></a>\n",
    "### 1.6.2. Decision Tree Classifier Model\n"
   ]
  },
  {
   "cell_type": "code",
   "execution_count": 91,
   "metadata": {},
   "outputs": [
    {
     "name": "stderr",
     "output_type": "stream",
     "text": [
      "                                                                                \r"
     ]
    }
   ],
   "source": [
    "c_dt = DecisionTreeClassifier(featuresCol='features', labelCol='is_fraud')\n",
    "model_dt = c_dt.fit(train_downsampled)"
   ]
  },
  {
   "cell_type": "code",
   "execution_count": 92,
   "metadata": {},
   "outputs": [
    {
     "name": "stderr",
     "output_type": "stream",
     "text": [
      "[Stage 10429:=====================================>               (14 + 6) / 20]\r"
     ]
    },
    {
     "name": "stdout",
     "output_type": "stream",
     "text": [
      "ROC area under curve Score: 0.9219408287744449\n",
      "PR area under curve Score: 0.6349315946272849\n",
      "Confusion Matrix:\n",
      "[[828   9]\n",
      " [ 25  51]]\n"
     ]
    },
    {
     "name": "stderr",
     "output_type": "stream",
     "text": [
      "                                                                                \r"
     ]
    },
    {
     "data": {
      "image/png": "[encoded data removed]",
      "text/plain": [
       "<Figure size 432x288 with 1 Axes>"
      ]
     },
     "metadata": {
      "needs_background": "light"
     },
     "output_type": "display_data"
    },
    {
     "data": {
      "image/png": "[encoded data removed]",
      "text/plain": [
       "<Figure size 432x288 with 1 Axes>"
      ]
     },
     "metadata": {
      "needs_background": "light"
     },
     "output_type": "display_data"
    },
    {
     "data": {
      "image/png": "[encoded data removed]",
      "text/plain": [
       "<Figure size 432x288 with 2 Axes>"
      ]
     },
     "metadata": {
      "needs_background": "light"
     },
     "output_type": "display_data"
    }
   ],
   "source": [
    "eval_model(model_dt, test_downsampled)"
   ]
  },
  {
   "cell_type": "code",
   "execution_count": 93,
   "metadata": {},
   "outputs": [
    {
     "name": "stderr",
     "output_type": "stream",
     "text": [
      "                                                                                \r"
     ]
    },
    {
     "name": "stdout",
     "output_type": "stream",
     "text": [
      "ROC area under curve Score: 0.891963788215895\n",
      "PR area under curve Score: 0.3743890212454489\n",
      "Confusion Matrix:\n",
      "[[1574714   16861]\n",
      " [   3779    5833]]\n"
     ]
    },
    {
     "data": {
      "image/png": "[encoded data removed]",
      "text/plain": [
       "<Figure size 432x288 with 1 Axes>"
      ]
     },
     "metadata": {
      "needs_background": "light"
     },
     "output_type": "display_data"
    },
    {
     "data": {
      "image/png": "[encoded data removed]",
      "text/plain": [
       "<Figure size 432x288 with 1 Axes>"
      ]
     },
     "metadata": {
      "needs_background": "light"
     },
     "output_type": "display_data"
    },
    {
     "data": {
      "image/png": "[encoded data removed]",
      "text/plain": [
       "<Figure size 432x288 with 2 Axes>"
      ]
     },
     "metadata": {
      "needs_background": "light"
     },
     "output_type": "display_data"
    }
   ],
   "source": [
    "eval_model(model_dt, scoring_df)"
   ]
  },
  {
   "cell_type": "markdown",
   "metadata": {},
   "source": [
    "<a id=\"rf\"></a>\n",
    "### 1.6.3. Random Forest Classifier\n"
   ]
  },
  {
   "cell_type": "code",
   "execution_count": 94,
   "metadata": {},
   "outputs": [
    {
     "name": "stderr",
     "output_type": "stream",
     "text": [
      "                                                                                \r"
     ]
    }
   ],
   "source": [
    "c_rf = RandomForestClassifier(featuresCol='features', labelCol='is_fraud')\n",
    "model_rf = c_rf.fit(train_downsampled)"
   ]
  },
  {
   "cell_type": "code",
   "execution_count": 95,
   "metadata": {},
   "outputs": [
    {
     "name": "stderr",
     "output_type": "stream",
     "text": [
      "                                                                                \r"
     ]
    },
    {
     "name": "stdout",
     "output_type": "stream",
     "text": [
      "ROC area under curve Score: 0.9750990379173742\n",
      "PR area under curve Score: 0.7470138032042211\n",
      "Confusion Matrix:\n",
      "[[832   5]\n",
      " [ 30  46]]\n"
     ]
    },
    {
     "data": {
      "image/png": "[encoded data removed]",
      "text/plain": [
       "<Figure size 432x288 with 1 Axes>"
      ]
     },
     "metadata": {
      "needs_background": "light"
     },
     "output_type": "display_data"
    },
    {
     "data": {
      "image/png": "[encoded data removed]",
      "text/plain": [
       "<Figure size 432x288 with 1 Axes>"
      ]
     },
     "metadata": {
      "needs_background": "light"
     },
     "output_type": "display_data"
    },
    {
     "data": {
      "image/png": "[encoded data removed]",
      "text/plain": [
       "<Figure size 432x288 with 2 Axes>"
      ]
     },
     "metadata": {
      "needs_background": "light"
     },
     "output_type": "display_data"
    }
   ],
   "source": [
    "eval_model(model_rf, test_downsampled)"
   ]
  },
  {
   "cell_type": "code",
   "execution_count": 96,
   "metadata": {},
   "outputs": [
    {
     "name": "stderr",
     "output_type": "stream",
     "text": [
      "                                                                                \r"
     ]
    },
    {
     "name": "stdout",
     "output_type": "stream",
     "text": [
      "ROC area under curve Score: 0.9586988292473707\n",
      "PR area under curve Score: 0.48927058625402986\n",
      "Confusion Matrix:\n",
      "[[1582015    9560]\n",
      " [   3905    5707]]\n"
     ]
    },
    {
     "data": {
      "image/png": "[encoded data removed]",
      "text/plain": [
       "<Figure size 432x288 with 1 Axes>"
      ]
     },
     "metadata": {
      "needs_background": "light"
     },
     "output_type": "display_data"
    },
    {
     "data": {
      "image/png": "[encoded data removed]",
      "text/plain": [
       "<Figure size 432x288 with 1 Axes>"
      ]
     },
     "metadata": {
      "needs_background": "light"
     },
     "output_type": "display_data"
    },
    {
     "data": {
      "image/png": "[encoded data removed]",
      "text/plain": [
       "<Figure size 432x288 with 2 Axes>"
      ]
     },
     "metadata": {
      "needs_background": "light"
     },
     "output_type": "display_data"
    }
   ],
   "source": [
    "eval_model(model_rf, scoring_df)"
   ]
  },
  {
   "cell_type": "markdown",
   "metadata": {},
   "source": [
    "<a id=\"gbt\"></a>\n",
    "### 1.6.4. Gradient Boosted Trees"
   ]
  },
  {
   "cell_type": "code",
   "execution_count": 79,
   "metadata": {
    "collapsed": true,
    "jupyter": {
     "outputs_hidden": true
    }
   },
   "outputs": [
    {
     "name": "stderr",
     "output_type": "stream",
     "text": [
      "22/06/15 19:10:27 WARN DAGScheduler: Broadcasting large task binary with size 1001.0 KiB\n",
      "22/06/15 19:10:27 WARN DAGScheduler: Broadcasting large task binary with size 1003.6 KiB\n",
      "22/06/15 19:10:27 WARN DAGScheduler: Broadcasting large task binary with size 1004.1 KiB\n",
      "22/06/15 19:10:27 WARN DAGScheduler: Broadcasting large task binary with size 1004.7 KiB\n",
      "22/06/15 19:10:28 WARN DAGScheduler: Broadcasting large task binary with size 1005.9 KiB\n",
      "22/06/15 19:10:28 WARN DAGScheduler: Broadcasting large task binary with size 1008.3 KiB\n",
      "22/06/15 19:10:28 WARN DAGScheduler: Broadcasting large task binary with size 1011.0 KiB\n",
      "22/06/15 19:10:28 WARN DAGScheduler: Broadcasting large task binary with size 1011.4 KiB\n",
      "22/06/15 19:10:28 WARN DAGScheduler: Broadcasting large task binary with size 1012.0 KiB\n",
      "22/06/15 19:10:28 WARN DAGScheduler: Broadcasting large task binary with size 1013.2 KiB\n",
      "22/06/15 19:10:28 WARN DAGScheduler: Broadcasting large task binary with size 1015.2 KiB\n",
      "22/06/15 19:10:28 WARN DAGScheduler: Broadcasting large task binary with size 1017.7 KiB\n",
      "22/06/15 19:10:29 WARN DAGScheduler: Broadcasting large task binary with size 1018.2 KiB\n",
      "22/06/15 19:10:29 WARN DAGScheduler: Broadcasting large task binary with size 1018.8 KiB\n",
      "22/06/15 19:10:29 WARN DAGScheduler: Broadcasting large task binary with size 1020.0 KiB\n",
      "22/06/15 19:10:29 WARN DAGScheduler: Broadcasting large task binary with size 1022.3 KiB\n",
      "22/06/15 19:10:29 WARN DAGScheduler: Broadcasting large task binary with size 1025.0 KiB\n",
      "22/06/15 19:10:29 WARN DAGScheduler: Broadcasting large task binary with size 1025.4 KiB\n",
      "22/06/15 19:10:29 WARN DAGScheduler: Broadcasting large task binary with size 1026.0 KiB\n",
      "22/06/15 19:10:29 WARN DAGScheduler: Broadcasting large task binary with size 1027.1 KiB\n",
      "22/06/15 19:10:30 WARN DAGScheduler: Broadcasting large task binary with size 1029.5 KiB\n",
      "22/06/15 19:10:30 WARN DAGScheduler: Broadcasting large task binary with size 1032.2 KiB\n",
      "22/06/15 19:10:30 WARN DAGScheduler: Broadcasting large task binary with size 1032.7 KiB\n",
      "22/06/15 19:10:30 WARN DAGScheduler: Broadcasting large task binary with size 1033.3 KiB\n",
      "22/06/15 19:10:30 WARN DAGScheduler: Broadcasting large task binary with size 1034.5 KiB\n",
      "22/06/15 19:10:30 WARN DAGScheduler: Broadcasting large task binary with size 1036.7 KiB\n",
      "22/06/15 19:10:30 WARN DAGScheduler: Broadcasting large task binary with size 1039.5 KiB\n",
      "22/06/15 19:10:31 WARN DAGScheduler: Broadcasting large task binary with size 1040.0 KiB\n",
      "22/06/15 19:10:31 WARN DAGScheduler: Broadcasting large task binary with size 1040.6 KiB\n",
      "22/06/15 19:10:31 WARN DAGScheduler: Broadcasting large task binary with size 1041.7 KiB\n",
      "22/06/15 19:10:31 WARN DAGScheduler: Broadcasting large task binary with size 1044.0 KiB\n",
      "22/06/15 19:10:31 WARN DAGScheduler: Broadcasting large task binary with size 1046.6 KiB\n",
      "22/06/15 19:10:31 WARN DAGScheduler: Broadcasting large task binary with size 1047.0 KiB\n",
      "22/06/15 19:10:31 WARN DAGScheduler: Broadcasting large task binary with size 1047.6 KiB\n",
      "22/06/15 19:10:31 WARN DAGScheduler: Broadcasting large task binary with size 1048.8 KiB\n",
      "22/06/15 19:10:31 WARN DAGScheduler: Broadcasting large task binary with size 1051.1 KiB\n",
      "22/06/15 19:10:32 WARN DAGScheduler: Broadcasting large task binary with size 1053.8 KiB\n",
      "22/06/15 19:10:32 WARN DAGScheduler: Broadcasting large task binary with size 1054.3 KiB\n",
      "22/06/15 19:10:32 WARN DAGScheduler: Broadcasting large task binary with size 1055.0 KiB\n",
      "22/06/15 19:10:32 WARN DAGScheduler: Broadcasting large task binary with size 1056.1 KiB\n",
      "22/06/15 19:10:32 WARN DAGScheduler: Broadcasting large task binary with size 1058.4 KiB\n",
      "22/06/15 19:10:32 WARN DAGScheduler: Broadcasting large task binary with size 1061.0 KiB\n",
      "22/06/15 19:10:32 WARN DAGScheduler: Broadcasting large task binary with size 1061.5 KiB\n",
      "22/06/15 19:10:32 WARN DAGScheduler: Broadcasting large task binary with size 1062.2 KiB\n",
      "22/06/15 19:10:33 WARN DAGScheduler: Broadcasting large task binary with size 1063.3 KiB\n",
      "22/06/15 19:10:33 WARN DAGScheduler: Broadcasting large task binary with size 1065.3 KiB\n",
      "22/06/15 19:10:33 WARN DAGScheduler: Broadcasting large task binary with size 1067.8 KiB\n",
      "22/06/15 19:10:33 WARN DAGScheduler: Broadcasting large task binary with size 1068.3 KiB\n",
      "22/06/15 19:10:33 WARN DAGScheduler: Broadcasting large task binary with size 1068.9 KiB\n",
      "22/06/15 19:10:33 WARN DAGScheduler: Broadcasting large task binary with size 1070.1 KiB\n",
      "22/06/15 19:10:33 WARN DAGScheduler: Broadcasting large task binary with size 1072.4 KiB\n",
      "22/06/15 19:10:33 WARN DAGScheduler: Broadcasting large task binary with size 1075.2 KiB\n",
      "22/06/15 19:10:34 WARN DAGScheduler: Broadcasting large task binary with size 1075.7 KiB\n",
      "22/06/15 19:10:34 WARN DAGScheduler: Broadcasting large task binary with size 1076.3 KiB\n",
      "22/06/15 19:10:34 WARN DAGScheduler: Broadcasting large task binary with size 1077.5 KiB\n",
      "22/06/15 19:10:34 WARN DAGScheduler: Broadcasting large task binary with size 1079.8 KiB\n",
      "22/06/15 19:10:34 WARN DAGScheduler: Broadcasting large task binary with size 1082.5 KiB\n",
      "22/06/15 19:10:34 WARN DAGScheduler: Broadcasting large task binary with size 1083.0 KiB\n",
      "22/06/15 19:10:34 WARN DAGScheduler: Broadcasting large task binary with size 1083.6 KiB\n",
      "22/06/15 19:10:34 WARN DAGScheduler: Broadcasting large task binary with size 1084.8 KiB\n",
      "22/06/15 19:10:35 WARN DAGScheduler: Broadcasting large task binary with size 1086.8 KiB\n",
      "22/06/15 19:10:35 WARN DAGScheduler: Broadcasting large task binary with size 1089.3 KiB\n",
      "22/06/15 19:10:35 WARN DAGScheduler: Broadcasting large task binary with size 1089.7 KiB\n",
      "22/06/15 19:10:35 WARN DAGScheduler: Broadcasting large task binary with size 1090.3 KiB\n",
      "22/06/15 19:10:35 WARN DAGScheduler: Broadcasting large task binary with size 1091.5 KiB\n",
      "22/06/15 19:10:35 WARN DAGScheduler: Broadcasting large task binary with size 1093.6 KiB\n",
      "22/06/15 19:10:35 WARN DAGScheduler: Broadcasting large task binary with size 1096.0 KiB\n",
      "22/06/15 19:10:35 WARN DAGScheduler: Broadcasting large task binary with size 1096.4 KiB\n",
      "22/06/15 19:10:36 WARN DAGScheduler: Broadcasting large task binary with size 1097.0 KiB\n",
      "22/06/15 19:10:36 WARN DAGScheduler: Broadcasting large task binary with size 1098.2 KiB\n",
      "22/06/15 19:10:36 WARN DAGScheduler: Broadcasting large task binary with size 1100.4 KiB\n",
      "22/06/15 19:10:36 WARN DAGScheduler: Broadcasting large task binary with size 1102.8 KiB\n",
      "22/06/15 19:10:36 WARN DAGScheduler: Broadcasting large task binary with size 1103.3 KiB\n",
      "22/06/15 19:10:36 WARN DAGScheduler: Broadcasting large task binary with size 1103.9 KiB\n",
      "22/06/15 19:10:36 WARN DAGScheduler: Broadcasting large task binary with size 1105.1 KiB\n",
      "22/06/15 19:10:36 WARN DAGScheduler: Broadcasting large task binary with size 1107.4 KiB\n",
      "22/06/15 19:10:37 WARN DAGScheduler: Broadcasting large task binary with size 1110.1 KiB\n",
      "22/06/15 19:10:37 WARN DAGScheduler: Broadcasting large task binary with size 1110.5 KiB\n",
      "22/06/15 19:10:37 WARN DAGScheduler: Broadcasting large task binary with size 1111.2 KiB\n",
      "22/06/15 19:10:37 WARN DAGScheduler: Broadcasting large task binary with size 1112.3 KiB\n",
      "22/06/15 19:10:37 WARN DAGScheduler: Broadcasting large task binary with size 1114.6 KiB\n",
      "22/06/15 19:10:37 WARN DAGScheduler: Broadcasting large task binary with size 1117.3 KiB\n",
      "22/06/15 19:10:37 WARN DAGScheduler: Broadcasting large task binary with size 1117.7 KiB\n",
      "22/06/15 19:10:37 WARN DAGScheduler: Broadcasting large task binary with size 1118.3 KiB\n",
      "22/06/15 19:10:38 WARN DAGScheduler: Broadcasting large task binary with size 1119.5 KiB\n",
      "22/06/15 19:10:38 WARN DAGScheduler: Broadcasting large task binary with size 1121.6 KiB\n",
      "22/06/15 19:10:38 WARN DAGScheduler: Broadcasting large task binary with size 1124.2 KiB\n",
      "22/06/15 19:10:38 WARN DAGScheduler: Broadcasting large task binary with size 1124.6 KiB\n",
      "22/06/15 19:10:38 WARN DAGScheduler: Broadcasting large task binary with size 1125.2 KiB\n",
      "22/06/15 19:10:38 WARN DAGScheduler: Broadcasting large task binary with size 1126.3 KiB\n",
      "22/06/15 19:10:38 WARN DAGScheduler: Broadcasting large task binary with size 1128.7 KiB\n",
      "22/06/15 19:10:39 WARN DAGScheduler: Broadcasting large task binary with size 1131.2 KiB\n",
      "22/06/15 19:10:39 WARN DAGScheduler: Broadcasting large task binary with size 1131.7 KiB\n",
      "22/06/15 19:10:39 WARN DAGScheduler: Broadcasting large task binary with size 1132.3 KiB\n",
      "22/06/15 19:10:39 WARN DAGScheduler: Broadcasting large task binary with size 1133.4 KiB\n",
      "22/06/15 19:10:39 WARN DAGScheduler: Broadcasting large task binary with size 1135.7 KiB\n",
      "22/06/15 19:10:39 WARN DAGScheduler: Broadcasting large task binary with size 1138.3 KiB\n",
      "22/06/15 19:10:39 WARN DAGScheduler: Broadcasting large task binary with size 1138.7 KiB\n",
      "22/06/15 19:10:39 WARN DAGScheduler: Broadcasting large task binary with size 1139.3 KiB\n",
      "22/06/15 19:10:40 WARN DAGScheduler: Broadcasting large task binary with size 1140.5 KiB\n",
      "22/06/15 19:10:40 WARN DAGScheduler: Broadcasting large task binary with size 1142.8 KiB\n",
      "22/06/15 19:10:40 WARN DAGScheduler: Broadcasting large task binary with size 1145.4 KiB\n",
      "22/06/15 19:10:40 WARN DAGScheduler: Broadcasting large task binary with size 1145.8 KiB\n",
      "22/06/15 19:10:40 WARN DAGScheduler: Broadcasting large task binary with size 1146.4 KiB\n",
      "22/06/15 19:10:40 WARN DAGScheduler: Broadcasting large task binary with size 1147.6 KiB\n",
      "22/06/15 19:10:40 WARN DAGScheduler: Broadcasting large task binary with size 1149.9 KiB\n",
      "22/06/15 19:10:41 WARN DAGScheduler: Broadcasting large task binary with size 1152.3 KiB\n",
      "22/06/15 19:10:41 WARN DAGScheduler: Broadcasting large task binary with size 1152.8 KiB\n",
      "22/06/15 19:10:41 WARN DAGScheduler: Broadcasting large task binary with size 1153.4 KiB\n",
      "22/06/15 19:10:41 WARN DAGScheduler: Broadcasting large task binary with size 1154.5 KiB\n",
      "22/06/15 19:10:41 WARN DAGScheduler: Broadcasting large task binary with size 1156.9 KiB\n",
      "22/06/15 19:10:41 WARN DAGScheduler: Broadcasting large task binary with size 1159.5 KiB\n",
      "22/06/15 19:10:41 WARN DAGScheduler: Broadcasting large task binary with size 1160.0 KiB\n",
      "22/06/15 19:10:41 WARN DAGScheduler: Broadcasting large task binary with size 1160.6 KiB\n",
      "22/06/15 19:10:42 WARN DAGScheduler: Broadcasting large task binary with size 1161.7 KiB\n",
      "22/06/15 19:10:42 WARN DAGScheduler: Broadcasting large task binary with size 1163.8 KiB\n",
      "22/06/15 19:10:42 WARN DAGScheduler: Broadcasting large task binary with size 1166.3 KiB\n",
      "22/06/15 19:10:42 WARN DAGScheduler: Broadcasting large task binary with size 1166.8 KiB\n",
      "22/06/15 19:10:42 WARN DAGScheduler: Broadcasting large task binary with size 1167.4 KiB\n",
      "22/06/15 19:10:42 WARN DAGScheduler: Broadcasting large task binary with size 1168.5 KiB\n",
      "22/06/15 19:10:42 WARN DAGScheduler: Broadcasting large task binary with size 1170.8 KiB\n",
      "22/06/15 19:10:43 WARN DAGScheduler: Broadcasting large task binary with size 1173.2 KiB\n",
      "22/06/15 19:10:43 WARN DAGScheduler: Broadcasting large task binary with size 1173.7 KiB\n",
      "22/06/15 19:10:43 WARN DAGScheduler: Broadcasting large task binary with size 1174.3 KiB\n",
      "22/06/15 19:10:43 WARN DAGScheduler: Broadcasting large task binary with size 1175.5 KiB\n",
      "22/06/15 19:10:43 WARN DAGScheduler: Broadcasting large task binary with size 1177.8 KiB\n",
      "22/06/15 19:10:43 WARN DAGScheduler: Broadcasting large task binary with size 1180.3 KiB\n",
      "22/06/15 19:10:43 WARN DAGScheduler: Broadcasting large task binary with size 1180.8 KiB\n",
      "22/06/15 19:10:44 WARN DAGScheduler: Broadcasting large task binary with size 1181.4 KiB\n",
      "22/06/15 19:10:44 WARN DAGScheduler: Broadcasting large task binary with size 1182.6 KiB\n",
      "22/06/15 19:10:44 WARN DAGScheduler: Broadcasting large task binary with size 1184.7 KiB\n",
      "22/06/15 19:10:44 WARN DAGScheduler: Broadcasting large task binary with size 1187.1 KiB\n",
      "22/06/15 19:10:44 WARN DAGScheduler: Broadcasting large task binary with size 1187.6 KiB\n",
      "22/06/15 19:10:44 WARN DAGScheduler: Broadcasting large task binary with size 1188.2 KiB\n",
      "22/06/15 19:10:44 WARN DAGScheduler: Broadcasting large task binary with size 1189.4 KiB\n",
      "22/06/15 19:10:45 WARN DAGScheduler: Broadcasting large task binary with size 1191.7 KiB\n",
      "22/06/15 19:10:45 WARN DAGScheduler: Broadcasting large task binary with size 1194.4 KiB\n",
      "22/06/15 19:10:45 WARN DAGScheduler: Broadcasting large task binary with size 1194.9 KiB\n",
      "22/06/15 19:10:45 WARN DAGScheduler: Broadcasting large task binary with size 1195.5 KiB\n",
      "22/06/15 19:10:45 WARN DAGScheduler: Broadcasting large task binary with size 1196.6 KiB\n",
      "22/06/15 19:10:45 WARN DAGScheduler: Broadcasting large task binary with size 1199.1 KiB\n",
      "22/06/15 19:10:45 WARN DAGScheduler: Broadcasting large task binary with size 1201.8 KiB\n",
      "22/06/15 19:10:45 WARN DAGScheduler: Broadcasting large task binary with size 1202.3 KiB\n",
      "22/06/15 19:10:46 WARN DAGScheduler: Broadcasting large task binary with size 1202.9 KiB\n",
      "22/06/15 19:10:46 WARN DAGScheduler: Broadcasting large task binary with size 1204.1 KiB\n",
      "22/06/15 19:10:46 WARN DAGScheduler: Broadcasting large task binary with size 1206.4 KiB\n",
      "22/06/15 19:10:46 WARN DAGScheduler: Broadcasting large task binary with size 1209.2 KiB\n",
      "22/06/15 19:10:46 WARN DAGScheduler: Broadcasting large task binary with size 1209.6 KiB\n",
      "22/06/15 19:10:46 WARN DAGScheduler: Broadcasting large task binary with size 1210.2 KiB\n",
      "22/06/15 19:10:46 WARN DAGScheduler: Broadcasting large task binary with size 1211.4 KiB\n",
      "22/06/15 19:10:47 WARN DAGScheduler: Broadcasting large task binary with size 1213.7 KiB\n",
      "22/06/15 19:10:47 WARN DAGScheduler: Broadcasting large task binary with size 1216.5 KiB\n",
      "22/06/15 19:10:47 WARN DAGScheduler: Broadcasting large task binary with size 1216.9 KiB\n",
      "22/06/15 19:10:47 WARN DAGScheduler: Broadcasting large task binary with size 1217.5 KiB\n",
      "22/06/15 19:10:47 WARN DAGScheduler: Broadcasting large task binary with size 1218.7 KiB\n",
      "22/06/15 19:10:47 WARN DAGScheduler: Broadcasting large task binary with size 1221.0 KiB\n",
      "22/06/15 19:10:47 WARN DAGScheduler: Broadcasting large task binary with size 1223.7 KiB\n",
      "22/06/15 19:10:48 WARN DAGScheduler: Broadcasting large task binary with size 1224.2 KiB\n",
      "22/06/15 19:10:48 WARN DAGScheduler: Broadcasting large task binary with size 1224.8 KiB\n",
      "22/06/15 19:10:48 WARN DAGScheduler: Broadcasting large task binary with size 1225.9 KiB\n",
      "22/06/15 19:10:48 WARN DAGScheduler: Broadcasting large task binary with size 1228.2 KiB\n",
      "22/06/15 19:10:48 WARN DAGScheduler: Broadcasting large task binary with size 1230.8 KiB\n",
      "22/06/15 19:10:48 WARN DAGScheduler: Broadcasting large task binary with size 1231.3 KiB\n",
      "22/06/15 19:10:48 WARN DAGScheduler: Broadcasting large task binary with size 1231.8 KiB\n",
      "22/06/15 19:10:49 WARN DAGScheduler: Broadcasting large task binary with size 1233.0 KiB\n",
      "22/06/15 19:10:49 WARN DAGScheduler: Broadcasting large task binary with size 1235.3 KiB\n",
      "22/06/15 19:10:49 WARN DAGScheduler: Broadcasting large task binary with size 1238.0 KiB\n",
      "22/06/15 19:10:49 WARN DAGScheduler: Broadcasting large task binary with size 1238.5 KiB\n",
      "22/06/15 19:10:49 WARN DAGScheduler: Broadcasting large task binary with size 1239.1 KiB\n",
      "22/06/15 19:10:49 WARN DAGScheduler: Broadcasting large task binary with size 1240.2 KiB\n",
      "22/06/15 19:10:49 WARN DAGScheduler: Broadcasting large task binary with size 1242.6 KiB\n",
      "22/06/15 19:10:50 WARN DAGScheduler: Broadcasting large task binary with size 1245.1 KiB\n",
      "22/06/15 19:10:50 WARN DAGScheduler: Broadcasting large task binary with size 1245.6 KiB\n",
      "22/06/15 19:10:50 WARN DAGScheduler: Broadcasting large task binary with size 1246.2 KiB\n",
      "22/06/15 19:10:50 WARN DAGScheduler: Broadcasting large task binary with size 1247.4 KiB\n",
      "22/06/15 19:10:50 WARN DAGScheduler: Broadcasting large task binary with size 1249.5 KiB\n",
      "22/06/15 19:10:50 WARN DAGScheduler: Broadcasting large task binary with size 1251.9 KiB\n",
      "22/06/15 19:10:50 WARN DAGScheduler: Broadcasting large task binary with size 1252.4 KiB\n",
      "22/06/15 19:10:50 WARN DAGScheduler: Broadcasting large task binary with size 1253.0 KiB\n",
      "22/06/15 19:10:51 WARN DAGScheduler: Broadcasting large task binary with size 1254.1 KiB\n",
      "22/06/15 19:10:51 WARN DAGScheduler: Broadcasting large task binary with size 1256.4 KiB\n",
      "22/06/15 19:10:51 WARN DAGScheduler: Broadcasting large task binary with size 1259.0 KiB\n",
      "22/06/15 19:10:51 WARN DAGScheduler: Broadcasting large task binary with size 1259.5 KiB\n",
      "22/06/15 19:10:51 WARN DAGScheduler: Broadcasting large task binary with size 1260.1 KiB\n",
      "22/06/15 19:10:51 WARN DAGScheduler: Broadcasting large task binary with size 1261.2 KiB\n",
      "22/06/15 19:10:51 WARN DAGScheduler: Broadcasting large task binary with size 1263.5 KiB\n",
      "22/06/15 19:10:52 WARN DAGScheduler: Broadcasting large task binary with size 1266.0 KiB\n",
      "22/06/15 19:10:52 WARN DAGScheduler: Broadcasting large task binary with size 1266.5 KiB\n",
      "22/06/15 19:10:52 WARN DAGScheduler: Broadcasting large task binary with size 1267.1 KiB\n",
      "22/06/15 19:10:52 WARN DAGScheduler: Broadcasting large task binary with size 1268.2 KiB\n",
      "22/06/15 19:10:52 WARN DAGScheduler: Broadcasting large task binary with size 1270.5 KiB\n",
      "22/06/15 19:10:52 WARN DAGScheduler: Broadcasting large task binary with size 1273.1 KiB\n",
      "22/06/15 19:10:52 WARN DAGScheduler: Broadcasting large task binary with size 1273.6 KiB\n",
      "22/06/15 19:10:53 WARN DAGScheduler: Broadcasting large task binary with size 1274.2 KiB\n",
      "22/06/15 19:10:53 WARN DAGScheduler: Broadcasting large task binary with size 1275.4 KiB\n",
      "22/06/15 19:10:53 WARN DAGScheduler: Broadcasting large task binary with size 1277.7 KiB\n",
      "22/06/15 19:10:53 WARN DAGScheduler: Broadcasting large task binary with size 1280.4 KiB\n",
      "22/06/15 19:10:53 WARN DAGScheduler: Broadcasting large task binary with size 1280.9 KiB\n",
      "22/06/15 19:10:53 WARN DAGScheduler: Broadcasting large task binary with size 1281.5 KiB\n",
      "22/06/15 19:10:54 WARN DAGScheduler: Broadcasting large task binary with size 1282.6 KiB\n",
      "22/06/15 19:10:54 WARN DAGScheduler: Broadcasting large task binary with size 1285.0 KiB\n",
      "22/06/15 19:10:54 WARN DAGScheduler: Broadcasting large task binary with size 1287.7 KiB\n",
      "22/06/15 19:10:54 WARN DAGScheduler: Broadcasting large task binary with size 1288.2 KiB\n",
      "22/06/15 19:10:54 WARN DAGScheduler: Broadcasting large task binary with size 1288.8 KiB\n",
      "22/06/15 19:10:54 WARN DAGScheduler: Broadcasting large task binary with size 1289.9 KiB\n",
      "22/06/15 19:10:55 WARN DAGScheduler: Broadcasting large task binary with size 1292.0 KiB\n",
      "22/06/15 19:10:55 WARN DAGScheduler: Broadcasting large task binary with size 1294.2 KiB\n",
      "22/06/15 19:10:55 WARN DAGScheduler: Broadcasting large task binary with size 1294.6 KiB\n",
      "22/06/15 19:10:55 WARN DAGScheduler: Broadcasting large task binary with size 1295.2 KiB\n",
      "22/06/15 19:10:55 WARN DAGScheduler: Broadcasting large task binary with size 1296.4 KiB\n",
      "22/06/15 19:10:55 WARN DAGScheduler: Broadcasting large task binary with size 1298.6 KiB\n",
      "22/06/15 19:10:56 WARN DAGScheduler: Broadcasting large task binary with size 1301.0 KiB\n",
      "22/06/15 19:10:56 WARN DAGScheduler: Broadcasting large task binary with size 1301.4 KiB\n",
      "22/06/15 19:10:56 WARN DAGScheduler: Broadcasting large task binary with size 1302.0 KiB\n",
      "22/06/15 19:10:56 WARN DAGScheduler: Broadcasting large task binary with size 1303.2 KiB\n",
      "22/06/15 19:10:56 WARN DAGScheduler: Broadcasting large task binary with size 1305.4 KiB\n",
      "22/06/15 19:10:56 WARN DAGScheduler: Broadcasting large task binary with size 1308.0 KiB\n",
      "22/06/15 19:10:57 WARN DAGScheduler: Broadcasting large task binary with size 1308.5 KiB\n",
      "22/06/15 19:10:57 WARN DAGScheduler: Broadcasting large task binary with size 1309.1 KiB\n",
      "22/06/15 19:10:57 WARN DAGScheduler: Broadcasting large task binary with size 1310.3 KiB\n",
      "22/06/15 19:10:57 WARN DAGScheduler: Broadcasting large task binary with size 1312.3 KiB\n",
      "22/06/15 19:10:57 WARN DAGScheduler: Broadcasting large task binary with size 1314.7 KiB\n",
      "22/06/15 19:10:57 WARN DAGScheduler: Broadcasting large task binary with size 1315.2 KiB\n",
      "22/06/15 19:10:57 WARN DAGScheduler: Broadcasting large task binary with size 1315.7 KiB\n",
      "22/06/15 19:10:58 WARN DAGScheduler: Broadcasting large task binary with size 1316.9 KiB\n",
      "22/06/15 19:10:58 WARN DAGScheduler: Broadcasting large task binary with size 1319.2 KiB\n",
      "22/06/15 19:10:58 WARN DAGScheduler: Broadcasting large task binary with size 1321.7 KiB\n",
      "22/06/15 19:10:58 WARN DAGScheduler: Broadcasting large task binary with size 1322.1 KiB\n",
      "22/06/15 19:10:58 WARN DAGScheduler: Broadcasting large task binary with size 1322.7 KiB\n",
      "22/06/15 19:10:58 WARN DAGScheduler: Broadcasting large task binary with size 1323.9 KiB\n",
      "22/06/15 19:10:58 WARN DAGScheduler: Broadcasting large task binary with size 1326.0 KiB\n",
      "22/06/15 19:10:59 WARN DAGScheduler: Broadcasting large task binary with size 1328.4 KiB\n",
      "22/06/15 19:10:59 WARN DAGScheduler: Broadcasting large task binary with size 1328.9 KiB\n",
      "22/06/15 19:10:59 WARN DAGScheduler: Broadcasting large task binary with size 1329.5 KiB\n",
      "22/06/15 19:10:59 WARN DAGScheduler: Broadcasting large task binary with size 1330.7 KiB\n",
      "22/06/15 19:10:59 WARN DAGScheduler: Broadcasting large task binary with size 1332.8 KiB\n",
      "22/06/15 19:10:59 WARN DAGScheduler: Broadcasting large task binary with size 1335.3 KiB\n",
      "22/06/15 19:11:00 WARN DAGScheduler: Broadcasting large task binary with size 1335.8 KiB\n",
      "22/06/15 19:11:00 WARN DAGScheduler: Broadcasting large task binary with size 1336.4 KiB\n",
      "22/06/15 19:11:00 WARN DAGScheduler: Broadcasting large task binary with size 1337.5 KiB\n",
      "22/06/15 19:11:00 WARN DAGScheduler: Broadcasting large task binary with size 1339.8 KiB\n",
      "22/06/15 19:11:00 WARN DAGScheduler: Broadcasting large task binary with size 1342.4 KiB\n",
      "22/06/15 19:11:00 WARN DAGScheduler: Broadcasting large task binary with size 1342.9 KiB\n",
      "22/06/15 19:11:00 WARN DAGScheduler: Broadcasting large task binary with size 1343.5 KiB\n",
      "22/06/15 19:11:01 WARN DAGScheduler: Broadcasting large task binary with size 1344.6 KiB\n",
      "22/06/15 19:11:01 WARN DAGScheduler: Broadcasting large task binary with size 1346.9 KiB\n",
      "22/06/15 19:11:01 WARN DAGScheduler: Broadcasting large task binary with size 1349.2 KiB\n",
      "22/06/15 19:11:01 WARN DAGScheduler: Broadcasting large task binary with size 1349.7 KiB\n",
      "22/06/15 19:11:01 WARN DAGScheduler: Broadcasting large task binary with size 1350.3 KiB\n",
      "22/06/15 19:11:01 WARN DAGScheduler: Broadcasting large task binary with size 1351.4 KiB\n",
      "22/06/15 19:11:01 WARN DAGScheduler: Broadcasting large task binary with size 1353.7 KiB\n",
      "22/06/15 19:11:02 WARN DAGScheduler: Broadcasting large task binary with size 1356.3 KiB\n",
      "22/06/15 19:11:02 WARN DAGScheduler: Broadcasting large task binary with size 1356.8 KiB\n",
      "22/06/15 19:11:02 WARN DAGScheduler: Broadcasting large task binary with size 1357.4 KiB\n",
      "22/06/15 19:11:02 WARN DAGScheduler: Broadcasting large task binary with size 1358.5 KiB\n",
      "22/06/15 19:11:02 WARN DAGScheduler: Broadcasting large task binary with size 1360.8 KiB\n",
      "22/06/15 19:11:02 WARN DAGScheduler: Broadcasting large task binary with size 1363.4 KiB\n",
      "22/06/15 19:11:03 WARN DAGScheduler: Broadcasting large task binary with size 1363.9 KiB\n",
      "22/06/15 19:11:03 WARN DAGScheduler: Broadcasting large task binary with size 1364.5 KiB\n",
      "22/06/15 19:11:03 WARN DAGScheduler: Broadcasting large task binary with size 1365.6 KiB\n",
      "22/06/15 19:11:03 WARN DAGScheduler: Broadcasting large task binary with size 1367.9 KiB\n",
      "22/06/15 19:11:03 WARN DAGScheduler: Broadcasting large task binary with size 1370.5 KiB\n",
      "22/06/15 19:11:03 WARN DAGScheduler: Broadcasting large task binary with size 1371.0 KiB\n",
      "22/06/15 19:11:03 WARN DAGScheduler: Broadcasting large task binary with size 1371.6 KiB\n",
      "22/06/15 19:11:04 WARN DAGScheduler: Broadcasting large task binary with size 1372.7 KiB\n",
      "22/06/15 19:11:04 WARN DAGScheduler: Broadcasting large task binary with size 1374.8 KiB\n",
      "22/06/15 19:11:04 WARN DAGScheduler: Broadcasting large task binary with size 1377.3 KiB\n",
      "22/06/15 19:11:04 WARN DAGScheduler: Broadcasting large task binary with size 1377.8 KiB\n",
      "22/06/15 19:11:04 WARN DAGScheduler: Broadcasting large task binary with size 1378.4 KiB\n",
      "22/06/15 19:11:05 WARN DAGScheduler: Broadcasting large task binary with size 1379.5 KiB\n",
      "22/06/15 19:11:05 WARN DAGScheduler: Broadcasting large task binary with size 1381.9 KiB\n",
      "22/06/15 19:11:05 WARN DAGScheduler: Broadcasting large task binary with size 1384.6 KiB\n",
      "22/06/15 19:11:05 WARN DAGScheduler: Broadcasting large task binary with size 1385.0 KiB\n",
      "22/06/15 19:11:05 WARN DAGScheduler: Broadcasting large task binary with size 1385.6 KiB\n",
      "22/06/15 19:11:05 WARN DAGScheduler: Broadcasting large task binary with size 1386.8 KiB\n",
      "22/06/15 19:11:06 WARN DAGScheduler: Broadcasting large task binary with size 1389.1 KiB\n",
      "22/06/15 19:11:06 WARN DAGScheduler: Broadcasting large task binary with size 1391.5 KiB\n",
      "22/06/15 19:11:06 WARN DAGScheduler: Broadcasting large task binary with size 1392.0 KiB\n",
      "22/06/15 19:11:06 WARN DAGScheduler: Broadcasting large task binary with size 1392.6 KiB\n",
      "22/06/15 19:11:06 WARN DAGScheduler: Broadcasting large task binary with size 1393.7 KiB\n",
      "22/06/15 19:11:06 WARN DAGScheduler: Broadcasting large task binary with size 1396.1 KiB\n",
      "22/06/15 19:11:07 WARN DAGScheduler: Broadcasting large task binary with size 1398.6 KiB\n",
      "22/06/15 19:11:07 WARN DAGScheduler: Broadcasting large task binary with size 1399.1 KiB\n",
      "22/06/15 19:11:07 WARN DAGScheduler: Broadcasting large task binary with size 1399.7 KiB\n",
      "22/06/15 19:11:07 WARN DAGScheduler: Broadcasting large task binary with size 1400.9 KiB\n",
      "22/06/15 19:11:07 WARN DAGScheduler: Broadcasting large task binary with size 1403.2 KiB\n",
      "22/06/15 19:11:07 WARN DAGScheduler: Broadcasting large task binary with size 1405.8 KiB\n",
      "22/06/15 19:11:08 WARN DAGScheduler: Broadcasting large task binary with size 1406.2 KiB\n",
      "22/06/15 19:11:08 WARN DAGScheduler: Broadcasting large task binary with size 1406.8 KiB\n",
      "22/06/15 19:11:08 WARN DAGScheduler: Broadcasting large task binary with size 1407.9 KiB\n",
      "22/06/15 19:11:08 WARN DAGScheduler: Broadcasting large task binary with size 1410.3 KiB\n",
      "22/06/15 19:11:08 WARN DAGScheduler: Broadcasting large task binary with size 1412.8 KiB\n",
      "22/06/15 19:11:08 WARN DAGScheduler: Broadcasting large task binary with size 1413.3 KiB\n",
      "22/06/15 19:11:08 WARN DAGScheduler: Broadcasting large task binary with size 1413.8 KiB\n",
      "22/06/15 19:11:09 WARN DAGScheduler: Broadcasting large task binary with size 1415.0 KiB\n",
      "22/06/15 19:11:09 WARN DAGScheduler: Broadcasting large task binary with size 1417.3 KiB\n",
      "22/06/15 19:11:09 WARN DAGScheduler: Broadcasting large task binary with size 1419.9 KiB\n",
      "22/06/15 19:11:09 WARN DAGScheduler: Broadcasting large task binary with size 1420.4 KiB\n",
      "22/06/15 19:11:09 WARN DAGScheduler: Broadcasting large task binary with size 1421.0 KiB\n",
      "22/06/15 19:11:09 WARN DAGScheduler: Broadcasting large task binary with size 1422.2 KiB\n",
      "22/06/15 19:11:10 WARN DAGScheduler: Broadcasting large task binary with size 1424.6 KiB\n",
      "22/06/15 19:11:10 WARN DAGScheduler: Broadcasting large task binary with size 1427.3 KiB\n",
      "22/06/15 19:11:10 WARN DAGScheduler: Broadcasting large task binary with size 1427.7 KiB\n",
      "22/06/15 19:11:10 WARN DAGScheduler: Broadcasting large task binary with size 1428.3 KiB\n",
      "22/06/15 19:11:10 WARN DAGScheduler: Broadcasting large task binary with size 1429.5 KiB\n",
      "22/06/15 19:11:10 WARN DAGScheduler: Broadcasting large task binary with size 1431.8 KiB\n",
      "22/06/15 19:11:11 WARN DAGScheduler: Broadcasting large task binary with size 1434.5 KiB\n",
      "22/06/15 19:11:11 WARN DAGScheduler: Broadcasting large task binary with size 1435.0 KiB\n",
      "22/06/15 19:11:11 WARN DAGScheduler: Broadcasting large task binary with size 1435.5 KiB\n",
      "22/06/15 19:11:11 WARN DAGScheduler: Broadcasting large task binary with size 1436.7 KiB\n",
      "22/06/15 19:11:11 WARN DAGScheduler: Broadcasting large task binary with size 1439.0 KiB\n",
      "22/06/15 19:11:11 WARN DAGScheduler: Broadcasting large task binary with size 1441.7 KiB\n",
      "22/06/15 19:11:12 WARN DAGScheduler: Broadcasting large task binary with size 1442.2 KiB\n",
      "22/06/15 19:11:12 WARN DAGScheduler: Broadcasting large task binary with size 1442.8 KiB\n",
      "22/06/15 19:11:12 WARN DAGScheduler: Broadcasting large task binary with size 1444.0 KiB\n",
      "22/06/15 19:11:12 WARN DAGScheduler: Broadcasting large task binary with size 1446.4 KiB\n",
      "22/06/15 19:11:12 WARN DAGScheduler: Broadcasting large task binary with size 1449.0 KiB\n",
      "22/06/15 19:11:12 WARN DAGScheduler: Broadcasting large task binary with size 1449.5 KiB\n",
      "22/06/15 19:11:13 WARN DAGScheduler: Broadcasting large task binary with size 1450.1 KiB\n",
      "22/06/15 19:11:13 WARN DAGScheduler: Broadcasting large task binary with size 1451.2 KiB\n",
      "22/06/15 19:11:13 WARN DAGScheduler: Broadcasting large task binary with size 1453.6 KiB\n",
      "22/06/15 19:11:13 WARN DAGScheduler: Broadcasting large task binary with size 1456.2 KiB\n",
      "22/06/15 19:11:13 WARN DAGScheduler: Broadcasting large task binary with size 1456.6 KiB\n",
      "22/06/15 19:11:13 WARN DAGScheduler: Broadcasting large task binary with size 1457.2 KiB\n",
      "22/06/15 19:11:14 WARN DAGScheduler: Broadcasting large task binary with size 1458.4 KiB\n",
      "22/06/15 19:11:14 WARN DAGScheduler: Broadcasting large task binary with size 1460.7 KiB\n",
      "22/06/15 19:11:14 WARN DAGScheduler: Broadcasting large task binary with size 1463.3 KiB\n",
      "22/06/15 19:11:14 WARN DAGScheduler: Broadcasting large task binary with size 1463.8 KiB\n",
      "22/06/15 19:11:14 WARN DAGScheduler: Broadcasting large task binary with size 1464.4 KiB\n",
      "22/06/15 19:11:14 WARN DAGScheduler: Broadcasting large task binary with size 1465.6 KiB\n",
      "22/06/15 19:11:14 WARN DAGScheduler: Broadcasting large task binary with size 1467.8 KiB\n",
      "22/06/15 19:11:15 WARN DAGScheduler: Broadcasting large task binary with size 1470.5 KiB\n",
      "22/06/15 19:11:15 WARN DAGScheduler: Broadcasting large task binary with size 1470.9 KiB\n",
      "22/06/15 19:11:15 WARN DAGScheduler: Broadcasting large task binary with size 1471.5 KiB\n",
      "22/06/15 19:11:15 WARN DAGScheduler: Broadcasting large task binary with size 1472.7 KiB\n",
      "22/06/15 19:11:15 WARN DAGScheduler: Broadcasting large task binary with size 1475.0 KiB\n",
      "22/06/15 19:11:15 WARN DAGScheduler: Broadcasting large task binary with size 1477.7 KiB\n",
      "22/06/15 19:11:16 WARN DAGScheduler: Broadcasting large task binary with size 1478.1 KiB\n",
      "22/06/15 19:11:16 WARN DAGScheduler: Broadcasting large task binary with size 1478.7 KiB\n",
      "22/06/15 19:11:16 WARN DAGScheduler: Broadcasting large task binary with size 1479.9 KiB\n",
      "22/06/15 19:11:16 WARN DAGScheduler: Broadcasting large task binary with size 1482.2 KiB\n",
      "22/06/15 19:11:16 WARN DAGScheduler: Broadcasting large task binary with size 1484.9 KiB\n",
      "22/06/15 19:11:16 WARN DAGScheduler: Broadcasting large task binary with size 1485.4 KiB\n",
      "22/06/15 19:11:17 WARN DAGScheduler: Broadcasting large task binary with size 1486.0 KiB\n",
      "22/06/15 19:11:17 WARN DAGScheduler: Broadcasting large task binary with size 1487.1 KiB\n",
      "22/06/15 19:11:17 WARN DAGScheduler: Broadcasting large task binary with size 1489.5 KiB\n",
      "22/06/15 19:11:17 WARN DAGScheduler: Broadcasting large task binary with size 1492.0 KiB\n",
      "22/06/15 19:11:17 WARN DAGScheduler: Broadcasting large task binary with size 1492.5 KiB\n",
      "22/06/15 19:11:17 WARN DAGScheduler: Broadcasting large task binary with size 1493.1 KiB\n",
      "22/06/15 19:11:18 WARN DAGScheduler: Broadcasting large task binary with size 1494.2 KiB\n",
      "22/06/15 19:11:18 WARN DAGScheduler: Broadcasting large task binary with size 1496.6 KiB\n",
      "22/06/15 19:11:18 WARN DAGScheduler: Broadcasting large task binary with size 1499.1 KiB\n",
      "22/06/15 19:11:18 WARN DAGScheduler: Broadcasting large task binary with size 1499.6 KiB\n",
      "22/06/15 19:11:18 WARN DAGScheduler: Broadcasting large task binary with size 1500.2 KiB\n",
      "22/06/15 19:11:18 WARN DAGScheduler: Broadcasting large task binary with size 1501.4 KiB\n",
      "22/06/15 19:11:19 WARN DAGScheduler: Broadcasting large task binary with size 1503.7 KiB\n",
      "22/06/15 19:11:19 WARN DAGScheduler: Broadcasting large task binary with size 1506.5 KiB\n",
      "22/06/15 19:11:19 WARN DAGScheduler: Broadcasting large task binary with size 1506.9 KiB\n",
      "22/06/15 19:11:19 WARN DAGScheduler: Broadcasting large task binary with size 1507.5 KiB\n",
      "22/06/15 19:11:19 WARN DAGScheduler: Broadcasting large task binary with size 1508.6 KiB\n",
      "22/06/15 19:11:19 WARN DAGScheduler: Broadcasting large task binary with size 1511.0 KiB\n",
      "22/06/15 19:11:20 WARN DAGScheduler: Broadcasting large task binary with size 1513.5 KiB\n",
      "22/06/15 19:11:20 WARN DAGScheduler: Broadcasting large task binary with size 1514.0 KiB\n",
      "22/06/15 19:11:20 WARN DAGScheduler: Broadcasting large task binary with size 1514.6 KiB\n",
      "22/06/15 19:11:20 WARN DAGScheduler: Broadcasting large task binary with size 1515.8 KiB\n",
      "22/06/15 19:11:20 WARN DAGScheduler: Broadcasting large task binary with size 1518.1 KiB\n",
      "22/06/15 19:11:21 WARN DAGScheduler: Broadcasting large task binary with size 1520.6 KiB\n",
      "22/06/15 19:11:21 WARN DAGScheduler: Broadcasting large task binary with size 1521.1 KiB\n",
      "22/06/15 19:11:21 WARN DAGScheduler: Broadcasting large task binary with size 1521.7 KiB\n",
      "22/06/15 19:11:21 WARN DAGScheduler: Broadcasting large task binary with size 1522.8 KiB\n",
      "22/06/15 19:11:21 WARN DAGScheduler: Broadcasting large task binary with size 1525.1 KiB\n"
     ]
    }
   ],
   "source": [
    "c_gbt = GBTClassifier(featuresCol='features', labelCol='is_fraud', maxDepth=5, maxIter=200)\n",
    "model_gbt = c_gbt.fit(train_downsampled)"
   ]
  },
  {
   "cell_type": "code",
   "execution_count": 80,
   "metadata": {},
   "outputs": [
    {
     "name": "stderr",
     "output_type": "stream",
     "text": [
      "22/06/15 19:11:22 WARN DAGScheduler: Broadcasting large task binary with size 1479.7 KiB\n",
      "22/06/15 19:11:23 WARN DAGScheduler: Broadcasting large task binary with size 1482.1 KiB\n",
      "[Stage 9257:================================>                     (12 + 8) / 20]\r"
     ]
    },
    {
     "name": "stdout",
     "output_type": "stream",
     "text": [
      "ROC area under curve Score: 0.9621769477457084\n",
      "PR area under curve Score: 0.8085279368131776\n",
      "Confusion Matrix:\n",
      "[[827  10]\n",
      " [ 13  63]]\n"
     ]
    },
    {
     "name": "stderr",
     "output_type": "stream",
     "text": [
      "                                                                                \r"
     ]
    },
    {
     "data": {
      "image/png": "[encoded data removed]",
      "text/plain": [
       "<Figure size 432x288 with 1 Axes>"
      ]
     },
     "metadata": {
      "needs_background": "light"
     },
     "output_type": "display_data"
    },
    {
     "data": {
      "image/png": "[encoded data removed]",
      "text/plain": [
       "<Figure size 432x288 with 1 Axes>"
      ]
     },
     "metadata": {
      "needs_background": "light"
     },
     "output_type": "display_data"
    },
    {
     "data": {
      "image/png": "[encoded data removed]",
      "text/plain": [
       "<Figure size 432x288 with 2 Axes>"
      ]
     },
     "metadata": {
      "needs_background": "light"
     },
     "output_type": "display_data"
    }
   ],
   "source": [
    "eval_model(model_gbt, test_downsampled)"
   ]
  },
  {
   "cell_type": "code",
   "execution_count": 81,
   "metadata": {},
   "outputs": [
    {
     "name": "stderr",
     "output_type": "stream",
     "text": [
      "22/06/15 19:11:26 WARN DAGScheduler: Broadcasting large task binary with size 1434.7 KiB\n",
      "22/06/15 19:11:33 WARN DAGScheduler: Broadcasting large task binary with size 1436.5 KiB\n",
      "                                                                                \r"
     ]
    },
    {
     "name": "stdout",
     "output_type": "stream",
     "text": [
      "ROC area under curve Score: 0.9768982802632011\n",
      "PR area under curve Score: 0.49317791163834057\n",
      "Confusion Matrix:\n",
      "[[1573185   18390]\n",
      " [   2122    7490]]\n"
     ]
    },
    {
     "data": {
      "image/png": "[encoded data removed]",
      "text/plain": [
       "<Figure size 432x288 with 1 Axes>"
      ]
     },
     "metadata": {
      "needs_background": "light"
     },
     "output_type": "display_data"
    },
    {
     "data": {
      "image/png": "[encoded data removed]",
      "text/plain": [
       "<Figure size 432x288 with 1 Axes>"
      ]
     },
     "metadata": {
      "needs_background": "light"
     },
     "output_type": "display_data"
    },
    {
     "data": {
      "image/png": "[encoded data removed]",
      "text/plain": [
       "<Figure size 432x288 with 2 Axes>"
      ]
     },
     "metadata": {
      "needs_background": "light"
     },
     "output_type": "display_data"
    }
   ],
   "source": [
    "eval_model(model_gbt, scoring_df)"
   ]
  },
  {
   "cell_type": "markdown",
   "metadata": {},
   "source": [
    "We'll select the Gradient Boosted Tree classsifier because it has the a good balance of ROC under the curve on our balanced test set, and good PR area under curve for the unbalanced scoring set."
   ]
  },
  {
   "cell_type": "markdown",
   "metadata": {},
   "source": [
    "<a id=\"df_training\"></a>\n",
    "## 1.7. Running Training on OCI DataFlow\n",
    "\n",
    "To run the training on the OCI DataFlow service, we first need to create the application code in one place.\n",
    "\n",
    "Here we gathered all our helper functions into one cell, with the main() taking a few input parameters. We'll use this file to create the DataFlow application.\n",
    "\n",
    "The %%writefile Jupyter magic saves the full cell into a single file. We need to define the path to be in what we will define as our dataflow base folder."
   ]
  },
  {
   "cell_type": "markdown",
   "metadata": {},
   "source": [
    "In this code, we also fold our data transformation and model training into a single pipeline."
   ]
  },
  {
   "cell_type": "code",
   "execution_count": 5,
   "metadata": {},
   "outputs": [],
   "source": [
    "# create the folder\n",
    "!mkdir -p ./dataflow"
   ]
  },
  {
   "cell_type": "code",
   "execution_count": 6,
   "metadata": {},
   "outputs": [],
   "source": [
    "dataflow_basefolder = '/home/datascience/workspace/notebooks/dataflow'"
   ]
  },
  {
   "cell_type": "markdown",
   "metadata": {},
   "source": [
    "<a id=\"training_script\"></a>\n",
    "### 1.7.1. DataFlow Training Application script"
   ]
  },
  {
   "cell_type": "code",
   "execution_count": 28,
   "metadata": {},
   "outputs": [
    {
     "name": "stdout",
     "output_type": "stream",
     "text": [
      "Overwriting /home/datascience/workspace/notebooks/dataflow/fraud_detection_model_training.py\n"
     ]
    }
   ],
   "source": [
    "%%writefile {dataflow_basefolder}/fraud_detection_model_training.py\n",
    "import sys\n",
    "import os\n",
    "import numpy as np\n",
    "\n",
    "# Importing pyspark libraries\n",
    "from pyspark.conf import SparkConf\n",
    "from pyspark.ml import Pipeline\n",
    "from pyspark.ml.classification import GBTClassifier\n",
    "from pyspark.ml.evaluation import BinaryClassificationEvaluator\n",
    "from pyspark.ml.feature import StringIndexer, OneHotEncoder, VectorAssembler\n",
    "from pyspark.sql import SparkSession\n",
    "from pyspark.sql.functions import *\n",
    "from pyspark.sql.types import FloatType\n",
    "\n",
    "#test2\n",
    "    \n",
    "def is_in_oci():\n",
    "    return os.environ.get(\"HOME\") == \"/home/dataflow\" or os.environ.get(\"HOME\") == \"/home/datascience\"\n",
    "\n",
    "\n",
    "def get_spark_session(app_name, file_location=None, profile_name=None, spark_config={}):\n",
    "    \"\"\"\n",
    "    Get a Spark session in a way that supports running locally or in Data Flow.\n",
    "    \"\"\"\n",
    "    \n",
    "    # If we are in DataFlow or DataScience, we assume the instance uses Instance Principal \n",
    "    # for authorization, and we can create a Spark Session Builder without config\n",
    "    if is_in_oci():\n",
    "        spark_builder = SparkSession.builder.appName(app_name)\n",
    "        \n",
    "    # If we run on a local machine, we need to provide authentication from the OCI config\n",
    "    else:\n",
    "        # Import OCI.\n",
    "        try:\n",
    "            import oci\n",
    "        except:\n",
    "            raise Exception(\n",
    "                \"You need to install the OCI python library to test locally\"\n",
    "            )\n",
    "        # Use defaults for anything unset.\n",
    "        if file_location is None:\n",
    "            file_location = oci.config.DEFAULT_LOCATION\n",
    "        if profile_name is None:\n",
    "            profile_name = oci.config.DEFAULT_PROFILE\n",
    "\n",
    "        # Load the config file.\n",
    "        try:\n",
    "            oci_config = oci.config.from_file(\n",
    "                file_location=file_location, profile_name=profile_name\n",
    "            )\n",
    "        except Exception as e:\n",
    "            print(\"You need to set up your OCI config properly to run locally\")\n",
    "            raise e\n",
    "        conf = SparkConf()\n",
    "        conf.set(\"fs.oci.client.auth.tenantId\", oci_config[\"tenancy\"])\n",
    "        conf.set(\"fs.oci.client.auth.userId\", oci_config[\"user\"])\n",
    "        conf.set(\"fs.oci.client.auth.fingerprint\", oci_config[\"fingerprint\"])\n",
    "        conf.set(\"fs.oci.client.auth.pemfilepath\", oci_config[\"key_file\"])\n",
    "        conf.set(\n",
    "            \"fs.oci.client.hostname\",\n",
    "            \"https://objectstorage.\\{0\\}.oraclecloud.com\".format(oci_config[\"region\"]),\n",
    "        )\n",
    "        spark_builder = SparkSession.builder.appName(app_name).config(conf=spark_config)\n",
    "\n",
    "    # Add in extra configuration.\n",
    "    for key, val in spark_config.items():\n",
    "        spark_builder.config(key, val)\n",
    "\n",
    "    # Create the Spark session.\n",
    "    session = spark_builder.getOrCreate()\n",
    "    return session\n",
    "\n",
    "\n",
    "def distance(lat, long, merch_lat, merch_long):\n",
    "\n",
    "    s_lat, s_lng, e_lat, e_lng = float(lat), float(long), float(merch_lat), float(merch_long)\n",
    "\n",
    "    # approximate radius of earth in km\n",
    "    R = 6373.0\n",
    "\n",
    "    s_lat = s_lat*np.pi/180.0                      \n",
    "    s_lng = np.deg2rad(s_lng)     \n",
    "    e_lat = np.deg2rad(e_lat)                       \n",
    "    e_lng = np.deg2rad(e_lng)  \n",
    "\n",
    "    d = np.sin((e_lat - s_lat)/2)**2 + np.cos(s_lat)*np.cos(e_lat) * np.sin((e_lng - s_lng)/2)**2\n",
    "\n",
    "    return float(2 * R * np.arcsin(np.sqrt(d)))\n",
    "\n",
    "\n",
    "def create_feature_columns(df):\n",
    "    # Augments the dataset with features we identified\n",
    "    \n",
    "    # drop unneeded columns\n",
    "    df = df.drop('ssn', 'cc_num', 'first', 'last', 'street', 'city', 'state', \n",
    "                 'zip', 'job', 'acct_num', 'profile', 'trans_num', 'unix_time', \n",
    "                 'merchant')\n",
    "\n",
    "    # transaction date and time features\n",
    "    df = df.withColumn('day_of_week', dayofweek(col('trans_date')))\n",
    "    df = df.withColumn('month_of_year', month(col('trans_date')))\n",
    "    df = df.withColumn('hour_of_day', hour(col('trans_time')))\n",
    "    df = df.withColumn('is_weekend', col('day_of_week').isin([1,7]).cast('int'))\n",
    "    \n",
    "    # distance\n",
    "    distance_udf = udf(lambda lat, long, merch_lat, merch_long: distance(lat, long, merch_lat, merch_long), FloatType())\n",
    "    df = df.withColumn(\"distance\", distance_udf(col('lat'), col('long'), col('merch_lat'), col('merch_long')))\n",
    "    \n",
    "    # customer age and gender\n",
    "    df = df.withColumn('age', floor(datediff(col('trans_date'), to_date(col('dob'), 'yyyy-mm-dd'))/365.25))\n",
    "    df = df.withColumn('gender', when((col('gender') == 'M'), 1).when((col('gender') == 'F'), 0).otherwise(-1))\n",
    "    \n",
    "    # drop no longer used columns\n",
    "    df = df.drop('dob', 'trans_date', 'trans_time')\n",
    "\n",
    "    return df\n",
    "\n",
    "\n",
    "def create_and_fit_model(df):\n",
    "    # Create a pipeline model encoding categorica features\n",
    "    # which can be re-used to evaluate the model\n",
    "    \n",
    "    # 1-hot encode merchant category\n",
    "    stringIndexer = StringIndexer(inputCol='category', outputCol='category_index')\n",
    "    encoder = OneHotEncoder(inputCols=[stringIndexer.getOutputCol()], outputCols=['category_classVec'])\n",
    "    \n",
    "    # assemble the feature vector with all numerical columns and the category 1-hot encoded column\n",
    "    numeric_columns = [col[0] for col in df.dtypes if col[1] in ['int', 'double'] and col[0] != 'is_fraud']\n",
    "    assembler_inputs = ['category_classVec'] + numeric_columns\n",
    "    assembler = VectorAssembler(inputCols=assembler_inputs, outputCol=\"features\")\n",
    "\n",
    "    # define the model\n",
    "    c_gbt = GBTClassifier(featuresCol='features', labelCol='is_fraud', maxDepth=15, maxIter=20, stepSize=0.05)\n",
    "    \n",
    "    # line up the stages for the whole process\n",
    "    stages = [stringIndexer, encoder, assembler, c_gbt]\n",
    "    \n",
    "    # put together the pipeline and fit it\n",
    "    pipeline = Pipeline(stages=stages)\n",
    "    pipeline_model = pipeline.fit(df)\n",
    "    return pipeline_model\n",
    "\n",
    "\n",
    "def main(input_data_path, model_output_path, debug, spark_config=None):\n",
    "    \n",
    "    sc = get_spark_session(app_name='Fraud Detection Model Training')\n",
    "    sc.conf.set(\"spark.sql.legacy.timeParserPolicy\",\"LEGACY\")\n",
    "    df = sc.read.option(\"delimiter\", \"|\").csv(input_data_path, header=True, inferSchema=True)\n",
    "\n",
    "    df = create_feature_columns(df)\n",
    "\n",
    "    # split into train and test sets\n",
    "    train, test = df.randomSplit([0.8, 0.2], seed = 2018)\n",
    "#     if debug == True:\n",
    "#         print(\"Training Dataset Count: \" + str(train.count()))\n",
    "#         print(\"Test Dataset Count: \" + str(test.count()))\n",
    "    \n",
    "    # downsample the majority class\n",
    "    train_downsampled = train.sampleBy('is_fraud', fractions = {1: 1, 0: 0.05}, seed= 1234)\n",
    "\n",
    "    # fit and train the model\n",
    "    model = create_and_fit_model(train_downsampled)\n",
    "    \n",
    "    # write the fitted model to file to use for inference\n",
    "    model.write().overwrite().save(model_output_path)\n",
    "    \n",
    "    if debug == True:\n",
    "        predictions = model.transform(test)\n",
    "        predictions.select('age', 'is_fraud', 'rawPrediction', 'prediction', 'probability').show(50)\n",
    "        evaluator = BinaryClassificationEvaluator(labelCol='is_fraud')\n",
    "        print(\"Test Area Under ROC: \" + str(evaluator.evaluate(predictions, {evaluator.metricName: \"areaUnderROC\"})))\n",
    "\n",
    "            \n",
    "\n",
    "if __name__ == \"__main__\":\n",
    "    input_data_path = sys.argv[1]\n",
    "    model_output_path = sys.argv[2]\n",
    "    debug = False\n",
    "    if sys.argv[3].lower() == 'true':\n",
    "        debug = True\n",
    "\n",
    "    main(input_data_path, model_output_path, debug)\n",
    "\n"
   ]
  },
  {
   "cell_type": "markdown",
   "metadata": {},
   "source": [
    "<a id=\"test_training\"></a>\n",
    "### 1.7.2. Test the DataFlow Application script locally\n",
    "\n",
    "We can test the application locally by importing our file and running the main function, with proper input values."
   ]
  },
  {
   "cell_type": "code",
   "execution_count": 8,
   "metadata": {},
   "outputs": [],
   "source": [
    "%load_ext autoreload\n",
    "%autoreload 2\n",
    "%reload_ext autoreload"
   ]
  },
  {
   "cell_type": "code",
   "execution_count": 9,
   "metadata": {},
   "outputs": [],
   "source": [
    "from dataflow.fraud_detection_model_training import main"
   ]
  },
  {
   "cell_type": "markdown",
   "metadata": {},
   "source": [
    "Let's set our parameters to access the local files and output local files."
   ]
  },
  {
   "cell_type": "code",
   "execution_count": 10,
   "metadata": {},
   "outputs": [],
   "source": [
    "data_folder = '/home/datascience/workspace/data/Sparkov_Data_Generation/data/'\n",
    "file_pattern = 'training set/small/*male*.csv'\n",
    "\n",
    "model_output_path = 'output/model/small'"
   ]
  },
  {
   "cell_type": "markdown",
   "metadata": {},
   "source": [
    "Now we can call our `main` function, and we'll pass specific spark_config parameters to run locally."
   ]
  },
  {
   "cell_type": "code",
   "execution_count": 12,
   "metadata": {},
   "outputs": [
    {
     "name": "stderr",
     "output_type": "stream",
     "text": [
      "22/06/14 17:03:37 WARN MemoryManager: Total allocation exceeds 95.00% (987,181,863 bytes) of heap memory\n",
      "Scaling row group sizes to 91.94% for 8 writers\n",
      "22/06/14 17:03:37 WARN MemoryManager: Total allocation exceeds 95.00% (987,181,863 bytes) of heap memory\n",
      "Scaling row group sizes to 81.72% for 9 writers\n",
      "22/06/14 17:03:37 WARN MemoryManager: Total allocation exceeds 95.00% (987,181,863 bytes) of heap memory\n",
      "Scaling row group sizes to 91.94% for 8 writers\n",
      "22/06/14 17:03:37 WARN MemoryManager: Total allocation exceeds 95.00% (987,181,863 bytes) of heap memory\n",
      "Scaling row group sizes to 91.94% for 8 writers\n",
      "22/06/14 17:03:37 WARN MemoryManager: Total allocation exceeds 95.00% (987,181,863 bytes) of heap memory\n",
      "Scaling row group sizes to 91.94% for 8 writers\n",
      "22/06/14 17:03:37 WARN MemoryManager: Total allocation exceeds 95.00% (987,181,863 bytes) of heap memory\n",
      "Scaling row group sizes to 81.72% for 9 writers\n",
      "22/06/14 17:03:37 WARN MemoryManager: Total allocation exceeds 95.00% (987,181,863 bytes) of heap memory\n",
      "Scaling row group sizes to 73.55% for 10 writers\n",
      "22/06/14 17:03:37 WARN MemoryManager: Total allocation exceeds 95.00% (987,181,863 bytes) of heap memory\n",
      "Scaling row group sizes to 66.86% for 11 writers\n",
      "22/06/14 17:03:37 WARN MemoryManager: Total allocation exceeds 95.00% (987,181,863 bytes) of heap memory\n",
      "Scaling row group sizes to 61.29% for 12 writers\n",
      "22/06/14 17:03:37 WARN MemoryManager: Total allocation exceeds 95.00% (987,181,863 bytes) of heap memory\n",
      "Scaling row group sizes to 56.58% for 13 writers\n",
      "22/06/14 17:03:37 WARN MemoryManager: Total allocation exceeds 95.00% (987,181,863 bytes) of heap memory\n",
      "Scaling row group sizes to 52.54% for 14 writers\n",
      "22/06/14 17:03:37 WARN MemoryManager: Total allocation exceeds 95.00% (987,181,863 bytes) of heap memory\n",
      "Scaling row group sizes to 49.03% for 15 writers\n",
      "22/06/14 17:03:37 WARN MemoryManager: Total allocation exceeds 95.00% (987,181,863 bytes) of heap memory\n",
      "Scaling row group sizes to 45.97% for 16 writers\n",
      "22/06/14 17:03:37 WARN MemoryManager: Total allocation exceeds 95.00% (987,181,863 bytes) of heap memory\n",
      "Scaling row group sizes to 49.03% for 15 writers\n",
      "22/06/14 17:03:37 WARN MemoryManager: Total allocation exceeds 95.00% (987,181,863 bytes) of heap memory\n",
      "Scaling row group sizes to 52.54% for 14 writers\n",
      "22/06/14 17:03:37 WARN MemoryManager: Total allocation exceeds 95.00% (987,181,863 bytes) of heap memory\n",
      "Scaling row group sizes to 56.58% for 13 writers\n",
      "22/06/14 17:03:37 WARN MemoryManager: Total allocation exceeds 95.00% (987,181,863 bytes) of heap memory\n",
      "Scaling row group sizes to 61.29% for 12 writers\n",
      "22/06/14 17:03:37 WARN MemoryManager: Total allocation exceeds 95.00% (987,181,863 bytes) of heap memory\n",
      "Scaling row group sizes to 66.86% for 11 writers\n",
      "22/06/14 17:03:37 WARN MemoryManager: Total allocation exceeds 95.00% (987,181,863 bytes) of heap memory\n",
      "Scaling row group sizes to 73.55% for 10 writers\n",
      "22/06/14 17:03:37 WARN MemoryManager: Total allocation exceeds 95.00% (987,181,863 bytes) of heap memory\n",
      "Scaling row group sizes to 81.72% for 9 writers\n",
      "22/06/14 17:03:37 WARN MemoryManager: Total allocation exceeds 95.00% (987,181,863 bytes) of heap memory\n",
      "Scaling row group sizes to 91.94% for 8 writers\n",
      "                                                                                \r"
     ]
    },
    {
     "name": "stdout",
     "output_type": "stream",
     "text": [
      "+---+--------+--------------------+----------+--------------------+\n",
      "|age|is_fraud|       rawPrediction|prediction|         probability|\n",
      "+---+--------+--------------------+----------+--------------------+\n",
      "| 26|       0|[1.33507788920967...|       0.0|[0.93524246659636...|\n",
      "| 26|       0|[1.33507788920967...|       0.0|[0.93524246659636...|\n",
      "| 26|       0|[1.33507788920967...|       0.0|[0.93524246659636...|\n",
      "| 26|       0|[1.33507788920967...|       0.0|[0.93524246659636...|\n",
      "| 26|       0|[1.33507788920967...|       0.0|[0.93524246659636...|\n",
      "| 26|       0|[1.33507788920967...|       0.0|[0.93524246659636...|\n",
      "| 26|       0|[1.33507788920967...|       0.0|[0.93524246659636...|\n",
      "| 26|       0|[1.33507788920967...|       0.0|[0.93524246659636...|\n",
      "| 26|       0|[1.33507788920967...|       0.0|[0.93524246659636...|\n",
      "| 26|       0|[1.33507788920967...|       0.0|[0.93524246659636...|\n",
      "| 26|       0|[1.33507788920967...|       0.0|[0.93524246659636...|\n",
      "| 26|       0|[1.33507788920967...|       0.0|[0.93524246659636...|\n",
      "| 26|       0|[1.33507788920967...|       0.0|[0.93524246659636...|\n",
      "| 26|       0|[1.33507788920967...|       0.0|[0.93524246659636...|\n",
      "| 26|       0|[1.33507788920967...|       0.0|[0.93524246659636...|\n",
      "| 26|       0|[1.33507788920967...|       0.0|[0.93524246659636...|\n",
      "| 26|       0|[1.33507788920967...|       0.0|[0.93524246659636...|\n",
      "| 26|       0|[1.33507788920967...|       0.0|[0.93524246659636...|\n",
      "| 26|       0|[1.33507788920967...|       0.0|[0.93524246659636...|\n",
      "| 26|       0|[1.33507788920967...|       0.0|[0.93524246659636...|\n",
      "| 26|       0|[1.33507788920967...|       0.0|[0.93524246659636...|\n",
      "| 26|       0|[1.33507788920967...|       0.0|[0.93524246659636...|\n",
      "| 26|       0|[1.33507788920967...|       0.0|[0.93524246659636...|\n",
      "| 26|       0|[1.33507788920967...|       0.0|[0.93524246659636...|\n",
      "| 26|       0|[1.33507788920967...|       0.0|[0.93524246659636...|\n",
      "| 26|       0|[1.33507788920967...|       0.0|[0.93524246659636...|\n",
      "| 26|       0|[1.33507788920967...|       0.0|[0.93524246659636...|\n",
      "| 26|       0|[1.33507788920967...|       0.0|[0.93524246659636...|\n",
      "| 26|       0|[1.33507788920967...|       0.0|[0.93524246659636...|\n",
      "| 26|       0|[1.33507788920967...|       0.0|[0.93524246659636...|\n",
      "| 26|       0|[1.33507788920967...|       0.0|[0.93524246659636...|\n",
      "| 26|       0|[1.33507788920967...|       0.0|[0.93524246659636...|\n",
      "| 26|       0|[1.33507788920967...|       0.0|[0.93524246659636...|\n",
      "| 26|       0|[1.33507788920967...|       0.0|[0.93524246659636...|\n",
      "| 26|       0|[1.33507788920967...|       0.0|[0.93524246659636...|\n",
      "| 26|       0|[1.33507788920967...|       0.0|[0.93524246659636...|\n",
      "| 26|       0|[1.33507788920967...|       0.0|[0.93524246659636...|\n",
      "| 26|       0|[1.33507788920967...|       0.0|[0.93524246659636...|\n",
      "| 26|       0|[1.33507788920967...|       0.0|[0.93524246659636...|\n",
      "| 26|       0|[1.33507788920967...|       0.0|[0.93524246659636...|\n",
      "| 26|       0|[1.33507788920967...|       0.0|[0.93524246659636...|\n",
      "| 26|       0|[1.33507788920967...|       0.0|[0.93524246659636...|\n",
      "| 26|       0|[1.33507788920967...|       0.0|[0.93524246659636...|\n",
      "| 26|       0|[1.33507788920967...|       0.0|[0.93524246659636...|\n",
      "| 26|       0|[1.33507788920967...|       0.0|[0.93524246659636...|\n",
      "| 26|       0|[1.33507788920967...|       0.0|[0.93524246659636...|\n",
      "| 26|       0|[1.33507788920967...|       0.0|[0.93524246659636...|\n",
      "| 26|       0|[1.33507788920967...|       0.0|[0.93524246659636...|\n",
      "| 26|       0|[1.33507788920967...|       0.0|[0.93524246659636...|\n",
      "| 26|       0|[1.33507788920967...|       0.0|[0.93524246659636...|\n",
      "+---+--------+--------------------+----------+--------------------+\n",
      "only showing top 50 rows\n",
      "\n"
     ]
    },
    {
     "name": "stderr",
     "output_type": "stream",
     "text": [
      "[Stage 1255:=======================================>              (11 + 4) / 15]\r"
     ]
    },
    {
     "name": "stdout",
     "output_type": "stream",
     "text": [
      "Test Area Under ROC: 0.9595965174960676\n"
     ]
    },
    {
     "name": "stderr",
     "output_type": "stream",
     "text": [
      "                                                                                \r"
     ]
    }
   ],
   "source": [
    "main(data_folder + file_pattern, model_output_path, debug=True, \n",
    "        spark_config={\n",
    "            'spark.driver.memory': '512g', \n",
    "            'spark.executor.memory': '512g'\n",
    "        })\n"
   ]
  },
  {
   "cell_type": "markdown",
   "metadata": {},
   "source": [
    "<a id=\"training_app\"></a>\n",
    "### 1.7.3. Create the DataFlow Application\n",
    "\n",
    "Using the Oracle ADS package, we have access to simple wrapper functions to create DataFlow applications and associated Runs.\n",
    "\n",
    "Here we use resource principal to authenticate since we are inside DataScience. On a local machine you should use your OCI config for auth."
   ]
  },
  {
   "cell_type": "code",
   "execution_count": 13,
   "metadata": {},
   "outputs": [],
   "source": [
    "ads.set_auth(auth='resource_principal')"
   ]
  },
  {
   "cell_type": "markdown",
   "metadata": {},
   "source": [
    "we need to set our base folder specifically, so the files will be saved there, and picked up from there to edit-run-edit\n"
   ]
  },
  {
   "cell_type": "code",
   "execution_count": 14,
   "metadata": {},
   "outputs": [],
   "source": [
    "data_flow = DataFlow(dataflow_base_folder=dataflow_basefolder)"
   ]
  },
  {
   "cell_type": "markdown",
   "metadata": {},
   "source": [
    "We're now setting up our parameters matching the program inputs, with path to the files on Object Storage"
   ]
  },
  {
   "cell_type": "code",
   "execution_count": 15,
   "metadata": {},
   "outputs": [],
   "source": [
    "tenancy_namespace = 'bigdatadatasciencelarge'\n",
    "bucket_name = 'fraud-detection-data'\n",
    "\n",
    "script_bucket = 'fraud-detection-dataflow-code'\n",
    "pyspark_file_path = f'{dataflow_basefolder}/fraud_detection_model_training.py'\n",
    "logs_bucket = 'fraud-detection-dataflow-logs'\n",
    "\n",
    "input_data_path = 'oci://fraud-detection-data@bigdatadatasciencelarge/training set/xlarge/*male*.csv'\n",
    "model_output_path = 'oci://fraud-detection-data@bigdatadatasciencelarge/output/xlarge/model'\n",
    "debug = 'true'"
   ]
  },
  {
   "cell_type": "markdown",
   "metadata": {},
   "source": [
    "Now we can prepare our application with the `prepare_app` function:\n",
    "\n",
    "- `arguments` is a list of arguments passed to the program as if it was run on command line so we pass the variables names defined in script_parameters.\n",
    "\n",
    "- `script_parameters` contains the default values for these variables."
   ]
  },
  {
   "cell_type": "code",
   "execution_count": 16,
   "metadata": {},
   "outputs": [],
   "source": [
    "app_config = data_flow.prepare_app(\n",
    "                        display_name=\"Fraud Detection Model Training\",\n",
    "                        script_bucket=script_bucket,\n",
    "                        pyspark_file_path=pyspark_file_path,\n",
    "                        logs_bucket=logs_bucket,\n",
    "                        spark_version='3.0.2',\n",
    "                        arguments=[\n",
    "                            \"${input_data_path}\", \n",
    "                            \"${model_output_path}\", \n",
    "                            \"${debug}\"\n",
    "                        ],\n",
    "                        script_parameters={\n",
    "                         'input_data_path': input_data_path,\n",
    "                         'model_output_path': model_output_path,\n",
    "                         'debug': debug\n",
    "                        })\n"
   ]
  },
  {
   "cell_type": "code",
   "execution_count": 17,
   "metadata": {},
   "outputs": [
    {
     "data": {
      "application/vnd.jupyter.widget-view+json": {
       "model_id": "",
       "version_major": 2,
       "version_minor": 0
      },
      "text/plain": [
       "loop1:   0%|          | 0/2 [00:00<?, ?it/s]"
      ]
     },
     "metadata": {},
     "output_type": "display_data"
    }
   ],
   "source": [
    "# if running multiple times, skip this cell, look up the app id, and re-load it\n",
    "app = data_flow.create_app(app_config, overwrite_script=True, overwrite_archive=True)"
   ]
  },
  {
   "cell_type": "code",
   "execution_count": 18,
   "metadata": {},
   "outputs": [
    {
     "data": {
      "text/plain": [
       "'ocid1.dataflowapplication.oc1.phx.anyhqljrnif7xwia27lqns6kecgagqvx3rtafa3inu6xwlauiwmpe62uff7q'"
      ]
     },
     "execution_count": 18,
     "metadata": {},
     "output_type": "execute_result"
    }
   ],
   "source": [
    "# latest app we created\n",
    "data_flow.list_apps()[0].id"
   ]
  },
  {
   "cell_type": "markdown",
   "metadata": {},
   "source": [
    "To reload a previous app, use the following replacing the id in the `load_app` function:"
   ]
  },
  {
   "cell_type": "code",
   "execution_count": 19,
   "metadata": {},
   "outputs": [],
   "source": [
    "# ads.set_auth(auth='resource_principal')\n",
    "# data_flow = DataFlow(dataflow_base_folder=dataflow_basefolder)\n",
    "# app = data_flow.load_app(<app_id>)"
   ]
  },
  {
   "cell_type": "markdown",
   "metadata": {},
   "source": [
    "<a id=\"training_run\"></a>\n",
    "### 1.7.4. Create a DataFlow Training Run\n",
    "\n",
    "The app is created with default parameters.\n",
    "\n",
    "At run-time, we can modify the parameters by passing them as arguments (commented out here):"
   ]
  },
  {
   "cell_type": "code",
   "execution_count": 25,
   "metadata": {},
   "outputs": [],
   "source": [
    "run_config = app.prepare_run(run_display_name=f\"Fraud Detection Model Training {datetime.now()}\",\n",
    "                             num_executors=12,\n",
    "                             driver_shape='VM.Standard2.16',\n",
    "                             executor_shape='VM.Standard2.16',\n",
    "                             input_data_path='oci://fraud-detection-data@bigdatadatasciencelarge/training set/small/*male*.csv',\n",
    "                             model_output_path= 'oci://fraud-detection-data@bigdatadatasciencelarge/output/small/model',\n",
    "                             debug=True\n",
    "                            )"
   ]
  },
  {
   "cell_type": "markdown",
   "metadata": {},
   "source": [
    "and finally we can launch the run:"
   ]
  },
  {
   "cell_type": "code",
   "execution_count": 29,
   "metadata": {},
   "outputs": [
    {
     "name": "stderr",
     "output_type": "stream",
     "text": [
      "ServiceError: {'opc-request-id': '1886F3AF53A24D8C8C7EBA29EAB1AB1E/FB0041B267AB048E682FD1E38C2DC2A0/B23FB13401791F605DF054004B3996C7', 'code': 'LimitExceeded', 'message': \"The resources you have requested for this run exceed the tenant's Data Flow quota limit. The following service limits were exceeded: vm-standard2-16. Request a service limit increase from the service limits page in the console.  Contact your Administrator to increase the limits then resubmit the run or use a different VM shape.\", 'status': 400}"
     ]
    }
   ],
   "source": [
    "ads.set_auth(auth='resource_principal')\n",
    "data_flow = DataFlow(dataflow_base_folder=dataflow_basefolder)\n",
    "run = app.run(run_config, save_log_to_local=True, wait=False)\n",
    "# run = app.run(run_config)"
   ]
  },
  {
   "cell_type": "markdown",
   "metadata": {},
   "source": [
    "<a id=\"edit_script\"></a>\n",
    "### 1.7.5. Editing DataFlow applications\n",
    "\n",
    "You can edit the script, and come back to the cell above to create a new run. The script will be automatically synced before the run starts.\n",
    "\n",
    "Please note that the %%writefile magic tends to take a few seconds to update the script on disk, so take a short pause before re-running the cell above, or the previous version might be picked up."
   ]
  },
  {
   "cell_type": "markdown",
   "metadata": {},
   "source": [
    "<a id=\"df_scoring\"></a>\n",
    "## 1.8. Create a Batch Scoring Application"
   ]
  },
  {
   "cell_type": "markdown",
   "metadata": {},
   "source": [
    "<a id=\"scoring_script\"></a>\n",
    "### 1.8.1. DataFlow Batch Scoring Application script"
   ]
  },
  {
   "cell_type": "code",
   "execution_count": 43,
   "metadata": {},
   "outputs": [
    {
     "name": "stdout",
     "output_type": "stream",
     "text": [
      "Overwriting /home/datascience/workspace/notebooks/dataflow/fraud_detection_batch_scoring.py\n"
     ]
    }
   ],
   "source": [
    "%%writefile {dataflow_basefolder}/fraud_detection_batch_scoring.py\n",
    "import sys\n",
    "import os\n",
    "import numpy as np\n",
    "\n",
    "# Importing pyspark libraries\n",
    "from pyspark.conf import SparkConf\n",
    "from pyspark.ml import PipelineModel\n",
    "from pyspark.ml.evaluation import BinaryClassificationEvaluator\n",
    "from pyspark.ml.feature import StringIndexer, OneHotEncoder, VectorAssembler\n",
    "from pyspark.sql import SparkSession\n",
    "from pyspark.sql.functions import *\n",
    "from pyspark.sql.types import FloatType\n",
    "\n",
    "    \n",
    "def is_in_oci():\n",
    "    return os.environ.get(\"HOME\") == \"/home/dataflow\" or os.environ.get(\"HOME\") == \"/home/datascience\"\n",
    "\n",
    "\n",
    "def get_spark_session(app_name, file_location=None, profile_name=None, spark_config={}):\n",
    "    \"\"\"\n",
    "    Get a Spark session in a way that supports running locally or in Data Flow.\n",
    "    \"\"\"\n",
    "    \n",
    "    # If we are in DataFlow or DataScience, we assume the instance uses Instance Principal \n",
    "    # for authorization, and we can create a Spark Session Builder without config\n",
    "    if is_in_oci():\n",
    "        spark_builder = SparkSession.builder.appName(app_name)\n",
    "        \n",
    "    # If we run on a local machine, we need to provide authentication from the OCI config\n",
    "    else:\n",
    "        # Import OCI.\n",
    "        try:\n",
    "            import oci\n",
    "        except:\n",
    "            raise Exception(\n",
    "                \"You need to install the OCI python library to test locally\"\n",
    "            )\n",
    "        # Use defaults for anything unset.\n",
    "        if file_location is None:\n",
    "            file_location = oci.config.DEFAULT_LOCATION\n",
    "        if profile_name is None:\n",
    "            profile_name = oci.config.DEFAULT_PROFILE\n",
    "\n",
    "        # Load the config file.\n",
    "        try:\n",
    "            oci_config = oci.config.from_file(\n",
    "                file_location=file_location, profile_name=profile_name\n",
    "            )\n",
    "        except Exception as e:\n",
    "            print(\"You need to set up your OCI config properly to run locally\")\n",
    "            raise e\n",
    "        conf = SparkConf()\n",
    "        conf.set(\"fs.oci.client.auth.tenantId\", oci_config[\"tenancy\"])\n",
    "        conf.set(\"fs.oci.client.auth.userId\", oci_config[\"user\"])\n",
    "        conf.set(\"fs.oci.client.auth.fingerprint\", oci_config[\"fingerprint\"])\n",
    "        conf.set(\"fs.oci.client.auth.pemfilepath\", oci_config[\"key_file\"])\n",
    "        conf.set(\n",
    "            \"fs.oci.client.hostname\",\n",
    "            \"https://objectstorage.\\{0\\}.oraclecloud.com\".format(oci_config[\"region\"]),\n",
    "        )\n",
    "        spark_builder = SparkSession.builder.appName(app_name).config(conf=spark_config)\n",
    "\n",
    "    # Add in extra configuration.\n",
    "    for key, val in spark_config.items():\n",
    "        spark_builder.config(key, val)\n",
    "\n",
    "    # Create the Spark session.\n",
    "    session = spark_builder.getOrCreate()\n",
    "    return session\n",
    "\n",
    "\n",
    "def distance(lat, long, merch_lat, merch_long):\n",
    "\n",
    "    s_lat, s_lng, e_lat, e_lng = float(lat), float(long), float(merch_lat), float(merch_long)\n",
    "\n",
    "    # approximate radius of earth in km\n",
    "    R = 6373.0\n",
    "\n",
    "    s_lat = s_lat*np.pi/180.0                      \n",
    "    s_lng = np.deg2rad(s_lng)     \n",
    "    e_lat = np.deg2rad(e_lat)                       \n",
    "    e_lng = np.deg2rad(e_lng)  \n",
    "\n",
    "    d = np.sin((e_lat - s_lat)/2)**2 + np.cos(s_lat)*np.cos(e_lat) * np.sin((e_lng - s_lng)/2)**2\n",
    "\n",
    "    return float(2 * R * np.arcsin(np.sqrt(d)))\n",
    "\n",
    "\n",
    "def create_feature_columns(df):\n",
    "    # Augments the dataset with features we identified\n",
    "    \n",
    "    # for scoring, we don't drop the original columns: \n",
    "    # we may want the original columns in the final output.\n",
    "    # Columns we need will be picked up by the pipeline\n",
    "    \n",
    "    # transaction date and time features\n",
    "    df = df.withColumn('day_of_week', dayofweek(col('trans_date')))\n",
    "    df = df.withColumn('month_of_year', month(col('trans_date')))\n",
    "    df = df.withColumn('hour_of_day', hour(col('trans_time')))\n",
    "    df = df.withColumn('is_weekend', col('day_of_week').isin([1,7]).cast('int'))\n",
    "    \n",
    "    # distance\n",
    "    distance_udf = udf(lambda lat, long, merch_lat, merch_long: distance(lat, long, merch_lat, merch_long), FloatType())\n",
    "    df = df.withColumn(\"distance\", distance_udf(col('lat'), col('long'), col('merch_lat'), col('merch_long')))\n",
    "    \n",
    "    # customer age and gender\n",
    "    df = df.withColumn('age', floor(datediff(col('trans_date'), to_date(col('dob'), 'yyyy-mm-dd'))/365.25))\n",
    "    df = df.withColumn('gender', when((col('gender') == 'M'), 1).when((col('gender') == 'F'), 0).otherwise(-1))\n",
    "    \n",
    "    return df\n",
    "\n",
    "\n",
    "def main(input_data_path, model_path, predictions_output_path, debug, spark_config=None):\n",
    "    \n",
    "    # create the session\n",
    "    sc = get_spark_session(app_name='Fraud Detection Model Training')\n",
    "    sc.conf.set(\"spark.sql.legacy.timeParserPolicy\",\"LEGACY\")\n",
    "    \n",
    "    # load the data\n",
    "    df = sc.read.option(\"delimiter\", \"|\").csv(input_data_path, header=True, inferSchema=True)\n",
    "    original_cols = df.columns\n",
    "\n",
    "    print(\"Dataset Count: \" + str(df.count()))\n",
    "\n",
    "    # augment the dat with tnew columns\n",
    "    df = create_feature_columns(df)\n",
    "    \n",
    "    # load the model\n",
    "    # edit\n",
    "    model = PipelineModel.load(model_path)\n",
    "\n",
    "    # predict\n",
    "    predictions = model.transform(df)\n",
    "    \n",
    "    # show some results\n",
    "    predictions.select('age', 'is_fraud', 'rawPrediction', 'prediction', 'probability').show(50)\n",
    "    evaluator = BinaryClassificationEvaluator(labelCol='is_fraud')\n",
    "    print(\"Test Area Under ROC: \" + str(evaluator.evaluate(predictions, {evaluator.metricName: \"areaUnderROC\"})))\n",
    "    predictions.printSchema()\n",
    "    predictions = predictions.select(original_cols + ['prediction'])\n",
    "    predictions.write.format('com.databricks.spark.csv').mode('overwrite').option(\"header\", \"true\").save(predictions_output_path)\n",
    "\n",
    "if __name__ == \"__main__\":\n",
    "    input_data_path = sys.argv[1]\n",
    "    model_path = sys.argv[2]\n",
    "    predictions_output_path = sys.argv[3]\n",
    "    debug = False\n",
    "    if sys.argv[4].lower() == 'true':\n",
    "        debug = True\n",
    "\n",
    "    main(input_data_path, model_path, predictions_output_path, debug)\n",
    "\n"
   ]
  },
  {
   "cell_type": "code",
   "execution_count": 31,
   "metadata": {},
   "outputs": [],
   "source": [
    "script_bucket = 'fraud-detection-dataflow-code'\n",
    "pyspark_file_path = f'{dataflow_basefolder}/fraud_detection_batch_scoring.py'\n",
    "logs_bucket = 'fraud-detection-dataflow-logs'\n",
    "\n",
    "input_data_path = 'oci://fraud-detection-data@bigdatadatasciencelarge/training set/medium/*male*.csv'\n",
    "model_path = 'oci://fraud-detection-data@bigdatadatasciencelarge/output/xlarge/model'\n",
    "predictions_output_path = 'oci://fraud-detection-data@bigdatadatasciencelarge/output/medium/predictions/predictions.csv'\n",
    "debug = 'true'"
   ]
  },
  {
   "cell_type": "code",
   "execution_count": 32,
   "metadata": {},
   "outputs": [],
   "source": [
    "ads.set_auth(auth='resource_principal')\n",
    "data_flow = DataFlow(dataflow_base_folder=dataflow_basefolder)"
   ]
  },
  {
   "cell_type": "code",
   "execution_count": 33,
   "metadata": {},
   "outputs": [],
   "source": [
    "app_config = data_flow.prepare_app(\n",
    "                        display_name=\"Fraud Detection Batch Scoring\",\n",
    "                        script_bucket=script_bucket,\n",
    "                        pyspark_file_path=pyspark_file_path,\n",
    "                        logs_bucket=logs_bucket,\n",
    "                        spark_version='3.0.2',\n",
    "                        arguments=[\n",
    "                            \"${input_data_path}\", \n",
    "                            \"${model_path}\", \n",
    "                            \"${predictions_output_path}\",\n",
    "                            \"${debug}\"\n",
    "                        ],\n",
    "                        script_parameters={\n",
    "                         'input_data_path': input_data_path,\n",
    "                         'model_path': model_path,\n",
    "                         'predictions_output_path': predictions_output_path,\n",
    "                         'debug': debug\n",
    "                        })\n"
   ]
  },
  {
   "cell_type": "code",
   "execution_count": 34,
   "metadata": {},
   "outputs": [
    {
     "data": {
      "application/vnd.jupyter.widget-view+json": {
       "model_id": "",
       "version_major": 2,
       "version_minor": 0
      },
      "text/plain": [
       "loop1:   0%|          | 0/2 [00:00<?, ?it/s]"
      ]
     },
     "metadata": {},
     "output_type": "display_data"
    }
   ],
   "source": [
    "app = data_flow.create_app(app_config, overwrite_script=True, overwrite_archive=True)"
   ]
  },
  {
   "cell_type": "markdown",
   "metadata": {},
   "source": [
    "or load an existing app:"
   ]
  },
  {
   "cell_type": "code",
   "execution_count": 35,
   "metadata": {},
   "outputs": [
    {
     "data": {
      "text/html": [
       "<div>\n",
       "<style scoped>\n",
       "    .dataframe tbody tr th:only-of-type {\n",
       "        vertical-align: middle;\n",
       "    }\n",
       "\n",
       "    .dataframe tbody tr th {\n",
       "        vertical-align: top;\n",
       "    }\n",
       "\n",
       "    .dataframe thead th {\n",
       "        text-align: right;\n",
       "    }\n",
       "</style>\n",
       "<table border=\"1\" class=\"dataframe\">\n",
       "  <thead>\n",
       "    <tr style=\"text-align: right;\">\n",
       "      <th></th>\n",
       "      <th>display_name</th>\n",
       "      <th>id</th>\n",
       "    </tr>\n",
       "  </thead>\n",
       "  <tbody>\n",
       "    <tr>\n",
       "      <th>0</th>\n",
       "      <td>Fraud Detection Batch Scoring</td>\n",
       "      <td>ocid1.dataflowapplication.oc1.phx.anyhqljtnif7...</td>\n",
       "    </tr>\n",
       "    <tr>\n",
       "      <th>1</th>\n",
       "      <td>Fraud Detection Model Training</td>\n",
       "      <td>ocid1.dataflowapplication.oc1.phx.anyhqljrnif7...</td>\n",
       "    </tr>\n",
       "    <tr>\n",
       "      <th>2</th>\n",
       "      <td>Fraud Detection Batch Scoring</td>\n",
       "      <td>ocid1.dataflowapplication.oc1.phx.anyhqljtnif7...</td>\n",
       "    </tr>\n",
       "    <tr>\n",
       "      <th>3</th>\n",
       "      <td>Fraud Detection Model Training</td>\n",
       "      <td>ocid1.dataflowapplication.oc1.phx.anyhqljrnif7...</td>\n",
       "    </tr>\n",
       "    <tr>\n",
       "      <th>4</th>\n",
       "      <td>Fraud Detection Batch Scoring</td>\n",
       "      <td>ocid1.dataflowapplication.oc1.phx.anyhqljsnif7...</td>\n",
       "    </tr>\n",
       "    <tr>\n",
       "      <th>5</th>\n",
       "      <td>Fraud Detection Model Training</td>\n",
       "      <td>ocid1.dataflowapplication.oc1.phx.anyhqljrnif7...</td>\n",
       "    </tr>\n",
       "    <tr>\n",
       "      <th>6</th>\n",
       "      <td>Fraud Detection Model Training</td>\n",
       "      <td>ocid1.dataflowapplication.oc1.phx.anyhqljrnif7...</td>\n",
       "    </tr>\n",
       "    <tr>\n",
       "      <th>7</th>\n",
       "      <td>Fraud Detection Batch Scoring</td>\n",
       "      <td>ocid1.dataflowapplication.oc1.phx.anyhqljsnif7...</td>\n",
       "    </tr>\n",
       "    <tr>\n",
       "      <th>8</th>\n",
       "      <td>Fraud Detection Model Training</td>\n",
       "      <td>ocid1.dataflowapplication.oc1.phx.anyhqljrnif7...</td>\n",
       "    </tr>\n",
       "    <tr>\n",
       "      <th>9</th>\n",
       "      <td>fraud-detection-model-scoring</td>\n",
       "      <td>ocid1.dataflowapplication.oc1.phx.anyhqljrnif7...</td>\n",
       "    </tr>\n",
       "    <tr>\n",
       "      <th>10</th>\n",
       "      <td>fraud-detection-model-training</td>\n",
       "      <td>ocid1.dataflowapplication.oc1.phx.anyhqljtnif7...</td>\n",
       "    </tr>\n",
       "    <tr>\n",
       "      <th>11</th>\n",
       "      <td>fraud-detection-feature-engineering</td>\n",
       "      <td>ocid1.dataflowapplication.oc1.phx.anyhqljrnif7...</td>\n",
       "    </tr>\n",
       "  </tbody>\n",
       "</table>\n",
       "</div>"
      ],
      "text/plain": [
       "                           display_name  \\\n",
       "0         Fraud Detection Batch Scoring   \n",
       "1        Fraud Detection Model Training   \n",
       "2         Fraud Detection Batch Scoring   \n",
       "3        Fraud Detection Model Training   \n",
       "4         Fraud Detection Batch Scoring   \n",
       "5        Fraud Detection Model Training   \n",
       "6        Fraud Detection Model Training   \n",
       "7         Fraud Detection Batch Scoring   \n",
       "8        Fraud Detection Model Training   \n",
       "9         fraud-detection-model-scoring   \n",
       "10       fraud-detection-model-training   \n",
       "11  fraud-detection-feature-engineering   \n",
       "\n",
       "                                                   id  \n",
       "0   ocid1.dataflowapplication.oc1.phx.anyhqljtnif7...  \n",
       "1   ocid1.dataflowapplication.oc1.phx.anyhqljrnif7...  \n",
       "2   ocid1.dataflowapplication.oc1.phx.anyhqljtnif7...  \n",
       "3   ocid1.dataflowapplication.oc1.phx.anyhqljrnif7...  \n",
       "4   ocid1.dataflowapplication.oc1.phx.anyhqljsnif7...  \n",
       "5   ocid1.dataflowapplication.oc1.phx.anyhqljrnif7...  \n",
       "6   ocid1.dataflowapplication.oc1.phx.anyhqljrnif7...  \n",
       "7   ocid1.dataflowapplication.oc1.phx.anyhqljsnif7...  \n",
       "8   ocid1.dataflowapplication.oc1.phx.anyhqljrnif7...  \n",
       "9   ocid1.dataflowapplication.oc1.phx.anyhqljrnif7...  \n",
       "10  ocid1.dataflowapplication.oc1.phx.anyhqljtnif7...  \n",
       "11  ocid1.dataflowapplication.oc1.phx.anyhqljrnif7...  "
      ]
     },
     "execution_count": 35,
     "metadata": {},
     "output_type": "execute_result"
    }
   ],
   "source": [
    "ads.set_auth(auth='resource_principal')\n",
    "data_flow = DataFlow(dataflow_base_folder=dataflow_basefolder)\n",
    "pd.DataFrame(json.loads(str(data_flow.list_apps())))[['display_name', 'id']]"
   ]
  },
  {
   "cell_type": "code",
   "execution_count": 36,
   "metadata": {},
   "outputs": [],
   "source": [
    "# app = data_flow.load_app('ocid1.dataflowapplication.oc1.phx.anyhqljtnif7xwiaidctgsbui4rrjomtju4gpvc2nvcb2ycfwqzk5gcbnvzq')\n"
   ]
  },
  {
   "cell_type": "markdown",
   "metadata": {},
   "source": [
    "<a id=\"scoring_run\"></a>\n",
    "### 1.8.2. Create a DataFlow Run for scoring"
   ]
  },
  {
   "cell_type": "code",
   "execution_count": 37,
   "metadata": {},
   "outputs": [],
   "source": [
    "run_config = app.prepare_run(run_display_name=f\"Fraud Detection Batch Scoring {datetime.now()}\",\n",
    "                             num_executors=2,\n",
    "                             driver_shape='VM.Standard2.16',\n",
    "                             executor_shape='VM.Standard2.16',\n",
    "#                              input_data_path='oci://fraud-detection-data@bigdatadatasciencelarge/training set/medium/*male*.csv',\n",
    "#                              model_path= 'oci://fraud-detection-data@bigdatadatasciencelarge/output/xlarge/model',\n",
    "#                              predictions_output_path=f'oci://fraud-detection-data@bigdatadatasciencelarge/output/medium/predictions/predictions-{datetime.now()}.csv',\n",
    "#                              debug=True\n",
    "                            )"
   ]
  },
  {
   "cell_type": "code",
   "execution_count": null,
   "metadata": {},
   "outputs": [],
   "source": []
  },
  {
   "cell_type": "code",
   "execution_count": 42,
   "metadata": {},
   "outputs": [],
   "source": [
    "run = app.run(run_config, save_log_to_local=True, wait=False)"
   ]
  },
  {
   "cell_type": "code",
   "execution_count": null,
   "metadata": {},
   "outputs": [],
   "source": [
    "run.log_stdout.tail()"
   ]
  },
  {
   "cell_type": "markdown",
   "metadata": {},
   "source": [
    "<a id=\"model_cat\"></a> \n",
    "## 1.9. Create a Model in Model Catalog"
   ]
  },
  {
   "cell_type": "markdown",
   "metadata": {},
   "source": [
    "<a id=\"artifact\"></a>\n",
    "### 1.9.1. Prepare the Model Artifact for Model Catalog"
   ]
  },
  {
   "cell_type": "code",
   "execution_count": 25,
   "metadata": {},
   "outputs": [
    {
     "data": {
      "text/plain": [
       "datetime.datetime(2022, 6, 17, 22, 12, 37, 56754)"
      ]
     },
     "execution_count": 25,
     "metadata": {},
     "output_type": "execute_result"
    }
   ],
   "source": [
    "datetime.now()"
   ]
  },
  {
   "cell_type": "code",
   "execution_count": 26,
   "metadata": {},
   "outputs": [],
   "source": [
    "path_to_artifact = f\"./fraud-detection-model-deployment\"\n",
    "if not os.path.exists(path_to_artifact):\n",
    "    os.mkdir(path_to_artifact)"
   ]
  },
  {
   "cell_type": "code",
   "execution_count": 27,
   "metadata": {},
   "outputs": [
    {
     "data": {
      "application/vnd.jupyter.widget-view+json": {
       "model_id": "",
       "version_major": 2,
       "version_minor": 0
      },
      "text/plain": [
       "loop1:   0%|          | 0/4 [00:00<?, ?it/s]"
      ]
     },
     "metadata": {},
     "output_type": "display_data"
    },
    {
     "name": "stdout",
     "output_type": "stream",
     "text": [
      "WARNING:ADS:As force_overwrite is set to True, all the existing files in the ./fraud-detection-model-deployment will be removed\n",
      "WARNING:ADS:Taxonomy metadata was not extracted. To auto-populate taxonomy metadata the model must be provided. Pass the model as a parameter to .prepare_generic_model(model=model, usecase_type=UseCaseType.REGRESSION). Alternative way is using atifact.populate_metadata(model=model, usecase_type=UseCaseType.REGRESSION).\n"
     ]
    }
   ],
   "source": [
    "artifact = prepare_generic_model(path_to_artifact, \n",
    "                                 fn_artifact_files_included=False, \n",
    "                                 force_overwrite=True, \n",
    "                                 data_science_env=True,\n",
    "                                )\n"
   ]
  },
  {
   "cell_type": "markdown",
   "metadata": {},
   "source": [
    "<a id=\"model_script\"></a>\n",
    "### 1.9.2. Create the Inference Model script"
   ]
  },
  {
   "cell_type": "code",
   "execution_count": 28,
   "metadata": {},
   "outputs": [
    {
     "name": "stdout",
     "output_type": "stream",
     "text": [
      "Overwriting ./fraud-detection-model-deployment/score.py\n"
     ]
    }
   ],
   "source": [
    "%%writefile {path_to_artifact}/score.py\n",
    "\n",
    "import sys\n",
    "import ocifs\n",
    "import os\n",
    "import numpy as np\n",
    "import json\n",
    "\n",
    "# Importing pyspark libraries\n",
    "from pyspark.ml import PipelineModel\n",
    "from pyspark.ml.classification import GBTClassificationModel\n",
    "from pyspark.ml.evaluation import BinaryClassificationEvaluator\n",
    "from pyspark.ml.feature import StringIndexer, OneHotEncoder, VectorAssembler\n",
    "from pyspark.sql import SparkSession\n",
    "from pyspark.sql.functions import *\n",
    "from pyspark.sql.types import FloatType\n",
    "\n",
    "\n",
    "model_file = 'model'\n",
    "\n",
    "sc = SparkSession \\\n",
    "    .builder \\\n",
    "    .appName('Fraud Detection Inference') \\\n",
    "    .config('spark.driver.memory', '64g') \\\n",
    "    .config('spark.executor.memory', '64g') \\\n",
    "    .getOrCreate()\n",
    "\n",
    "fs = ocifs.OCIFileSystem()\n",
    "\n",
    "def distance(lat, long, merch_lat, merch_long):\n",
    "\n",
    "    s_lat, s_lng, e_lat, e_lng = float(lat), float(long), float(merch_lat), float(merch_long)\n",
    "\n",
    "    # approximate radius of earth in km\n",
    "    R = 6373.0\n",
    "\n",
    "    s_lat = s_lat*np.pi/180.0                      \n",
    "    s_lng = np.deg2rad(s_lng)     \n",
    "    e_lat = np.deg2rad(e_lat)                       \n",
    "    e_lng = np.deg2rad(e_lng)  \n",
    "\n",
    "    d = np.sin((e_lat - s_lat)/2)**2 + np.cos(s_lat)*np.cos(e_lat) * np.sin((e_lng - s_lng)/2)**2\n",
    "\n",
    "    return float(2 * R * np.arcsin(np.sqrt(d)))\n",
    "\n",
    "\n",
    "def create_feature_columns(df):\n",
    "    # Augments the dataset with features we identified\n",
    "        \n",
    "    # transaction date and time features\n",
    "    df = df.withColumn('day_of_week', dayofweek(col('trans_date')))\n",
    "    df = df.withColumn('month_of_year', month(col('trans_date')))\n",
    "    df = df.withColumn('hour_of_day', hour(col('trans_time')))\n",
    "    df = df.withColumn('is_weekend', col('day_of_week').isin([1,7]).cast('int'))\n",
    "    \n",
    "    # distance\n",
    "    distance_udf = udf(lambda lat, long, merch_lat, merch_long: distance(lat, long, merch_lat, merch_long), FloatType())\n",
    "    df = df.withColumn(\"distance\", distance_udf(col('lat'), col('long'), col('merch_lat'), col('merch_long')))\n",
    "    \n",
    "    # customer age and gender\n",
    "    df = df.withColumn('age', floor(datediff(col('trans_date'), to_date(col('dob'), 'yyyy-mm-dd'))/365.25))\n",
    "    df = df.withColumn('gender', when((col('gender') == 'M'), 1).when((col('gender') == 'F'), 0).otherwise(-1))\n",
    "    \n",
    "    return df\n",
    "\n",
    "\n",
    "def load_model():\n",
    "    \"\"\"\n",
    "    Loads model from the serialized format\n",
    "\n",
    "    Returns\n",
    "    -------\n",
    "    model:  a model instance on which predict API can be invoked\n",
    "    \"\"\"\n",
    "    \n",
    "    # Load config file\n",
    "    model_dir = os.path.dirname(os.path.realpath(__file__))\n",
    "    contents = os.listdir(model_dir)\n",
    "    if model_file in contents:\n",
    "        model = PipelineModel.load(os.path.join(model_dir, model_file))\n",
    "        return model\n",
    "    else:\n",
    "        raise Exception('{0} is not found in model directory {1}'.format(config_file, model_dir))\n",
    "    \n",
    "\n",
    "\n",
    "def predict(data, model=load_model()) -> dict:\n",
    "    \"\"\"\n",
    "    Returns prediction given the model and data to predict\n",
    "\n",
    "    Parameters\n",
    "    ----------\n",
    "    model: Model instance returned by load_model API\n",
    "    data: Data format as expected by the predict API of the core estimator. For eg. in case of sckit models it could be numpy array/List of list/Panda DataFrame\n",
    "\n",
    "    Returns\n",
    "    -------\n",
    "    predictions: Output from scoring server\n",
    "        Format: { 'prediction': output from `model.predict` method }\n",
    "\n",
    "    \"\"\"\n",
    "                                    \n",
    "    if not isinstance(data, list):\n",
    "        data = [data]\n",
    "\n",
    "    df = sc.read.json(sc.sparkContext.parallelize(data))\n",
    "\n",
    "    df_cols = df.columns\n",
    "\n",
    "    print(\"Dataset Count: \" + str(df.count()))\n",
    "\n",
    "    df = create_feature_columns(df)\n",
    "\n",
    "    predictions = model.transform(df)\n",
    "\n",
    "    results = predictions.select(df_cols + ['prediction']).toJSON().map(json.loads).collect()\n",
    "    \n",
    "    return {'predictions': results}\n"
   ]
  },
  {
   "cell_type": "markdown",
   "metadata": {},
   "source": [
    "<a id=\"pull_model\"></a>\n",
    "### 1.9.3. Get the trained model into the model deployment folder\n",
    "\n",
    "Next we want to get our model generated with the Spark run and saved to object storage, into our model folder. \n",
    "\n",
    "We load it and then save it locally."
   ]
  },
  {
   "cell_type": "code",
   "execution_count": 29,
   "metadata": {},
   "outputs": [
    {
     "name": "stdout",
     "output_type": "stream",
     "text": [
      "ERROR:ads:ADS Exception\n",
      "Traceback (most recent call last):\n",
      "  File \"/home/datascience/conda/pyspark30_p37_cpu_v4/lib/python3.7/site-packages/IPython/core/interactiveshell.py\", line 3524, in run_code\n",
      "    exec(code_obj, self.user_global_ns, self.user_ns)\n",
      "  File \"/tmp/ipykernel_3170/1015215132.py\", line 1, in <module>\n",
      "    sc = get_spark_session(app_name='test')\n",
      "NameError: name 'get_spark_session' is not defined\n"
     ]
    },
    {
     "name": "stderr",
     "output_type": "stream",
     "text": [
      "NameError: name 'get_spark_session' is not defined"
     ]
    }
   ],
   "source": [
    "sc = get_spark_session(app_name='test')\n",
    "model = PipelineModel.load('oci://fraud-detection-data@bigdatadatasciencelarge/output/xlarge/model')\n"
   ]
  },
  {
   "cell_type": "code",
   "execution_count": 10,
   "metadata": {
    "collapsed": true,
    "jupyter": {
     "outputs_hidden": true
    }
   },
   "outputs": [
    {
     "name": "stderr",
     "output_type": "stream",
     "text": [
      "22/06/14 06:36:12 WARN MemoryManager: Total allocation exceeds 95.00% (928,907,252 bytes) of heap memory\n",
      "Scaling row group sizes to 98.87% for 7 writers\n",
      "22/06/14 06:36:12 WARN MemoryManager: Total allocation exceeds 95.00% (928,907,252 bytes) of heap memory\n",
      "Scaling row group sizes to 86.51% for 8 writers\n",
      "22/06/14 06:36:12 WARN MemoryManager: Total allocation exceeds 95.00% (928,907,252 bytes) of heap memory\n",
      "Scaling row group sizes to 76.90% for 9 writers\n",
      "22/06/14 06:36:12 WARN MemoryManager: Total allocation exceeds 95.00% (928,907,252 bytes) of heap memory\n",
      "Scaling row group sizes to 86.51% for 8 writers\n",
      "22/06/14 06:36:12 WARN MemoryManager: Total allocation exceeds 95.00% (928,907,252 bytes) of heap memory\n",
      "Scaling row group sizes to 98.87% for 7 writers\n",
      "22/06/14 06:36:12 WARN MemoryManager: Total allocation exceeds 95.00% (928,907,252 bytes) of heap memory\n",
      "Scaling row group sizes to 86.51% for 8 writers\n",
      "22/06/14 06:36:12 WARN MemoryManager: Total allocation exceeds 95.00% (928,907,252 bytes) of heap memory\n",
      "Scaling row group sizes to 98.87% for 7 writers\n",
      "22/06/14 06:36:12 WARN MemoryManager: Total allocation exceeds 95.00% (928,907,252 bytes) of heap memory\n",
      "Scaling row group sizes to 98.87% for 7 writers\n",
      "22/06/14 06:36:12 WARN MemoryManager: Total allocation exceeds 95.00% (928,907,252 bytes) of heap memory\n",
      "Scaling row group sizes to 86.51% for 8 writers\n",
      "22/06/14 06:36:12 WARN MemoryManager: Total allocation exceeds 95.00% (928,907,252 bytes) of heap memory\n",
      "Scaling row group sizes to 76.90% for 9 writers\n",
      "22/06/14 06:36:12 WARN MemoryManager: Total allocation exceeds 95.00% (928,907,252 bytes) of heap memory\n",
      "Scaling row group sizes to 69.21% for 10 writers\n",
      "22/06/14 06:36:12 WARN MemoryManager: Total allocation exceeds 95.00% (928,907,252 bytes) of heap memory\n",
      "Scaling row group sizes to 76.90% for 9 writers\n",
      "22/06/14 06:36:12 WARN MemoryManager: Total allocation exceeds 95.00% (928,907,252 bytes) of heap memory\n",
      "Scaling row group sizes to 86.51% for 8 writers\n",
      "22/06/14 06:36:12 WARN MemoryManager: Total allocation exceeds 95.00% (928,907,252 bytes) of heap memory\n",
      "Scaling row group sizes to 98.87% for 7 writers\n",
      "22/06/14 06:36:12 WARN TaskSetManager: Stage 34 contains a task of very large size (1026 KiB). The maximum recommended task size is 1000 KiB.\n",
      "22/06/14 06:36:13 WARN MemoryManager: Total allocation exceeds 95.00% (928,907,252 bytes) of heap memory\n",
      "Scaling row group sizes to 98.87% for 7 writers\n",
      "22/06/14 06:36:13 WARN MemoryManager: Total allocation exceeds 95.00% (928,907,252 bytes) of heap memory\n",
      "Scaling row group sizes to 86.51% for 8 writers\n",
      "22/06/14 06:36:13 WARN MemoryManager: Total allocation exceeds 95.00% (928,907,252 bytes) of heap memory\n",
      "Scaling row group sizes to 76.90% for 9 writers\n",
      "22/06/14 06:36:13 WARN MemoryManager: Total allocation exceeds 95.00% (928,907,252 bytes) of heap memory\n",
      "Scaling row group sizes to 69.21% for 10 writers\n",
      "22/06/14 06:36:13 WARN MemoryManager: Total allocation exceeds 95.00% (928,907,252 bytes) of heap memory\n",
      "Scaling row group sizes to 62.92% for 11 writers\n",
      "22/06/14 06:36:13 WARN MemoryManager: Total allocation exceeds 95.00% (928,907,252 bytes) of heap memory\n",
      "Scaling row group sizes to 57.67% for 12 writers\n",
      "22/06/14 06:36:13 WARN MemoryManager: Total allocation exceeds 95.00% (928,907,252 bytes) of heap memory\n",
      "Scaling row group sizes to 53.24% for 13 writers\n",
      "22/06/14 06:36:13 WARN MemoryManager: Total allocation exceeds 95.00% (928,907,252 bytes) of heap memory\n",
      "Scaling row group sizes to 49.43% for 14 writers\n",
      "22/06/14 06:36:13 WARN MemoryManager: Total allocation exceeds 95.00% (928,907,252 bytes) of heap memory\n",
      "Scaling row group sizes to 46.14% for 15 writers\n",
      "22/06/14 06:36:13 WARN MemoryManager: Total allocation exceeds 95.00% (928,907,252 bytes) of heap memory\n",
      "Scaling row group sizes to 43.26% for 16 writers\n",
      "22/06/14 06:36:13 WARN MemoryManager: Total allocation exceeds 95.00% (928,907,252 bytes) of heap memory\n",
      "Scaling row group sizes to 46.14% for 15 writers\n",
      "22/06/14 06:36:13 WARN MemoryManager: Total allocation exceeds 95.00% (928,907,252 bytes) of heap memory\n",
      "Scaling row group sizes to 49.43% for 14 writers\n",
      "22/06/14 06:36:13 WARN MemoryManager: Total allocation exceeds 95.00% (928,907,252 bytes) of heap memory\n",
      "Scaling row group sizes to 53.24% for 13 writers\n",
      "22/06/14 06:36:13 WARN MemoryManager: Total allocation exceeds 95.00% (928,907,252 bytes) of heap memory\n",
      "Scaling row group sizes to 57.67% for 12 writers\n",
      "22/06/14 06:36:13 WARN MemoryManager: Total allocation exceeds 95.00% (928,907,252 bytes) of heap memory\n",
      "Scaling row group sizes to 62.92% for 11 writers\n",
      "22/06/14 06:36:13 WARN MemoryManager: Total allocation exceeds 95.00% (928,907,252 bytes) of heap memory\n",
      "Scaling row group sizes to 69.21% for 10 writers\n",
      "22/06/14 06:36:13 WARN MemoryManager: Total allocation exceeds 95.00% (928,907,252 bytes) of heap memory\n",
      "Scaling row group sizes to 76.90% for 9 writers\n",
      "22/06/14 06:36:13 WARN MemoryManager: Total allocation exceeds 95.00% (928,907,252 bytes) of heap memory\n",
      "Scaling row group sizes to 86.51% for 8 writers\n",
      "22/06/14 06:36:13 WARN MemoryManager: Total allocation exceeds 95.00% (928,907,252 bytes) of heap memory\n",
      "Scaling row group sizes to 98.87% for 7 writers\n",
      "                                                                                \r"
     ]
    }
   ],
   "source": [
    "model.write().overwrite().save(f'{path_to_artifact}/model')"
   ]
  },
  {
   "cell_type": "markdown",
   "metadata": {},
   "source": [
    "<a id=\"save_to_cat\"></a>\n",
    "### 1.9.4. Save the model into Model Catalog\n"
   ]
  },
  {
   "cell_type": "code",
   "execution_count": 30,
   "metadata": {},
   "outputs": [
    {
     "name": "stdout",
     "output_type": "stream",
     "text": [
      "WARNING:root:~/.oci/config file not exists, default value oci.config.DEFAULT_LOCATION used instead\n"
     ]
    },
    {
     "data": {
      "application/vnd.jupyter.widget-view+json": {
       "model_id": "",
       "version_major": 2,
       "version_minor": 0
      },
      "text/plain": [
       "loop1:   0%|          | 0/5 [00:00<?, ?it/s]"
      ]
     },
     "metadata": {},
     "output_type": "display_data"
    },
    {
     "name": "stdout",
     "output_type": "stream",
     "text": [
      "artifact:/tmp/saved_model_f66245a5-02fe-49af-8dbc-5285f4f21516.zip\n"
     ]
    }
   ],
   "source": [
    "### Saving the model artifact to the model catalog. \n",
    "ads.set_auth(auth='resource_principal')\n",
    "catalog_entry = artifact.save(display_name=f'fraud-detection-model-{datetime.now()}',\n",
    "              description='Fraud Detection Model Deployment')"
   ]
  },
  {
   "cell_type": "markdown",
   "metadata": {},
   "source": [
    "<a id=\"test_model\"></a>\n",
    "### 1.9.5. Test the model locally\n",
    "\n",
    "We reload the model artifact so it is available locally"
   ]
  },
  {
   "cell_type": "code",
   "execution_count": 32,
   "metadata": {},
   "outputs": [],
   "source": [
    "artifact.reload()"
   ]
  },
  {
   "cell_type": "markdown",
   "metadata": {},
   "source": [
    "We'll get some sample data from our other dataset to test the model"
   ]
  },
  {
   "cell_type": "code",
   "execution_count": 52,
   "metadata": {},
   "outputs": [],
   "source": [
    "\n",
    "delta_data = pd.read_csv('/home/datascience/workspace/data/Sparkov_Data_Generation/data/training set/small/adults_50up_male_urban_80-99.csv', delimiter='|')\n",
    "input_data = delta_data[15:20].to_json(orient='records')\n"
   ]
  },
  {
   "cell_type": "code",
   "execution_count": 53,
   "metadata": {},
   "outputs": [
    {
     "data": {
      "text/plain": [
       "'[{\"ssn\":\"300-05-4504\",\"cc_num\":4279788191480,\"first\":\"Rodney\",\"last\":\"Richardson\",\"gender\":\"M\",\"street\":\"783 Garcia Village\",\"city\":\"Louisville\",\"state\":\"MS\",\"zip\":39339,\"lat\":33.1058,\"long\":-89.0287,\"city_pop\":15619,\"job\":\"Firefighter\",\"dob\":\"1948-07-03\",\"acct_num\":959056357132,\"profile\":\"adults_50up_male_urban.json\",\"trans_num\":\"973e3642c75c14cd199a83108bd9fe09\",\"trans_date\":\"2013-06-17\",\"trans_time\":\"23:33:20\",\"unix_time\":1371512000,\"category\":\"misc_net\",\"amt\":936.35,\"is_fraud\":1,\"merchant\":\"fraud_Dooley-Thompson\",\"merch_lat\":33.651027,\"merch_long\":-89.637855},{\"ssn\":\"300-05-4504\",\"cc_num\":4279788191480,\"first\":\"Rodney\",\"last\":\"Richardson\",\"gender\":\"M\",\"street\":\"783 Garcia Village\",\"city\":\"Louisville\",\"state\":\"MS\",\"zip\":39339,\"lat\":33.1058,\"long\":-89.0287,\"city_pop\":15619,\"job\":\"Firefighter\",\"dob\":\"1948-07-03\",\"acct_num\":959056357132,\"profile\":\"adults_50up_male_urban.json\",\"trans_num\":\"7e62101c31d0a2d5edbbab48e30e660b\",\"trans_date\":\"2013-06-17\",\"trans_time\":\"23:23:26\",\"unix_time\":1371511406,\"category\":\"grocery_pos\",\"amt\":844.37,\"is_fraud\":1,\"merchant\":\"fraud_Cartwright-Harris\",\"merch_lat\":33.906687,\"merch_long\":-88.507736},{\"ssn\":\"300-05-4504\",\"cc_num\":4279788191480,\"first\":\"Rodney\",\"last\":\"Richardson\",\"gender\":\"M\",\"street\":\"783 Garcia Village\",\"city\":\"Louisville\",\"state\":\"MS\",\"zip\":39339,\"lat\":33.1058,\"long\":-89.0287,\"city_pop\":15619,\"job\":\"Firefighter\",\"dob\":\"1948-07-03\",\"acct_num\":959056357132,\"profile\":\"adults_50up_male_urban.json\",\"trans_num\":\"e60e7f187a2e9971a80e4931f58eff63\",\"trans_date\":\"2013-06-18\",\"trans_time\":\"18:29:38\",\"unix_time\":1371580178,\"category\":\"shopping_net\",\"amt\":904.11,\"is_fraud\":1,\"merchant\":\"fraud_Gerlach Inc\",\"merch_lat\":32.596054,\"merch_long\":-90.015944},{\"ssn\":\"300-05-4504\",\"cc_num\":4279788191480,\"first\":\"Rodney\",\"last\":\"Richardson\",\"gender\":\"M\",\"street\":\"783 Garcia Village\",\"city\":\"Louisville\",\"state\":\"MS\",\"zip\":39339,\"lat\":33.1058,\"long\":-89.0287,\"city_pop\":15619,\"job\":\"Firefighter\",\"dob\":\"1948-07-03\",\"acct_num\":959056357132,\"profile\":\"adults_50up_male_urban.json\",\"trans_num\":\"21871263f6911f07299c965013809948\",\"trans_date\":\"2012-06-20\",\"trans_time\":\"03:43:32\",\"unix_time\":1340163812,\"category\":\"grocery_pos\",\"amt\":54.76,\"is_fraud\":0,\"merchant\":\"fraud_Padberg-Welch\",\"merch_lat\":32.527305,\"merch_long\":-88.866684},{\"ssn\":\"300-05-4504\",\"cc_num\":4279788191480,\"first\":\"Rodney\",\"last\":\"Richardson\",\"gender\":\"M\",\"street\":\"783 Garcia Village\",\"city\":\"Louisville\",\"state\":\"MS\",\"zip\":39339,\"lat\":33.1058,\"long\":-89.0287,\"city_pop\":15619,\"job\":\"Firefighter\",\"dob\":\"1948-07-03\",\"acct_num\":959056357132,\"profile\":\"adults_50up_male_urban.json\",\"trans_num\":\"9b882c94040cfb38cc84c2f91d14d656\",\"trans_date\":\"2012-02-28\",\"trans_time\":\"11:53:17\",\"unix_time\":1330429997,\"category\":\"gas_transport\",\"amt\":69.77,\"is_fraud\":0,\"merchant\":\"fraud_Corwin-Collins\",\"merch_lat\":32.756672,\"merch_long\":-88.803144}]'"
      ]
     },
     "execution_count": 53,
     "metadata": {},
     "output_type": "execute_result"
    }
   ],
   "source": [
    "input_data"
   ]
  },
  {
   "cell_type": "markdown",
   "metadata": {},
   "source": [
    "Now we can call the predict method of the model to test locally"
   ]
  },
  {
   "cell_type": "code",
   "execution_count": 54,
   "metadata": {},
   "outputs": [
    {
     "name": "stdout",
     "output_type": "stream",
     "text": [
      "Dataset Count: 5\n"
     ]
    },
    {
     "name": "stderr",
     "output_type": "stream",
     "text": [
      "22/06/17 23:09:23 WARN DAGScheduler: Broadcasting large task binary with size 21.9 MiB\n",
      "                                                                                \r"
     ]
    },
    {
     "data": {
      "text/plain": [
       "{'predictions': [{'acct_num': 959056357132,\n",
       "   'amt': 936.35,\n",
       "   'category': 'misc_net',\n",
       "   'cc_num': 4279788191480,\n",
       "   'city': 'Louisville',\n",
       "   'city_pop': 15619,\n",
       "   'dob': '1948-07-03',\n",
       "   'first': 'Rodney',\n",
       "   'gender': 1,\n",
       "   'is_fraud': 1,\n",
       "   'job': 'Firefighter',\n",
       "   'last': 'Richardson',\n",
       "   'lat': 33.1058,\n",
       "   'long': -89.0287,\n",
       "   'merch_lat': 33.651027,\n",
       "   'merch_long': -89.637855,\n",
       "   'merchant': 'fraud_Dooley-Thompson',\n",
       "   'profile': 'adults_50up_male_urban.json',\n",
       "   'ssn': '300-05-4504',\n",
       "   'state': 'MS',\n",
       "   'street': '783 Garcia Village',\n",
       "   'trans_date': '2013-06-17',\n",
       "   'trans_num': '973e3642c75c14cd199a83108bd9fe09',\n",
       "   'trans_time': '23:33:20',\n",
       "   'unix_time': 1371512000,\n",
       "   'zip': 39339,\n",
       "   'prediction': 1.0},\n",
       "  {'acct_num': 959056357132,\n",
       "   'amt': 844.37,\n",
       "   'category': 'grocery_pos',\n",
       "   'cc_num': 4279788191480,\n",
       "   'city': 'Louisville',\n",
       "   'city_pop': 15619,\n",
       "   'dob': '1948-07-03',\n",
       "   'first': 'Rodney',\n",
       "   'gender': 1,\n",
       "   'is_fraud': 1,\n",
       "   'job': 'Firefighter',\n",
       "   'last': 'Richardson',\n",
       "   'lat': 33.1058,\n",
       "   'long': -89.0287,\n",
       "   'merch_lat': 33.906687,\n",
       "   'merch_long': -88.507736,\n",
       "   'merchant': 'fraud_Cartwright-Harris',\n",
       "   'profile': 'adults_50up_male_urban.json',\n",
       "   'ssn': '300-05-4504',\n",
       "   'state': 'MS',\n",
       "   'street': '783 Garcia Village',\n",
       "   'trans_date': '2013-06-17',\n",
       "   'trans_num': '7e62101c31d0a2d5edbbab48e30e660b',\n",
       "   'trans_time': '23:23:26',\n",
       "   'unix_time': 1371511406,\n",
       "   'zip': 39339,\n",
       "   'prediction': 1.0},\n",
       "  {'acct_num': 959056357132,\n",
       "   'amt': 904.11,\n",
       "   'category': 'shopping_net',\n",
       "   'cc_num': 4279788191480,\n",
       "   'city': 'Louisville',\n",
       "   'city_pop': 15619,\n",
       "   'dob': '1948-07-03',\n",
       "   'first': 'Rodney',\n",
       "   'gender': 1,\n",
       "   'is_fraud': 1,\n",
       "   'job': 'Firefighter',\n",
       "   'last': 'Richardson',\n",
       "   'lat': 33.1058,\n",
       "   'long': -89.0287,\n",
       "   'merch_lat': 32.596054,\n",
       "   'merch_long': -90.015944,\n",
       "   'merchant': 'fraud_Gerlach Inc',\n",
       "   'profile': 'adults_50up_male_urban.json',\n",
       "   'ssn': '300-05-4504',\n",
       "   'state': 'MS',\n",
       "   'street': '783 Garcia Village',\n",
       "   'trans_date': '2013-06-18',\n",
       "   'trans_num': 'e60e7f187a2e9971a80e4931f58eff63',\n",
       "   'trans_time': '18:29:38',\n",
       "   'unix_time': 1371580178,\n",
       "   'zip': 39339,\n",
       "   'prediction': 1.0},\n",
       "  {'acct_num': 959056357132,\n",
       "   'amt': 54.76,\n",
       "   'category': 'grocery_pos',\n",
       "   'cc_num': 4279788191480,\n",
       "   'city': 'Louisville',\n",
       "   'city_pop': 15619,\n",
       "   'dob': '1948-07-03',\n",
       "   'first': 'Rodney',\n",
       "   'gender': 1,\n",
       "   'is_fraud': 0,\n",
       "   'job': 'Firefighter',\n",
       "   'last': 'Richardson',\n",
       "   'lat': 33.1058,\n",
       "   'long': -89.0287,\n",
       "   'merch_lat': 32.527305,\n",
       "   'merch_long': -88.866684,\n",
       "   'merchant': 'fraud_Padberg-Welch',\n",
       "   'profile': 'adults_50up_male_urban.json',\n",
       "   'ssn': '300-05-4504',\n",
       "   'state': 'MS',\n",
       "   'street': '783 Garcia Village',\n",
       "   'trans_date': '2012-06-20',\n",
       "   'trans_num': '21871263f6911f07299c965013809948',\n",
       "   'trans_time': '03:43:32',\n",
       "   'unix_time': 1340163812,\n",
       "   'zip': 39339,\n",
       "   'prediction': 0.0},\n",
       "  {'acct_num': 959056357132,\n",
       "   'amt': 69.77,\n",
       "   'category': 'gas_transport',\n",
       "   'cc_num': 4279788191480,\n",
       "   'city': 'Louisville',\n",
       "   'city_pop': 15619,\n",
       "   'dob': '1948-07-03',\n",
       "   'first': 'Rodney',\n",
       "   'gender': 1,\n",
       "   'is_fraud': 0,\n",
       "   'job': 'Firefighter',\n",
       "   'last': 'Richardson',\n",
       "   'lat': 33.1058,\n",
       "   'long': -89.0287,\n",
       "   'merch_lat': 32.756672,\n",
       "   'merch_long': -88.803144,\n",
       "   'merchant': 'fraud_Corwin-Collins',\n",
       "   'profile': 'adults_50up_male_urban.json',\n",
       "   'ssn': '300-05-4504',\n",
       "   'state': 'MS',\n",
       "   'street': '783 Garcia Village',\n",
       "   'trans_date': '2012-02-28',\n",
       "   'trans_num': '9b882c94040cfb38cc84c2f91d14d656',\n",
       "   'trans_time': '11:53:17',\n",
       "   'unix_time': 1330429997,\n",
       "   'zip': 39339,\n",
       "   'prediction': 0.0}]}"
      ]
     },
     "execution_count": 54,
     "metadata": {},
     "output_type": "execute_result"
    }
   ],
   "source": [
    "artifact.predict(data=input_data)"
   ]
  },
  {
   "cell_type": "code",
   "execution_count": 38,
   "metadata": {},
   "outputs": [
    {
     "data": {
      "text/plain": [
       "'ocid1.datasciencemodel.oc1.phx.amaaaaaanif7xwiadhrwqfg64bzydirrz5zy2ykqmlzmlxf6pcdnl6zwcasa'"
      ]
     },
     "execution_count": 38,
     "metadata": {},
     "output_type": "execute_result"
    }
   ],
   "source": [
    "catalog_entry.id"
   ]
  },
  {
   "cell_type": "code",
   "execution_count": 40,
   "metadata": {},
   "outputs": [
    {
     "data": {
      "text/plain": [
       "'ocid1.compartment.oc1..aaaaaaaa2rbhfgsffu5jytvfscpkw6nywg6ckss7uwo7b4hjaxnhtik2sona'"
      ]
     },
     "execution_count": 40,
     "metadata": {},
     "output_type": "execute_result"
    }
   ],
   "source": [
    "catalog_entry.project_id\n",
    "catalog_entry.compartment_id"
   ]
  },
  {
   "cell_type": "markdown",
   "metadata": {},
   "source": [
    "<a id=\"md\"></a>\n",
    "## 1.10. Deploy the model"
   ]
  },
  {
   "cell_type": "markdown",
   "metadata": {},
   "source": [
    "<a id=\"md_create\"></a>\n",
    "### 1.10.1 Create a Model Deployment and Endpoint"
   ]
  },
  {
   "cell_type": "code",
   "execution_count": 41,
   "metadata": {},
   "outputs": [
    {
     "data": {
      "application/vnd.jupyter.widget-view+json": {
       "model_id": "",
       "version_major": 2,
       "version_minor": 0
      },
      "text/plain": [
       "loop1:   0%|          | 0/6 [00:00<?, ?it/s]"
      ]
     },
     "metadata": {},
     "output_type": "display_data"
    }
   ],
   "source": [
    "deployer = ModelDeployer()\n",
    "deployment = deployer.deploy(\n",
    "    model_id=catalog_entry.id,\n",
    "    display_name=\"Fraud Detection Model Deployment\",\n",
    "    instance_shape=\"VM.Standard2.1\",\n",
    "    instance_count=1,\n",
    "    project_id=catalog_entry.project_id,\n",
    "    compartment_id=catalog_entry.compartment_id,\n",
    "    # The following are optional\n",
    "#     access_log_group_id=\"<ACCESS_LOG_GROUP_OCID>\",\n",
    "#     access_log_id=\"<ACCESS_LOG_OCID>\",\n",
    "#     predict_log_group_id=\"<PREDICT_LOG_GROUP_OCID>\",\n",
    "#     predict_log_id=\"<PREDICT_LOG_OCID>\",\n",
    "    wait_for_completion=True,\n",
    "    max_wait_time=600,\n",
    "    poll_interval=15\n",
    ")\n"
   ]
  },
  {
   "cell_type": "markdown",
   "metadata": {},
   "source": [
    "We can now get the deployment endpoint to test:"
   ]
  },
  {
   "cell_type": "code",
   "execution_count": 42,
   "metadata": {},
   "outputs": [
    {
     "data": {
      "text/plain": [
       "'https://modeldeployment.us-phoenix-1.oci.customer-oci.com/ocid1.datasciencemodeldeployment.oc1.phx.amaaaaaanif7xwiatcbvnm3vaeultgxema5wmihzkut7vpinvpaothdmuw5q'"
      ]
     },
     "execution_count": 42,
     "metadata": {},
     "output_type": "execute_result"
    }
   ],
   "source": [
    "deployment.url"
   ]
  },
  {
   "cell_type": "markdown",
   "metadata": {},
   "source": [
    "<a id=\"test_md\"></a>\n",
    "### 1.10.2 Test the Model Deployment Endpoint"
   ]
  },
  {
   "cell_type": "code",
   "execution_count": 55,
   "metadata": {},
   "outputs": [],
   "source": [
    "# Use resource principal authentication\n",
    "auth = oci.auth.signers.get_resource_principals_signer()\n",
    "endpoint =  f'{deployment.url}/predict'\n",
    "# endpoint = 'https://modeldeployment.us-phoenix-1.oci.customer-oci.com/ocid1.datasciencemodeldeployment.oc1.phx.amaaaaaanif7xwiaspqqm4gxlci24s5mb3ajplgchtfeguc3jvgqdwbu4rbq/predict'\n",
    "\n",
    "# send the POST request and get the response\n",
    "response = requests.post(endpoint, data=input_data, auth=auth)\n"
   ]
  },
  {
   "cell_type": "markdown",
   "metadata": {},
   "source": [
    "We can look at the returned object in json"
   ]
  },
  {
   "cell_type": "code",
   "execution_count": 56,
   "metadata": {
    "collapsed": true,
    "jupyter": {
     "outputs_hidden": true
    }
   },
   "outputs": [
    {
     "data": {
      "text/plain": [
       "{'predictions': [{'acct_num': 959056357132,\n",
       "   'amt': 936.35,\n",
       "   'category': 'misc_net',\n",
       "   'cc_num': 4279788191480,\n",
       "   'city': 'Louisville',\n",
       "   'city_pop': 15619,\n",
       "   'dob': '1948-07-03',\n",
       "   'first': 'Rodney',\n",
       "   'gender': 1,\n",
       "   'is_fraud': 1,\n",
       "   'job': 'Firefighter',\n",
       "   'last': 'Richardson',\n",
       "   'lat': 33.1058,\n",
       "   'long': -89.0287,\n",
       "   'merch_lat': 33.651027,\n",
       "   'merch_long': -89.637855,\n",
       "   'merchant': 'fraud_Dooley-Thompson',\n",
       "   'profile': 'adults_50up_male_urban.json',\n",
       "   'ssn': '300-05-4504',\n",
       "   'state': 'MS',\n",
       "   'street': '783 Garcia Village',\n",
       "   'trans_date': '2013-06-17',\n",
       "   'trans_num': '973e3642c75c14cd199a83108bd9fe09',\n",
       "   'trans_time': '23:33:20',\n",
       "   'unix_time': 1371512000,\n",
       "   'zip': 39339,\n",
       "   'prediction': 1.0},\n",
       "  {'acct_num': 959056357132,\n",
       "   'amt': 844.37,\n",
       "   'category': 'grocery_pos',\n",
       "   'cc_num': 4279788191480,\n",
       "   'city': 'Louisville',\n",
       "   'city_pop': 15619,\n",
       "   'dob': '1948-07-03',\n",
       "   'first': 'Rodney',\n",
       "   'gender': 1,\n",
       "   'is_fraud': 1,\n",
       "   'job': 'Firefighter',\n",
       "   'last': 'Richardson',\n",
       "   'lat': 33.1058,\n",
       "   'long': -89.0287,\n",
       "   'merch_lat': 33.906687,\n",
       "   'merch_long': -88.507736,\n",
       "   'merchant': 'fraud_Cartwright-Harris',\n",
       "   'profile': 'adults_50up_male_urban.json',\n",
       "   'ssn': '300-05-4504',\n",
       "   'state': 'MS',\n",
       "   'street': '783 Garcia Village',\n",
       "   'trans_date': '2013-06-17',\n",
       "   'trans_num': '7e62101c31d0a2d5edbbab48e30e660b',\n",
       "   'trans_time': '23:23:26',\n",
       "   'unix_time': 1371511406,\n",
       "   'zip': 39339,\n",
       "   'prediction': 1.0},\n",
       "  {'acct_num': 959056357132,\n",
       "   'amt': 904.11,\n",
       "   'category': 'shopping_net',\n",
       "   'cc_num': 4279788191480,\n",
       "   'city': 'Louisville',\n",
       "   'city_pop': 15619,\n",
       "   'dob': '1948-07-03',\n",
       "   'first': 'Rodney',\n",
       "   'gender': 1,\n",
       "   'is_fraud': 1,\n",
       "   'job': 'Firefighter',\n",
       "   'last': 'Richardson',\n",
       "   'lat': 33.1058,\n",
       "   'long': -89.0287,\n",
       "   'merch_lat': 32.596054,\n",
       "   'merch_long': -90.015944,\n",
       "   'merchant': 'fraud_Gerlach Inc',\n",
       "   'profile': 'adults_50up_male_urban.json',\n",
       "   'ssn': '300-05-4504',\n",
       "   'state': 'MS',\n",
       "   'street': '783 Garcia Village',\n",
       "   'trans_date': '2013-06-18',\n",
       "   'trans_num': 'e60e7f187a2e9971a80e4931f58eff63',\n",
       "   'trans_time': '18:29:38',\n",
       "   'unix_time': 1371580178,\n",
       "   'zip': 39339,\n",
       "   'prediction': 1.0},\n",
       "  {'acct_num': 959056357132,\n",
       "   'amt': 54.76,\n",
       "   'category': 'grocery_pos',\n",
       "   'cc_num': 4279788191480,\n",
       "   'city': 'Louisville',\n",
       "   'city_pop': 15619,\n",
       "   'dob': '1948-07-03',\n",
       "   'first': 'Rodney',\n",
       "   'gender': 1,\n",
       "   'is_fraud': 0,\n",
       "   'job': 'Firefighter',\n",
       "   'last': 'Richardson',\n",
       "   'lat': 33.1058,\n",
       "   'long': -89.0287,\n",
       "   'merch_lat': 32.527305,\n",
       "   'merch_long': -88.866684,\n",
       "   'merchant': 'fraud_Padberg-Welch',\n",
       "   'profile': 'adults_50up_male_urban.json',\n",
       "   'ssn': '300-05-4504',\n",
       "   'state': 'MS',\n",
       "   'street': '783 Garcia Village',\n",
       "   'trans_date': '2012-06-20',\n",
       "   'trans_num': '21871263f6911f07299c965013809948',\n",
       "   'trans_time': '03:43:32',\n",
       "   'unix_time': 1340163812,\n",
       "   'zip': 39339,\n",
       "   'prediction': 0.0},\n",
       "  {'acct_num': 959056357132,\n",
       "   'amt': 69.77,\n",
       "   'category': 'gas_transport',\n",
       "   'cc_num': 4279788191480,\n",
       "   'city': 'Louisville',\n",
       "   'city_pop': 15619,\n",
       "   'dob': '1948-07-03',\n",
       "   'first': 'Rodney',\n",
       "   'gender': 1,\n",
       "   'is_fraud': 0,\n",
       "   'job': 'Firefighter',\n",
       "   'last': 'Richardson',\n",
       "   'lat': 33.1058,\n",
       "   'long': -89.0287,\n",
       "   'merch_lat': 32.756672,\n",
       "   'merch_long': -88.803144,\n",
       "   'merchant': 'fraud_Corwin-Collins',\n",
       "   'profile': 'adults_50up_male_urban.json',\n",
       "   'ssn': '300-05-4504',\n",
       "   'state': 'MS',\n",
       "   'street': '783 Garcia Village',\n",
       "   'trans_date': '2012-02-28',\n",
       "   'trans_num': '9b882c94040cfb38cc84c2f91d14d656',\n",
       "   'trans_time': '11:53:17',\n",
       "   'unix_time': 1330429997,\n",
       "   'zip': 39339,\n",
       "   'prediction': 0.0}]}"
      ]
     },
     "execution_count": 56,
     "metadata": {},
     "output_type": "execute_result"
    }
   ],
   "source": [
    "results = response.json()\n",
    "results"
   ]
  },
  {
   "cell_type": "markdown",
   "metadata": {},
   "source": [
    "Note: if at this point you are getting an error `Authorization failed or requested resource not found.`, \n",
    "try the request again as you may have called the endpoint too soon.\n",
    "    "
   ]
  },
  {
   "cell_type": "markdown",
   "metadata": {},
   "source": [
    "For a more readable output of the predictions, we can create a pandas dataframe with the data:"
   ]
  },
  {
   "cell_type": "code",
   "execution_count": 57,
   "metadata": {},
   "outputs": [],
   "source": [
    "df = pd.DataFrame(results['predictions'])"
   ]
  },
  {
   "cell_type": "code",
   "execution_count": 58,
   "metadata": {},
   "outputs": [
    {
     "data": {
      "text/html": [
       "<div>\n",
       "<style scoped>\n",
       "    .dataframe tbody tr th:only-of-type {\n",
       "        vertical-align: middle;\n",
       "    }\n",
       "\n",
       "    .dataframe tbody tr th {\n",
       "        vertical-align: top;\n",
       "    }\n",
       "\n",
       "    .dataframe thead th {\n",
       "        text-align: right;\n",
       "    }\n",
       "</style>\n",
       "<table border=\"1\" class=\"dataframe\">\n",
       "  <thead>\n",
       "    <tr style=\"text-align: right;\">\n",
       "      <th></th>\n",
       "      <th>acct_num</th>\n",
       "      <th>amt</th>\n",
       "      <th>category</th>\n",
       "      <th>cc_num</th>\n",
       "      <th>city</th>\n",
       "      <th>city_pop</th>\n",
       "      <th>dob</th>\n",
       "      <th>first</th>\n",
       "      <th>gender</th>\n",
       "      <th>is_fraud</th>\n",
       "      <th>...</th>\n",
       "      <th>profile</th>\n",
       "      <th>ssn</th>\n",
       "      <th>state</th>\n",
       "      <th>street</th>\n",
       "      <th>trans_date</th>\n",
       "      <th>trans_num</th>\n",
       "      <th>trans_time</th>\n",
       "      <th>unix_time</th>\n",
       "      <th>zip</th>\n",
       "      <th>prediction</th>\n",
       "    </tr>\n",
       "  </thead>\n",
       "  <tbody>\n",
       "    <tr>\n",
       "      <th>0</th>\n",
       "      <td>959056357132</td>\n",
       "      <td>936.35</td>\n",
       "      <td>misc_net</td>\n",
       "      <td>4279788191480</td>\n",
       "      <td>Louisville</td>\n",
       "      <td>15619</td>\n",
       "      <td>1948-07-03</td>\n",
       "      <td>Rodney</td>\n",
       "      <td>1</td>\n",
       "      <td>1</td>\n",
       "      <td>...</td>\n",
       "      <td>adults_50up_male_urban.json</td>\n",
       "      <td>300-05-4504</td>\n",
       "      <td>MS</td>\n",
       "      <td>783 Garcia Village</td>\n",
       "      <td>2013-06-17</td>\n",
       "      <td>973e3642c75c14cd199a83108bd9fe09</td>\n",
       "      <td>23:33:20</td>\n",
       "      <td>1371512000</td>\n",
       "      <td>39339</td>\n",
       "      <td>1.0</td>\n",
       "    </tr>\n",
       "    <tr>\n",
       "      <th>1</th>\n",
       "      <td>959056357132</td>\n",
       "      <td>844.37</td>\n",
       "      <td>grocery_pos</td>\n",
       "      <td>4279788191480</td>\n",
       "      <td>Louisville</td>\n",
       "      <td>15619</td>\n",
       "      <td>1948-07-03</td>\n",
       "      <td>Rodney</td>\n",
       "      <td>1</td>\n",
       "      <td>1</td>\n",
       "      <td>...</td>\n",
       "      <td>adults_50up_male_urban.json</td>\n",
       "      <td>300-05-4504</td>\n",
       "      <td>MS</td>\n",
       "      <td>783 Garcia Village</td>\n",
       "      <td>2013-06-17</td>\n",
       "      <td>7e62101c31d0a2d5edbbab48e30e660b</td>\n",
       "      <td>23:23:26</td>\n",
       "      <td>1371511406</td>\n",
       "      <td>39339</td>\n",
       "      <td>1.0</td>\n",
       "    </tr>\n",
       "    <tr>\n",
       "      <th>2</th>\n",
       "      <td>959056357132</td>\n",
       "      <td>904.11</td>\n",
       "      <td>shopping_net</td>\n",
       "      <td>4279788191480</td>\n",
       "      <td>Louisville</td>\n",
       "      <td>15619</td>\n",
       "      <td>1948-07-03</td>\n",
       "      <td>Rodney</td>\n",
       "      <td>1</td>\n",
       "      <td>1</td>\n",
       "      <td>...</td>\n",
       "      <td>adults_50up_male_urban.json</td>\n",
       "      <td>300-05-4504</td>\n",
       "      <td>MS</td>\n",
       "      <td>783 Garcia Village</td>\n",
       "      <td>2013-06-18</td>\n",
       "      <td>e60e7f187a2e9971a80e4931f58eff63</td>\n",
       "      <td>18:29:38</td>\n",
       "      <td>1371580178</td>\n",
       "      <td>39339</td>\n",
       "      <td>1.0</td>\n",
       "    </tr>\n",
       "    <tr>\n",
       "      <th>3</th>\n",
       "      <td>959056357132</td>\n",
       "      <td>54.76</td>\n",
       "      <td>grocery_pos</td>\n",
       "      <td>4279788191480</td>\n",
       "      <td>Louisville</td>\n",
       "      <td>15619</td>\n",
       "      <td>1948-07-03</td>\n",
       "      <td>Rodney</td>\n",
       "      <td>1</td>\n",
       "      <td>0</td>\n",
       "      <td>...</td>\n",
       "      <td>adults_50up_male_urban.json</td>\n",
       "      <td>300-05-4504</td>\n",
       "      <td>MS</td>\n",
       "      <td>783 Garcia Village</td>\n",
       "      <td>2012-06-20</td>\n",
       "      <td>21871263f6911f07299c965013809948</td>\n",
       "      <td>03:43:32</td>\n",
       "      <td>1340163812</td>\n",
       "      <td>39339</td>\n",
       "      <td>0.0</td>\n",
       "    </tr>\n",
       "    <tr>\n",
       "      <th>4</th>\n",
       "      <td>959056357132</td>\n",
       "      <td>69.77</td>\n",
       "      <td>gas_transport</td>\n",
       "      <td>4279788191480</td>\n",
       "      <td>Louisville</td>\n",
       "      <td>15619</td>\n",
       "      <td>1948-07-03</td>\n",
       "      <td>Rodney</td>\n",
       "      <td>1</td>\n",
       "      <td>0</td>\n",
       "      <td>...</td>\n",
       "      <td>adults_50up_male_urban.json</td>\n",
       "      <td>300-05-4504</td>\n",
       "      <td>MS</td>\n",
       "      <td>783 Garcia Village</td>\n",
       "      <td>2012-02-28</td>\n",
       "      <td>9b882c94040cfb38cc84c2f91d14d656</td>\n",
       "      <td>11:53:17</td>\n",
       "      <td>1330429997</td>\n",
       "      <td>39339</td>\n",
       "      <td>0.0</td>\n",
       "    </tr>\n",
       "  </tbody>\n",
       "</table>\n",
       "<p>5 rows × 27 columns</p>\n",
       "</div>"
      ],
      "text/plain": [
       "       acct_num     amt       category         cc_num        city  city_pop  \\\n",
       "0  959056357132  936.35       misc_net  4279788191480  Louisville     15619   \n",
       "1  959056357132  844.37    grocery_pos  4279788191480  Louisville     15619   \n",
       "2  959056357132  904.11   shopping_net  4279788191480  Louisville     15619   \n",
       "3  959056357132   54.76    grocery_pos  4279788191480  Louisville     15619   \n",
       "4  959056357132   69.77  gas_transport  4279788191480  Louisville     15619   \n",
       "\n",
       "          dob   first  gender  is_fraud  ...                      profile  \\\n",
       "0  1948-07-03  Rodney       1         1  ...  adults_50up_male_urban.json   \n",
       "1  1948-07-03  Rodney       1         1  ...  adults_50up_male_urban.json   \n",
       "2  1948-07-03  Rodney       1         1  ...  adults_50up_male_urban.json   \n",
       "3  1948-07-03  Rodney       1         0  ...  adults_50up_male_urban.json   \n",
       "4  1948-07-03  Rodney       1         0  ...  adults_50up_male_urban.json   \n",
       "\n",
       "           ssn  state              street  trans_date  \\\n",
       "0  300-05-4504     MS  783 Garcia Village  2013-06-17   \n",
       "1  300-05-4504     MS  783 Garcia Village  2013-06-17   \n",
       "2  300-05-4504     MS  783 Garcia Village  2013-06-18   \n",
       "3  300-05-4504     MS  783 Garcia Village  2012-06-20   \n",
       "4  300-05-4504     MS  783 Garcia Village  2012-02-28   \n",
       "\n",
       "                          trans_num trans_time   unix_time    zip prediction  \n",
       "0  973e3642c75c14cd199a83108bd9fe09   23:33:20  1371512000  39339        1.0  \n",
       "1  7e62101c31d0a2d5edbbab48e30e660b   23:23:26  1371511406  39339        1.0  \n",
       "2  e60e7f187a2e9971a80e4931f58eff63   18:29:38  1371580178  39339        1.0  \n",
       "3  21871263f6911f07299c965013809948   03:43:32  1340163812  39339        0.0  \n",
       "4  9b882c94040cfb38cc84c2f91d14d656   11:53:17  1330429997  39339        0.0  \n",
       "\n",
       "[5 rows x 27 columns]"
      ]
     },
     "execution_count": 58,
     "metadata": {},
     "output_type": "execute_result"
    }
   ],
   "source": [
    "df.head(10)"
   ]
  },
  {
   "cell_type": "markdown",
   "metadata": {},
   "source": [
    "You are done: you explored the data, created a model, trained it on a large dataset, then created a batch inference application you can call on demand, and a real-time inference server you can call with the REST endpoint."
   ]
  },
  {
   "cell_type": "markdown",
   "metadata": {},
   "source": [
    "<a id=\"reference\"></a>\n",
    "# References\n",
    "\n",
    "**TODO: You must include these links:**\n",
    "\n",
    "- [ADS Library Documentation](https://docs.cloud.oracle.com/en-us/iaas/tools/ads-sdk/latest/index.html)\n",
    "- [Data Science YouTube Videos](https://www.youtube.com/playlist?list=PLKCk3OyNwIzv6CWMhvqSB_8MLJIZdO80L)\n",
    "- [OCI Data Science Documentation](https://docs.cloud.oracle.com/en-us/iaas/data-science/using/data-science.htm)\n",
    "- [Oracle Data & AI Blog](https://blogs.oracle.com/datascience/)\n",
    "\n",
    "**TODO: Provide any other links that help the customer get information about the conda. This may be links to related technology, blog posts, documentation, and the libraries.**\n",
    "\n",
    "* [Understanding Conda Environments](https://docs.cloud.oracle.com/en-us/iaas/data-science/using/use-notebook-sessions.htm#conda_understand_environments)\n",
    "* [Use Resource Manager to Configure Your Tenancy for Data Science](https://docs.cloud.oracle.com/en-us/iaas/data-science/using/orm-configure-tenancy.htm)"
   ]
  }
 ],
 "metadata": {
  "kernelspec": {
   "display_name": "Python [conda env:pyspark30_p37_cpu_v4]",
   "language": "python",
   "name": "conda-env-pyspark30_p37_cpu_v4-py"
  },
  "language_info": {
   "codemirror_mode": {
    "name": "ipython",
    "version": 3
   },
   "file_extension": ".py",
   "mimetype": "text/x-python",
   "name": "python",
   "nbconvert_exporter": "python",
   "pygments_lexer": "ipython3",
   "version": "3.7.12"
  },
  "pycharm": {
   "stem_cell": {
    "cell_type": "raw",
    "metadata": {
     "collapsed": false
    },
    "source": []
   }
  }
 },
 "nbformat": 4,
 "nbformat_minor": 4
}
