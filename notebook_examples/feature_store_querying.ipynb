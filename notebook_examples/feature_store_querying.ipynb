{
 "cells": [
  {
   "cell_type": "raw",
   "id": "7e04d02d",
   "metadata": {
    "pycharm": {
     "name": "#%% raw\n"
    }
   },
   "source": [
    "qweews@notebook{feature_store-querying.ipynb,\n",
    "    title: Using feature store for feature querying using pandas like interface for query and join,\n",
    "    summary: Feature store quickstart guide to perform feature querying using pandas like interface for query and join.,\n",
    "    developed_on: pyspark32_p38_cpu_feature_store_v1,\n",
    "    keywords: feature store, querying,\n",
    "    license: Universal Permissive License v 1.0\n",
    "}"
   ]
  },
  {
   "cell_type": "code",
   "execution_count": null,
   "id": "3d325ddb",
   "metadata": {
    "ExecuteTime": {
     "end_time": "2023-05-24T08:26:08.572567Z",
     "start_time": "2023-05-24T08:26:08.328013Z"
    },
    "pycharm": {
     "name": "#%%\n"
    }
   },
   "outputs": [],
   "source": [
    "# Upgrade Oracle ADS to pick up the latest preview version to maintain compatibility with Oracle Cloud Infrastructure.\n",
    "\n",
    "!odsc conda install --uri https://objectstorage.us-ashburn-1.oraclecloud.com/n/bigdatadatasciencelarge/b/service-conda-packs-fs/o/service_pack/cpu/PySpark_3.2_and_Feature_Store/1.0/fspyspark32_p38_cpu_v1#conda"
   ]
  },
  {
   "cell_type": "code",
   "execution_count": null,
   "id": "544cf0fe",
   "metadata": {
    "pycharm": {
     "name": "#%%\n"
    }
   },
   "outputs": [],
   "source": []
  },
  {
   "cell_type": "markdown",
   "id": "eff8a822",
   "metadata": {
    "pycharm": {
     "name": "#%% md\n"
    }
   },
   "source": [
    "Oracle Data Science service sample notebook.\n",
    "\n",
    "Copyright (c) 2022 Oracle, Inc. All rights reserved. Licensed under the [Universal Permissive License v 1.0](https://oss.oracle.com/licenses/upl).\n",
    "\n",
    "***\n",
    "\n",
    "# <font color=\"red\">Feature store handling querying operations</font>\n",
    "<p style=\"margin-left:10%; margin-right:10%;\">by the <font color=\"teal\">Oracle Cloud Infrastructure Data Science Service.</font></p>\n",
    "\n",
    "---\n",
    "# Overview:\n",
    "---\n",
    "Managing many datasets, data-sources and transformations for machine learning is complex and costly. Poorly cleaned data, data issues, bugs in transformations, data drift and training serving skew all leads to increased model development time and worse model performance. Here, feature store is well positioned to solve many of the problems since it provides a centralised way to transform and access data for training and serving time and helps defines a standardised pipeline for ingestion of data and querying of data. This notebook demonstrates how to use feature store within a long lasting [Oracle Cloud Infrastructure Data Flow](https://docs.oracle.com/en-us/iaas/data-flow/using/home.htm) cluster.\n",
    "\n",
    "Compatible conda pack: [PySpark 3.2 and Feature store](https://docs.oracle.com/iaas/data-science/using/conda-pyspark-fam.htm) for CPU on Python 3.8\n",
    "\n",
    "## Contents:\n",
    "\n",
    "- <a href=\"#concepts\">1. Introduction</a>\n",
    "- <a href='#pre-requisites'>1. Pre-requisites</a>\n",
    "    - <a href='#policies'>2.1 Policies</a>\n",
    "    - <a href='#prerequisites_authentication'>2.2 Authentication</a>\n",
    "    - <a href='#prerequisites_variables'>2.3 Variables</a>\n",
    "- <a href='#featurestore_querying'>3. Feature store querying</a>\n",
    "    - <a href='#data_exploration'>3.1. Exploration of data in feature store</a>\n",
    "    - <a href='#load_featuregroup'>3.2. Load feature groups</a>\n",
    "    - <a href='#explore_featuregroup'>3.3. Explore feature groups</a>\n",
    "    - <a href='#select_subset_featuregroup'>3.4. Select subset of features</a>\n",
    "    - <a href='#filter_featuregroup'>3.5. Filter feature groups</a>\n",
    "    - <a href='#join_featuregroup'>3.6. Apply joins on feature group</a>\n",
    "    - <a href='#create_dataset'>3.7. Create dataset from multiple or one feature group</a>\n",
    "    - <a href='#sql_query'>3.8 Free form sql query</a>\n",
    "- <a href='#ref'>4. References</a>\n",
    "\n",
    "---\n",
    "\n",
    "**Important:**\n",
    "\n",
    "Placeholder text for required values are surrounded by angle brackets that must be removed when adding the indicated content. For example, when adding a database name to `database_name = \"<database_name>\"` would become `database_name = \"production\"`.\n",
    "\n",
    "---"
   ]
  },
  {
   "cell_type": "markdown",
   "id": "208425ef",
   "metadata": {
    "pycharm": {
     "name": "#%% md\n"
    }
   },
   "source": [
    "<a id=\"concepts\"></a>\n",
    "# 1. Introduction\n",
    "\n",
    "Oracle feature store is a stack based solution that is deployed in the customer enclave using OCI resource manager. Customer can stand up the service with infrastructure in their own tenancy. The service consists of API which are deployed in customer tenancy using resource manager.\n",
    "\n",
    "The following are some key terms that will help you understand OCI Data Science Feature Store:\n",
    "\n",
    "\n",
    "* **Feature Vector**: Set of feature values for any one primary/identifier key. Eg. All/subset of features of customer id ‘2536’ can be called as one feature vector.\n",
    "\n",
    "* **Feature**: A feature is an individual measurable property or characteristic of a phenomenon being observed.\n",
    "\n",
    "* **Entity**: An entity is a group of semantically related features. The first step a consumer of features would typically do when accessing the feature store service is to list the entities and the entities associated features. Another way to look at it is that an entity is an object or concept that is described by its features. Examples of entities could be customer, product, transaction, review, image, document, etc.\n",
    "\n",
    "* **Feature Group**: A feature group in a feature store is a collection of related features that are often used together in ml models. It serves as an organizational unit within the feature store for users to manage, version and share features across different ml projects. By organizing features into groups, data scientists and ml engineers can efficiently discover, reuse and collaborate on features reducing the redundant work and ensuring consistency in feature engineering.\n",
    "\n",
    "* **Feature Group Job**: Feature group job is the execution instance of a feature group. Each feature group job will include validation results and statistics results.\n",
    "\n",
    "* **Dataset**: A dataset is a collection of feature that are used together to either train a model or perform model inference.\n",
    "\n",
    "* **Dataset Job**: Dataset job is the execution instance of a dataset. Each dataset job will include validation results and statistics results."
   ]
  },
  {
   "cell_type": "markdown",
   "id": "0bb56df6",
   "metadata": {
    "pycharm": {
     "name": "#%% md\n"
    }
   },
   "source": [
    "<a id='pre-requisites'></a>\n",
    "# 2. Pre-requisites\n",
    "\n",
    "Data Flow Sessions are accessible through the following conda environment:\n",
    "\n",
    "* **PySpark 3.2, Feature store 1.0 and Data Flow 1.0 (fs_pyspark32_p38_cpu_v1)**\n",
    "\n",
    "The [Data Catalog Hive Metastore](https://docs.oracle.com/en-us/iaas/data-catalog/using/metastore.htm) provides schema definitions for objects in structured and unstructured data assets. The Metastore is the central metadata repository to understand tables backed by files on object storage. You can customize `fs_pyspark32_p38_cpu_v1`, publish it, and use it as a runtime environment for a Data Flow session cluster. The metastore id of hive metastore is tied to feature store construct of feature store service.\n"
   ]
  },
  {
   "cell_type": "markdown",
   "id": "5669e712",
   "metadata": {
    "pycharm": {
     "name": "#%% md\n"
    }
   },
   "source": [
    "<a id='setup_spark-defaults'></a>\n",
    "### `spark-defaults.conf`\n",
    "\n",
    "The `spark-defaults.conf` file is used to define the properties that are used by Spark. A templated version is installed when you install a Data Science conda environment that supports PySpark. However, you must update the template so that the Data Catalog metastore can be accessed. You can do this manually. However, the `odsc data-catalog config` commandline tool is ideal for setting up the file because it gathers information about your environment, and uses that to build the file.\n",
    "\n",
    "The `odsc data-catalog config` command line tool needs the `--metastore` option to define the Data Catalog metastore OCID. No other command line option is needed because settings have default values, or they take values from your notebook session environment. Following are common parameters that you may need to override.\n",
    "\n",
    "The `--authentication` option sets the authentication mode. It supports resource principal and API keys. The preferred method for authentication is resource principal, which is sent with `--authentication resource_principal`. If you want to use API keys, then use the `--authentication api_key` option. If the `--authentication` isn't specified, API keys are used. When API keys are used, information from the OCI configuration file is used to create the `spark-defaults.conf` file.\n",
    "\n",
    "Object Storage and Data Catalog are regional services. By default, the region is set to the region your notebook session is running in. This information is taken from the environment variable, `NB_REGION`. Use the `--region` option to override this behavior.\n",
    "\n",
    "The default location of the `spark-defaults.conf` file is `/home/datascience/spark_conf_dir` as defined in the `SPARK_CONF_DIR` environment variable. Use the `--output` option to define the directory where to write the file.\n",
    "\n",
    "You need to determine what settings are appropriate for your configuration. However, the following works for most configurations and is run in a terminal window.\n",
    "\n",
    "```bash\n",
    "odsc data-catalog config --authentication resource_principal --metastore <metastore_id>\n",
    "```\n",
    "For more assistance, use the following command in a terminal window:\n",
    "\n",
    "```bash\n",
    "odsc data-catalog config --help\n",
    "```\n",
    "\n",
    "<a id='setup_session'></a>\n",
    "### Session Setup\n",
    "\n",
    "The notebook makes connections to the Data Catalog metastore and Object Storage. In the next cell, specify the bucket URI to act as the data warehouse. Use the `warehouse_uri` variable with the `oci://<bucket_name>@<namespace_name>/<key>` format. Update the variable `metastore_id` with the OCID of the Data Catalog metastore."
   ]
  },
  {
   "cell_type": "markdown",
   "id": "e0977c6c",
   "metadata": {
    "pycharm": {
     "name": "#%% md\n"
    }
   },
   "source": [
    "<a id='policies'></a>\n",
    "### 2.1. Policies\n",
    "This section covers the creation of dynamic groups and policies needed to use the service.\n",
    "\n",
    "* [Data Flow Policies](https://docs.oracle.com/iaas/data-flow/using/policies.htm/)\n",
    "* [Data Catalog Metastore Required Policies](https://docs.oracle.com/en-us/iaas/data-catalog/using/metastore.htm)\n",
    "* [Getting Started with Data Flow](https://docs.oracle.com/iaas/data-flow/using/dfs_getting_started.htm)\n",
    "* [About Data Science Policies](https://docs.oracle.com/iaas/data-science/using/policies.htm)"
   ]
  },
  {
   "cell_type": "markdown",
   "id": "455ddd75",
   "metadata": {
    "pycharm": {
     "name": "#%% md\n"
    }
   },
   "source": [
    "<a id=\"prerequisites_authentication\"></a>\n",
    "### 2.2. Authentication\n",
    "The [Oracle Accelerated Data Science SDK (ADS)](https://docs.oracle.com/iaas/tools/ads-sdk/latest/index.html) controls the authentication mechanism with the notebook cluster.<br>\n",
    "To setup authentication use the ```ads.set_auth(\"resource_principal\")``` or ```ads.set_auth(\"api_key\")```."
   ]
  },
  {
   "cell_type": "code",
   "execution_count": 1,
   "id": "964842e8",
   "metadata": {
    "ExecuteTime": {
     "start_time": "2023-05-24T08:26:08.577504Z"
    },
    "is_executing": true,
    "pycharm": {
     "is_executing": true,
     "name": "#%%\n"
    }
   },
   "outputs": [],
   "source": [
    "import ads\n",
    "ads.set_auth(auth=\"resource_principal\", client_kwargs={\"service_endpoint\": \"<api_gateway_endpoint>\"})"
   ]
  },
  {
   "cell_type": "markdown",
   "id": "3eeb7367",
   "metadata": {
    "pycharm": {
     "name": "#%% md\n"
    }
   },
   "source": [
    "<a id=\"prerequisites_variables\"></a>\n",
    "### 2.3. Variables\n",
    "To run this notebook, you must provide some information about your tenancy configuration. To create and run a feature store, you must specify a `<compartment_id>` and bucket `<metastore_id>` for offline feature store."
   ]
  },
  {
   "cell_type": "code",
   "execution_count": 2,
   "id": "8471ee05",
   "metadata": {
    "pycharm": {
     "is_executing": true,
     "name": "#%%\n"
    }
   },
   "outputs": [],
   "source": [
    "import os\n",
    "\n",
    "compartment_id = \"<compartment_id>\"\n",
    "metastore_id = \"<metastore_id>\""
   ]
  },
  {
   "cell_type": "markdown",
   "id": "4bcfeb4c",
   "metadata": {
    "pycharm": {
     "name": "#%% md\n"
    }
   },
   "source": [
    "<a id=\"featurestore_querying\"></a>\n",
    "# 3. Feature group querying\n",
    "By default the **PySpark 3.2, Feature store and Data Flow** conda environment includes pre-installed [great-expectations](https://legacy.docs.greatexpectations.io/en/latest/reference/core_concepts/validation.html) and [deeque](https://github.com/awslabs/deequ) libraries. The joining functionality is heavily inspired by the APIs used by Pandas to merge, join or filter DataFrames. The APIs allow you to specify which features to select from which feature group, how to join them and which features to use in join conditions."
   ]
  },
  {
   "cell_type": "code",
   "execution_count": 3,
   "id": "b46d9ca9",
   "metadata": {
    "pycharm": {
     "is_executing": true,
     "name": "#%%\n"
    }
   },
   "outputs": [],
   "source": [
    "import warnings\n",
    "warnings.filterwarnings(\"ignore\", message=\"iteritems is deprecated\")\n",
    "warnings.filterwarnings(\"ignore\", category=DeprecationWarning)"
   ]
  },
  {
   "cell_type": "code",
   "execution_count": 4,
   "id": "ef297a89",
   "metadata": {
    "pycharm": {
     "is_executing": true,
     "name": "#%%\n"
    }
   },
   "outputs": [
    {
     "name": "stdout",
     "output_type": "stream",
     "text": [
      "WARNING:py.warnings:/home/datascience/conda/fspyspark32_p38_cpu#conda_v1/lib/python3.8/site-packages/ads/model/deployment/model_deployment.py:48: DeprecationWarning: The `ads.model.deployment.model_deployment_properties` is deprecated in `oracle-ads 2.8.6` and will be removed in `oracle-ads 3.0`.Use `ModelDeploymentInfrastructure` and `ModelDeploymentRuntime` classes in `ads.model.deployment` module for configuring model deployment. Check https://accelerated-data-science.readthedocs.io/en/latest/user_guide/model_registration/introduction.html\n",
      "  from .model_deployment_properties import ModelDeploymentProperties\n",
      "\n",
      "WARNING:py.warnings:/home/datascience/conda/fspyspark32_p38_cpu#conda_v1/lib/python3.8/site-packages/ads/model/deployment/__init__.py:7: DeprecationWarning: The `ads.model.deployment.model_deployer` is deprecated in `oracle-ads 2.8.6` and will be removed in `oracle-ads 3.0`.Use `ModelDeployment` class in `ads.model.deployment` module for initializing and deploying model deployment. Check https://accelerated-data-science.readthedocs.io/en/latest/user_guide/model_registration/introduction.html\n",
      "  from .model_deployer import ModelDeployer\n",
      "\n",
      "WARNING:py.warnings:/home/datascience/conda/fspyspark32_p38_cpu#conda_v1/lib/python3.8/site-packages/pyspark/sql/pandas/utils.py:35: DeprecationWarning: distutils Version classes are deprecated. Use packaging.version instead.\n",
      "  if LooseVersion(pandas.__version__) < LooseVersion(minimum_pandas_version):\n",
      "\n",
      "WARNING:py.warnings:/home/datascience/conda/fspyspark32_p38_cpu#conda_v1/lib/python3.8/site-packages/pyspark/sql/pandas/utils.py:57: DeprecationWarning: distutils Version classes are deprecated. Use packaging.version instead.\n",
      "  if LooseVersion(pyarrow.__version__) < LooseVersion(minimum_pyarrow_version):\n",
      "\n",
      "WARNING:py.warnings:/home/datascience/conda/fspyspark32_p38_cpu#conda_v1/lib/python3.8/site-packages/pyspark/pandas/__init__.py:44: DeprecationWarning: distutils Version classes are deprecated. Use packaging.version instead.\n",
      "  LooseVersion(pyarrow.__version__) >= LooseVersion(\"2.0.0\")\n",
      "\n",
      "WARNING:root:'PYARROW_IGNORE_TIMEZONE' environment variable was not set. It is required to set this environment variable to '1' in both driver and executor sides if you use pyarrow>=2.0.0. pandas-on-Spark will set it for you but it does not work if there is a Spark context already launched.\n",
      "WARNING:py.warnings:/home/datascience/conda/fspyspark32_p38_cpu#conda_v1/lib/python3.8/site-packages/pyspark/pandas/frame.py:62: DeprecationWarning: distutils Version classes are deprecated. Use packaging.version instead.\n",
      "  if LooseVersion(pd.__version__) >= LooseVersion(\"0.24\"):\n",
      "\n",
      "WARNING:py.warnings:/home/datascience/conda/fspyspark32_p38_cpu#conda_v1/lib/python3.8/site-packages/pyspark/pandas/missing/frame.py:81: DeprecationWarning: distutils Version classes are deprecated. Use packaging.version instead.\n",
      "  if LooseVersion(pd.__version__) < LooseVersion(\"1.0\"):\n",
      "\n",
      "WARNING:py.warnings:/home/datascience/conda/fspyspark32_p38_cpu#conda_v1/lib/python3.8/site-packages/pyspark/pandas/missing/indexes.py:85: DeprecationWarning: distutils Version classes are deprecated. Use packaging.version instead.\n",
      "  if LooseVersion(pd.__version__) < LooseVersion(\"1.0\"):\n",
      "\n",
      "WARNING:py.warnings:/home/datascience/conda/fspyspark32_p38_cpu#conda_v1/lib/python3.8/site-packages/pyspark/pandas/missing/indexes.py:191: DeprecationWarning: distutils Version classes are deprecated. Use packaging.version instead.\n",
      "  if LooseVersion(pd.__version__) < LooseVersion(\"1.0\"):\n",
      "\n",
      "WARNING:py.warnings:/home/datascience/conda/fspyspark32_p38_cpu#conda_v1/lib/python3.8/site-packages/pyspark/pandas/missing/series.py:89: DeprecationWarning: distutils Version classes are deprecated. Use packaging.version instead.\n",
      "  if LooseVersion(pd.__version__) < LooseVersion(\"1.0\"):\n",
      "\n",
      "WARNING:py.warnings:/home/datascience/conda/fspyspark32_p38_cpu#conda_v1/lib/python3.8/site-packages/pyspark/pandas/groupby.py:50: DeprecationWarning: distutils Version classes are deprecated. Use packaging.version instead.\n",
      "  if LooseVersion(pd.__version__) >= LooseVersion(\"1.3.0\"):\n",
      "\n",
      "WARNING:py.warnings:/home/datascience/conda/fspyspark32_p38_cpu#conda_v1/lib/python3.8/site-packages/fs/__init__.py:4: DeprecationWarning: Deprecated call to `pkg_resources.declare_namespace('fs')`.\n",
      "Implementing implicit namespace packages (as specified in PEP 420) is preferred to `pkg_resources.declare_namespace`. See https://setuptools.pypa.io/en/latest/references/keywords.html#keyword-namespace-packages\n",
      "  __import__(\"pkg_resources\").declare_namespace(__name__)  # type: ignore\n",
      "\n",
      "WARNING:py.warnings:/home/datascience/conda/fspyspark32_p38_cpu#conda_v1/lib/python3.8/site-packages/fs/opener/__init__.py:6: DeprecationWarning: Deprecated call to `pkg_resources.declare_namespace('fs.opener')`.\n",
      "Implementing implicit namespace packages (as specified in PEP 420) is preferred to `pkg_resources.declare_namespace`. See https://setuptools.pypa.io/en/latest/references/keywords.html#keyword-namespace-packages\n",
      "  __import__(\"pkg_resources\").declare_namespace(__name__)  # type: ignore\n",
      "\n",
      "WARNING:py.warnings:/home/datascience/conda/fspyspark32_p38_cpu#conda_v1/lib/python3.8/site-packages/pkg_resources/__init__.py:2349: DeprecationWarning: Deprecated call to `pkg_resources.declare_namespace('fs')`.\n",
      "Implementing implicit namespace packages (as specified in PEP 420) is preferred to `pkg_resources.declare_namespace`. See https://setuptools.pypa.io/en/latest/references/keywords.html#keyword-namespace-packages\n",
      "  declare_namespace(parent)\n",
      "\n"
     ]
    }
   ],
   "source": [
    "import pandas as pd\n",
    "from ads.feature_store.feature_store import FeatureStore\n",
    "from ads.feature_store.feature_group import FeatureGroup\n",
    "from ads.feature_store.model_details import ModelDetails\n",
    "from ads.feature_store.dataset import Dataset\n",
    "from ads.feature_store.common.enums import DatasetIngestionMode\n",
    "\n",
    "from ads.feature_store.feature_group_expectation import ExpectationType\n",
    "from great_expectations.core import ExpectationSuite, ExpectationConfiguration\n",
    "from ads.feature_store.feature_store_registrar import FeatureStoreRegistrar"
   ]
  },
  {
   "cell_type": "markdown",
   "id": "d01c13f1",
   "metadata": {
    "pycharm": {
     "name": "#%% md\n"
    }
   },
   "source": [
    "<a id=\"data_exploration\"></a>\n",
    "### 3.1. Exploration of data in feature store"
   ]
  },
  {
   "cell_type": "code",
   "execution_count": 5,
   "id": "b8d4a31d",
   "metadata": {
    "pycharm": {
     "is_executing": true,
     "name": "#%%\n"
    }
   },
   "outputs": [
    {
     "name": "stdout",
     "output_type": "stream",
     "text": [
      "WARNING:py.warnings:/tmp/ipykernel_4349/906484602.py:1: DtypeWarning: Columns (7,8) have mixed types. Specify dtype option on import or set low_memory=False.\n",
      "  flights_df = pd.read_csv(\"https://objectstorage.us-ashburn-1.oraclecloud.com/p/hh2NOgFJbVSg4amcLM3G3hkTuHyBD-8aE_iCsuZKEvIav1Wlld-3zfCawG4ycQGN/n/ociodscdev/b/oci-feature-store/o/beta/data/flights/flights.csv\")[['YEAR', 'MONTH', 'DAY', 'DAY_OF_WEEK', 'AIRLINE', 'FLIGHT_NUMBER', 'ORIGIN_AIRPORT', 'DESTINATION_AIRPORT']]\n",
      "\n"
     ]
    },
    {
     "data": {
      "text/html": [
       "<div>\n",
       "<style scoped>\n",
       "    .dataframe tbody tr th:only-of-type {\n",
       "        vertical-align: middle;\n",
       "    }\n",
       "\n",
       "    .dataframe tbody tr th {\n",
       "        vertical-align: top;\n",
       "    }\n",
       "\n",
       "    .dataframe thead th {\n",
       "        text-align: right;\n",
       "    }\n",
       "</style>\n",
       "<table border=\"1\" class=\"dataframe\">\n",
       "  <thead>\n",
       "    <tr style=\"text-align: right;\">\n",
       "      <th></th>\n",
       "      <th>YEAR</th>\n",
       "      <th>MONTH</th>\n",
       "      <th>DAY</th>\n",
       "      <th>DAY_OF_WEEK</th>\n",
       "      <th>AIRLINE</th>\n",
       "      <th>FLIGHT_NUMBER</th>\n",
       "      <th>ORIGIN_AIRPORT</th>\n",
       "      <th>DESTINATION_AIRPORT</th>\n",
       "    </tr>\n",
       "  </thead>\n",
       "  <tbody>\n",
       "    <tr>\n",
       "      <th>0</th>\n",
       "      <td>2015</td>\n",
       "      <td>1</td>\n",
       "      <td>1</td>\n",
       "      <td>4</td>\n",
       "      <td>AS</td>\n",
       "      <td>98</td>\n",
       "      <td>ANC</td>\n",
       "      <td>SEA</td>\n",
       "    </tr>\n",
       "    <tr>\n",
       "      <th>1</th>\n",
       "      <td>2015</td>\n",
       "      <td>1</td>\n",
       "      <td>1</td>\n",
       "      <td>4</td>\n",
       "      <td>AA</td>\n",
       "      <td>2336</td>\n",
       "      <td>LAX</td>\n",
       "      <td>PBI</td>\n",
       "    </tr>\n",
       "    <tr>\n",
       "      <th>2</th>\n",
       "      <td>2015</td>\n",
       "      <td>1</td>\n",
       "      <td>1</td>\n",
       "      <td>4</td>\n",
       "      <td>US</td>\n",
       "      <td>840</td>\n",
       "      <td>SFO</td>\n",
       "      <td>CLT</td>\n",
       "    </tr>\n",
       "    <tr>\n",
       "      <th>3</th>\n",
       "      <td>2015</td>\n",
       "      <td>1</td>\n",
       "      <td>1</td>\n",
       "      <td>4</td>\n",
       "      <td>AA</td>\n",
       "      <td>258</td>\n",
       "      <td>LAX</td>\n",
       "      <td>MIA</td>\n",
       "    </tr>\n",
       "    <tr>\n",
       "      <th>4</th>\n",
       "      <td>2015</td>\n",
       "      <td>1</td>\n",
       "      <td>1</td>\n",
       "      <td>4</td>\n",
       "      <td>AS</td>\n",
       "      <td>135</td>\n",
       "      <td>SEA</td>\n",
       "      <td>ANC</td>\n",
       "    </tr>\n",
       "  </tbody>\n",
       "</table>\n",
       "</div>"
      ],
      "text/plain": [
       "   YEAR  MONTH  DAY  DAY_OF_WEEK AIRLINE  FLIGHT_NUMBER ORIGIN_AIRPORT  \\\n",
       "0  2015      1    1            4      AS             98            ANC   \n",
       "1  2015      1    1            4      AA           2336            LAX   \n",
       "2  2015      1    1            4      US            840            SFO   \n",
       "3  2015      1    1            4      AA            258            LAX   \n",
       "4  2015      1    1            4      AS            135            SEA   \n",
       "\n",
       "  DESTINATION_AIRPORT  \n",
       "0                 SEA  \n",
       "1                 PBI  \n",
       "2                 CLT  \n",
       "3                 MIA  \n",
       "4                 ANC  "
      ]
     },
     "execution_count": 5,
     "metadata": {},
     "output_type": "execute_result"
    }
   ],
   "source": [
    "flights_df = pd.read_csv(\"https://objectstorage.us-ashburn-1.oraclecloud.com/p/hh2NOgFJbVSg4amcLM3G3hkTuHyBD-8aE_iCsuZKEvIav1Wlld-3zfCawG4ycQGN/n/ociodscdev/b/oci-feature-store/o/beta/data/flights/flights.csv\")[['YEAR', 'MONTH', 'DAY', 'DAY_OF_WEEK', 'AIRLINE', 'FLIGHT_NUMBER', 'ORIGIN_AIRPORT', 'DESTINATION_AIRPORT']]\n",
    "flights_df = flights_df.head(100)\n",
    "flights_df.head()"
   ]
  },
  {
   "cell_type": "code",
   "execution_count": 6,
   "id": "0263f6a7",
   "metadata": {
    "pycharm": {
     "is_executing": true,
     "name": "#%%\n"
    }
   },
   "outputs": [
    {
     "data": {
      "text/html": [
       "<div>\n",
       "<style scoped>\n",
       "    .dataframe tbody tr th:only-of-type {\n",
       "        vertical-align: middle;\n",
       "    }\n",
       "\n",
       "    .dataframe tbody tr th {\n",
       "        vertical-align: top;\n",
       "    }\n",
       "\n",
       "    .dataframe thead th {\n",
       "        text-align: right;\n",
       "    }\n",
       "</style>\n",
       "<table border=\"1\" class=\"dataframe\">\n",
       "  <thead>\n",
       "    <tr style=\"text-align: right;\">\n",
       "      <th></th>\n",
       "      <th>IATA_CODE</th>\n",
       "      <th>AIRPORT</th>\n",
       "      <th>CITY</th>\n",
       "      <th>STATE</th>\n",
       "      <th>COUNTRY</th>\n",
       "      <th>LATITUDE</th>\n",
       "      <th>LONGITUDE</th>\n",
       "    </tr>\n",
       "  </thead>\n",
       "  <tbody>\n",
       "    <tr>\n",
       "      <th>0</th>\n",
       "      <td>ABE</td>\n",
       "      <td>Lehigh Valley International Airport</td>\n",
       "      <td>Allentown</td>\n",
       "      <td>PA</td>\n",
       "      <td>USA</td>\n",
       "      <td>40.65236</td>\n",
       "      <td>-75.44040</td>\n",
       "    </tr>\n",
       "    <tr>\n",
       "      <th>1</th>\n",
       "      <td>ABI</td>\n",
       "      <td>Abilene Regional Airport</td>\n",
       "      <td>Abilene</td>\n",
       "      <td>TX</td>\n",
       "      <td>USA</td>\n",
       "      <td>32.41132</td>\n",
       "      <td>-99.68190</td>\n",
       "    </tr>\n",
       "    <tr>\n",
       "      <th>2</th>\n",
       "      <td>ABQ</td>\n",
       "      <td>Albuquerque International Sunport</td>\n",
       "      <td>Albuquerque</td>\n",
       "      <td>NM</td>\n",
       "      <td>USA</td>\n",
       "      <td>35.04022</td>\n",
       "      <td>-106.60919</td>\n",
       "    </tr>\n",
       "    <tr>\n",
       "      <th>3</th>\n",
       "      <td>ABR</td>\n",
       "      <td>Aberdeen Regional Airport</td>\n",
       "      <td>Aberdeen</td>\n",
       "      <td>SD</td>\n",
       "      <td>USA</td>\n",
       "      <td>45.44906</td>\n",
       "      <td>-98.42183</td>\n",
       "    </tr>\n",
       "    <tr>\n",
       "      <th>4</th>\n",
       "      <td>ABY</td>\n",
       "      <td>Southwest Georgia Regional Airport</td>\n",
       "      <td>Albany</td>\n",
       "      <td>GA</td>\n",
       "      <td>USA</td>\n",
       "      <td>31.53552</td>\n",
       "      <td>-84.19447</td>\n",
       "    </tr>\n",
       "  </tbody>\n",
       "</table>\n",
       "</div>"
      ],
      "text/plain": [
       "  IATA_CODE                              AIRPORT         CITY STATE COUNTRY  \\\n",
       "0       ABE  Lehigh Valley International Airport    Allentown    PA     USA   \n",
       "1       ABI             Abilene Regional Airport      Abilene    TX     USA   \n",
       "2       ABQ    Albuquerque International Sunport  Albuquerque    NM     USA   \n",
       "3       ABR            Aberdeen Regional Airport     Aberdeen    SD     USA   \n",
       "4       ABY   Southwest Georgia Regional Airport       Albany    GA     USA   \n",
       "\n",
       "   LATITUDE  LONGITUDE  \n",
       "0  40.65236  -75.44040  \n",
       "1  32.41132  -99.68190  \n",
       "2  35.04022 -106.60919  \n",
       "3  45.44906  -98.42183  \n",
       "4  31.53552  -84.19447  "
      ]
     },
     "execution_count": 6,
     "metadata": {},
     "output_type": "execute_result"
    }
   ],
   "source": [
    "airports_df = pd.read_csv(\"https://objectstorage.us-ashburn-1.oraclecloud.com/p/hh2NOgFJbVSg4amcLM3G3hkTuHyBD-8aE_iCsuZKEvIav1Wlld-3zfCawG4ycQGN/n/ociodscdev/b/oci-feature-store/o/beta/data/flights/airports.csv\")\n",
    "airports_df.head()"
   ]
  },
  {
   "cell_type": "code",
   "execution_count": 7,
   "id": "bfac65f4",
   "metadata": {
    "pycharm": {
     "is_executing": true,
     "name": "#%%\n"
    }
   },
   "outputs": [
    {
     "data": {
      "text/html": [
       "<div>\n",
       "<style scoped>\n",
       "    .dataframe tbody tr th:only-of-type {\n",
       "        vertical-align: middle;\n",
       "    }\n",
       "\n",
       "    .dataframe tbody tr th {\n",
       "        vertical-align: top;\n",
       "    }\n",
       "\n",
       "    .dataframe thead th {\n",
       "        text-align: right;\n",
       "    }\n",
       "</style>\n",
       "<table border=\"1\" class=\"dataframe\">\n",
       "  <thead>\n",
       "    <tr style=\"text-align: right;\">\n",
       "      <th></th>\n",
       "      <th>IATA_CODE</th>\n",
       "      <th>AIRLINE</th>\n",
       "    </tr>\n",
       "  </thead>\n",
       "  <tbody>\n",
       "    <tr>\n",
       "      <th>0</th>\n",
       "      <td>UA</td>\n",
       "      <td>United Air Lines Inc.</td>\n",
       "    </tr>\n",
       "    <tr>\n",
       "      <th>1</th>\n",
       "      <td>AA</td>\n",
       "      <td>American Airlines Inc.</td>\n",
       "    </tr>\n",
       "    <tr>\n",
       "      <th>2</th>\n",
       "      <td>US</td>\n",
       "      <td>US Airways Inc.</td>\n",
       "    </tr>\n",
       "    <tr>\n",
       "      <th>3</th>\n",
       "      <td>F9</td>\n",
       "      <td>Frontier Airlines Inc.</td>\n",
       "    </tr>\n",
       "    <tr>\n",
       "      <th>4</th>\n",
       "      <td>B6</td>\n",
       "      <td>JetBlue Airways</td>\n",
       "    </tr>\n",
       "  </tbody>\n",
       "</table>\n",
       "</div>"
      ],
      "text/plain": [
       "  IATA_CODE                 AIRLINE\n",
       "0        UA   United Air Lines Inc.\n",
       "1        AA  American Airlines Inc.\n",
       "2        US         US Airways Inc.\n",
       "3        F9  Frontier Airlines Inc.\n",
       "4        B6         JetBlue Airways"
      ]
     },
     "execution_count": 7,
     "metadata": {},
     "output_type": "execute_result"
    }
   ],
   "source": [
    "airlines_df = pd.read_csv(\"https://objectstorage.us-ashburn-1.oraclecloud.com/p/hh2NOgFJbVSg4amcLM3G3hkTuHyBD-8aE_iCsuZKEvIav1Wlld-3zfCawG4ycQGN/n/ociodscdev/b/oci-feature-store/o/beta/data/flights/airlines.csv\")\n",
    "airlines_df.head()"
   ]
  },
  {
   "cell_type": "markdown",
   "id": "88a21cff",
   "metadata": {
    "pycharm": {
     "name": "#%% md\n"
    }
   },
   "source": [
    "<a id=\"load_featuregroup\"></a>\n",
    "### 3.2. Create feature store logical entities"
   ]
  },
  {
   "cell_type": "markdown",
   "id": "789489e5",
   "metadata": {
    "pycharm": {
     "name": "#%% md\n"
    }
   },
   "source": [
    "#### 3.2.1 Feature Store\n",
    "Feature store is the top level entity for feature store service"
   ]
  },
  {
   "cell_type": "code",
   "execution_count": 8,
   "id": "b490664b",
   "metadata": {
    "pycharm": {
     "is_executing": true,
     "name": "#%%\n"
    }
   },
   "outputs": [],
   "source": [
    "feature_store_resource = (\n",
    "    FeatureStore().\n",
    "    with_description(\"Data consisting of flights\").\n",
    "    with_compartment_id(compartment_id).\n",
    "    with_display_name(\"flights details\").\n",
    "    with_offline_config(metastore_id=metastore_id)\n",
    ")"
   ]
  },
  {
   "cell_type": "markdown",
   "id": "b9bb4ef6",
   "metadata": {
    "pycharm": {
     "name": "#%% md\n"
    }
   },
   "source": [
    "<a id=\"create_feature_store\"></a>\n",
    "##### Create Feature Store\n",
    "\n",
    "Call the ```.create()``` method of the Feature store instance to create a feature store."
   ]
  },
  {
   "cell_type": "code",
   "execution_count": 9,
   "id": "b70ade05",
   "metadata": {
    "pycharm": {
     "is_executing": true,
     "name": "#%%\n"
    }
   },
   "outputs": [
    {
     "data": {
      "text/plain": [
       "\n",
       "kind: featurestore\n",
       "spec:\n",
       "  compartmentId: ocid1.tenancy.oc1..aaaaaaaa25c5a2zpfki3wo4ofza5l72aehvwkjbuavpnzqtmr4nigdgzi57a\n",
       "  description: Data consisting of flights\n",
       "  displayName: flights details\n",
       "  id: 751D665EB6AE7360928F15705F9F0F48\n",
       "  offlineConfig:\n",
       "    metastoreId: ocid1.datacatalogmetastore.oc1.iad.amaaaaaanif7xwiaavhd2liaebamr3tbjzio3uw2lxuteoa5ejsfvhqufbsa\n",
       "type: featureStore"
      ]
     },
     "execution_count": 9,
     "metadata": {},
     "output_type": "execute_result"
    }
   ],
   "source": [
    "feature_store = feature_store_resource.create()\n",
    "feature_store"
   ]
  },
  {
   "cell_type": "markdown",
   "id": "4e2bc9f0",
   "metadata": {
    "pycharm": {
     "name": "#%% md\n"
    }
   },
   "source": [
    "#### 3.2.2 Entity\n",
    "An entity is a group of semantically related features."
   ]
  },
  {
   "cell_type": "code",
   "execution_count": 10,
   "id": "a75bf559",
   "metadata": {
    "pycharm": {
     "name": "#%%\n"
    }
   },
   "outputs": [
    {
     "data": {
      "text/plain": [
       "\n",
       "kind: entity\n",
       "spec:\n",
       "  compartmentId: ocid1.tenancy.oc1..aaaaaaaa25c5a2zpfki3wo4ofza5l72aehvwkjbuavpnzqtmr4nigdgzi57a\n",
       "  description: description for flight details\n",
       "  featureStoreId: 751D665EB6AE7360928F15705F9F0F48\n",
       "  id: 843E320A28F319748425787F04BCD3B8\n",
       "  name: Flight details2\n",
       "type: entity"
      ]
     },
     "execution_count": 10,
     "metadata": {},
     "output_type": "execute_result"
    }
   ],
   "source": [
    "entity = feature_store.create_entity(\n",
    "    display_name=\"Flight details2\",\n",
    "    description=\"description for flight details\"\n",
    ")\n",
    "entity"
   ]
  },
  {
   "cell_type": "markdown",
   "id": "6e4a0991",
   "metadata": {
    "pycharm": {
     "name": "#%% md\n"
    }
   },
   "source": [
    "#### 3.2.3 Feature group\n",
    "A feature group is an object that represents a logical group of time-series feature data as it is found in a datasource."
   ]
  },
  {
   "cell_type": "markdown",
   "id": "b59e6d7d",
   "metadata": {
    "pycharm": {
     "name": "#%% md\n"
    }
   },
   "source": [
    "<a id=\"create_feature_group_flights\"></a>\n",
    "##### Flights Feature Group\n",
    "\n",
    "Create feature group for flights\n",
    "\n",
    "<div>\n",
    "    <img src=\"https://objectstorage.us-ashburn-1.oraclecloud.com/p/hh2NOgFJbVSg4amcLM3G3hkTuHyBD-8aE_iCsuZKEvIav1Wlld-3zfCawG4ycQGN/n/ociodscdev/b/oci-feature-store/o/beta/_images/feature_group_flights.gif\" width=\"700\" height=\"350\" />\n",
    "</div>"
   ]
  },
  {
   "cell_type": "code",
   "execution_count": 11,
   "id": "9e0665c2",
   "metadata": {
    "pycharm": {
     "name": "#%%\n"
    }
   },
   "outputs": [
    {
     "name": "stderr",
     "output_type": "stream",
     "text": [
      "Setting default log level to \"WARN\".\n",
      "To adjust logging level use sc.setLogLevel(newLevel). For SparkR, use setLogLevel(newLevel).\n",
      "2023/07/14 04:29:29 NativeCodeLoader: Unable to load native-hadoop library for your platform... using builtin-java classes where applicable\n"
     ]
    },
    {
     "name": "stdout",
     "output_type": "stream",
     "text": [
      "WARNING:py.warnings:/home/datascience/conda/fspyspark32_p38_cpu#conda_v1/lib/python3.8/site-packages/pyspark/sql/pandas/utils.py:35: DeprecationWarning: distutils Version classes are deprecated. Use packaging.version instead.\n",
      "  if LooseVersion(pandas.__version__) < LooseVersion(minimum_pandas_version):\n",
      "\n",
      "WARNING:py.warnings:/home/datascience/conda/fspyspark32_p38_cpu#conda_v1/lib/python3.8/site-packages/pyspark/sql/pandas/utils.py:57: DeprecationWarning: distutils Version classes are deprecated. Use packaging.version instead.\n",
      "  if LooseVersion(pyarrow.__version__) < LooseVersion(minimum_pyarrow_version):\n",
      "\n"
     ]
    }
   ],
   "source": [
    "feature_group_flights = (\n",
    "    FeatureGroup()\n",
    "    .with_feature_store_id(feature_store.id)\n",
    "    .with_primary_keys([\"FLIGHT_NUMBER\"])\n",
    "    .with_name(\"flights_feature_group\")\n",
    "    .with_entity_id(entity.id)\n",
    "    .with_compartment_id(compartment_id)\n",
    "    .with_schema_details_from_dataframe(flights_df)\n",
    ")"
   ]
  },
  {
   "cell_type": "code",
   "execution_count": 12,
   "id": "753119fc",
   "metadata": {
    "collapsed": false,
    "jupyter": {
     "outputs_hidden": false
    },
    "pycharm": {
     "name": "#%%\n"
    }
   },
   "outputs": [
    {
     "data": {
      "text/plain": [
       "\n",
       "kind: FeatureGroup\n",
       "spec:\n",
       "  compartmentId: ocid1.tenancy.oc1..aaaaaaaa25c5a2zpfki3wo4ofza5l72aehvwkjbuavpnzqtmr4nigdgzi57a\n",
       "  entityId: 843E320A28F319748425787F04BCD3B8\n",
       "  featureStoreId: 751D665EB6AE7360928F15705F9F0F48\n",
       "  id: C24E858807F4EBA22BF14C08B9A6E2DD\n",
       "  inputFeatureDetails:\n",
       "  - featureType: LONG\n",
       "    name: YEAR\n",
       "    orderNumber: 1\n",
       "  - featureType: LONG\n",
       "    name: MONTH\n",
       "    orderNumber: 2\n",
       "  - featureType: LONG\n",
       "    name: DAY\n",
       "    orderNumber: 3\n",
       "  - featureType: LONG\n",
       "    name: DAY_OF_WEEK\n",
       "    orderNumber: 4\n",
       "  - featureType: STRING\n",
       "    name: AIRLINE\n",
       "    orderNumber: 5\n",
       "  - featureType: LONG\n",
       "    name: FLIGHT_NUMBER\n",
       "    orderNumber: 6\n",
       "  - featureType: STRING\n",
       "    name: ORIGIN_AIRPORT\n",
       "    orderNumber: 7\n",
       "  - featureType: STRING\n",
       "    name: DESTINATION_AIRPORT\n",
       "    orderNumber: 8\n",
       "  isInferSchema: true\n",
       "  name: flights_feature_group\n",
       "  primaryKeys:\n",
       "    items:\n",
       "    - name: FLIGHT_NUMBER\n",
       "  statisticsConfig:\n",
       "    isEnabled: true\n",
       "type: featureGroup"
      ]
     },
     "execution_count": 12,
     "metadata": {},
     "output_type": "execute_result"
    }
   ],
   "source": [
    "feature_group_flights.create()"
   ]
  },
  {
   "cell_type": "code",
   "execution_count": 13,
   "id": "7c7b8e9b",
   "metadata": {
    "pycharm": {
     "name": "#%%\n"
    }
   },
   "outputs": [
    {
     "data": {
      "image/svg+xml": [
       "<?xml version=\"1.0\" encoding=\"UTF-8\" standalone=\"no\"?>\n",
       "<!DOCTYPE svg PUBLIC \"-//W3C//DTD SVG 1.1//EN\"\n",
       " \"http://www.w3.org/Graphics/SVG/1.1/DTD/svg11.dtd\">\n",
       "<!-- Generated by graphviz version 2.30.1 (20200602.1248)\n",
       " -->\n",
       "<!-- Title: %3 Pages: 1 -->\n",
       "<svg width=\"590pt\" height=\"62pt\"\n",
       " viewBox=\"0.00 0.00 590.00 62.00\" xmlns=\"http://www.w3.org/2000/svg\" xmlns:xlink=\"http://www.w3.org/1999/xlink\">\n",
       "<g id=\"graph0\" class=\"graph\" transform=\"scale(1 1) rotate(0) translate(4 58)\">\n",
       "<title>%3</title>\n",
       "<polygon fill=\"white\" stroke=\"white\" points=\"-4,5 -4,-58 587,-58 587,5 -4,5\"/>\n",
       "<!-- 751D665EB6AE7360928F15705F9F0F48 -->\n",
       "<g id=\"node1\" class=\"node\"><title>751D665EB6AE7360928F15705F9F0F48</title>\n",
       "<path fill=\"#dedede\" stroke=\"#dedede\" d=\"M158,-54C158,-54 12,-54 12,-54 6,-54 0,-48 0,-42 0,-42 0,-12 0,-12 0,-6 6,-0 12,-0 12,-0 158,-0 158,-0 164,-0 170,-6 170,-12 170,-12 170,-42 170,-42 170,-48 164,-54 158,-54\"/>\n",
       "<text text-anchor=\"start\" x=\"54\" y=\"-37.7\" font-family=\"Helvetica,Arial,sans-serif\" font-size=\"11.00\">flights details</text>\n",
       "<text text-anchor=\"start\" x=\"63.5\" y=\"-23.4\" font-family=\"Helvetica,Arial,sans-serif\" font-size=\"7.00\">Feature Store</text>\n",
       "<text text-anchor=\"start\" x=\"12.5\" y=\"-10.4\" font-family=\"Courier New\" font-size=\"7.00\">751D665EB6AE7360928F15705F9F0F48</text>\n",
       "</g>\n",
       "<!-- 843E320A28F319748425787F04BCD3B8 -->\n",
       "<g id=\"node2\" class=\"node\"><title>843E320A28F319748425787F04BCD3B8</title>\n",
       "<path fill=\"#dedede\" stroke=\"#dedede\" d=\"M364,-54C364,-54 218,-54 218,-54 212,-54 206,-48 206,-42 206,-42 206,-12 206,-12 206,-6 212,-0 218,-0 218,-0 364,-0 364,-0 370,-0 376,-6 376,-12 376,-12 376,-42 376,-42 376,-48 370,-54 364,-54\"/>\n",
       "<text text-anchor=\"start\" x=\"257.5\" y=\"-37.7\" font-family=\"Helvetica,Arial,sans-serif\" font-size=\"11.00\">Flight details2</text>\n",
       "<text text-anchor=\"start\" x=\"281.5\" y=\"-23.4\" font-family=\"Helvetica,Arial,sans-serif\" font-size=\"7.00\">Entity</text>\n",
       "<text text-anchor=\"start\" x=\"218.5\" y=\"-10.4\" font-family=\"Courier New\" font-size=\"7.00\">843E320A28F319748425787F04BCD3B8</text>\n",
       "</g>\n",
       "<!-- 751D665EB6AE7360928F15705F9F0F48&#45;&gt;843E320A28F319748425787F04BCD3B8 -->\n",
       "<g id=\"edge1\" class=\"edge\"><title>751D665EB6AE7360928F15705F9F0F48&#45;&gt;843E320A28F319748425787F04BCD3B8</title>\n",
       "<path fill=\"none\" stroke=\"black\" d=\"M170.152,-27C178.501,-27 187.015,-27 195.46,-27\"/>\n",
       "<polygon fill=\"black\" stroke=\"black\" points=\"195.712,-30.5001 205.712,-27 195.712,-23.5001 195.712,-30.5001\"/>\n",
       "</g>\n",
       "<!-- C24E858807F4EBA22BF14C08B9A6E2DD -->\n",
       "<g id=\"node3\" class=\"node\"><title>C24E858807F4EBA22BF14C08B9A6E2DD</title>\n",
       "<path fill=\"#dedede\" stroke=\"#dedede\" d=\"M570,-54C570,-54 424,-54 424,-54 418,-54 412,-48 412,-42 412,-42 412,-12 412,-12 412,-6 418,-0 424,-0 424,-0 570,-0 570,-0 576,-0 582,-6 582,-12 582,-12 582,-42 582,-42 582,-48 576,-54 570,-54\"/>\n",
       "<text text-anchor=\"start\" x=\"446\" y=\"-37.7\" font-family=\"Helvetica,Arial,sans-serif\" font-size=\"11.00\">flights_feature_group</text>\n",
       "<text text-anchor=\"start\" x=\"474\" y=\"-23.4\" font-family=\"Helvetica,Arial,sans-serif\" font-size=\"7.00\">Feature Group</text>\n",
       "<text text-anchor=\"start\" x=\"424.5\" y=\"-10.4\" font-family=\"Courier New\" font-size=\"7.00\">C24E858807F4EBA22BF14C08B9A6E2DD</text>\n",
       "</g>\n",
       "<!-- 843E320A28F319748425787F04BCD3B8&#45;&gt;C24E858807F4EBA22BF14C08B9A6E2DD -->\n",
       "<g id=\"edge2\" class=\"edge\"><title>843E320A28F319748425787F04BCD3B8&#45;&gt;C24E858807F4EBA22BF14C08B9A6E2DD</title>\n",
       "<path fill=\"none\" stroke=\"black\" d=\"M376.152,-27C384.501,-27 393.015,-27 401.46,-27\"/>\n",
       "<polygon fill=\"black\" stroke=\"black\" points=\"401.712,-30.5001 411.712,-27 401.712,-23.5001 401.712,-30.5001\"/>\n",
       "</g>\n",
       "</g>\n",
       "</svg>\n"
      ],
      "text/plain": [
       "<graphviz.dot.Digraph at 0x7f8efa5f8310>"
      ]
     },
     "metadata": {},
     "output_type": "display_data"
    }
   ],
   "source": [
    "feature_group_flights.show()"
   ]
  },
  {
   "cell_type": "code",
   "execution_count": 14,
   "id": "8d28daf4",
   "metadata": {
    "pycharm": {
     "name": "#%%\n"
    }
   },
   "outputs": [
    {
     "name": "stderr",
     "output_type": "stream",
     "text": [
      "Hive Session ID = 59994193-ab1d-4749-8d21-17cc661a95c6\n"
     ]
    },
    {
     "name": "stdout",
     "output_type": "stream",
     "text": [
      "WARNING:py.warnings:/home/datascience/conda/fspyspark32_p38_cpu#conda_v1/lib/python3.8/site-packages/pyspark/sql/pandas/utils.py:35: DeprecationWarning: distutils Version classes are deprecated. Use packaging.version instead.\n",
      "  if LooseVersion(pandas.__version__) < LooseVersion(minimum_pandas_version):\n",
      "\n",
      "WARNING:py.warnings:/home/datascience/conda/fspyspark32_p38_cpu#conda_v1/lib/python3.8/site-packages/pyspark/sql/pandas/utils.py:57: DeprecationWarning: distutils Version classes are deprecated. Use packaging.version instead.\n",
      "  if LooseVersion(pyarrow.__version__) < LooseVersion(minimum_pyarrow_version):\n",
      "\n"
     ]
    },
    {
     "name": "stderr",
     "output_type": "stream",
     "text": [
      "                                                                                \r"
     ]
    },
    {
     "name": "stdout",
     "output_type": "stream",
     "text": [
      "INFO:mlm_insights.builder:validating required components\n",
      "INFO:mlm_insights.builder:required components validated\n",
      "INFO:mlm_insights.builder.usage:Activating Minimal Insights Usage\n",
      "INFO:mlm_insights.builder:Generating Runner object\n",
      "INFO:mlm_insights.builder:Generating workflow request\n",
      "INFO:mlm_insights.workflow:Fetching engine object\n",
      "INFO:mlm_insights.workflow:Returning native engine object\n",
      "INFO:mlm_insights.builder:Running Fugue Workflow\n",
      "INFO:mlm_insights.workflow:Executing Fugue Workflow\n"
     ]
    },
    {
     "name": "stderr",
     "output_type": "stream",
     "text": [
      "/home/datascience/conda/fspyspark32_p38_cpu#conda_v1/lib/python3.8/site-packages/mlm_insights/core/sfcs/descriptive_statistics_sfc.py:80: RuntimeWarning: Precision loss occurred in moment calculation due to catastrophic cancellation. This occurs when the data are nearly identical. Results may be unreliable.\n",
      "  self.central_moments = [moment(column, moment=i) for i in range(MAXIMUM_MOMENT_ORDER + 1)]\n",
      "/home/datascience/conda/fspyspark32_p38_cpu#conda_v1/lib/python3.8/site-packages/mlm_insights/core/sfcs/descriptive_statistics_sfc.py:80: RuntimeWarning: Precision loss occurred in moment calculation due to catastrophic cancellation. This occurs when the data are nearly identical. Results may be unreliable.\n",
      "  self.central_moments = [moment(column, moment=i) for i in range(MAXIMUM_MOMENT_ORDER + 1)]\n",
      "/home/datascience/conda/fspyspark32_p38_cpu#conda_v1/lib/python3.8/site-packages/mlm_insights/core/sfcs/descriptive_statistics_sfc.py:80: RuntimeWarning: Precision loss occurred in moment calculation due to catastrophic cancellation. This occurs when the data are nearly identical. Results may be unreliable.\n",
      "  self.central_moments = [moment(column, moment=i) for i in range(MAXIMUM_MOMENT_ORDER + 1)]\n",
      "/home/datascience/conda/fspyspark32_p38_cpu#conda_v1/lib/python3.8/site-packages/mlm_insights/core/sfcs/descriptive_statistics_sfc.py:80: RuntimeWarning: Precision loss occurred in moment calculation due to catastrophic cancellation. This occurs when the data are nearly identical. Results may be unreliable.\n",
      "  self.central_moments = [moment(column, moment=i) for i in range(MAXIMUM_MOMENT_ORDER + 1)]\n",
      "/home/datascience/conda/fspyspark32_p38_cpu#conda_v1/lib/python3.8/site-packages/mlm_insights/core/sfcs/descriptive_statistics_sfc.py:80: RuntimeWarning: Precision loss occurred in moment calculation due to catastrophic cancellation. This occurs when the data are nearly identical. Results may be unreliable.\n",
      "  self.central_moments = [moment(column, moment=i) for i in range(MAXIMUM_MOMENT_ORDER + 1)]\n",
      "/home/datascience/conda/fspyspark32_p38_cpu#conda_v1/lib/python3.8/site-packages/mlm_insights/core/sfcs/descriptive_statistics_sfc.py:80: RuntimeWarning: Precision loss occurred in moment calculation due to catastrophic cancellation. This occurs when the data are nearly identical. Results may be unreliable.\n",
      "  self.central_moments = [moment(column, moment=i) for i in range(MAXIMUM_MOMENT_ORDER + 1)]\n",
      "/home/datascience/conda/fspyspark32_p38_cpu#conda_v1/lib/python3.8/site-packages/mlm_insights/core/sfcs/descriptive_statistics_sfc.py:80: RuntimeWarning: Precision loss occurred in moment calculation due to catastrophic cancellation. This occurs when the data are nearly identical. Results may be unreliable.\n",
      "  self.central_moments = [moment(column, moment=i) for i in range(MAXIMUM_MOMENT_ORDER + 1)]\n",
      "/home/datascience/conda/fspyspark32_p38_cpu#conda_v1/lib/python3.8/site-packages/mlm_insights/core/sfcs/descriptive_statistics_sfc.py:80: RuntimeWarning: Precision loss occurred in moment calculation due to catastrophic cancellation. This occurs when the data are nearly identical. Results may be unreliable.\n",
      "  self.central_moments = [moment(column, moment=i) for i in range(MAXIMUM_MOMENT_ORDER + 1)]\n",
      "[Stage 8:=============================>                             (1 + 1) / 2]\r"
     ]
    },
    {
     "name": "stdout",
     "output_type": "stream",
     "text": [
      "INFO:mlm_insights.core.sfcs:creating sfc from {'c5144335a509689fc50d13d03eebc9b1': FrequentItemsSFC(sketch=<_datasketches.frequent_strings_sketch object at 0x7f8ef9399bf0>), 'c19e3960aa08a392d20aaa5da607d9ea': DescriptiveStatisticsSFC(total_count=100.0, mean=2015.0, minimum=2015.0, maximum=2015.0, central_moments=[1.0, 0.0, 0.0, 0.0, 0.0]), '4cd1d3704778a196571a6c83581854cc': DistinctCountSFC(sketch=<_datasketches.hll_sketch object at 0x7f8ef9399d70>), '6e3ac490990d92bca69c828fe3aff8ad': QuantilesSFC(kll_sketch=<_datasketches.kll_doubles_sketch object at 0x7f8ef9399cf0>)} sfc map\n",
      "INFO:mlm_insights.core.sfcs:creating sfc from {'c5144335a509689fc50d13d03eebc9b1': FrequentItemsSFC(sketch=<_datasketches.frequent_strings_sketch object at 0x7f8ef9203930>), 'c19e3960aa08a392d20aaa5da607d9ea': DescriptiveStatisticsSFC(total_count=100.0, mean=1.0, minimum=1.0, maximum=1.0, central_moments=[1.0, 0.0, 0.0, 0.0, 0.0]), '4cd1d3704778a196571a6c83581854cc': DistinctCountSFC(sketch=<_datasketches.hll_sketch object at 0x7f8ef9399e70>), '6e3ac490990d92bca69c828fe3aff8ad': QuantilesSFC(kll_sketch=<_datasketches.kll_doubles_sketch object at 0x7f8ef9399db0>)} sfc map\n",
      "INFO:mlm_insights.core.sfcs:creating sfc from {'c5144335a509689fc50d13d03eebc9b1': FrequentItemsSFC(sketch=<_datasketches.frequent_strings_sketch object at 0x7f8ef939a230>), 'c19e3960aa08a392d20aaa5da607d9ea': DescriptiveStatisticsSFC(total_count=100.0, mean=1.0, minimum=1.0, maximum=1.0, central_moments=[1.0, 0.0, 0.0, 0.0, 0.0]), '4cd1d3704778a196571a6c83581854cc': DistinctCountSFC(sketch=<_datasketches.hll_sketch object at 0x7f8ef939a570>), '6e3ac490990d92bca69c828fe3aff8ad': QuantilesSFC(kll_sketch=<_datasketches.kll_doubles_sketch object at 0x7f8ef939a470>)} sfc map\n",
      "INFO:mlm_insights.core.sfcs:creating sfc from {'c5144335a509689fc50d13d03eebc9b1': FrequentItemsSFC(sketch=<_datasketches.frequent_strings_sketch object at 0x7f8ef939a970>), 'c19e3960aa08a392d20aaa5da607d9ea': DescriptiveStatisticsSFC(total_count=100.0, mean=4.0, minimum=4.0, maximum=4.0, central_moments=[1.0, 0.0, 0.0, 0.0, 0.0]), '4cd1d3704778a196571a6c83581854cc': DistinctCountSFC(sketch=<_datasketches.hll_sketch object at 0x7f8ef939abf0>), '6e3ac490990d92bca69c828fe3aff8ad': QuantilesSFC(kll_sketch=<_datasketches.kll_doubles_sketch object at 0x7f8ef939aaf0>)} sfc map\n",
      "INFO:mlm_insights.core.sfcs:creating sfc from {'c5144335a509689fc50d13d03eebc9b1': FrequentItemsSFC(sketch=<_datasketches.frequent_strings_sketch object at 0x7f8ef9399630>), '4cd1d3704778a196571a6c83581854cc': DistinctCountSFC(sketch=<_datasketches.hll_sketch object at 0x7f8ef93a9030>)} sfc map\n",
      "INFO:mlm_insights.core.sfcs:creating sfc from {'c5144335a509689fc50d13d03eebc9b1': FrequentItemsSFC(sketch=<_datasketches.frequent_strings_sketch object at 0x7f8ef93a9530>), 'c19e3960aa08a392d20aaa5da607d9ea': DescriptiveStatisticsSFC(total_count=100.0, mean=1711.5100000000002, minimum=17.0, maximum=7419.0, central_moments=[1.0, 0.0, 3509091.8299000002, 10157914842.877602, 55483811382672.16]), '4cd1d3704778a196571a6c83581854cc': DistinctCountSFC(sketch=<_datasketches.hll_sketch object at 0x7f8ef93a97b0>), '6e3ac490990d92bca69c828fe3aff8ad': QuantilesSFC(kll_sketch=<_datasketches.kll_doubles_sketch object at 0x7f8ef93a96b0>)} sfc map\n",
      "INFO:mlm_insights.core.sfcs:creating sfc from {'c5144335a509689fc50d13d03eebc9b1': FrequentItemsSFC(sketch=<_datasketches.frequent_strings_sketch object at 0x7f8ef93a9af0>), '4cd1d3704778a196571a6c83581854cc': DistinctCountSFC(sketch=<_datasketches.hll_sketch object at 0x7f8ef93a9bb0>)} sfc map\n",
      "INFO:mlm_insights.core.sfcs:creating sfc from {'c5144335a509689fc50d13d03eebc9b1': FrequentItemsSFC(sketch=<_datasketches.frequent_strings_sketch object at 0x7f8ef93a9cb0>), '4cd1d3704778a196571a6c83581854cc': DistinctCountSFC(sketch=<_datasketches.hll_sketch object at 0x7f8ef9416830>)} sfc map\n",
      "INFO:mlm_insights.core.sdcs:creating sdc from {} sdc map\n",
      "INFO:mlm_insights.builder:Profile Generated Successfully\n",
      "INFO:mlm_insights.core.sfcs:getting SFCMetaData(klass=<class 'mlm_insights.core.sfcs.descriptive_statistics_sfc.DescriptiveStatisticsSFC'>, config={}) sfc from sfc meta data\n",
      "INFO:mlm_insights.core.metrics:Calculated Skewness metric, value: None\n",
      "INFO:mlm_insights.core.sfcs:getting SFCMetaData(klass=<class 'mlm_insights.core.sfcs.descriptive_statistics_sfc.DescriptiveStatisticsSFC'>, config={}) sfc from sfc meta data\n",
      "INFO:mlm_insights.core.sfcs:getting SFCMetaData(klass=<class 'mlm_insights.core.sfcs.descriptive_statistics_sfc.DescriptiveStatisticsSFC'>, config={}) sfc from sfc meta data\n",
      "INFO:mlm_insights.core.metrics:Creating StandardDeviation metric, value: 0.0\n",
      "INFO:mlm_insights.core.sfcs:getting SFCMetaData(klass=<class 'mlm_insights.core.sfcs.descriptive_statistics_sfc.DescriptiveStatisticsSFC'>, config={}) sfc from sfc meta data\n",
      "INFO:mlm_insights.core.sfcs:getting SFCMetaData(klass=<class 'mlm_insights.core.sfcs.descriptive_statistics_sfc.DescriptiveStatisticsSFC'>, config={}) sfc from sfc meta data\n",
      "INFO:mlm_insights.core.metrics:Calculated Min metric, value: 2015.0\n",
      "INFO:mlm_insights.core.sfcs:getting SFCMetaData(klass=<class 'mlm_insights.core.sfcs.descriptive_statistics_sfc.DescriptiveStatisticsSFC'>, config={}) sfc from sfc meta data\n",
      "INFO:mlm_insights.core.sfcs:getting SFCMetaData(klass=<class 'mlm_insights.core.sfcs.frequent_items_sfc.FrequentItemsSFC'>, config={}) sfc from sfc meta data\n",
      "INFO:mlm_insights.core.sfcs:Getting top 2 frequent items\n",
      "INFO:mlm_insights.core.sfcs:Getting list of all frequent items\n",
      "INFO:mlm_insights.core.metrics:Calculated IsConstantFeature metric, value: True\n",
      "INFO:mlm_insights.core.sfcs:getting SFCMetaData(klass=<class 'mlm_insights.core.sfcs.quantiles_sfc.QuantilesSFC'>, config={}) sfc from sfc meta data\n",
      "INFO:mlm_insights.core.sfcs:getting quantiles from sketch for rank 0.75\n",
      "INFO:mlm_insights.core.sfcs:getting quantiles from sketch for rank 0.25\n",
      "INFO:mlm_insights.core.metrics:Calculated IQR metric, value: 0.0\n",
      "INFO:mlm_insights.core.sfcs:getting quantiles from sketch for rank 0.75\n",
      "INFO:mlm_insights.core.sfcs:getting quantiles from sketch for rank 0.25\n",
      "INFO:mlm_insights.core.sfcs:getting SFCMetaData(klass=<class 'mlm_insights.core.sfcs.descriptive_statistics_sfc.DescriptiveStatisticsSFC'>, config={}) sfc from sfc meta data\n",
      "INFO:mlm_insights.core.metrics:Calculated Range metric, value: 0.0\n",
      "INFO:mlm_insights.core.sfcs:getting SFCMetaData(klass=<class 'mlm_insights.core.sfcs.quantiles_sfc.QuantilesSFC'>, config={}) sfc from sfc meta data\n",
      "INFO:mlm_insights.core.metrics:Calculated ProbabilityDistribution metric, value: {'bins': [2015.0], 'density': [1.0]}\n",
      "INFO:mlm_insights.core.sfcs:getting SFCMetaData(klass=<class 'mlm_insights.core.sfcs.descriptive_statistics_sfc.DescriptiveStatisticsSFC'>, config={}) sfc from sfc meta data\n",
      "INFO:mlm_insights.core.metrics:Calculated Variance metric, value: 0.0\n",
      "INFO:mlm_insights.core.sfcs:getting SFCMetaData(klass=<class 'mlm_insights.core.sfcs.descriptive_statistics_sfc.DescriptiveStatisticsSFC'>, config={}) sfc from sfc meta data\n",
      "INFO:mlm_insights.core.metrics:Calculated TypeMetric metric, value: {'string_type_count': 0, 'integral_type_count': 100, 'fractional_type_count': 0, 'boolean_type_count': 0}\n",
      "INFO:mlm_insights.core.sfcs:getting SFCMetaData(klass=<class 'mlm_insights.core.sfcs.quantiles_sfc.QuantilesSFC'>, config={}) sfc from sfc meta data\n",
      "INFO:mlm_insights.core.metrics:Calculated FrequencyDistribution metric, value: {'bins': [2015.0], 'frequency': [100]}\n",
      "INFO:mlm_insights.core.metrics:Calculated Count metric, value: {'total_count': 100.0, 'missing_count': 0.0, 'missing_count_percentage': 0.0}\n",
      "INFO:mlm_insights.core.sfcs:getting SFCMetaData(klass=<class 'mlm_insights.core.sfcs.descriptive_statistics_sfc.DescriptiveStatisticsSFC'>, config={}) sfc from sfc meta data\n",
      "INFO:mlm_insights.core.metrics:Calculated Max metric, value: 2015.0\n",
      "INFO:mlm_insights.core.sfcs:getting SFCMetaData(klass=<class 'mlm_insights.core.sfcs.descriptive_statistics_sfc.DescriptiveStatisticsSFC'>, config={}) sfc from sfc meta data\n",
      "INFO:mlm_insights.core.sfcs:getting SFCMetaData(klass=<class 'mlm_insights.core.sfcs.distinct_count_sfc.DistinctCountSFC'>, config={}) sfc from sfc meta data\n",
      "INFO:mlm_insights.core.sfcs:getting SFCMetaData(klass=<class 'mlm_insights.core.sfcs.frequent_items_sfc.FrequentItemsSFC'>, config={}) sfc from sfc meta data\n",
      "INFO:mlm_insights.core.sfcs:Getting total count of input data\n",
      "INFO:mlm_insights.core.sfcs:Calculated cardinality = 1.0 in Distinct count SFC, upper bound = 1.000049929250618, lower bound = 1.0\n",
      "INFO:mlm_insights.core.metrics:Calculated DistinctCount metric, value: 1.0\n",
      "INFO:mlm_insights.core.metrics:Calculated Sum metric, value: 201500.0\n",
      "INFO:mlm_insights.core.sfcs:getting SFCMetaData(klass=<class 'mlm_insights.core.sfcs.frequent_items_sfc.FrequentItemsSFC'>, config={}) sfc from sfc meta data\n",
      "INFO:mlm_insights.core.sfcs:Getting list of all frequent items\n",
      "INFO:mlm_insights.core.metrics:Calculated IsQuasiConstantFeature metric, value: True\n",
      "INFO:mlm_insights.core.sfcs:getting SFCMetaData(klass=<class 'mlm_insights.core.sfcs.quantiles_sfc.QuantilesSFC'>, config={}) sfc from sfc meta data\n",
      "INFO:mlm_insights.core.sfcs:getting quantiles from sketch for rank 0.25\n",
      "INFO:mlm_insights.core.sfcs:getting quantiles from sketch for rank 0.5\n",
      "INFO:mlm_insights.core.sfcs:getting quantiles from sketch for rank 0.75\n",
      "INFO:mlm_insights.core.metrics:Calculated Quartiles metric, value: {'q1': 2015.0, 'q2': 2015.0, 'q3': 2015.0}\n",
      "INFO:mlm_insights.core.sfcs:getting SFCMetaData(klass=<class 'mlm_insights.core.sfcs.descriptive_statistics_sfc.DescriptiveStatisticsSFC'>, config={}) sfc from sfc meta data\n",
      "INFO:mlm_insights.core.metrics:Calculated Mean metric, value: 2015.0\n",
      "INFO:mlm_insights.core.sfcs:getting SFCMetaData(klass=<class 'mlm_insights.core.sfcs.descriptive_statistics_sfc.DescriptiveStatisticsSFC'>, config={}) sfc from sfc meta data\n",
      "INFO:mlm_insights.core.sfcs:getting SFCMetaData(klass=<class 'mlm_insights.core.sfcs.descriptive_statistics_sfc.DescriptiveStatisticsSFC'>, config={}) sfc from sfc meta data\n",
      "INFO:mlm_insights.core.metrics:Calculated Kurtosis metric, value: None\n",
      "INFO:mlm_insights.core.sfcs:getting SFCMetaData(klass=<class 'mlm_insights.core.sfcs.descriptive_statistics_sfc.DescriptiveStatisticsSFC'>, config={}) sfc from sfc meta data\n",
      "INFO:mlm_insights.core.sfcs:getting SFCMetaData(klass=<class 'mlm_insights.core.sfcs.descriptive_statistics_sfc.DescriptiveStatisticsSFC'>, config={}) sfc from sfc meta data\n",
      "INFO:mlm_insights.core.metrics:Calculated Skewness metric, value: None\n",
      "INFO:mlm_insights.core.sfcs:getting SFCMetaData(klass=<class 'mlm_insights.core.sfcs.descriptive_statistics_sfc.DescriptiveStatisticsSFC'>, config={}) sfc from sfc meta data\n",
      "INFO:mlm_insights.core.sfcs:getting SFCMetaData(klass=<class 'mlm_insights.core.sfcs.descriptive_statistics_sfc.DescriptiveStatisticsSFC'>, config={}) sfc from sfc meta data\n",
      "INFO:mlm_insights.core.metrics:Creating StandardDeviation metric, value: 0.0\n",
      "INFO:mlm_insights.core.sfcs:getting SFCMetaData(klass=<class 'mlm_insights.core.sfcs.descriptive_statistics_sfc.DescriptiveStatisticsSFC'>, config={}) sfc from sfc meta data\n",
      "INFO:mlm_insights.core.sfcs:getting SFCMetaData(klass=<class 'mlm_insights.core.sfcs.descriptive_statistics_sfc.DescriptiveStatisticsSFC'>, config={}) sfc from sfc meta data\n",
      "INFO:mlm_insights.core.metrics:Calculated Min metric, value: 1.0\n",
      "INFO:mlm_insights.core.sfcs:getting SFCMetaData(klass=<class 'mlm_insights.core.sfcs.descriptive_statistics_sfc.DescriptiveStatisticsSFC'>, config={}) sfc from sfc meta data\n",
      "INFO:mlm_insights.core.sfcs:getting SFCMetaData(klass=<class 'mlm_insights.core.sfcs.frequent_items_sfc.FrequentItemsSFC'>, config={}) sfc from sfc meta data\n",
      "INFO:mlm_insights.core.sfcs:Getting top 2 frequent items\n",
      "INFO:mlm_insights.core.sfcs:Getting list of all frequent items\n",
      "INFO:mlm_insights.core.metrics:Calculated IsConstantFeature metric, value: True\n",
      "INFO:mlm_insights.core.sfcs:getting SFCMetaData(klass=<class 'mlm_insights.core.sfcs.quantiles_sfc.QuantilesSFC'>, config={}) sfc from sfc meta data\n",
      "INFO:mlm_insights.core.sfcs:getting quantiles from sketch for rank 0.75\n",
      "INFO:mlm_insights.core.sfcs:getting quantiles from sketch for rank 0.25\n",
      "INFO:mlm_insights.core.metrics:Calculated IQR metric, value: 0.0\n",
      "INFO:mlm_insights.core.sfcs:getting quantiles from sketch for rank 0.75\n",
      "INFO:mlm_insights.core.sfcs:getting quantiles from sketch for rank 0.25\n",
      "INFO:mlm_insights.core.sfcs:getting SFCMetaData(klass=<class 'mlm_insights.core.sfcs.descriptive_statistics_sfc.DescriptiveStatisticsSFC'>, config={}) sfc from sfc meta data\n",
      "INFO:mlm_insights.core.metrics:Calculated Range metric, value: 0.0\n",
      "INFO:mlm_insights.core.sfcs:getting SFCMetaData(klass=<class 'mlm_insights.core.sfcs.quantiles_sfc.QuantilesSFC'>, config={}) sfc from sfc meta data\n",
      "INFO:mlm_insights.core.metrics:Calculated ProbabilityDistribution metric, value: {'bins': [1.0], 'density': [1.0]}\n",
      "INFO:mlm_insights.core.sfcs:getting SFCMetaData(klass=<class 'mlm_insights.core.sfcs.descriptive_statistics_sfc.DescriptiveStatisticsSFC'>, config={}) sfc from sfc meta data\n",
      "INFO:mlm_insights.core.metrics:Calculated Variance metric, value: 0.0\n",
      "INFO:mlm_insights.core.sfcs:getting SFCMetaData(klass=<class 'mlm_insights.core.sfcs.descriptive_statistics_sfc.DescriptiveStatisticsSFC'>, config={}) sfc from sfc meta data\n",
      "INFO:mlm_insights.core.metrics:Calculated TypeMetric metric, value: {'string_type_count': 0, 'integral_type_count': 100, 'fractional_type_count': 0, 'boolean_type_count': 0}\n",
      "INFO:mlm_insights.core.sfcs:getting SFCMetaData(klass=<class 'mlm_insights.core.sfcs.quantiles_sfc.QuantilesSFC'>, config={}) sfc from sfc meta data\n",
      "INFO:mlm_insights.core.metrics:Calculated FrequencyDistribution metric, value: {'bins': [1.0], 'frequency': [100]}\n",
      "INFO:mlm_insights.core.metrics:Calculated Count metric, value: {'total_count': 100.0, 'missing_count': 0.0, 'missing_count_percentage': 0.0}\n",
      "INFO:mlm_insights.core.sfcs:getting SFCMetaData(klass=<class 'mlm_insights.core.sfcs.descriptive_statistics_sfc.DescriptiveStatisticsSFC'>, config={}) sfc from sfc meta data\n",
      "INFO:mlm_insights.core.metrics:Calculated Max metric, value: 1.0\n",
      "INFO:mlm_insights.core.sfcs:getting SFCMetaData(klass=<class 'mlm_insights.core.sfcs.descriptive_statistics_sfc.DescriptiveStatisticsSFC'>, config={}) sfc from sfc meta data\n",
      "INFO:mlm_insights.core.sfcs:getting SFCMetaData(klass=<class 'mlm_insights.core.sfcs.distinct_count_sfc.DistinctCountSFC'>, config={}) sfc from sfc meta data\n",
      "INFO:mlm_insights.core.sfcs:getting SFCMetaData(klass=<class 'mlm_insights.core.sfcs.frequent_items_sfc.FrequentItemsSFC'>, config={}) sfc from sfc meta data\n",
      "INFO:mlm_insights.core.sfcs:Getting total count of input data\n",
      "INFO:mlm_insights.core.sfcs:Calculated cardinality = 1.0 in Distinct count SFC, upper bound = 1.000049929250618, lower bound = 1.0\n",
      "INFO:mlm_insights.core.metrics:Calculated DistinctCount metric, value: 1.0\n",
      "INFO:mlm_insights.core.metrics:Calculated Sum metric, value: 100.0\n",
      "INFO:mlm_insights.core.sfcs:getting SFCMetaData(klass=<class 'mlm_insights.core.sfcs.frequent_items_sfc.FrequentItemsSFC'>, config={}) sfc from sfc meta data\n",
      "INFO:mlm_insights.core.sfcs:Getting list of all frequent items\n",
      "INFO:mlm_insights.core.metrics:Calculated IsQuasiConstantFeature metric, value: True\n",
      "INFO:mlm_insights.core.sfcs:getting SFCMetaData(klass=<class 'mlm_insights.core.sfcs.quantiles_sfc.QuantilesSFC'>, config={}) sfc from sfc meta data\n",
      "INFO:mlm_insights.core.sfcs:getting quantiles from sketch for rank 0.25\n",
      "INFO:mlm_insights.core.sfcs:getting quantiles from sketch for rank 0.5\n",
      "INFO:mlm_insights.core.sfcs:getting quantiles from sketch for rank 0.75\n",
      "INFO:mlm_insights.core.metrics:Calculated Quartiles metric, value: {'q1': 1.0, 'q2': 1.0, 'q3': 1.0}\n",
      "INFO:mlm_insights.core.sfcs:getting SFCMetaData(klass=<class 'mlm_insights.core.sfcs.descriptive_statistics_sfc.DescriptiveStatisticsSFC'>, config={}) sfc from sfc meta data\n",
      "INFO:mlm_insights.core.metrics:Calculated Mean metric, value: 1.0\n",
      "INFO:mlm_insights.core.sfcs:getting SFCMetaData(klass=<class 'mlm_insights.core.sfcs.descriptive_statistics_sfc.DescriptiveStatisticsSFC'>, config={}) sfc from sfc meta data\n",
      "INFO:mlm_insights.core.sfcs:getting SFCMetaData(klass=<class 'mlm_insights.core.sfcs.descriptive_statistics_sfc.DescriptiveStatisticsSFC'>, config={}) sfc from sfc meta data\n",
      "INFO:mlm_insights.core.metrics:Calculated Kurtosis metric, value: None\n",
      "INFO:mlm_insights.core.sfcs:getting SFCMetaData(klass=<class 'mlm_insights.core.sfcs.descriptive_statistics_sfc.DescriptiveStatisticsSFC'>, config={}) sfc from sfc meta data\n",
      "INFO:mlm_insights.core.sfcs:getting SFCMetaData(klass=<class 'mlm_insights.core.sfcs.descriptive_statistics_sfc.DescriptiveStatisticsSFC'>, config={}) sfc from sfc meta data\n",
      "INFO:mlm_insights.core.metrics:Calculated Skewness metric, value: None\n",
      "INFO:mlm_insights.core.sfcs:getting SFCMetaData(klass=<class 'mlm_insights.core.sfcs.descriptive_statistics_sfc.DescriptiveStatisticsSFC'>, config={}) sfc from sfc meta data\n",
      "INFO:mlm_insights.core.sfcs:getting SFCMetaData(klass=<class 'mlm_insights.core.sfcs.descriptive_statistics_sfc.DescriptiveStatisticsSFC'>, config={}) sfc from sfc meta data\n",
      "INFO:mlm_insights.core.metrics:Creating StandardDeviation metric, value: 0.0\n",
      "INFO:mlm_insights.core.sfcs:getting SFCMetaData(klass=<class 'mlm_insights.core.sfcs.descriptive_statistics_sfc.DescriptiveStatisticsSFC'>, config={}) sfc from sfc meta data\n",
      "INFO:mlm_insights.core.sfcs:getting SFCMetaData(klass=<class 'mlm_insights.core.sfcs.descriptive_statistics_sfc.DescriptiveStatisticsSFC'>, config={}) sfc from sfc meta data\n",
      "INFO:mlm_insights.core.metrics:Calculated Min metric, value: 1.0\n",
      "INFO:mlm_insights.core.sfcs:getting SFCMetaData(klass=<class 'mlm_insights.core.sfcs.descriptive_statistics_sfc.DescriptiveStatisticsSFC'>, config={}) sfc from sfc meta data\n",
      "INFO:mlm_insights.core.sfcs:getting SFCMetaData(klass=<class 'mlm_insights.core.sfcs.frequent_items_sfc.FrequentItemsSFC'>, config={}) sfc from sfc meta data\n",
      "INFO:mlm_insights.core.sfcs:Getting top 2 frequent items\n",
      "INFO:mlm_insights.core.sfcs:Getting list of all frequent items\n",
      "INFO:mlm_insights.core.metrics:Calculated IsConstantFeature metric, value: True\n",
      "INFO:mlm_insights.core.sfcs:getting SFCMetaData(klass=<class 'mlm_insights.core.sfcs.quantiles_sfc.QuantilesSFC'>, config={}) sfc from sfc meta data\n",
      "INFO:mlm_insights.core.sfcs:getting quantiles from sketch for rank 0.75\n",
      "INFO:mlm_insights.core.sfcs:getting quantiles from sketch for rank 0.25\n",
      "INFO:mlm_insights.core.metrics:Calculated IQR metric, value: 0.0\n",
      "INFO:mlm_insights.core.sfcs:getting quantiles from sketch for rank 0.75\n",
      "INFO:mlm_insights.core.sfcs:getting quantiles from sketch for rank 0.25\n",
      "INFO:mlm_insights.core.sfcs:getting SFCMetaData(klass=<class 'mlm_insights.core.sfcs.descriptive_statistics_sfc.DescriptiveStatisticsSFC'>, config={}) sfc from sfc meta data\n",
      "INFO:mlm_insights.core.metrics:Calculated Range metric, value: 0.0\n",
      "INFO:mlm_insights.core.sfcs:getting SFCMetaData(klass=<class 'mlm_insights.core.sfcs.quantiles_sfc.QuantilesSFC'>, config={}) sfc from sfc meta data\n",
      "INFO:mlm_insights.core.metrics:Calculated ProbabilityDistribution metric, value: {'bins': [1.0], 'density': [1.0]}\n",
      "INFO:mlm_insights.core.sfcs:getting SFCMetaData(klass=<class 'mlm_insights.core.sfcs.descriptive_statistics_sfc.DescriptiveStatisticsSFC'>, config={}) sfc from sfc meta data\n",
      "INFO:mlm_insights.core.metrics:Calculated Variance metric, value: 0.0\n",
      "INFO:mlm_insights.core.sfcs:getting SFCMetaData(klass=<class 'mlm_insights.core.sfcs.descriptive_statistics_sfc.DescriptiveStatisticsSFC'>, config={}) sfc from sfc meta data\n",
      "INFO:mlm_insights.core.metrics:Calculated TypeMetric metric, value: {'string_type_count': 0, 'integral_type_count': 100, 'fractional_type_count': 0, 'boolean_type_count': 0}\n",
      "INFO:mlm_insights.core.sfcs:getting SFCMetaData(klass=<class 'mlm_insights.core.sfcs.quantiles_sfc.QuantilesSFC'>, config={}) sfc from sfc meta data\n",
      "INFO:mlm_insights.core.metrics:Calculated FrequencyDistribution metric, value: {'bins': [1.0], 'frequency': [100]}\n",
      "INFO:mlm_insights.core.metrics:Calculated Count metric, value: {'total_count': 100.0, 'missing_count': 0.0, 'missing_count_percentage': 0.0}\n",
      "INFO:mlm_insights.core.sfcs:getting SFCMetaData(klass=<class 'mlm_insights.core.sfcs.descriptive_statistics_sfc.DescriptiveStatisticsSFC'>, config={}) sfc from sfc meta data\n",
      "INFO:mlm_insights.core.metrics:Calculated Max metric, value: 1.0\n",
      "INFO:mlm_insights.core.sfcs:getting SFCMetaData(klass=<class 'mlm_insights.core.sfcs.descriptive_statistics_sfc.DescriptiveStatisticsSFC'>, config={}) sfc from sfc meta data\n",
      "INFO:mlm_insights.core.sfcs:getting SFCMetaData(klass=<class 'mlm_insights.core.sfcs.distinct_count_sfc.DistinctCountSFC'>, config={}) sfc from sfc meta data\n",
      "INFO:mlm_insights.core.sfcs:getting SFCMetaData(klass=<class 'mlm_insights.core.sfcs.frequent_items_sfc.FrequentItemsSFC'>, config={}) sfc from sfc meta data\n",
      "INFO:mlm_insights.core.sfcs:Getting total count of input data\n",
      "INFO:mlm_insights.core.sfcs:Calculated cardinality = 1.0 in Distinct count SFC, upper bound = 1.000049929250618, lower bound = 1.0\n",
      "INFO:mlm_insights.core.metrics:Calculated DistinctCount metric, value: 1.0\n",
      "INFO:mlm_insights.core.metrics:Calculated Sum metric, value: 100.0\n",
      "INFO:mlm_insights.core.sfcs:getting SFCMetaData(klass=<class 'mlm_insights.core.sfcs.frequent_items_sfc.FrequentItemsSFC'>, config={}) sfc from sfc meta data\n",
      "INFO:mlm_insights.core.sfcs:Getting list of all frequent items\n",
      "INFO:mlm_insights.core.metrics:Calculated IsQuasiConstantFeature metric, value: True\n",
      "INFO:mlm_insights.core.sfcs:getting SFCMetaData(klass=<class 'mlm_insights.core.sfcs.quantiles_sfc.QuantilesSFC'>, config={}) sfc from sfc meta data\n",
      "INFO:mlm_insights.core.sfcs:getting quantiles from sketch for rank 0.25\n",
      "INFO:mlm_insights.core.sfcs:getting quantiles from sketch for rank 0.5\n",
      "INFO:mlm_insights.core.sfcs:getting quantiles from sketch for rank 0.75\n",
      "INFO:mlm_insights.core.metrics:Calculated Quartiles metric, value: {'q1': 1.0, 'q2': 1.0, 'q3': 1.0}\n",
      "INFO:mlm_insights.core.sfcs:getting SFCMetaData(klass=<class 'mlm_insights.core.sfcs.descriptive_statistics_sfc.DescriptiveStatisticsSFC'>, config={}) sfc from sfc meta data\n",
      "INFO:mlm_insights.core.metrics:Calculated Mean metric, value: 1.0\n"
     ]
    },
    {
     "name": "stderr",
     "output_type": "stream",
     "text": [
      "                                                                                \r"
     ]
    },
    {
     "name": "stdout",
     "output_type": "stream",
     "text": [
      "INFO:mlm_insights.core.sfcs:getting SFCMetaData(klass=<class 'mlm_insights.core.sfcs.descriptive_statistics_sfc.DescriptiveStatisticsSFC'>, config={}) sfc from sfc meta data\n",
      "INFO:mlm_insights.core.sfcs:getting SFCMetaData(klass=<class 'mlm_insights.core.sfcs.descriptive_statistics_sfc.DescriptiveStatisticsSFC'>, config={}) sfc from sfc meta data\n",
      "INFO:mlm_insights.core.metrics:Calculated Kurtosis metric, value: None\n",
      "INFO:mlm_insights.core.sfcs:getting SFCMetaData(klass=<class 'mlm_insights.core.sfcs.descriptive_statistics_sfc.DescriptiveStatisticsSFC'>, config={}) sfc from sfc meta data\n",
      "INFO:mlm_insights.core.sfcs:getting SFCMetaData(klass=<class 'mlm_insights.core.sfcs.descriptive_statistics_sfc.DescriptiveStatisticsSFC'>, config={}) sfc from sfc meta data\n",
      "INFO:mlm_insights.core.metrics:Calculated Skewness metric, value: None\n",
      "INFO:mlm_insights.core.sfcs:getting SFCMetaData(klass=<class 'mlm_insights.core.sfcs.descriptive_statistics_sfc.DescriptiveStatisticsSFC'>, config={}) sfc from sfc meta data\n",
      "INFO:mlm_insights.core.sfcs:getting SFCMetaData(klass=<class 'mlm_insights.core.sfcs.descriptive_statistics_sfc.DescriptiveStatisticsSFC'>, config={}) sfc from sfc meta data\n",
      "INFO:mlm_insights.core.metrics:Creating StandardDeviation metric, value: 0.0\n",
      "INFO:mlm_insights.core.sfcs:getting SFCMetaData(klass=<class 'mlm_insights.core.sfcs.descriptive_statistics_sfc.DescriptiveStatisticsSFC'>, config={}) sfc from sfc meta data\n",
      "INFO:mlm_insights.core.sfcs:getting SFCMetaData(klass=<class 'mlm_insights.core.sfcs.descriptive_statistics_sfc.DescriptiveStatisticsSFC'>, config={}) sfc from sfc meta data\n",
      "INFO:mlm_insights.core.metrics:Calculated Min metric, value: 4.0\n",
      "INFO:mlm_insights.core.sfcs:getting SFCMetaData(klass=<class 'mlm_insights.core.sfcs.descriptive_statistics_sfc.DescriptiveStatisticsSFC'>, config={}) sfc from sfc meta data\n",
      "INFO:mlm_insights.core.sfcs:getting SFCMetaData(klass=<class 'mlm_insights.core.sfcs.frequent_items_sfc.FrequentItemsSFC'>, config={}) sfc from sfc meta data\n",
      "INFO:mlm_insights.core.sfcs:Getting top 2 frequent items\n",
      "INFO:mlm_insights.core.sfcs:Getting list of all frequent items\n",
      "INFO:mlm_insights.core.metrics:Calculated IsConstantFeature metric, value: True\n",
      "INFO:mlm_insights.core.sfcs:getting SFCMetaData(klass=<class 'mlm_insights.core.sfcs.quantiles_sfc.QuantilesSFC'>, config={}) sfc from sfc meta data\n",
      "INFO:mlm_insights.core.sfcs:getting quantiles from sketch for rank 0.75\n",
      "INFO:mlm_insights.core.sfcs:getting quantiles from sketch for rank 0.25\n",
      "INFO:mlm_insights.core.metrics:Calculated IQR metric, value: 0.0\n",
      "INFO:mlm_insights.core.sfcs:getting quantiles from sketch for rank 0.75\n",
      "INFO:mlm_insights.core.sfcs:getting quantiles from sketch for rank 0.25\n",
      "INFO:mlm_insights.core.sfcs:getting SFCMetaData(klass=<class 'mlm_insights.core.sfcs.descriptive_statistics_sfc.DescriptiveStatisticsSFC'>, config={}) sfc from sfc meta data\n",
      "INFO:mlm_insights.core.metrics:Calculated Range metric, value: 0.0\n",
      "INFO:mlm_insights.core.sfcs:getting SFCMetaData(klass=<class 'mlm_insights.core.sfcs.quantiles_sfc.QuantilesSFC'>, config={}) sfc from sfc meta data\n",
      "INFO:mlm_insights.core.metrics:Calculated ProbabilityDistribution metric, value: {'bins': [4.0], 'density': [1.0]}\n",
      "INFO:mlm_insights.core.sfcs:getting SFCMetaData(klass=<class 'mlm_insights.core.sfcs.descriptive_statistics_sfc.DescriptiveStatisticsSFC'>, config={}) sfc from sfc meta data\n",
      "INFO:mlm_insights.core.metrics:Calculated Variance metric, value: 0.0\n",
      "INFO:mlm_insights.core.sfcs:getting SFCMetaData(klass=<class 'mlm_insights.core.sfcs.descriptive_statistics_sfc.DescriptiveStatisticsSFC'>, config={}) sfc from sfc meta data\n",
      "INFO:mlm_insights.core.metrics:Calculated TypeMetric metric, value: {'string_type_count': 0, 'integral_type_count': 100, 'fractional_type_count': 0, 'boolean_type_count': 0}\n",
      "INFO:mlm_insights.core.sfcs:getting SFCMetaData(klass=<class 'mlm_insights.core.sfcs.quantiles_sfc.QuantilesSFC'>, config={}) sfc from sfc meta data\n",
      "INFO:mlm_insights.core.metrics:Calculated FrequencyDistribution metric, value: {'bins': [4.0], 'frequency': [100]}\n",
      "INFO:mlm_insights.core.metrics:Calculated Count metric, value: {'total_count': 100.0, 'missing_count': 0.0, 'missing_count_percentage': 0.0}\n",
      "INFO:mlm_insights.core.sfcs:getting SFCMetaData(klass=<class 'mlm_insights.core.sfcs.descriptive_statistics_sfc.DescriptiveStatisticsSFC'>, config={}) sfc from sfc meta data\n",
      "INFO:mlm_insights.core.metrics:Calculated Max metric, value: 4.0\n",
      "INFO:mlm_insights.core.sfcs:getting SFCMetaData(klass=<class 'mlm_insights.core.sfcs.descriptive_statistics_sfc.DescriptiveStatisticsSFC'>, config={}) sfc from sfc meta data\n",
      "INFO:mlm_insights.core.sfcs:getting SFCMetaData(klass=<class 'mlm_insights.core.sfcs.distinct_count_sfc.DistinctCountSFC'>, config={}) sfc from sfc meta data\n",
      "INFO:mlm_insights.core.sfcs:getting SFCMetaData(klass=<class 'mlm_insights.core.sfcs.frequent_items_sfc.FrequentItemsSFC'>, config={}) sfc from sfc meta data\n",
      "INFO:mlm_insights.core.sfcs:Getting total count of input data\n",
      "INFO:mlm_insights.core.sfcs:Calculated cardinality = 1.0 in Distinct count SFC, upper bound = 1.000049929250618, lower bound = 1.0\n",
      "INFO:mlm_insights.core.metrics:Calculated DistinctCount metric, value: 1.0\n",
      "INFO:mlm_insights.core.metrics:Calculated Sum metric, value: 400.0\n",
      "INFO:mlm_insights.core.sfcs:getting SFCMetaData(klass=<class 'mlm_insights.core.sfcs.frequent_items_sfc.FrequentItemsSFC'>, config={}) sfc from sfc meta data\n",
      "INFO:mlm_insights.core.sfcs:Getting list of all frequent items\n",
      "INFO:mlm_insights.core.metrics:Calculated IsQuasiConstantFeature metric, value: True\n",
      "INFO:mlm_insights.core.sfcs:getting SFCMetaData(klass=<class 'mlm_insights.core.sfcs.quantiles_sfc.QuantilesSFC'>, config={}) sfc from sfc meta data\n",
      "INFO:mlm_insights.core.sfcs:getting quantiles from sketch for rank 0.25\n",
      "INFO:mlm_insights.core.sfcs:getting quantiles from sketch for rank 0.5\n",
      "INFO:mlm_insights.core.sfcs:getting quantiles from sketch for rank 0.75\n",
      "INFO:mlm_insights.core.metrics:Calculated Quartiles metric, value: {'q1': 4.0, 'q2': 4.0, 'q3': 4.0}\n",
      "INFO:mlm_insights.core.sfcs:getting SFCMetaData(klass=<class 'mlm_insights.core.sfcs.descriptive_statistics_sfc.DescriptiveStatisticsSFC'>, config={}) sfc from sfc meta data\n",
      "INFO:mlm_insights.core.metrics:Calculated Mean metric, value: 4.0\n",
      "INFO:mlm_insights.core.sfcs:getting SFCMetaData(klass=<class 'mlm_insights.core.sfcs.descriptive_statistics_sfc.DescriptiveStatisticsSFC'>, config={}) sfc from sfc meta data\n",
      "INFO:mlm_insights.core.sfcs:getting SFCMetaData(klass=<class 'mlm_insights.core.sfcs.descriptive_statistics_sfc.DescriptiveStatisticsSFC'>, config={}) sfc from sfc meta data\n",
      "INFO:mlm_insights.core.metrics:Calculated Kurtosis metric, value: None\n",
      "INFO:mlm_insights.core.sfcs:getting SFCMetaData(klass=<class 'mlm_insights.core.sfcs.descriptive_statistics_sfc.DescriptiveStatisticsSFC'>, config={}) sfc from sfc meta data\n",
      "INFO:mlm_insights.core.metrics:Calculated Count metric, value: {'total_count': 100.0, 'missing_count': 0.0, 'missing_count_percentage': 0.0}\n",
      "INFO:mlm_insights.core.sfcs:getting SFCMetaData(klass=<class 'mlm_insights.core.sfcs.frequent_items_sfc.FrequentItemsSFC'>, config={}) sfc from sfc meta data\n",
      "INFO:mlm_insights.core.sfcs:Getting top 10 frequent items\n",
      "INFO:mlm_insights.core.sfcs:Getting list of all frequent items\n",
      "INFO:mlm_insights.core.metrics:Calculated TopKFrequentElements metric, value: [FrequentItemEstimate(value='AA', estimate=14, lower_bound=14, upper_bound=14), FrequentItemEstimate(value='B6', estimate=12, lower_bound=12, upper_bound=12), FrequentItemEstimate(value='NK', estimate=11, lower_bound=11, upper_bound=11), FrequentItemEstimate(value='UA', estimate=11, lower_bound=11, upper_bound=11), FrequentItemEstimate(value='AS', estimate=11, lower_bound=11, upper_bound=11), FrequentItemEstimate(value='DL', estimate=11, lower_bound=11, upper_bound=11), FrequentItemEstimate(value='US', estimate=8, lower_bound=8, upper_bound=8), FrequentItemEstimate(value='OO', estimate=8, lower_bound=8, upper_bound=8), FrequentItemEstimate(value='EV', estimate=7, lower_bound=7, upper_bound=7), FrequentItemEstimate(value='HA', estimate=5, lower_bound=5, upper_bound=5)]\n",
      "INFO:mlm_insights.core.sfcs:getting SFCMetaData(klass=<class 'mlm_insights.core.sfcs.frequent_items_sfc.FrequentItemsSFC'>, config={}) sfc from sfc meta data\n",
      "INFO:mlm_insights.core.sfcs:Getting top 10 frequent items\n",
      "INFO:mlm_insights.core.sfcs:Getting list of all frequent items\n",
      "INFO:mlm_insights.core.metrics:Calculated TypeMetric metric, value: {'string_type_count': 100, 'integral_type_count': 0, 'fractional_type_count': 0, 'boolean_type_count': 0}\n",
      "INFO:mlm_insights.core.sfcs:getting SFCMetaData(klass=<class 'mlm_insights.core.sfcs.distinct_count_sfc.DistinctCountSFC'>, config={}) sfc from sfc meta data\n",
      "INFO:mlm_insights.core.sfcs:getting SFCMetaData(klass=<class 'mlm_insights.core.sfcs.frequent_items_sfc.FrequentItemsSFC'>, config={}) sfc from sfc meta data\n",
      "INFO:mlm_insights.core.sfcs:Calculated cardinality = 12.000000327825557 in Distinct count SFC, upper bound = 12.000599478849342, lower bound = 12.0\n",
      "INFO:mlm_insights.core.sfcs:Getting total count of input data\n",
      "INFO:mlm_insights.core.metrics:Calculated DuplicateCount metric, value: {'count': 88, 'percentage': 88.0}\n",
      "INFO:mlm_insights.core.sfcs:getting SFCMetaData(klass=<class 'mlm_insights.core.sfcs.frequent_items_sfc.FrequentItemsSFC'>, config={}) sfc from sfc meta data\n",
      "INFO:mlm_insights.core.sfcs:Getting top 2 frequent items\n",
      "INFO:mlm_insights.core.sfcs:Getting list of all frequent items\n",
      "INFO:mlm_insights.core.metrics:Calculated Mode metric, value: ['AA']\n",
      "INFO:mlm_insights.core.sfcs:getting SFCMetaData(klass=<class 'mlm_insights.core.sfcs.distinct_count_sfc.DistinctCountSFC'>, config={}) sfc from sfc meta data\n",
      "INFO:mlm_insights.core.sfcs:getting SFCMetaData(klass=<class 'mlm_insights.core.sfcs.frequent_items_sfc.FrequentItemsSFC'>, config={}) sfc from sfc meta data\n",
      "INFO:mlm_insights.core.sfcs:Getting total count of input data\n",
      "INFO:mlm_insights.core.sfcs:Calculated cardinality = 12.000000327825557 in Distinct count SFC, upper bound = 12.000599478849342, lower bound = 12.0\n",
      "INFO:mlm_insights.core.metrics:Calculated DistinctCount metric, value: 12.000000327825557\n",
      "INFO:mlm_insights.core.sfcs:getting SFCMetaData(klass=<class 'mlm_insights.core.sfcs.descriptive_statistics_sfc.DescriptiveStatisticsSFC'>, config={}) sfc from sfc meta data\n",
      "INFO:mlm_insights.core.metrics:Calculated Skewness metric, value: 1.5452988004009884\n",
      "INFO:mlm_insights.core.sfcs:getting SFCMetaData(klass=<class 'mlm_insights.core.sfcs.descriptive_statistics_sfc.DescriptiveStatisticsSFC'>, config={}) sfc from sfc meta data\n",
      "INFO:mlm_insights.core.sfcs:getting SFCMetaData(klass=<class 'mlm_insights.core.sfcs.descriptive_statistics_sfc.DescriptiveStatisticsSFC'>, config={}) sfc from sfc meta data\n",
      "INFO:mlm_insights.core.metrics:Creating StandardDeviation metric, value: 1873.257011170651\n",
      "INFO:mlm_insights.core.sfcs:getting SFCMetaData(klass=<class 'mlm_insights.core.sfcs.descriptive_statistics_sfc.DescriptiveStatisticsSFC'>, config={}) sfc from sfc meta data\n",
      "INFO:mlm_insights.core.sfcs:getting SFCMetaData(klass=<class 'mlm_insights.core.sfcs.descriptive_statistics_sfc.DescriptiveStatisticsSFC'>, config={}) sfc from sfc meta data\n",
      "INFO:mlm_insights.core.metrics:Calculated Min metric, value: 17.0\n",
      "INFO:mlm_insights.core.sfcs:getting SFCMetaData(klass=<class 'mlm_insights.core.sfcs.descriptive_statistics_sfc.DescriptiveStatisticsSFC'>, config={}) sfc from sfc meta data\n",
      "INFO:mlm_insights.core.sfcs:getting SFCMetaData(klass=<class 'mlm_insights.core.sfcs.frequent_items_sfc.FrequentItemsSFC'>, config={}) sfc from sfc meta data\n",
      "INFO:mlm_insights.core.sfcs:Getting top 2 frequent items\n",
      "INFO:mlm_insights.core.sfcs:Getting list of all frequent items\n",
      "INFO:mlm_insights.core.metrics:Calculated IsConstantFeature metric, value: False\n",
      "INFO:mlm_insights.core.sfcs:getting SFCMetaData(klass=<class 'mlm_insights.core.sfcs.quantiles_sfc.QuantilesSFC'>, config={}) sfc from sfc meta data\n",
      "INFO:mlm_insights.core.sfcs:getting quantiles from sketch for rank 0.75\n",
      "INFO:mlm_insights.core.sfcs:getting quantiles from sketch for rank 0.25\n",
      "INFO:mlm_insights.core.metrics:Calculated IQR metric, value: 1905.0\n",
      "INFO:mlm_insights.core.sfcs:getting quantiles from sketch for rank 0.75\n",
      "INFO:mlm_insights.core.sfcs:getting quantiles from sketch for rank 0.25\n",
      "INFO:mlm_insights.core.sfcs:getting SFCMetaData(klass=<class 'mlm_insights.core.sfcs.descriptive_statistics_sfc.DescriptiveStatisticsSFC'>, config={}) sfc from sfc meta data\n",
      "INFO:mlm_insights.core.metrics:Calculated Range metric, value: 7402.0\n",
      "INFO:mlm_insights.core.sfcs:getting SFCMetaData(klass=<class 'mlm_insights.core.sfcs.quantiles_sfc.QuantilesSFC'>, config={}) sfc from sfc meta data\n",
      "INFO:mlm_insights.core.metrics:Calculated ProbabilityDistribution metric, value: {'bins': [17.0, 272.2413793103448, 527.4827586206897, 782.7241379310344, 1037.9655172413793, 1293.2068965517242, 1548.4482758620688, 1803.6896551724137, 2058.9310344827586, 2314.1724137931033, 2569.4137931034484, 2824.655172413793, 3079.8965517241377, 3335.137931034483, 3590.3793103448274, 3845.6206896551726, 4100.862068965517, 4356.103448275862, 4611.3448275862065, 4866.586206896552, 5121.827586206897, 5377.068965517241, 5632.310344827586, 5887.551724137931, 6142.793103448275, 6398.0344827586205, 6653.275862068966, 6908.517241379311, 7163.758620689655, 7419.0], 'density': [0.22, 0.1, 0.10999999999999999, 0.04999999999999999, 0.08999999999999997, 0.07000000000000006, 0.040000000000000036, 0.039999999999999925, 0.040000000000000036, 0.06999999999999995, 0.010000000000000009, 0.010000000000000009, 0.0, 0.0, 0.0, 0.0, 0.010000000000000009, 0.010000000000000009, 0.010000000000000009, 0.0, 0.030000000000000027, 0.039999999999999925, 0.010000000000000009, 0.0, 0.010000000000000009, 0.0, 0.0, 0.0, 0.020000000000000018, 0.010000000000000009]}\n",
      "INFO:mlm_insights.core.sfcs:getting SFCMetaData(klass=<class 'mlm_insights.core.sfcs.descriptive_statistics_sfc.DescriptiveStatisticsSFC'>, config={}) sfc from sfc meta data\n",
      "INFO:mlm_insights.core.metrics:Calculated Variance metric, value: 3509091.8299000002\n",
      "INFO:mlm_insights.core.sfcs:getting SFCMetaData(klass=<class 'mlm_insights.core.sfcs.descriptive_statistics_sfc.DescriptiveStatisticsSFC'>, config={}) sfc from sfc meta data\n",
      "INFO:mlm_insights.core.metrics:Calculated TypeMetric metric, value: {'string_type_count': 0, 'integral_type_count': 100, 'fractional_type_count': 0, 'boolean_type_count': 0}\n",
      "INFO:mlm_insights.core.sfcs:getting SFCMetaData(klass=<class 'mlm_insights.core.sfcs.quantiles_sfc.QuantilesSFC'>, config={}) sfc from sfc meta data\n",
      "INFO:mlm_insights.core.metrics:Calculated FrequencyDistribution metric, value: {'bins': [17.0, 272.2413793103448, 527.4827586206897, 782.7241379310344, 1037.9655172413793, 1293.2068965517242, 1548.4482758620688, 1803.6896551724137, 2058.9310344827586, 2314.1724137931033, 2569.4137931034484, 2824.655172413793, 3079.8965517241377, 3335.137931034483, 3590.3793103448274, 3845.6206896551726, 4100.862068965517, 4356.103448275862, 4611.3448275862065, 4866.586206896552, 5121.827586206897, 5377.068965517241, 5632.310344827586, 5887.551724137931, 6142.793103448275, 6398.0344827586205, 6653.275862068966, 6908.517241379311, 7163.758620689655, 7419.0], 'frequency': [22, 10, 11, 5, 9, 7, 4, 4, 4, 7, 1, 1, 0, 0, 0, 0, 1, 1, 1, 0, 3, 4, 1, 0, 1, 0, 0, 0, 2, 1]}\n",
      "INFO:mlm_insights.core.metrics:Calculated Count metric, value: {'total_count': 100.0, 'missing_count': 0.0, 'missing_count_percentage': 0.0}\n",
      "INFO:mlm_insights.core.sfcs:getting SFCMetaData(klass=<class 'mlm_insights.core.sfcs.descriptive_statistics_sfc.DescriptiveStatisticsSFC'>, config={}) sfc from sfc meta data\n",
      "INFO:mlm_insights.core.metrics:Calculated Max metric, value: 7419.0\n",
      "INFO:mlm_insights.core.sfcs:getting SFCMetaData(klass=<class 'mlm_insights.core.sfcs.descriptive_statistics_sfc.DescriptiveStatisticsSFC'>, config={}) sfc from sfc meta data\n",
      "INFO:mlm_insights.core.sfcs:getting SFCMetaData(klass=<class 'mlm_insights.core.sfcs.distinct_count_sfc.DistinctCountSFC'>, config={}) sfc from sfc meta data\n",
      "INFO:mlm_insights.core.sfcs:getting SFCMetaData(klass=<class 'mlm_insights.core.sfcs.frequent_items_sfc.FrequentItemsSFC'>, config={}) sfc from sfc meta data\n",
      "INFO:mlm_insights.core.sfcs:Getting total count of input data\n",
      "INFO:mlm_insights.core.sfcs:Calculated cardinality = 96.00002264977122 in Distinct count SFC, upper bound = 96.00481585896145, lower bound = 96.0\n",
      "INFO:mlm_insights.core.metrics:Calculated DistinctCount metric, value: 96.00002264977122\n",
      "INFO:mlm_insights.core.metrics:Calculated Sum metric, value: 171151.0\n",
      "INFO:mlm_insights.core.sfcs:getting SFCMetaData(klass=<class 'mlm_insights.core.sfcs.frequent_items_sfc.FrequentItemsSFC'>, config={}) sfc from sfc meta data\n",
      "INFO:mlm_insights.core.sfcs:Getting list of all frequent items\n",
      "INFO:mlm_insights.core.metrics:Calculated IsQuasiConstantFeature metric, value: False\n",
      "INFO:mlm_insights.core.sfcs:getting SFCMetaData(klass=<class 'mlm_insights.core.sfcs.quantiles_sfc.QuantilesSFC'>, config={}) sfc from sfc meta data\n",
      "INFO:mlm_insights.core.sfcs:getting quantiles from sketch for rank 0.25\n",
      "INFO:mlm_insights.core.sfcs:getting quantiles from sketch for rank 0.5\n",
      "INFO:mlm_insights.core.sfcs:getting quantiles from sketch for rank 0.75\n",
      "INFO:mlm_insights.core.metrics:Calculated Quartiles metric, value: {'q1': 371.0, 'q2': 1162.0, 'q3': 2276.0}\n",
      "INFO:mlm_insights.core.sfcs:getting SFCMetaData(klass=<class 'mlm_insights.core.sfcs.descriptive_statistics_sfc.DescriptiveStatisticsSFC'>, config={}) sfc from sfc meta data\n",
      "INFO:mlm_insights.core.metrics:Calculated Mean metric, value: 1711.5100000000002\n",
      "INFO:mlm_insights.core.sfcs:getting SFCMetaData(klass=<class 'mlm_insights.core.sfcs.descriptive_statistics_sfc.DescriptiveStatisticsSFC'>, config={}) sfc from sfc meta data\n",
      "INFO:mlm_insights.core.sfcs:getting SFCMetaData(klass=<class 'mlm_insights.core.sfcs.descriptive_statistics_sfc.DescriptiveStatisticsSFC'>, config={}) sfc from sfc meta data\n",
      "INFO:mlm_insights.core.metrics:Calculated Kurtosis metric, value: 1.5058509315336428\n",
      "INFO:mlm_insights.core.sfcs:getting SFCMetaData(klass=<class 'mlm_insights.core.sfcs.descriptive_statistics_sfc.DescriptiveStatisticsSFC'>, config={}) sfc from sfc meta data\n",
      "INFO:mlm_insights.core.metrics:Calculated Count metric, value: {'total_count': 100.0, 'missing_count': 0.0, 'missing_count_percentage': 0.0}\n",
      "INFO:mlm_insights.core.sfcs:getting SFCMetaData(klass=<class 'mlm_insights.core.sfcs.frequent_items_sfc.FrequentItemsSFC'>, config={}) sfc from sfc meta data\n",
      "INFO:mlm_insights.core.sfcs:Getting top 10 frequent items\n",
      "INFO:mlm_insights.core.sfcs:Getting list of all frequent items\n",
      "INFO:mlm_insights.core.metrics:Calculated TopKFrequentElements metric, value: [FrequentItemEstimate(value='ANC', estimate=10, lower_bound=10, upper_bound=10), FrequentItemEstimate(value='LAS', estimate=9, lower_bound=9, upper_bound=9), FrequentItemEstimate(value='SJU', estimate=6, lower_bound=6, upper_bound=6), FrequentItemEstimate(value='LAX', estimate=6, lower_bound=6, upper_bound=6), FrequentItemEstimate(value='SFO', estimate=5, lower_bound=5, upper_bound=5), FrequentItemEstimate(value='PHX', estimate=5, lower_bound=5, upper_bound=5), FrequentItemEstimate(value='SEA', estimate=5, lower_bound=5, upper_bound=5), FrequentItemEstimate(value='HNL', estimate=4, lower_bound=4, upper_bound=4), FrequentItemEstimate(value='ORD', estimate=4, lower_bound=4, upper_bound=4), FrequentItemEstimate(value='PDX', estimate=3, lower_bound=3, upper_bound=3)]\n",
      "INFO:mlm_insights.core.sfcs:getting SFCMetaData(klass=<class 'mlm_insights.core.sfcs.frequent_items_sfc.FrequentItemsSFC'>, config={}) sfc from sfc meta data\n",
      "INFO:mlm_insights.core.sfcs:Getting top 10 frequent items\n",
      "INFO:mlm_insights.core.sfcs:Getting list of all frequent items\n",
      "INFO:mlm_insights.core.metrics:Calculated TypeMetric metric, value: {'string_type_count': 100, 'integral_type_count': 0, 'fractional_type_count': 0, 'boolean_type_count': 0}\n",
      "INFO:mlm_insights.core.sfcs:getting SFCMetaData(klass=<class 'mlm_insights.core.sfcs.distinct_count_sfc.DistinctCountSFC'>, config={}) sfc from sfc meta data\n",
      "INFO:mlm_insights.core.sfcs:getting SFCMetaData(klass=<class 'mlm_insights.core.sfcs.frequent_items_sfc.FrequentItemsSFC'>, config={}) sfc from sfc meta data\n",
      "INFO:mlm_insights.core.sfcs:Calculated cardinality = 44.000004698833415 in Distinct count SFC, upper bound = 44.00220158609522, lower bound = 44.0\n",
      "INFO:mlm_insights.core.sfcs:Getting total count of input data\n",
      "INFO:mlm_insights.core.metrics:Calculated DuplicateCount metric, value: {'count': 56, 'percentage': 56.00000000000001}\n",
      "INFO:mlm_insights.core.sfcs:getting SFCMetaData(klass=<class 'mlm_insights.core.sfcs.frequent_items_sfc.FrequentItemsSFC'>, config={}) sfc from sfc meta data\n",
      "INFO:mlm_insights.core.sfcs:Getting top 2 frequent items\n",
      "INFO:mlm_insights.core.sfcs:Getting list of all frequent items\n",
      "INFO:mlm_insights.core.metrics:Calculated Mode metric, value: ['ANC']\n",
      "INFO:mlm_insights.core.sfcs:getting SFCMetaData(klass=<class 'mlm_insights.core.sfcs.distinct_count_sfc.DistinctCountSFC'>, config={}) sfc from sfc meta data\n",
      "INFO:mlm_insights.core.sfcs:getting SFCMetaData(klass=<class 'mlm_insights.core.sfcs.frequent_items_sfc.FrequentItemsSFC'>, config={}) sfc from sfc meta data\n",
      "INFO:mlm_insights.core.sfcs:Getting total count of input data\n",
      "INFO:mlm_insights.core.sfcs:Calculated cardinality = 44.000004698833415 in Distinct count SFC, upper bound = 44.00220158609522, lower bound = 44.0\n",
      "INFO:mlm_insights.core.metrics:Calculated DistinctCount metric, value: 44.000004698833415\n",
      "INFO:mlm_insights.core.metrics:Calculated Count metric, value: {'total_count': 100.0, 'missing_count': 0.0, 'missing_count_percentage': 0.0}\n",
      "INFO:mlm_insights.core.sfcs:getting SFCMetaData(klass=<class 'mlm_insights.core.sfcs.frequent_items_sfc.FrequentItemsSFC'>, config={}) sfc from sfc meta data\n",
      "INFO:mlm_insights.core.sfcs:Getting top 10 frequent items\n",
      "INFO:mlm_insights.core.sfcs:Getting list of all frequent items\n",
      "INFO:mlm_insights.core.metrics:Calculated TopKFrequentElements metric, value: [FrequentItemEstimate(value='MIA', estimate=10, lower_bound=10, upper_bound=10), FrequentItemEstimate(value='IAH', estimate=10, lower_bound=10, upper_bound=10), FrequentItemEstimate(value='MSP', estimate=9, lower_bound=9, upper_bound=9), FrequentItemEstimate(value='SEA', estimate=9, lower_bound=9, upper_bound=9), FrequentItemEstimate(value='ATL', estimate=6, lower_bound=6, upper_bound=6), FrequentItemEstimate(value='DFW', estimate=6, lower_bound=6, upper_bound=6), FrequentItemEstimate(value='MCO', estimate=6, lower_bound=6, upper_bound=6), FrequentItemEstimate(value='DEN', estimate=5, lower_bound=5, upper_bound=5), FrequentItemEstimate(value='PHX', estimate=4, lower_bound=4, upper_bound=4), FrequentItemEstimate(value='CLT', estimate=4, lower_bound=4, upper_bound=4)]\n",
      "INFO:mlm_insights.core.sfcs:getting SFCMetaData(klass=<class 'mlm_insights.core.sfcs.frequent_items_sfc.FrequentItemsSFC'>, config={}) sfc from sfc meta data\n",
      "INFO:mlm_insights.core.sfcs:Getting top 10 frequent items\n",
      "INFO:mlm_insights.core.sfcs:Getting list of all frequent items\n",
      "INFO:mlm_insights.core.metrics:Calculated TypeMetric metric, value: {'string_type_count': 100, 'integral_type_count': 0, 'fractional_type_count': 0, 'boolean_type_count': 0}\n",
      "INFO:mlm_insights.core.sfcs:getting SFCMetaData(klass=<class 'mlm_insights.core.sfcs.distinct_count_sfc.DistinctCountSFC'>, config={}) sfc from sfc meta data\n",
      "INFO:mlm_insights.core.sfcs:getting SFCMetaData(klass=<class 'mlm_insights.core.sfcs.frequent_items_sfc.FrequentItemsSFC'>, config={}) sfc from sfc meta data\n",
      "INFO:mlm_insights.core.sfcs:Calculated cardinality = 29.00000201662398 in Distinct count SFC, upper bound = 29.00144996499259, lower bound = 29.0\n",
      "INFO:mlm_insights.core.sfcs:Getting total count of input data\n",
      "INFO:mlm_insights.core.metrics:Calculated DuplicateCount metric, value: {'count': 71, 'percentage': 71.0}\n",
      "INFO:mlm_insights.core.sfcs:getting SFCMetaData(klass=<class 'mlm_insights.core.sfcs.frequent_items_sfc.FrequentItemsSFC'>, config={}) sfc from sfc meta data\n",
      "INFO:mlm_insights.core.sfcs:Getting top 2 frequent items\n",
      "INFO:mlm_insights.core.sfcs:Getting list of all frequent items\n",
      "INFO:mlm_insights.core.metrics:Calculated Mode metric, value: ['MIA', 'IAH']\n",
      "INFO:mlm_insights.core.sfcs:getting SFCMetaData(klass=<class 'mlm_insights.core.sfcs.distinct_count_sfc.DistinctCountSFC'>, config={}) sfc from sfc meta data\n",
      "INFO:mlm_insights.core.sfcs:getting SFCMetaData(klass=<class 'mlm_insights.core.sfcs.frequent_items_sfc.FrequentItemsSFC'>, config={}) sfc from sfc meta data\n",
      "INFO:mlm_insights.core.sfcs:Getting total count of input data\n",
      "INFO:mlm_insights.core.sfcs:Calculated cardinality = 29.00000201662398 in Distinct count SFC, upper bound = 29.00144996499259, lower bound = 29.0\n",
      "INFO:mlm_insights.core.metrics:Calculated DistinctCount metric, value: 29.00000201662398\n",
      "INFO:mlm_insights.core.metrics:Calculated RowCount metric, value: 100.0\n",
      "INFO:ads.feature_store.common.utils.utility:Ingestion Summary \n",
      "╒══════════════════════════════════╤═══════════════╤════════════════════╤═════════════════╕\n",
      "│            entity_id             │  entity_type  │  ingestion_status  │  error_details  │\n",
      "╞══════════════════════════════════╪═══════════════╪════════════════════╪═════════════════╡\n",
      "│ C24E858807F4EBA22BF14C08B9A6E2DD │ FEATURE_GROUP │     Succeeded      │      None       │\n",
      "╘══════════════════════════════════╧═══════════════╧════════════════════╧═════════════════╛\n"
     ]
    }
   ],
   "source": [
    "feature_group_flights.materialise(flights_df)"
   ]
  },
  {
   "cell_type": "markdown",
   "id": "41d796d5",
   "metadata": {
    "pycharm": {
     "name": "#%% md\n"
    }
   },
   "source": [
    "<a id=\"create_feature_group_airport\"></a>\n",
    "##### Airport Feature Group\n",
    "\n",
    "Create feature group for airport"
   ]
  },
  {
   "cell_type": "code",
   "execution_count": 15,
   "id": "4c247dde",
   "metadata": {
    "pycharm": {
     "name": "#%%\n"
    }
   },
   "outputs": [
    {
     "data": {
      "text/plain": [
       "{\"meta\": {}, \"expectation_type\": \"expect_column_values_to_be_between\", \"kwargs\": {\"column\": \"LONGITUDE\", \"min_value\": -1.0, \"max_value\": 1.0}}"
      ]
     },
     "execution_count": 15,
     "metadata": {},
     "output_type": "execute_result"
    }
   ],
   "source": [
    "expectation_suite_airports = ExpectationSuite(\n",
    "    expectation_suite_name=\"test_airports_df\"\n",
    ")\n",
    "expectation_suite_airports.add_expectation(\n",
    "    ExpectationConfiguration(\n",
    "        expectation_type=\"expect_column_values_to_not_be_null\",\n",
    "        kwargs={\"column\": \"IATA_CODE\"},\n",
    "    )\n",
    ")\n",
    "expectation_suite_airports.add_expectation(\n",
    "    ExpectationConfiguration(\n",
    "        expectation_type=\"expect_column_values_to_be_between\",\n",
    "        kwargs={\"column\": \"LATITUDE\", \"min_value\": -1.0, \"max_value\": 1.0},\n",
    "    )\n",
    ")\n",
    "\n",
    "expectation_suite_airports.add_expectation(\n",
    "    ExpectationConfiguration(\n",
    "        expectation_type=\"expect_column_values_to_be_between\",\n",
    "        kwargs={\"column\": \"LONGITUDE\", \"min_value\": -1.0, \"max_value\": 1.0},\n",
    "    )\n",
    ")"
   ]
  },
  {
   "cell_type": "code",
   "execution_count": 16,
   "id": "81863e53",
   "metadata": {
    "pycharm": {
     "name": "#%%\n"
    }
   },
   "outputs": [
    {
     "name": "stdout",
     "output_type": "stream",
     "text": [
      "WARNING:py.warnings:/home/datascience/conda/fspyspark32_p38_cpu#conda_v1/lib/python3.8/site-packages/pyspark/sql/pandas/utils.py:35: DeprecationWarning: distutils Version classes are deprecated. Use packaging.version instead.\n",
      "  if LooseVersion(pandas.__version__) < LooseVersion(minimum_pandas_version):\n",
      "\n",
      "WARNING:py.warnings:/home/datascience/conda/fspyspark32_p38_cpu#conda_v1/lib/python3.8/site-packages/pyspark/sql/pandas/utils.py:57: DeprecationWarning: distutils Version classes are deprecated. Use packaging.version instead.\n",
      "  if LooseVersion(pyarrow.__version__) < LooseVersion(minimum_pyarrow_version):\n",
      "\n"
     ]
    }
   ],
   "source": [
    "feature_group_airports = (\n",
    "    FeatureGroup()\n",
    "    .with_feature_store_id(feature_store.id)\n",
    "    .with_primary_keys([\"IATA_CODE\"])\n",
    "    .with_name(\"airport_feature_group\")\n",
    "    .with_entity_id(entity.id)\n",
    "    .with_compartment_id(compartment_id)\n",
    "    .with_schema_details_from_dataframe(airports_df)\n",
    "    .with_expectation_suite(\n",
    "        expectation_suite=expectation_suite_airports,\n",
    "        expectation_type=ExpectationType.LENIENT,\n",
    "     )\n",
    ")"
   ]
  },
  {
   "cell_type": "code",
   "execution_count": 17,
   "id": "e1920d4c",
   "metadata": {
    "collapsed": false,
    "jupyter": {
     "outputs_hidden": false
    },
    "pycharm": {
     "name": "#%%\n"
    }
   },
   "outputs": [
    {
     "data": {
      "text/plain": [
       "\n",
       "kind: FeatureGroup\n",
       "spec:\n",
       "  compartmentId: ocid1.tenancy.oc1..aaaaaaaa25c5a2zpfki3wo4ofza5l72aehvwkjbuavpnzqtmr4nigdgzi57a\n",
       "  entityId: 843E320A28F319748425787F04BCD3B8\n",
       "  expectationDetails:\n",
       "    createRuleDetails:\n",
       "    - arguments:\n",
       "        column: IATA_CODE\n",
       "      levelType: ERROR\n",
       "      name: Rule-0\n",
       "      ruleType: expect_column_values_to_not_be_null\n",
       "    - arguments:\n",
       "        column: LATITUDE\n",
       "        max_value: 1.0\n",
       "        min_value: -1.0\n",
       "      levelType: ERROR\n",
       "      name: Rule-1\n",
       "      ruleType: expect_column_values_to_be_between\n",
       "    - arguments:\n",
       "        column: LONGITUDE\n",
       "        max_value: 1.0\n",
       "        min_value: -1.0\n",
       "      levelType: ERROR\n",
       "      name: Rule-2\n",
       "      ruleType: expect_column_values_to_be_between\n",
       "    expectationType: LENIENT\n",
       "    name: test_airports_df\n",
       "    validationEngineType: GREAT_EXPECTATIONS\n",
       "  featureStoreId: 751D665EB6AE7360928F15705F9F0F48\n",
       "  id: C1771CFDA79A082BB9FB85D9E5FCB192\n",
       "  inputFeatureDetails:\n",
       "  - featureType: STRING\n",
       "    name: IATA_CODE\n",
       "    orderNumber: 1\n",
       "  - featureType: STRING\n",
       "    name: AIRPORT\n",
       "    orderNumber: 2\n",
       "  - featureType: STRING\n",
       "    name: CITY\n",
       "    orderNumber: 3\n",
       "  - featureType: STRING\n",
       "    name: STATE\n",
       "    orderNumber: 4\n",
       "  - featureType: STRING\n",
       "    name: COUNTRY\n",
       "    orderNumber: 5\n",
       "  - featureType: DOUBLE\n",
       "    name: LATITUDE\n",
       "    orderNumber: 6\n",
       "  - featureType: DOUBLE\n",
       "    name: LONGITUDE\n",
       "    orderNumber: 7\n",
       "  isInferSchema: true\n",
       "  name: airport_feature_group\n",
       "  primaryKeys:\n",
       "    items:\n",
       "    - name: IATA_CODE\n",
       "  statisticsConfig:\n",
       "    isEnabled: true\n",
       "type: featureGroup"
      ]
     },
     "execution_count": 17,
     "metadata": {},
     "output_type": "execute_result"
    }
   ],
   "source": [
    "feature_group_airports.create()"
   ]
  },
  {
   "cell_type": "code",
   "execution_count": 18,
   "id": "7a78eaa2",
   "metadata": {
    "pycharm": {
     "name": "#%%\n"
    }
   },
   "outputs": [
    {
     "name": "stdout",
     "output_type": "stream",
     "text": [
      "INFO:great_expectations.validator.validator:\t3 expectation(s) included in expectation_suite.\n"
     ]
    },
    {
     "data": {
      "application/vnd.jupyter.widget-view+json": {
       "model_id": "db29009398704583b95af2e91841296e",
       "version_major": 2,
       "version_minor": 0
      },
      "text/plain": [
       "Calculating Metrics:   0%|          | 0/16 [00:00<?, ?it/s]"
      ]
     },
     "metadata": {},
     "output_type": "display_data"
    },
    {
     "name": "stdout",
     "output_type": "stream",
     "text": [
      "INFO:ads.feature_store.common.utils.utility:Validation Summary \n",
      "╒════════════════════╤══════════════════════════╤═══════════════════════════╤═════════════════════════════╤═══════════════════╤═══════════════════════╕\n",
      "│  expectation_type  │  evaluated_expectations  │  successful_expectations  │  unsuccessful_expectations  │  success_percent  │   ingestion_status    │\n",
      "╞════════════════════╪══════════════════════════╪═══════════════════════════╪═════════════════════════════╪═══════════════════╪═══════════════════════╡\n",
      "│      LENIENT       │            3             │             1             │              2              │      33.3333      │ Ingestion in progress │\n",
      "╘════════════════════╧══════════════════════════╧═══════════════════════════╧═════════════════════════════╧═══════════════════╧═══════════════════════╛\n",
      "INFO:ads.feature_store.common.utils.utility:Validations Rules Summary \n",
      "╒═════════════════════════════════════╤══════════════════════════════════════════════════════════════╤══════════╕\n",
      "│              rule_type              │                          arguments                           │  status  │\n",
      "╞═════════════════════════════════════╪══════════════════════════════════════════════════════════════╪══════════╡\n",
      "│ expect_column_values_to_not_be_null │                   {'column': 'IATA_CODE'}                    │   True   │\n",
      "├─────────────────────────────────────┼──────────────────────────────────────────────────────────────┼──────────┤\n",
      "│ expect_column_values_to_be_between  │ {'column': 'LATITUDE', 'min_value': -1.0, 'max_value': 1.0}  │  False   │\n",
      "├─────────────────────────────────────┼──────────────────────────────────────────────────────────────┼──────────┤\n",
      "│ expect_column_values_to_be_between  │ {'column': 'LONGITUDE', 'min_value': -1.0, 'max_value': 1.0} │  False   │\n",
      "╘═════════════════════════════════════╧══════════════════════════════════════════════════════════════╧══════════╛\n"
     ]
    },
    {
     "name": "stderr",
     "output_type": "stream",
     "text": [
      "                                                                                \r"
     ]
    },
    {
     "name": "stdout",
     "output_type": "stream",
     "text": [
      "INFO:mlm_insights.builder:validating required components\n",
      "INFO:mlm_insights.builder:required components validated\n",
      "INFO:mlm_insights.builder.usage:Activating Minimal Insights Usage\n",
      "INFO:mlm_insights.builder:Generating Runner object\n",
      "INFO:mlm_insights.builder:Generating workflow request\n",
      "INFO:mlm_insights.workflow:Fetching engine object\n",
      "INFO:mlm_insights.workflow:Returning native engine object\n",
      "INFO:mlm_insights.builder:Running Fugue Workflow\n",
      "INFO:mlm_insights.workflow:Executing Fugue Workflow\n",
      "INFO:mlm_insights.core.sfcs:creating sfc from {'c5144335a509689fc50d13d03eebc9b1': FrequentItemsSFC(sketch=<_datasketches.frequent_strings_sketch object at 0x7f8ef9584e30>), '4cd1d3704778a196571a6c83581854cc': DistinctCountSFC(sketch=<_datasketches.hll_sketch object at 0x7f8efbe47830>)} sfc map\n",
      "INFO:mlm_insights.core.sfcs:creating sfc from {'c5144335a509689fc50d13d03eebc9b1': FrequentItemsSFC(sketch=<_datasketches.frequent_strings_sketch object at 0x7f8ef9584930>), '4cd1d3704778a196571a6c83581854cc': DistinctCountSFC(sketch=<_datasketches.hll_sketch object at 0x7f8ef9584270>)} sfc map\n",
      "INFO:mlm_insights.core.sfcs:creating sfc from {'c5144335a509689fc50d13d03eebc9b1': FrequentItemsSFC(sketch=<_datasketches.frequent_strings_sketch object at 0x7f8ef9584870>), '4cd1d3704778a196571a6c83581854cc': DistinctCountSFC(sketch=<_datasketches.hll_sketch object at 0x7f8ef958f230>)} sfc map\n",
      "INFO:mlm_insights.core.sfcs:creating sfc from {'c5144335a509689fc50d13d03eebc9b1': FrequentItemsSFC(sketch=<_datasketches.frequent_strings_sketch object at 0x7f8ef958f670>), '4cd1d3704778a196571a6c83581854cc': DistinctCountSFC(sketch=<_datasketches.hll_sketch object at 0x7f8ef958f630>)} sfc map\n",
      "INFO:mlm_insights.core.sfcs:creating sfc from {'c5144335a509689fc50d13d03eebc9b1': FrequentItemsSFC(sketch=<_datasketches.frequent_strings_sketch object at 0x7f8ef958fab0>), '4cd1d3704778a196571a6c83581854cc': DistinctCountSFC(sketch=<_datasketches.hll_sketch object at 0x7f8ef958fa70>)} sfc map\n",
      "INFO:mlm_insights.core.sfcs:creating sfc from {'c5144335a509689fc50d13d03eebc9b1': FrequentItemsSFC(sketch=<_datasketches.frequent_strings_sketch object at 0x7f8ef9596130>), 'c19e3960aa08a392d20aaa5da607d9ea': DescriptiveStatisticsSFC(total_count=319.0, mean=38.9812439184953, minimum=13.48345, maximum=71.28545, central_moments=[1.0, 8.909626780690911e-17, 74.01537930806269, 262.87069420949706, 26574.825385423774]), '4cd1d3704778a196571a6c83581854cc': DistinctCountSFC(sketch=<_datasketches.hll_sketch object at 0x7f8ef9596330>), '6e3ac490990d92bca69c828fe3aff8ad': QuantilesSFC(kll_sketch=<_datasketches.kll_doubles_sketch object at 0x7f8ef9596230>)} sfc map\n",
      "INFO:mlm_insights.core.sfcs:creating sfc from {'c5144335a509689fc50d13d03eebc9b1': FrequentItemsSFC(sketch=<_datasketches.frequent_strings_sketch object at 0x7f8ef9596570>), 'c19e3960aa08a392d20aaa5da607d9ea': DescriptiveStatisticsSFC(total_count=319.0, mean=-98.37896445141065, minimum=-176.64603, maximum=-64.79856, central_moments=[1.0, 0.0, 461.80848194502215, -11904.62460720004, 932401.3978279813]), '4cd1d3704778a196571a6c83581854cc': DistinctCountSFC(sketch=<_datasketches.hll_sketch object at 0x7f8ef95967b0>), '6e3ac490990d92bca69c828fe3aff8ad': QuantilesSFC(kll_sketch=<_datasketches.kll_doubles_sketch object at 0x7f8ef95966b0>)} sfc map\n",
      "INFO:mlm_insights.core.sdcs:creating sdc from {} sdc map\n",
      "INFO:mlm_insights.builder:Profile Generated Successfully\n",
      "INFO:mlm_insights.core.metrics:Calculated Count metric, value: {'total_count': 322.0, 'missing_count': 0.0, 'missing_count_percentage': 0.0}\n",
      "INFO:mlm_insights.core.sfcs:getting SFCMetaData(klass=<class 'mlm_insights.core.sfcs.frequent_items_sfc.FrequentItemsSFC'>, config={}) sfc from sfc meta data\n",
      "INFO:mlm_insights.core.sfcs:Getting top 10 frequent items\n",
      "INFO:mlm_insights.core.sfcs:Getting list of all frequent items\n",
      "INFO:mlm_insights.core.metrics:Calculated TopKFrequentElements metric, value: []\n",
      "INFO:mlm_insights.core.sfcs:getting SFCMetaData(klass=<class 'mlm_insights.core.sfcs.frequent_items_sfc.FrequentItemsSFC'>, config={}) sfc from sfc meta data\n",
      "INFO:mlm_insights.core.sfcs:Getting top 10 frequent items\n",
      "INFO:mlm_insights.core.sfcs:Getting list of all frequent items\n",
      "INFO:mlm_insights.core.metrics:Calculated TypeMetric metric, value: {'string_type_count': 322, 'integral_type_count': 0, 'fractional_type_count': 0, 'boolean_type_count': 0}\n",
      "INFO:mlm_insights.core.sfcs:getting SFCMetaData(klass=<class 'mlm_insights.core.sfcs.distinct_count_sfc.DistinctCountSFC'>, config={}) sfc from sfc meta data\n",
      "INFO:mlm_insights.core.sfcs:getting SFCMetaData(klass=<class 'mlm_insights.core.sfcs.frequent_items_sfc.FrequentItemsSFC'>, config={}) sfc from sfc meta data\n",
      "INFO:mlm_insights.core.sfcs:Calculated cardinality = 322.00025670253893 in Distinct count SFC, upper bound = 322.0163339340549, lower bound = 322.0\n",
      "INFO:mlm_insights.core.sfcs:Getting total count of input data\n",
      "INFO:mlm_insights.core.metrics:Calculated DuplicateCount metric, value: {'count': 0, 'percentage': 0.0}\n",
      "INFO:mlm_insights.core.sfcs:getting SFCMetaData(klass=<class 'mlm_insights.core.sfcs.frequent_items_sfc.FrequentItemsSFC'>, config={}) sfc from sfc meta data\n",
      "INFO:mlm_insights.core.sfcs:Getting top 2 frequent items\n",
      "INFO:mlm_insights.core.sfcs:Getting list of all frequent items\n",
      "INFO:mlm_insights.core.metrics:Calculated Mode metric, value: []\n",
      "INFO:mlm_insights.core.sfcs:getting SFCMetaData(klass=<class 'mlm_insights.core.sfcs.distinct_count_sfc.DistinctCountSFC'>, config={}) sfc from sfc meta data\n",
      "INFO:mlm_insights.core.sfcs:getting SFCMetaData(klass=<class 'mlm_insights.core.sfcs.frequent_items_sfc.FrequentItemsSFC'>, config={}) sfc from sfc meta data\n",
      "INFO:mlm_insights.core.sfcs:Getting total count of input data\n",
      "INFO:mlm_insights.core.sfcs:Calculated cardinality = 322.00025670253893 in Distinct count SFC, upper bound = 322.0163339340549, lower bound = 322.0\n",
      "INFO:mlm_insights.core.metrics:Calculated DistinctCount metric, value: 322\n",
      "INFO:mlm_insights.core.metrics:Calculated Count metric, value: {'total_count': 322.0, 'missing_count': 0.0, 'missing_count_percentage': 0.0}\n",
      "INFO:mlm_insights.core.sfcs:getting SFCMetaData(klass=<class 'mlm_insights.core.sfcs.frequent_items_sfc.FrequentItemsSFC'>, config={}) sfc from sfc meta data\n",
      "INFO:mlm_insights.core.sfcs:Getting top 10 frequent items\n",
      "INFO:mlm_insights.core.sfcs:Getting list of all frequent items\n",
      "INFO:mlm_insights.core.metrics:Calculated TopKFrequentElements metric, value: []\n",
      "INFO:mlm_insights.core.sfcs:getting SFCMetaData(klass=<class 'mlm_insights.core.sfcs.frequent_items_sfc.FrequentItemsSFC'>, config={}) sfc from sfc meta data\n",
      "INFO:mlm_insights.core.sfcs:Getting top 10 frequent items\n",
      "INFO:mlm_insights.core.sfcs:Getting list of all frequent items\n",
      "INFO:mlm_insights.core.metrics:Calculated TypeMetric metric, value: {'string_type_count': 322, 'integral_type_count': 0, 'fractional_type_count': 0, 'boolean_type_count': 0}\n",
      "INFO:mlm_insights.core.sfcs:getting SFCMetaData(klass=<class 'mlm_insights.core.sfcs.distinct_count_sfc.DistinctCountSFC'>, config={}) sfc from sfc meta data\n",
      "INFO:mlm_insights.core.sfcs:getting SFCMetaData(klass=<class 'mlm_insights.core.sfcs.frequent_items_sfc.FrequentItemsSFC'>, config={}) sfc from sfc meta data\n",
      "INFO:mlm_insights.core.sfcs:Calculated cardinality = 322.00025670253893 in Distinct count SFC, upper bound = 322.0163339340549, lower bound = 322.0\n",
      "INFO:mlm_insights.core.sfcs:Getting total count of input data\n",
      "INFO:mlm_insights.core.metrics:Calculated DuplicateCount metric, value: {'count': 0, 'percentage': 0.0}\n",
      "INFO:mlm_insights.core.sfcs:getting SFCMetaData(klass=<class 'mlm_insights.core.sfcs.frequent_items_sfc.FrequentItemsSFC'>, config={}) sfc from sfc meta data\n",
      "INFO:mlm_insights.core.sfcs:Getting top 2 frequent items\n",
      "INFO:mlm_insights.core.sfcs:Getting list of all frequent items\n",
      "INFO:mlm_insights.core.metrics:Calculated Mode metric, value: []\n",
      "INFO:mlm_insights.core.sfcs:getting SFCMetaData(klass=<class 'mlm_insights.core.sfcs.distinct_count_sfc.DistinctCountSFC'>, config={}) sfc from sfc meta data\n",
      "INFO:mlm_insights.core.sfcs:getting SFCMetaData(klass=<class 'mlm_insights.core.sfcs.frequent_items_sfc.FrequentItemsSFC'>, config={}) sfc from sfc meta data\n",
      "INFO:mlm_insights.core.sfcs:Getting total count of input data\n",
      "INFO:mlm_insights.core.sfcs:Calculated cardinality = 322.00025670253893 in Distinct count SFC, upper bound = 322.0163339340549, lower bound = 322.0\n",
      "INFO:mlm_insights.core.metrics:Calculated DistinctCount metric, value: 322\n",
      "INFO:mlm_insights.core.metrics:Calculated Count metric, value: {'total_count': 322.0, 'missing_count': 0.0, 'missing_count_percentage': 0.0}\n",
      "INFO:mlm_insights.core.sfcs:getting SFCMetaData(klass=<class 'mlm_insights.core.sfcs.frequent_items_sfc.FrequentItemsSFC'>, config={}) sfc from sfc meta data\n",
      "INFO:mlm_insights.core.sfcs:Getting top 10 frequent items\n",
      "INFO:mlm_insights.core.sfcs:Getting list of all frequent items\n",
      "INFO:mlm_insights.core.metrics:Calculated TopKFrequentElements metric, value: []\n",
      "INFO:mlm_insights.core.sfcs:getting SFCMetaData(klass=<class 'mlm_insights.core.sfcs.frequent_items_sfc.FrequentItemsSFC'>, config={}) sfc from sfc meta data\n",
      "INFO:mlm_insights.core.sfcs:Getting top 10 frequent items\n",
      "INFO:mlm_insights.core.sfcs:Getting list of all frequent items\n",
      "INFO:mlm_insights.core.metrics:Calculated TypeMetric metric, value: {'string_type_count': 322, 'integral_type_count': 0, 'fractional_type_count': 0, 'boolean_type_count': 0}\n",
      "INFO:mlm_insights.core.sfcs:getting SFCMetaData(klass=<class 'mlm_insights.core.sfcs.distinct_count_sfc.DistinctCountSFC'>, config={}) sfc from sfc meta data\n",
      "INFO:mlm_insights.core.sfcs:getting SFCMetaData(klass=<class 'mlm_insights.core.sfcs.frequent_items_sfc.FrequentItemsSFC'>, config={}) sfc from sfc meta data\n",
      "INFO:mlm_insights.core.sfcs:Calculated cardinality = 308.000234832572 in Distinct count SFC, upper bound = 308.01561305348736, lower bound = 308.0\n",
      "INFO:mlm_insights.core.sfcs:Getting total count of input data\n",
      "INFO:mlm_insights.core.metrics:Calculated DuplicateCount metric, value: {'count': 14, 'percentage': 4.3478260869565215}\n",
      "INFO:mlm_insights.core.sfcs:getting SFCMetaData(klass=<class 'mlm_insights.core.sfcs.frequent_items_sfc.FrequentItemsSFC'>, config={}) sfc from sfc meta data\n",
      "INFO:mlm_insights.core.sfcs:Getting top 2 frequent items\n",
      "INFO:mlm_insights.core.sfcs:Getting list of all frequent items\n",
      "INFO:mlm_insights.core.metrics:Calculated Mode metric, value: []\n",
      "INFO:mlm_insights.core.sfcs:getting SFCMetaData(klass=<class 'mlm_insights.core.sfcs.distinct_count_sfc.DistinctCountSFC'>, config={}) sfc from sfc meta data\n",
      "INFO:mlm_insights.core.sfcs:getting SFCMetaData(klass=<class 'mlm_insights.core.sfcs.frequent_items_sfc.FrequentItemsSFC'>, config={}) sfc from sfc meta data\n",
      "INFO:mlm_insights.core.sfcs:Getting total count of input data\n",
      "INFO:mlm_insights.core.sfcs:Calculated cardinality = 308.000234832572 in Distinct count SFC, upper bound = 308.01561305348736, lower bound = 308.0\n",
      "INFO:mlm_insights.core.metrics:Calculated DistinctCount metric, value: 308.000234832572\n",
      "INFO:mlm_insights.core.metrics:Calculated Count metric, value: {'total_count': 322.0, 'missing_count': 0.0, 'missing_count_percentage': 0.0}\n",
      "INFO:mlm_insights.core.sfcs:getting SFCMetaData(klass=<class 'mlm_insights.core.sfcs.frequent_items_sfc.FrequentItemsSFC'>, config={}) sfc from sfc meta data\n",
      "INFO:mlm_insights.core.sfcs:Getting top 10 frequent items\n",
      "INFO:mlm_insights.core.sfcs:Getting list of all frequent items\n",
      "INFO:mlm_insights.core.metrics:Calculated TopKFrequentElements metric, value: [FrequentItemEstimate(value='TX', estimate=24, lower_bound=24, upper_bound=24), FrequentItemEstimate(value='CA', estimate=22, lower_bound=22, upper_bound=22), FrequentItemEstimate(value='AK', estimate=19, lower_bound=19, upper_bound=19), FrequentItemEstimate(value='FL', estimate=17, lower_bound=17, upper_bound=17), FrequentItemEstimate(value='MI', estimate=15, lower_bound=15, upper_bound=15), FrequentItemEstimate(value='NY', estimate=14, lower_bound=14, upper_bound=14), FrequentItemEstimate(value='CO', estimate=10, lower_bound=10, upper_bound=10), FrequentItemEstimate(value='NC', estimate=8, lower_bound=8, upper_bound=8), FrequentItemEstimate(value='MN', estimate=8, lower_bound=8, upper_bound=8), FrequentItemEstimate(value='WI', estimate=8, lower_bound=8, upper_bound=8)]\n",
      "INFO:mlm_insights.core.sfcs:getting SFCMetaData(klass=<class 'mlm_insights.core.sfcs.frequent_items_sfc.FrequentItemsSFC'>, config={}) sfc from sfc meta data\n",
      "INFO:mlm_insights.core.sfcs:Getting top 10 frequent items\n",
      "INFO:mlm_insights.core.sfcs:Getting list of all frequent items\n",
      "INFO:mlm_insights.core.metrics:Calculated TypeMetric metric, value: {'string_type_count': 322, 'integral_type_count': 0, 'fractional_type_count': 0, 'boolean_type_count': 0}\n",
      "INFO:mlm_insights.core.sfcs:getting SFCMetaData(klass=<class 'mlm_insights.core.sfcs.distinct_count_sfc.DistinctCountSFC'>, config={}) sfc from sfc meta data\n",
      "INFO:mlm_insights.core.sfcs:getting SFCMetaData(klass=<class 'mlm_insights.core.sfcs.frequent_items_sfc.FrequentItemsSFC'>, config={}) sfc from sfc meta data\n",
      "INFO:mlm_insights.core.sfcs:Calculated cardinality = 54.00000710785499 in Distinct count SFC, upper bound = 54.00270328774326, lower bound = 54.0\n",
      "INFO:mlm_insights.core.sfcs:Getting total count of input data\n",
      "INFO:mlm_insights.core.metrics:Calculated DuplicateCount metric, value: {'count': 268, 'percentage': 83.22981366459628}\n",
      "INFO:mlm_insights.core.sfcs:getting SFCMetaData(klass=<class 'mlm_insights.core.sfcs.frequent_items_sfc.FrequentItemsSFC'>, config={}) sfc from sfc meta data\n",
      "INFO:mlm_insights.core.sfcs:Getting top 2 frequent items\n",
      "INFO:mlm_insights.core.sfcs:Getting list of all frequent items\n",
      "INFO:mlm_insights.core.metrics:Calculated Mode metric, value: ['TX']\n",
      "INFO:mlm_insights.core.sfcs:getting SFCMetaData(klass=<class 'mlm_insights.core.sfcs.distinct_count_sfc.DistinctCountSFC'>, config={}) sfc from sfc meta data\n",
      "INFO:mlm_insights.core.sfcs:getting SFCMetaData(klass=<class 'mlm_insights.core.sfcs.frequent_items_sfc.FrequentItemsSFC'>, config={}) sfc from sfc meta data\n",
      "INFO:mlm_insights.core.sfcs:Getting total count of input data\n",
      "INFO:mlm_insights.core.sfcs:Calculated cardinality = 54.00000710785499 in Distinct count SFC, upper bound = 54.00270328774326, lower bound = 54.0\n",
      "INFO:mlm_insights.core.metrics:Calculated DistinctCount metric, value: 54.00000710785499\n",
      "INFO:mlm_insights.core.metrics:Calculated Count metric, value: {'total_count': 322.0, 'missing_count': 0.0, 'missing_count_percentage': 0.0}\n",
      "INFO:mlm_insights.core.sfcs:getting SFCMetaData(klass=<class 'mlm_insights.core.sfcs.frequent_items_sfc.FrequentItemsSFC'>, config={}) sfc from sfc meta data\n",
      "INFO:mlm_insights.core.sfcs:Getting top 10 frequent items\n",
      "INFO:mlm_insights.core.sfcs:Getting list of all frequent items\n",
      "INFO:mlm_insights.core.metrics:Calculated TopKFrequentElements metric, value: [FrequentItemEstimate(value='USA', estimate=322, lower_bound=322, upper_bound=322)]\n",
      "INFO:mlm_insights.core.sfcs:getting SFCMetaData(klass=<class 'mlm_insights.core.sfcs.frequent_items_sfc.FrequentItemsSFC'>, config={}) sfc from sfc meta data\n",
      "INFO:mlm_insights.core.sfcs:Getting top 10 frequent items\n",
      "INFO:mlm_insights.core.sfcs:Getting list of all frequent items\n",
      "INFO:mlm_insights.core.metrics:Calculated TypeMetric metric, value: {'string_type_count': 322, 'integral_type_count': 0, 'fractional_type_count': 0, 'boolean_type_count': 0}\n",
      "INFO:mlm_insights.core.sfcs:getting SFCMetaData(klass=<class 'mlm_insights.core.sfcs.distinct_count_sfc.DistinctCountSFC'>, config={}) sfc from sfc meta data\n",
      "INFO:mlm_insights.core.sfcs:getting SFCMetaData(klass=<class 'mlm_insights.core.sfcs.frequent_items_sfc.FrequentItemsSFC'>, config={}) sfc from sfc meta data\n",
      "INFO:mlm_insights.core.sfcs:Calculated cardinality = 1.0 in Distinct count SFC, upper bound = 1.000049929250618, lower bound = 1.0\n",
      "INFO:mlm_insights.core.sfcs:Getting total count of input data\n",
      "INFO:mlm_insights.core.metrics:Calculated DuplicateCount metric, value: {'count': 321, 'percentage': 99.68944099378882}\n",
      "INFO:mlm_insights.core.sfcs:getting SFCMetaData(klass=<class 'mlm_insights.core.sfcs.frequent_items_sfc.FrequentItemsSFC'>, config={}) sfc from sfc meta data\n",
      "INFO:mlm_insights.core.sfcs:Getting top 2 frequent items\n",
      "INFO:mlm_insights.core.sfcs:Getting list of all frequent items\n",
      "INFO:mlm_insights.core.metrics:Calculated Mode metric, value: ['USA']\n",
      "INFO:mlm_insights.core.sfcs:getting SFCMetaData(klass=<class 'mlm_insights.core.sfcs.distinct_count_sfc.DistinctCountSFC'>, config={}) sfc from sfc meta data\n",
      "INFO:mlm_insights.core.sfcs:getting SFCMetaData(klass=<class 'mlm_insights.core.sfcs.frequent_items_sfc.FrequentItemsSFC'>, config={}) sfc from sfc meta data\n",
      "INFO:mlm_insights.core.sfcs:Getting total count of input data\n",
      "INFO:mlm_insights.core.sfcs:Calculated cardinality = 1.0 in Distinct count SFC, upper bound = 1.000049929250618, lower bound = 1.0\n",
      "INFO:mlm_insights.core.metrics:Calculated DistinctCount metric, value: 1.0\n",
      "INFO:mlm_insights.core.sfcs:getting SFCMetaData(klass=<class 'mlm_insights.core.sfcs.descriptive_statistics_sfc.DescriptiveStatisticsSFC'>, config={}) sfc from sfc meta data\n",
      "INFO:mlm_insights.core.metrics:Calculated Skewness metric, value: 0.41281856359758584\n",
      "INFO:mlm_insights.core.sfcs:getting SFCMetaData(klass=<class 'mlm_insights.core.sfcs.descriptive_statistics_sfc.DescriptiveStatisticsSFC'>, config={}) sfc from sfc meta data\n",
      "INFO:mlm_insights.core.sfcs:getting SFCMetaData(klass=<class 'mlm_insights.core.sfcs.descriptive_statistics_sfc.DescriptiveStatisticsSFC'>, config={}) sfc from sfc meta data\n",
      "INFO:mlm_insights.core.metrics:Creating StandardDeviation metric, value: 8.603219124726667\n",
      "INFO:mlm_insights.core.sfcs:getting SFCMetaData(klass=<class 'mlm_insights.core.sfcs.descriptive_statistics_sfc.DescriptiveStatisticsSFC'>, config={}) sfc from sfc meta data\n",
      "INFO:mlm_insights.core.sfcs:getting SFCMetaData(klass=<class 'mlm_insights.core.sfcs.descriptive_statistics_sfc.DescriptiveStatisticsSFC'>, config={}) sfc from sfc meta data\n",
      "INFO:mlm_insights.core.metrics:Calculated Min metric, value: 13.48345\n",
      "INFO:mlm_insights.core.sfcs:getting SFCMetaData(klass=<class 'mlm_insights.core.sfcs.descriptive_statistics_sfc.DescriptiveStatisticsSFC'>, config={}) sfc from sfc meta data\n",
      "INFO:mlm_insights.core.sfcs:getting SFCMetaData(klass=<class 'mlm_insights.core.sfcs.frequent_items_sfc.FrequentItemsSFC'>, config={}) sfc from sfc meta data\n",
      "INFO:mlm_insights.core.sfcs:Getting top 2 frequent items\n",
      "INFO:mlm_insights.core.sfcs:Getting list of all frequent items\n",
      "INFO:mlm_insights.core.metrics:Calculated IsConstantFeature metric, value: False\n",
      "INFO:mlm_insights.core.sfcs:getting SFCMetaData(klass=<class 'mlm_insights.core.sfcs.quantiles_sfc.QuantilesSFC'>, config={}) sfc from sfc meta data\n",
      "INFO:mlm_insights.core.sfcs:getting quantiles from sketch for rank 0.75\n",
      "INFO:mlm_insights.core.sfcs:getting quantiles from sketch for rank 0.25\n",
      "INFO:mlm_insights.core.metrics:Calculated IQR metric, value: 9.529050000000005\n",
      "INFO:mlm_insights.core.sfcs:getting quantiles from sketch for rank 0.75\n",
      "INFO:mlm_insights.core.sfcs:getting quantiles from sketch for rank 0.25\n",
      "INFO:mlm_insights.core.sfcs:getting SFCMetaData(klass=<class 'mlm_insights.core.sfcs.descriptive_statistics_sfc.DescriptiveStatisticsSFC'>, config={}) sfc from sfc meta data\n",
      "INFO:mlm_insights.core.metrics:Calculated Range metric, value: 57.802\n",
      "INFO:mlm_insights.core.sfcs:getting SFCMetaData(klass=<class 'mlm_insights.core.sfcs.quantiles_sfc.QuantilesSFC'>, config={}) sfc from sfc meta data\n",
      "INFO:mlm_insights.core.metrics:Calculated ProbabilityDistribution metric, value: {'bins': [13.48345, 15.476622413793104, 17.469794827586206, 19.46296724137931, 21.456139655172414, 23.44931206896552, 25.442484482758623, 27.435656896551723, 29.428829310344828, 31.422001724137928, 33.41517413793103, 35.40834655172414, 37.40151896551724, 39.394691379310345, 41.38786379310345, 43.38103620689655, 45.37420862068966, 47.367381034482754, 49.36055344827586, 51.35372586206896, 53.34689827586207, 55.34007068965517, 57.333243103448275, 59.32641551724138, 61.319587931034484, 63.31276034482759, 65.3059327586207, 67.29910517241379, 69.2922775862069, 71.28545], 'density': [0.003134796238244514, 0.0, 0.015673981191222573, 0.01567398119122257, 0.0031347962382445166, 0.0, 0.025078369905956105, 0.021943573667711602, 0.07210031347962384, 0.07836990595611285, 0.10658307210031348, 0.0658307210031348, 0.09404388714733536, 0.11598746081504707, 0.13479623824451414, 0.07836990595611282, 0.06896551724137934, 0.037617554858934144, 0.0, 0.006269592476489061, 0.0, 0.01253918495297801, 0.01567398119122254, 0.012539184952978122, 0.0, 0.0031347962382445305, 0.0031347962382444194, 0.0, 0.0031347962382445305, 0.006269592476489061]}\n",
      "INFO:mlm_insights.core.sfcs:getting SFCMetaData(klass=<class 'mlm_insights.core.sfcs.descriptive_statistics_sfc.DescriptiveStatisticsSFC'>, config={}) sfc from sfc meta data\n",
      "INFO:mlm_insights.core.metrics:Calculated Variance metric, value: 74.01537930806269\n",
      "INFO:mlm_insights.core.sfcs:getting SFCMetaData(klass=<class 'mlm_insights.core.sfcs.descriptive_statistics_sfc.DescriptiveStatisticsSFC'>, config={}) sfc from sfc meta data\n",
      "INFO:mlm_insights.core.metrics:Calculated TypeMetric metric, value: {'string_type_count': 0, 'integral_type_count': 0, 'fractional_type_count': 319, 'boolean_type_count': 0}\n",
      "INFO:mlm_insights.core.sfcs:getting SFCMetaData(klass=<class 'mlm_insights.core.sfcs.quantiles_sfc.QuantilesSFC'>, config={}) sfc from sfc meta data\n",
      "INFO:mlm_insights.core.metrics:Calculated FrequencyDistribution metric, value: {'bins': [13.48345, 15.476622413793104, 17.469794827586206, 19.46296724137931, 21.456139655172414, 23.44931206896552, 25.442484482758623, 27.435656896551723, 29.428829310344828, 31.422001724137928, 33.41517413793103, 35.40834655172414, 37.40151896551724, 39.394691379310345, 41.38786379310345, 43.38103620689655, 45.37420862068966, 47.367381034482754, 49.36055344827586, 51.35372586206896, 53.34689827586207, 55.34007068965517, 57.333243103448275, 59.32641551724138, 61.319587931034484, 63.31276034482759, 65.3059327586207, 67.29910517241379, 69.2922775862069, 71.28545], 'frequency': [1, 0, 5, 5, 1, 0, 8, 7, 23, 25, 34, 21, 30, 37, 43, 25, 22, 12, 0, 2, 0, 4, 5, 4, 0, 1, 1, 0, 1, 2]}\n",
      "INFO:mlm_insights.core.metrics:Calculated Count metric, value: {'total_count': 322.0, 'missing_count': 3.0, 'missing_count_percentage': 0.9316770186335404}\n",
      "INFO:mlm_insights.core.sfcs:getting SFCMetaData(klass=<class 'mlm_insights.core.sfcs.descriptive_statistics_sfc.DescriptiveStatisticsSFC'>, config={}) sfc from sfc meta data\n",
      "INFO:mlm_insights.core.metrics:Calculated Max metric, value: 71.28545\n",
      "INFO:mlm_insights.core.sfcs:getting SFCMetaData(klass=<class 'mlm_insights.core.sfcs.descriptive_statistics_sfc.DescriptiveStatisticsSFC'>, config={}) sfc from sfc meta data\n",
      "INFO:mlm_insights.core.sfcs:getting SFCMetaData(klass=<class 'mlm_insights.core.sfcs.distinct_count_sfc.DistinctCountSFC'>, config={}) sfc from sfc meta data\n",
      "INFO:mlm_insights.core.sfcs:getting SFCMetaData(klass=<class 'mlm_insights.core.sfcs.frequent_items_sfc.FrequentItemsSFC'>, config={}) sfc from sfc meta data\n",
      "INFO:mlm_insights.core.sfcs:Getting total count of input data\n",
      "INFO:mlm_insights.core.sfcs:Calculated cardinality = 319.0002519341608 in Distinct count SFC, upper bound = 319.01617937768685, lower bound = 319.0\n",
      "INFO:mlm_insights.core.metrics:Calculated DistinctCount metric, value: 319\n",
      "INFO:mlm_insights.core.metrics:Calculated Sum metric, value: 12435.01681\n",
      "INFO:mlm_insights.core.sfcs:getting SFCMetaData(klass=<class 'mlm_insights.core.sfcs.frequent_items_sfc.FrequentItemsSFC'>, config={}) sfc from sfc meta data\n",
      "INFO:mlm_insights.core.sfcs:Getting list of all frequent items\n",
      "INFO:mlm_insights.core.metrics:Calculated IsQuasiConstantFeature metric, value: True\n",
      "INFO:mlm_insights.core.sfcs:getting SFCMetaData(klass=<class 'mlm_insights.core.sfcs.quantiles_sfc.QuantilesSFC'>, config={}) sfc from sfc meta data\n",
      "INFO:mlm_insights.core.sfcs:getting quantiles from sketch for rank 0.25\n",
      "INFO:mlm_insights.core.sfcs:getting quantiles from sketch for rank 0.5\n",
      "INFO:mlm_insights.core.sfcs:getting quantiles from sketch for rank 0.75\n",
      "INFO:mlm_insights.core.metrics:Calculated Quartiles metric, value: {'q1': 33.64044, 'q2': 39.29761, 'q3': 43.16949}\n",
      "INFO:mlm_insights.core.sfcs:getting SFCMetaData(klass=<class 'mlm_insights.core.sfcs.descriptive_statistics_sfc.DescriptiveStatisticsSFC'>, config={}) sfc from sfc meta data\n",
      "INFO:mlm_insights.core.metrics:Calculated Mean metric, value: 38.9812439184953\n",
      "INFO:mlm_insights.core.sfcs:getting SFCMetaData(klass=<class 'mlm_insights.core.sfcs.descriptive_statistics_sfc.DescriptiveStatisticsSFC'>, config={}) sfc from sfc meta data\n",
      "INFO:mlm_insights.core.sfcs:getting SFCMetaData(klass=<class 'mlm_insights.core.sfcs.descriptive_statistics_sfc.DescriptiveStatisticsSFC'>, config={}) sfc from sfc meta data\n",
      "INFO:mlm_insights.core.metrics:Calculated Kurtosis metric, value: 1.850946460274213\n",
      "INFO:mlm_insights.core.sfcs:getting SFCMetaData(klass=<class 'mlm_insights.core.sfcs.descriptive_statistics_sfc.DescriptiveStatisticsSFC'>, config={}) sfc from sfc meta data\n",
      "INFO:mlm_insights.core.sfcs:getting SFCMetaData(klass=<class 'mlm_insights.core.sfcs.descriptive_statistics_sfc.DescriptiveStatisticsSFC'>, config={}) sfc from sfc meta data\n",
      "INFO:mlm_insights.core.metrics:Calculated Skewness metric, value: -1.199562407919743\n",
      "INFO:mlm_insights.core.sfcs:getting SFCMetaData(klass=<class 'mlm_insights.core.sfcs.descriptive_statistics_sfc.DescriptiveStatisticsSFC'>, config={}) sfc from sfc meta data\n",
      "INFO:mlm_insights.core.sfcs:getting SFCMetaData(klass=<class 'mlm_insights.core.sfcs.descriptive_statistics_sfc.DescriptiveStatisticsSFC'>, config={}) sfc from sfc meta data\n",
      "INFO:mlm_insights.core.metrics:Creating StandardDeviation metric, value: 21.489729685247838\n",
      "INFO:mlm_insights.core.sfcs:getting SFCMetaData(klass=<class 'mlm_insights.core.sfcs.descriptive_statistics_sfc.DescriptiveStatisticsSFC'>, config={}) sfc from sfc meta data\n",
      "INFO:mlm_insights.core.sfcs:getting SFCMetaData(klass=<class 'mlm_insights.core.sfcs.descriptive_statistics_sfc.DescriptiveStatisticsSFC'>, config={}) sfc from sfc meta data\n",
      "INFO:mlm_insights.core.metrics:Calculated Min metric, value: -176.64603\n",
      "INFO:mlm_insights.core.sfcs:getting SFCMetaData(klass=<class 'mlm_insights.core.sfcs.descriptive_statistics_sfc.DescriptiveStatisticsSFC'>, config={}) sfc from sfc meta data\n",
      "INFO:mlm_insights.core.sfcs:getting SFCMetaData(klass=<class 'mlm_insights.core.sfcs.frequent_items_sfc.FrequentItemsSFC'>, config={}) sfc from sfc meta data\n",
      "INFO:mlm_insights.core.sfcs:Getting top 2 frequent items\n",
      "INFO:mlm_insights.core.sfcs:Getting list of all frequent items\n",
      "INFO:mlm_insights.core.metrics:Calculated IsConstantFeature metric, value: False\n",
      "INFO:mlm_insights.core.sfcs:getting SFCMetaData(klass=<class 'mlm_insights.core.sfcs.quantiles_sfc.QuantilesSFC'>, config={}) sfc from sfc meta data\n",
      "INFO:mlm_insights.core.sfcs:getting quantiles from sketch for rank 0.75\n",
      "INFO:mlm_insights.core.sfcs:getting quantiles from sketch for rank 0.25\n",
      "INFO:mlm_insights.core.metrics:Calculated IQR metric, value: 28.386920000000003\n",
      "INFO:mlm_insights.core.sfcs:getting quantiles from sketch for rank 0.75\n",
      "INFO:mlm_insights.core.sfcs:getting quantiles from sketch for rank 0.25\n",
      "INFO:mlm_insights.core.sfcs:getting SFCMetaData(klass=<class 'mlm_insights.core.sfcs.descriptive_statistics_sfc.DescriptiveStatisticsSFC'>, config={}) sfc from sfc meta data\n",
      "INFO:mlm_insights.core.metrics:Calculated Range metric, value: 111.84747\n",
      "INFO:mlm_insights.core.sfcs:getting SFCMetaData(klass=<class 'mlm_insights.core.sfcs.quantiles_sfc.QuantilesSFC'>, config={}) sfc from sfc meta data\n",
      "INFO:mlm_insights.core.metrics:Calculated ProbabilityDistribution metric, value: {'bins': [-176.64603, -172.78922068965517, -168.93241137931034, -165.0756020689655, -161.21879275862068, -157.36198344827585, -153.50517413793102, -149.6483648275862, -145.79155551724136, -141.93474620689653, -138.0779368965517, -134.22112758620688, -130.36431827586205, -126.50750896551723, -122.65069965517242, -118.79389034482759, -114.93708103448276, -111.08027172413793, -107.2234624137931, -103.36665310344827, -99.50984379310344, -95.65303448275861, -91.79622517241378, -87.93941586206896, -84.08260655172413, -80.2257972413793, -76.36898793103447, -72.51217862068965, -68.65536931034482, -64.79856], 'density': [0.0, 0.003134796238244514, 0.003134796238244514, 0.009404388714733541, 0.009404388714733543, 0.01567398119122257, 0.006269592476489033, 0.0031347962382445096, 0.006269592476489033, 0.006269592476489019, 0.00940438871473355, 0.006269592476489033, 0.0, 0.018808777429467072, 0.05642633228840126, 0.040752351097178674, 0.05015673981191224, 0.03448275862068967, 0.043887147335423204, 0.037617554858934144, 0.09090909090909094, 0.08463949843260188, 0.08777429467084641, 0.10031347962382442, 0.09404388714733547, 0.08150470219435735, 0.056426332288401215, 0.028213166144200663, 0.00940438871473348, 0.006269592476489061]}\n",
      "INFO:mlm_insights.core.sfcs:getting SFCMetaData(klass=<class 'mlm_insights.core.sfcs.descriptive_statistics_sfc.DescriptiveStatisticsSFC'>, config={}) sfc from sfc meta data\n",
      "INFO:mlm_insights.core.metrics:Calculated Variance metric, value: 461.80848194502215\n",
      "INFO:mlm_insights.core.sfcs:getting SFCMetaData(klass=<class 'mlm_insights.core.sfcs.descriptive_statistics_sfc.DescriptiveStatisticsSFC'>, config={}) sfc from sfc meta data\n",
      "INFO:mlm_insights.core.metrics:Calculated TypeMetric metric, value: {'string_type_count': 0, 'integral_type_count': 0, 'fractional_type_count': 319, 'boolean_type_count': 0}\n",
      "INFO:mlm_insights.core.sfcs:getting SFCMetaData(klass=<class 'mlm_insights.core.sfcs.quantiles_sfc.QuantilesSFC'>, config={}) sfc from sfc meta data\n",
      "INFO:mlm_insights.core.metrics:Calculated FrequencyDistribution metric, value: {'bins': [-176.64603, -172.78922068965517, -168.93241137931034, -165.0756020689655, -161.21879275862068, -157.36198344827585, -153.50517413793102, -149.6483648275862, -145.79155551724136, -141.93474620689653, -138.0779368965517, -134.22112758620688, -130.36431827586205, -126.50750896551723, -122.65069965517242, -118.79389034482759, -114.93708103448276, -111.08027172413793, -107.2234624137931, -103.36665310344827, -99.50984379310344, -95.65303448275861, -91.79622517241378, -87.93941586206896, -84.08260655172413, -80.2257972413793, -76.36898793103447, -72.51217862068965, -68.65536931034482, -64.79856], 'frequency': [0, 1, 1, 3, 3, 5, 2, 1, 2, 2, 3, 2, 0, 6, 18, 13, 16, 11, 14, 12, 29, 27, 28, 32, 30, 26, 18, 9, 3, 2]}\n",
      "INFO:mlm_insights.core.metrics:Calculated Count metric, value: {'total_count': 322.0, 'missing_count': 3.0, 'missing_count_percentage': 0.9316770186335404}\n",
      "INFO:mlm_insights.core.sfcs:getting SFCMetaData(klass=<class 'mlm_insights.core.sfcs.descriptive_statistics_sfc.DescriptiveStatisticsSFC'>, config={}) sfc from sfc meta data\n",
      "INFO:mlm_insights.core.metrics:Calculated Max metric, value: -64.79856\n",
      "INFO:mlm_insights.core.sfcs:getting SFCMetaData(klass=<class 'mlm_insights.core.sfcs.descriptive_statistics_sfc.DescriptiveStatisticsSFC'>, config={}) sfc from sfc meta data\n",
      "INFO:mlm_insights.core.sfcs:getting SFCMetaData(klass=<class 'mlm_insights.core.sfcs.distinct_count_sfc.DistinctCountSFC'>, config={}) sfc from sfc meta data\n",
      "INFO:mlm_insights.core.sfcs:getting SFCMetaData(klass=<class 'mlm_insights.core.sfcs.frequent_items_sfc.FrequentItemsSFC'>, config={}) sfc from sfc meta data\n",
      "INFO:mlm_insights.core.sfcs:Getting total count of input data\n",
      "INFO:mlm_insights.core.sfcs:Calculated cardinality = 319.0002519341608 in Distinct count SFC, upper bound = 319.01617937768685, lower bound = 319.0\n",
      "INFO:mlm_insights.core.metrics:Calculated DistinctCount metric, value: 319\n",
      "INFO:mlm_insights.core.metrics:Calculated Sum metric, value: -31382.88966\n",
      "INFO:mlm_insights.core.sfcs:getting SFCMetaData(klass=<class 'mlm_insights.core.sfcs.frequent_items_sfc.FrequentItemsSFC'>, config={}) sfc from sfc meta data\n",
      "INFO:mlm_insights.core.sfcs:Getting list of all frequent items\n",
      "INFO:mlm_insights.core.metrics:Calculated IsQuasiConstantFeature metric, value: True\n",
      "INFO:mlm_insights.core.sfcs:getting SFCMetaData(klass=<class 'mlm_insights.core.sfcs.quantiles_sfc.QuantilesSFC'>, config={}) sfc from sfc meta data\n",
      "INFO:mlm_insights.core.sfcs:getting quantiles from sketch for rank 0.25\n",
      "INFO:mlm_insights.core.sfcs:getting quantiles from sketch for rank 0.5\n",
      "INFO:mlm_insights.core.sfcs:getting quantiles from sketch for rank 0.75\n",
      "INFO:mlm_insights.core.metrics:Calculated Quartiles metric, value: {'q1': -110.94103, 'q2': -93.40307, 'q3': -82.55411}\n",
      "INFO:mlm_insights.core.sfcs:getting SFCMetaData(klass=<class 'mlm_insights.core.sfcs.descriptive_statistics_sfc.DescriptiveStatisticsSFC'>, config={}) sfc from sfc meta data\n",
      "INFO:mlm_insights.core.metrics:Calculated Mean metric, value: -98.37896445141065\n",
      "INFO:mlm_insights.core.sfcs:getting SFCMetaData(klass=<class 'mlm_insights.core.sfcs.descriptive_statistics_sfc.DescriptiveStatisticsSFC'>, config={}) sfc from sfc meta data\n",
      "INFO:mlm_insights.core.sfcs:getting SFCMetaData(klass=<class 'mlm_insights.core.sfcs.descriptive_statistics_sfc.DescriptiveStatisticsSFC'>, config={}) sfc from sfc meta data\n",
      "INFO:mlm_insights.core.metrics:Calculated Kurtosis metric, value: 1.3719894513293207\n",
      "INFO:mlm_insights.core.sfcs:getting SFCMetaData(klass=<class 'mlm_insights.core.sfcs.descriptive_statistics_sfc.DescriptiveStatisticsSFC'>, config={}) sfc from sfc meta data\n",
      "INFO:mlm_insights.core.metrics:Calculated RowCount metric, value: 322.0\n",
      "INFO:ads.feature_store.common.utils.utility:Ingestion Summary \n",
      "╒══════════════════════════════════╤═══════════════╤════════════════════╤═════════════════╕\n",
      "│            entity_id             │  entity_type  │  ingestion_status  │  error_details  │\n",
      "╞══════════════════════════════════╪═══════════════╪════════════════════╪═════════════════╡\n",
      "│ C1771CFDA79A082BB9FB85D9E5FCB192 │ FEATURE_GROUP │     Succeeded      │      None       │\n",
      "╘══════════════════════════════════╧═══════════════╧════════════════════╧═════════════════╛\n"
     ]
    }
   ],
   "source": [
    "feature_group_airports.materialise(airports_df)"
   ]
  },
  {
   "cell_type": "code",
   "execution_count": 19,
   "id": "44277176",
   "metadata": {
    "pycharm": {
     "name": "#%%\n"
    }
   },
   "outputs": [
    {
     "data": {
      "image/svg+xml": [
       "<?xml version=\"1.0\" encoding=\"UTF-8\" standalone=\"no\"?>\n",
       "<!DOCTYPE svg PUBLIC \"-//W3C//DTD SVG 1.1//EN\"\n",
       " \"http://www.w3.org/Graphics/SVG/1.1/DTD/svg11.dtd\">\n",
       "<!-- Generated by graphviz version 2.30.1 (20200602.1248)\n",
       " -->\n",
       "<!-- Title: %3 Pages: 1 -->\n",
       "<svg width=\"590pt\" height=\"62pt\"\n",
       " viewBox=\"0.00 0.00 590.00 62.00\" xmlns=\"http://www.w3.org/2000/svg\" xmlns:xlink=\"http://www.w3.org/1999/xlink\">\n",
       "<g id=\"graph0\" class=\"graph\" transform=\"scale(1 1) rotate(0) translate(4 58)\">\n",
       "<title>%3</title>\n",
       "<polygon fill=\"white\" stroke=\"white\" points=\"-4,5 -4,-58 587,-58 587,5 -4,5\"/>\n",
       "<!-- 751D665EB6AE7360928F15705F9F0F48 -->\n",
       "<g id=\"node1\" class=\"node\"><title>751D665EB6AE7360928F15705F9F0F48</title>\n",
       "<path fill=\"#dedede\" stroke=\"#dedede\" d=\"M158,-54C158,-54 12,-54 12,-54 6,-54 0,-48 0,-42 0,-42 0,-12 0,-12 0,-6 6,-0 12,-0 12,-0 158,-0 158,-0 164,-0 170,-6 170,-12 170,-12 170,-42 170,-42 170,-48 164,-54 158,-54\"/>\n",
       "<text text-anchor=\"start\" x=\"54\" y=\"-37.7\" font-family=\"Helvetica,Arial,sans-serif\" font-size=\"11.00\">flights details</text>\n",
       "<text text-anchor=\"start\" x=\"63.5\" y=\"-23.4\" font-family=\"Helvetica,Arial,sans-serif\" font-size=\"7.00\">Feature Store</text>\n",
       "<text text-anchor=\"start\" x=\"12.5\" y=\"-10.4\" font-family=\"Courier New\" font-size=\"7.00\">751D665EB6AE7360928F15705F9F0F48</text>\n",
       "</g>\n",
       "<!-- 843E320A28F319748425787F04BCD3B8 -->\n",
       "<g id=\"node2\" class=\"node\"><title>843E320A28F319748425787F04BCD3B8</title>\n",
       "<path fill=\"#dedede\" stroke=\"#dedede\" d=\"M364,-54C364,-54 218,-54 218,-54 212,-54 206,-48 206,-42 206,-42 206,-12 206,-12 206,-6 212,-0 218,-0 218,-0 364,-0 364,-0 370,-0 376,-6 376,-12 376,-12 376,-42 376,-42 376,-48 370,-54 364,-54\"/>\n",
       "<text text-anchor=\"start\" x=\"257.5\" y=\"-37.7\" font-family=\"Helvetica,Arial,sans-serif\" font-size=\"11.00\">Flight details2</text>\n",
       "<text text-anchor=\"start\" x=\"281.5\" y=\"-23.4\" font-family=\"Helvetica,Arial,sans-serif\" font-size=\"7.00\">Entity</text>\n",
       "<text text-anchor=\"start\" x=\"218.5\" y=\"-10.4\" font-family=\"Courier New\" font-size=\"7.00\">843E320A28F319748425787F04BCD3B8</text>\n",
       "</g>\n",
       "<!-- 751D665EB6AE7360928F15705F9F0F48&#45;&gt;843E320A28F319748425787F04BCD3B8 -->\n",
       "<g id=\"edge1\" class=\"edge\"><title>751D665EB6AE7360928F15705F9F0F48&#45;&gt;843E320A28F319748425787F04BCD3B8</title>\n",
       "<path fill=\"none\" stroke=\"black\" d=\"M170.152,-27C178.501,-27 187.015,-27 195.46,-27\"/>\n",
       "<polygon fill=\"black\" stroke=\"black\" points=\"195.712,-30.5001 205.712,-27 195.712,-23.5001 195.712,-30.5001\"/>\n",
       "</g>\n",
       "<!-- C1771CFDA79A082BB9FB85D9E5FCB192 -->\n",
       "<g id=\"node3\" class=\"node\"><title>C1771CFDA79A082BB9FB85D9E5FCB192</title>\n",
       "<path fill=\"#dedede\" stroke=\"#dedede\" d=\"M570,-54C570,-54 424,-54 424,-54 418,-54 412,-48 412,-42 412,-42 412,-12 412,-12 412,-6 418,-0 424,-0 424,-0 570,-0 570,-0 576,-0 582,-6 582,-12 582,-12 582,-42 582,-42 582,-48 576,-54 570,-54\"/>\n",
       "<text text-anchor=\"start\" x=\"444.5\" y=\"-37.7\" font-family=\"Helvetica,Arial,sans-serif\" font-size=\"11.00\">airport_feature_group</text>\n",
       "<text text-anchor=\"start\" x=\"474\" y=\"-23.4\" font-family=\"Helvetica,Arial,sans-serif\" font-size=\"7.00\">Feature Group</text>\n",
       "<text text-anchor=\"start\" x=\"424.5\" y=\"-10.4\" font-family=\"Courier New\" font-size=\"7.00\">C1771CFDA79A082BB9FB85D9E5FCB192</text>\n",
       "</g>\n",
       "<!-- 843E320A28F319748425787F04BCD3B8&#45;&gt;C1771CFDA79A082BB9FB85D9E5FCB192 -->\n",
       "<g id=\"edge2\" class=\"edge\"><title>843E320A28F319748425787F04BCD3B8&#45;&gt;C1771CFDA79A082BB9FB85D9E5FCB192</title>\n",
       "<path fill=\"none\" stroke=\"black\" d=\"M376.152,-27C384.501,-27 393.015,-27 401.46,-27\"/>\n",
       "<polygon fill=\"black\" stroke=\"black\" points=\"401.712,-30.5001 411.712,-27 401.712,-23.5001 401.712,-30.5001\"/>\n",
       "</g>\n",
       "</g>\n",
       "</svg>\n"
      ],
      "text/plain": [
       "<graphviz.dot.Digraph at 0x7f8ef9587c70>"
      ]
     },
     "metadata": {},
     "output_type": "display_data"
    }
   ],
   "source": [
    "feature_group_airports.show()"
   ]
  },
  {
   "cell_type": "markdown",
   "id": "d842551d",
   "metadata": {
    "pycharm": {
     "name": "#%% md\n"
    }
   },
   "source": [
    "<a id=\"create_feature_group_airlines\"></a>\n",
    "##### Airlines Feature Group\n",
    "\n",
    "Create feature group for airlines\n",
    "\n",
    "<div>\n",
    "    <img src=\"https://objectstorage.us-ashburn-1.oraclecloud.com/p/hh2NOgFJbVSg4amcLM3G3hkTuHyBD-8aE_iCsuZKEvIav1Wlld-3zfCawG4ycQGN/n/ociodscdev/b/oci-feature-store/o/beta/_images/feature_groups.gif\" width=\"700\" height=\"350\" />\n",
    "</div>"
   ]
  },
  {
   "cell_type": "markdown",
   "id": "31a33a56",
   "metadata": {
    "pycharm": {
     "name": "#%% md\n"
    }
   },
   "source": [
    "\n"
   ]
  },
  {
   "cell_type": "code",
   "execution_count": 20,
   "id": "f3c7a4c2",
   "metadata": {
    "pycharm": {
     "name": "#%%\n"
    }
   },
   "outputs": [
    {
     "data": {
      "text/plain": [
       "{\"meta\": {}, \"expectation_type\": \"expect_column_values_to_not_be_null\", \"kwargs\": {\"column\": \"IATA_CODE\"}}"
      ]
     },
     "execution_count": 20,
     "metadata": {},
     "output_type": "execute_result"
    }
   ],
   "source": [
    "expectation_suite_airlines = ExpectationSuite(\n",
    "    expectation_suite_name=\"test_airlines_df\"\n",
    ")\n",
    "expectation_suite_airlines.add_expectation(\n",
    "    ExpectationConfiguration(\n",
    "        expectation_type=\"expect_column_values_to_not_be_null\",\n",
    "        kwargs={\"column\": \"IATA_CODE\"},\n",
    "    )\n",
    ")"
   ]
  },
  {
   "cell_type": "code",
   "execution_count": 21,
   "id": "1b9ad0dc",
   "metadata": {
    "pycharm": {
     "name": "#%%\n"
    }
   },
   "outputs": [
    {
     "name": "stdout",
     "output_type": "stream",
     "text": [
      "WARNING:py.warnings:/home/datascience/conda/fspyspark32_p38_cpu#conda_v1/lib/python3.8/site-packages/pyspark/sql/pandas/utils.py:35: DeprecationWarning: distutils Version classes are deprecated. Use packaging.version instead.\n",
      "  if LooseVersion(pandas.__version__) < LooseVersion(minimum_pandas_version):\n",
      "\n",
      "WARNING:py.warnings:/home/datascience/conda/fspyspark32_p38_cpu#conda_v1/lib/python3.8/site-packages/pyspark/sql/pandas/utils.py:57: DeprecationWarning: distutils Version classes are deprecated. Use packaging.version instead.\n",
      "  if LooseVersion(pyarrow.__version__) < LooseVersion(minimum_pyarrow_version):\n",
      "\n"
     ]
    }
   ],
   "source": [
    "feature_group_airlines = (\n",
    "    FeatureGroup()\n",
    "    .with_feature_store_id(feature_store.id)\n",
    "    .with_primary_keys([\"IATA_CODE\"])\n",
    "    .with_name(\"airlines_feature_group\")\n",
    "    .with_entity_id(entity.id)\n",
    "    .with_compartment_id(compartment_id)\n",
    "    .with_schema_details_from_dataframe(airlines_df)\n",
    "    .with_expectation_suite(\n",
    "        expectation_suite=expectation_suite_airlines,\n",
    "        expectation_type=ExpectationType.STRICT,\n",
    "     )\n",
    ")"
   ]
  },
  {
   "cell_type": "code",
   "execution_count": 22,
   "id": "35cea00f",
   "metadata": {
    "collapsed": false,
    "jupyter": {
     "outputs_hidden": false
    },
    "pycharm": {
     "name": "#%%\n"
    }
   },
   "outputs": [
    {
     "data": {
      "text/plain": [
       "\n",
       "kind: FeatureGroup\n",
       "spec:\n",
       "  compartmentId: ocid1.tenancy.oc1..aaaaaaaa25c5a2zpfki3wo4ofza5l72aehvwkjbuavpnzqtmr4nigdgzi57a\n",
       "  entityId: 843E320A28F319748425787F04BCD3B8\n",
       "  expectationDetails:\n",
       "    createRuleDetails:\n",
       "    - arguments:\n",
       "        column: IATA_CODE\n",
       "      levelType: ERROR\n",
       "      name: Rule-0\n",
       "      ruleType: expect_column_values_to_not_be_null\n",
       "    expectationType: STRICT\n",
       "    name: test_airlines_df\n",
       "    validationEngineType: GREAT_EXPECTATIONS\n",
       "  featureStoreId: 751D665EB6AE7360928F15705F9F0F48\n",
       "  id: 4E21D2D878A101E8804837CAD6499FD9\n",
       "  inputFeatureDetails:\n",
       "  - featureType: STRING\n",
       "    name: IATA_CODE\n",
       "    orderNumber: 1\n",
       "  - featureType: STRING\n",
       "    name: AIRLINE\n",
       "    orderNumber: 2\n",
       "  isInferSchema: true\n",
       "  name: airlines_feature_group\n",
       "  primaryKeys:\n",
       "    items:\n",
       "    - name: IATA_CODE\n",
       "  statisticsConfig:\n",
       "    isEnabled: true\n",
       "type: featureGroup"
      ]
     },
     "execution_count": 22,
     "metadata": {},
     "output_type": "execute_result"
    }
   ],
   "source": [
    "feature_group_airlines.create()"
   ]
  },
  {
   "cell_type": "code",
   "execution_count": 23,
   "id": "ae7c7ff9",
   "metadata": {
    "pycharm": {
     "name": "#%%\n"
    }
   },
   "outputs": [
    {
     "name": "stdout",
     "output_type": "stream",
     "text": [
      "INFO:great_expectations.validator.validator:\t1 expectation(s) included in expectation_suite.\n"
     ]
    },
    {
     "data": {
      "application/vnd.jupyter.widget-view+json": {
       "model_id": "971d31d06c77444eadef7392d6903b71",
       "version_major": 2,
       "version_minor": 0
      },
      "text/plain": [
       "Calculating Metrics:   0%|          | 0/6 [00:00<?, ?it/s]"
      ]
     },
     "metadata": {},
     "output_type": "display_data"
    },
    {
     "name": "stdout",
     "output_type": "stream",
     "text": [
      "INFO:ads.feature_store.common.utils.utility:Validation Summary \n",
      "╒════════════════════╤══════════════════════════╤═══════════════════════════╤═════════════════════════════╤═══════════════════╤═══════════════════════╕\n",
      "│  expectation_type  │  evaluated_expectations  │  successful_expectations  │  unsuccessful_expectations  │  success_percent  │   ingestion_status    │\n",
      "╞════════════════════╪══════════════════════════╪═══════════════════════════╪═════════════════════════════╪═══════════════════╪═══════════════════════╡\n",
      "│       STRICT       │            1             │             1             │              0              │        100        │ Ingestion in progress │\n",
      "╘════════════════════╧══════════════════════════╧═══════════════════════════╧═════════════════════════════╧═══════════════════╧═══════════════════════╛\n",
      "INFO:ads.feature_store.common.utils.utility:Validations Rules Summary \n",
      "╒═════════════════════════════════════╤═════════════════════════╤══════════╕\n",
      "│              rule_type              │        arguments        │  status  │\n",
      "╞═════════════════════════════════════╪═════════════════════════╪══════════╡\n",
      "│ expect_column_values_to_not_be_null │ {'column': 'IATA_CODE'} │   True   │\n",
      "╘═════════════════════════════════════╧═════════════════════════╧══════════╛\n"
     ]
    },
    {
     "name": "stderr",
     "output_type": "stream",
     "text": [
      "                                                                                \r"
     ]
    },
    {
     "name": "stdout",
     "output_type": "stream",
     "text": [
      "INFO:mlm_insights.builder:validating required components\n",
      "INFO:mlm_insights.builder:required components validated\n",
      "INFO:mlm_insights.builder.usage:Activating Minimal Insights Usage\n",
      "INFO:mlm_insights.builder:Generating Runner object\n",
      "INFO:mlm_insights.builder:Generating workflow request\n",
      "INFO:mlm_insights.workflow:Fetching engine object\n",
      "INFO:mlm_insights.workflow:Returning native engine object\n",
      "INFO:mlm_insights.builder:Running Fugue Workflow\n",
      "INFO:mlm_insights.workflow:Executing Fugue Workflow\n",
      "INFO:mlm_insights.core.sfcs:creating sfc from {'c5144335a509689fc50d13d03eebc9b1': FrequentItemsSFC(sketch=<_datasketches.frequent_strings_sketch object at 0x7f8ef956b670>), '4cd1d3704778a196571a6c83581854cc': DistinctCountSFC(sketch=<_datasketches.hll_sketch object at 0x7f8ef956b430>)} sfc map\n",
      "INFO:mlm_insights.core.sfcs:creating sfc from {'c5144335a509689fc50d13d03eebc9b1': FrequentItemsSFC(sketch=<_datasketches.frequent_strings_sketch object at 0x7f8ef95cdc30>), '4cd1d3704778a196571a6c83581854cc': DistinctCountSFC(sketch=<_datasketches.hll_sketch object at 0x7f8ef95cdb70>)} sfc map\n",
      "INFO:mlm_insights.core.sdcs:creating sdc from {} sdc map\n",
      "INFO:mlm_insights.builder:Profile Generated Successfully\n",
      "INFO:mlm_insights.core.metrics:Calculated Count metric, value: {'total_count': 14.0, 'missing_count': 0.0, 'missing_count_percentage': 0.0}\n",
      "INFO:mlm_insights.core.sfcs:getting SFCMetaData(klass=<class 'mlm_insights.core.sfcs.frequent_items_sfc.FrequentItemsSFC'>, config={}) sfc from sfc meta data\n",
      "INFO:mlm_insights.core.sfcs:Getting top 10 frequent items\n",
      "INFO:mlm_insights.core.sfcs:Getting list of all frequent items\n",
      "INFO:mlm_insights.core.metrics:Calculated TopKFrequentElements metric, value: [FrequentItemEstimate(value='UA', estimate=1, lower_bound=1, upper_bound=1), FrequentItemEstimate(value='AA', estimate=1, lower_bound=1, upper_bound=1), FrequentItemEstimate(value='NK', estimate=1, lower_bound=1, upper_bound=1), FrequentItemEstimate(value='VX', estimate=1, lower_bound=1, upper_bound=1), FrequentItemEstimate(value='OO', estimate=1, lower_bound=1, upper_bound=1), FrequentItemEstimate(value='WN', estimate=1, lower_bound=1, upper_bound=1), FrequentItemEstimate(value='US', estimate=1, lower_bound=1, upper_bound=1), FrequentItemEstimate(value='DL', estimate=1, lower_bound=1, upper_bound=1), FrequentItemEstimate(value='AS', estimate=1, lower_bound=1, upper_bound=1), FrequentItemEstimate(value='B6', estimate=1, lower_bound=1, upper_bound=1)]\n",
      "INFO:mlm_insights.core.sfcs:getting SFCMetaData(klass=<class 'mlm_insights.core.sfcs.frequent_items_sfc.FrequentItemsSFC'>, config={}) sfc from sfc meta data\n",
      "INFO:mlm_insights.core.sfcs:Getting top 10 frequent items\n",
      "INFO:mlm_insights.core.sfcs:Getting list of all frequent items\n",
      "INFO:mlm_insights.core.metrics:Calculated TypeMetric metric, value: {'string_type_count': 14, 'integral_type_count': 0, 'fractional_type_count': 0, 'boolean_type_count': 0}\n",
      "INFO:mlm_insights.core.sfcs:getting SFCMetaData(klass=<class 'mlm_insights.core.sfcs.distinct_count_sfc.DistinctCountSFC'>, config={}) sfc from sfc meta data\n",
      "INFO:mlm_insights.core.sfcs:getting SFCMetaData(klass=<class 'mlm_insights.core.sfcs.frequent_items_sfc.FrequentItemsSFC'>, config={}) sfc from sfc meta data\n",
      "INFO:mlm_insights.core.sfcs:Calculated cardinality = 14.000000452001906 in Distinct count SFC, upper bound = 14.000699461533127, lower bound = 14.0\n",
      "INFO:mlm_insights.core.sfcs:Getting total count of input data\n",
      "INFO:mlm_insights.core.metrics:Calculated DuplicateCount metric, value: {'count': 0, 'percentage': 0.0}\n",
      "INFO:mlm_insights.core.sfcs:getting SFCMetaData(klass=<class 'mlm_insights.core.sfcs.frequent_items_sfc.FrequentItemsSFC'>, config={}) sfc from sfc meta data\n",
      "INFO:mlm_insights.core.sfcs:Getting top 2 frequent items\n",
      "INFO:mlm_insights.core.sfcs:Getting list of all frequent items\n",
      "INFO:mlm_insights.core.metrics:Calculated Mode metric, value: ['UA', 'AA']\n",
      "INFO:mlm_insights.core.sfcs:getting SFCMetaData(klass=<class 'mlm_insights.core.sfcs.distinct_count_sfc.DistinctCountSFC'>, config={}) sfc from sfc meta data\n",
      "INFO:mlm_insights.core.sfcs:getting SFCMetaData(klass=<class 'mlm_insights.core.sfcs.frequent_items_sfc.FrequentItemsSFC'>, config={}) sfc from sfc meta data\n",
      "INFO:mlm_insights.core.sfcs:Getting total count of input data\n",
      "INFO:mlm_insights.core.sfcs:Calculated cardinality = 14.000000452001906 in Distinct count SFC, upper bound = 14.000699461533127, lower bound = 14.0\n",
      "INFO:mlm_insights.core.metrics:Calculated DistinctCount metric, value: 14\n",
      "INFO:mlm_insights.core.metrics:Calculated Count metric, value: {'total_count': 14.0, 'missing_count': 0.0, 'missing_count_percentage': 0.0}\n",
      "INFO:mlm_insights.core.sfcs:getting SFCMetaData(klass=<class 'mlm_insights.core.sfcs.frequent_items_sfc.FrequentItemsSFC'>, config={}) sfc from sfc meta data\n",
      "INFO:mlm_insights.core.sfcs:Getting top 10 frequent items\n",
      "INFO:mlm_insights.core.sfcs:Getting list of all frequent items\n",
      "INFO:mlm_insights.core.metrics:Calculated TopKFrequentElements metric, value: [FrequentItemEstimate(value='Skywest Airlines Inc.', estimate=1, lower_bound=1, upper_bound=1), FrequentItemEstimate(value='American Eagle Airlines Inc.', estimate=1, lower_bound=1, upper_bound=1), FrequentItemEstimate(value='Frontier Airlines Inc.', estimate=1, lower_bound=1, upper_bound=1), FrequentItemEstimate(value='Atlantic Southeast Airlines', estimate=1, lower_bound=1, upper_bound=1), FrequentItemEstimate(value='Southwest Airlines Co.', estimate=1, lower_bound=1, upper_bound=1), FrequentItemEstimate(value='Hawaiian Airlines Inc.', estimate=1, lower_bound=1, upper_bound=1), FrequentItemEstimate(value='American Airlines Inc.', estimate=1, lower_bound=1, upper_bound=1), FrequentItemEstimate(value='Virgin America', estimate=1, lower_bound=1, upper_bound=1), FrequentItemEstimate(value='Spirit Air Lines', estimate=1, lower_bound=1, upper_bound=1), FrequentItemEstimate(value='JetBlue Airways', estimate=1, lower_bound=1, upper_bound=1)]\n",
      "INFO:mlm_insights.core.sfcs:getting SFCMetaData(klass=<class 'mlm_insights.core.sfcs.frequent_items_sfc.FrequentItemsSFC'>, config={}) sfc from sfc meta data\n",
      "INFO:mlm_insights.core.sfcs:Getting top 10 frequent items\n",
      "INFO:mlm_insights.core.sfcs:Getting list of all frequent items\n",
      "INFO:mlm_insights.core.metrics:Calculated TypeMetric metric, value: {'string_type_count': 14, 'integral_type_count': 0, 'fractional_type_count': 0, 'boolean_type_count': 0}\n",
      "INFO:mlm_insights.core.sfcs:getting SFCMetaData(klass=<class 'mlm_insights.core.sfcs.distinct_count_sfc.DistinctCountSFC'>, config={}) sfc from sfc meta data\n",
      "INFO:mlm_insights.core.sfcs:getting SFCMetaData(klass=<class 'mlm_insights.core.sfcs.frequent_items_sfc.FrequentItemsSFC'>, config={}) sfc from sfc meta data\n",
      "INFO:mlm_insights.core.sfcs:Calculated cardinality = 14.000000452001906 in Distinct count SFC, upper bound = 14.000699461533127, lower bound = 14.0\n",
      "INFO:mlm_insights.core.sfcs:Getting total count of input data\n",
      "INFO:mlm_insights.core.metrics:Calculated DuplicateCount metric, value: {'count': 0, 'percentage': 0.0}\n",
      "INFO:mlm_insights.core.sfcs:getting SFCMetaData(klass=<class 'mlm_insights.core.sfcs.frequent_items_sfc.FrequentItemsSFC'>, config={}) sfc from sfc meta data\n",
      "INFO:mlm_insights.core.sfcs:Getting top 2 frequent items\n",
      "INFO:mlm_insights.core.sfcs:Getting list of all frequent items\n",
      "INFO:mlm_insights.core.metrics:Calculated Mode metric, value: ['Skywest Airlines Inc.', 'American Eagle Airlines Inc.']\n",
      "INFO:mlm_insights.core.sfcs:getting SFCMetaData(klass=<class 'mlm_insights.core.sfcs.distinct_count_sfc.DistinctCountSFC'>, config={}) sfc from sfc meta data\n",
      "INFO:mlm_insights.core.sfcs:getting SFCMetaData(klass=<class 'mlm_insights.core.sfcs.frequent_items_sfc.FrequentItemsSFC'>, config={}) sfc from sfc meta data\n",
      "INFO:mlm_insights.core.sfcs:Getting total count of input data\n",
      "INFO:mlm_insights.core.sfcs:Calculated cardinality = 14.000000452001906 in Distinct count SFC, upper bound = 14.000699461533127, lower bound = 14.0\n",
      "INFO:mlm_insights.core.metrics:Calculated DistinctCount metric, value: 14\n",
      "INFO:mlm_insights.core.metrics:Calculated RowCount metric, value: 14.0\n",
      "INFO:ads.feature_store.common.utils.utility:Ingestion Summary \n",
      "╒══════════════════════════════════╤═══════════════╤════════════════════╤═════════════════╕\n",
      "│            entity_id             │  entity_type  │  ingestion_status  │  error_details  │\n",
      "╞══════════════════════════════════╪═══════════════╪════════════════════╪═════════════════╡\n",
      "│ 4E21D2D878A101E8804837CAD6499FD9 │ FEATURE_GROUP │     Succeeded      │      None       │\n",
      "╘══════════════════════════════════╧═══════════════╧════════════════════╧═════════════════╛\n"
     ]
    }
   ],
   "source": [
    "feature_group_airlines.materialise(airlines_df)"
   ]
  },
  {
   "cell_type": "code",
   "execution_count": 24,
   "id": "1c4dcf81",
   "metadata": {
    "pycharm": {
     "name": "#%%\n"
    }
   },
   "outputs": [
    {
     "data": {
      "image/svg+xml": [
       "<?xml version=\"1.0\" encoding=\"UTF-8\" standalone=\"no\"?>\n",
       "<!DOCTYPE svg PUBLIC \"-//W3C//DTD SVG 1.1//EN\"\n",
       " \"http://www.w3.org/Graphics/SVG/1.1/DTD/svg11.dtd\">\n",
       "<!-- Generated by graphviz version 2.30.1 (20200602.1248)\n",
       " -->\n",
       "<!-- Title: %3 Pages: 1 -->\n",
       "<svg width=\"590pt\" height=\"62pt\"\n",
       " viewBox=\"0.00 0.00 590.00 62.00\" xmlns=\"http://www.w3.org/2000/svg\" xmlns:xlink=\"http://www.w3.org/1999/xlink\">\n",
       "<g id=\"graph0\" class=\"graph\" transform=\"scale(1 1) rotate(0) translate(4 58)\">\n",
       "<title>%3</title>\n",
       "<polygon fill=\"white\" stroke=\"white\" points=\"-4,5 -4,-58 587,-58 587,5 -4,5\"/>\n",
       "<!-- 751D665EB6AE7360928F15705F9F0F48 -->\n",
       "<g id=\"node1\" class=\"node\"><title>751D665EB6AE7360928F15705F9F0F48</title>\n",
       "<path fill=\"#dedede\" stroke=\"#dedede\" d=\"M158,-54C158,-54 12,-54 12,-54 6,-54 0,-48 0,-42 0,-42 0,-12 0,-12 0,-6 6,-0 12,-0 12,-0 158,-0 158,-0 164,-0 170,-6 170,-12 170,-12 170,-42 170,-42 170,-48 164,-54 158,-54\"/>\n",
       "<text text-anchor=\"start\" x=\"54\" y=\"-37.7\" font-family=\"Helvetica,Arial,sans-serif\" font-size=\"11.00\">flights details</text>\n",
       "<text text-anchor=\"start\" x=\"63.5\" y=\"-23.4\" font-family=\"Helvetica,Arial,sans-serif\" font-size=\"7.00\">Feature Store</text>\n",
       "<text text-anchor=\"start\" x=\"12.5\" y=\"-10.4\" font-family=\"Courier New\" font-size=\"7.00\">751D665EB6AE7360928F15705F9F0F48</text>\n",
       "</g>\n",
       "<!-- 843E320A28F319748425787F04BCD3B8 -->\n",
       "<g id=\"node2\" class=\"node\"><title>843E320A28F319748425787F04BCD3B8</title>\n",
       "<path fill=\"#dedede\" stroke=\"#dedede\" d=\"M364,-54C364,-54 218,-54 218,-54 212,-54 206,-48 206,-42 206,-42 206,-12 206,-12 206,-6 212,-0 218,-0 218,-0 364,-0 364,-0 370,-0 376,-6 376,-12 376,-12 376,-42 376,-42 376,-48 370,-54 364,-54\"/>\n",
       "<text text-anchor=\"start\" x=\"257.5\" y=\"-37.7\" font-family=\"Helvetica,Arial,sans-serif\" font-size=\"11.00\">Flight details2</text>\n",
       "<text text-anchor=\"start\" x=\"281.5\" y=\"-23.4\" font-family=\"Helvetica,Arial,sans-serif\" font-size=\"7.00\">Entity</text>\n",
       "<text text-anchor=\"start\" x=\"218.5\" y=\"-10.4\" font-family=\"Courier New\" font-size=\"7.00\">843E320A28F319748425787F04BCD3B8</text>\n",
       "</g>\n",
       "<!-- 751D665EB6AE7360928F15705F9F0F48&#45;&gt;843E320A28F319748425787F04BCD3B8 -->\n",
       "<g id=\"edge1\" class=\"edge\"><title>751D665EB6AE7360928F15705F9F0F48&#45;&gt;843E320A28F319748425787F04BCD3B8</title>\n",
       "<path fill=\"none\" stroke=\"black\" d=\"M170.152,-27C178.501,-27 187.015,-27 195.46,-27\"/>\n",
       "<polygon fill=\"black\" stroke=\"black\" points=\"195.712,-30.5001 205.712,-27 195.712,-23.5001 195.712,-30.5001\"/>\n",
       "</g>\n",
       "<!-- 4E21D2D878A101E8804837CAD6499FD9 -->\n",
       "<g id=\"node3\" class=\"node\"><title>4E21D2D878A101E8804837CAD6499FD9</title>\n",
       "<path fill=\"#dedede\" stroke=\"#dedede\" d=\"M570,-54C570,-54 424,-54 424,-54 418,-54 412,-48 412,-42 412,-42 412,-12 412,-12 412,-6 418,-0 424,-0 424,-0 570,-0 570,-0 576,-0 582,-6 582,-12 582,-12 582,-42 582,-42 582,-48 576,-54 570,-54\"/>\n",
       "<text text-anchor=\"start\" x=\"443\" y=\"-37.7\" font-family=\"Helvetica,Arial,sans-serif\" font-size=\"11.00\">airlines_feature_group</text>\n",
       "<text text-anchor=\"start\" x=\"474\" y=\"-23.4\" font-family=\"Helvetica,Arial,sans-serif\" font-size=\"7.00\">Feature Group</text>\n",
       "<text text-anchor=\"start\" x=\"424.5\" y=\"-10.4\" font-family=\"Courier New\" font-size=\"7.00\">4E21D2D878A101E8804837CAD6499FD9</text>\n",
       "</g>\n",
       "<!-- 843E320A28F319748425787F04BCD3B8&#45;&gt;4E21D2D878A101E8804837CAD6499FD9 -->\n",
       "<g id=\"edge2\" class=\"edge\"><title>843E320A28F319748425787F04BCD3B8&#45;&gt;4E21D2D878A101E8804837CAD6499FD9</title>\n",
       "<path fill=\"none\" stroke=\"black\" d=\"M376.152,-27C384.501,-27 393.015,-27 401.46,-27\"/>\n",
       "<polygon fill=\"black\" stroke=\"black\" points=\"401.712,-30.5001 411.712,-27 401.712,-23.5001 401.712,-30.5001\"/>\n",
       "</g>\n",
       "</g>\n",
       "</svg>\n"
      ],
      "text/plain": [
       "<graphviz.dot.Digraph at 0x7f8ef95838e0>"
      ]
     },
     "metadata": {},
     "output_type": "display_data"
    }
   ],
   "source": [
    "feature_group_airlines.show()"
   ]
  },
  {
   "cell_type": "markdown",
   "id": "cb4e05d6",
   "metadata": {
    "pycharm": {
     "name": "#%% md\n"
    }
   },
   "source": [
    "<a id=\"explore_featuregroup\"></a>\n",
    "### 3.3. Explore feature groups"
   ]
  },
  {
   "cell_type": "code",
   "execution_count": 25,
   "id": "a00444ad",
   "metadata": {
    "pycharm": {
     "name": "#%%\n"
    }
   },
   "outputs": [
    {
     "data": {
      "text/html": [
       "<div>\n",
       "<style scoped>\n",
       "    .dataframe tbody tr th:only-of-type {\n",
       "        vertical-align: middle;\n",
       "    }\n",
       "\n",
       "    .dataframe tbody tr th {\n",
       "        vertical-align: top;\n",
       "    }\n",
       "\n",
       "    .dataframe thead th {\n",
       "        text-align: right;\n",
       "    }\n",
       "</style>\n",
       "<table border=\"1\" class=\"dataframe\">\n",
       "  <thead>\n",
       "    <tr style=\"text-align: right;\">\n",
       "      <th></th>\n",
       "      <th>name</th>\n",
       "      <th>type</th>\n",
       "      <th>feature_group_id</th>\n",
       "    </tr>\n",
       "  </thead>\n",
       "  <tbody>\n",
       "    <tr>\n",
       "      <th>0</th>\n",
       "      <td>YEAR</td>\n",
       "      <td>LONG</td>\n",
       "      <td>C24E858807F4EBA22BF14C08B9A6E2DD</td>\n",
       "    </tr>\n",
       "    <tr>\n",
       "      <th>1</th>\n",
       "      <td>MONTH</td>\n",
       "      <td>LONG</td>\n",
       "      <td>C24E858807F4EBA22BF14C08B9A6E2DD</td>\n",
       "    </tr>\n",
       "    <tr>\n",
       "      <th>2</th>\n",
       "      <td>DAY</td>\n",
       "      <td>LONG</td>\n",
       "      <td>C24E858807F4EBA22BF14C08B9A6E2DD</td>\n",
       "    </tr>\n",
       "    <tr>\n",
       "      <th>3</th>\n",
       "      <td>DAY_OF_WEEK</td>\n",
       "      <td>LONG</td>\n",
       "      <td>C24E858807F4EBA22BF14C08B9A6E2DD</td>\n",
       "    </tr>\n",
       "    <tr>\n",
       "      <th>4</th>\n",
       "      <td>AIRLINE</td>\n",
       "      <td>STRING</td>\n",
       "      <td>C24E858807F4EBA22BF14C08B9A6E2DD</td>\n",
       "    </tr>\n",
       "    <tr>\n",
       "      <th>5</th>\n",
       "      <td>FLIGHT_NUMBER</td>\n",
       "      <td>LONG</td>\n",
       "      <td>C24E858807F4EBA22BF14C08B9A6E2DD</td>\n",
       "    </tr>\n",
       "    <tr>\n",
       "      <th>6</th>\n",
       "      <td>ORIGIN_AIRPORT</td>\n",
       "      <td>STRING</td>\n",
       "      <td>C24E858807F4EBA22BF14C08B9A6E2DD</td>\n",
       "    </tr>\n",
       "    <tr>\n",
       "      <th>7</th>\n",
       "      <td>DESTINATION_AIRPORT</td>\n",
       "      <td>STRING</td>\n",
       "      <td>C24E858807F4EBA22BF14C08B9A6E2DD</td>\n",
       "    </tr>\n",
       "  </tbody>\n",
       "</table>\n",
       "</div>"
      ],
      "text/plain": [
       "                  name    type                  feature_group_id\n",
       "0                 YEAR    LONG  C24E858807F4EBA22BF14C08B9A6E2DD\n",
       "1                MONTH    LONG  C24E858807F4EBA22BF14C08B9A6E2DD\n",
       "2                  DAY    LONG  C24E858807F4EBA22BF14C08B9A6E2DD\n",
       "3          DAY_OF_WEEK    LONG  C24E858807F4EBA22BF14C08B9A6E2DD\n",
       "4              AIRLINE  STRING  C24E858807F4EBA22BF14C08B9A6E2DD\n",
       "5        FLIGHT_NUMBER    LONG  C24E858807F4EBA22BF14C08B9A6E2DD\n",
       "6       ORIGIN_AIRPORT  STRING  C24E858807F4EBA22BF14C08B9A6E2DD\n",
       "7  DESTINATION_AIRPORT  STRING  C24E858807F4EBA22BF14C08B9A6E2DD"
      ]
     },
     "execution_count": 25,
     "metadata": {},
     "output_type": "execute_result"
    }
   ],
   "source": [
    "feature_group_flights.get_features_df()"
   ]
  },
  {
   "cell_type": "code",
   "execution_count": 26,
   "id": "1e492391",
   "metadata": {
    "pycharm": {
     "name": "#%%\n"
    }
   },
   "outputs": [
    {
     "data": {
      "text/html": [
       "<div>\n",
       "<style scoped>\n",
       "    .dataframe tbody tr th:only-of-type {\n",
       "        vertical-align: middle;\n",
       "    }\n",
       "\n",
       "    .dataframe tbody tr th {\n",
       "        vertical-align: top;\n",
       "    }\n",
       "\n",
       "    .dataframe thead th {\n",
       "        text-align: right;\n",
       "    }\n",
       "</style>\n",
       "<table border=\"1\" class=\"dataframe\">\n",
       "  <thead>\n",
       "    <tr style=\"text-align: right;\">\n",
       "      <th></th>\n",
       "      <th>name</th>\n",
       "      <th>type</th>\n",
       "      <th>feature_group_id</th>\n",
       "    </tr>\n",
       "  </thead>\n",
       "  <tbody>\n",
       "    <tr>\n",
       "      <th>0</th>\n",
       "      <td>IATA_CODE</td>\n",
       "      <td>STRING</td>\n",
       "      <td>C1771CFDA79A082BB9FB85D9E5FCB192</td>\n",
       "    </tr>\n",
       "    <tr>\n",
       "      <th>1</th>\n",
       "      <td>AIRPORT</td>\n",
       "      <td>STRING</td>\n",
       "      <td>C1771CFDA79A082BB9FB85D9E5FCB192</td>\n",
       "    </tr>\n",
       "    <tr>\n",
       "      <th>2</th>\n",
       "      <td>CITY</td>\n",
       "      <td>STRING</td>\n",
       "      <td>C1771CFDA79A082BB9FB85D9E5FCB192</td>\n",
       "    </tr>\n",
       "    <tr>\n",
       "      <th>3</th>\n",
       "      <td>STATE</td>\n",
       "      <td>STRING</td>\n",
       "      <td>C1771CFDA79A082BB9FB85D9E5FCB192</td>\n",
       "    </tr>\n",
       "    <tr>\n",
       "      <th>4</th>\n",
       "      <td>COUNTRY</td>\n",
       "      <td>STRING</td>\n",
       "      <td>C1771CFDA79A082BB9FB85D9E5FCB192</td>\n",
       "    </tr>\n",
       "    <tr>\n",
       "      <th>5</th>\n",
       "      <td>LATITUDE</td>\n",
       "      <td>DOUBLE</td>\n",
       "      <td>C1771CFDA79A082BB9FB85D9E5FCB192</td>\n",
       "    </tr>\n",
       "    <tr>\n",
       "      <th>6</th>\n",
       "      <td>LONGITUDE</td>\n",
       "      <td>DOUBLE</td>\n",
       "      <td>C1771CFDA79A082BB9FB85D9E5FCB192</td>\n",
       "    </tr>\n",
       "  </tbody>\n",
       "</table>\n",
       "</div>"
      ],
      "text/plain": [
       "        name    type                  feature_group_id\n",
       "0  IATA_CODE  STRING  C1771CFDA79A082BB9FB85D9E5FCB192\n",
       "1    AIRPORT  STRING  C1771CFDA79A082BB9FB85D9E5FCB192\n",
       "2       CITY  STRING  C1771CFDA79A082BB9FB85D9E5FCB192\n",
       "3      STATE  STRING  C1771CFDA79A082BB9FB85D9E5FCB192\n",
       "4    COUNTRY  STRING  C1771CFDA79A082BB9FB85D9E5FCB192\n",
       "5   LATITUDE  DOUBLE  C1771CFDA79A082BB9FB85D9E5FCB192\n",
       "6  LONGITUDE  DOUBLE  C1771CFDA79A082BB9FB85D9E5FCB192"
      ]
     },
     "execution_count": 26,
     "metadata": {},
     "output_type": "execute_result"
    }
   ],
   "source": [
    "feature_group_airports.get_features_df()"
   ]
  },
  {
   "cell_type": "code",
   "execution_count": 27,
   "id": "dbde287a",
   "metadata": {
    "pycharm": {
     "name": "#%%\n"
    }
   },
   "outputs": [
    {
     "data": {
      "text/html": [
       "<div>\n",
       "<style scoped>\n",
       "    .dataframe tbody tr th:only-of-type {\n",
       "        vertical-align: middle;\n",
       "    }\n",
       "\n",
       "    .dataframe tbody tr th {\n",
       "        vertical-align: top;\n",
       "    }\n",
       "\n",
       "    .dataframe thead th {\n",
       "        text-align: right;\n",
       "    }\n",
       "</style>\n",
       "<table border=\"1\" class=\"dataframe\">\n",
       "  <thead>\n",
       "    <tr style=\"text-align: right;\">\n",
       "      <th></th>\n",
       "      <th>name</th>\n",
       "      <th>type</th>\n",
       "      <th>feature_group_id</th>\n",
       "    </tr>\n",
       "  </thead>\n",
       "  <tbody>\n",
       "    <tr>\n",
       "      <th>0</th>\n",
       "      <td>IATA_CODE</td>\n",
       "      <td>STRING</td>\n",
       "      <td>4E21D2D878A101E8804837CAD6499FD9</td>\n",
       "    </tr>\n",
       "    <tr>\n",
       "      <th>1</th>\n",
       "      <td>AIRLINE</td>\n",
       "      <td>STRING</td>\n",
       "      <td>4E21D2D878A101E8804837CAD6499FD9</td>\n",
       "    </tr>\n",
       "  </tbody>\n",
       "</table>\n",
       "</div>"
      ],
      "text/plain": [
       "        name    type                  feature_group_id\n",
       "0  IATA_CODE  STRING  4E21D2D878A101E8804837CAD6499FD9\n",
       "1    AIRLINE  STRING  4E21D2D878A101E8804837CAD6499FD9"
      ]
     },
     "execution_count": 27,
     "metadata": {},
     "output_type": "execute_result"
    }
   ],
   "source": [
    "feature_group_airlines.get_features_df()"
   ]
  },
  {
   "cell_type": "code",
   "execution_count": 28,
   "id": "9c15fb2e",
   "metadata": {
    "pycharm": {
     "name": "#%%\n"
    }
   },
   "outputs": [
    {
     "name": "stderr",
     "output_type": "stream",
     "text": [
      "[Stage 35:>                                                         (0 + 1) / 1]\r"
     ]
    },
    {
     "name": "stdout",
     "output_type": "stream",
     "text": [
      "+----+-----+---+-----------+-------+-------------+--------------+-------------------+\n",
      "|YEAR|MONTH|DAY|DAY_OF_WEEK|AIRLINE|FLIGHT_NUMBER|ORIGIN_AIRPORT|DESTINATION_AIRPORT|\n",
      "+----+-----+---+-----------+-------+-------------+--------------+-------------------+\n",
      "|2015|    1|  1|          4|     B6|         1030|           BQN|                MCO|\n",
      "|2015|    1|  1|          4|     B6|          262|           SJU|                BOS|\n",
      "|2015|    1|  1|          4|     B6|         2134|           SJU|                MCO|\n",
      "|2015|    1|  1|          4|     B6|          730|           BQN|                MCO|\n",
      "|2015|    1|  1|          4|     B6|          768|           PSE|                MCO|\n",
      "|2015|    1|  1|          4|     B6|         2276|           SJU|                BDL|\n",
      "|2015|    1|  1|          4|     US|          602|           ORD|                PHX|\n",
      "|2015|    1|  1|          4|     AS|          695|           GEG|                SEA|\n",
      "|2015|    1|  1|          4|     HA|          102|           HNL|                ITO|\n",
      "|2015|    1|  1|          4|     OO|         5467|           ONT|                SFO|\n",
      "+----+-----+---+-----------+-------+-------------+--------------+-------------------+\n",
      "only showing top 10 rows\n",
      "\n"
     ]
    },
    {
     "name": "stderr",
     "output_type": "stream",
     "text": [
      "                                                                                \r"
     ]
    }
   ],
   "source": [
    "feature_group_flights.select().show()"
   ]
  },
  {
   "cell_type": "code",
   "execution_count": 29,
   "id": "1fa80478",
   "metadata": {
    "pycharm": {
     "name": "#%%\n"
    }
   },
   "outputs": [
    {
     "name": "stderr",
     "output_type": "stream",
     "text": [
      "[Stage 38:>                                                         (0 + 1) / 1]\r"
     ]
    },
    {
     "name": "stdout",
     "output_type": "stream",
     "text": [
      "+---------+--------------------+-------------+-----+-------+--------+----------+\n",
      "|IATA_CODE|             AIRPORT|         CITY|STATE|COUNTRY|LATITUDE| LONGITUDE|\n",
      "+---------+--------------------+-------------+-----+-------+--------+----------+\n",
      "|      ABE|Lehigh Valley Int...|    Allentown|   PA|    USA|40.65236|  -75.4404|\n",
      "|      ABI|Abilene Regional ...|      Abilene|   TX|    USA|32.41132|  -99.6819|\n",
      "|      ABQ|Albuquerque Inter...|  Albuquerque|   NM|    USA|35.04022|-106.60919|\n",
      "|      ABR|Aberdeen Regional...|     Aberdeen|   SD|    USA|45.44906| -98.42183|\n",
      "|      ABY|Southwest Georgia...|       Albany|   GA|    USA|31.53552| -84.19447|\n",
      "|      ACK|Nantucket Memoria...|    Nantucket|   MA|    USA|41.25305| -70.06018|\n",
      "|      ACT|Waco Regional Air...|         Waco|   TX|    USA|31.61129| -97.23052|\n",
      "|      ACV|      Arcata Airport|Arcata/Eureka|   CA|    USA|40.97812|-124.10862|\n",
      "|      ACY|Atlantic City Int...|Atlantic City|   NJ|    USA|39.45758| -74.57717|\n",
      "|      ADK|        Adak Airport|         Adak|   AK|    USA|51.87796|-176.64603|\n",
      "+---------+--------------------+-------------+-----+-------+--------+----------+\n",
      "only showing top 10 rows\n",
      "\n"
     ]
    },
    {
     "name": "stderr",
     "output_type": "stream",
     "text": [
      "                                                                                \r"
     ]
    }
   ],
   "source": [
    "feature_group_airports.select().show()"
   ]
  },
  {
   "cell_type": "code",
   "execution_count": 30,
   "id": "dbb37e5c",
   "metadata": {
    "pycharm": {
     "name": "#%%\n"
    }
   },
   "outputs": [
    {
     "name": "stderr",
     "output_type": "stream",
     "text": [
      "                                                                                \r"
     ]
    },
    {
     "name": "stdout",
     "output_type": "stream",
     "text": [
      "+---------+--------------------+\n",
      "|IATA_CODE|             AIRLINE|\n",
      "+---------+--------------------+\n",
      "|       NK|    Spirit Air Lines|\n",
      "|       WN|Southwest Airline...|\n",
      "|       DL|Delta Air Lines Inc.|\n",
      "|       EV|Atlantic Southeas...|\n",
      "|       HA|Hawaiian Airlines...|\n",
      "|       MQ|American Eagle Ai...|\n",
      "|       VX|      Virgin America|\n",
      "|       UA|United Air Lines ...|\n",
      "|       AA|American Airlines...|\n",
      "|       US|     US Airways Inc.|\n",
      "+---------+--------------------+\n",
      "only showing top 10 rows\n",
      "\n"
     ]
    }
   ],
   "source": [
    "feature_group_airlines.select().show()"
   ]
  },
  {
   "cell_type": "code",
   "execution_count": 31,
   "id": "e67ea0f5",
   "metadata": {
    "pycharm": {
     "name": "#%%\n"
    }
   },
   "outputs": [
    {
     "data": {
      "text/html": [
       "<div>\n",
       "<style scoped>\n",
       "    .dataframe tbody tr th:only-of-type {\n",
       "        vertical-align: middle;\n",
       "    }\n",
       "\n",
       "    .dataframe tbody tr th {\n",
       "        vertical-align: top;\n",
       "    }\n",
       "\n",
       "    .dataframe thead th {\n",
       "        text-align: right;\n",
       "    }\n",
       "</style>\n",
       "<table border=\"1\" class=\"dataframe\">\n",
       "  <thead>\n",
       "    <tr style=\"text-align: right;\">\n",
       "      <th></th>\n",
       "      <th>IATA_CODE</th>\n",
       "      <th>AIRLINE</th>\n",
       "    </tr>\n",
       "  </thead>\n",
       "  <tbody>\n",
       "    <tr>\n",
       "      <th>Count</th>\n",
       "      <td>{'total_count': 14, 'missing_count': 0, 'missing_count_percentage': 0.0}</td>\n",
       "      <td>{'total_count': 14, 'missing_count': 0, 'missing_count_percentage': 0.0}</td>\n",
       "    </tr>\n",
       "    <tr>\n",
       "      <th>TopKFrequentElements</th>\n",
       "      <td>{'value': [{'value': 'UA', 'estimate': 1, 'lower_bound': 1, 'upper_bound': 1}, {'value': 'AA', 'estimate': 1, 'lower_bound': 1, 'upper_bound': 1}, {'value': 'NK', 'estimate': 1, 'lower_bound': 1, 'upper_bound': 1}, {'value': 'VX', 'estimate': 1, 'lower_bound': 1, 'upper_bound': 1}, {'value': 'OO', 'estimate': 1, 'lower_bound': 1, 'upper_bound': 1}, {'value': 'WN', 'estimate': 1, 'lower_bound': 1, 'upper_bound': 1}, {'value': 'US', 'estimate': 1, 'lower_bound': 1, 'upper_bound': 1}, {'value': 'DL', 'estimate': 1, 'lower_bound': 1, 'upper_bound': 1}, {'value': 'AS', 'estimate': 1, 'lower_bound': 1, 'upper_bound': 1}, {'value': 'B6', 'estimate': 1, 'lower_bound': 1, 'upper_bound': 1}]}</td>\n",
       "      <td>{'value': [{'value': 'Skywest Airlines Inc.', 'estimate': 1, 'lower_bound': 1, 'upper_bound': 1}, {'value': 'American Eagle Airlines Inc.', 'estimate': 1, 'lower_bound': 1, 'upper_bound': 1}, {'value': 'Frontier Airlines Inc.', 'estimate': 1, 'lower_bound': 1, 'upper_bound': 1}, {'value': 'Atlantic Southeast Airlines', 'estimate': 1, 'lower_bound': 1, 'upper_bound': 1}, {'value': 'Southwest Airlines Co.', 'estimate': 1, 'lower_bound': 1, 'upper_bound': 1}, {'value': 'Hawaiian Airlines Inc.', 'estimate': 1, 'lower_bound': 1, 'upper_bound': 1}, {'value': 'American Airlines Inc.', 'estimate': 1, 'lower_bound': 1, 'upper_bound': 1}, {'value': 'Virgin America', 'estimate': 1, 'lower_bound': 1, 'upper_bound': 1}, {'value': 'Spirit Air Lines', 'estimate': 1, 'lower_bound': 1, 'upper_bound': 1}, {'value': 'JetBlue Airways', 'estimate': 1, 'lower_bound': 1, 'upper_bound': 1}]}</td>\n",
       "    </tr>\n",
       "    <tr>\n",
       "      <th>TypeMetric</th>\n",
       "      <td>{'string_type_count': 14, 'integral_type_count': 0, 'fractional_type_count': 0, 'boolean_type_count': 0}</td>\n",
       "      <td>{'string_type_count': 14, 'integral_type_count': 0, 'fractional_type_count': 0, 'boolean_type_count': 0}</td>\n",
       "    </tr>\n",
       "    <tr>\n",
       "      <th>DuplicateCount</th>\n",
       "      <td>{'count': 0, 'percentage': 0.0}</td>\n",
       "      <td>{'count': 0, 'percentage': 0.0}</td>\n",
       "    </tr>\n",
       "    <tr>\n",
       "      <th>Mode</th>\n",
       "      <td>{'value': ['UA', 'AA']}</td>\n",
       "      <td>{'value': ['Skywest Airlines Inc.', 'American Eagle Airlines Inc.']}</td>\n",
       "    </tr>\n",
       "    <tr>\n",
       "      <th>DistinctCount</th>\n",
       "      <td>{'value': 14}</td>\n",
       "      <td>{'value': 14}</td>\n",
       "    </tr>\n",
       "  </tbody>\n",
       "</table>\n",
       "</div>"
      ],
      "text/plain": [
       "                                                                                                                                                                                                                                                                                                                                                                                                                                                                                                                                                                                                                                                                                                                                IATA_CODE  \\\n",
       "Count                                                                                                                                                                                                                                                                                                                                                                                                                                                                                                                                                                                                                                                            {'total_count': 14, 'missing_count': 0, 'missing_count_percentage': 0.0}   \n",
       "TopKFrequentElements  {'value': [{'value': 'UA', 'estimate': 1, 'lower_bound': 1, 'upper_bound': 1}, {'value': 'AA', 'estimate': 1, 'lower_bound': 1, 'upper_bound': 1}, {'value': 'NK', 'estimate': 1, 'lower_bound': 1, 'upper_bound': 1}, {'value': 'VX', 'estimate': 1, 'lower_bound': 1, 'upper_bound': 1}, {'value': 'OO', 'estimate': 1, 'lower_bound': 1, 'upper_bound': 1}, {'value': 'WN', 'estimate': 1, 'lower_bound': 1, 'upper_bound': 1}, {'value': 'US', 'estimate': 1, 'lower_bound': 1, 'upper_bound': 1}, {'value': 'DL', 'estimate': 1, 'lower_bound': 1, 'upper_bound': 1}, {'value': 'AS', 'estimate': 1, 'lower_bound': 1, 'upper_bound': 1}, {'value': 'B6', 'estimate': 1, 'lower_bound': 1, 'upper_bound': 1}]}   \n",
       "TypeMetric                                                                                                                                                                                                                                                                                                                                                                                                                                                                                                                                                                                                                       {'string_type_count': 14, 'integral_type_count': 0, 'fractional_type_count': 0, 'boolean_type_count': 0}   \n",
       "DuplicateCount                                                                                                                                                                                                                                                                                                                                                                                                                                                                                                                                                                                                                                                                                            {'count': 0, 'percentage': 0.0}   \n",
       "Mode                                                                                                                                                                                                                                                                                                                                                                                                                                                                                                                                                                                                                                                                                                              {'value': ['UA', 'AA']}   \n",
       "DistinctCount                                                                                                                                                                                                                                                                                                                                                                                                                                                                                                                                                                                                                                                                                                               {'value': 14}   \n",
       "\n",
       "                                                                                                                                                                                                                                                                                                                                                                                                                                                                                                                                                                                                                                                                                                                                                                                                                                                                                                                               AIRLINE  \n",
       "Count                                                                                                                                                                                                                                                                                                                                                                                                                                                                                                                                                                                                                                                                                                                                                                                                                                                         {'total_count': 14, 'missing_count': 0, 'missing_count_percentage': 0.0}  \n",
       "TopKFrequentElements  {'value': [{'value': 'Skywest Airlines Inc.', 'estimate': 1, 'lower_bound': 1, 'upper_bound': 1}, {'value': 'American Eagle Airlines Inc.', 'estimate': 1, 'lower_bound': 1, 'upper_bound': 1}, {'value': 'Frontier Airlines Inc.', 'estimate': 1, 'lower_bound': 1, 'upper_bound': 1}, {'value': 'Atlantic Southeast Airlines', 'estimate': 1, 'lower_bound': 1, 'upper_bound': 1}, {'value': 'Southwest Airlines Co.', 'estimate': 1, 'lower_bound': 1, 'upper_bound': 1}, {'value': 'Hawaiian Airlines Inc.', 'estimate': 1, 'lower_bound': 1, 'upper_bound': 1}, {'value': 'American Airlines Inc.', 'estimate': 1, 'lower_bound': 1, 'upper_bound': 1}, {'value': 'Virgin America', 'estimate': 1, 'lower_bound': 1, 'upper_bound': 1}, {'value': 'Spirit Air Lines', 'estimate': 1, 'lower_bound': 1, 'upper_bound': 1}, {'value': 'JetBlue Airways', 'estimate': 1, 'lower_bound': 1, 'upper_bound': 1}]}  \n",
       "TypeMetric                                                                                                                                                                                                                                                                                                                                                                                                                                                                                                                                                                                                                                                                                                                                                                                                                    {'string_type_count': 14, 'integral_type_count': 0, 'fractional_type_count': 0, 'boolean_type_count': 0}  \n",
       "DuplicateCount                                                                                                                                                                                                                                                                                                                                                                                                                                                                                                                                                                                                                                                                                                                                                                                                                                                                                         {'count': 0, 'percentage': 0.0}  \n",
       "Mode                                                                                                                                                                                                                                                                                                                                                                                                                                                                                                                                                                                                                                                                                                                                                                                                                                                              {'value': ['Skywest Airlines Inc.', 'American Eagle Airlines Inc.']}  \n",
       "DistinctCount                                                                                                                                                                                                                                                                                                                                                                                                                                                                                                                                                                                                                                                                                                                                                                                                                                                                                                            {'value': 14}  "
      ]
     },
     "execution_count": 31,
     "metadata": {},
     "output_type": "execute_result"
    }
   ],
   "source": [
    "feature_group_airlines.get_statistics().to_pandas()"
   ]
  },
  {
   "cell_type": "code",
   "execution_count": 32,
   "id": "583db211",
   "metadata": {
    "pycharm": {
     "name": "#%%\n"
    }
   },
   "outputs": [
    {
     "data": {
      "text/html": [
       "<div>\n",
       "<style scoped>\n",
       "    .dataframe tbody tr th:only-of-type {\n",
       "        vertical-align: middle;\n",
       "    }\n",
       "\n",
       "    .dataframe tbody tr th {\n",
       "        vertical-align: top;\n",
       "    }\n",
       "\n",
       "    .dataframe thead th {\n",
       "        text-align: right;\n",
       "    }\n",
       "</style>\n",
       "<table border=\"1\" class=\"dataframe\">\n",
       "  <thead>\n",
       "    <tr style=\"text-align: right;\">\n",
       "      <th></th>\n",
       "      <th>YEAR</th>\n",
       "      <th>MONTH</th>\n",
       "      <th>DAY</th>\n",
       "      <th>DAY_OF_WEEK</th>\n",
       "      <th>AIRLINE</th>\n",
       "      <th>FLIGHT_NUMBER</th>\n",
       "      <th>ORIGIN_AIRPORT</th>\n",
       "      <th>DESTINATION_AIRPORT</th>\n",
       "    </tr>\n",
       "  </thead>\n",
       "  <tbody>\n",
       "    <tr>\n",
       "      <th>Skewness</th>\n",
       "      <td>{'value': None}</td>\n",
       "      <td>{'value': None}</td>\n",
       "      <td>{'value': None}</td>\n",
       "      <td>{'value': None}</td>\n",
       "      <td>NaN</td>\n",
       "      <td>{'value': 1.545298800400988}</td>\n",
       "      <td>NaN</td>\n",
       "      <td>NaN</td>\n",
       "    </tr>\n",
       "    <tr>\n",
       "      <th>StandardDeviation</th>\n",
       "      <td>{'value': 0.0}</td>\n",
       "      <td>{'value': 0.0}</td>\n",
       "      <td>{'value': 0.0}</td>\n",
       "      <td>{'value': 0.0}</td>\n",
       "      <td>NaN</td>\n",
       "      <td>{'value': 1873.257011170651}</td>\n",
       "      <td>NaN</td>\n",
       "      <td>NaN</td>\n",
       "    </tr>\n",
       "    <tr>\n",
       "      <th>Min</th>\n",
       "      <td>{'value': 2015.0}</td>\n",
       "      <td>{'value': 1.0}</td>\n",
       "      <td>{'value': 1.0}</td>\n",
       "      <td>{'value': 4.0}</td>\n",
       "      <td>NaN</td>\n",
       "      <td>{'value': 17.0}</td>\n",
       "      <td>NaN</td>\n",
       "      <td>NaN</td>\n",
       "    </tr>\n",
       "    <tr>\n",
       "      <th>IsConstantFeature</th>\n",
       "      <td>{'value': True}</td>\n",
       "      <td>{'value': True}</td>\n",
       "      <td>{'value': True}</td>\n",
       "      <td>{'value': True}</td>\n",
       "      <td>NaN</td>\n",
       "      <td>{'value': False}</td>\n",
       "      <td>NaN</td>\n",
       "      <td>NaN</td>\n",
       "    </tr>\n",
       "    <tr>\n",
       "      <th>IQR</th>\n",
       "      <td>{'value': 0.0}</td>\n",
       "      <td>{'value': 0.0}</td>\n",
       "      <td>{'value': 0.0}</td>\n",
       "      <td>{'value': 0.0}</td>\n",
       "      <td>NaN</td>\n",
       "      <td>{'value': 1905.0}</td>\n",
       "      <td>NaN</td>\n",
       "      <td>NaN</td>\n",
       "    </tr>\n",
       "    <tr>\n",
       "      <th>Range</th>\n",
       "      <td>{'value': 0.0}</td>\n",
       "      <td>{'value': 0.0}</td>\n",
       "      <td>{'value': 0.0}</td>\n",
       "      <td>{'value': 0.0}</td>\n",
       "      <td>NaN</td>\n",
       "      <td>{'value': 7402.0}</td>\n",
       "      <td>NaN</td>\n",
       "      <td>NaN</td>\n",
       "    </tr>\n",
       "    <tr>\n",
       "      <th>ProbabilityDistribution</th>\n",
       "      <td>{'bins': [2015.0], 'density': [1.0]}</td>\n",
       "      <td>{'bins': [1.0], 'density': [1.0]}</td>\n",
       "      <td>{'bins': [1.0], 'density': [1.0]}</td>\n",
       "      <td>{'bins': [4.0], 'density': [1.0]}</td>\n",
       "      <td>NaN</td>\n",
       "      <td>{'bins': [17.0, 272.2413793103448, 527.4827586206897, 782.7241379310344, 1037.9655172413793, 1293.2068965517242, 1548.4482758620688, 1803.6896551724137, 2058.9310344827586, 2314.1724137931033, 2569.4137931034484, 2824.655172413793, 3079.8965517241377, 3335.137931034483, 3590.3793103448274, 3845.6206896551726, 4100.862068965517, 4356.103448275862, 4611.3448275862065, 4866.586206896552, 5121.827586206897, 5377.068965517241, 5632.310344827586, 5887.551724137931, 6142.793103448275, 6398.0344827586205, 6653.275862068966, 6908.517241379311, 7163.758620689655, 7419.0], 'density': [0.22, 0.1, 0.10999999999999902, 0.049999999999999004, 0.08999999999999901, 0.07, 0.04, 0.039999999999999, 0.04, 0.06999999999999901, 0.01, 0.01, 0.0, 0.0, 0.0, 0.0, 0.01, 0.01, 0.01, 0.0, 0.030000000000000002, 0.039999999999999, 0.01, 0.0, 0.01, 0.0, 0.0, 0.0, 0.02, 0.01]}</td>\n",
       "      <td>NaN</td>\n",
       "      <td>NaN</td>\n",
       "    </tr>\n",
       "    <tr>\n",
       "      <th>Variance</th>\n",
       "      <td>{'value': 0.0}</td>\n",
       "      <td>{'value': 0.0}</td>\n",
       "      <td>{'value': 0.0}</td>\n",
       "      <td>{'value': 0.0}</td>\n",
       "      <td>NaN</td>\n",
       "      <td>{'value': 3509091.8299000002}</td>\n",
       "      <td>NaN</td>\n",
       "      <td>NaN</td>\n",
       "    </tr>\n",
       "    <tr>\n",
       "      <th>TypeMetric</th>\n",
       "      <td>{'string_type_count': 0, 'integral_type_count': 100, 'fractional_type_count': 0, 'boolean_type_count': 0}</td>\n",
       "      <td>{'string_type_count': 0, 'integral_type_count': 100, 'fractional_type_count': 0, 'boolean_type_count': 0}</td>\n",
       "      <td>{'string_type_count': 0, 'integral_type_count': 100, 'fractional_type_count': 0, 'boolean_type_count': 0}</td>\n",
       "      <td>{'string_type_count': 0, 'integral_type_count': 100, 'fractional_type_count': 0, 'boolean_type_count': 0}</td>\n",
       "      <td>{'string_type_count': 100, 'integral_type_count': 0, 'fractional_type_count': 0, 'boolean_type_count': 0}</td>\n",
       "      <td>{'string_type_count': 0, 'integral_type_count': 100, 'fractional_type_count': 0, 'boolean_type_count': 0}</td>\n",
       "      <td>{'string_type_count': 100, 'integral_type_count': 0, 'fractional_type_count': 0, 'boolean_type_count': 0}</td>\n",
       "      <td>{'string_type_count': 100, 'integral_type_count': 0, 'fractional_type_count': 0, 'boolean_type_count': 0}</td>\n",
       "    </tr>\n",
       "    <tr>\n",
       "      <th>FrequencyDistribution</th>\n",
       "      <td>{'bins': [2015.0], 'frequency': [100]}</td>\n",
       "      <td>{'bins': [1.0], 'frequency': [100]}</td>\n",
       "      <td>{'bins': [1.0], 'frequency': [100]}</td>\n",
       "      <td>{'bins': [4.0], 'frequency': [100]}</td>\n",
       "      <td>NaN</td>\n",
       "      <td>{'bins': [17.0, 272.2413793103448, 527.4827586206897, 782.7241379310344, 1037.9655172413793, 1293.2068965517242, 1548.4482758620688, 1803.6896551724137, 2058.9310344827586, 2314.1724137931033, 2569.4137931034484, 2824.655172413793, 3079.8965517241377, 3335.137931034483, 3590.3793103448274, 3845.6206896551726, 4100.862068965517, 4356.103448275862, 4611.3448275862065, 4866.586206896552, 5121.827586206897, 5377.068965517241, 5632.310344827586, 5887.551724137931, 6142.793103448275, 6398.0344827586205, 6653.275862068966, 6908.517241379311, 7163.758620689655, 7419.0], 'frequency': [22, 10, 11, 5, 9, 7, 4, 4, 4, 7, 1, 1, 0, 0, 0, 0, 1, 1, 1, 0, 3, 4, 1, 0, 1, 0, 0, 0, 2, 1]}</td>\n",
       "      <td>NaN</td>\n",
       "      <td>NaN</td>\n",
       "    </tr>\n",
       "    <tr>\n",
       "      <th>Count</th>\n",
       "      <td>{'total_count': 100, 'missing_count': 0, 'missing_count_percentage': 0.0}</td>\n",
       "      <td>{'total_count': 100, 'missing_count': 0, 'missing_count_percentage': 0.0}</td>\n",
       "      <td>{'total_count': 100, 'missing_count': 0, 'missing_count_percentage': 0.0}</td>\n",
       "      <td>{'total_count': 100, 'missing_count': 0, 'missing_count_percentage': 0.0}</td>\n",
       "      <td>{'total_count': 100, 'missing_count': 0, 'missing_count_percentage': 0.0}</td>\n",
       "      <td>{'total_count': 100, 'missing_count': 0, 'missing_count_percentage': 0.0}</td>\n",
       "      <td>{'total_count': 100, 'missing_count': 0, 'missing_count_percentage': 0.0}</td>\n",
       "      <td>{'total_count': 100, 'missing_count': 0, 'missing_count_percentage': 0.0}</td>\n",
       "    </tr>\n",
       "    <tr>\n",
       "      <th>Max</th>\n",
       "      <td>{'value': 2015.0}</td>\n",
       "      <td>{'value': 1.0}</td>\n",
       "      <td>{'value': 1.0}</td>\n",
       "      <td>{'value': 4.0}</td>\n",
       "      <td>NaN</td>\n",
       "      <td>{'value': 7419.0}</td>\n",
       "      <td>NaN</td>\n",
       "      <td>NaN</td>\n",
       "    </tr>\n",
       "    <tr>\n",
       "      <th>DistinctCount</th>\n",
       "      <td>{'value': 1}</td>\n",
       "      <td>{'value': 1}</td>\n",
       "      <td>{'value': 1}</td>\n",
       "      <td>{'value': 1}</td>\n",
       "      <td>{'value': 12}</td>\n",
       "      <td>{'value': 96}</td>\n",
       "      <td>{'value': 44}</td>\n",
       "      <td>{'value': 29}</td>\n",
       "    </tr>\n",
       "    <tr>\n",
       "      <th>Sum</th>\n",
       "      <td>{'value': 201500.0}</td>\n",
       "      <td>{'value': 100.0}</td>\n",
       "      <td>{'value': 100.0}</td>\n",
       "      <td>{'value': 400.0}</td>\n",
       "      <td>NaN</td>\n",
       "      <td>{'value': 171151.0}</td>\n",
       "      <td>NaN</td>\n",
       "      <td>NaN</td>\n",
       "    </tr>\n",
       "    <tr>\n",
       "      <th>IsQuasiConstantFeature</th>\n",
       "      <td>{'value': True}</td>\n",
       "      <td>{'value': True}</td>\n",
       "      <td>{'value': True}</td>\n",
       "      <td>{'value': True}</td>\n",
       "      <td>NaN</td>\n",
       "      <td>{'value': False}</td>\n",
       "      <td>NaN</td>\n",
       "      <td>NaN</td>\n",
       "    </tr>\n",
       "    <tr>\n",
       "      <th>Quartiles</th>\n",
       "      <td>{'q1': 2015.0, 'q2': 2015.0, 'q3': 2015.0}</td>\n",
       "      <td>{'q1': 1.0, 'q2': 1.0, 'q3': 1.0}</td>\n",
       "      <td>{'q1': 1.0, 'q2': 1.0, 'q3': 1.0}</td>\n",
       "      <td>{'q1': 4.0, 'q2': 4.0, 'q3': 4.0}</td>\n",
       "      <td>NaN</td>\n",
       "      <td>{'q1': 371.0, 'q2': 1162.0, 'q3': 2276.0}</td>\n",
       "      <td>NaN</td>\n",
       "      <td>NaN</td>\n",
       "    </tr>\n",
       "    <tr>\n",
       "      <th>Mean</th>\n",
       "      <td>{'value': 2015.0}</td>\n",
       "      <td>{'value': 1.0}</td>\n",
       "      <td>{'value': 1.0}</td>\n",
       "      <td>{'value': 4.0}</td>\n",
       "      <td>NaN</td>\n",
       "      <td>{'value': 1711.5100000000002}</td>\n",
       "      <td>NaN</td>\n",
       "      <td>NaN</td>\n",
       "    </tr>\n",
       "    <tr>\n",
       "      <th>Kurtosis</th>\n",
       "      <td>{'value': None}</td>\n",
       "      <td>{'value': None}</td>\n",
       "      <td>{'value': None}</td>\n",
       "      <td>{'value': None}</td>\n",
       "      <td>NaN</td>\n",
       "      <td>{'value': 1.505850931533642}</td>\n",
       "      <td>NaN</td>\n",
       "      <td>NaN</td>\n",
       "    </tr>\n",
       "    <tr>\n",
       "      <th>TopKFrequentElements</th>\n",
       "      <td>NaN</td>\n",
       "      <td>NaN</td>\n",
       "      <td>NaN</td>\n",
       "      <td>NaN</td>\n",
       "      <td>{'value': [{'value': 'AA', 'estimate': 14, 'lower_bound': 14, 'upper_bound': 14}, {'value': 'B6', 'estimate': 12, 'lower_bound': 12, 'upper_bound': 12}, {'value': 'NK', 'estimate': 11, 'lower_bound': 11, 'upper_bound': 11}, {'value': 'UA', 'estimate': 11, 'lower_bound': 11, 'upper_bound': 11}, {'value': 'AS', 'estimate': 11, 'lower_bound': 11, 'upper_bound': 11}, {'value': 'DL', 'estimate': 11, 'lower_bound': 11, 'upper_bound': 11}, {'value': 'US', 'estimate': 8, 'lower_bound': 8, 'upper_bound': 8}, {'value': 'OO', 'estimate': 8, 'lower_bound': 8, 'upper_bound': 8}, {'value': 'EV', 'estimate': 7, 'lower_bound': 7, 'upper_bound': 7}, {'value': 'HA', 'estimate': 5, 'lower_bound': 5, 'upper_bound': 5}]}</td>\n",
       "      <td>NaN</td>\n",
       "      <td>{'value': [{'value': 'ANC', 'estimate': 10, 'lower_bound': 10, 'upper_bound': 10}, {'value': 'LAS', 'estimate': 9, 'lower_bound': 9, 'upper_bound': 9}, {'value': 'SJU', 'estimate': 6, 'lower_bound': 6, 'upper_bound': 6}, {'value': 'LAX', 'estimate': 6, 'lower_bound': 6, 'upper_bound': 6}, {'value': 'SFO', 'estimate': 5, 'lower_bound': 5, 'upper_bound': 5}, {'value': 'PHX', 'estimate': 5, 'lower_bound': 5, 'upper_bound': 5}, {'value': 'SEA', 'estimate': 5, 'lower_bound': 5, 'upper_bound': 5}, {'value': 'HNL', 'estimate': 4, 'lower_bound': 4, 'upper_bound': 4}, {'value': 'ORD', 'estimate': 4, 'lower_bound': 4, 'upper_bound': 4}, {'value': 'PDX', 'estimate': 3, 'lower_bound': 3, 'upper_bound': 3}]}</td>\n",
       "      <td>{'value': [{'value': 'MIA', 'estimate': 10, 'lower_bound': 10, 'upper_bound': 10}, {'value': 'IAH', 'estimate': 10, 'lower_bound': 10, 'upper_bound': 10}, {'value': 'MSP', 'estimate': 9, 'lower_bound': 9, 'upper_bound': 9}, {'value': 'SEA', 'estimate': 9, 'lower_bound': 9, 'upper_bound': 9}, {'value': 'ATL', 'estimate': 6, 'lower_bound': 6, 'upper_bound': 6}, {'value': 'DFW', 'estimate': 6, 'lower_bound': 6, 'upper_bound': 6}, {'value': 'MCO', 'estimate': 6, 'lower_bound': 6, 'upper_bound': 6}, {'value': 'DEN', 'estimate': 5, 'lower_bound': 5, 'upper_bound': 5}, {'value': 'PHX', 'estimate': 4, 'lower_bound': 4, 'upper_bound': 4}, {'value': 'CLT', 'estimate': 4, 'lower_bound': 4, 'upper_bound': 4}]}</td>\n",
       "    </tr>\n",
       "    <tr>\n",
       "      <th>DuplicateCount</th>\n",
       "      <td>NaN</td>\n",
       "      <td>NaN</td>\n",
       "      <td>NaN</td>\n",
       "      <td>NaN</td>\n",
       "      <td>{'count': 88, 'percentage': 88.0}</td>\n",
       "      <td>NaN</td>\n",
       "      <td>{'count': 56, 'percentage': 56.00000000000001}</td>\n",
       "      <td>{'count': 71, 'percentage': 71.0}</td>\n",
       "    </tr>\n",
       "    <tr>\n",
       "      <th>Mode</th>\n",
       "      <td>NaN</td>\n",
       "      <td>NaN</td>\n",
       "      <td>NaN</td>\n",
       "      <td>NaN</td>\n",
       "      <td>{'value': ['AA']}</td>\n",
       "      <td>NaN</td>\n",
       "      <td>{'value': ['ANC']}</td>\n",
       "      <td>{'value': ['MIA', 'IAH']}</td>\n",
       "    </tr>\n",
       "  </tbody>\n",
       "</table>\n",
       "</div>"
      ],
      "text/plain": [
       "                                                                                                                              YEAR  \\\n",
       "Skewness                                                                                                           {'value': None}   \n",
       "StandardDeviation                                                                                                   {'value': 0.0}   \n",
       "Min                                                                                                              {'value': 2015.0}   \n",
       "IsConstantFeature                                                                                                  {'value': True}   \n",
       "IQR                                                                                                                 {'value': 0.0}   \n",
       "Range                                                                                                               {'value': 0.0}   \n",
       "ProbabilityDistribution                                                                       {'bins': [2015.0], 'density': [1.0]}   \n",
       "Variance                                                                                                            {'value': 0.0}   \n",
       "TypeMetric               {'string_type_count': 0, 'integral_type_count': 100, 'fractional_type_count': 0, 'boolean_type_count': 0}   \n",
       "FrequencyDistribution                                                                       {'bins': [2015.0], 'frequency': [100]}   \n",
       "Count                                                    {'total_count': 100, 'missing_count': 0, 'missing_count_percentage': 0.0}   \n",
       "Max                                                                                                              {'value': 2015.0}   \n",
       "DistinctCount                                                                                                         {'value': 1}   \n",
       "Sum                                                                                                            {'value': 201500.0}   \n",
       "IsQuasiConstantFeature                                                                                             {'value': True}   \n",
       "Quartiles                                                                               {'q1': 2015.0, 'q2': 2015.0, 'q3': 2015.0}   \n",
       "Mean                                                                                                             {'value': 2015.0}   \n",
       "Kurtosis                                                                                                           {'value': None}   \n",
       "TopKFrequentElements                                                                                                           NaN   \n",
       "DuplicateCount                                                                                                                 NaN   \n",
       "Mode                                                                                                                           NaN   \n",
       "\n",
       "                                                                                                                             MONTH  \\\n",
       "Skewness                                                                                                           {'value': None}   \n",
       "StandardDeviation                                                                                                   {'value': 0.0}   \n",
       "Min                                                                                                                 {'value': 1.0}   \n",
       "IsConstantFeature                                                                                                  {'value': True}   \n",
       "IQR                                                                                                                 {'value': 0.0}   \n",
       "Range                                                                                                               {'value': 0.0}   \n",
       "ProbabilityDistribution                                                                          {'bins': [1.0], 'density': [1.0]}   \n",
       "Variance                                                                                                            {'value': 0.0}   \n",
       "TypeMetric               {'string_type_count': 0, 'integral_type_count': 100, 'fractional_type_count': 0, 'boolean_type_count': 0}   \n",
       "FrequencyDistribution                                                                          {'bins': [1.0], 'frequency': [100]}   \n",
       "Count                                                    {'total_count': 100, 'missing_count': 0, 'missing_count_percentage': 0.0}   \n",
       "Max                                                                                                                 {'value': 1.0}   \n",
       "DistinctCount                                                                                                         {'value': 1}   \n",
       "Sum                                                                                                               {'value': 100.0}   \n",
       "IsQuasiConstantFeature                                                                                             {'value': True}   \n",
       "Quartiles                                                                                        {'q1': 1.0, 'q2': 1.0, 'q3': 1.0}   \n",
       "Mean                                                                                                                {'value': 1.0}   \n",
       "Kurtosis                                                                                                           {'value': None}   \n",
       "TopKFrequentElements                                                                                                           NaN   \n",
       "DuplicateCount                                                                                                                 NaN   \n",
       "Mode                                                                                                                           NaN   \n",
       "\n",
       "                                                                                                                               DAY  \\\n",
       "Skewness                                                                                                           {'value': None}   \n",
       "StandardDeviation                                                                                                   {'value': 0.0}   \n",
       "Min                                                                                                                 {'value': 1.0}   \n",
       "IsConstantFeature                                                                                                  {'value': True}   \n",
       "IQR                                                                                                                 {'value': 0.0}   \n",
       "Range                                                                                                               {'value': 0.0}   \n",
       "ProbabilityDistribution                                                                          {'bins': [1.0], 'density': [1.0]}   \n",
       "Variance                                                                                                            {'value': 0.0}   \n",
       "TypeMetric               {'string_type_count': 0, 'integral_type_count': 100, 'fractional_type_count': 0, 'boolean_type_count': 0}   \n",
       "FrequencyDistribution                                                                          {'bins': [1.0], 'frequency': [100]}   \n",
       "Count                                                    {'total_count': 100, 'missing_count': 0, 'missing_count_percentage': 0.0}   \n",
       "Max                                                                                                                 {'value': 1.0}   \n",
       "DistinctCount                                                                                                         {'value': 1}   \n",
       "Sum                                                                                                               {'value': 100.0}   \n",
       "IsQuasiConstantFeature                                                                                             {'value': True}   \n",
       "Quartiles                                                                                        {'q1': 1.0, 'q2': 1.0, 'q3': 1.0}   \n",
       "Mean                                                                                                                {'value': 1.0}   \n",
       "Kurtosis                                                                                                           {'value': None}   \n",
       "TopKFrequentElements                                                                                                           NaN   \n",
       "DuplicateCount                                                                                                                 NaN   \n",
       "Mode                                                                                                                           NaN   \n",
       "\n",
       "                                                                                                                       DAY_OF_WEEK  \\\n",
       "Skewness                                                                                                           {'value': None}   \n",
       "StandardDeviation                                                                                                   {'value': 0.0}   \n",
       "Min                                                                                                                 {'value': 4.0}   \n",
       "IsConstantFeature                                                                                                  {'value': True}   \n",
       "IQR                                                                                                                 {'value': 0.0}   \n",
       "Range                                                                                                               {'value': 0.0}   \n",
       "ProbabilityDistribution                                                                          {'bins': [4.0], 'density': [1.0]}   \n",
       "Variance                                                                                                            {'value': 0.0}   \n",
       "TypeMetric               {'string_type_count': 0, 'integral_type_count': 100, 'fractional_type_count': 0, 'boolean_type_count': 0}   \n",
       "FrequencyDistribution                                                                          {'bins': [4.0], 'frequency': [100]}   \n",
       "Count                                                    {'total_count': 100, 'missing_count': 0, 'missing_count_percentage': 0.0}   \n",
       "Max                                                                                                                 {'value': 4.0}   \n",
       "DistinctCount                                                                                                         {'value': 1}   \n",
       "Sum                                                                                                               {'value': 400.0}   \n",
       "IsQuasiConstantFeature                                                                                             {'value': True}   \n",
       "Quartiles                                                                                        {'q1': 4.0, 'q2': 4.0, 'q3': 4.0}   \n",
       "Mean                                                                                                                {'value': 4.0}   \n",
       "Kurtosis                                                                                                           {'value': None}   \n",
       "TopKFrequentElements                                                                                                           NaN   \n",
       "DuplicateCount                                                                                                                 NaN   \n",
       "Mode                                                                                                                           NaN   \n",
       "\n",
       "                                                                                                                                                                                                                                                                                                                                                                                                                                                                                                                                                                                                                                                                                                                                                       AIRLINE  \\\n",
       "Skewness                                                                                                                                                                                                                                                                                                                                                                                                                                                                                                                                                                                                                                                                                                                                                   NaN   \n",
       "StandardDeviation                                                                                                                                                                                                                                                                                                                                                                                                                                                                                                                                                                                                                                                                                                                                          NaN   \n",
       "Min                                                                                                                                                                                                                                                                                                                                                                                                                                                                                                                                                                                                                                                                                                                                                        NaN   \n",
       "IsConstantFeature                                                                                                                                                                                                                                                                                                                                                                                                                                                                                                                                                                                                                                                                                                                                          NaN   \n",
       "IQR                                                                                                                                                                                                                                                                                                                                                                                                                                                                                                                                                                                                                                                                                                                                                        NaN   \n",
       "Range                                                                                                                                                                                                                                                                                                                                                                                                                                                                                                                                                                                                                                                                                                                                                      NaN   \n",
       "ProbabilityDistribution                                                                                                                                                                                                                                                                                                                                                                                                                                                                                                                                                                                                                                                                                                                                    NaN   \n",
       "Variance                                                                                                                                                                                                                                                                                                                                                                                                                                                                                                                                                                                                                                                                                                                                                   NaN   \n",
       "TypeMetric                                                                                                                                                                                                                                                                                                                                                                                                                                                                                                                                                                                                                                           {'string_type_count': 100, 'integral_type_count': 0, 'fractional_type_count': 0, 'boolean_type_count': 0}   \n",
       "FrequencyDistribution                                                                                                                                                                                                                                                                                                                                                                                                                                                                                                                                                                                                                                                                                                                                      NaN   \n",
       "Count                                                                                                                                                                                                                                                                                                                                                                                                                                                                                                                                                                                                                                                                                {'total_count': 100, 'missing_count': 0, 'missing_count_percentage': 0.0}   \n",
       "Max                                                                                                                                                                                                                                                                                                                                                                                                                                                                                                                                                                                                                                                                                                                                                        NaN   \n",
       "DistinctCount                                                                                                                                                                                                                                                                                                                                                                                                                                                                                                                                                                                                                                                                                                                                    {'value': 12}   \n",
       "Sum                                                                                                                                                                                                                                                                                                                                                                                                                                                                                                                                                                                                                                                                                                                                                        NaN   \n",
       "IsQuasiConstantFeature                                                                                                                                                                                                                                                                                                                                                                                                                                                                                                                                                                                                                                                                                                                                     NaN   \n",
       "Quartiles                                                                                                                                                                                                                                                                                                                                                                                                                                                                                                                                                                                                                                                                                                                                                  NaN   \n",
       "Mean                                                                                                                                                                                                                                                                                                                                                                                                                                                                                                                                                                                                                                                                                                                                                       NaN   \n",
       "Kurtosis                                                                                                                                                                                                                                                                                                                                                                                                                                                                                                                                                                                                                                                                                                                                                   NaN   \n",
       "TopKFrequentElements     {'value': [{'value': 'AA', 'estimate': 14, 'lower_bound': 14, 'upper_bound': 14}, {'value': 'B6', 'estimate': 12, 'lower_bound': 12, 'upper_bound': 12}, {'value': 'NK', 'estimate': 11, 'lower_bound': 11, 'upper_bound': 11}, {'value': 'UA', 'estimate': 11, 'lower_bound': 11, 'upper_bound': 11}, {'value': 'AS', 'estimate': 11, 'lower_bound': 11, 'upper_bound': 11}, {'value': 'DL', 'estimate': 11, 'lower_bound': 11, 'upper_bound': 11}, {'value': 'US', 'estimate': 8, 'lower_bound': 8, 'upper_bound': 8}, {'value': 'OO', 'estimate': 8, 'lower_bound': 8, 'upper_bound': 8}, {'value': 'EV', 'estimate': 7, 'lower_bound': 7, 'upper_bound': 7}, {'value': 'HA', 'estimate': 5, 'lower_bound': 5, 'upper_bound': 5}]}   \n",
       "DuplicateCount                                                                                                                                                                                                                                                                                                                                                                                                                                                                                                                                                                                                                                                                                                               {'count': 88, 'percentage': 88.0}   \n",
       "Mode                                                                                                                                                                                                                                                                                                                                                                                                                                                                                                                                                                                                                                                                                                                                         {'value': ['AA']}   \n",
       "\n",
       "                                                                                                                                                                                                                                                                                                                                                                                                                                                                                                                                                                                                                                                                                                                                                                                                                                                                                                  FLIGHT_NUMBER  \\\n",
       "Skewness                                                                                                                                                                                                                                                                                                                                                                                                                                                                                                                                                                                                                                                                                                                                                                                                                                                                           {'value': 1.545298800400988}   \n",
       "StandardDeviation                                                                                                                                                                                                                                                                                                                                                                                                                                                                                                                                                                                                                                                                                                                                                                                                                                                                  {'value': 1873.257011170651}   \n",
       "Min                                                                                                                                                                                                                                                                                                                                                                                                                                                                                                                                                                                                                                                                                                                                                                                                                                                                                             {'value': 17.0}   \n",
       "IsConstantFeature                                                                                                                                                                                                                                                                                                                                                                                                                                                                                                                                                                                                                                                                                                                                                                                                                                                                              {'value': False}   \n",
       "IQR                                                                                                                                                                                                                                                                                                                                                                                                                                                                                                                                                                                                                                                                                                                                                                                                                                                                                           {'value': 1905.0}   \n",
       "Range                                                                                                                                                                                                                                                                                                                                                                                                                                                                                                                                                                                                                                                                                                                                                                                                                                                                                         {'value': 7402.0}   \n",
       "ProbabilityDistribution  {'bins': [17.0, 272.2413793103448, 527.4827586206897, 782.7241379310344, 1037.9655172413793, 1293.2068965517242, 1548.4482758620688, 1803.6896551724137, 2058.9310344827586, 2314.1724137931033, 2569.4137931034484, 2824.655172413793, 3079.8965517241377, 3335.137931034483, 3590.3793103448274, 3845.6206896551726, 4100.862068965517, 4356.103448275862, 4611.3448275862065, 4866.586206896552, 5121.827586206897, 5377.068965517241, 5632.310344827586, 5887.551724137931, 6142.793103448275, 6398.0344827586205, 6653.275862068966, 6908.517241379311, 7163.758620689655, 7419.0], 'density': [0.22, 0.1, 0.10999999999999902, 0.049999999999999004, 0.08999999999999901, 0.07, 0.04, 0.039999999999999, 0.04, 0.06999999999999901, 0.01, 0.01, 0.0, 0.0, 0.0, 0.0, 0.01, 0.01, 0.01, 0.0, 0.030000000000000002, 0.039999999999999, 0.01, 0.0, 0.01, 0.0, 0.0, 0.0, 0.02, 0.01]}   \n",
       "Variance                                                                                                                                                                                                                                                                                                                                                                                                                                                                                                                                                                                                                                                                                                                                                                                                                                                                          {'value': 3509091.8299000002}   \n",
       "TypeMetric                                                                                                                                                                                                                                                                                                                                                                                                                                                                                                                                                                                                                                                                                                                                                                                            {'string_type_count': 0, 'integral_type_count': 100, 'fractional_type_count': 0, 'boolean_type_count': 0}   \n",
       "FrequencyDistribution                                                                                                                                                                                      {'bins': [17.0, 272.2413793103448, 527.4827586206897, 782.7241379310344, 1037.9655172413793, 1293.2068965517242, 1548.4482758620688, 1803.6896551724137, 2058.9310344827586, 2314.1724137931033, 2569.4137931034484, 2824.655172413793, 3079.8965517241377, 3335.137931034483, 3590.3793103448274, 3845.6206896551726, 4100.862068965517, 4356.103448275862, 4611.3448275862065, 4866.586206896552, 5121.827586206897, 5377.068965517241, 5632.310344827586, 5887.551724137931, 6142.793103448275, 6398.0344827586205, 6653.275862068966, 6908.517241379311, 7163.758620689655, 7419.0], 'frequency': [22, 10, 11, 5, 9, 7, 4, 4, 4, 7, 1, 1, 0, 0, 0, 0, 1, 1, 1, 0, 3, 4, 1, 0, 1, 0, 0, 0, 2, 1]}   \n",
       "Count                                                                                                                                                                                                                                                                                                                                                                                                                                                                                                                                                                                                                                                                                                                                                                                                                                 {'total_count': 100, 'missing_count': 0, 'missing_count_percentage': 0.0}   \n",
       "Max                                                                                                                                                                                                                                                                                                                                                                                                                                                                                                                                                                                                                                                                                                                                                                                                                                                                                           {'value': 7419.0}   \n",
       "DistinctCount                                                                                                                                                                                                                                                                                                                                                                                                                                                                                                                                                                                                                                                                                                                                                                                                                                                                                     {'value': 96}   \n",
       "Sum                                                                                                                                                                                                                                                                                                                                                                                                                                                                                                                                                                                                                                                                                                                                                                                                                                                                                         {'value': 171151.0}   \n",
       "IsQuasiConstantFeature                                                                                                                                                                                                                                                                                                                                                                                                                                                                                                                                                                                                                                                                                                                                                                                                                                                                         {'value': False}   \n",
       "Quartiles                                                                                                                                                                                                                                                                                                                                                                                                                                                                                                                                                                                                                                                                                                                                                                                                                                                             {'q1': 371.0, 'q2': 1162.0, 'q3': 2276.0}   \n",
       "Mean                                                                                                                                                                                                                                                                                                                                                                                                                                                                                                                                                                                                                                                                                                                                                                                                                                                                              {'value': 1711.5100000000002}   \n",
       "Kurtosis                                                                                                                                                                                                                                                                                                                                                                                                                                                                                                                                                                                                                                                                                                                                                                                                                                                                           {'value': 1.505850931533642}   \n",
       "TopKFrequentElements                                                                                                                                                                                                                                                                                                                                                                                                                                                                                                                                                                                                                                                                                                                                                                                                                                                                                        NaN   \n",
       "DuplicateCount                                                                                                                                                                                                                                                                                                                                                                                                                                                                                                                                                                                                                                                                                                                                                                                                                                                                                              NaN   \n",
       "Mode                                                                                                                                                                                                                                                                                                                                                                                                                                                                                                                                                                                                                                                                                                                                                                                                                                                                                                        NaN   \n",
       "\n",
       "                                                                                                                                                                                                                                                                                                                                                                                                                                                                                                                                                                                                                                                                                                                                           ORIGIN_AIRPORT  \\\n",
       "Skewness                                                                                                                                                                                                                                                                                                                                                                                                                                                                                                                                                                                                                                                                                                                                              NaN   \n",
       "StandardDeviation                                                                                                                                                                                                                                                                                                                                                                                                                                                                                                                                                                                                                                                                                                                                     NaN   \n",
       "Min                                                                                                                                                                                                                                                                                                                                                                                                                                                                                                                                                                                                                                                                                                                                                   NaN   \n",
       "IsConstantFeature                                                                                                                                                                                                                                                                                                                                                                                                                                                                                                                                                                                                                                                                                                                                     NaN   \n",
       "IQR                                                                                                                                                                                                                                                                                                                                                                                                                                                                                                                                                                                                                                                                                                                                                   NaN   \n",
       "Range                                                                                                                                                                                                                                                                                                                                                                                                                                                                                                                                                                                                                                                                                                                                                 NaN   \n",
       "ProbabilityDistribution                                                                                                                                                                                                                                                                                                                                                                                                                                                                                                                                                                                                                                                                                                                               NaN   \n",
       "Variance                                                                                                                                                                                                                                                                                                                                                                                                                                                                                                                                                                                                                                                                                                                                              NaN   \n",
       "TypeMetric                                                                                                                                                                                                                                                                                                                                                                                                                                                                                                                                                                                                                                      {'string_type_count': 100, 'integral_type_count': 0, 'fractional_type_count': 0, 'boolean_type_count': 0}   \n",
       "FrequencyDistribution                                                                                                                                                                                                                                                                                                                                                                                                                                                                                                                                                                                                                                                                                                                                 NaN   \n",
       "Count                                                                                                                                                                                                                                                                                                                                                                                                                                                                                                                                                                                                                                                                           {'total_count': 100, 'missing_count': 0, 'missing_count_percentage': 0.0}   \n",
       "Max                                                                                                                                                                                                                                                                                                                                                                                                                                                                                                                                                                                                                                                                                                                                                   NaN   \n",
       "DistinctCount                                                                                                                                                                                                                                                                                                                                                                                                                                                                                                                                                                                                                                                                                                                               {'value': 44}   \n",
       "Sum                                                                                                                                                                                                                                                                                                                                                                                                                                                                                                                                                                                                                                                                                                                                                   NaN   \n",
       "IsQuasiConstantFeature                                                                                                                                                                                                                                                                                                                                                                                                                                                                                                                                                                                                                                                                                                                                NaN   \n",
       "Quartiles                                                                                                                                                                                                                                                                                                                                                                                                                                                                                                                                                                                                                                                                                                                                             NaN   \n",
       "Mean                                                                                                                                                                                                                                                                                                                                                                                                                                                                                                                                                                                                                                                                                                                                                  NaN   \n",
       "Kurtosis                                                                                                                                                                                                                                                                                                                                                                                                                                                                                                                                                                                                                                                                                                                                              NaN   \n",
       "TopKFrequentElements     {'value': [{'value': 'ANC', 'estimate': 10, 'lower_bound': 10, 'upper_bound': 10}, {'value': 'LAS', 'estimate': 9, 'lower_bound': 9, 'upper_bound': 9}, {'value': 'SJU', 'estimate': 6, 'lower_bound': 6, 'upper_bound': 6}, {'value': 'LAX', 'estimate': 6, 'lower_bound': 6, 'upper_bound': 6}, {'value': 'SFO', 'estimate': 5, 'lower_bound': 5, 'upper_bound': 5}, {'value': 'PHX', 'estimate': 5, 'lower_bound': 5, 'upper_bound': 5}, {'value': 'SEA', 'estimate': 5, 'lower_bound': 5, 'upper_bound': 5}, {'value': 'HNL', 'estimate': 4, 'lower_bound': 4, 'upper_bound': 4}, {'value': 'ORD', 'estimate': 4, 'lower_bound': 4, 'upper_bound': 4}, {'value': 'PDX', 'estimate': 3, 'lower_bound': 3, 'upper_bound': 3}]}   \n",
       "DuplicateCount                                                                                                                                                                                                                                                                                                                                                                                                                                                                                                                                                                                                                                                                                             {'count': 56, 'percentage': 56.00000000000001}   \n",
       "Mode                                                                                                                                                                                                                                                                                                                                                                                                                                                                                                                                                                                                                                                                                                                                   {'value': ['ANC']}   \n",
       "\n",
       "                                                                                                                                                                                                                                                                                                                                                                                                                                                                                                                                                                                                                                                                                                                                         DESTINATION_AIRPORT  \n",
       "Skewness                                                                                                                                                                                                                                                                                                                                                                                                                                                                                                                                                                                                                                                                                                                                                 NaN  \n",
       "StandardDeviation                                                                                                                                                                                                                                                                                                                                                                                                                                                                                                                                                                                                                                                                                                                                        NaN  \n",
       "Min                                                                                                                                                                                                                                                                                                                                                                                                                                                                                                                                                                                                                                                                                                                                                      NaN  \n",
       "IsConstantFeature                                                                                                                                                                                                                                                                                                                                                                                                                                                                                                                                                                                                                                                                                                                                        NaN  \n",
       "IQR                                                                                                                                                                                                                                                                                                                                                                                                                                                                                                                                                                                                                                                                                                                                                      NaN  \n",
       "Range                                                                                                                                                                                                                                                                                                                                                                                                                                                                                                                                                                                                                                                                                                                                                    NaN  \n",
       "ProbabilityDistribution                                                                                                                                                                                                                                                                                                                                                                                                                                                                                                                                                                                                                                                                                                                                  NaN  \n",
       "Variance                                                                                                                                                                                                                                                                                                                                                                                                                                                                                                                                                                                                                                                                                                                                                 NaN  \n",
       "TypeMetric                                                                                                                                                                                                                                                                                                                                                                                                                                                                                                                                                                                                                                         {'string_type_count': 100, 'integral_type_count': 0, 'fractional_type_count': 0, 'boolean_type_count': 0}  \n",
       "FrequencyDistribution                                                                                                                                                                                                                                                                                                                                                                                                                                                                                                                                                                                                                                                                                                                                    NaN  \n",
       "Count                                                                                                                                                                                                                                                                                                                                                                                                                                                                                                                                                                                                                                                                              {'total_count': 100, 'missing_count': 0, 'missing_count_percentage': 0.0}  \n",
       "Max                                                                                                                                                                                                                                                                                                                                                                                                                                                                                                                                                                                                                                                                                                                                                      NaN  \n",
       "DistinctCount                                                                                                                                                                                                                                                                                                                                                                                                                                                                                                                                                                                                                                                                                                                                  {'value': 29}  \n",
       "Sum                                                                                                                                                                                                                                                                                                                                                                                                                                                                                                                                                                                                                                                                                                                                                      NaN  \n",
       "IsQuasiConstantFeature                                                                                                                                                                                                                                                                                                                                                                                                                                                                                                                                                                                                                                                                                                                                   NaN  \n",
       "Quartiles                                                                                                                                                                                                                                                                                                                                                                                                                                                                                                                                                                                                                                                                                                                                                NaN  \n",
       "Mean                                                                                                                                                                                                                                                                                                                                                                                                                                                                                                                                                                                                                                                                                                                                                     NaN  \n",
       "Kurtosis                                                                                                                                                                                                                                                                                                                                                                                                                                                                                                                                                                                                                                                                                                                                                 NaN  \n",
       "TopKFrequentElements     {'value': [{'value': 'MIA', 'estimate': 10, 'lower_bound': 10, 'upper_bound': 10}, {'value': 'IAH', 'estimate': 10, 'lower_bound': 10, 'upper_bound': 10}, {'value': 'MSP', 'estimate': 9, 'lower_bound': 9, 'upper_bound': 9}, {'value': 'SEA', 'estimate': 9, 'lower_bound': 9, 'upper_bound': 9}, {'value': 'ATL', 'estimate': 6, 'lower_bound': 6, 'upper_bound': 6}, {'value': 'DFW', 'estimate': 6, 'lower_bound': 6, 'upper_bound': 6}, {'value': 'MCO', 'estimate': 6, 'lower_bound': 6, 'upper_bound': 6}, {'value': 'DEN', 'estimate': 5, 'lower_bound': 5, 'upper_bound': 5}, {'value': 'PHX', 'estimate': 4, 'lower_bound': 4, 'upper_bound': 4}, {'value': 'CLT', 'estimate': 4, 'lower_bound': 4, 'upper_bound': 4}]}  \n",
       "DuplicateCount                                                                                                                                                                                                                                                                                                                                                                                                                                                                                                                                                                                                                                                                                                             {'count': 71, 'percentage': 71.0}  \n",
       "Mode                                                                                                                                                                                                                                                                                                                                                                                                                                                                                                                                                                                                                                                                                                                               {'value': ['MIA', 'IAH']}  "
      ]
     },
     "execution_count": 32,
     "metadata": {},
     "output_type": "execute_result"
    }
   ],
   "source": [
    "feature_group_flights.get_statistics().to_pandas()"
   ]
  },
  {
   "cell_type": "code",
   "execution_count": 33,
   "id": "7cfc56fe",
   "metadata": {
    "pycharm": {
     "name": "#%%\n"
    }
   },
   "outputs": [
    {
     "data": {
      "text/html": [
       "<div>\n",
       "<style scoped>\n",
       "    .dataframe tbody tr th:only-of-type {\n",
       "        vertical-align: middle;\n",
       "    }\n",
       "\n",
       "    .dataframe tbody tr th {\n",
       "        vertical-align: top;\n",
       "    }\n",
       "\n",
       "    .dataframe thead th {\n",
       "        text-align: right;\n",
       "    }\n",
       "</style>\n",
       "<table border=\"1\" class=\"dataframe\">\n",
       "  <thead>\n",
       "    <tr style=\"text-align: right;\">\n",
       "      <th></th>\n",
       "      <th>0</th>\n",
       "    </tr>\n",
       "  </thead>\n",
       "  <tbody>\n",
       "    <tr>\n",
       "      <th>results</th>\n",
       "      <td>[{'exception_info': {'raised_exception': False, 'exception_traceback': None, 'exception_message': None}, 'meta': {}, 'result': {'element_count': 14, 'unexpected_count': 0, 'unexpected_percent': 0.0, 'partial_unexpected_list': []}, 'expectation_config': {'meta': {}, 'expectation_type': 'expect_column_values_to_not_be_null', 'kwargs': {'column': 'IATA_CODE', 'batch_id': '90bbaf1a6a4ae45a238e05e0d240a033'}}, 'success': True}]</td>\n",
       "    </tr>\n",
       "    <tr>\n",
       "      <th>success</th>\n",
       "      <td>True</td>\n",
       "    </tr>\n",
       "    <tr>\n",
       "      <th>meta.great_expectations_version</th>\n",
       "      <td>0.15.39</td>\n",
       "    </tr>\n",
       "    <tr>\n",
       "      <th>meta.expectation_suite_name</th>\n",
       "      <td>airlines_feature_group</td>\n",
       "    </tr>\n",
       "    <tr>\n",
       "      <th>meta.run_id.run_time</th>\n",
       "      <td>2023-07-14T04:30:58.945832+00:00</td>\n",
       "    </tr>\n",
       "    <tr>\n",
       "      <th>meta.run_id.run_name</th>\n",
       "      <td>None</td>\n",
       "    </tr>\n",
       "    <tr>\n",
       "      <th>meta.batch_markers.ge_load_time</th>\n",
       "      <td>20230714T043058.944828Z</td>\n",
       "    </tr>\n",
       "    <tr>\n",
       "      <th>meta.active_batch_definition.datasource_name</th>\n",
       "      <td>feature-ingestion-pipeline</td>\n",
       "    </tr>\n",
       "    <tr>\n",
       "      <th>meta.active_batch_definition.data_connector_name</th>\n",
       "      <td>feature-ingestion-pipeline</td>\n",
       "    </tr>\n",
       "    <tr>\n",
       "      <th>meta.active_batch_definition.data_asset_name</th>\n",
       "      <td>feature-ingestion-pipeline</td>\n",
       "    </tr>\n",
       "    <tr>\n",
       "      <th>meta.active_batch_definition.batch_identifiers.ge_batch_id</th>\n",
       "      <td>3b3f551a-21ff-11ee-9023-0242ac130002</td>\n",
       "    </tr>\n",
       "    <tr>\n",
       "      <th>meta.validation_time</th>\n",
       "      <td>20230714T043058.945751Z</td>\n",
       "    </tr>\n",
       "    <tr>\n",
       "      <th>meta.checkpoint_name</th>\n",
       "      <td>None</td>\n",
       "    </tr>\n",
       "    <tr>\n",
       "      <th>statistics.evaluated_expectations</th>\n",
       "      <td>1</td>\n",
       "    </tr>\n",
       "    <tr>\n",
       "      <th>statistics.successful_expectations</th>\n",
       "      <td>1</td>\n",
       "    </tr>\n",
       "    <tr>\n",
       "      <th>statistics.unsuccessful_expectations</th>\n",
       "      <td>0</td>\n",
       "    </tr>\n",
       "    <tr>\n",
       "      <th>statistics.success_percent</th>\n",
       "      <td>100.0</td>\n",
       "    </tr>\n",
       "  </tbody>\n",
       "</table>\n",
       "</div>"
      ],
      "text/plain": [
       "                                                                                                                                                                                                                                                                                                                                                                                                                                                                                                     0\n",
       "results                                                     [{'exception_info': {'raised_exception': False, 'exception_traceback': None, 'exception_message': None}, 'meta': {}, 'result': {'element_count': 14, 'unexpected_count': 0, 'unexpected_percent': 0.0, 'partial_unexpected_list': []}, 'expectation_config': {'meta': {}, 'expectation_type': 'expect_column_values_to_not_be_null', 'kwargs': {'column': 'IATA_CODE', 'batch_id': '90bbaf1a6a4ae45a238e05e0d240a033'}}, 'success': True}]\n",
       "success                                                                                                                                                                                                                                                                                                                                                                                                                                                                                           True\n",
       "meta.great_expectations_version                                                                                                                                                                                                                                                                                                                                                                                                                                                                0.15.39\n",
       "meta.expectation_suite_name                                                                                                                                                                                                                                                                                                                                                                                                                                                     airlines_feature_group\n",
       "meta.run_id.run_time                                                                                                                                                                                                                                                                                                                                                                                                                                                  2023-07-14T04:30:58.945832+00:00\n",
       "meta.run_id.run_name                                                                                                                                                                                                                                                                                                                                                                                                                                                                              None\n",
       "meta.batch_markers.ge_load_time                                                                                                                                                                                                                                                                                                                                                                                                                                                20230714T043058.944828Z\n",
       "meta.active_batch_definition.datasource_name                                                                                                                                                                                                                                                                                                                                                                                                                                feature-ingestion-pipeline\n",
       "meta.active_batch_definition.data_connector_name                                                                                                                                                                                                                                                                                                                                                                                                                            feature-ingestion-pipeline\n",
       "meta.active_batch_definition.data_asset_name                                                                                                                                                                                                                                                                                                                                                                                                                                feature-ingestion-pipeline\n",
       "meta.active_batch_definition.batch_identifiers.ge_batch_id                                                                                                                                                                                                                                                                                                                                                                                                        3b3f551a-21ff-11ee-9023-0242ac130002\n",
       "meta.validation_time                                                                                                                                                                                                                                                                                                                                                                                                                                                           20230714T043058.945751Z\n",
       "meta.checkpoint_name                                                                                                                                                                                                                                                                                                                                                                                                                                                                              None\n",
       "statistics.evaluated_expectations                                                                                                                                                                                                                                                                                                                                                                                                                                                                    1\n",
       "statistics.successful_expectations                                                                                                                                                                                                                                                                                                                                                                                                                                                                   1\n",
       "statistics.unsuccessful_expectations                                                                                                                                                                                                                                                                                                                                                                                                                                                                 0\n",
       "statistics.success_percent                                                                                                                                                                                                                                                                                                                                                                                                                                                                       100.0"
      ]
     },
     "execution_count": 33,
     "metadata": {},
     "output_type": "execute_result"
    }
   ],
   "source": [
    "feature_group_airlines.get_validation_output().to_pandas()"
   ]
  },
  {
   "cell_type": "markdown",
   "id": "a84c1e68",
   "metadata": {
    "pycharm": {
     "name": "#%% md\n"
    }
   },
   "source": [
    "<a id=\"select_subset_featuregroup\"></a>\n",
    "### 3.4. Select subset of features"
   ]
  },
  {
   "cell_type": "code",
   "execution_count": 34,
   "id": "d81ddcbb",
   "metadata": {
    "pycharm": {
     "name": "#%%\n"
    }
   },
   "outputs": [
    {
     "name": "stdout",
     "output_type": "stream",
     "text": [
      "+---------+\n",
      "|IATA_CODE|\n",
      "+---------+\n",
      "|       NK|\n",
      "|       WN|\n",
      "|       DL|\n",
      "|       EV|\n",
      "|       HA|\n",
      "|       MQ|\n",
      "|       VX|\n",
      "|       UA|\n",
      "|       AA|\n",
      "|       US|\n",
      "+---------+\n",
      "only showing top 10 rows\n",
      "\n"
     ]
    },
    {
     "name": "stderr",
     "output_type": "stream",
     "text": [
      "                                                                                \r"
     ]
    }
   ],
   "source": [
    "feature_group_airlines.select(['IATA_CODE']).show()"
   ]
  },
  {
   "cell_type": "markdown",
   "id": "2416e2a2",
   "metadata": {
    "pycharm": {
     "name": "#%% md\n"
    }
   },
   "source": [
    "<a id=\"filter_featuregroup\"></a>\n",
    "### 3.5. Filter feature groups"
   ]
  },
  {
   "cell_type": "code",
   "execution_count": 35,
   "id": "19267e79",
   "metadata": {
    "pycharm": {
     "name": "#%%\n"
    }
   },
   "outputs": [
    {
     "name": "stderr",
     "output_type": "stream",
     "text": [
      "[Stage 50:>                                                         (0 + 1) / 1]\r"
     ]
    },
    {
     "name": "stdout",
     "output_type": "stream",
     "text": [
      "+---------+--------------------+\n",
      "|IATA_CODE|             AIRLINE|\n",
      "+---------+--------------------+\n",
      "|       EV|Atlantic Southeas...|\n",
      "+---------+--------------------+\n",
      "\n"
     ]
    },
    {
     "name": "stderr",
     "output_type": "stream",
     "text": [
      "                                                                                \r"
     ]
    }
   ],
   "source": [
    "feature_group_airlines.filter(feature_group_airlines.IATA_CODE == \"EV\").show()"
   ]
  },
  {
   "cell_type": "markdown",
   "id": "22da4132",
   "metadata": {
    "pycharm": {
     "name": "#%% md\n"
    }
   },
   "source": [
    "<a id=\"join_featuregroup\"></a>\n",
    "### 3.6. Apply joins on feature group\n",
    "As in Pandas, if the feature has the same name on both feature groups, then you can use the `on=[]` paramter. If they have different names, then you can use the `left_on=[]` and `right_on=[]` paramters:"
   ]
  },
  {
   "cell_type": "code",
   "execution_count": 36,
   "id": "212c1750",
   "metadata": {
    "pycharm": {
     "name": "#%%\n"
    }
   },
   "outputs": [
    {
     "name": "stderr",
     "output_type": "stream",
     "text": [
      "                                                                                \r"
     ]
    },
    {
     "name": "stdout",
     "output_type": "stream",
     "text": [
      "+----+-----+---+-----------+-------+-------------+--------------+-------------------+---------+-------+----+-----+-------+--------+---------+\n",
      "|YEAR|MONTH|DAY|DAY_OF_WEEK|AIRLINE|FLIGHT_NUMBER|ORIGIN_AIRPORT|DESTINATION_AIRPORT|IATA_CODE|AIRPORT|CITY|STATE|COUNTRY|LATITUDE|LONGITUDE|\n",
      "+----+-----+---+-----------+-------+-------------+--------------+-------------------+---------+-------+----+-----+-------+--------+---------+\n",
      "|2015|    1|  1|          4|     B6|         1030|           BQN|                MCO|     null|   null|null| null|   null|    null|     null|\n",
      "|2015|    1|  1|          4|     B6|          262|           SJU|                BOS|     null|   null|null| null|   null|    null|     null|\n",
      "|2015|    1|  1|          4|     B6|         2134|           SJU|                MCO|     null|   null|null| null|   null|    null|     null|\n",
      "|2015|    1|  1|          4|     B6|          730|           BQN|                MCO|     null|   null|null| null|   null|    null|     null|\n",
      "|2015|    1|  1|          4|     B6|          768|           PSE|                MCO|     null|   null|null| null|   null|    null|     null|\n",
      "+----+-----+---+-----------+-------+-------------+--------------+-------------------+---------+-------+----+-----+-------+--------+---------+\n",
      "only showing top 5 rows\n",
      "\n"
     ]
    },
    {
     "name": "stderr",
     "output_type": "stream",
     "text": [
      "                                                                                \r"
     ]
    }
   ],
   "source": [
    "from ads.feature_store.common.enums import JoinType\n",
    "\n",
    "query = (\n",
    "    feature_group_flights.select()\n",
    "    .join(feature_group_airlines.select(), left_on=['ORIGIN_AIRPORT'], right_on=['IATA_CODE'], join_type=JoinType.LEFT)\n",
    "    .join(feature_group_airports.select(), left_on=['AIRLINE'], right_on=['IATA_CODE'], join_type=JoinType.LEFT)\n",
    ")\n",
    "query.show(5)"
   ]
  },
  {
   "cell_type": "code",
   "execution_count": 37,
   "id": "7690e2a4",
   "metadata": {
    "pycharm": {
     "name": "#%%\n"
    }
   },
   "outputs": [
    {
     "data": {
      "text/plain": [
       "'SELECT fg_2.YEAR YEAR, fg_2.MONTH MONTH, fg_2.DAY DAY, fg_2.DAY_OF_WEEK DAY_OF_WEEK, fg_2.AIRLINE AIRLINE, fg_2.FLIGHT_NUMBER FLIGHT_NUMBER, fg_2.ORIGIN_AIRPORT ORIGIN_AIRPORT, fg_2.DESTINATION_AIRPORT DESTINATION_AIRPORT, fg_0.IATA_CODE IATA_CODE, fg_1.AIRPORT AIRPORT, fg_1.CITY CITY, fg_1.STATE STATE, fg_1.COUNTRY COUNTRY, fg_1.LATITUDE LATITUDE, fg_1.LONGITUDE LONGITUDE FROM `843E320A28F319748425787F04BCD3B8`.flights_feature_group fg_2 LEFT JOIN `843E320A28F319748425787F04BCD3B8`.airlines_feature_group fg_0 ON fg_2.ORIGIN_AIRPORT = fg_0.IATA_CODE LEFT JOIN `843E320A28F319748425787F04BCD3B8`.airport_feature_group fg_1 ON fg_0.AIRLINE = fg_1.IATA_CODE'"
      ]
     },
     "execution_count": 37,
     "metadata": {},
     "output_type": "execute_result"
    }
   ],
   "source": [
    "query.to_string()"
   ]
  },
  {
   "cell_type": "markdown",
   "id": "a249cbe0",
   "metadata": {
    "pycharm": {
     "name": "#%% md\n"
    }
   },
   "source": [
    "<a id=\"create_dataset\"></a>\n",
    "### 3.7 Create dataset\n",
    "A dataset is a collection of feature snapshots that are joined together to either train a model or perform model inference.\n",
    "\n",
    "<div>\n",
    "    <img src=\"https://objectstorage.us-ashburn-1.oraclecloud.com/p/hh2NOgFJbVSg4amcLM3G3hkTuHyBD-8aE_iCsuZKEvIav1Wlld-3zfCawG4ycQGN/n/ociodscdev/b/oci-feature-store/o/beta/_images/dataset.gif\" width=\"700\" height=\"350\" />\n",
    "</div>"
   ]
  },
  {
   "cell_type": "code",
   "execution_count": 38,
   "id": "ad857582",
   "metadata": {
    "pycharm": {
     "name": "#%%\n"
    }
   },
   "outputs": [],
   "source": [
    "dataset = (\n",
    "    Dataset()\n",
    "    .with_description(\"Combined dataset for flights\")\n",
    "    .with_compartment_id(compartment_id)\n",
    "    .with_name(\"flights_dataset\")\n",
    "    .with_entity_id(entity.id)\n",
    "    .with_feature_store_id(feature_store.id)\n",
    "    .with_query(query.to_string())\n",
    ")"
   ]
  },
  {
   "cell_type": "markdown",
   "id": "c61e568b",
   "metadata": {
    "pycharm": {
     "name": "#%% md\n"
    }
   },
   "source": [
    "<a id=\"create_dataset\"></a>\n",
    "##### Create Dataset\n",
    "\n",
    "Call the ```.create()``` method of the Dataset instance to create a dataset."
   ]
  },
  {
   "cell_type": "code",
   "execution_count": 39,
   "id": "ca7becdf",
   "metadata": {
    "pycharm": {
     "name": "#%%\n"
    }
   },
   "outputs": [
    {
     "data": {
      "text/plain": [
       "\n",
       "kind: Dataset\n",
       "spec:\n",
       "  compartmentId: ocid1.tenancy.oc1..aaaaaaaa25c5a2zpfki3wo4ofza5l72aehvwkjbuavpnzqtmr4nigdgzi57a\n",
       "  description: Combined dataset for flights\n",
       "  entityId: 843E320A28F319748425787F04BCD3B8\n",
       "  featureStoreId: 751D665EB6AE7360928F15705F9F0F48\n",
       "  id: 6881C3E17FC9BBB02934BB7B6B9068D1\n",
       "  name: flights_dataset\n",
       "  query: SELECT fg_2.YEAR YEAR, fg_2.MONTH MONTH, fg_2.DAY DAY, fg_2.DAY_OF_WEEK DAY_OF_WEEK,\n",
       "    fg_2.AIRLINE AIRLINE, fg_2.FLIGHT_NUMBER FLIGHT_NUMBER, fg_2.ORIGIN_AIRPORT ORIGIN_AIRPORT,\n",
       "    fg_2.DESTINATION_AIRPORT DESTINATION_AIRPORT, fg_0.IATA_CODE IATA_CODE, fg_1.AIRPORT\n",
       "    AIRPORT, fg_1.CITY CITY, fg_1.STATE STATE, fg_1.COUNTRY COUNTRY, fg_1.LATITUDE\n",
       "    LATITUDE, fg_1.LONGITUDE LONGITUDE FROM `843E320A28F319748425787F04BCD3B8`.flights_feature_group\n",
       "    fg_2 LEFT JOIN `843E320A28F319748425787F04BCD3B8`.airlines_feature_group fg_0\n",
       "    ON fg_2.ORIGIN_AIRPORT = fg_0.IATA_CODE LEFT JOIN `843E320A28F319748425787F04BCD3B8`.airport_feature_group\n",
       "    fg_1 ON fg_0.AIRLINE = fg_1.IATA_CODE\n",
       "  statisticsConfig:\n",
       "    isEnabled: true\n",
       "type: dataset"
      ]
     },
     "execution_count": 39,
     "metadata": {},
     "output_type": "execute_result"
    }
   ],
   "source": [
    "dataset.create()"
   ]
  },
  {
   "cell_type": "code",
   "execution_count": 40,
   "id": "597e3dd1",
   "metadata": {
    "pycharm": {
     "name": "#%%\n"
    }
   },
   "outputs": [
    {
     "name": "stderr",
     "output_type": "stream",
     "text": [
      "                                                                                \r"
     ]
    },
    {
     "name": "stdout",
     "output_type": "stream",
     "text": [
      "INFO:mlm_insights.builder:validating required components\n",
      "INFO:mlm_insights.builder:required components validated\n",
      "INFO:mlm_insights.builder.usage:Activating Minimal Insights Usage\n",
      "INFO:mlm_insights.builder:Generating Runner object\n",
      "INFO:mlm_insights.builder:Generating workflow request\n",
      "INFO:mlm_insights.workflow:Fetching engine object\n",
      "INFO:mlm_insights.workflow:Returning native engine object\n",
      "INFO:mlm_insights.builder:Running Fugue Workflow\n",
      "INFO:mlm_insights.workflow:Executing Fugue Workflow\n"
     ]
    },
    {
     "name": "stderr",
     "output_type": "stream",
     "text": [
      "                                                                                \r"
     ]
    },
    {
     "name": "stdout",
     "output_type": "stream",
     "text": [
      "WARNING:py.warnings:/home/datascience/conda/fspyspark32_p38_cpu#conda_v1/lib/python3.8/site-packages/pyspark/sql/pandas/utils.py:35: DeprecationWarning: distutils Version classes are deprecated. Use packaging.version instead.\n",
      "  if LooseVersion(pandas.__version__) < LooseVersion(minimum_pandas_version):\n",
      "\n",
      "WARNING:py.warnings:/home/datascience/conda/fspyspark32_p38_cpu#conda_v1/lib/python3.8/site-packages/pyspark/sql/pandas/utils.py:57: DeprecationWarning: distutils Version classes are deprecated. Use packaging.version instead.\n",
      "  if LooseVersion(pyarrow.__version__) < LooseVersion(minimum_pyarrow_version):\n",
      "\n"
     ]
    },
    {
     "name": "stderr",
     "output_type": "stream",
     "text": [
      "/home/datascience/conda/fspyspark32_p38_cpu#conda_v1/lib/python3.8/site-packages/mlm_insights/core/sfcs/descriptive_statistics_sfc.py:80: RuntimeWarning: Precision loss occurred in moment calculation due to catastrophic cancellation. This occurs when the data are nearly identical. Results may be unreliable.\n",
      "  self.central_moments = [moment(column, moment=i) for i in range(MAXIMUM_MOMENT_ORDER + 1)]\n",
      "/home/datascience/conda/fspyspark32_p38_cpu#conda_v1/lib/python3.8/site-packages/mlm_insights/core/sfcs/descriptive_statistics_sfc.py:80: RuntimeWarning: Precision loss occurred in moment calculation due to catastrophic cancellation. This occurs when the data are nearly identical. Results may be unreliable.\n",
      "  self.central_moments = [moment(column, moment=i) for i in range(MAXIMUM_MOMENT_ORDER + 1)]\n",
      "/home/datascience/conda/fspyspark32_p38_cpu#conda_v1/lib/python3.8/site-packages/mlm_insights/core/sfcs/descriptive_statistics_sfc.py:80: RuntimeWarning: Precision loss occurred in moment calculation due to catastrophic cancellation. This occurs when the data are nearly identical. Results may be unreliable.\n",
      "  self.central_moments = [moment(column, moment=i) for i in range(MAXIMUM_MOMENT_ORDER + 1)]\n",
      "/home/datascience/conda/fspyspark32_p38_cpu#conda_v1/lib/python3.8/site-packages/mlm_insights/core/sfcs/descriptive_statistics_sfc.py:80: RuntimeWarning: Precision loss occurred in moment calculation due to catastrophic cancellation. This occurs when the data are nearly identical. Results may be unreliable.\n",
      "  self.central_moments = [moment(column, moment=i) for i in range(MAXIMUM_MOMENT_ORDER + 1)]\n",
      "/home/datascience/conda/fspyspark32_p38_cpu#conda_v1/lib/python3.8/site-packages/numpy/core/fromnumeric.py:3464: RuntimeWarning: Mean of empty slice.\n",
      "  return _methods._mean(a, axis=axis, dtype=dtype,\n",
      "/home/datascience/conda/fspyspark32_p38_cpu#conda_v1/lib/python3.8/site-packages/numpy/core/_methods.py:192: RuntimeWarning: invalid value encountered in scalar divide\n",
      "  ret = ret.dtype.type(ret / rcount)\n",
      "/home/datascience/conda/fspyspark32_p38_cpu#conda_v1/lib/python3.8/site-packages/numpy/core/fromnumeric.py:3464: RuntimeWarning: Mean of empty slice.\n",
      "  return _methods._mean(a, axis=axis, dtype=dtype,\n",
      "/home/datascience/conda/fspyspark32_p38_cpu#conda_v1/lib/python3.8/site-packages/numpy/core/_methods.py:192: RuntimeWarning: invalid value encountered in scalar divide\n",
      "  ret = ret.dtype.type(ret / rcount)\n",
      "/home/datascience/conda/fspyspark32_p38_cpu#conda_v1/lib/python3.8/site-packages/mlm_insights/core/sfcs/descriptive_statistics_sfc.py:80: RuntimeWarning: Precision loss occurred in moment calculation due to catastrophic cancellation. This occurs when the data are nearly identical. Results may be unreliable.\n",
      "  self.central_moments = [moment(column, moment=i) for i in range(MAXIMUM_MOMENT_ORDER + 1)]\n",
      "/home/datascience/conda/fspyspark32_p38_cpu#conda_v1/lib/python3.8/site-packages/mlm_insights/core/sfcs/descriptive_statistics_sfc.py:80: RuntimeWarning: Precision loss occurred in moment calculation due to catastrophic cancellation. This occurs when the data are nearly identical. Results may be unreliable.\n",
      "  self.central_moments = [moment(column, moment=i) for i in range(MAXIMUM_MOMENT_ORDER + 1)]\n",
      "/home/datascience/conda/fspyspark32_p38_cpu#conda_v1/lib/python3.8/site-packages/mlm_insights/core/sfcs/descriptive_statistics_sfc.py:80: RuntimeWarning: Precision loss occurred in moment calculation due to catastrophic cancellation. This occurs when the data are nearly identical. Results may be unreliable.\n",
      "  self.central_moments = [moment(column, moment=i) for i in range(MAXIMUM_MOMENT_ORDER + 1)]\n",
      "/home/datascience/conda/fspyspark32_p38_cpu#conda_v1/lib/python3.8/site-packages/mlm_insights/core/sfcs/descriptive_statistics_sfc.py:80: RuntimeWarning: Precision loss occurred in moment calculation due to catastrophic cancellation. This occurs when the data are nearly identical. Results may be unreliable.\n",
      "  self.central_moments = [moment(column, moment=i) for i in range(MAXIMUM_MOMENT_ORDER + 1)]\n",
      "/home/datascience/conda/fspyspark32_p38_cpu#conda_v1/lib/python3.8/site-packages/numpy/core/fromnumeric.py:3464: RuntimeWarning: Mean of empty slice.\n",
      "  return _methods._mean(a, axis=axis, dtype=dtype,\n",
      "/home/datascience/conda/fspyspark32_p38_cpu#conda_v1/lib/python3.8/site-packages/numpy/core/_methods.py:192: RuntimeWarning: invalid value encountered in scalar divide\n",
      "  ret = ret.dtype.type(ret / rcount)\n",
      "/home/datascience/conda/fspyspark32_p38_cpu#conda_v1/lib/python3.8/site-packages/numpy/core/fromnumeric.py:3464: RuntimeWarning: Mean of empty slice.\n",
      "  return _methods._mean(a, axis=axis, dtype=dtype,\n",
      "/home/datascience/conda/fspyspark32_p38_cpu#conda_v1/lib/python3.8/site-packages/numpy/core/_methods.py:192: RuntimeWarning: invalid value encountered in scalar divide\n",
      "  ret = ret.dtype.type(ret / rcount)\n"
     ]
    },
    {
     "name": "stdout",
     "output_type": "stream",
     "text": [
      "INFO:mlm_insights.core.sfcs:creating sfc from {'c5144335a509689fc50d13d03eebc9b1': FrequentItemsSFC(sketch=<_datasketches.frequent_strings_sketch object at 0x7f8ef9c31570>), 'c19e3960aa08a392d20aaa5da607d9ea': DescriptiveStatisticsSFC(total_count=100.0, mean=2015.0, minimum=2015.0, maximum=2015.0, central_moments=[1.0, 0.0, 0.0, 0.0, 0.0]), '4cd1d3704778a196571a6c83581854cc': DistinctCountSFC(sketch=<_datasketches.hll_sketch object at 0x7f8ef9c31270>), '6e3ac490990d92bca69c828fe3aff8ad': QuantilesSFC(kll_sketch=<_datasketches.kll_doubles_sketch object at 0x7f8ef9589030>)} sfc map\n",
      "INFO:mlm_insights.core.sfcs:creating sfc from {'c5144335a509689fc50d13d03eebc9b1': FrequentItemsSFC(sketch=<_datasketches.frequent_strings_sketch object at 0x7f8ef9590f30>), 'c19e3960aa08a392d20aaa5da607d9ea': DescriptiveStatisticsSFC(total_count=100.0, mean=1.0, minimum=1.0, maximum=1.0, central_moments=[1.0, 0.0, 0.0, 0.0, 0.0]), '4cd1d3704778a196571a6c83581854cc': DistinctCountSFC(sketch=<_datasketches.hll_sketch object at 0x7f8ef95613f0>), '6e3ac490990d92bca69c828fe3aff8ad': QuantilesSFC(kll_sketch=<_datasketches.kll_doubles_sketch object at 0x7f8ef95842f0>)} sfc map\n",
      "INFO:mlm_insights.core.sfcs:creating sfc from {'c5144335a509689fc50d13d03eebc9b1': FrequentItemsSFC(sketch=<_datasketches.frequent_strings_sketch object at 0x7f8ef95909b0>), 'c19e3960aa08a392d20aaa5da607d9ea': DescriptiveStatisticsSFC(total_count=100.0, mean=1.0, minimum=1.0, maximum=1.0, central_moments=[1.0, 0.0, 0.0, 0.0, 0.0]), '4cd1d3704778a196571a6c83581854cc': DistinctCountSFC(sketch=<_datasketches.hll_sketch object at 0x7f8ef9590e30>), '6e3ac490990d92bca69c828fe3aff8ad': QuantilesSFC(kll_sketch=<_datasketches.kll_doubles_sketch object at 0x7f8ef9c1f1b0>)} sfc map\n",
      "INFO:mlm_insights.core.sfcs:creating sfc from {'c5144335a509689fc50d13d03eebc9b1': FrequentItemsSFC(sketch=<_datasketches.frequent_strings_sketch object at 0x7f8ef9c1f330>), 'c19e3960aa08a392d20aaa5da607d9ea': DescriptiveStatisticsSFC(total_count=100.0, mean=4.0, minimum=4.0, maximum=4.0, central_moments=[1.0, 0.0, 0.0, 0.0, 0.0]), '4cd1d3704778a196571a6c83581854cc': DistinctCountSFC(sketch=<_datasketches.hll_sketch object at 0x7f8ef9c1fc30>), '6e3ac490990d92bca69c828fe3aff8ad': QuantilesSFC(kll_sketch=<_datasketches.kll_doubles_sketch object at 0x7f8ef9c1f8f0>)} sfc map\n",
      "INFO:mlm_insights.core.sfcs:creating sfc from {'c5144335a509689fc50d13d03eebc9b1': FrequentItemsSFC(sketch=<_datasketches.frequent_strings_sketch object at 0x7f8ef9c1f2b0>), '4cd1d3704778a196571a6c83581854cc': DistinctCountSFC(sketch=<_datasketches.hll_sketch object at 0x7f8ef9c1fdb0>)} sfc map\n",
      "INFO:mlm_insights.core.sfcs:creating sfc from {'c5144335a509689fc50d13d03eebc9b1': FrequentItemsSFC(sketch=<_datasketches.frequent_strings_sketch object at 0x7f8ef9c1f3b0>), 'c19e3960aa08a392d20aaa5da607d9ea': DescriptiveStatisticsSFC(total_count=100.0, mean=1711.51, minimum=17.0, maximum=7419.0, central_moments=[1.0, 0.0, 3509091.8299000002, 10157914842.877602, 55483811382672.16]), '4cd1d3704778a196571a6c83581854cc': DistinctCountSFC(sketch=<_datasketches.hll_sketch object at 0x7f8ef9c1f470>), '6e3ac490990d92bca69c828fe3aff8ad': QuantilesSFC(kll_sketch=<_datasketches.kll_doubles_sketch object at 0x7f8ef9c1fd70>)} sfc map\n",
      "INFO:mlm_insights.core.sfcs:creating sfc from {'c5144335a509689fc50d13d03eebc9b1': FrequentItemsSFC(sketch=<_datasketches.frequent_strings_sketch object at 0x7f8ef9c1f630>), '4cd1d3704778a196571a6c83581854cc': DistinctCountSFC(sketch=<_datasketches.hll_sketch object at 0x7f8ef9c1fb30>)} sfc map\n",
      "INFO:mlm_insights.core.sfcs:creating sfc from {'c5144335a509689fc50d13d03eebc9b1': FrequentItemsSFC(sketch=<_datasketches.frequent_strings_sketch object at 0x7f8ef9c1f9b0>), '4cd1d3704778a196571a6c83581854cc': DistinctCountSFC(sketch=<_datasketches.hll_sketch object at 0x7f8ef9c1fbb0>)} sfc map\n",
      "INFO:mlm_insights.core.sfcs:creating sfc from {'c5144335a509689fc50d13d03eebc9b1': FrequentItemsSFC(sketch=<_datasketches.frequent_strings_sketch object at 0x7f8ef9c23ab0>), '4cd1d3704778a196571a6c83581854cc': DistinctCountSFC(sketch=<_datasketches.hll_sketch object at 0x7f8ef9c23470>)} sfc map\n",
      "INFO:mlm_insights.core.sfcs:creating sfc from {'c5144335a509689fc50d13d03eebc9b1': FrequentItemsSFC(sketch=<_datasketches.frequent_strings_sketch object at 0x7f8ef9c235f0>), '4cd1d3704778a196571a6c83581854cc': DistinctCountSFC(sketch=<_datasketches.hll_sketch object at 0x7f8ef9c43670>)} sfc map\n",
      "INFO:mlm_insights.core.sfcs:creating sfc from {'c5144335a509689fc50d13d03eebc9b1': FrequentItemsSFC(sketch=<_datasketches.frequent_strings_sketch object at 0x7f8ef9c435f0>), '4cd1d3704778a196571a6c83581854cc': DistinctCountSFC(sketch=<_datasketches.hll_sketch object at 0x7f8ef9c43c70>)} sfc map\n",
      "INFO:mlm_insights.core.sfcs:creating sfc from {'c5144335a509689fc50d13d03eebc9b1': FrequentItemsSFC(sketch=<_datasketches.frequent_strings_sketch object at 0x7f8ef9c43bf0>), '4cd1d3704778a196571a6c83581854cc': DistinctCountSFC(sketch=<_datasketches.hll_sketch object at 0x7f8ef9c43f70>)} sfc map\n",
      "INFO:mlm_insights.core.sfcs:creating sfc from {'c5144335a509689fc50d13d03eebc9b1': FrequentItemsSFC(sketch=<_datasketches.frequent_strings_sketch object at 0x7f8ef9c3f4b0>), '4cd1d3704778a196571a6c83581854cc': DistinctCountSFC(sketch=<_datasketches.hll_sketch object at 0x7f8ef9c3ff70>)} sfc map\n",
      "INFO:mlm_insights.core.sfcs:creating sfc from {'c5144335a509689fc50d13d03eebc9b1': FrequentItemsSFC(sketch=<_datasketches.frequent_strings_sketch object at 0x7f8ef9c3f630>), 'c19e3960aa08a392d20aaa5da607d9ea': DescriptiveStatisticsSFC(total_count=0.0, mean=nan, minimum=nan, maximum=nan, central_moments=[nan, nan, nan, nan, nan]), '4cd1d3704778a196571a6c83581854cc': DistinctCountSFC(sketch=<_datasketches.hll_sketch object at 0x7f8ef9502870>), '6e3ac490990d92bca69c828fe3aff8ad': QuantilesSFC(kll_sketch=<_datasketches.kll_doubles_sketch object at 0x7f8ef9526770>)} sfc map\n",
      "INFO:mlm_insights.core.sfcs:creating sfc from {'c5144335a509689fc50d13d03eebc9b1': FrequentItemsSFC(sketch=<_datasketches.frequent_strings_sketch object at 0x7f8ef9526d70>), 'c19e3960aa08a392d20aaa5da607d9ea': DescriptiveStatisticsSFC(total_count=0.0, mean=nan, minimum=nan, maximum=nan, central_moments=[nan, nan, nan, nan, nan]), '4cd1d3704778a196571a6c83581854cc': DistinctCountSFC(sketch=<_datasketches.hll_sketch object at 0x7f8ef9526df0>), '6e3ac490990d92bca69c828fe3aff8ad': QuantilesSFC(kll_sketch=<_datasketches.kll_doubles_sketch object at 0x7f8ef9526070>)} sfc map\n",
      "INFO:mlm_insights.core.sdcs:creating sdc from {} sdc map\n",
      "INFO:mlm_insights.builder:Profile Generated Successfully\n",
      "INFO:mlm_insights.core.sfcs:getting SFCMetaData(klass=<class 'mlm_insights.core.sfcs.descriptive_statistics_sfc.DescriptiveStatisticsSFC'>, config={}) sfc from sfc meta data\n",
      "INFO:mlm_insights.core.metrics:Calculated Skewness metric, value: None\n",
      "INFO:mlm_insights.core.sfcs:getting SFCMetaData(klass=<class 'mlm_insights.core.sfcs.descriptive_statistics_sfc.DescriptiveStatisticsSFC'>, config={}) sfc from sfc meta data\n",
      "INFO:mlm_insights.core.sfcs:getting SFCMetaData(klass=<class 'mlm_insights.core.sfcs.descriptive_statistics_sfc.DescriptiveStatisticsSFC'>, config={}) sfc from sfc meta data\n",
      "INFO:mlm_insights.core.metrics:Creating StandardDeviation metric, value: 0.0\n",
      "INFO:mlm_insights.core.sfcs:getting SFCMetaData(klass=<class 'mlm_insights.core.sfcs.descriptive_statistics_sfc.DescriptiveStatisticsSFC'>, config={}) sfc from sfc meta data\n",
      "INFO:mlm_insights.core.sfcs:getting SFCMetaData(klass=<class 'mlm_insights.core.sfcs.descriptive_statistics_sfc.DescriptiveStatisticsSFC'>, config={}) sfc from sfc meta data\n",
      "INFO:mlm_insights.core.metrics:Calculated Min metric, value: 2015.0\n",
      "INFO:mlm_insights.core.sfcs:getting SFCMetaData(klass=<class 'mlm_insights.core.sfcs.descriptive_statistics_sfc.DescriptiveStatisticsSFC'>, config={}) sfc from sfc meta data\n",
      "INFO:mlm_insights.core.sfcs:getting SFCMetaData(klass=<class 'mlm_insights.core.sfcs.frequent_items_sfc.FrequentItemsSFC'>, config={}) sfc from sfc meta data\n",
      "INFO:mlm_insights.core.sfcs:Getting top 2 frequent items\n",
      "INFO:mlm_insights.core.sfcs:Getting list of all frequent items\n",
      "INFO:mlm_insights.core.metrics:Calculated IsConstantFeature metric, value: True\n",
      "INFO:mlm_insights.core.sfcs:getting SFCMetaData(klass=<class 'mlm_insights.core.sfcs.quantiles_sfc.QuantilesSFC'>, config={}) sfc from sfc meta data\n",
      "INFO:mlm_insights.core.sfcs:getting quantiles from sketch for rank 0.75\n",
      "INFO:mlm_insights.core.sfcs:getting quantiles from sketch for rank 0.25\n",
      "INFO:mlm_insights.core.metrics:Calculated IQR metric, value: 0.0\n",
      "INFO:mlm_insights.core.sfcs:getting quantiles from sketch for rank 0.75\n",
      "INFO:mlm_insights.core.sfcs:getting quantiles from sketch for rank 0.25\n",
      "INFO:mlm_insights.core.sfcs:getting SFCMetaData(klass=<class 'mlm_insights.core.sfcs.descriptive_statistics_sfc.DescriptiveStatisticsSFC'>, config={}) sfc from sfc meta data\n",
      "INFO:mlm_insights.core.metrics:Calculated Range metric, value: 0.0\n",
      "INFO:mlm_insights.core.sfcs:getting SFCMetaData(klass=<class 'mlm_insights.core.sfcs.quantiles_sfc.QuantilesSFC'>, config={}) sfc from sfc meta data\n",
      "INFO:mlm_insights.core.metrics:Calculated ProbabilityDistribution metric, value: {'bins': [2015.0], 'density': [1.0]}\n",
      "INFO:mlm_insights.core.sfcs:getting SFCMetaData(klass=<class 'mlm_insights.core.sfcs.descriptive_statistics_sfc.DescriptiveStatisticsSFC'>, config={}) sfc from sfc meta data\n",
      "INFO:mlm_insights.core.metrics:Calculated Variance metric, value: 0.0\n",
      "INFO:mlm_insights.core.sfcs:getting SFCMetaData(klass=<class 'mlm_insights.core.sfcs.descriptive_statistics_sfc.DescriptiveStatisticsSFC'>, config={}) sfc from sfc meta data\n",
      "INFO:mlm_insights.core.metrics:Calculated TypeMetric metric, value: {'string_type_count': 0, 'integral_type_count': 100, 'fractional_type_count': 0, 'boolean_type_count': 0}\n",
      "INFO:mlm_insights.core.sfcs:getting SFCMetaData(klass=<class 'mlm_insights.core.sfcs.quantiles_sfc.QuantilesSFC'>, config={}) sfc from sfc meta data\n",
      "INFO:mlm_insights.core.metrics:Calculated FrequencyDistribution metric, value: {'bins': [2015.0], 'frequency': [100]}\n",
      "INFO:mlm_insights.core.metrics:Calculated Count metric, value: {'total_count': 100.0, 'missing_count': 0.0, 'missing_count_percentage': 0.0}\n",
      "INFO:mlm_insights.core.sfcs:getting SFCMetaData(klass=<class 'mlm_insights.core.sfcs.descriptive_statistics_sfc.DescriptiveStatisticsSFC'>, config={}) sfc from sfc meta data\n",
      "INFO:mlm_insights.core.metrics:Calculated Max metric, value: 2015.0\n",
      "INFO:mlm_insights.core.sfcs:getting SFCMetaData(klass=<class 'mlm_insights.core.sfcs.descriptive_statistics_sfc.DescriptiveStatisticsSFC'>, config={}) sfc from sfc meta data\n",
      "INFO:mlm_insights.core.sfcs:getting SFCMetaData(klass=<class 'mlm_insights.core.sfcs.distinct_count_sfc.DistinctCountSFC'>, config={}) sfc from sfc meta data\n",
      "INFO:mlm_insights.core.sfcs:getting SFCMetaData(klass=<class 'mlm_insights.core.sfcs.frequent_items_sfc.FrequentItemsSFC'>, config={}) sfc from sfc meta data\n",
      "INFO:mlm_insights.core.sfcs:Getting total count of input data\n",
      "INFO:mlm_insights.core.sfcs:Calculated cardinality = 1.0 in Distinct count SFC, upper bound = 1.000049929250618, lower bound = 1.0\n",
      "INFO:mlm_insights.core.metrics:Calculated DistinctCount metric, value: 1.0\n",
      "INFO:mlm_insights.core.metrics:Calculated Sum metric, value: 201500.0\n",
      "INFO:mlm_insights.core.sfcs:getting SFCMetaData(klass=<class 'mlm_insights.core.sfcs.frequent_items_sfc.FrequentItemsSFC'>, config={}) sfc from sfc meta data\n",
      "INFO:mlm_insights.core.sfcs:Getting list of all frequent items\n",
      "INFO:mlm_insights.core.metrics:Calculated IsQuasiConstantFeature metric, value: True\n",
      "INFO:mlm_insights.core.sfcs:getting SFCMetaData(klass=<class 'mlm_insights.core.sfcs.quantiles_sfc.QuantilesSFC'>, config={}) sfc from sfc meta data\n",
      "INFO:mlm_insights.core.sfcs:getting quantiles from sketch for rank 0.25\n",
      "INFO:mlm_insights.core.sfcs:getting quantiles from sketch for rank 0.5\n",
      "INFO:mlm_insights.core.sfcs:getting quantiles from sketch for rank 0.75\n",
      "INFO:mlm_insights.core.metrics:Calculated Quartiles metric, value: {'q1': 2015.0, 'q2': 2015.0, 'q3': 2015.0}\n",
      "INFO:mlm_insights.core.sfcs:getting SFCMetaData(klass=<class 'mlm_insights.core.sfcs.descriptive_statistics_sfc.DescriptiveStatisticsSFC'>, config={}) sfc from sfc meta data\n",
      "INFO:mlm_insights.core.metrics:Calculated Mean metric, value: 2015.0\n",
      "INFO:mlm_insights.core.sfcs:getting SFCMetaData(klass=<class 'mlm_insights.core.sfcs.descriptive_statistics_sfc.DescriptiveStatisticsSFC'>, config={}) sfc from sfc meta data\n",
      "INFO:mlm_insights.core.sfcs:getting SFCMetaData(klass=<class 'mlm_insights.core.sfcs.descriptive_statistics_sfc.DescriptiveStatisticsSFC'>, config={}) sfc from sfc meta data\n",
      "INFO:mlm_insights.core.metrics:Calculated Kurtosis metric, value: None\n",
      "INFO:mlm_insights.core.sfcs:getting SFCMetaData(klass=<class 'mlm_insights.core.sfcs.descriptive_statistics_sfc.DescriptiveStatisticsSFC'>, config={}) sfc from sfc meta data\n",
      "INFO:mlm_insights.core.sfcs:getting SFCMetaData(klass=<class 'mlm_insights.core.sfcs.descriptive_statistics_sfc.DescriptiveStatisticsSFC'>, config={}) sfc from sfc meta data\n",
      "INFO:mlm_insights.core.metrics:Calculated Skewness metric, value: None\n",
      "INFO:mlm_insights.core.sfcs:getting SFCMetaData(klass=<class 'mlm_insights.core.sfcs.descriptive_statistics_sfc.DescriptiveStatisticsSFC'>, config={}) sfc from sfc meta data\n",
      "INFO:mlm_insights.core.sfcs:getting SFCMetaData(klass=<class 'mlm_insights.core.sfcs.descriptive_statistics_sfc.DescriptiveStatisticsSFC'>, config={}) sfc from sfc meta data\n",
      "INFO:mlm_insights.core.metrics:Creating StandardDeviation metric, value: 0.0\n",
      "INFO:mlm_insights.core.sfcs:getting SFCMetaData(klass=<class 'mlm_insights.core.sfcs.descriptive_statistics_sfc.DescriptiveStatisticsSFC'>, config={}) sfc from sfc meta data\n",
      "INFO:mlm_insights.core.sfcs:getting SFCMetaData(klass=<class 'mlm_insights.core.sfcs.descriptive_statistics_sfc.DescriptiveStatisticsSFC'>, config={}) sfc from sfc meta data\n",
      "INFO:mlm_insights.core.metrics:Calculated Min metric, value: 1.0\n",
      "INFO:mlm_insights.core.sfcs:getting SFCMetaData(klass=<class 'mlm_insights.core.sfcs.descriptive_statistics_sfc.DescriptiveStatisticsSFC'>, config={}) sfc from sfc meta data\n",
      "INFO:mlm_insights.core.sfcs:getting SFCMetaData(klass=<class 'mlm_insights.core.sfcs.frequent_items_sfc.FrequentItemsSFC'>, config={}) sfc from sfc meta data\n",
      "INFO:mlm_insights.core.sfcs:Getting top 2 frequent items\n",
      "INFO:mlm_insights.core.sfcs:Getting list of all frequent items\n",
      "INFO:mlm_insights.core.metrics:Calculated IsConstantFeature metric, value: True\n",
      "INFO:mlm_insights.core.sfcs:getting SFCMetaData(klass=<class 'mlm_insights.core.sfcs.quantiles_sfc.QuantilesSFC'>, config={}) sfc from sfc meta data\n",
      "INFO:mlm_insights.core.sfcs:getting quantiles from sketch for rank 0.75\n",
      "INFO:mlm_insights.core.sfcs:getting quantiles from sketch for rank 0.25\n",
      "INFO:mlm_insights.core.metrics:Calculated IQR metric, value: 0.0\n",
      "INFO:mlm_insights.core.sfcs:getting quantiles from sketch for rank 0.75\n",
      "INFO:mlm_insights.core.sfcs:getting quantiles from sketch for rank 0.25\n",
      "INFO:mlm_insights.core.sfcs:getting SFCMetaData(klass=<class 'mlm_insights.core.sfcs.descriptive_statistics_sfc.DescriptiveStatisticsSFC'>, config={}) sfc from sfc meta data\n",
      "INFO:mlm_insights.core.metrics:Calculated Range metric, value: 0.0\n",
      "INFO:mlm_insights.core.sfcs:getting SFCMetaData(klass=<class 'mlm_insights.core.sfcs.quantiles_sfc.QuantilesSFC'>, config={}) sfc from sfc meta data\n",
      "INFO:mlm_insights.core.metrics:Calculated ProbabilityDistribution metric, value: {'bins': [1.0], 'density': [1.0]}\n",
      "INFO:mlm_insights.core.sfcs:getting SFCMetaData(klass=<class 'mlm_insights.core.sfcs.descriptive_statistics_sfc.DescriptiveStatisticsSFC'>, config={}) sfc from sfc meta data\n",
      "INFO:mlm_insights.core.metrics:Calculated Variance metric, value: 0.0\n",
      "INFO:mlm_insights.core.sfcs:getting SFCMetaData(klass=<class 'mlm_insights.core.sfcs.descriptive_statistics_sfc.DescriptiveStatisticsSFC'>, config={}) sfc from sfc meta data\n",
      "INFO:mlm_insights.core.metrics:Calculated TypeMetric metric, value: {'string_type_count': 0, 'integral_type_count': 100, 'fractional_type_count': 0, 'boolean_type_count': 0}\n",
      "INFO:mlm_insights.core.sfcs:getting SFCMetaData(klass=<class 'mlm_insights.core.sfcs.quantiles_sfc.QuantilesSFC'>, config={}) sfc from sfc meta data\n",
      "INFO:mlm_insights.core.metrics:Calculated FrequencyDistribution metric, value: {'bins': [1.0], 'frequency': [100]}\n",
      "INFO:mlm_insights.core.metrics:Calculated Count metric, value: {'total_count': 100.0, 'missing_count': 0.0, 'missing_count_percentage': 0.0}\n",
      "INFO:mlm_insights.core.sfcs:getting SFCMetaData(klass=<class 'mlm_insights.core.sfcs.descriptive_statistics_sfc.DescriptiveStatisticsSFC'>, config={}) sfc from sfc meta data\n",
      "INFO:mlm_insights.core.metrics:Calculated Max metric, value: 1.0\n",
      "INFO:mlm_insights.core.sfcs:getting SFCMetaData(klass=<class 'mlm_insights.core.sfcs.descriptive_statistics_sfc.DescriptiveStatisticsSFC'>, config={}) sfc from sfc meta data\n",
      "INFO:mlm_insights.core.sfcs:getting SFCMetaData(klass=<class 'mlm_insights.core.sfcs.distinct_count_sfc.DistinctCountSFC'>, config={}) sfc from sfc meta data\n",
      "INFO:mlm_insights.core.sfcs:getting SFCMetaData(klass=<class 'mlm_insights.core.sfcs.frequent_items_sfc.FrequentItemsSFC'>, config={}) sfc from sfc meta data\n",
      "INFO:mlm_insights.core.sfcs:Getting total count of input data\n",
      "INFO:mlm_insights.core.sfcs:Calculated cardinality = 1.0 in Distinct count SFC, upper bound = 1.000049929250618, lower bound = 1.0\n",
      "INFO:mlm_insights.core.metrics:Calculated DistinctCount metric, value: 1.0\n",
      "INFO:mlm_insights.core.metrics:Calculated Sum metric, value: 100.0\n",
      "INFO:mlm_insights.core.sfcs:getting SFCMetaData(klass=<class 'mlm_insights.core.sfcs.frequent_items_sfc.FrequentItemsSFC'>, config={}) sfc from sfc meta data\n",
      "INFO:mlm_insights.core.sfcs:Getting list of all frequent items\n",
      "INFO:mlm_insights.core.metrics:Calculated IsQuasiConstantFeature metric, value: True\n",
      "INFO:mlm_insights.core.sfcs:getting SFCMetaData(klass=<class 'mlm_insights.core.sfcs.quantiles_sfc.QuantilesSFC'>, config={}) sfc from sfc meta data\n",
      "INFO:mlm_insights.core.sfcs:getting quantiles from sketch for rank 0.25\n",
      "INFO:mlm_insights.core.sfcs:getting quantiles from sketch for rank 0.5\n",
      "INFO:mlm_insights.core.sfcs:getting quantiles from sketch for rank 0.75\n",
      "INFO:mlm_insights.core.metrics:Calculated Quartiles metric, value: {'q1': 1.0, 'q2': 1.0, 'q3': 1.0}\n",
      "INFO:mlm_insights.core.sfcs:getting SFCMetaData(klass=<class 'mlm_insights.core.sfcs.descriptive_statistics_sfc.DescriptiveStatisticsSFC'>, config={}) sfc from sfc meta data\n",
      "INFO:mlm_insights.core.metrics:Calculated Mean metric, value: 1.0\n",
      "INFO:mlm_insights.core.sfcs:getting SFCMetaData(klass=<class 'mlm_insights.core.sfcs.descriptive_statistics_sfc.DescriptiveStatisticsSFC'>, config={}) sfc from sfc meta data\n",
      "INFO:mlm_insights.core.sfcs:getting SFCMetaData(klass=<class 'mlm_insights.core.sfcs.descriptive_statistics_sfc.DescriptiveStatisticsSFC'>, config={}) sfc from sfc meta data\n",
      "INFO:mlm_insights.core.metrics:Calculated Kurtosis metric, value: None\n",
      "INFO:mlm_insights.core.sfcs:getting SFCMetaData(klass=<class 'mlm_insights.core.sfcs.descriptive_statistics_sfc.DescriptiveStatisticsSFC'>, config={}) sfc from sfc meta data\n",
      "INFO:mlm_insights.core.sfcs:getting SFCMetaData(klass=<class 'mlm_insights.core.sfcs.descriptive_statistics_sfc.DescriptiveStatisticsSFC'>, config={}) sfc from sfc meta data\n",
      "INFO:mlm_insights.core.metrics:Calculated Skewness metric, value: None\n",
      "INFO:mlm_insights.core.sfcs:getting SFCMetaData(klass=<class 'mlm_insights.core.sfcs.descriptive_statistics_sfc.DescriptiveStatisticsSFC'>, config={}) sfc from sfc meta data\n",
      "INFO:mlm_insights.core.sfcs:getting SFCMetaData(klass=<class 'mlm_insights.core.sfcs.descriptive_statistics_sfc.DescriptiveStatisticsSFC'>, config={}) sfc from sfc meta data\n",
      "INFO:mlm_insights.core.metrics:Creating StandardDeviation metric, value: 0.0\n",
      "INFO:mlm_insights.core.sfcs:getting SFCMetaData(klass=<class 'mlm_insights.core.sfcs.descriptive_statistics_sfc.DescriptiveStatisticsSFC'>, config={}) sfc from sfc meta data\n",
      "INFO:mlm_insights.core.sfcs:getting SFCMetaData(klass=<class 'mlm_insights.core.sfcs.descriptive_statistics_sfc.DescriptiveStatisticsSFC'>, config={}) sfc from sfc meta data\n",
      "INFO:mlm_insights.core.metrics:Calculated Min metric, value: 1.0\n",
      "INFO:mlm_insights.core.sfcs:getting SFCMetaData(klass=<class 'mlm_insights.core.sfcs.descriptive_statistics_sfc.DescriptiveStatisticsSFC'>, config={}) sfc from sfc meta data\n",
      "INFO:mlm_insights.core.sfcs:getting SFCMetaData(klass=<class 'mlm_insights.core.sfcs.frequent_items_sfc.FrequentItemsSFC'>, config={}) sfc from sfc meta data\n",
      "INFO:mlm_insights.core.sfcs:Getting top 2 frequent items\n",
      "INFO:mlm_insights.core.sfcs:Getting list of all frequent items\n",
      "INFO:mlm_insights.core.metrics:Calculated IsConstantFeature metric, value: True\n",
      "INFO:mlm_insights.core.sfcs:getting SFCMetaData(klass=<class 'mlm_insights.core.sfcs.quantiles_sfc.QuantilesSFC'>, config={}) sfc from sfc meta data\n",
      "INFO:mlm_insights.core.sfcs:getting quantiles from sketch for rank 0.75\n",
      "INFO:mlm_insights.core.sfcs:getting quantiles from sketch for rank 0.25\n",
      "INFO:mlm_insights.core.metrics:Calculated IQR metric, value: 0.0\n",
      "INFO:mlm_insights.core.sfcs:getting quantiles from sketch for rank 0.75\n",
      "INFO:mlm_insights.core.sfcs:getting quantiles from sketch for rank 0.25\n",
      "INFO:mlm_insights.core.sfcs:getting SFCMetaData(klass=<class 'mlm_insights.core.sfcs.descriptive_statistics_sfc.DescriptiveStatisticsSFC'>, config={}) sfc from sfc meta data\n",
      "INFO:mlm_insights.core.metrics:Calculated Range metric, value: 0.0\n",
      "INFO:mlm_insights.core.sfcs:getting SFCMetaData(klass=<class 'mlm_insights.core.sfcs.quantiles_sfc.QuantilesSFC'>, config={}) sfc from sfc meta data\n",
      "INFO:mlm_insights.core.metrics:Calculated ProbabilityDistribution metric, value: {'bins': [1.0], 'density': [1.0]}\n",
      "INFO:mlm_insights.core.sfcs:getting SFCMetaData(klass=<class 'mlm_insights.core.sfcs.descriptive_statistics_sfc.DescriptiveStatisticsSFC'>, config={}) sfc from sfc meta data\n",
      "INFO:mlm_insights.core.metrics:Calculated Variance metric, value: 0.0\n",
      "INFO:mlm_insights.core.sfcs:getting SFCMetaData(klass=<class 'mlm_insights.core.sfcs.descriptive_statistics_sfc.DescriptiveStatisticsSFC'>, config={}) sfc from sfc meta data\n",
      "INFO:mlm_insights.core.metrics:Calculated TypeMetric metric, value: {'string_type_count': 0, 'integral_type_count': 100, 'fractional_type_count': 0, 'boolean_type_count': 0}\n",
      "INFO:mlm_insights.core.sfcs:getting SFCMetaData(klass=<class 'mlm_insights.core.sfcs.quantiles_sfc.QuantilesSFC'>, config={}) sfc from sfc meta data\n",
      "INFO:mlm_insights.core.metrics:Calculated FrequencyDistribution metric, value: {'bins': [1.0], 'frequency': [100]}\n",
      "INFO:mlm_insights.core.metrics:Calculated Count metric, value: {'total_count': 100.0, 'missing_count': 0.0, 'missing_count_percentage': 0.0}\n",
      "INFO:mlm_insights.core.sfcs:getting SFCMetaData(klass=<class 'mlm_insights.core.sfcs.descriptive_statistics_sfc.DescriptiveStatisticsSFC'>, config={}) sfc from sfc meta data\n",
      "INFO:mlm_insights.core.metrics:Calculated Max metric, value: 1.0\n",
      "INFO:mlm_insights.core.sfcs:getting SFCMetaData(klass=<class 'mlm_insights.core.sfcs.descriptive_statistics_sfc.DescriptiveStatisticsSFC'>, config={}) sfc from sfc meta data\n",
      "INFO:mlm_insights.core.sfcs:getting SFCMetaData(klass=<class 'mlm_insights.core.sfcs.distinct_count_sfc.DistinctCountSFC'>, config={}) sfc from sfc meta data\n",
      "INFO:mlm_insights.core.sfcs:getting SFCMetaData(klass=<class 'mlm_insights.core.sfcs.frequent_items_sfc.FrequentItemsSFC'>, config={}) sfc from sfc meta data\n",
      "INFO:mlm_insights.core.sfcs:Getting total count of input data\n",
      "INFO:mlm_insights.core.sfcs:Calculated cardinality = 1.0 in Distinct count SFC, upper bound = 1.000049929250618, lower bound = 1.0\n",
      "INFO:mlm_insights.core.metrics:Calculated DistinctCount metric, value: 1.0\n",
      "INFO:mlm_insights.core.metrics:Calculated Sum metric, value: 100.0\n",
      "INFO:mlm_insights.core.sfcs:getting SFCMetaData(klass=<class 'mlm_insights.core.sfcs.frequent_items_sfc.FrequentItemsSFC'>, config={}) sfc from sfc meta data\n",
      "INFO:mlm_insights.core.sfcs:Getting list of all frequent items\n",
      "INFO:mlm_insights.core.metrics:Calculated IsQuasiConstantFeature metric, value: True\n",
      "INFO:mlm_insights.core.sfcs:getting SFCMetaData(klass=<class 'mlm_insights.core.sfcs.quantiles_sfc.QuantilesSFC'>, config={}) sfc from sfc meta data\n",
      "INFO:mlm_insights.core.sfcs:getting quantiles from sketch for rank 0.25\n",
      "INFO:mlm_insights.core.sfcs:getting quantiles from sketch for rank 0.5\n",
      "INFO:mlm_insights.core.sfcs:getting quantiles from sketch for rank 0.75\n",
      "INFO:mlm_insights.core.metrics:Calculated Quartiles metric, value: {'q1': 1.0, 'q2': 1.0, 'q3': 1.0}\n",
      "INFO:mlm_insights.core.sfcs:getting SFCMetaData(klass=<class 'mlm_insights.core.sfcs.descriptive_statistics_sfc.DescriptiveStatisticsSFC'>, config={}) sfc from sfc meta data\n",
      "INFO:mlm_insights.core.metrics:Calculated Mean metric, value: 1.0\n",
      "INFO:mlm_insights.core.sfcs:getting SFCMetaData(klass=<class 'mlm_insights.core.sfcs.descriptive_statistics_sfc.DescriptiveStatisticsSFC'>, config={}) sfc from sfc meta data\n",
      "INFO:mlm_insights.core.sfcs:getting SFCMetaData(klass=<class 'mlm_insights.core.sfcs.descriptive_statistics_sfc.DescriptiveStatisticsSFC'>, config={}) sfc from sfc meta data\n",
      "INFO:mlm_insights.core.metrics:Calculated Kurtosis metric, value: None\n",
      "INFO:mlm_insights.core.sfcs:getting SFCMetaData(klass=<class 'mlm_insights.core.sfcs.descriptive_statistics_sfc.DescriptiveStatisticsSFC'>, config={}) sfc from sfc meta data\n",
      "INFO:mlm_insights.core.sfcs:getting SFCMetaData(klass=<class 'mlm_insights.core.sfcs.descriptive_statistics_sfc.DescriptiveStatisticsSFC'>, config={}) sfc from sfc meta data\n",
      "INFO:mlm_insights.core.metrics:Calculated Skewness metric, value: None\n",
      "INFO:mlm_insights.core.sfcs:getting SFCMetaData(klass=<class 'mlm_insights.core.sfcs.descriptive_statistics_sfc.DescriptiveStatisticsSFC'>, config={}) sfc from sfc meta data\n",
      "INFO:mlm_insights.core.sfcs:getting SFCMetaData(klass=<class 'mlm_insights.core.sfcs.descriptive_statistics_sfc.DescriptiveStatisticsSFC'>, config={}) sfc from sfc meta data\n",
      "INFO:mlm_insights.core.metrics:Creating StandardDeviation metric, value: 0.0\n",
      "INFO:mlm_insights.core.sfcs:getting SFCMetaData(klass=<class 'mlm_insights.core.sfcs.descriptive_statistics_sfc.DescriptiveStatisticsSFC'>, config={}) sfc from sfc meta data\n",
      "INFO:mlm_insights.core.sfcs:getting SFCMetaData(klass=<class 'mlm_insights.core.sfcs.descriptive_statistics_sfc.DescriptiveStatisticsSFC'>, config={}) sfc from sfc meta data\n",
      "INFO:mlm_insights.core.metrics:Calculated Min metric, value: 4.0\n",
      "INFO:mlm_insights.core.sfcs:getting SFCMetaData(klass=<class 'mlm_insights.core.sfcs.descriptive_statistics_sfc.DescriptiveStatisticsSFC'>, config={}) sfc from sfc meta data\n",
      "INFO:mlm_insights.core.sfcs:getting SFCMetaData(klass=<class 'mlm_insights.core.sfcs.frequent_items_sfc.FrequentItemsSFC'>, config={}) sfc from sfc meta data\n",
      "INFO:mlm_insights.core.sfcs:Getting top 2 frequent items\n",
      "INFO:mlm_insights.core.sfcs:Getting list of all frequent items\n"
     ]
    },
    {
     "name": "stderr",
     "output_type": "stream",
     "text": [
      "                                                                                \r"
     ]
    },
    {
     "name": "stdout",
     "output_type": "stream",
     "text": [
      "INFO:mlm_insights.core.metrics:Calculated IsConstantFeature metric, value: True\n",
      "INFO:mlm_insights.core.sfcs:getting SFCMetaData(klass=<class 'mlm_insights.core.sfcs.quantiles_sfc.QuantilesSFC'>, config={}) sfc from sfc meta data\n",
      "INFO:mlm_insights.core.sfcs:getting quantiles from sketch for rank 0.75\n",
      "INFO:mlm_insights.core.sfcs:getting quantiles from sketch for rank 0.25\n",
      "INFO:mlm_insights.core.metrics:Calculated IQR metric, value: 0.0\n",
      "INFO:mlm_insights.core.sfcs:getting quantiles from sketch for rank 0.75\n",
      "INFO:mlm_insights.core.sfcs:getting quantiles from sketch for rank 0.25\n",
      "INFO:mlm_insights.core.sfcs:getting SFCMetaData(klass=<class 'mlm_insights.core.sfcs.descriptive_statistics_sfc.DescriptiveStatisticsSFC'>, config={}) sfc from sfc meta data\n",
      "INFO:mlm_insights.core.metrics:Calculated Range metric, value: 0.0\n",
      "INFO:mlm_insights.core.sfcs:getting SFCMetaData(klass=<class 'mlm_insights.core.sfcs.quantiles_sfc.QuantilesSFC'>, config={}) sfc from sfc meta data\n",
      "INFO:mlm_insights.core.metrics:Calculated ProbabilityDistribution metric, value: {'bins': [4.0], 'density': [1.0]}\n",
      "INFO:mlm_insights.core.sfcs:getting SFCMetaData(klass=<class 'mlm_insights.core.sfcs.descriptive_statistics_sfc.DescriptiveStatisticsSFC'>, config={}) sfc from sfc meta data\n",
      "INFO:mlm_insights.core.metrics:Calculated Variance metric, value: 0.0\n",
      "INFO:mlm_insights.core.sfcs:getting SFCMetaData(klass=<class 'mlm_insights.core.sfcs.descriptive_statistics_sfc.DescriptiveStatisticsSFC'>, config={}) sfc from sfc meta data\n",
      "INFO:mlm_insights.core.metrics:Calculated TypeMetric metric, value: {'string_type_count': 0, 'integral_type_count': 100, 'fractional_type_count': 0, 'boolean_type_count': 0}\n",
      "INFO:mlm_insights.core.sfcs:getting SFCMetaData(klass=<class 'mlm_insights.core.sfcs.quantiles_sfc.QuantilesSFC'>, config={}) sfc from sfc meta data\n",
      "INFO:mlm_insights.core.metrics:Calculated FrequencyDistribution metric, value: {'bins': [4.0], 'frequency': [100]}\n",
      "INFO:mlm_insights.core.metrics:Calculated Count metric, value: {'total_count': 100.0, 'missing_count': 0.0, 'missing_count_percentage': 0.0}\n",
      "INFO:mlm_insights.core.sfcs:getting SFCMetaData(klass=<class 'mlm_insights.core.sfcs.descriptive_statistics_sfc.DescriptiveStatisticsSFC'>, config={}) sfc from sfc meta data\n",
      "INFO:mlm_insights.core.metrics:Calculated Max metric, value: 4.0\n",
      "INFO:mlm_insights.core.sfcs:getting SFCMetaData(klass=<class 'mlm_insights.core.sfcs.descriptive_statistics_sfc.DescriptiveStatisticsSFC'>, config={}) sfc from sfc meta data\n",
      "INFO:mlm_insights.core.sfcs:getting SFCMetaData(klass=<class 'mlm_insights.core.sfcs.distinct_count_sfc.DistinctCountSFC'>, config={}) sfc from sfc meta data\n",
      "INFO:mlm_insights.core.sfcs:getting SFCMetaData(klass=<class 'mlm_insights.core.sfcs.frequent_items_sfc.FrequentItemsSFC'>, config={}) sfc from sfc meta data\n",
      "INFO:mlm_insights.core.sfcs:Getting total count of input data\n",
      "INFO:mlm_insights.core.sfcs:Calculated cardinality = 1.0 in Distinct count SFC, upper bound = 1.000049929250618, lower bound = 1.0\n",
      "INFO:mlm_insights.core.metrics:Calculated DistinctCount metric, value: 1.0\n",
      "INFO:mlm_insights.core.metrics:Calculated Sum metric, value: 400.0\n",
      "INFO:mlm_insights.core.sfcs:getting SFCMetaData(klass=<class 'mlm_insights.core.sfcs.frequent_items_sfc.FrequentItemsSFC'>, config={}) sfc from sfc meta data\n",
      "INFO:mlm_insights.core.sfcs:Getting list of all frequent items\n",
      "INFO:mlm_insights.core.metrics:Calculated IsQuasiConstantFeature metric, value: True\n",
      "INFO:mlm_insights.core.sfcs:getting SFCMetaData(klass=<class 'mlm_insights.core.sfcs.quantiles_sfc.QuantilesSFC'>, config={}) sfc from sfc meta data\n",
      "INFO:mlm_insights.core.sfcs:getting quantiles from sketch for rank 0.25\n",
      "INFO:mlm_insights.core.sfcs:getting quantiles from sketch for rank 0.5\n",
      "INFO:mlm_insights.core.sfcs:getting quantiles from sketch for rank 0.75\n",
      "INFO:mlm_insights.core.metrics:Calculated Quartiles metric, value: {'q1': 4.0, 'q2': 4.0, 'q3': 4.0}\n",
      "INFO:mlm_insights.core.sfcs:getting SFCMetaData(klass=<class 'mlm_insights.core.sfcs.descriptive_statistics_sfc.DescriptiveStatisticsSFC'>, config={}) sfc from sfc meta data\n",
      "INFO:mlm_insights.core.metrics:Calculated Mean metric, value: 4.0\n",
      "INFO:mlm_insights.core.sfcs:getting SFCMetaData(klass=<class 'mlm_insights.core.sfcs.descriptive_statistics_sfc.DescriptiveStatisticsSFC'>, config={}) sfc from sfc meta data\n",
      "INFO:mlm_insights.core.sfcs:getting SFCMetaData(klass=<class 'mlm_insights.core.sfcs.descriptive_statistics_sfc.DescriptiveStatisticsSFC'>, config={}) sfc from sfc meta data\n",
      "INFO:mlm_insights.core.metrics:Calculated Kurtosis metric, value: None\n",
      "INFO:mlm_insights.core.sfcs:getting SFCMetaData(klass=<class 'mlm_insights.core.sfcs.descriptive_statistics_sfc.DescriptiveStatisticsSFC'>, config={}) sfc from sfc meta data\n",
      "INFO:mlm_insights.core.metrics:Calculated Count metric, value: {'total_count': 100.0, 'missing_count': 0.0, 'missing_count_percentage': 0.0}\n",
      "INFO:mlm_insights.core.sfcs:getting SFCMetaData(klass=<class 'mlm_insights.core.sfcs.frequent_items_sfc.FrequentItemsSFC'>, config={}) sfc from sfc meta data\n",
      "INFO:mlm_insights.core.sfcs:Getting top 10 frequent items\n",
      "INFO:mlm_insights.core.sfcs:Getting list of all frequent items\n",
      "INFO:mlm_insights.core.metrics:Calculated TopKFrequentElements metric, value: [FrequentItemEstimate(value='AA', estimate=14, lower_bound=14, upper_bound=14), FrequentItemEstimate(value='B6', estimate=12, lower_bound=12, upper_bound=12), FrequentItemEstimate(value='UA', estimate=11, lower_bound=11, upper_bound=11), FrequentItemEstimate(value='AS', estimate=11, lower_bound=11, upper_bound=11), FrequentItemEstimate(value='NK', estimate=11, lower_bound=11, upper_bound=11), FrequentItemEstimate(value='DL', estimate=11, lower_bound=11, upper_bound=11), FrequentItemEstimate(value='US', estimate=8, lower_bound=8, upper_bound=8), FrequentItemEstimate(value='OO', estimate=8, lower_bound=8, upper_bound=8), FrequentItemEstimate(value='EV', estimate=7, lower_bound=7, upper_bound=7), FrequentItemEstimate(value='HA', estimate=5, lower_bound=5, upper_bound=5)]\n",
      "INFO:mlm_insights.core.sfcs:getting SFCMetaData(klass=<class 'mlm_insights.core.sfcs.frequent_items_sfc.FrequentItemsSFC'>, config={}) sfc from sfc meta data\n",
      "INFO:mlm_insights.core.sfcs:Getting top 10 frequent items\n",
      "INFO:mlm_insights.core.sfcs:Getting list of all frequent items\n",
      "INFO:mlm_insights.core.metrics:Calculated TypeMetric metric, value: {'string_type_count': 100, 'integral_type_count': 0, 'fractional_type_count': 0, 'boolean_type_count': 0}\n",
      "INFO:mlm_insights.core.sfcs:getting SFCMetaData(klass=<class 'mlm_insights.core.sfcs.distinct_count_sfc.DistinctCountSFC'>, config={}) sfc from sfc meta data\n",
      "INFO:mlm_insights.core.sfcs:getting SFCMetaData(klass=<class 'mlm_insights.core.sfcs.frequent_items_sfc.FrequentItemsSFC'>, config={}) sfc from sfc meta data\n",
      "INFO:mlm_insights.core.sfcs:Calculated cardinality = 12.000000327825557 in Distinct count SFC, upper bound = 12.000599478849342, lower bound = 12.0\n",
      "INFO:mlm_insights.core.sfcs:Getting total count of input data\n",
      "INFO:mlm_insights.core.metrics:Calculated DuplicateCount metric, value: {'count': 88, 'percentage': 88.0}\n",
      "INFO:mlm_insights.core.sfcs:getting SFCMetaData(klass=<class 'mlm_insights.core.sfcs.frequent_items_sfc.FrequentItemsSFC'>, config={}) sfc from sfc meta data\n",
      "INFO:mlm_insights.core.sfcs:Getting top 2 frequent items\n",
      "INFO:mlm_insights.core.sfcs:Getting list of all frequent items\n",
      "INFO:mlm_insights.core.metrics:Calculated Mode metric, value: ['AA']\n",
      "INFO:mlm_insights.core.sfcs:getting SFCMetaData(klass=<class 'mlm_insights.core.sfcs.distinct_count_sfc.DistinctCountSFC'>, config={}) sfc from sfc meta data\n",
      "INFO:mlm_insights.core.sfcs:getting SFCMetaData(klass=<class 'mlm_insights.core.sfcs.frequent_items_sfc.FrequentItemsSFC'>, config={}) sfc from sfc meta data\n",
      "INFO:mlm_insights.core.sfcs:Getting total count of input data\n",
      "INFO:mlm_insights.core.sfcs:Calculated cardinality = 12.000000327825557 in Distinct count SFC, upper bound = 12.000599478849342, lower bound = 12.0\n",
      "INFO:mlm_insights.core.metrics:Calculated DistinctCount metric, value: 12.000000327825557\n",
      "INFO:mlm_insights.core.sfcs:getting SFCMetaData(klass=<class 'mlm_insights.core.sfcs.descriptive_statistics_sfc.DescriptiveStatisticsSFC'>, config={}) sfc from sfc meta data\n",
      "INFO:mlm_insights.core.metrics:Calculated Skewness metric, value: 1.5452988004009884\n",
      "INFO:mlm_insights.core.sfcs:getting SFCMetaData(klass=<class 'mlm_insights.core.sfcs.descriptive_statistics_sfc.DescriptiveStatisticsSFC'>, config={}) sfc from sfc meta data\n",
      "INFO:mlm_insights.core.sfcs:getting SFCMetaData(klass=<class 'mlm_insights.core.sfcs.descriptive_statistics_sfc.DescriptiveStatisticsSFC'>, config={}) sfc from sfc meta data\n",
      "INFO:mlm_insights.core.metrics:Creating StandardDeviation metric, value: 1873.257011170651\n",
      "INFO:mlm_insights.core.sfcs:getting SFCMetaData(klass=<class 'mlm_insights.core.sfcs.descriptive_statistics_sfc.DescriptiveStatisticsSFC'>, config={}) sfc from sfc meta data\n",
      "INFO:mlm_insights.core.sfcs:getting SFCMetaData(klass=<class 'mlm_insights.core.sfcs.descriptive_statistics_sfc.DescriptiveStatisticsSFC'>, config={}) sfc from sfc meta data\n",
      "INFO:mlm_insights.core.metrics:Calculated Min metric, value: 17.0\n",
      "INFO:mlm_insights.core.sfcs:getting SFCMetaData(klass=<class 'mlm_insights.core.sfcs.descriptive_statistics_sfc.DescriptiveStatisticsSFC'>, config={}) sfc from sfc meta data\n",
      "INFO:mlm_insights.core.sfcs:getting SFCMetaData(klass=<class 'mlm_insights.core.sfcs.frequent_items_sfc.FrequentItemsSFC'>, config={}) sfc from sfc meta data\n",
      "INFO:mlm_insights.core.sfcs:Getting top 2 frequent items\n",
      "INFO:mlm_insights.core.sfcs:Getting list of all frequent items\n",
      "INFO:mlm_insights.core.metrics:Calculated IsConstantFeature metric, value: False\n",
      "INFO:mlm_insights.core.sfcs:getting SFCMetaData(klass=<class 'mlm_insights.core.sfcs.quantiles_sfc.QuantilesSFC'>, config={}) sfc from sfc meta data\n",
      "INFO:mlm_insights.core.sfcs:getting quantiles from sketch for rank 0.75\n",
      "INFO:mlm_insights.core.sfcs:getting quantiles from sketch for rank 0.25\n",
      "INFO:mlm_insights.core.metrics:Calculated IQR metric, value: 1905.0\n",
      "INFO:mlm_insights.core.sfcs:getting quantiles from sketch for rank 0.75\n",
      "INFO:mlm_insights.core.sfcs:getting quantiles from sketch for rank 0.25\n",
      "INFO:mlm_insights.core.sfcs:getting SFCMetaData(klass=<class 'mlm_insights.core.sfcs.descriptive_statistics_sfc.DescriptiveStatisticsSFC'>, config={}) sfc from sfc meta data\n",
      "INFO:mlm_insights.core.metrics:Calculated Range metric, value: 7402.0\n",
      "INFO:mlm_insights.core.sfcs:getting SFCMetaData(klass=<class 'mlm_insights.core.sfcs.quantiles_sfc.QuantilesSFC'>, config={}) sfc from sfc meta data\n",
      "INFO:mlm_insights.core.metrics:Calculated ProbabilityDistribution metric, value: {'bins': [17.0, 272.2413793103448, 527.4827586206897, 782.7241379310344, 1037.9655172413793, 1293.2068965517242, 1548.4482758620688, 1803.6896551724137, 2058.9310344827586, 2314.1724137931033, 2569.4137931034484, 2824.655172413793, 3079.8965517241377, 3335.137931034483, 3590.3793103448274, 3845.6206896551726, 4100.862068965517, 4356.103448275862, 4611.3448275862065, 4866.586206896552, 5121.827586206897, 5377.068965517241, 5632.310344827586, 5887.551724137931, 6142.793103448275, 6398.0344827586205, 6653.275862068966, 6908.517241379311, 7163.758620689655, 7419.0], 'density': [0.22, 0.1, 0.10999999999999999, 0.04999999999999999, 0.08999999999999997, 0.07000000000000006, 0.040000000000000036, 0.039999999999999925, 0.040000000000000036, 0.06999999999999995, 0.010000000000000009, 0.010000000000000009, 0.0, 0.0, 0.0, 0.0, 0.010000000000000009, 0.010000000000000009, 0.010000000000000009, 0.0, 0.030000000000000027, 0.039999999999999925, 0.010000000000000009, 0.0, 0.010000000000000009, 0.0, 0.0, 0.0, 0.020000000000000018, 0.010000000000000009]}\n",
      "INFO:mlm_insights.core.sfcs:getting SFCMetaData(klass=<class 'mlm_insights.core.sfcs.descriptive_statistics_sfc.DescriptiveStatisticsSFC'>, config={}) sfc from sfc meta data\n",
      "INFO:mlm_insights.core.metrics:Calculated Variance metric, value: 3509091.8299000002\n",
      "INFO:mlm_insights.core.sfcs:getting SFCMetaData(klass=<class 'mlm_insights.core.sfcs.descriptive_statistics_sfc.DescriptiveStatisticsSFC'>, config={}) sfc from sfc meta data\n",
      "INFO:mlm_insights.core.metrics:Calculated TypeMetric metric, value: {'string_type_count': 0, 'integral_type_count': 100, 'fractional_type_count': 0, 'boolean_type_count': 0}\n",
      "INFO:mlm_insights.core.sfcs:getting SFCMetaData(klass=<class 'mlm_insights.core.sfcs.quantiles_sfc.QuantilesSFC'>, config={}) sfc from sfc meta data\n",
      "INFO:mlm_insights.core.metrics:Calculated FrequencyDistribution metric, value: {'bins': [17.0, 272.2413793103448, 527.4827586206897, 782.7241379310344, 1037.9655172413793, 1293.2068965517242, 1548.4482758620688, 1803.6896551724137, 2058.9310344827586, 2314.1724137931033, 2569.4137931034484, 2824.655172413793, 3079.8965517241377, 3335.137931034483, 3590.3793103448274, 3845.6206896551726, 4100.862068965517, 4356.103448275862, 4611.3448275862065, 4866.586206896552, 5121.827586206897, 5377.068965517241, 5632.310344827586, 5887.551724137931, 6142.793103448275, 6398.0344827586205, 6653.275862068966, 6908.517241379311, 7163.758620689655, 7419.0], 'frequency': [22, 10, 11, 5, 9, 7, 4, 4, 4, 7, 1, 1, 0, 0, 0, 0, 1, 1, 1, 0, 3, 4, 1, 0, 1, 0, 0, 0, 2, 1]}\n",
      "INFO:mlm_insights.core.metrics:Calculated Count metric, value: {'total_count': 100.0, 'missing_count': 0.0, 'missing_count_percentage': 0.0}\n",
      "INFO:mlm_insights.core.sfcs:getting SFCMetaData(klass=<class 'mlm_insights.core.sfcs.descriptive_statistics_sfc.DescriptiveStatisticsSFC'>, config={}) sfc from sfc meta data\n",
      "INFO:mlm_insights.core.metrics:Calculated Max metric, value: 7419.0\n",
      "INFO:mlm_insights.core.sfcs:getting SFCMetaData(klass=<class 'mlm_insights.core.sfcs.descriptive_statistics_sfc.DescriptiveStatisticsSFC'>, config={}) sfc from sfc meta data\n",
      "INFO:mlm_insights.core.sfcs:getting SFCMetaData(klass=<class 'mlm_insights.core.sfcs.distinct_count_sfc.DistinctCountSFC'>, config={}) sfc from sfc meta data\n",
      "INFO:mlm_insights.core.sfcs:getting SFCMetaData(klass=<class 'mlm_insights.core.sfcs.frequent_items_sfc.FrequentItemsSFC'>, config={}) sfc from sfc meta data\n",
      "INFO:mlm_insights.core.sfcs:Getting total count of input data\n",
      "INFO:mlm_insights.core.sfcs:Calculated cardinality = 96.00002264977122 in Distinct count SFC, upper bound = 96.00481585896145, lower bound = 96.0\n",
      "INFO:mlm_insights.core.metrics:Calculated DistinctCount metric, value: 96.00002264977122\n",
      "INFO:mlm_insights.core.metrics:Calculated Sum metric, value: 171151.0\n",
      "INFO:mlm_insights.core.sfcs:getting SFCMetaData(klass=<class 'mlm_insights.core.sfcs.frequent_items_sfc.FrequentItemsSFC'>, config={}) sfc from sfc meta data\n",
      "INFO:mlm_insights.core.sfcs:Getting list of all frequent items\n",
      "INFO:mlm_insights.core.metrics:Calculated IsQuasiConstantFeature metric, value: False\n",
      "INFO:mlm_insights.core.sfcs:getting SFCMetaData(klass=<class 'mlm_insights.core.sfcs.quantiles_sfc.QuantilesSFC'>, config={}) sfc from sfc meta data\n",
      "INFO:mlm_insights.core.sfcs:getting quantiles from sketch for rank 0.25\n",
      "INFO:mlm_insights.core.sfcs:getting quantiles from sketch for rank 0.5\n",
      "INFO:mlm_insights.core.sfcs:getting quantiles from sketch for rank 0.75\n",
      "INFO:mlm_insights.core.metrics:Calculated Quartiles metric, value: {'q1': 371.0, 'q2': 1162.0, 'q3': 2276.0}\n",
      "INFO:mlm_insights.core.sfcs:getting SFCMetaData(klass=<class 'mlm_insights.core.sfcs.descriptive_statistics_sfc.DescriptiveStatisticsSFC'>, config={}) sfc from sfc meta data\n",
      "INFO:mlm_insights.core.metrics:Calculated Mean metric, value: 1711.51\n",
      "INFO:mlm_insights.core.sfcs:getting SFCMetaData(klass=<class 'mlm_insights.core.sfcs.descriptive_statistics_sfc.DescriptiveStatisticsSFC'>, config={}) sfc from sfc meta data\n",
      "INFO:mlm_insights.core.sfcs:getting SFCMetaData(klass=<class 'mlm_insights.core.sfcs.descriptive_statistics_sfc.DescriptiveStatisticsSFC'>, config={}) sfc from sfc meta data\n",
      "INFO:mlm_insights.core.metrics:Calculated Kurtosis metric, value: 1.5058509315336428\n",
      "INFO:mlm_insights.core.sfcs:getting SFCMetaData(klass=<class 'mlm_insights.core.sfcs.descriptive_statistics_sfc.DescriptiveStatisticsSFC'>, config={}) sfc from sfc meta data\n",
      "INFO:mlm_insights.core.metrics:Calculated Count metric, value: {'total_count': 100.0, 'missing_count': 0.0, 'missing_count_percentage': 0.0}\n",
      "INFO:mlm_insights.core.sfcs:getting SFCMetaData(klass=<class 'mlm_insights.core.sfcs.frequent_items_sfc.FrequentItemsSFC'>, config={}) sfc from sfc meta data\n",
      "INFO:mlm_insights.core.sfcs:Getting top 10 frequent items\n",
      "INFO:mlm_insights.core.sfcs:Getting list of all frequent items\n",
      "INFO:mlm_insights.core.metrics:Calculated TopKFrequentElements metric, value: [FrequentItemEstimate(value='ANC', estimate=10, lower_bound=10, upper_bound=10), FrequentItemEstimate(value='LAS', estimate=9, lower_bound=9, upper_bound=9), FrequentItemEstimate(value='SJU', estimate=6, lower_bound=6, upper_bound=6), FrequentItemEstimate(value='LAX', estimate=6, lower_bound=6, upper_bound=6), FrequentItemEstimate(value='SFO', estimate=5, lower_bound=5, upper_bound=5), FrequentItemEstimate(value='PHX', estimate=5, lower_bound=5, upper_bound=5), FrequentItemEstimate(value='SEA', estimate=5, lower_bound=5, upper_bound=5), FrequentItemEstimate(value='HNL', estimate=4, lower_bound=4, upper_bound=4), FrequentItemEstimate(value='ORD', estimate=4, lower_bound=4, upper_bound=4), FrequentItemEstimate(value='PDX', estimate=3, lower_bound=3, upper_bound=3)]\n",
      "INFO:mlm_insights.core.sfcs:getting SFCMetaData(klass=<class 'mlm_insights.core.sfcs.frequent_items_sfc.FrequentItemsSFC'>, config={}) sfc from sfc meta data\n",
      "INFO:mlm_insights.core.sfcs:Getting top 10 frequent items\n",
      "INFO:mlm_insights.core.sfcs:Getting list of all frequent items\n",
      "INFO:mlm_insights.core.metrics:Calculated TypeMetric metric, value: {'string_type_count': 100, 'integral_type_count': 0, 'fractional_type_count': 0, 'boolean_type_count': 0}\n",
      "INFO:mlm_insights.core.sfcs:getting SFCMetaData(klass=<class 'mlm_insights.core.sfcs.distinct_count_sfc.DistinctCountSFC'>, config={}) sfc from sfc meta data\n",
      "INFO:mlm_insights.core.sfcs:getting SFCMetaData(klass=<class 'mlm_insights.core.sfcs.frequent_items_sfc.FrequentItemsSFC'>, config={}) sfc from sfc meta data\n",
      "INFO:mlm_insights.core.sfcs:Calculated cardinality = 44.000004698833415 in Distinct count SFC, upper bound = 44.00220158609522, lower bound = 44.0\n",
      "INFO:mlm_insights.core.sfcs:Getting total count of input data\n",
      "INFO:mlm_insights.core.metrics:Calculated DuplicateCount metric, value: {'count': 56, 'percentage': 56.00000000000001}\n",
      "INFO:mlm_insights.core.sfcs:getting SFCMetaData(klass=<class 'mlm_insights.core.sfcs.frequent_items_sfc.FrequentItemsSFC'>, config={}) sfc from sfc meta data\n",
      "INFO:mlm_insights.core.sfcs:Getting top 2 frequent items\n",
      "INFO:mlm_insights.core.sfcs:Getting list of all frequent items\n",
      "INFO:mlm_insights.core.metrics:Calculated Mode metric, value: ['ANC']\n",
      "INFO:mlm_insights.core.sfcs:getting SFCMetaData(klass=<class 'mlm_insights.core.sfcs.distinct_count_sfc.DistinctCountSFC'>, config={}) sfc from sfc meta data\n",
      "INFO:mlm_insights.core.sfcs:getting SFCMetaData(klass=<class 'mlm_insights.core.sfcs.frequent_items_sfc.FrequentItemsSFC'>, config={}) sfc from sfc meta data\n",
      "INFO:mlm_insights.core.sfcs:Getting total count of input data\n",
      "INFO:mlm_insights.core.sfcs:Calculated cardinality = 44.000004698833415 in Distinct count SFC, upper bound = 44.00220158609522, lower bound = 44.0\n",
      "INFO:mlm_insights.core.metrics:Calculated DistinctCount metric, value: 44.000004698833415\n",
      "INFO:mlm_insights.core.metrics:Calculated Count metric, value: {'total_count': 100.0, 'missing_count': 0.0, 'missing_count_percentage': 0.0}\n",
      "INFO:mlm_insights.core.sfcs:getting SFCMetaData(klass=<class 'mlm_insights.core.sfcs.frequent_items_sfc.FrequentItemsSFC'>, config={}) sfc from sfc meta data\n",
      "INFO:mlm_insights.core.sfcs:Getting top 10 frequent items\n",
      "INFO:mlm_insights.core.sfcs:Getting list of all frequent items\n",
      "INFO:mlm_insights.core.metrics:Calculated TopKFrequentElements metric, value: [FrequentItemEstimate(value='IAH', estimate=10, lower_bound=10, upper_bound=10), FrequentItemEstimate(value='MIA', estimate=10, lower_bound=10, upper_bound=10), FrequentItemEstimate(value='SEA', estimate=9, lower_bound=9, upper_bound=9), FrequentItemEstimate(value='MSP', estimate=9, lower_bound=9, upper_bound=9), FrequentItemEstimate(value='ATL', estimate=6, lower_bound=6, upper_bound=6), FrequentItemEstimate(value='DFW', estimate=6, lower_bound=6, upper_bound=6), FrequentItemEstimate(value='MCO', estimate=6, lower_bound=6, upper_bound=6), FrequentItemEstimate(value='DEN', estimate=5, lower_bound=5, upper_bound=5), FrequentItemEstimate(value='CLT', estimate=4, lower_bound=4, upper_bound=4), FrequentItemEstimate(value='PHX', estimate=4, lower_bound=4, upper_bound=4)]\n",
      "INFO:mlm_insights.core.sfcs:getting SFCMetaData(klass=<class 'mlm_insights.core.sfcs.frequent_items_sfc.FrequentItemsSFC'>, config={}) sfc from sfc meta data\n",
      "INFO:mlm_insights.core.sfcs:Getting top 10 frequent items\n",
      "INFO:mlm_insights.core.sfcs:Getting list of all frequent items\n",
      "INFO:mlm_insights.core.metrics:Calculated TypeMetric metric, value: {'string_type_count': 100, 'integral_type_count': 0, 'fractional_type_count': 0, 'boolean_type_count': 0}\n",
      "INFO:mlm_insights.core.sfcs:getting SFCMetaData(klass=<class 'mlm_insights.core.sfcs.distinct_count_sfc.DistinctCountSFC'>, config={}) sfc from sfc meta data\n",
      "INFO:mlm_insights.core.sfcs:getting SFCMetaData(klass=<class 'mlm_insights.core.sfcs.frequent_items_sfc.FrequentItemsSFC'>, config={}) sfc from sfc meta data\n",
      "INFO:mlm_insights.core.sfcs:Calculated cardinality = 29.00000201662398 in Distinct count SFC, upper bound = 29.00144996499259, lower bound = 29.0\n",
      "INFO:mlm_insights.core.sfcs:Getting total count of input data\n",
      "INFO:mlm_insights.core.metrics:Calculated DuplicateCount metric, value: {'count': 71, 'percentage': 71.0}\n",
      "INFO:mlm_insights.core.sfcs:getting SFCMetaData(klass=<class 'mlm_insights.core.sfcs.frequent_items_sfc.FrequentItemsSFC'>, config={}) sfc from sfc meta data\n",
      "INFO:mlm_insights.core.sfcs:Getting top 2 frequent items\n",
      "INFO:mlm_insights.core.sfcs:Getting list of all frequent items\n",
      "INFO:mlm_insights.core.metrics:Calculated Mode metric, value: ['IAH', 'MIA']\n",
      "INFO:mlm_insights.core.sfcs:getting SFCMetaData(klass=<class 'mlm_insights.core.sfcs.distinct_count_sfc.DistinctCountSFC'>, config={}) sfc from sfc meta data\n",
      "INFO:mlm_insights.core.sfcs:getting SFCMetaData(klass=<class 'mlm_insights.core.sfcs.frequent_items_sfc.FrequentItemsSFC'>, config={}) sfc from sfc meta data\n",
      "INFO:mlm_insights.core.sfcs:Getting total count of input data\n",
      "INFO:mlm_insights.core.sfcs:Calculated cardinality = 29.00000201662398 in Distinct count SFC, upper bound = 29.00144996499259, lower bound = 29.0\n",
      "INFO:mlm_insights.core.metrics:Calculated DistinctCount metric, value: 29.00000201662398\n",
      "INFO:mlm_insights.core.metrics:Calculated Count metric, value: {'total_count': 100.0, 'missing_count': 100.0, 'missing_count_percentage': 100.0}\n",
      "INFO:mlm_insights.core.sfcs:getting SFCMetaData(klass=<class 'mlm_insights.core.sfcs.frequent_items_sfc.FrequentItemsSFC'>, config={}) sfc from sfc meta data\n",
      "INFO:mlm_insights.core.sfcs:Getting top 10 frequent items\n",
      "INFO:mlm_insights.core.sfcs:Getting list of all frequent items\n",
      "INFO:mlm_insights.core.metrics:Calculated TopKFrequentElements metric, value: []\n",
      "INFO:mlm_insights.core.sfcs:getting SFCMetaData(klass=<class 'mlm_insights.core.sfcs.frequent_items_sfc.FrequentItemsSFC'>, config={}) sfc from sfc meta data\n",
      "INFO:mlm_insights.core.sfcs:Getting top 10 frequent items\n",
      "INFO:mlm_insights.core.sfcs:Getting list of all frequent items\n",
      "INFO:mlm_insights.core.metrics:Calculated TypeMetric metric, value: {'string_type_count': 0, 'integral_type_count': 0, 'fractional_type_count': 0, 'boolean_type_count': 0}\n",
      "INFO:mlm_insights.core.sfcs:getting SFCMetaData(klass=<class 'mlm_insights.core.sfcs.distinct_count_sfc.DistinctCountSFC'>, config={}) sfc from sfc meta data\n",
      "INFO:mlm_insights.core.sfcs:getting SFCMetaData(klass=<class 'mlm_insights.core.sfcs.frequent_items_sfc.FrequentItemsSFC'>, config={}) sfc from sfc meta data\n",
      "INFO:mlm_insights.core.sfcs:Calculated cardinality = 0.0 in Distinct count SFC, upper bound = 0.0, lower bound = 0.0\n",
      "INFO:mlm_insights.core.sfcs:Getting total count of input data\n",
      "INFO:mlm_insights.core.sfcs:getting SFCMetaData(klass=<class 'mlm_insights.core.sfcs.frequent_items_sfc.FrequentItemsSFC'>, config={}) sfc from sfc meta data\n",
      "INFO:mlm_insights.core.sfcs:Getting top 2 frequent items\n",
      "INFO:mlm_insights.core.sfcs:Getting list of all frequent items\n",
      "INFO:mlm_insights.core.metrics:Calculated Mode metric, value: []\n",
      "INFO:mlm_insights.core.sfcs:getting SFCMetaData(klass=<class 'mlm_insights.core.sfcs.distinct_count_sfc.DistinctCountSFC'>, config={}) sfc from sfc meta data\n",
      "INFO:mlm_insights.core.sfcs:getting SFCMetaData(klass=<class 'mlm_insights.core.sfcs.frequent_items_sfc.FrequentItemsSFC'>, config={}) sfc from sfc meta data\n",
      "INFO:mlm_insights.core.sfcs:Getting total count of input data\n",
      "INFO:mlm_insights.core.sfcs:Calculated cardinality = 0.0 in Distinct count SFC, upper bound = 0.0, lower bound = 0.0\n",
      "INFO:mlm_insights.core.metrics:Calculated DistinctCount metric, value: 0.0\n",
      "INFO:mlm_insights.core.metrics:Calculated Count metric, value: {'total_count': 100.0, 'missing_count': 100.0, 'missing_count_percentage': 100.0}\n",
      "INFO:mlm_insights.core.sfcs:getting SFCMetaData(klass=<class 'mlm_insights.core.sfcs.frequent_items_sfc.FrequentItemsSFC'>, config={}) sfc from sfc meta data\n",
      "INFO:mlm_insights.core.sfcs:Getting top 10 frequent items\n",
      "INFO:mlm_insights.core.sfcs:Getting list of all frequent items\n",
      "INFO:mlm_insights.core.metrics:Calculated TopKFrequentElements metric, value: []\n",
      "INFO:mlm_insights.core.sfcs:getting SFCMetaData(klass=<class 'mlm_insights.core.sfcs.frequent_items_sfc.FrequentItemsSFC'>, config={}) sfc from sfc meta data\n",
      "INFO:mlm_insights.core.sfcs:Getting top 10 frequent items\n",
      "INFO:mlm_insights.core.sfcs:Getting list of all frequent items\n",
      "INFO:mlm_insights.core.metrics:Calculated TypeMetric metric, value: {'string_type_count': 0, 'integral_type_count': 0, 'fractional_type_count': 0, 'boolean_type_count': 0}\n",
      "INFO:mlm_insights.core.sfcs:getting SFCMetaData(klass=<class 'mlm_insights.core.sfcs.distinct_count_sfc.DistinctCountSFC'>, config={}) sfc from sfc meta data\n",
      "INFO:mlm_insights.core.sfcs:getting SFCMetaData(klass=<class 'mlm_insights.core.sfcs.frequent_items_sfc.FrequentItemsSFC'>, config={}) sfc from sfc meta data\n",
      "INFO:mlm_insights.core.sfcs:Calculated cardinality = 0.0 in Distinct count SFC, upper bound = 0.0, lower bound = 0.0\n",
      "INFO:mlm_insights.core.sfcs:Getting total count of input data\n",
      "INFO:mlm_insights.core.sfcs:getting SFCMetaData(klass=<class 'mlm_insights.core.sfcs.frequent_items_sfc.FrequentItemsSFC'>, config={}) sfc from sfc meta data\n",
      "INFO:mlm_insights.core.sfcs:Getting top 2 frequent items\n",
      "INFO:mlm_insights.core.sfcs:Getting list of all frequent items\n",
      "INFO:mlm_insights.core.metrics:Calculated Mode metric, value: []\n",
      "INFO:mlm_insights.core.sfcs:getting SFCMetaData(klass=<class 'mlm_insights.core.sfcs.distinct_count_sfc.DistinctCountSFC'>, config={}) sfc from sfc meta data\n",
      "INFO:mlm_insights.core.sfcs:getting SFCMetaData(klass=<class 'mlm_insights.core.sfcs.frequent_items_sfc.FrequentItemsSFC'>, config={}) sfc from sfc meta data\n",
      "INFO:mlm_insights.core.sfcs:Getting total count of input data\n",
      "INFO:mlm_insights.core.sfcs:Calculated cardinality = 0.0 in Distinct count SFC, upper bound = 0.0, lower bound = 0.0\n",
      "INFO:mlm_insights.core.metrics:Calculated DistinctCount metric, value: 0.0\n",
      "INFO:mlm_insights.core.metrics:Calculated Count metric, value: {'total_count': 100.0, 'missing_count': 100.0, 'missing_count_percentage': 100.0}\n",
      "INFO:mlm_insights.core.sfcs:getting SFCMetaData(klass=<class 'mlm_insights.core.sfcs.frequent_items_sfc.FrequentItemsSFC'>, config={}) sfc from sfc meta data\n",
      "INFO:mlm_insights.core.sfcs:Getting top 10 frequent items\n",
      "INFO:mlm_insights.core.sfcs:Getting list of all frequent items\n",
      "INFO:mlm_insights.core.metrics:Calculated TopKFrequentElements metric, value: []\n",
      "INFO:mlm_insights.core.sfcs:getting SFCMetaData(klass=<class 'mlm_insights.core.sfcs.frequent_items_sfc.FrequentItemsSFC'>, config={}) sfc from sfc meta data\n",
      "INFO:mlm_insights.core.sfcs:Getting top 10 frequent items\n",
      "INFO:mlm_insights.core.sfcs:Getting list of all frequent items\n",
      "INFO:mlm_insights.core.metrics:Calculated TypeMetric metric, value: {'string_type_count': 0, 'integral_type_count': 0, 'fractional_type_count': 0, 'boolean_type_count': 0}\n",
      "INFO:mlm_insights.core.sfcs:getting SFCMetaData(klass=<class 'mlm_insights.core.sfcs.distinct_count_sfc.DistinctCountSFC'>, config={}) sfc from sfc meta data\n",
      "INFO:mlm_insights.core.sfcs:getting SFCMetaData(klass=<class 'mlm_insights.core.sfcs.frequent_items_sfc.FrequentItemsSFC'>, config={}) sfc from sfc meta data\n",
      "INFO:mlm_insights.core.sfcs:Calculated cardinality = 0.0 in Distinct count SFC, upper bound = 0.0, lower bound = 0.0\n",
      "INFO:mlm_insights.core.sfcs:Getting total count of input data\n",
      "INFO:mlm_insights.core.sfcs:getting SFCMetaData(klass=<class 'mlm_insights.core.sfcs.frequent_items_sfc.FrequentItemsSFC'>, config={}) sfc from sfc meta data\n",
      "INFO:mlm_insights.core.sfcs:Getting top 2 frequent items\n",
      "INFO:mlm_insights.core.sfcs:Getting list of all frequent items\n",
      "INFO:mlm_insights.core.metrics:Calculated Mode metric, value: []\n",
      "INFO:mlm_insights.core.sfcs:getting SFCMetaData(klass=<class 'mlm_insights.core.sfcs.distinct_count_sfc.DistinctCountSFC'>, config={}) sfc from sfc meta data\n",
      "INFO:mlm_insights.core.sfcs:getting SFCMetaData(klass=<class 'mlm_insights.core.sfcs.frequent_items_sfc.FrequentItemsSFC'>, config={}) sfc from sfc meta data\n",
      "INFO:mlm_insights.core.sfcs:Getting total count of input data\n",
      "INFO:mlm_insights.core.sfcs:Calculated cardinality = 0.0 in Distinct count SFC, upper bound = 0.0, lower bound = 0.0\n",
      "INFO:mlm_insights.core.metrics:Calculated DistinctCount metric, value: 0.0\n",
      "INFO:mlm_insights.core.metrics:Calculated Count metric, value: {'total_count': 100.0, 'missing_count': 100.0, 'missing_count_percentage': 100.0}\n",
      "INFO:mlm_insights.core.sfcs:getting SFCMetaData(klass=<class 'mlm_insights.core.sfcs.frequent_items_sfc.FrequentItemsSFC'>, config={}) sfc from sfc meta data\n",
      "INFO:mlm_insights.core.sfcs:Getting top 10 frequent items\n",
      "INFO:mlm_insights.core.sfcs:Getting list of all frequent items\n",
      "INFO:mlm_insights.core.metrics:Calculated TopKFrequentElements metric, value: []\n",
      "INFO:mlm_insights.core.sfcs:getting SFCMetaData(klass=<class 'mlm_insights.core.sfcs.frequent_items_sfc.FrequentItemsSFC'>, config={}) sfc from sfc meta data\n",
      "INFO:mlm_insights.core.sfcs:Getting top 10 frequent items\n",
      "INFO:mlm_insights.core.sfcs:Getting list of all frequent items\n",
      "INFO:mlm_insights.core.metrics:Calculated TypeMetric metric, value: {'string_type_count': 0, 'integral_type_count': 0, 'fractional_type_count': 0, 'boolean_type_count': 0}\n",
      "INFO:mlm_insights.core.sfcs:getting SFCMetaData(klass=<class 'mlm_insights.core.sfcs.distinct_count_sfc.DistinctCountSFC'>, config={}) sfc from sfc meta data\n",
      "INFO:mlm_insights.core.sfcs:getting SFCMetaData(klass=<class 'mlm_insights.core.sfcs.frequent_items_sfc.FrequentItemsSFC'>, config={}) sfc from sfc meta data\n",
      "INFO:mlm_insights.core.sfcs:Calculated cardinality = 0.0 in Distinct count SFC, upper bound = 0.0, lower bound = 0.0\n",
      "INFO:mlm_insights.core.sfcs:Getting total count of input data\n",
      "INFO:mlm_insights.core.sfcs:getting SFCMetaData(klass=<class 'mlm_insights.core.sfcs.frequent_items_sfc.FrequentItemsSFC'>, config={}) sfc from sfc meta data\n",
      "INFO:mlm_insights.core.sfcs:Getting top 2 frequent items\n",
      "INFO:mlm_insights.core.sfcs:Getting list of all frequent items\n",
      "INFO:mlm_insights.core.metrics:Calculated Mode metric, value: []\n",
      "INFO:mlm_insights.core.sfcs:getting SFCMetaData(klass=<class 'mlm_insights.core.sfcs.distinct_count_sfc.DistinctCountSFC'>, config={}) sfc from sfc meta data\n",
      "INFO:mlm_insights.core.sfcs:getting SFCMetaData(klass=<class 'mlm_insights.core.sfcs.frequent_items_sfc.FrequentItemsSFC'>, config={}) sfc from sfc meta data\n",
      "INFO:mlm_insights.core.sfcs:Getting total count of input data\n",
      "INFO:mlm_insights.core.sfcs:Calculated cardinality = 0.0 in Distinct count SFC, upper bound = 0.0, lower bound = 0.0\n",
      "INFO:mlm_insights.core.metrics:Calculated DistinctCount metric, value: 0.0\n",
      "INFO:mlm_insights.core.metrics:Calculated Count metric, value: {'total_count': 100.0, 'missing_count': 100.0, 'missing_count_percentage': 100.0}\n",
      "INFO:mlm_insights.core.sfcs:getting SFCMetaData(klass=<class 'mlm_insights.core.sfcs.frequent_items_sfc.FrequentItemsSFC'>, config={}) sfc from sfc meta data\n",
      "INFO:mlm_insights.core.sfcs:Getting top 10 frequent items\n",
      "INFO:mlm_insights.core.sfcs:Getting list of all frequent items\n",
      "INFO:mlm_insights.core.metrics:Calculated TopKFrequentElements metric, value: []\n",
      "INFO:mlm_insights.core.sfcs:getting SFCMetaData(klass=<class 'mlm_insights.core.sfcs.frequent_items_sfc.FrequentItemsSFC'>, config={}) sfc from sfc meta data\n",
      "INFO:mlm_insights.core.sfcs:Getting top 10 frequent items\n",
      "INFO:mlm_insights.core.sfcs:Getting list of all frequent items\n",
      "INFO:mlm_insights.core.metrics:Calculated TypeMetric metric, value: {'string_type_count': 0, 'integral_type_count': 0, 'fractional_type_count': 0, 'boolean_type_count': 0}\n",
      "INFO:mlm_insights.core.sfcs:getting SFCMetaData(klass=<class 'mlm_insights.core.sfcs.distinct_count_sfc.DistinctCountSFC'>, config={}) sfc from sfc meta data\n",
      "INFO:mlm_insights.core.sfcs:getting SFCMetaData(klass=<class 'mlm_insights.core.sfcs.frequent_items_sfc.FrequentItemsSFC'>, config={}) sfc from sfc meta data\n",
      "INFO:mlm_insights.core.sfcs:Calculated cardinality = 0.0 in Distinct count SFC, upper bound = 0.0, lower bound = 0.0\n",
      "INFO:mlm_insights.core.sfcs:Getting total count of input data\n",
      "INFO:mlm_insights.core.sfcs:getting SFCMetaData(klass=<class 'mlm_insights.core.sfcs.frequent_items_sfc.FrequentItemsSFC'>, config={}) sfc from sfc meta data\n",
      "INFO:mlm_insights.core.sfcs:Getting top 2 frequent items\n",
      "INFO:mlm_insights.core.sfcs:Getting list of all frequent items\n",
      "INFO:mlm_insights.core.metrics:Calculated Mode metric, value: []\n",
      "INFO:mlm_insights.core.sfcs:getting SFCMetaData(klass=<class 'mlm_insights.core.sfcs.distinct_count_sfc.DistinctCountSFC'>, config={}) sfc from sfc meta data\n",
      "INFO:mlm_insights.core.sfcs:getting SFCMetaData(klass=<class 'mlm_insights.core.sfcs.frequent_items_sfc.FrequentItemsSFC'>, config={}) sfc from sfc meta data\n",
      "INFO:mlm_insights.core.sfcs:Getting total count of input data\n",
      "INFO:mlm_insights.core.sfcs:Calculated cardinality = 0.0 in Distinct count SFC, upper bound = 0.0, lower bound = 0.0\n",
      "INFO:mlm_insights.core.metrics:Calculated DistinctCount metric, value: 0.0\n",
      "INFO:mlm_insights.core.sfcs:getting SFCMetaData(klass=<class 'mlm_insights.core.sfcs.descriptive_statistics_sfc.DescriptiveStatisticsSFC'>, config={}) sfc from sfc meta data\n",
      "INFO:mlm_insights.core.metrics:Calculated Skewness metric, value: None\n",
      "INFO:mlm_insights.core.sfcs:getting SFCMetaData(klass=<class 'mlm_insights.core.sfcs.descriptive_statistics_sfc.DescriptiveStatisticsSFC'>, config={}) sfc from sfc meta data\n",
      "INFO:mlm_insights.core.sfcs:getting SFCMetaData(klass=<class 'mlm_insights.core.sfcs.descriptive_statistics_sfc.DescriptiveStatisticsSFC'>, config={}) sfc from sfc meta data\n",
      "INFO:mlm_insights.core.metrics:Creating StandardDeviation metric, value: None\n",
      "INFO:mlm_insights.core.sfcs:getting SFCMetaData(klass=<class 'mlm_insights.core.sfcs.descriptive_statistics_sfc.DescriptiveStatisticsSFC'>, config={}) sfc from sfc meta data\n",
      "INFO:mlm_insights.core.sfcs:getting SFCMetaData(klass=<class 'mlm_insights.core.sfcs.descriptive_statistics_sfc.DescriptiveStatisticsSFC'>, config={}) sfc from sfc meta data\n",
      "INFO:mlm_insights.core.metrics:Calculated Min metric, value: None\n",
      "INFO:mlm_insights.core.sfcs:getting SFCMetaData(klass=<class 'mlm_insights.core.sfcs.descriptive_statistics_sfc.DescriptiveStatisticsSFC'>, config={}) sfc from sfc meta data\n",
      "INFO:mlm_insights.core.sfcs:getting SFCMetaData(klass=<class 'mlm_insights.core.sfcs.frequent_items_sfc.FrequentItemsSFC'>, config={}) sfc from sfc meta data\n",
      "INFO:mlm_insights.core.sfcs:Getting top 2 frequent items\n",
      "INFO:mlm_insights.core.sfcs:Getting list of all frequent items\n",
      "INFO:mlm_insights.core.metrics:Calculated IsConstantFeature metric, value: False\n",
      "INFO:mlm_insights.core.sfcs:getting SFCMetaData(klass=<class 'mlm_insights.core.sfcs.quantiles_sfc.QuantilesSFC'>, config={}) sfc from sfc meta data\n",
      "INFO:mlm_insights.core.sfcs:getting SFCMetaData(klass=<class 'mlm_insights.core.sfcs.descriptive_statistics_sfc.DescriptiveStatisticsSFC'>, config={}) sfc from sfc meta data\n",
      "INFO:mlm_insights.core.sfcs:getting SFCMetaData(klass=<class 'mlm_insights.core.sfcs.quantiles_sfc.QuantilesSFC'>, config={}) sfc from sfc meta data\n",
      "INFO:mlm_insights.core.sfcs:getting SFCMetaData(klass=<class 'mlm_insights.core.sfcs.descriptive_statistics_sfc.DescriptiveStatisticsSFC'>, config={}) sfc from sfc meta data\n",
      "INFO:mlm_insights.core.metrics:Calculated Variance metric, value: None\n",
      "INFO:mlm_insights.core.sfcs:getting SFCMetaData(klass=<class 'mlm_insights.core.sfcs.descriptive_statistics_sfc.DescriptiveStatisticsSFC'>, config={}) sfc from sfc meta data\n",
      "INFO:mlm_insights.core.metrics:Calculated TypeMetric metric, value: {'string_type_count': 0, 'integral_type_count': 0, 'fractional_type_count': 0, 'boolean_type_count': 0}\n",
      "INFO:mlm_insights.core.sfcs:getting SFCMetaData(klass=<class 'mlm_insights.core.sfcs.quantiles_sfc.QuantilesSFC'>, config={}) sfc from sfc meta data\n",
      "INFO:mlm_insights.core.metrics:Calculated Count metric, value: {'total_count': 100.0, 'missing_count': 100.0, 'missing_count_percentage': 100.0}\n",
      "INFO:mlm_insights.core.sfcs:getting SFCMetaData(klass=<class 'mlm_insights.core.sfcs.descriptive_statistics_sfc.DescriptiveStatisticsSFC'>, config={}) sfc from sfc meta data\n",
      "INFO:mlm_insights.core.metrics:Calculated Max metric, value: None\n",
      "INFO:mlm_insights.core.sfcs:getting SFCMetaData(klass=<class 'mlm_insights.core.sfcs.descriptive_statistics_sfc.DescriptiveStatisticsSFC'>, config={}) sfc from sfc meta data\n",
      "INFO:mlm_insights.core.sfcs:getting SFCMetaData(klass=<class 'mlm_insights.core.sfcs.distinct_count_sfc.DistinctCountSFC'>, config={}) sfc from sfc meta data\n",
      "INFO:mlm_insights.core.sfcs:getting SFCMetaData(klass=<class 'mlm_insights.core.sfcs.frequent_items_sfc.FrequentItemsSFC'>, config={}) sfc from sfc meta data\n",
      "INFO:mlm_insights.core.sfcs:Getting total count of input data\n",
      "INFO:mlm_insights.core.sfcs:Calculated cardinality = 0.0 in Distinct count SFC, upper bound = 0.0, lower bound = 0.0\n",
      "INFO:mlm_insights.core.metrics:Calculated DistinctCount metric, value: 0.0\n",
      "INFO:mlm_insights.core.metrics:Calculated Sum metric, value: 0.0\n",
      "INFO:mlm_insights.core.sfcs:getting SFCMetaData(klass=<class 'mlm_insights.core.sfcs.frequent_items_sfc.FrequentItemsSFC'>, config={}) sfc from sfc meta data\n",
      "INFO:mlm_insights.core.sfcs:Getting list of all frequent items\n",
      "INFO:mlm_insights.core.metrics:Calculated IsQuasiConstantFeature metric, value: True\n",
      "INFO:mlm_insights.core.sfcs:getting SFCMetaData(klass=<class 'mlm_insights.core.sfcs.quantiles_sfc.QuantilesSFC'>, config={}) sfc from sfc meta data\n",
      "INFO:mlm_insights.core.sfcs:getting SFCMetaData(klass=<class 'mlm_insights.core.sfcs.descriptive_statistics_sfc.DescriptiveStatisticsSFC'>, config={}) sfc from sfc meta data\n",
      "INFO:mlm_insights.core.metrics:Calculated Mean metric, value: None\n",
      "INFO:mlm_insights.core.sfcs:getting SFCMetaData(klass=<class 'mlm_insights.core.sfcs.descriptive_statistics_sfc.DescriptiveStatisticsSFC'>, config={}) sfc from sfc meta data\n",
      "INFO:mlm_insights.core.sfcs:getting SFCMetaData(klass=<class 'mlm_insights.core.sfcs.descriptive_statistics_sfc.DescriptiveStatisticsSFC'>, config={}) sfc from sfc meta data\n",
      "INFO:mlm_insights.core.metrics:Calculated Kurtosis metric, value: None\n",
      "INFO:mlm_insights.core.sfcs:getting SFCMetaData(klass=<class 'mlm_insights.core.sfcs.descriptive_statistics_sfc.DescriptiveStatisticsSFC'>, config={}) sfc from sfc meta data\n",
      "INFO:mlm_insights.core.sfcs:getting SFCMetaData(klass=<class 'mlm_insights.core.sfcs.descriptive_statistics_sfc.DescriptiveStatisticsSFC'>, config={}) sfc from sfc meta data\n",
      "INFO:mlm_insights.core.metrics:Calculated Skewness metric, value: None\n",
      "INFO:mlm_insights.core.sfcs:getting SFCMetaData(klass=<class 'mlm_insights.core.sfcs.descriptive_statistics_sfc.DescriptiveStatisticsSFC'>, config={}) sfc from sfc meta data\n",
      "INFO:mlm_insights.core.sfcs:getting SFCMetaData(klass=<class 'mlm_insights.core.sfcs.descriptive_statistics_sfc.DescriptiveStatisticsSFC'>, config={}) sfc from sfc meta data\n",
      "INFO:mlm_insights.core.metrics:Creating StandardDeviation metric, value: None\n",
      "INFO:mlm_insights.core.sfcs:getting SFCMetaData(klass=<class 'mlm_insights.core.sfcs.descriptive_statistics_sfc.DescriptiveStatisticsSFC'>, config={}) sfc from sfc meta data\n",
      "INFO:mlm_insights.core.sfcs:getting SFCMetaData(klass=<class 'mlm_insights.core.sfcs.descriptive_statistics_sfc.DescriptiveStatisticsSFC'>, config={}) sfc from sfc meta data\n",
      "INFO:mlm_insights.core.metrics:Calculated Min metric, value: None\n",
      "INFO:mlm_insights.core.sfcs:getting SFCMetaData(klass=<class 'mlm_insights.core.sfcs.descriptive_statistics_sfc.DescriptiveStatisticsSFC'>, config={}) sfc from sfc meta data\n",
      "INFO:mlm_insights.core.sfcs:getting SFCMetaData(klass=<class 'mlm_insights.core.sfcs.frequent_items_sfc.FrequentItemsSFC'>, config={}) sfc from sfc meta data\n",
      "INFO:mlm_insights.core.sfcs:Getting top 2 frequent items\n",
      "INFO:mlm_insights.core.sfcs:Getting list of all frequent items\n",
      "INFO:mlm_insights.core.metrics:Calculated IsConstantFeature metric, value: False\n",
      "INFO:mlm_insights.core.sfcs:getting SFCMetaData(klass=<class 'mlm_insights.core.sfcs.quantiles_sfc.QuantilesSFC'>, config={}) sfc from sfc meta data\n",
      "INFO:mlm_insights.core.sfcs:getting SFCMetaData(klass=<class 'mlm_insights.core.sfcs.descriptive_statistics_sfc.DescriptiveStatisticsSFC'>, config={}) sfc from sfc meta data\n",
      "INFO:mlm_insights.core.sfcs:getting SFCMetaData(klass=<class 'mlm_insights.core.sfcs.quantiles_sfc.QuantilesSFC'>, config={}) sfc from sfc meta data\n",
      "INFO:mlm_insights.core.sfcs:getting SFCMetaData(klass=<class 'mlm_insights.core.sfcs.descriptive_statistics_sfc.DescriptiveStatisticsSFC'>, config={}) sfc from sfc meta data\n",
      "INFO:mlm_insights.core.metrics:Calculated Variance metric, value: None\n",
      "INFO:mlm_insights.core.sfcs:getting SFCMetaData(klass=<class 'mlm_insights.core.sfcs.descriptive_statistics_sfc.DescriptiveStatisticsSFC'>, config={}) sfc from sfc meta data\n",
      "INFO:mlm_insights.core.metrics:Calculated TypeMetric metric, value: {'string_type_count': 0, 'integral_type_count': 0, 'fractional_type_count': 0, 'boolean_type_count': 0}\n",
      "INFO:mlm_insights.core.sfcs:getting SFCMetaData(klass=<class 'mlm_insights.core.sfcs.quantiles_sfc.QuantilesSFC'>, config={}) sfc from sfc meta data\n",
      "INFO:mlm_insights.core.metrics:Calculated Count metric, value: {'total_count': 100.0, 'missing_count': 100.0, 'missing_count_percentage': 100.0}\n",
      "INFO:mlm_insights.core.sfcs:getting SFCMetaData(klass=<class 'mlm_insights.core.sfcs.descriptive_statistics_sfc.DescriptiveStatisticsSFC'>, config={}) sfc from sfc meta data\n",
      "INFO:mlm_insights.core.metrics:Calculated Max metric, value: None\n",
      "INFO:mlm_insights.core.sfcs:getting SFCMetaData(klass=<class 'mlm_insights.core.sfcs.descriptive_statistics_sfc.DescriptiveStatisticsSFC'>, config={}) sfc from sfc meta data\n",
      "INFO:mlm_insights.core.sfcs:getting SFCMetaData(klass=<class 'mlm_insights.core.sfcs.distinct_count_sfc.DistinctCountSFC'>, config={}) sfc from sfc meta data\n",
      "INFO:mlm_insights.core.sfcs:getting SFCMetaData(klass=<class 'mlm_insights.core.sfcs.frequent_items_sfc.FrequentItemsSFC'>, config={}) sfc from sfc meta data\n",
      "INFO:mlm_insights.core.sfcs:Getting total count of input data\n",
      "INFO:mlm_insights.core.sfcs:Calculated cardinality = 0.0 in Distinct count SFC, upper bound = 0.0, lower bound = 0.0\n",
      "INFO:mlm_insights.core.metrics:Calculated DistinctCount metric, value: 0.0\n",
      "INFO:mlm_insights.core.metrics:Calculated Sum metric, value: 0.0\n",
      "INFO:mlm_insights.core.sfcs:getting SFCMetaData(klass=<class 'mlm_insights.core.sfcs.frequent_items_sfc.FrequentItemsSFC'>, config={}) sfc from sfc meta data\n",
      "INFO:mlm_insights.core.sfcs:Getting list of all frequent items\n",
      "INFO:mlm_insights.core.metrics:Calculated IsQuasiConstantFeature metric, value: True\n",
      "INFO:mlm_insights.core.sfcs:getting SFCMetaData(klass=<class 'mlm_insights.core.sfcs.quantiles_sfc.QuantilesSFC'>, config={}) sfc from sfc meta data\n",
      "INFO:mlm_insights.core.sfcs:getting SFCMetaData(klass=<class 'mlm_insights.core.sfcs.descriptive_statistics_sfc.DescriptiveStatisticsSFC'>, config={}) sfc from sfc meta data\n",
      "INFO:mlm_insights.core.metrics:Calculated Mean metric, value: None\n",
      "INFO:mlm_insights.core.sfcs:getting SFCMetaData(klass=<class 'mlm_insights.core.sfcs.descriptive_statistics_sfc.DescriptiveStatisticsSFC'>, config={}) sfc from sfc meta data\n",
      "INFO:mlm_insights.core.sfcs:getting SFCMetaData(klass=<class 'mlm_insights.core.sfcs.descriptive_statistics_sfc.DescriptiveStatisticsSFC'>, config={}) sfc from sfc meta data\n",
      "INFO:mlm_insights.core.metrics:Calculated Kurtosis metric, value: None\n",
      "INFO:mlm_insights.core.sfcs:getting SFCMetaData(klass=<class 'mlm_insights.core.sfcs.descriptive_statistics_sfc.DescriptiveStatisticsSFC'>, config={}) sfc from sfc meta data\n",
      "INFO:mlm_insights.core.metrics:Calculated RowCount metric, value: 100.0\n",
      "INFO:ads.feature_store.common.utils.utility:Ingestion Summary \n",
      "╒══════════════════════════════════╤═══════════════╤════════════════════╤═════════════════╕\n",
      "│            entity_id             │  entity_type  │  ingestion_status  │  error_details  │\n",
      "╞══════════════════════════════════╪═══════════════╪════════════════════╪═════════════════╡\n",
      "│ 6881C3E17FC9BBB02934BB7B6B9068D1 │    DATASET    │     Succeeded      │      None       │\n",
      "╘══════════════════════════════════╧═══════════════╧════════════════════╧═════════════════╛\n"
     ]
    }
   ],
   "source": [
    "dataset.materialise()"
   ]
  },
  {
   "cell_type": "markdown",
   "id": "2b775d67",
   "metadata": {
    "pycharm": {
     "name": "#%% md\n"
    }
   },
   "source": [
    "### Interoperability with model"
   ]
  },
  {
   "cell_type": "code",
   "execution_count": 41,
   "id": "f14c80c4",
   "metadata": {
    "pycharm": {
     "name": "#%%\n"
    }
   },
   "outputs": [
    {
     "data": {
      "text/plain": [
       "\n",
       "kind: Dataset\n",
       "spec:\n",
       "  compartmentId: ocid1.tenancy.oc1..aaaaaaaa25c5a2zpfki3wo4ofza5l72aehvwkjbuavpnzqtmr4nigdgzi57a\n",
       "  description: Combined dataset for flights\n",
       "  entityId: 843E320A28F319748425787F04BCD3B8\n",
       "  featureStoreId: 751D665EB6AE7360928F15705F9F0F48\n",
       "  id: 6881C3E17FC9BBB02934BB7B6B9068D1\n",
       "  jobId: f8a347ca-db9a-4ba6-adbf-c3a5f0c61441\n",
       "  modelDetails:\n",
       "    items:\n",
       "    - ocid1.modelcatalog.oc1.unique_ocid\n",
       "  name: flights_dataset\n",
       "  outputFeatureDetails:\n",
       "    items:\n",
       "    - datasetId: 6881C3E17FC9BBB02934BB7B6B9068D1\n",
       "      featureType: LONG\n",
       "      name: YEAR\n",
       "    - datasetId: 6881C3E17FC9BBB02934BB7B6B9068D1\n",
       "      featureType: LONG\n",
       "      name: MONTH\n",
       "    - datasetId: 6881C3E17FC9BBB02934BB7B6B9068D1\n",
       "      featureType: LONG\n",
       "      name: DAY\n",
       "    - datasetId: 6881C3E17FC9BBB02934BB7B6B9068D1\n",
       "      featureType: LONG\n",
       "      name: DAY_OF_WEEK\n",
       "    - datasetId: 6881C3E17FC9BBB02934BB7B6B9068D1\n",
       "      featureType: STRING\n",
       "      name: AIRLINE\n",
       "    - datasetId: 6881C3E17FC9BBB02934BB7B6B9068D1\n",
       "      featureType: LONG\n",
       "      name: FLIGHT_NUMBER\n",
       "    - datasetId: 6881C3E17FC9BBB02934BB7B6B9068D1\n",
       "      featureType: STRING\n",
       "      name: ORIGIN_AIRPORT\n",
       "    - datasetId: 6881C3E17FC9BBB02934BB7B6B9068D1\n",
       "      featureType: STRING\n",
       "      name: DESTINATION_AIRPORT\n",
       "    - datasetId: 6881C3E17FC9BBB02934BB7B6B9068D1\n",
       "      featureType: STRING\n",
       "      name: IATA_CODE\n",
       "    - datasetId: 6881C3E17FC9BBB02934BB7B6B9068D1\n",
       "      featureType: STRING\n",
       "      name: AIRPORT\n",
       "    - datasetId: 6881C3E17FC9BBB02934BB7B6B9068D1\n",
       "      featureType: STRING\n",
       "      name: CITY\n",
       "    - datasetId: 6881C3E17FC9BBB02934BB7B6B9068D1\n",
       "      featureType: STRING\n",
       "      name: STATE\n",
       "    - datasetId: 6881C3E17FC9BBB02934BB7B6B9068D1\n",
       "      featureType: STRING\n",
       "      name: COUNTRY\n",
       "    - datasetId: 6881C3E17FC9BBB02934BB7B6B9068D1\n",
       "      featureType: DOUBLE\n",
       "      name: LATITUDE\n",
       "    - datasetId: 6881C3E17FC9BBB02934BB7B6B9068D1\n",
       "      featureType: DOUBLE\n",
       "      name: LONGITUDE\n",
       "  query: SELECT fg_2.YEAR YEAR, fg_2.MONTH MONTH, fg_2.DAY DAY, fg_2.DAY_OF_WEEK DAY_OF_WEEK,\n",
       "    fg_2.AIRLINE AIRLINE, fg_2.FLIGHT_NUMBER FLIGHT_NUMBER, fg_2.ORIGIN_AIRPORT ORIGIN_AIRPORT,\n",
       "    fg_2.DESTINATION_AIRPORT DESTINATION_AIRPORT, fg_0.IATA_CODE IATA_CODE, fg_1.AIRPORT\n",
       "    AIRPORT, fg_1.CITY CITY, fg_1.STATE STATE, fg_1.COUNTRY COUNTRY, fg_1.LATITUDE\n",
       "    LATITUDE, fg_1.LONGITUDE LONGITUDE FROM `843E320A28F319748425787F04BCD3B8`.flights_feature_group\n",
       "    fg_2 LEFT JOIN `843E320A28F319748425787F04BCD3B8`.airlines_feature_group fg_0\n",
       "    ON fg_2.ORIGIN_AIRPORT = fg_0.IATA_CODE LEFT JOIN `843E320A28F319748425787F04BCD3B8`.airport_feature_group\n",
       "    fg_1 ON fg_0.AIRLINE = fg_1.IATA_CODE\n",
       "  statisticsConfig:\n",
       "    isEnabled: true\n",
       "type: dataset"
      ]
     },
     "execution_count": 41,
     "metadata": {},
     "output_type": "execute_result"
    }
   ],
   "source": [
    "model_details = ModelDetails().with_items([\"ocid1.modelcatalog.oc1.unique_ocid\"])\n",
    "dataset.with_model_details(model_details)"
   ]
  },
  {
   "cell_type": "code",
   "execution_count": 42,
   "id": "8b5d9b08",
   "metadata": {
    "pycharm": {
     "name": "#%%\n"
    }
   },
   "outputs": [
    {
     "data": {
      "text/plain": [
       "\n",
       "kind: Dataset\n",
       "spec:\n",
       "  compartmentId: ocid1.tenancy.oc1..aaaaaaaa25c5a2zpfki3wo4ofza5l72aehvwkjbuavpnzqtmr4nigdgzi57a\n",
       "  description: Combined dataset for flights\n",
       "  entityId: 843E320A28F319748425787F04BCD3B8\n",
       "  featureStoreId: 751D665EB6AE7360928F15705F9F0F48\n",
       "  id: 6881C3E17FC9BBB02934BB7B6B9068D1\n",
       "  jobId: f8a347ca-db9a-4ba6-adbf-c3a5f0c61441\n",
       "  modelDetails:\n",
       "    items:\n",
       "    - ocid1.modelcatalog.oc1.unique_ocid\n",
       "  name: flights_dataset\n",
       "  outputFeatureDetails:\n",
       "    items:\n",
       "    - datasetId: 6881C3E17FC9BBB02934BB7B6B9068D1\n",
       "      featureType: LONG\n",
       "      name: YEAR\n",
       "    - datasetId: 6881C3E17FC9BBB02934BB7B6B9068D1\n",
       "      featureType: LONG\n",
       "      name: MONTH\n",
       "    - datasetId: 6881C3E17FC9BBB02934BB7B6B9068D1\n",
       "      featureType: LONG\n",
       "      name: DAY\n",
       "    - datasetId: 6881C3E17FC9BBB02934BB7B6B9068D1\n",
       "      featureType: LONG\n",
       "      name: DAY_OF_WEEK\n",
       "    - datasetId: 6881C3E17FC9BBB02934BB7B6B9068D1\n",
       "      featureType: STRING\n",
       "      name: AIRLINE\n",
       "    - datasetId: 6881C3E17FC9BBB02934BB7B6B9068D1\n",
       "      featureType: LONG\n",
       "      name: FLIGHT_NUMBER\n",
       "    - datasetId: 6881C3E17FC9BBB02934BB7B6B9068D1\n",
       "      featureType: STRING\n",
       "      name: ORIGIN_AIRPORT\n",
       "    - datasetId: 6881C3E17FC9BBB02934BB7B6B9068D1\n",
       "      featureType: STRING\n",
       "      name: DESTINATION_AIRPORT\n",
       "    - datasetId: 6881C3E17FC9BBB02934BB7B6B9068D1\n",
       "      featureType: STRING\n",
       "      name: IATA_CODE\n",
       "    - datasetId: 6881C3E17FC9BBB02934BB7B6B9068D1\n",
       "      featureType: STRING\n",
       "      name: AIRPORT\n",
       "    - datasetId: 6881C3E17FC9BBB02934BB7B6B9068D1\n",
       "      featureType: STRING\n",
       "      name: CITY\n",
       "    - datasetId: 6881C3E17FC9BBB02934BB7B6B9068D1\n",
       "      featureType: STRING\n",
       "      name: STATE\n",
       "    - datasetId: 6881C3E17FC9BBB02934BB7B6B9068D1\n",
       "      featureType: STRING\n",
       "      name: COUNTRY\n",
       "    - datasetId: 6881C3E17FC9BBB02934BB7B6B9068D1\n",
       "      featureType: DOUBLE\n",
       "      name: LATITUDE\n",
       "    - datasetId: 6881C3E17FC9BBB02934BB7B6B9068D1\n",
       "      featureType: DOUBLE\n",
       "      name: LONGITUDE\n",
       "  query: SELECT fg_2.YEAR YEAR, fg_2.MONTH MONTH, fg_2.DAY DAY, fg_2.DAY_OF_WEEK DAY_OF_WEEK,\n",
       "    fg_2.AIRLINE AIRLINE, fg_2.FLIGHT_NUMBER FLIGHT_NUMBER, fg_2.ORIGIN_AIRPORT ORIGIN_AIRPORT,\n",
       "    fg_2.DESTINATION_AIRPORT DESTINATION_AIRPORT, fg_0.IATA_CODE IATA_CODE, fg_1.AIRPORT\n",
       "    AIRPORT, fg_1.CITY CITY, fg_1.STATE STATE, fg_1.COUNTRY COUNTRY, fg_1.LATITUDE\n",
       "    LATITUDE, fg_1.LONGITUDE LONGITUDE FROM `843E320A28F319748425787F04BCD3B8`.flights_feature_group\n",
       "    fg_2 LEFT JOIN `843E320A28F319748425787F04BCD3B8`.airlines_feature_group fg_0\n",
       "    ON fg_2.ORIGIN_AIRPORT = fg_0.IATA_CODE LEFT JOIN `843E320A28F319748425787F04BCD3B8`.airport_feature_group\n",
       "    fg_1 ON fg_0.AIRLINE = fg_1.IATA_CODE\n",
       "  statisticsConfig:\n",
       "    isEnabled: true\n",
       "type: dataset"
      ]
     },
     "execution_count": 42,
     "metadata": {},
     "output_type": "execute_result"
    }
   ],
   "source": [
    "dataset.update()"
   ]
  },
  {
   "cell_type": "markdown",
   "id": "ba077d02",
   "metadata": {
    "pycharm": {
     "name": "#%% md\n"
    }
   },
   "source": [
    "<a id=\"visualise_lineage\"></a>\n",
    "##### Visualise lineage\n",
    "\n",
    "Use the ```.show()``` method on the Dataset instance to visualize the lineage of the dataset."
   ]
  },
  {
   "cell_type": "code",
   "execution_count": 43,
   "id": "ad764d69",
   "metadata": {
    "pycharm": {
     "name": "#%%\n"
    }
   },
   "outputs": [
    {
     "data": {
      "image/svg+xml": [
       "<?xml version=\"1.0\" encoding=\"UTF-8\" standalone=\"no\"?>\n",
       "<!DOCTYPE svg PUBLIC \"-//W3C//DTD SVG 1.1//EN\"\n",
       " \"http://www.w3.org/Graphics/SVG/1.1/DTD/svg11.dtd\">\n",
       "<!-- Generated by graphviz version 2.30.1 (20200602.1248)\n",
       " -->\n",
       "<!-- Title: %3 Pages: 1 -->\n",
       "<svg width=\"1012pt\" height=\"244pt\"\n",
       " viewBox=\"0.00 0.00 1012.00 244.00\" xmlns=\"http://www.w3.org/2000/svg\" xmlns:xlink=\"http://www.w3.org/1999/xlink\">\n",
       "<g id=\"graph0\" class=\"graph\" transform=\"scale(1 1) rotate(0) translate(4 240)\">\n",
       "<title>%3</title>\n",
       "<polygon fill=\"white\" stroke=\"white\" points=\"-4,5 -4,-240 1009,-240 1009,5 -4,5\"/>\n",
       "<!-- 751D665EB6AE7360928F15705F9F0F48 -->\n",
       "<g id=\"node1\" class=\"node\"><title>751D665EB6AE7360928F15705F9F0F48</title>\n",
       "<path fill=\"#dedede\" stroke=\"#dedede\" d=\"M158,-153C158,-153 12,-153 12,-153 6,-153 0,-147 0,-141 0,-141 0,-111 0,-111 0,-105 6,-99 12,-99 12,-99 158,-99 158,-99 164,-99 170,-105 170,-111 170,-111 170,-141 170,-141 170,-147 164,-153 158,-153\"/>\n",
       "<text text-anchor=\"start\" x=\"54\" y=\"-136.7\" font-family=\"Helvetica,Arial,sans-serif\" font-size=\"11.00\">flights details</text>\n",
       "<text text-anchor=\"start\" x=\"63.5\" y=\"-122.4\" font-family=\"Helvetica,Arial,sans-serif\" font-size=\"7.00\">Feature Store</text>\n",
       "<text text-anchor=\"start\" x=\"12.5\" y=\"-109.4\" font-family=\"Courier New\" font-size=\"7.00\">751D665EB6AE7360928F15705F9F0F48</text>\n",
       "</g>\n",
       "<!-- 843E320A28F319748425787F04BCD3B8 -->\n",
       "<g id=\"node2\" class=\"node\"><title>843E320A28F319748425787F04BCD3B8</title>\n",
       "<path fill=\"#dedede\" stroke=\"#dedede\" d=\"M364,-153C364,-153 218,-153 218,-153 212,-153 206,-147 206,-141 206,-141 206,-111 206,-111 206,-105 212,-99 218,-99 218,-99 364,-99 364,-99 370,-99 376,-105 376,-111 376,-111 376,-141 376,-141 376,-147 370,-153 364,-153\"/>\n",
       "<text text-anchor=\"start\" x=\"257.5\" y=\"-136.7\" font-family=\"Helvetica,Arial,sans-serif\" font-size=\"11.00\">Flight details2</text>\n",
       "<text text-anchor=\"start\" x=\"281.5\" y=\"-122.4\" font-family=\"Helvetica,Arial,sans-serif\" font-size=\"7.00\">Entity</text>\n",
       "<text text-anchor=\"start\" x=\"218.5\" y=\"-109.4\" font-family=\"Courier New\" font-size=\"7.00\">843E320A28F319748425787F04BCD3B8</text>\n",
       "</g>\n",
       "<!-- 751D665EB6AE7360928F15705F9F0F48&#45;&gt;843E320A28F319748425787F04BCD3B8 -->\n",
       "<g id=\"edge1\" class=\"edge\"><title>751D665EB6AE7360928F15705F9F0F48&#45;&gt;843E320A28F319748425787F04BCD3B8</title>\n",
       "<path fill=\"none\" stroke=\"black\" d=\"M170.152,-126C178.501,-126 187.015,-126 195.46,-126\"/>\n",
       "<polygon fill=\"black\" stroke=\"black\" points=\"195.712,-129.5 205.712,-126 195.712,-122.5 195.712,-129.5\"/>\n",
       "</g>\n",
       "<!-- 4E21D2D878A101E8804837CAD6499FD9 -->\n",
       "<g id=\"node3\" class=\"node\"><title>4E21D2D878A101E8804837CAD6499FD9</title>\n",
       "<path fill=\"#dedede\" stroke=\"#dedede\" d=\"M570,-236C570,-236 424,-236 424,-236 418,-236 412,-230 412,-224 412,-224 412,-194 412,-194 412,-188 418,-182 424,-182 424,-182 570,-182 570,-182 576,-182 582,-188 582,-194 582,-194 582,-224 582,-224 582,-230 576,-236 570,-236\"/>\n",
       "<text text-anchor=\"start\" x=\"443\" y=\"-219.7\" font-family=\"Helvetica,Arial,sans-serif\" font-size=\"11.00\">airlines_feature_group</text>\n",
       "<text text-anchor=\"start\" x=\"474\" y=\"-205.4\" font-family=\"Helvetica,Arial,sans-serif\" font-size=\"7.00\">Feature Group</text>\n",
       "<text text-anchor=\"start\" x=\"424.5\" y=\"-192.4\" font-family=\"Courier New\" font-size=\"7.00\">4E21D2D878A101E8804837CAD6499FD9</text>\n",
       "</g>\n",
       "<!-- 843E320A28F319748425787F04BCD3B8&#45;&gt;4E21D2D878A101E8804837CAD6499FD9 -->\n",
       "<g id=\"edge2\" class=\"edge\"><title>843E320A28F319748425787F04BCD3B8&#45;&gt;4E21D2D878A101E8804837CAD6499FD9</title>\n",
       "<path fill=\"none\" stroke=\"black\" d=\"M358.515,-153.062C378.189,-161.067 399.874,-169.89 420.093,-178.116\"/>\n",
       "<polygon fill=\"black\" stroke=\"black\" points=\"418.994,-181.448 429.575,-181.974 421.632,-174.964 418.994,-181.448\"/>\n",
       "</g>\n",
       "<!-- 6881C3E17FC9BBB02934BB7B6B9068D1 -->\n",
       "<g id=\"node4\" class=\"node\"><title>6881C3E17FC9BBB02934BB7B6B9068D1</title>\n",
       "<path fill=\"#dedede\" stroke=\"#dedede\" d=\"M776,-153C776,-153 630,-153 630,-153 624,-153 618,-147 618,-141 618,-141 618,-111 618,-111 618,-105 624,-99 630,-99 630,-99 776,-99 776,-99 782,-99 788,-105 788,-111 788,-111 788,-141 788,-141 788,-147 782,-153 776,-153\"/>\n",
       "<text text-anchor=\"start\" x=\"668\" y=\"-136.7\" font-family=\"Helvetica,Arial,sans-serif\" font-size=\"11.00\">flights_dataset</text>\n",
       "<text text-anchor=\"start\" x=\"690.5\" y=\"-122.4\" font-family=\"Helvetica,Arial,sans-serif\" font-size=\"7.00\">Dataset</text>\n",
       "<text text-anchor=\"start\" x=\"630.5\" y=\"-109.4\" font-family=\"Courier New\" font-size=\"7.00\">6881C3E17FC9BBB02934BB7B6B9068D1</text>\n",
       "</g>\n",
       "<!-- 843E320A28F319748425787F04BCD3B8&#45;&gt;6881C3E17FC9BBB02934BB7B6B9068D1 -->\n",
       "<g id=\"edge3\" class=\"edge\"><title>843E320A28F319748425787F04BCD3B8&#45;&gt;6881C3E17FC9BBB02934BB7B6B9068D1</title>\n",
       "<path fill=\"none\" stroke=\"black\" d=\"M376.203,-133.116C388.21,-133.897 400.413,-134.566 412,-135 487.503,-137.827 506.497,-137.827 582,-135 590.328,-134.688 598.974,-134.255 607.638,-133.746\"/>\n",
       "<polygon fill=\"black\" stroke=\"black\" points=\"608.033,-137.228 617.797,-133.116 607.6,-130.242 608.033,-137.228\"/>\n",
       "</g>\n",
       "<!-- C1771CFDA79A082BB9FB85D9E5FCB192 -->\n",
       "<g id=\"node6\" class=\"node\"><title>C1771CFDA79A082BB9FB85D9E5FCB192</title>\n",
       "<path fill=\"#dedede\" stroke=\"#dedede\" d=\"M570,-126C570,-126 424,-126 424,-126 418,-126 412,-120 412,-114 412,-114 412,-84 412,-84 412,-78 418,-72 424,-72 424,-72 570,-72 570,-72 576,-72 582,-78 582,-84 582,-84 582,-114 582,-114 582,-120 576,-126 570,-126\"/>\n",
       "<text text-anchor=\"start\" x=\"444.5\" y=\"-109.7\" font-family=\"Helvetica,Arial,sans-serif\" font-size=\"11.00\">airport_feature_group</text>\n",
       "<text text-anchor=\"start\" x=\"474\" y=\"-95.4\" font-family=\"Helvetica,Arial,sans-serif\" font-size=\"7.00\">Feature Group</text>\n",
       "<text text-anchor=\"start\" x=\"424.5\" y=\"-82.4\" font-family=\"Courier New\" font-size=\"7.00\">C1771CFDA79A082BB9FB85D9E5FCB192</text>\n",
       "</g>\n",
       "<!-- 843E320A28F319748425787F04BCD3B8&#45;&gt;C1771CFDA79A082BB9FB85D9E5FCB192 -->\n",
       "<g id=\"edge6\" class=\"edge\"><title>843E320A28F319748425787F04BCD3B8&#45;&gt;C1771CFDA79A082BB9FB85D9E5FCB192</title>\n",
       "<path fill=\"none\" stroke=\"black\" d=\"M376.152,-114.862C384.593,-113.745 393.202,-112.606 401.739,-111.476\"/>\n",
       "<polygon fill=\"black\" stroke=\"black\" points=\"402.257,-114.938 411.712,-110.156 401.339,-107.998 402.257,-114.938\"/>\n",
       "</g>\n",
       "<!-- C24E858807F4EBA22BF14C08B9A6E2DD -->\n",
       "<g id=\"node7\" class=\"node\"><title>C24E858807F4EBA22BF14C08B9A6E2DD</title>\n",
       "<path fill=\"#dedede\" stroke=\"#dedede\" d=\"M570,-54C570,-54 424,-54 424,-54 418,-54 412,-48 412,-42 412,-42 412,-12 412,-12 412,-6 418,-0 424,-0 424,-0 570,-0 570,-0 576,-0 582,-6 582,-12 582,-12 582,-42 582,-42 582,-48 576,-54 570,-54\"/>\n",
       "<text text-anchor=\"start\" x=\"446\" y=\"-37.7\" font-family=\"Helvetica,Arial,sans-serif\" font-size=\"11.00\">flights_feature_group</text>\n",
       "<text text-anchor=\"start\" x=\"474\" y=\"-23.4\" font-family=\"Helvetica,Arial,sans-serif\" font-size=\"7.00\">Feature Group</text>\n",
       "<text text-anchor=\"start\" x=\"424.5\" y=\"-10.4\" font-family=\"Courier New\" font-size=\"7.00\">C24E858807F4EBA22BF14C08B9A6E2DD</text>\n",
       "</g>\n",
       "<!-- 843E320A28F319748425787F04BCD3B8&#45;&gt;C24E858807F4EBA22BF14C08B9A6E2DD -->\n",
       "<g id=\"edge8\" class=\"edge\"><title>843E320A28F319748425787F04BCD3B8&#45;&gt;C24E858807F4EBA22BF14C08B9A6E2DD</title>\n",
       "<path fill=\"none\" stroke=\"black\" d=\"M341.476,-98.9077C362.955,-87.4379 388.522,-74.1726 412,-63 415.349,-61.4063 418.786,-59.8036 422.269,-58.2066\"/>\n",
       "<polygon fill=\"black\" stroke=\"black\" points=\"423.892,-61.3139 431.56,-54.0033 421.007,-54.9361 423.892,-61.3139\"/>\n",
       "</g>\n",
       "<!-- 4E21D2D878A101E8804837CAD6499FD9&#45;&gt;6881C3E17FC9BBB02934BB7B6B9068D1 -->\n",
       "<g id=\"edge4\" class=\"edge\"><title>4E21D2D878A101E8804837CAD6499FD9&#45;&gt;6881C3E17FC9BBB02934BB7B6B9068D1</title>\n",
       "<path fill=\"none\" stroke=\"black\" d=\"M564.515,-181.938C584.189,-173.933 605.874,-165.11 626.093,-156.884\"/>\n",
       "<polygon fill=\"black\" stroke=\"black\" points=\"627.632,-160.036 635.575,-153.026 624.994,-153.552 627.632,-160.036\"/>\n",
       "</g>\n",
       "<!-- ocid1.modelcatalog.oc1.unique_ocid -->\n",
       "<g id=\"node5\" class=\"node\"><title>ocid1.modelcatalog.oc1.unique_ocid</title>\n",
       "<path fill=\"#dedede\" stroke=\"#dedede\" d=\"M991.5,-153C991.5,-153 836.5,-153 836.5,-153 830.5,-153 824.5,-147 824.5,-141 824.5,-141 824.5,-111 824.5,-111 824.5,-105 830.5,-99 836.5,-99 836.5,-99 991.5,-99 991.5,-99 997.5,-99 1003.5,-105 1003.5,-111 1003.5,-111 1003.5,-141 1003.5,-141 1003.5,-147 997.5,-153 991.5,-153\"/>\n",
       "<text text-anchor=\"start\" x=\"912.5\" y=\"-136.7\" font-family=\"Helvetica,Arial,sans-serif\" font-size=\"11.00\"> </text>\n",
       "<text text-anchor=\"start\" x=\"905\" y=\"-122.4\" font-family=\"Helvetica,Arial,sans-serif\" font-size=\"7.00\">Model</text>\n",
       "<text text-anchor=\"start\" x=\"837.5\" y=\"-109.4\" font-family=\"Courier New\" font-size=\"7.00\">ocid1.modelcatalog.oc1.unique_ocid</text>\n",
       "</g>\n",
       "<!-- 6881C3E17FC9BBB02934BB7B6B9068D1&#45;&gt;ocid1.modelcatalog.oc1.unique_ocid -->\n",
       "<g id=\"edge5\" class=\"edge\"><title>6881C3E17FC9BBB02934BB7B6B9068D1&#45;&gt;ocid1.modelcatalog.oc1.unique_ocid</title>\n",
       "<path fill=\"none\" stroke=\"black\" d=\"M788.105,-126C796.665,-126 805.416,-126 814.114,-126\"/>\n",
       "<polygon fill=\"black\" stroke=\"black\" points=\"814.287,-129.5 824.286,-126 814.286,-122.5 814.287,-129.5\"/>\n",
       "</g>\n",
       "<!-- C1771CFDA79A082BB9FB85D9E5FCB192&#45;&gt;6881C3E17FC9BBB02934BB7B6B9068D1 -->\n",
       "<g id=\"edge7\" class=\"edge\"><title>C1771CFDA79A082BB9FB85D9E5FCB192&#45;&gt;6881C3E17FC9BBB02934BB7B6B9068D1</title>\n",
       "<path fill=\"none\" stroke=\"black\" d=\"M582.152,-110.138C590.593,-111.255 599.202,-112.394 607.739,-113.524\"/>\n",
       "<polygon fill=\"black\" stroke=\"black\" points=\"607.339,-117.002 617.712,-114.844 608.257,-110.062 607.339,-117.002\"/>\n",
       "</g>\n",
       "<!-- C24E858807F4EBA22BF14C08B9A6E2DD&#45;&gt;6881C3E17FC9BBB02934BB7B6B9068D1 -->\n",
       "<g id=\"edge9\" class=\"edge\"><title>C24E858807F4EBA22BF14C08B9A6E2DD&#45;&gt;6881C3E17FC9BBB02934BB7B6B9068D1</title>\n",
       "<path fill=\"none\" stroke=\"black\" d=\"M562.44,-54.0033C569.078,-56.968 575.696,-60.0002 582,-63 602.268,-72.6451 624.093,-83.8498 643.501,-94.1125\"/>\n",
       "<polygon fill=\"black\" stroke=\"black\" points=\"642.051,-97.3056 652.524,-98.9077 645.336,-91.1242 642.051,-97.3056\"/>\n",
       "</g>\n",
       "</g>\n",
       "</svg>\n"
      ],
      "text/plain": [
       "<graphviz.dot.Digraph at 0x7f8ef956f340>"
      ]
     },
     "metadata": {},
     "output_type": "display_data"
    }
   ],
   "source": [
    "dataset.show()"
   ]
  },
  {
   "cell_type": "code",
   "execution_count": 44,
   "id": "5b46e716",
   "metadata": {
    "pycharm": {
     "name": "#%%\n"
    }
   },
   "outputs": [
    {
     "name": "stdout",
     "output_type": "stream",
     "text": [
      "+------+--------------------+--------------------+-----------+--------------------+--------------------+-------------------+----------------+--------+-----------+----------+----------------+----------------+\n",
      "|format|                  id|                name|description|            location|           createdAt|       lastModified|partitionColumns|numFiles|sizeInBytes|properties|minReaderVersion|minWriterVersion|\n",
      "+------+--------------------+--------------------+-----------+--------------------+--------------------+-------------------+----------------+--------+-----------+----------+----------------+----------------+\n",
      "| delta|7b4825ef-5a04-4fb...|843e320a28f319748...|       null|oci://default-sto...|2023-07-14 04:31:...|2023-07-14 04:32:11|              []|       2|       9038|        {}|               1|               2|\n",
      "+------+--------------------+--------------------+-----------+--------------------+--------------------+-------------------+----------------+--------+-----------+----------+----------------+----------------+\n",
      "\n"
     ]
    }
   ],
   "source": [
    "dataset.profile().show()"
   ]
  },
  {
   "cell_type": "code",
   "execution_count": 45,
   "id": "13e18a51",
   "metadata": {
    "pycharm": {
     "name": "#%%\n"
    }
   },
   "outputs": [
    {
     "name": "stdout",
     "output_type": "stream",
     "text": [
      "+----+-----+---+-----------+-------+-------------+--------------+-------------------+---------+-------+----+-----+-------+--------+---------+\n",
      "|YEAR|MONTH|DAY|DAY_OF_WEEK|AIRLINE|FLIGHT_NUMBER|ORIGIN_AIRPORT|DESTINATION_AIRPORT|IATA_CODE|AIRPORT|CITY|STATE|COUNTRY|LATITUDE|LONGITUDE|\n",
      "+----+-----+---+-----------+-------+-------------+--------------+-------------------+---------+-------+----+-----+-------+--------+---------+\n",
      "|2015|    1|  1|          4|     B6|         1030|           BQN|                MCO|     null|   null|null| null|   null|    null|     null|\n",
      "|2015|    1|  1|          4|     B6|          262|           SJU|                BOS|     null|   null|null| null|   null|    null|     null|\n",
      "|2015|    1|  1|          4|     B6|         2134|           SJU|                MCO|     null|   null|null| null|   null|    null|     null|\n",
      "|2015|    1|  1|          4|     B6|          730|           BQN|                MCO|     null|   null|null| null|   null|    null|     null|\n",
      "|2015|    1|  1|          4|     B6|          768|           PSE|                MCO|     null|   null|null| null|   null|    null|     null|\n",
      "|2015|    1|  1|          4|     B6|         2276|           SJU|                BDL|     null|   null|null| null|   null|    null|     null|\n",
      "|2015|    1|  1|          4|     US|          602|           ORD|                PHX|     null|   null|null| null|   null|    null|     null|\n",
      "|2015|    1|  1|          4|     AS|          695|           GEG|                SEA|     null|   null|null| null|   null|    null|     null|\n",
      "|2015|    1|  1|          4|     HA|          102|           HNL|                ITO|     null|   null|null| null|   null|    null|     null|\n",
      "|2015|    1|  1|          4|     OO|         5467|           ONT|                SFO|     null|   null|null| null|   null|    null|     null|\n",
      "+----+-----+---+-----------+-------+-------------+--------------+-------------------+---------+-------+----+-----+-------+--------+---------+\n",
      "\n"
     ]
    }
   ],
   "source": [
    "dataset.preview().show()"
   ]
  },
  {
   "cell_type": "markdown",
   "id": "2f784a25",
   "metadata": {
    "pycharm": {
     "name": "#%% md\n"
    }
   },
   "source": [
    "<a id=\"sql_query\"></a>\n",
    "### 3.8  Freeform SQL query\n",
    "Feature store provides a way to query feature store using free flow query. User need to mention `entity id` as the database name and `feature group name` as the table name to query feature store. This functionality can be useful if you need to express more complex queries for your use case"
   ]
  },
  {
   "cell_type": "code",
   "execution_count": 46,
   "id": "79bdaf43",
   "metadata": {
    "pycharm": {
     "name": "#%%\n"
    }
   },
   "outputs": [],
   "source": [
    "entity_id = entity.id\n",
    "\n",
    "sql = (f\"SELECT flights_feature_group.*, airport_feature_group.IATA_CODE \"\n",
    "       f\"FROM `{entity_id}`.flights_feature_group flights_feature_group \"\n",
    "       f\"LEFT JOIN `{entity_id}`.airport_feature_group airport_feature_group \"\n",
    "       f\"ON flights_feature_group.ORIGIN_AIRPORT=airport_feature_group.IATA_CODE\")"
   ]
  },
  {
   "cell_type": "code",
   "execution_count": 47,
   "id": "8b02df32",
   "metadata": {
    "pycharm": {
     "name": "#%%\n"
    }
   },
   "outputs": [
    {
     "name": "stderr",
     "output_type": "stream",
     "text": [
      "                                                                                \r"
     ]
    },
    {
     "name": "stdout",
     "output_type": "stream",
     "text": [
      "+----+-----+---+-----------+-------+-------------+--------------+-------------------+---------+\n",
      "|YEAR|MONTH|DAY|DAY_OF_WEEK|AIRLINE|FLIGHT_NUMBER|ORIGIN_AIRPORT|DESTINATION_AIRPORT|IATA_CODE|\n",
      "+----+-----+---+-----------+-------+-------------+--------------+-------------------+---------+\n",
      "|2015|    1|  1|          4|     B6|         1030|           BQN|                MCO|      BQN|\n",
      "|2015|    1|  1|          4|     B6|          262|           SJU|                BOS|      SJU|\n",
      "|2015|    1|  1|          4|     B6|         2134|           SJU|                MCO|      SJU|\n",
      "|2015|    1|  1|          4|     B6|          730|           BQN|                MCO|      BQN|\n",
      "|2015|    1|  1|          4|     B6|          768|           PSE|                MCO|      PSE|\n",
      "|2015|    1|  1|          4|     B6|         2276|           SJU|                BDL|      SJU|\n",
      "|2015|    1|  1|          4|     US|          602|           ORD|                PHX|      ORD|\n",
      "|2015|    1|  1|          4|     AS|          695|           GEG|                SEA|      GEG|\n",
      "|2015|    1|  1|          4|     HA|          102|           HNL|                ITO|      HNL|\n",
      "|2015|    1|  1|          4|     OO|         5467|           ONT|                SFO|      ONT|\n",
      "|2015|    1|  1|          4|     HA|          108|           HNL|                KOA|      HNL|\n",
      "|2015|    1|  1|          4|     AS|          730|           ANC|                SEA|      ANC|\n",
      "|2015|    1|  1|          4|     HA|          206|           HNL|                OGG|      HNL|\n",
      "|2015|    1|  1|          4|     UA|         1500|           ORD|                IAH|      ORD|\n",
      "|2015|    1|  1|          4|     AA|         1323|           MCO|                MIA|      MCO|\n",
      "|2015|    1|  1|          4|     NK|          103|           BOS|                MYR|      BOS|\n",
      "|2015|    1|  1|          4|     OO|         7404|           HIB|                MSP|      HIB|\n",
      "|2015|    1|  1|          4|     OO|         7419|           ABR|                MSP|      ABR|\n",
      "|2015|    1|  1|          4|     OO|         5254|           MAF|                IAH|      MAF|\n",
      "|2015|    1|  1|          4|     US|          480|           SEA|                PHX|      SEA|\n",
      "+----+-----+---+-----------+-------+-------------+--------------+-------------------+---------+\n",
      "only showing top 20 rows\n",
      "\n"
     ]
    }
   ],
   "source": [
    "feature_store.sql(sql).show()"
   ]
  },
  {
   "cell_type": "code",
   "execution_count": 48,
   "id": "6d72aefa",
   "metadata": {
    "pycharm": {
     "name": "#%%\n"
    }
   },
   "outputs": [],
   "source": [
    "feature_store_yaml = \"\"\"\n",
    "apiVersion: v1\n",
    "kind: featureStore\n",
    "spec:\n",
    "  displayName: Flights feature store\n",
    "  compartmentId: \"<compartment_id>\"\n",
    "  offlineConfig:\n",
    "    metastoreId: \"<metastore_id>\"\n",
    "\n",
    "  entity: &flights_entity\n",
    "    - kind: entity\n",
    "      spec:\n",
    "        name: Flights\n",
    "\n",
    "  featureGroup:\n",
    "    - kind: featureGroup\n",
    "      spec:\n",
    "        entity: *flights_entity\n",
    "        name: flights_feature_group\n",
    "        primaryKeys:\n",
    "          - IATA_CODE\n",
    "        inputFeatureDetails:\n",
    "          - featureType: STRING\n",
    "            name: IATA_CODE\n",
    "            orderNumber: 1\n",
    "          - featureType: STRING\n",
    "            name: AIRPORT\n",
    "            orderNumber: 2\n",
    "          - featureType: STRING\n",
    "            name: CITY\n",
    "            orderNumber: 3\n",
    "          - featureType: STRING\n",
    "            name: STATE\n",
    "            orderNumber: 4\n",
    "          - featureType: STRING\n",
    "            name: COUNTRY\n",
    "            orderNumber: 5\n",
    "          - featureType: FLOAT\n",
    "            name: LATITUDE\n",
    "            orderNumber: 6\n",
    "          - featureType: FLOAT\n",
    "            name: LONGITUDE\n",
    "            orderNumber: 7\n",
    "    - kind: featureGroup\n",
    "      spec:\n",
    "        entity: *flights_entity\n",
    "        name: airlines_feature_group\n",
    "        primaryKeys:\n",
    "          - IATA_CODE\n",
    "        inputFeatureDetails:\n",
    "          - featureType: STRING\n",
    "            name: IATA_CODE\n",
    "            orderNumber: 1\n",
    "          - featureType: STRING\n",
    "            name: AIRPORT\n",
    "            orderNumber: 2\n",
    "          - featureType: STRING\n",
    "            name: CITY\n",
    "            orderNumber: 3\n",
    "          - featureType: STRING\n",
    "            name: STATE\n",
    "            orderNumber: 4\n",
    "          - featureType: STRING\n",
    "            name: COUNTRY\n",
    "            orderNumber: 5\n",
    "          - featureType: FLOAT\n",
    "            name: LATITUDE\n",
    "            orderNumber: 6\n",
    "          - featureType: FLOAT\n",
    "            name: LONGITUDE\n",
    "            orderNumber: 7\n",
    "\n",
    "    - kind: featureGroup\n",
    "      spec:\n",
    "        entity: *flights_entity\n",
    "        name: airport_feature_group\n",
    "        primaryKeys:\n",
    "          - IATA_CODE\n",
    "        inputFeatureDetails:\n",
    "          - featureType: STRING\n",
    "            name: IATA_CODE\n",
    "            orderNumber: 1\n",
    "          - featureType: STRING\n",
    "            name: AIRLINE\n",
    "            orderNumber: 2\n",
    "  dataset:\n",
    "    - kind: dataset\n",
    "      spec:\n",
    "        name: flights_dataset\n",
    "        entity: *flights_entity\n",
    "        description: \"Dataset for flights\"\n",
    "        query: 'SELECT flight.IATA_CODE, flight.AIRPORT FROM flights_feature_group flight'\n",
    "\"\"\""
   ]
  },
  {
   "cell_type": "code",
   "execution_count": 49,
   "id": "23bc53a4",
   "metadata": {
    "pycharm": {
     "name": "#%%\n"
    }
   },
   "outputs": [
    {
     "data": {
      "application/vnd.jupyter.widget-view+json": {
       "model_id": "fd2434312d73436fac996ff64f4f50f5",
       "version_major": 2,
       "version_minor": 0
      },
      "text/plain": [
       "loop1:   0%|          | 0/6 [00:00<?, ?it/s]"
      ]
     },
     "metadata": {},
     "output_type": "display_data"
    },
    {
     "name": "stdout",
     "output_type": "stream",
     "text": [
      "Successfully created 1 entities, 0 transformations, 3 feature groups and 1 datasets\n"
     ]
    },
    {
     "data": {
      "text/plain": [
       "(\n",
       " kind: featurestore\n",
       " spec:\n",
       "   compartmentId: ocid1.tenancy.oc1..aaaaaaaa25c5a2zpfki3wo4ofza5l72aehvwkjbuavpnzqtmr4nigdgzi57a\n",
       "   dataset:\n",
       "   - kind: dataset\n",
       "     spec:\n",
       "       description: Dataset for flights\n",
       "       entity: &id001\n",
       "       - kind: entity\n",
       "         spec:\n",
       "           name: Flights\n",
       "       name: flights_dataset\n",
       "       query: SELECT flight.IATA_CODE, flight.AIRPORT FROM flights_feature_group flight\n",
       "   displayName: Flights feature store\n",
       "   entity: *id001\n",
       "   featureGroup:\n",
       "   - kind: featureGroup\n",
       "     spec:\n",
       "       entity: *id001\n",
       "       inputFeatureDetails:\n",
       "       - featureType: STRING\n",
       "         name: IATA_CODE\n",
       "         orderNumber: 1\n",
       "       - featureType: STRING\n",
       "         name: AIRPORT\n",
       "         orderNumber: 2\n",
       "       - featureType: STRING\n",
       "         name: CITY\n",
       "         orderNumber: 3\n",
       "       - featureType: STRING\n",
       "         name: STATE\n",
       "         orderNumber: 4\n",
       "       - featureType: STRING\n",
       "         name: COUNTRY\n",
       "         orderNumber: 5\n",
       "       - featureType: FLOAT\n",
       "         name: LATITUDE\n",
       "         orderNumber: 6\n",
       "       - featureType: FLOAT\n",
       "         name: LONGITUDE\n",
       "         orderNumber: 7\n",
       "       name: flights_feature_group\n",
       "       primaryKeys:\n",
       "       - IATA_CODE\n",
       "   - kind: featureGroup\n",
       "     spec:\n",
       "       entity: *id001\n",
       "       inputFeatureDetails:\n",
       "       - featureType: STRING\n",
       "         name: IATA_CODE\n",
       "         orderNumber: 1\n",
       "       - featureType: STRING\n",
       "         name: AIRPORT\n",
       "         orderNumber: 2\n",
       "       - featureType: STRING\n",
       "         name: CITY\n",
       "         orderNumber: 3\n",
       "       - featureType: STRING\n",
       "         name: STATE\n",
       "         orderNumber: 4\n",
       "       - featureType: STRING\n",
       "         name: COUNTRY\n",
       "         orderNumber: 5\n",
       "       - featureType: FLOAT\n",
       "         name: LATITUDE\n",
       "         orderNumber: 6\n",
       "       - featureType: FLOAT\n",
       "         name: LONGITUDE\n",
       "         orderNumber: 7\n",
       "       name: airlines_feature_group\n",
       "       primaryKeys:\n",
       "       - IATA_CODE\n",
       "   - kind: featureGroup\n",
       "     spec:\n",
       "       entity: *id001\n",
       "       inputFeatureDetails:\n",
       "       - featureType: STRING\n",
       "         name: IATA_CODE\n",
       "         orderNumber: 1\n",
       "       - featureType: STRING\n",
       "         name: AIRLINE\n",
       "         orderNumber: 2\n",
       "       name: airport_feature_group\n",
       "       primaryKeys:\n",
       "       - IATA_CODE\n",
       "   id: 77B592E89F44BA0F76F0B9D0B99ACFA2\n",
       "   offlineConfig:\n",
       "     metastoreId: ocid1.datacatalogmetastore.oc1.iad.amaaaaaanif7xwiaavhd2liaebamr3tbjzio3uw2lxuteoa5ejsfvhqufbsa\n",
       " type: featureStore,\n",
       " [\n",
       "  kind: entity\n",
       "  spec:\n",
       "    compartmentId: ocid1.tenancy.oc1..aaaaaaaa25c5a2zpfki3wo4ofza5l72aehvwkjbuavpnzqtmr4nigdgzi57a\n",
       "    featureStoreId: 77B592E89F44BA0F76F0B9D0B99ACFA2\n",
       "    id: 250B937A0BD5CF48B10B768F672D9023\n",
       "    name: Flights\n",
       "  type: entity],\n",
       " [],\n",
       " [\n",
       "  kind: FeatureGroup\n",
       "  spec:\n",
       "    compartmentId: ocid1.tenancy.oc1..aaaaaaaa25c5a2zpfki3wo4ofza5l72aehvwkjbuavpnzqtmr4nigdgzi57a\n",
       "    entity:\n",
       "    - kind: entity\n",
       "      spec:\n",
       "        name: Flights\n",
       "    entityId: 250B937A0BD5CF48B10B768F672D9023\n",
       "    featureStoreId: 77B592E89F44BA0F76F0B9D0B99ACFA2\n",
       "    id: 8DC7283C4E3877C9C503BA254EE7A4DD\n",
       "    inputFeatureDetails:\n",
       "    - featureType: STRING\n",
       "      name: IATA_CODE\n",
       "      orderNumber: 1\n",
       "    - featureType: STRING\n",
       "      name: AIRPORT\n",
       "      orderNumber: 2\n",
       "    - featureType: STRING\n",
       "      name: CITY\n",
       "      orderNumber: 3\n",
       "    - featureType: STRING\n",
       "      name: STATE\n",
       "      orderNumber: 4\n",
       "    - featureType: STRING\n",
       "      name: COUNTRY\n",
       "      orderNumber: 5\n",
       "    - featureType: FLOAT\n",
       "      name: LATITUDE\n",
       "      orderNumber: 6\n",
       "    - featureType: FLOAT\n",
       "      name: LONGITUDE\n",
       "      orderNumber: 7\n",
       "    name: flights_feature_group\n",
       "    primaryKeys:\n",
       "      items:\n",
       "      - name: IATA_CODE\n",
       "    statisticsConfig:\n",
       "      isEnabled: true\n",
       "  type: featureGroup,\n",
       "  \n",
       "  kind: FeatureGroup\n",
       "  spec:\n",
       "    compartmentId: ocid1.tenancy.oc1..aaaaaaaa25c5a2zpfki3wo4ofza5l72aehvwkjbuavpnzqtmr4nigdgzi57a\n",
       "    entity:\n",
       "    - kind: entity\n",
       "      spec:\n",
       "        name: Flights\n",
       "    entityId: 250B937A0BD5CF48B10B768F672D9023\n",
       "    featureStoreId: 77B592E89F44BA0F76F0B9D0B99ACFA2\n",
       "    id: 511C0129C9BB3F5D881B3C7DE657F20D\n",
       "    inputFeatureDetails:\n",
       "    - featureType: STRING\n",
       "      name: IATA_CODE\n",
       "      orderNumber: 1\n",
       "    - featureType: STRING\n",
       "      name: AIRPORT\n",
       "      orderNumber: 2\n",
       "    - featureType: STRING\n",
       "      name: CITY\n",
       "      orderNumber: 3\n",
       "    - featureType: STRING\n",
       "      name: STATE\n",
       "      orderNumber: 4\n",
       "    - featureType: STRING\n",
       "      name: COUNTRY\n",
       "      orderNumber: 5\n",
       "    - featureType: FLOAT\n",
       "      name: LATITUDE\n",
       "      orderNumber: 6\n",
       "    - featureType: FLOAT\n",
       "      name: LONGITUDE\n",
       "      orderNumber: 7\n",
       "    name: airlines_feature_group\n",
       "    primaryKeys:\n",
       "      items:\n",
       "      - name: IATA_CODE\n",
       "    statisticsConfig:\n",
       "      isEnabled: true\n",
       "  type: featureGroup,\n",
       "  \n",
       "  kind: FeatureGroup\n",
       "  spec:\n",
       "    compartmentId: ocid1.tenancy.oc1..aaaaaaaa25c5a2zpfki3wo4ofza5l72aehvwkjbuavpnzqtmr4nigdgzi57a\n",
       "    entity:\n",
       "    - kind: entity\n",
       "      spec:\n",
       "        name: Flights\n",
       "    entityId: 250B937A0BD5CF48B10B768F672D9023\n",
       "    featureStoreId: 77B592E89F44BA0F76F0B9D0B99ACFA2\n",
       "    id: 1ADF373FB42A8C5DA234E90CBEE48ADC\n",
       "    inputFeatureDetails:\n",
       "    - featureType: STRING\n",
       "      name: IATA_CODE\n",
       "      orderNumber: 1\n",
       "    - featureType: STRING\n",
       "      name: AIRLINE\n",
       "      orderNumber: 2\n",
       "    name: airport_feature_group\n",
       "    primaryKeys:\n",
       "      items:\n",
       "      - name: IATA_CODE\n",
       "    statisticsConfig:\n",
       "      isEnabled: true\n",
       "  type: featureGroup],\n",
       " [\n",
       "  kind: Dataset\n",
       "  spec:\n",
       "    compartmentId: ocid1.tenancy.oc1..aaaaaaaa25c5a2zpfki3wo4ofza5l72aehvwkjbuavpnzqtmr4nigdgzi57a\n",
       "    description: Dataset for flights\n",
       "    entity:\n",
       "    - kind: entity\n",
       "      spec:\n",
       "        name: Flights\n",
       "    entityId: 250B937A0BD5CF48B10B768F672D9023\n",
       "    featureStoreId: 77B592E89F44BA0F76F0B9D0B99ACFA2\n",
       "    id: F73370CAA6784132F1E95DC2756EAC69\n",
       "    name: flights_dataset\n",
       "    query: SELECT flight.IATA_CODE, flight.AIRPORT FROM flights_feature_group flight\n",
       "    statisticsConfig:\n",
       "      isEnabled: true\n",
       "  type: dataset])"
      ]
     },
     "execution_count": 49,
     "metadata": {},
     "output_type": "execute_result"
    }
   ],
   "source": [
    "registrar = FeatureStoreRegistrar.from_yaml(yaml_string=feature_store_yaml)\n",
    "registrar.create()"
   ]
  },
  {
   "cell_type": "markdown",
   "id": "328241db",
   "metadata": {
    "pycharm": {
     "name": "#%% md\n"
    }
   },
   "source": [
    "<a id='ref'></a>\n",
    "# References\n",
    "\n",
    "- [ADS Library Documentation](https://accelerated-data-science.readthedocs.io/en/latest/index.html)\n",
    "- [Data Science YouTube Videos](https://www.youtube.com/playlist?list=PLKCk3OyNwIzv6CWMhvqSB_8MLJIZdO80L)\n",
    "- [OCI Data Science Documentation](https://docs.cloud.oracle.com/en-us/iaas/data-science/using/data-science.htm)\n",
    "- [Oracle Data & AI Blog](https://blogs.oracle.com/datascience/)"
   ]
  },
  {
   "cell_type": "code",
   "execution_count": null,
   "id": "914eafdd",
   "metadata": {
    "pycharm": {
     "name": "#%%\n"
    }
   },
   "outputs": [],
   "source": []
  }
 ],
 "metadata": {
  "kernelspec": {
   "display_name": "Python [conda env:fspyspark32_p38_cpu#conda_v1]",
   "language": "python",
   "name": "conda-env-fspyspark32_p38_cpu_conda_v1-py"
  },
  "language_info": {
   "codemirror_mode": {
    "name": "ipython",
    "version": 3
   },
   "file_extension": ".py",
   "mimetype": "text/x-python",
   "name": "python",
   "nbconvert_exporter": "python",
   "pygments_lexer": "ipython3",
   "version": "3.8.17"
  }
 },
 "nbformat": 4,
 "nbformat_minor": 5
}
