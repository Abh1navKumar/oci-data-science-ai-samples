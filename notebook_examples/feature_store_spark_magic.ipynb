{
 "cells": [
  {
   "cell_type": "markdown",
   "id": "f10693dc",
   "metadata": {
    "pycharm": {
     "name": "#%% md\n"
    }
   },
   "source": [
    "Oracle Data Science service sample notebook.\n",
    "\n",
    "Copyright (c) 2022 Oracle, Inc. All rights reserved. Licensed under the [Universal Permissive License v 1.0](https://oss.oracle.com/licenses/upl).\n",
    "\n",
    "***\n",
    "\n",
    "# <font color=\"red\">Data Flow Studio: Big Data Operations in Feature Store</font>\n",
    "<p style=\"margin-left:10%; margin-right:10%;\">by the <font color=\"teal\">Oracle Cloud Infrastructure Data Science Service.</font></p>\n",
    "\n",
    "---\n",
    "# Overview:\n",
    "\n",
    "This notebook demonstrates how to run interactive Spark workloads on a long lasting [Oracle Cloud Infrastructure Data Flow](https://docs.oracle.com/en-us/iaas/data-flow/using/home.htm) cluster through [Apache Livy](https://livy.apache.org/) integration. **Data Flow Spark Magic** is used for interactively working with remote Spark clusters through Livy, a Spark REST server, in Jupyter notebooks. It includes a set of magic commands for interactively running Spark code.\n",
    "\n",
    "\n",
    "\n",
    "## Contents:\n",
    "\n",
    "- <a href=\"#concepts\">1. Introduction</a>\n",
    "- <a href='#pre-requisites'>1. Pre-requisites</a>\n",
    "    - <a href='#policies'>2.1 Policies</a>\n",
    "    - <a href='#prerequisites_helpers'>2.2 Prerequisites Helpers</a>\n",
    "    - <a href='#prerequisites_authentication'>2.3 Authentication</a>\n",
    "    - <a href='#prerequisites_variables'>2.4 Variables</a>\n",
    "- <a href='#dataflow_magic'>3. Dataflow Magic</a>\n",
    "    - <a href='#load_extension'>3.1. Load extension</a>\n",
    "    - <a href='#load_featuregroup'>3.2. Load feature groups</a>\n",
    "    - <a href='#data_exploration'>3.3. Data exploration</a>\n",
    "    - <a href='#load_featuregroup'>3.4. Creation of logical entities of feature group</a>\n",
    "        - <a href='#create_feature_store'>3.4.1 Creation of feature store</a>\n",
    "        - <a href='#create_entity'>3.4.2 Creation of entity</a>\n",
    "        - <a href='#create_feature_group'>3.4.3 Creation of feature group</a>\n",
    "        - <a href='#materialise_feature_group'>3.4.4 Materialisation of feature group</a>\n",
    "        - <a href='#query_feature_group'>3.4.5 Querying of feature group</a>\n",
    "- <a href='#ref'>4. References</a>\n",
    "\n",
    "---\n",
    "\n",
    "\n",
    "Compatible conda pack: [PySpark 3.2 and Data Flow](https://docs.oracle.com/iaas/data-science/using/conda-pyspark-fam.htm) for CPU on Python 3.8\n",
    "\n",
    "<img src=\"https://objectstorage.us-ashburn-1.oraclecloud.com/p/jkC0Ow2ARR8rTw0ykUpLjr6a_9wZnb9PTDYif8pdKxMK_nrbpcSj0mSIeecQCjsE/n/idogsu2ylimg/b/demo-2/o/download.png\"/>\n",
    "\n",
    "---"
   ]
  },
  {
   "cell_type": "markdown",
   "id": "f616fcc9",
   "metadata": {
    "pycharm": {
     "name": "#%% md\n"
    }
   },
   "source": [
    "<a id=\"concepts\"></a>\n",
    "# 1. Introduction\n",
    "\n",
    "Oracle feature store is a stack based solution that is deployed in the customer enclave using OCI resource manager. Customer can stand up the service with infrastructure in their own tenancy. The service consists of API which are deployed in customer tenancy using resource manager.\n",
    "\n",
    "The following are some key terms that will help you understand OCI Data Science Feature Store:\n",
    "\n",
    "\n",
    "* **Feature Vector**: Set of feature values for any one primary/identifier key. Eg. All/subset of features of customer id ‘2536’ can be called as one feature vector.\n",
    "\n",
    "* **Feature**: A feature is an individual measurable property or characteristic of a phenomenon being observed.\n",
    "\n",
    "* **Entity**: An entity is a group of semantically related features. The first step a consumer of features would typically do when accessing the feature store service is to list the entities and the entities associated features. Another way to look at it is that an entity is an object or concept that is described by its features. Examples of entities could be customer, product, transaction, review, image, document, etc.\n",
    "\n",
    "* **Feature Group**: A feature group in a feature store is a collection of related features that are often used together in ml models. It serves as an organizational unit within the feature store for users to manage, version and share features across different ml projects. By organizing features into groups, data scientists and ml engineers can efficiently discover, reuse and collaborate on features reducing the redundant work and ensuring consistency in feature engineering.\n",
    "\n",
    "* **Feature Group Job**: Feature group job is the execution instance of a feature group. Each feature group job will include validation results and statistics results.\n",
    "\n",
    "* **Dataset**: A dataset is a collection of feature that are used together to either train a model or perform model inference.\n",
    "\n",
    "* **Dataset Job**: Dataset job is the execution instance of a dataset. Each dataset job will include validation results and statistics results."
   ]
  },
  {
   "cell_type": "markdown",
   "id": "ca672c4d",
   "metadata": {
    "pycharm": {
     "name": "#%% md\n"
    }
   },
   "source": [
    "<a id='pre-requisites'></a>\n",
    "# 2. Pre-requisites \n",
    "\n",
    "Data Flow Sessions are accessible through the following conda environment: \n",
    "\n",
    "* **PySpark 3.2 and Feature Store (pyspark_3_v1)**"
   ]
  },
  {
   "cell_type": "markdown",
   "id": "33daeebe",
   "metadata": {
    "pycharm": {
     "name": "#%% md\n"
    }
   },
   "source": [
    "<a id='policies'></a>\n",
    "## 2.1. Policies\n",
    "This section covers the creation of dynamic groups and policies needed to use the service.\n",
    "\n",
    "* [Data Flow Policies](https://docs.oracle.com/iaas/data-flow/using/policies.htm/)\n",
    "* [Getting Started with Data Flow](https://docs.oracle.com/iaas/data-flow/using/dfs_getting_started.htm)\n",
    "* [About Data Science Policies](https://docs.oracle.com/iaas/data-science/using/policies.htm)\n",
    "* [Data Catalog Metastore](https://docs.oracle.com/en-us/iaas/data-catalog/using/metastore.htm)"
   ]
  },
  {
   "cell_type": "markdown",
   "id": "97ed352c",
   "metadata": {
    "pycharm": {
     "name": "#%% md\n"
    }
   },
   "source": [
    "<a id=\"prerequisites_helpers\"></a>\n",
    "## 2.2 Helpers\n",
    "This section provides a helper method used across the notebook to prepare arguments for the magic commands. This function is particularly useful when you want to pass Python variables as arguments to the spark magic commands "
   ]
  },
  {
   "cell_type": "code",
   "execution_count": 4,
   "id": "6a5e9194",
   "metadata": {
    "pycharm": {
     "name": "#%%\n"
    }
   },
   "outputs": [],
   "source": [
    "import json\n",
    "\n",
    "\n",
    "def prepare_command(command: dict) -> str:\n",
    "    \"\"\"Converts dictionary command to the string formatted commands.\"\"\"\n",
    "    return f\"'{json.dumps(command)}'\""
   ]
  },
  {
   "cell_type": "markdown",
   "id": "9c0484c6",
   "metadata": {
    "pycharm": {
     "name": "#%% md\n"
    }
   },
   "source": [
    "<a id=\"prerequisites_authentication\"></a>\n",
    "## 2.3. Authentication\n",
    "The [Oracle Accelerated Data Science SDK (ADS)](https://docs.oracle.com/iaas/tools/ads-sdk/latest/index.html) controls the authentication mechanism with the Data Flow Session Spark cluster.<br> \n",
    "To setup authentication use the ```ads.set_auth(\"resource_principal\")``` or ```ads.set_auth(\"api_key\")```. "
   ]
  },
  {
   "cell_type": "code",
   "execution_count": 5,
   "id": "1e6f441d",
   "metadata": {
    "pycharm": {
     "name": "#%%\n"
    }
   },
   "outputs": [],
   "source": [
    "import ads\n",
    "\n",
    "ads.set_auth(\"resource_principal\")  # Supported values: resource_principal, api_key"
   ]
  },
  {
   "cell_type": "markdown",
   "id": "86735a35",
   "metadata": {
    "pycharm": {
     "name": "#%% md\n"
    }
   },
   "source": [
    "<a id=\"prerequisites_variables\"></a>\n",
    "## 2.4. Variables\n",
    "To run this notebook, you must provide some information about your tenancy configuration. To connect to the HIVE metastore, replace `<metastore_id>` with the OCID for the HIVE metastore. Connecting to the metastore is optional.  \n",
    "\n",
    "To create and run a Data Flow session, you must specify a `<compartment_id>`, `<metastoreId>`, bucket `<logs_bucket_uri>` and `<custom_conda_environment_uri>` for storing logs. These resources must be in the same compartment."
   ]
  },
  {
   "cell_type": "code",
   "execution_count": 6,
   "id": "276d1aec",
   "metadata": {
    "pycharm": {
     "name": "#%%\n"
    }
   },
   "outputs": [],
   "source": [
    "compartment_id = \"<compartment_id>\"\n",
    "metastore_id = \"<metastore_id>\"\n",
    "logs_bucket_uri = \"<logs-bucket-url>\"\n",
    "\n",
    "custom_conda_environment_uri = \"oci://service-conda-packs-fs@bigdatadatasciencelarge/service_pack/cpu/PySpark_3.2_and_Feature_Store/1.0/fspyspark32_p38_cpu_v1#conda\""
   ]
  },
  {
   "cell_type": "markdown",
   "id": "3fbc6c00",
   "metadata": {
    "pycharm": {
     "name": "#%% md\n"
    }
   },
   "source": [
    "<a id=\"dataflow_magic\"></a>\n",
    "# 3. Data Flow Spark Magic\n",
    "Data Flow Spark Magic commands allow you to interactively work with Data Flow Spark clusters (sessions) in Jupyter notebooks through the Livy REST API. It provides a set of Jupyter Notebook cell magic commands to turn Jupyter into an integrated Spark development environment for remote clusters. \n",
    "\n",
    "**Data Flow Magic allows you to:**\n",
    "\n",
    "* Run Spark code against Data Flow remote Spark cluster\n",
    "* Create a Data Flow Spark Session with SparkContext and HiveContext against Data Flow remote Spark cluster\n",
    "* Capture the output of Spark queries as a local Pandas data frame to interact easily with other Python libraries (e.g. matplotlib)"
   ]
  },
  {
   "cell_type": "markdown",
   "id": "591d4492",
   "metadata": {
    "pycharm": {
     "name": "#%% md\n"
    }
   },
   "source": [
    "<a id=\"load_extension\"></a>\n",
    "### 3.1. Load Spark Magic Commands and Getting Help\n",
    "Data Flow Spark Magic is a JupyterLab extension that you need to activate in your notebook using the `%load_ext dataflow.magics` magic command.<br>\n",
    "After the extension is activated, the `%help` command can be used to get the list of supported commands."
   ]
  },
  {
   "cell_type": "code",
   "execution_count": 7,
   "id": "a6e0890f",
   "metadata": {
    "pycharm": {
     "name": "#%%\n"
    }
   },
   "outputs": [],
   "source": [
    "%load_ext dataflow.magics"
   ]
  },
  {
   "cell_type": "markdown",
   "id": "b39ac865",
   "metadata": {
    "pycharm": {
     "name": "#%% md\n"
    }
   },
   "source": [
    "<a id=\"create_session\"></a>\n",
    "### 3.2. Create Session\n",
    "To create a new Data Flow cluster session use the `%create_session` magic command."
   ]
  },
  {
   "cell_type": "code",
   "execution_count": 8,
   "id": "23c6a9e2",
   "metadata": {
    "pycharm": {
     "name": "#%%\n"
    }
   },
   "outputs": [
    {
     "name": "stdout",
     "output_type": "stream",
     "text": [
      "Setting up the Cluster..\n"
     ]
    },
    {
     "data": {
      "application/vnd.jupyter.widget-view+json": {
       "model_id": "56a9bba76fb7424ea6a7bc207a085508",
       "version_major": 2,
       "version_minor": 0
      },
      "text/plain": [
       "FloatProgress(value=0.0, bar_style='info', description='Progress:', layout=Layout(height='25px', width='50%'),…"
      ]
     },
     "metadata": {},
     "output_type": "display_data"
    },
    {
     "name": "stdout",
     "output_type": "stream",
     "text": [
      "Cluster is ready..\n",
      "Starting Spark application..\n"
     ]
    },
    {
     "data": {
      "text/html": [
       "<table>\n",
       "<tr><th>Session ID</th><th>Kind</th><th>State</th><th>Current session</th></tr><tr><td>ocid1.dataflowapplication.oc1.iad.anuwcljsnif7xwia5uvy54rp5ybm2u2va6sg2azmpmtsw4i7s2wpqy3thj3a</td><td>pyspark</td><td>IN_PROGRESS</td><td><a target=\"_blank\" href=\"https://console.us-phoenix-1.oraclecloud.com/data-flow/runs/details/ocid1.dataflowrun.oc1.iad.anuwcljsnif7xwiajm5mqfvu3hqxikxq3mrbdfcv5qyvxur7aplpoasodkzq?region=us-ashburn-1\">Dataflow Run</a></td></tr></table>"
      ],
      "text/plain": [
       "<IPython.core.display.HTML object>"
      ]
     },
     "metadata": {},
     "output_type": "display_data"
    },
    {
     "data": {
      "application/vnd.jupyter.widget-view+json": {
       "model_id": "",
       "version_major": 2,
       "version_minor": 0
      },
      "text/plain": [
       "FloatProgress(value=0.0, bar_style='info', description='Progress:', layout=Layout(height='25px', width='50%'),…"
      ]
     },
     "metadata": {},
     "output_type": "display_data"
    },
    {
     "name": "stdout",
     "output_type": "stream",
     "text": [
      "SparkSession available as 'spark'.\n",
      "SparkContext available as 'sc'.\n"
     ]
    }
   ],
   "source": [
    "command = prepare_command(\n",
    "    {\n",
    "        \"compartmentId\": compartment_id,\n",
    "        \"displayName\": \"spark_session_via_notebook\",\n",
    "        \"language\": \"PYTHON\",\n",
    "        \"sparkVersion\": \"3.2.1\",\n",
    "        \"numExecutors\": 8,\n",
    "        \"metastoreId\": metastore_id,\n",
    "        \"driverShape\": \"VM.Standard2.1\",\n",
    "        \"executorShape\": \"VM.Standard2.1\",\n",
    "        \"driverShapeConfig\": {\"ocpus\": 2, \"memoryInGBs\": 16},\n",
    "        \"executorShapeConfig\": {\"ocpus\": 2, \"memoryInGBs\": 16},\n",
    "        \"type\": \"SESSION\",\n",
    "        \"logsBucketUri\": logs_bucket_uri,\n",
    "        \"configuration\": {\n",
    "            \"spark.archives\": custom_conda_environment_uri,\n",
    "            \"fs.oci.client.hostname\": \"https://objectstorage.us-ashburn-1.oraclecloud.com\"\n",
    "        },\n",
    "    }\n",
    ")\n",
    "\n",
    "%create_session -l python -c $command"
   ]
  },
  {
   "cell_type": "code",
   "execution_count": 9,
   "id": "53a7b300",
   "metadata": {
    "pycharm": {
     "name": "#%%\n"
    }
   },
   "outputs": [
    {
     "data": {
      "application/vnd.jupyter.widget-view+json": {
       "model_id": "",
       "version_major": 2,
       "version_minor": 0
      },
      "text/plain": [
       "FloatProgress(value=0.0, bar_style='info', description='Progress:', layout=Layout(height='25px', width='50%'),…"
      ]
     },
     "metadata": {},
     "output_type": "display_data"
    }
   ],
   "source": [
    "%%spark\n",
    "from great_expectations.core import ExpectationSuite, ExpectationConfiguration\n",
    "\n",
    "import ads\n",
    "from ads.feature_store.entity import Entity\n",
    "from ads.feature_store.feature_group import FeatureGroup\n",
    "from ads.feature_store.feature_group_expectation import ExpectationType\n",
    "from ads.feature_store.feature_store import FeatureStore\n",
    "from ads.feature_store.input_feature_detail import FeatureDetail, FeatureType\n",
    "from ads.feature_store.statistics_config import StatisticsConfig\n",
    "from ads.feature_store.transformation import TransformationMode\n",
    "import os\n",
    "\n",
    "# Set the Authentications for the feature store operations\n",
    "ads.set_auth(auth=\"resource_principal\", client_kwargs={\"service_endpoint\": \"https://pac7vnpvfa2xkagazweggatqwy.apigateway.us-ashburn-1.oci.customer-oci.com/20230101\"})\n",
    "\n",
    "# Variables\n",
    "compartment_id = \"<compartment_id>\"\n",
    "metastore_id = \"<metastore_id>\""
   ]
  },
  {
   "cell_type": "markdown",
   "id": "6824f08f",
   "metadata": {
    "pycharm": {
     "name": "#%% md\n"
    }
   },
   "source": [
    "<a id=\"data_exploration\"></a>\n",
    "### 3.3. Data exploration"
   ]
  },
  {
   "cell_type": "code",
   "execution_count": 10,
   "id": "eabdb503",
   "metadata": {
    "pycharm": {
     "name": "#%%\n"
    }
   },
   "outputs": [
    {
     "data": {
      "application/vnd.jupyter.widget-view+json": {
       "model_id": "",
       "version_major": 2,
       "version_minor": 0
      },
      "text/plain": [
       "FloatProgress(value=0.0, bar_style='info', description='Progress:', layout=Layout(height='25px', width='50%'),…"
      ]
     },
     "metadata": {},
     "output_type": "display_data"
    },
    {
     "name": "stdout",
     "output_type": "stream",
     "text": [
      "+---------+-------------------+-------------------+\n",
      "|vendor_id|          pickup_at|         dropoff_at|\n",
      "+---------+-------------------+-------------------+\n",
      "|      CMT|2011-01-29 02:38:35|2011-01-29 02:47:07|\n",
      "|      CMT|2011-01-28 10:38:19|2011-01-28 10:42:18|\n",
      "|      CMT|2011-01-28 23:49:58|2011-01-28 23:57:44|\n",
      "|      CMT|2011-01-28 23:52:09|2011-01-28 23:59:21|\n",
      "|      CMT|2011-01-28 10:34:39|2011-01-28 11:25:50|\n",
      "|      CMT|2011-01-28 23:50:00|2011-01-28 23:58:11|\n",
      "|      CMT|2011-01-29 02:38:48|2011-01-29 02:50:37|\n",
      "|      CMT|2011-01-29 02:41:16|2011-01-29 02:45:45|\n",
      "|      CMT|2011-01-28 23:50:51|2011-01-29 00:07:55|\n",
      "|      CMT|2011-01-29 02:41:34|2011-01-29 03:08:14|\n",
      "|      CMT|2011-01-28 23:50:22|2011-01-29 00:03:23|\n",
      "|      CMT|2011-01-29 02:40:30|2011-01-29 02:43:08|\n",
      "|      CMT|2011-01-29 02:42:47|2011-01-29 02:50:31|\n",
      "|      CMT|2011-01-28 23:51:10|2011-01-29 00:03:19|\n",
      "|      CMT|2011-01-28 05:07:16|2011-01-28 05:12:25|\n",
      "|      CMT|2011-01-29 02:42:31|2011-01-29 02:55:56|\n",
      "|      CMT|2011-01-28 23:51:01|2011-01-28 23:59:06|\n",
      "|      CMT|2011-01-29 02:39:23|2011-01-29 02:59:31|\n",
      "|      CMT|2011-01-29 02:41:18|2011-01-29 02:50:43|\n",
      "|      CMT|2011-01-28 10:30:44|2011-01-28 10:48:05|\n",
      "+---------+-------------------+-------------------+\n",
      "only showing top 20 rows"
     ]
    }
   ],
   "source": [
    "%%spark\n",
    "df_nyc_tlc = spark.read.parquet(\"oci://hosted-ds-datasets@bigdatadatasciencelarge/nyc_tlc/201[1,2,3,4,5,6,7,8]/**/data.parquet\", header=False, inferSchema=True)\n",
    "df_nyc_tlc = df_nyc_tlc.select(\"vendor_id\", \"pickup_at\", \"dropoff_at\")\n",
    "\n",
    "df_nyc_tlc.show()"
   ]
  },
  {
   "cell_type": "markdown",
   "id": "d5e06db4",
   "metadata": {
    "pycharm": {
     "name": "#%% md\n"
    }
   },
   "source": [
    "<a id=\"load_featuregroup\"></a>\n",
    "### 3.4. Create feature store logical entities"
   ]
  },
  {
   "cell_type": "markdown",
   "id": "c8e0ce2e",
   "metadata": {
    "pycharm": {
     "name": "#%% md\n"
    }
   },
   "source": [
    "<a id=\"create_feature_store\"></a>\n",
    "#### 3.4.1 Creation of Feature Store\n",
    "Feature store is the top level entity for feature store service"
   ]
  },
  {
   "cell_type": "code",
   "execution_count": 11,
   "id": "7228e930",
   "metadata": {
    "pycharm": {
     "name": "#%%\n"
    }
   },
   "outputs": [
    {
     "data": {
      "application/vnd.jupyter.widget-view+json": {
       "model_id": "",
       "version_major": 2,
       "version_minor": 0
      },
      "text/plain": [
       "FloatProgress(value=0.0, bar_style='info', description='Progress:', layout=Layout(height='25px', width='50%'),…"
      ]
     },
     "metadata": {},
     "output_type": "display_data"
    },
    {
     "name": "stdout",
     "output_type": "stream",
     "text": [
      "\n",
      "kind: featurestore\n",
      "spec:\n",
      "  compartmentId: ocid1.tenancy.oc1..aaaaaaaa25c5a2zpfki3wo4ofza5l72aehvwkjbuavpnzqtmr4nigdgzi57a\n",
      "  description: Feature Store Description\n",
      "  displayName: FeatureStore\n",
      "  id: 8893420628AB925DBEF259F660862F31\n",
      "  offlineConfig:\n",
      "    metastoreId: ocid1.datacatalogmetastore.oc1.iad.amaaaaaanif7xwiaavhd2liaebamr3tbjzio3uw2lxuteoa5ejsfvhqufbsa\n",
      "type: featureStore"
     ]
    }
   ],
   "source": [
    "%%spark\n",
    "feature_store_resource = FeatureStore(). \\\n",
    "    with_description(\"Feature Store Description\"). \\\n",
    "    with_compartment_id(compartment_id). \\\n",
    "    with_display_name(\"FeatureStore\"). \\\n",
    "    with_offline_config(metastore_id=metastore_id)\n",
    "\n",
    "feature_store = feature_store_resource.create()\n",
    "feature_store"
   ]
  },
  {
   "cell_type": "markdown",
   "id": "a805da11",
   "metadata": {
    "pycharm": {
     "name": "#%% md\n"
    }
   },
   "source": [
    "<a id=\"create_entity\"></a>\n",
    "#### 3.4.2 Creation of Entity\n",
    "An entity is a group of semantically related features."
   ]
  },
  {
   "cell_type": "code",
   "execution_count": 12,
   "id": "84f611d7",
   "metadata": {
    "pycharm": {
     "name": "#%%\n"
    }
   },
   "outputs": [
    {
     "data": {
      "application/vnd.jupyter.widget-view+json": {
       "model_id": "",
       "version_major": 2,
       "version_minor": 0
      },
      "text/plain": [
       "FloatProgress(value=0.0, bar_style='info', description='Progress:', layout=Layout(height='25px', width='50%'),…"
      ]
     },
     "metadata": {},
     "output_type": "display_data"
    },
    {
     "name": "stdout",
     "output_type": "stream",
     "text": [
      "\n",
      "kind: entity\n",
      "spec:\n",
      "  compartmentId: ocid1.tenancy.oc1..aaaaaaaa25c5a2zpfki3wo4ofza5l72aehvwkjbuavpnzqtmr4nigdgzi57a\n",
      "  featureStoreId: 8893420628AB925DBEF259F660862F31\n",
      "  id: 5748B756C5CEE21176FCCDFDB64FA08F\n",
      "  name: entity_resource-sticky-salmon-2023-07-14-05:46.01\n",
      "type: entity"
     ]
    }
   ],
   "source": [
    "%%spark\n",
    "entity = feature_store.create_entity()\n",
    "entity"
   ]
  },
  {
   "cell_type": "markdown",
   "id": "4ccacb09",
   "metadata": {
    "pycharm": {
     "name": "#%% md\n"
    }
   },
   "source": [
    "<a id=\"create_feature_group\"></a>\n",
    "#### 3.4.3 Creation of Feature group\n",
    "A feature group is an object that represents a logical group of time-series feature data as it is found in a datasource."
   ]
  },
  {
   "cell_type": "code",
   "execution_count": 13,
   "id": "d58b0569",
   "metadata": {
    "pycharm": {
     "name": "#%%\n"
    }
   },
   "outputs": [
    {
     "data": {
      "application/vnd.jupyter.widget-view+json": {
       "model_id": "",
       "version_major": 2,
       "version_minor": 0
      },
      "text/plain": [
       "FloatProgress(value=0.0, bar_style='info', description='Progress:', layout=Layout(height='25px', width='50%'),…"
      ]
     },
     "metadata": {},
     "output_type": "display_data"
    },
    {
     "name": "stdout",
     "output_type": "stream",
     "text": [
      "\n",
      "kind: FeatureGroup\n",
      "spec:\n",
      "  compartmentId: ocid1.tenancy.oc1..aaaaaaaa25c5a2zpfki3wo4ofza5l72aehvwkjbuavpnzqtmr4nigdgzi57a\n",
      "  entityId: 5748B756C5CEE21176FCCDFDB64FA08F\n",
      "  expectationDetails:\n",
      "    createRuleDetails:\n",
      "    - arguments:\n",
      "        column: vendor_id\n",
      "      levelType: ERROR\n",
      "      name: Rule-0\n",
      "      ruleType: EXPECT_COLUMN_VALUES_TO_NOT_BE_NULL\n",
      "    expectationType: LENIENT\n",
      "    name: feature_definition\n",
      "    validationEngineType: GREAT_EXPECTATIONS\n",
      "  featureStoreId: 8893420628AB925DBEF259F660862F31\n",
      "  id: 6BAC94626CABC8944E7C29F5D9C8FC5E\n",
      "  inputFeatureDetails:\n",
      "  - featureType: STRING\n",
      "    name: vendor_id\n",
      "    orderNumber: 1\n",
      "  - featureType: TIMESTAMP\n",
      "    name: pickup_at\n",
      "    orderNumber: 2\n",
      "  - featureType: TIMESTAMP\n",
      "    name: dropoff_at\n",
      "    orderNumber: 3\n",
      "  isInferSchema: false\n",
      "  name: feature_group_big_data\n",
      "  primaryKeys:\n",
      "    items:\n",
      "    - name: vendor_id\n",
      "  statisticsConfig:\n",
      "    isEnabled: false\n",
      "type: featureGroup"
     ]
    }
   ],
   "source": [
    "%%spark\n",
    "\n",
    "# Initialize Expectation Suite\n",
    "expectation_suite_trans = ExpectationSuite(expectation_suite_name=\"feature_definition\")\n",
    "expectation_suite_trans.add_expectation(\n",
    "    ExpectationConfiguration(\n",
    "        expectation_type=\"EXPECT_COLUMN_VALUES_TO_NOT_BE_NULL\",\n",
    "        kwargs={\"column\": \"vendor_id\"}\n",
    "    )\n",
    ")\n",
    "\n",
    "stats_config = StatisticsConfig().with_is_enabled(False)\n",
    "\n",
    "feature_group = entity.create_feature_group(\n",
    "    primary_keys=[\"vendor_id\"],\n",
    "    schema_details_dataframe=df_nyc_tlc, #infer the schema from the data frame\n",
    "    expectation_suite=expectation_suite_trans,\n",
    "    expectation_type=ExpectationType.LENIENT,\n",
    "    statistics_config=stats_config,\n",
    "    name=\"feature_group_big_data\",\n",
    ")\n",
    "\n",
    "feature_group"
   ]
  },
  {
   "cell_type": "markdown",
   "id": "76f62d36",
   "metadata": {
    "pycharm": {
     "name": "#%% md\n"
    }
   },
   "source": [
    "<a id=\"materialise_feature_store\"></a>\n",
    "#### 3.4.4 Materialisation of Feature group"
   ]
  },
  {
   "cell_type": "code",
   "execution_count": 14,
   "id": "807e843c",
   "metadata": {
    "pycharm": {
     "name": "#%%\n"
    }
   },
   "outputs": [
    {
     "data": {
      "application/vnd.jupyter.widget-view+json": {
       "model_id": "",
       "version_major": 2,
       "version_minor": 0
      },
      "text/plain": [
       "FloatProgress(value=0.0, bar_style='info', description='Progress:', layout=Layout(height='25px', width='50%'),…"
      ]
     },
     "metadata": {},
     "output_type": "display_data"
    },
    {
     "name": "stdout",
     "output_type": "stream",
     "text": [
      "Calculating Metrics: 100%|##########| 8/8 [01:04<00:00,  8.12s/it]"
     ]
    }
   ],
   "source": [
    "%%spark\n",
    "import pandas as pd\n",
    "df_nyc_tlc = spark.read.parquet(\"oci://hosted-ds-datasets@bigdatadatasciencelarge/nyc_tlc/201[1,2,3,4,5,6,7,8]/**/data.parquet\", header=False, inferSchema=True)\n",
    "df_nyc_tlc = df_nyc_tlc.select(\"vendor_id\", \"pickup_at\", \"dropoff_at\").limit(1000)\n",
    "\n",
    "feature_group.materialise(df_nyc_tlc)"
   ]
  },
  {
   "cell_type": "markdown",
   "id": "c3fe60de",
   "metadata": {
    "pycharm": {
     "name": "#%% md\n"
    }
   },
   "source": [
    "<a id=\"query_feature_group\"></a>\n",
    "#### 3.4.5 Feature group Querying"
   ]
  },
  {
   "cell_type": "code",
   "execution_count": 15,
   "id": "8363e1ea",
   "metadata": {
    "pycharm": {
     "name": "#%%\n"
    }
   },
   "outputs": [
    {
     "data": {
      "application/vnd.jupyter.widget-view+json": {
       "model_id": "",
       "version_major": 2,
       "version_minor": 0
      },
      "text/plain": [
       "FloatProgress(value=0.0, bar_style='info', description='Progress:', layout=Layout(height='25px', width='50%'),…"
      ]
     },
     "metadata": {},
     "output_type": "display_data"
    },
    {
     "name": "stdout",
     "output_type": "stream",
     "text": [
      "+---------+-------------------+-------------------+\n",
      "|vendor_id|          pickup_at|         dropoff_at|\n",
      "+---------+-------------------+-------------------+\n",
      "|      VTS|2011-02-27 04:00:00|2011-02-27 04:14:00|\n",
      "|      VTS|2011-02-27 20:38:00|2011-02-27 20:46:00|\n",
      "|      VTS|2011-02-27 17:47:00|2011-02-27 17:58:00|\n",
      "|      VTS|2011-02-26 19:56:00|2011-02-26 20:04:00|\n",
      "|      VTS|2011-02-23 13:05:00|2011-02-23 13:10:00|\n",
      "|      VTS|2011-02-27 03:48:00|2011-02-27 04:01:00|\n",
      "|      VTS|2011-02-27 17:52:00|2011-02-27 18:02:00|\n",
      "|      VTS|2011-02-27 00:44:00|2011-02-27 01:04:00|\n",
      "|      VTS|2011-02-27 04:08:00|2011-02-27 04:22:00|\n",
      "|      VTS|2011-02-27 11:53:00|2011-02-27 12:05:00|\n",
      "+---------+-------------------+-------------------+\n",
      "only showing top 10 rows"
     ]
    }
   ],
   "source": [
    "%%spark\n",
    "feature_group.select().show()"
   ]
  },
  {
   "cell_type": "code",
   "execution_count": 16,
   "id": "a992899c",
   "metadata": {
    "pycharm": {
     "name": "#%%\n"
    }
   },
   "outputs": [
    {
     "data": {
      "application/vnd.jupyter.widget-view+json": {
       "model_id": "",
       "version_major": 2,
       "version_minor": 0
      },
      "text/plain": [
       "FloatProgress(value=0.0, bar_style='info', description='Progress:', layout=Layout(height='25px', width='50%'),…"
      ]
     },
     "metadata": {},
     "output_type": "display_data"
    },
    {
     "name": "stdout",
     "output_type": "stream",
     "text": [
      "+---------+-------------------+\n",
      "|vendor_id|          pickup_at|\n",
      "+---------+-------------------+\n",
      "|      VTS|2011-02-27 04:00:00|\n",
      "|      VTS|2011-02-27 20:38:00|\n",
      "|      VTS|2011-02-27 17:47:00|\n",
      "|      VTS|2011-02-26 19:56:00|\n",
      "|      VTS|2011-02-23 13:05:00|\n",
      "|      VTS|2011-02-27 03:48:00|\n",
      "|      VTS|2011-02-27 17:52:00|\n",
      "|      VTS|2011-02-27 00:44:00|\n",
      "|      VTS|2011-02-27 04:08:00|\n",
      "|      VTS|2011-02-27 11:53:00|\n",
      "+---------+-------------------+\n",
      "only showing top 10 rows"
     ]
    }
   ],
   "source": [
    "%%spark\n",
    "feature_group.select([\"vendor_id\", \"pickup_at\"]).show()"
   ]
  },
  {
   "cell_type": "code",
   "execution_count": 17,
   "id": "aaf454e6",
   "metadata": {
    "pycharm": {
     "name": "#%%\n"
    }
   },
   "outputs": [
    {
     "data": {
      "application/vnd.jupyter.widget-view+json": {
       "model_id": "",
       "version_major": 2,
       "version_minor": 0
      },
      "text/plain": [
       "FloatProgress(value=0.0, bar_style='info', description='Progress:', layout=Layout(height='25px', width='50%'),…"
      ]
     },
     "metadata": {},
     "output_type": "display_data"
    },
    {
     "name": "stdout",
     "output_type": "stream",
     "text": [
      "+---------+---------+----------+\n",
      "|vendor_id|pickup_at|dropoff_at|\n",
      "+---------+---------+----------+\n",
      "+---------+---------+----------+"
     ]
    }
   ],
   "source": [
    "%%spark\n",
    "feature_group.filter(feature_group.vendor_id == \"CMT\").show()"
   ]
  },
  {
   "cell_type": "markdown",
   "id": "5bd5b8e6",
   "metadata": {
    "pycharm": {
     "name": "#%% md\n"
    }
   },
   "source": [
    "<a id='ref'></a>\n",
    "# References\n",
    "\n",
    "- [ADS Library Documentation](https://accelerated-data-science.readthedocs.io/en/latest/index.html)\n",
    "- [Data Science YouTube Videos](https://www.youtube.com/playlist?list=PLKCk3OyNwIzv6CWMhvqSB_8MLJIZdO80L)\n",
    "- [OCI Data Science Documentation](https://docs.cloud.oracle.com/en-us/iaas/data-science/using/data-science.htm)\n",
    "- [Oracle Data & AI Blog](https://blogs.oracle.com/datascience/)"
   ]
  },
  {
   "cell_type": "code",
   "execution_count": null,
   "id": "dd4d0acc",
   "metadata": {
    "pycharm": {
     "name": "#%%\n"
    }
   },
   "outputs": [],
   "source": []
  }
 ],
 "metadata": {
  "kernelspec": {
   "display_name": "Python [conda env:fspyspark32_p38_cpu#conda_v1]",
   "language": "python",
   "name": "conda-env-fspyspark32_p38_cpu_conda_v1-py"
  },
  "language_info": {
   "codemirror_mode": {
    "name": "ipython",
    "version": 3
   },
   "file_extension": ".py",
   "mimetype": "text/x-python",
   "name": "python",
   "nbconvert_exporter": "python",
   "pygments_lexer": "ipython3",
   "version": "3.8.17"
  }
 },
 "nbformat": 4,
 "nbformat_minor": 5
}
