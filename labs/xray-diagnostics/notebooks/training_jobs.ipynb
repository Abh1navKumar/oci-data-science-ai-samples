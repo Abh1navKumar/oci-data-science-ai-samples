{
 "cells": [
  {
   "cell_type": "markdown",
   "id": "cdde77d6",
   "metadata": {},
   "source": [
    "### OCI Data Science - Useful Tips\n",
    "<details>\n",
    "<summary><font size=\"2\">Check for Public Internet Access</font></summary>\n",
    "\n",
    "```python\n",
    "import requests\n",
    "response = requests.get(\"https://oracle.com\")\n",
    "assert response.status_code==200, \"Internet connection failed\"\n",
    "```\n",
    "</details>\n",
    "<details>\n",
    "<summary><font size=\"2\">Helpful Documentation </font></summary>\n",
    "<ul><li><a href=\"https://docs.cloud.oracle.com/en-us/iaas/data-science/using/data-science.htm\">Data Science Service Documentation</a></li>\n",
    "<li><a href=\"https://docs.cloud.oracle.com/iaas/tools/ads-sdk/latest/index.html\">ADS documentation</a></li>\n",
    "</ul>\n",
    "</details>\n",
    "<details>\n",
    "<summary><font size=\"2\">Typical Cell Imports and Settings for ADS</font></summary>\n",
    "\n",
    "```python\n",
    "%load_ext autoreload\n",
    "%autoreload 2\n",
    "%matplotlib inline\n",
    "\n",
    "import warnings\n",
    "warnings.filterwarnings('ignore')\n",
    "\n",
    "import logging\n",
    "logging.basicConfig(format='%(levelname)s:%(message)s', level=logging.ERROR)\n",
    "\n",
    "import ads\n",
    "from ads.dataset.factory import DatasetFactory\n",
    "from ads.automl.provider import OracleAutoMLProvider\n",
    "from ads.automl.driver import AutoML\n",
    "from ads.evaluations.evaluator import ADSEvaluator\n",
    "from ads.common.data import ADSData\n",
    "from ads.explanations.explainer import ADSExplainer\n",
    "from ads.explanations.mlx_global_explainer import MLXGlobalExplainer\n",
    "from ads.explanations.mlx_local_explainer import MLXLocalExplainer\n",
    "from ads.catalog.model import ModelCatalog\n",
    "from ads.common.model_artifact import ModelArtifact\n",
    "```\n",
    "</details>\n",
    "<details>\n",
    "<summary><font size=\"2\">Useful Environment Variables</font></summary>\n",
    "\n",
    "```python\n",
    "import os\n",
    "print(os.environ[\"NB_SESSION_COMPARTMENT_OCID\"])\n",
    "print(os.environ[\"PROJECT_OCID\"])\n",
    "print(os.environ[\"USER_OCID\"])\n",
    "print(os.environ[\"TENANCY_OCID\"])\n",
    "print(os.environ[\"NB_REGION\"])\n",
    "```\n",
    "</details>"
   ]
  },
  {
   "cell_type": "code",
   "execution_count": null,
   "id": "c041caba",
   "metadata": {},
   "outputs": [],
   "source": [
    "from ads.jobs import Job\n",
    "from ads.jobs import DataScienceJob, ScriptRuntime\n",
    "import ads \n",
    "ads.set_auth('resource_principal')"
   ]
  },
  {
   "cell_type": "code",
   "execution_count": null,
   "id": "dd671658",
   "metadata": {},
   "outputs": [],
   "source": [
    "infrastructure = (\n",
    "    DataScienceJob()\n",
    "    .with_shape_name(\"VM.Standard2.24\")\n",
    "    .with_block_storage_size(50)\n",
    "    .with_log_group_id(\"\")\n",
    "    .with_log_id(\"\")\n",
    ")"
   ]
  },
  {
   "cell_type": "code",
   "execution_count": null,
   "id": "3ad28185",
   "metadata": {},
   "outputs": [],
   "source": [
    "runtime = (\n",
    "    ScriptRuntime()\n",
    "    .with_source(\"./training_vgg16.py\")\n",
    "    .with_service_conda(\"tensorflow26_p37_gpu_v3\")\n",
    ")"
   ]
  },
  {
   "cell_type": "code",
   "execution_count": null,
   "id": "b1b4652e",
   "metadata": {},
   "outputs": [],
   "source": [
    "job = Job(name='vgg16-training').with_infrastructure(infrastructure).with_runtime(runtime)"
   ]
  },
  {
   "cell_type": "code",
   "execution_count": null,
   "id": "c4749252",
   "metadata": {},
   "outputs": [],
   "source": [
    "job.to_yaml('training-config.yaml')"
   ]
  },
  {
   "cell_type": "code",
   "execution_count": null,
   "id": "4d64c71d",
   "metadata": {},
   "outputs": [],
   "source": [
    "job.create()"
   ]
  },
  {
   "cell_type": "code",
   "execution_count": null,
   "id": "eb5400df",
   "metadata": {},
   "outputs": [],
   "source": [
    "job_run = job.run()"
   ]
  },
  {
   "cell_type": "code",
   "execution_count": null,
   "id": "bbf90bfe",
   "metadata": {},
   "outputs": [],
   "source": [
    "job_run.watch()"
   ]
  },
  {
   "cell_type": "code",
   "execution_count": null,
   "id": "1c08cdfd",
   "metadata": {},
   "outputs": [],
   "source": []
  }
 ],
 "metadata": {
  "kernelspec": {
   "display_name": "Python [conda env:tensorflow26_p37_gpu_v3]",
   "language": "python",
   "name": "conda-env-tensorflow26_p37_gpu_v3-py"
  },
  "language_info": {
   "codemirror_mode": {
    "name": "ipython",
    "version": 3
   },
   "file_extension": ".py",
   "mimetype": "text/x-python",
   "name": "python",
   "nbconvert_exporter": "python",
   "pygments_lexer": "ipython3",
   "version": "3.7.12"
  }
 },
 "nbformat": 4,
 "nbformat_minor": 5
}
