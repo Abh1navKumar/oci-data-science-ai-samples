{
 "cells": [
  {
   "cell_type": "markdown",
   "metadata": {},
   "source": [
    "<font color=gray>ADS Sample Notebook.\n",
    "\n",
    "Copyright (c) 2021 Oracle, Inc. All rights reserved. Licensed under the Universal Permissive License v 1.0 as shown at https://oss.oracle.com/licenses/upl.\n",
    "</font>"
   ]
  },
  {
   "cell_type": "markdown",
   "metadata": {},
   "source": [
    "***\n",
    "# <font color=red>Getting Started with Oracle Cloud Infrastructure Data Science</font>\n",
    "<p style=\"margin-left:10%; margin-right:10%;\">by the <font color=teal> Oracle Cloud Infrastructure Data Science Service Team </font></p>\n",
    "\n",
    "***"
   ]
  },
  {
   "cell_type": "markdown",
   "metadata": {},
   "source": [
    "## Service Overview\n",
    "\n",
    "Welcome to Oracle Cloud Infrastructure Data Science service.\n",
    "\n",
    "The Oracle Cloud Infrastructure Data Science service is a fully managed platform for data science teams to build, train, and manage machine learning models using the Oracle Cloud Infrastructure (OCI).\n",
    "\n",
    "The Data Science service:\n",
    "\n",
    "* Provides data scientists with a collaborative, project-driven workspace.\n",
    "* Enables self-service access to infrastructure for data science workloads.\n",
    "* Includes Python-centric tools, libraries, and packages developed by the open-source community and the [Oracle Accelerated Data Science Library](https://docs.cloud.oracle.com/iaas/tools/ads-sdk/latest/index.html), which supports the end-to-end lifecycle of predictive models including:\n",
    "    * Data acquisition, profiling, preparation, and visualization.\n",
    "    * Feature engineering.\n",
    "    * Model training.\n",
    "    * Model evaluation, explanation, and interpretation.\n",
    "    * Model storage using the [Model Catalog](https://docs.cloud.oracle.com/iaas/data-science/using/manage-models.htm). \n",
    "    * [Model deployment](https://docs.oracle.com/iaas/data-science/using/model-dep-about.htm).\n",
    "* Integrates with the rest of the OCI stack, including [Functions](https://docs.cloud.oracle.com/iaas/Content/Functions/Concepts/functionsoverview.htm), [Data Flow](https://docs.cloud.oracle.com/en-us/iaas/data-flow/using/dfs_data_flow.htm), [Autonomous Data Warehouse](https://docs.cloud.oracle.com/iaas/Content/Database/Concepts/adboverview.htm), [Streaming](https://docs.cloud.oracle.com/iaas/Content/Streaming/Concepts/streamingoverview.htm), [Vault](https://docs.cloud.oracle.com/iaas/Content/KeyManagement/Concepts/keyoverview.htm), [Logging](https://docs.cloud.oracle.com/iaas/Content/Logging/Concepts/loggingoverview.htm#loggingoverview), and [Object Storage](https://docs.cloud.oracle.com/iaas/Content/Object/Concepts/objectstorageoverview.htm).\n",
    "* Helps data scientists concentrate on methodology and domain expertise to deliver more models to production.\n",
    "\n",
    "For more details, see the [Data Science documentation](https://docs.cloud.oracle.com/iaas/data-science/using/data-science.htm).\n",
    "\n",
    "---\n",
    "\n",
    "## Overview\n",
    "\n",
    "The PyTorch for CPUs [conda environment](https://docs.cloud.oracle.com/iaas/data-science/using/use-notebook-sessions.htm#conda_understand_environments) is designed for machine learning activities with a focus on applications in computer vision and natural language processing. It provides high-level features for tensor computing and deep neural networks.  This environment also includes acceleration support on Intel's CPUs with the use of `daal4py`. This library enhances `scikit-learn` algorithms by using Intel(R) `oneAPI` Data Analytics library. Use ads-lite to speed up your data science workflow with tools that automate common tasks.\n",
    "\n",
    "---\n",
    "\n",
    "**Important:**\n",
    "\n",
    "Placeholder text for required values are surrounded by angle brackets that must be removed when adding the indicated content. For example, when adding a database name to `database_name = \"<database_name>\"` would become `database_name = \"production\"`.\n",
    "\n",
    "---\n",
    "\n",
    "## Prerequisites:\n",
    "- Experience with a specific topic: Novice\n",
    "- Professional experience: None\n",
    "\n",
    "---\n",
    "\n",
    "## Objectives:\n",
    "\n",
    "- <a href='#authentication'>Understanding Authentication to Oracle Cloud Infrastructure Resources from a Notebook Session</a>\n",
    "    - <a href='#resource_principals'>Authentication with Resource Principals</a>\n",
    "        - <a href='#resource_principals_ads'>Resource Principals Authentication using the ADS SDK</a>\n",
    "        - <a href='#resource_principals_oci'>Resource Principals Authentication using the OCI SDK</a>\n",
    "        - <a href='#resource_principals_cli'>Resource Principals Authentication using the OCI CLI</a> \n",
    "    - <a href='#api_keys'>Authentication with API Keys</a>\n",
    "- <a href='#conda'>PyTorch for CPU Conda Environment</a>\n",
    "    - <a href='#conda_overview'>Overview</a>\n",
    "    - <a href='#conda_libraries'>Principal Conda Libraries</a>\n",
    "    - <a href='#conda_configuration'>Configuration</a>\n",
    "- <a href='#ref'>References</a> \n",
    "\n",
    "---"
   ]
  },
  {
   "cell_type": "code",
   "execution_count": null,
   "metadata": {},
   "outputs": [],
   "source": [
    "import daal4py.sklearn\n",
    "import logging\n",
    "import pandas\n",
    "import warnings\n",
    "\n",
    "from ads import set_auth\n",
    "from ads import set_documentation_mode\n",
    "from oci.auth.signers import get_resource_principals_signer\n",
    "from oci.data_science import DataScienceClient\n",
    "from os import popen\n",
    "\n",
    "set_documentation_mode(False)\n",
    "warnings.filterwarnings('ignore')\n",
    "logging.basicConfig(format='%(levelname)s:%(message)s', level=logging.ERROR)"
   ]
  },
  {
   "cell_type": "markdown",
   "metadata": {},
   "source": [
    "<a id='authentication'></a>\n",
    "# Understanding Authentication to Oracle Cloud Infrastructure Resources from a Notebook Session\n",
    "\n",
    "When working within a notebook session, the `datascience` user is used. This user does not have an OCI Identity and Access Management (IAM) identity, so it cannot access the OCI API. To access OCI resources, including Data Science projects, models, and any other OCI service resources from the notebook environment, you must configure either resource principals or API keys. For most applications, we recommend the resource principals approach.\n",
    "\n",
    "<a id='resource_principals'></a>\n",
    "## Authentication with Resource Principals\n",
    "\n",
    "Data Science enables easy and secure authentication using the notebook session's resource principal to access other OCI resources. This notebook demonstrates how to use your notebook session's resource principal.\n",
    "\n",
    "Before you use this notebook, your tenancy administrator must write policies to grant permissions to the resource principal to access other OCI resources, see [Manually Configuring Your Tenancy for Data Science](https://docs.cloud.oracle.com/iaas/data-science/using/configure-tenancy.htm).\n",
    "\n",
    "You can use either the `ads` library or  the `oci` library to configure the notebook to use resource principals. While both libraries provide the required authentication, the `ads` library is specifically designed for easy operation within a Data Science notebook session.\n",
    "\n",
    "To avoid the library dependencies, you can use the `oci` command from the command line.\n",
    "\n",
    "For more details on using resource principals in the Data Science service, see the [ADS Configuration Guide](https://docs.cloud.oracle.com/iaas/tools/ads-sdk/latest/user_guide/configuration/configuration.html#) and the [Authenticating to the OCI APIs from a Notebook Session](https://docs.cloud.oracle.com/iaas/data-science/using/use-notebook-sessions.htm#topic_kxj_znw_pkb).\n",
    "\n",
    "<a id='resource_principals_ads'></a>\n",
    "### Resource Principals Authentication using the ADS SDK\n",
    "\n",
    "The `set_auth()` method sets the proper authentication mechanism for ADS. ADS uses the `oci` SDK to access resources like the model catalog or Object Storage.\n",
    "\n",
    "Within a notebook session, you configure the use of a resource principal for the ADS SDK by running this in a notebook cell:\n",
    "\n"
   ]
  },
  {
   "cell_type": "code",
   "execution_count": null,
   "metadata": {},
   "outputs": [],
   "source": [
    "set_auth(auth='resource_principal') "
   ]
  },
  {
   "cell_type": "markdown",
   "metadata": {},
   "source": [
    "<a id='resource_principals_oci'></a>\n",
    "### Resource Principals Authentication using the OCI SDK\n",
    "\n",
    "Within your notebook session, the `oci` library can use the resource principal. The next cell demonstrates how to make a basic connection using the default settings:"
   ]
  },
  {
   "cell_type": "code",
   "execution_count": null,
   "metadata": {},
   "outputs": [],
   "source": [
    "resource_principal = get_resource_principals_signer() \n",
    "dsc = DataScienceClient(config={}, signer=resource_principal)"
   ]
  },
  {
   "cell_type": "markdown",
   "metadata": {},
   "source": [
    "<a id='resource_principals_cli'></a>\n",
    "### Resource Principals Authentication using the OCI CLI\n",
    "\n",
    "Within a notebook session, you can use the OCI CLI to configure the resource principal using the `--auth=resource_principal` flag. For example:"
   ]
  },
  {
   "cell_type": "code",
   "execution_count": null,
   "metadata": {},
   "outputs": [],
   "source": [
    "cmd = \"oci data-science project get --project-id=$PROJECT_OCID --auth=resource_principal 2>&1\"\n",
    "print(popen(cmd).read())"
   ]
  },
  {
   "cell_type": "markdown",
   "metadata": {},
   "source": [
    "If the resource principal is correctly configured, messages similar to the following display:\n",
    "\n",
    "```\n",
    "{\n",
    "\"data\": {\n",
    "\"compartment-id\": \"ocid1.compartment.oc1..aaaaaaaafl3avkal72rrwuy4m5rumpwh7r4axejjwq5hvwjy4h4uoyi7kzyq\",\n",
    "\"created-by\": \"ocid1.user.oc1..aaaaaaaabfrlcbiyvjmjvgh3ns6trdyoewxytqywwta3yqmy3ah3fa3uw76q\",\n",
    "\"defined-tags\": {},\n",
    "\"description\": \"my favorite demo project\\n\",\n",
    "\"display-name\": \"jr-demo-project\",\n",
    "\"freeform-tags\": {},\n",
    "\"id\": \"ocid1.datascienceproject.oc1.iad.aaaaaaaappvg4tp5kmbkurcyeghxaqmaknw3s5yh2oxcvfrvjeaadinsng6q\",\n",
    "\"lifecycle-state\": \"ACTIVE\",\n",
    "\"time-created\": \"2019-11-14T22:29:06.870000+00:00\"\n",
    "},\n",
    "\"etag\": \"b4d66fb733748f3454206d5de6b9acb3634edc804b2ad1997bd69dc676035a89\"\n",
    "}\n",
    "```\n",
    "\n",
    "<a id='api_keys'></a>\n",
    "## Authentication with API Keys\n",
    "\n",
    "If resource principals are not explicitly used, then API Keys are used by default. For some use cases, see the instructions in the `api_keys.ipynb` example notebook.\n",
    "\n",
    "<a id='conda'></a>\n",
    "# PyTorch for CPU Conda Environment\n",
    "\n",
    "<a id='conda_overview'></a>\n",
    "## Overview\n",
    "\n",
    "The PyTorch for CPUs [conda environment](https://docs.cloud.oracle.com/iaas/data-science/using/use-notebook-sessions.htm#conda_understand_environments) is designed for machine learning activities with a focus on applications in computer vision and natural language processing. It provides high-level features for tensor computing and deep neural networks.  This environment also includes acceleration support on Intel's CPUs with the use of `daal4py`. This library enhances `scikit-learn` algorithms by using Intel(R) `oneAPI` Data Analytics library. Use ads-lite to speed up your data science workflow with tools that automate common tasks.\n",
    "\n",
    "You can access notebook examples for this conda environment in JupyterLab from the **Launcher** tab by clicking **Notebook Examples**. Then you can select one of the notebook examples that are available for all of the conda environments intsalled in your notebook session. \n",
    "\n",
    "For a description of each notebook example, see [Overview of the Notebook Examples](https://docs.cloud.oracle.com/iaas/data-science/using/use-notebook-sessions.htm#overview_of_the_notebook_examples). The notebook examples for the PyTorch for CPUs environment emphasize the use of the Oracle [ADS](https://docs.cloud.oracle.com/iaas/tools/ads-sdk/latest/index.html) libraries for a variety of machine learning use cases.\n",
    "\n",
    "<a id='conda_libraries'></a>\n",
    "## Principal Conda Libraries\n",
    "\n",
    "- `ads-lite`\n",
    "- `category-encoders`\n",
    "- `daal4py`\n",
    "- `pandas`\n",
    "- `scikit-learn`\n",
    "\n",
    "<a id='conda_configuration'></a>\n",
    "## Configuration\n",
    "\n",
    "No additional configuration is needed to use this conda environment."
   ]
  },
  {
   "cell_type": "markdown",
   "metadata": {},
   "source": [
    "# References\n",
    "\n",
    "* [Understanding and Using Conda Environments](https://docs.cloud.oracle.com/iaas/data-science/using/use-notebook-sessions.htm#conda_understand_environments)\n",
    "* [Intel's oneAPI Data Analytics Library](https://intelpython.github.io/daal4py/)\n",
    "* [ADS Configuration Guide](https://docs.cloud.oracle.com/iaas/tools/ads-sdk/latest/user_guide/configuration/configuration.html#)\n",
    "* [Authenticating to the Oracle Cloud Infrastructure APIs from a Notebook Session](https://docs.cloud.oracle.com/iaas/data-science/using/use-notebook-sessions.htm#topic_kxj_znw_pkb)\n",
    "* [Manually Configuring Your Tenancy for Data Science](https://docs.cloud.oracle.com/iaas/data-science/using/configure-tenancy.htm)\n",
    "* [Data Science service guide](https://docs.cloud.oracle.com/iaas/data-science/using/data-science.htm)\n",
    "* [Our Data Science & AI Blog](https://blogs.oracle.com/datascience/)"
   ]
  }
 ],
 "metadata": {
  "kernelspec": {
   "display_name": "Python [conda env:dbv1]",
   "language": "python",
   "name": "conda-env-dbv1-py"
  },
  "language_info": {
   "codemirror_mode": {
    "name": "ipython",
    "version": 3
   },
   "file_extension": ".py",
   "mimetype": "text/x-python",
   "name": "python",
   "nbconvert_exporter": "python",
   "pygments_lexer": "ipython3",
   "version": "3.6.12"
  }
 },
 "nbformat": 4,
 "nbformat_minor": 4
}
