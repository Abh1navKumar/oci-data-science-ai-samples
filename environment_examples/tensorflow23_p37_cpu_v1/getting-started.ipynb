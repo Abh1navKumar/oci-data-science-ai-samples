{
 "cells": [
  {
   "cell_type": "markdown",
   "metadata": {},
   "source": [
    "<font color=gray>ADS Sample Notebook.\n",
    "\n",
    "Copyright (c) 2021 Oracle, Inc. All rights reserved. Licensed under the Universal Permissive License v 1.0 as shown at https://oss.oracle.com/licenses/upl.\n",
    "</font>"
   ]
  },
  {
   "cell_type": "markdown",
   "metadata": {},
   "source": [
    "***\n",
    "# <font color=red>Getting Started with Oracle Cloud Infrastructure Data Science</font>\n",
    "<p style=\"margin-left:10%; margin-right:10%;\">by the <font color=teal> Oracle Cloud Infrastructure Data Science Service Team </font></p>\n",
    "\n",
    "***"
   ]
  },
  {
   "cell_type": "markdown",
   "metadata": {},
   "source": [
    "## Service Overview\n",
    "\n",
    "Welcome to Oracle Cloud Infrastructure Data Science Service!\n",
    "\n",
    "Oracle Cloud Infrastructure Data Science Service is a fully managed platform for data science teams to build, train, and manage machine learning models using Oracle Cloud Infrastructure.\n",
    "\n",
    "The Data Science Service:\n",
    "\n",
    "* Provides data scientists with a collaborative, project-driven workspace.\n",
    "* Enables self-service access to infrastructure for data science workloads.\n",
    "* Includes Python-centric tools, libraries, and packages developed by the open-source community and the [Oracle Accelerated Data Science Library](https://docs.cloud.oracle.com/en-us/iaas/tools/ads-sdk/latest/index.html), which supports the end-to-end lifecycle of predictive models:\n",
    "* Data acquisition, profiling, preparation, and visualization.\n",
    "* Feature engineering.\n",
    "* Model training.\n",
    "* Model evaluation, explanation, and interpretation.\n",
    "* Model storage through the [Model Catalog](https://docs.cloud.oracle.com/en-us/iaas/data-science/using/manage-models.htm). \n",
    "* Model deployment.\n",
    "* Integrates with the rest of the Oracle Cloud Infrastructure stack, including [Oracle Functions](https://docs.cloud.oracle.com/en-us/iaas/Content/Functions/Concepts/functionsoverview.htm), [Data Flow](https://docs.cloud.oracle.com/en-us/iaas/data-flow/using/dfs_data_flow.htm), [Autonomous Data Warehouse](https://docs.cloud.oracle.com/en-us/iaas/Content/Database/Concepts/adboverview.htm), [Streaming](https://docs.cloud.oracle.com/en-us/iaas/Content/Streaming/Concepts/streamingoverview.htm), [Vault](https://docs.cloud.oracle.com/en-us/iaas/Content/KeyManagement/Concepts/keyoverview.htm), [Logging](https://docs.cloud.oracle.com/en-us/iaas/Content/Logging/Concepts/loggingoverview.htm#loggingoverview), and [Object Storage](https://docs.cloud.oracle.com/en-us/iaas/Content/Object/Concepts/objectstorageoverview.htm).\n",
    "* Helps data scientists concentrate on methodology and domain expertise to deliver more models to production.\n",
    "\n",
    "For more details, check out the [Data Science service guide](https://docs.cloud.oracle.com/en-us/iaas/data-science/using/data-science.htm).\n",
    "\n",
    "---\n",
    "\n",
    "## Overview\n",
    "\n",
    "This TensorFlow for CPUs [conda environment](https://docs.cloud.oracle.com/en-us/iaas/data-science/using/use-notebook-sessions.htm#conda_understand_environments) is an ecosystem to create state-of-the-art machine learning models. You can use TensorFlow to train and deploy deep neural networks for image recognition, natural language processing, recurrent neural networks, and other machine learning applications. Use the `ads-lite` library to speed up your data science workflow.\n",
    "\n",
    "The notebook examples emphasize the use of [Oracle Accelerated Data Science SDK (ADS)](https://docs.oracle.com/en-us/iaas/tools/ads-sdk/latest/index.html) for a variety of use cases.\n",
    "\n",
    "---\n",
    "\n",
    "**Important:**\n",
    "\n",
    "Placeholder text for required values are surrounded by angle brackets that must be removed when adding the indicated content. For example, when adding a database name to `database_name = \"<database_name>\"` would become `database_name = \"production\"`.\n",
    "\n",
    "---\n",
    "\n",
    "## Prerequisites:\n",
    "- Experience with a specific topic: Novice\n",
    "- Professional experience: None\n",
    "\n",
    "---\n",
    "\n",
    "## Objectives:\n",
    "- <a href='#authentication'>Understanding Authentication to Oracle Cloud Infrastructure Resources from a Notebook Session</a>\n",
    "    - <a href='#resource_principals'>Authentication with Resource Principals</a>\n",
    "        - <a href='#resource_principals_ads'>Resource Principals Authentication using the ADS SDK</a>\n",
    "        - <a href='#resource_principals_oci'>Resource Principals Authentication using the OCI SDK</a>\n",
    "        - <a href='#resource_principals_cli'>Resource Principals Authentication using the OCI CLI</a> \n",
    "    - <a href='#api_keys'>Authentication with API Keys</a>\n",
    "- <a href='#conda'>Conda</a>\n",
    "    - <a href='#conda_overview'>Overview</a>\n",
    "    - <a href='#conda_libraries'>Principal Conda Libraries</a>\n",
    "    - <a href='#conda_configuration'>Configuration</a>\n",
    "- <a href='#ref'>References</a> \n",
    "\n",
    "---"
   ]
  },
  {
   "cell_type": "code",
   "execution_count": null,
   "metadata": {},
   "outputs": [],
   "source": [
    "import logging\n",
    "import warnings\n",
    "\n",
    "from ads import set_auth\n",
    "from ads import set_documentation_mode\n",
    "from oci.auth.signers import get_resource_principals_signer\n",
    "from oci.data_science import DataScienceClient\n",
    "from os import popen\n",
    "\n",
    "set_documentation_mode(False)\n",
    "warnings.filterwarnings('ignore')\n",
    "logging.basicConfig(format='%(levelname)s:%(message)s', level=logging.ERROR)"
   ]
  },
  {
   "cell_type": "markdown",
   "metadata": {},
   "source": [
    "<a id='authentication'></a>\n",
    "# Understanding Authentication to Oracle Cloud Infrastructure Resources from a Notebook Session\n",
    "\n",
    "When working within a notebook session, the `datascience` user is used. This user does not have an Oracle Cloud Infrastructure Identity and Access Management (IAM) identity, so it has no access to the Oracle Cloud Infrastructure API. To access Oracle Cloud Infrastructure resources, including Data Science projects, models and any other Oracle Cloud Infrastructure service resources from the notebook environment, you must configure either resource principals or API keys. For most applications, the resource principal is the recommended approach.\n",
    "\n",
    "<a id='resource_principals'></a>\n",
    "## Authentication with Resource Principals\n",
    "\n",
    "Oracle Cloud Infrastructure Data Science enables easy and secure authentication using the notebook session's resource principal to access other Oracle Cloud Infrastructure resources, including Data Science projects and models. Follow the steps below to utilize your notebook session's resource principal.\n",
    "\n",
    "In advance, a tenancy administrator must write policies to grant permissions to the resource principal to access other Oracle Cloud Infrastructure resources, see [Manually Configuring Your Tenancy for Data Science](https://docs.cloud.oracle.com/en-us/iaas/data-science/using/configure-tenancy.htm) for more details.\n",
    "\n",
    "There are two methods to configure the notebook to use resource principals and they are `ads` library or using the `oci` library. While both these libraries provide the required authentication, the `ads` library is has been specifically designed for easy operation within a Data Science notebook session.\n",
    "\n",
    "If you do not wish to take on these library dependencies, it is also possible to use the `oci` command on the command line.\n",
    "\n",
    "For more details on using resource principals in the Data Science service, see the [ADS Configuration Guide](https://docs.cloud.oracle.com/en-us/iaas/tools/ads-sdk/latest/user_guide/configuration/configuration.html#) and the [Authenticating to the Oracle Cloud Infrastructure APIs from a Notebook Session](https://docs.cloud.oracle.com/en-us/iaas/data-science/using/use-notebook-sessions.htm#topic_kxj_znw_pkb).\n",
    "\n",
    "<a id='resource_principals_ads'></a>\n",
    "### Resource Principals Authentication using the ADS SDK\n",
    "\n",
    "Within a notebook session, configure the use of a resource principal for the ADS SDK by running this in a notebook cell:\n",
    "\n",
    "The `set_auth()` method sets the proper authentication mechanism for ADS. ADS uses the `oci` SDK to access resources like the model catalog or Object Storage."
   ]
  },
  {
   "cell_type": "code",
   "execution_count": null,
   "metadata": {},
   "outputs": [],
   "source": [
    "set_auth(auth='resource_principal') "
   ]
  },
  {
   "cell_type": "markdown",
   "metadata": {},
   "source": [
    "<a id='resource_principals_oci'></a>\n",
    "### Resource Principals Authentication using the OCI SDK\n",
    "\n",
    "Within your notebook session, the `oci` library can use the resource principal. The following cell demonstrates how to make a basic connection using the default settings."
   ]
  },
  {
   "cell_type": "code",
   "execution_count": null,
   "metadata": {},
   "outputs": [],
   "source": [
    "resource_principal = get_resource_principals_signer() \n",
    "dsc = DataScienceClient(config={}, signer=resource_principal)"
   ]
  },
  {
   "cell_type": "markdown",
   "metadata": {},
   "source": [
    "<a id='resource_principals_cli'></a>\n",
    "### Resource Principals Authentication using the OCI CLI\n",
    "\n",
    "Within a notebook session, the Oracle Cloud Infrastructure CLI can be used to configure the resource principal using the `--auth=resource_principal` flag. For example:"
   ]
  },
  {
   "cell_type": "code",
   "execution_count": null,
   "metadata": {},
   "outputs": [],
   "source": [
    "cmd = \"oci data-science project get --project-id=$PROJECT_OCID --auth=resource_principal 2>&1\"\n",
    "print(popen(cmd).read())"
   ]
  },
  {
   "cell_type": "markdown",
   "metadata": {},
   "source": [
    "If the resource principal is correctly configured, a message similar to the following will be printed.\n",
    "\n",
    "```\n",
    "{\n",
    "\"data\": {\n",
    "\"compartment-id\": \"ocid1.compartment.oc1..aaaaaaaafl3avkal72rrwuy4m5rumpwh7r4axejjwq5hvwjy4h4uoyi7kzyq\",\n",
    "\"created-by\": \"ocid1.user.oc1..aaaaaaaabfrlcbiyvjmjvgh3ns6trdyoewxytqywwta3yqmy3ah3fa3uw76q\",\n",
    "\"defined-tags\": {},\n",
    "\"description\": \"my favorite demo project\\n\",\n",
    "\"display-name\": \"jr-demo-project\",\n",
    "\"freeform-tags\": {},\n",
    "\"id\": \"ocid1.datascienceproject.oc1.iad.aaaaaaaappvg4tp5kmbkurcyeghxaqmaknw3s5yh2oxcvfrvjeaadinsng6q\",\n",
    "\"lifecycle-state\": \"ACTIVE\",\n",
    "\"time-created\": \"2019-11-14T22:29:06.870000+00:00\"\n",
    "},\n",
    "\"etag\": \"b4d66fb733748f3454206d5de6b9acb3634edc804b2ad1997bd69dc676035a89\"\n",
    "}\n",
    "```\n",
    "\n",
    "<a id='api_keys'></a>\n",
    "## Authentication with API Keys\n",
    "\n",
    "If resource principals are not explicitly used, API Keys are used by default. For some use cases, you may want to set up API keys. See the example notebook `api_keys.ipynb` for instructions.\n",
    "\n",
    "\n",
    "<a id='conda'></a>\n",
    "# TensorFlow for CPUs Conda Environment\n",
    "\n",
    "<a id='conda_overview'></a>\n",
    "## Overview\n",
    "\n",
    "This TensorFlow for CPUs [conda environment](https://docs.cloud.oracle.com/en-us/iaas/data-science/using/use-notebook-sessions.htm#conda_understand_environments) is an ecosystem to create state-of-the-art machine learning models. Use TensorFlow to train and deploy deep neural networks for image recognition, natural language processing, recurrent neural networks and other machine learning applications. This environment also includes the Oracle Accelerated Data Science (ADS) library. The purpose of this conda is to offer a baseline of libraries that are used in many TensorFlow machine learning projects.\n",
    "\n",
    "You can access notebook examples for this conda environment in JupyterLab from the **Launcher** tab by clicking **Notebook Examples**. From here you can select one of the notebook examples available for the conda environments installed in your notebook session. First pick the conda environment of your choice in the first dropdown and then pick an associated notebook example in the second dropdown.\n",
    "\n",
    "For a description of each notebook example, see [Overview of the Notebook Examples](https://docs.cloud.oracle.com/en-us/iaas/data-science/using/use-notebook-sessions.htm#overview_of_the_notebook_examples).\n",
    "\n",
    "<a id='conda_libraries'></a>\n",
    "## Principal Conda Libraries\n",
    "\n",
    "1. `ads-lite`\n",
    "2. `category-encoders`\n",
    "3. `pandas`\n",
    "4. `scikit-learn`\n",
    "5. `tensorflow`\n",
    "\n",
    "<a id='conda_configuration'></a>\n",
    "## Configuration\n",
    "\n",
    "There is no additional configuration needed to use this conda."
   ]
  },
  {
   "cell_type": "markdown",
   "metadata": {},
   "source": [
    "# References\n",
    "\n",
    "* [Understanding and Using Conda Environments](https://docs.cloud.oracle.com/en-us/iaas/data-science/using/use-notebook-sessions.htm#conda_understand_environments)\n",
    "* [ADS Configuration Guide](https://docs.cloud.oracle.com/en-us/iaas/tools/ads-sdk/latest/user_guide/configuration/configuration.html#)\n",
    "* [Authenticating to the Oracle Cloud Infrastructure APIs from a Notebook Session](https://docs.cloud.oracle.com/en-us/iaas/data-science/using/use-notebook-sessions.htm#topic_kxj_znw_pkb)\n",
    "* [Manually Configuring Your Tenancy for Data Science](https://docs.cloud.oracle.com/en-us/iaas/data-science/using/configure-tenancy.htm)\n",
    "* [Data Science service guide](https://docs.cloud.oracle.com/en-us/iaas/data-science/using/data-science.htm)\n",
    "* [Our Data Science & AI Blog](https://blogs.oracle.com/datascience/)"
   ]
  }
 ],
 "metadata": {
  "kernelspec": {
   "display_name": "Python [conda env:dbv1]",
   "language": "python",
   "name": "conda-env-dbv1-py"
  },
  "language_info": {
   "codemirror_mode": {
    "name": "ipython",
    "version": 3
   },
   "file_extension": ".py",
   "mimetype": "text/x-python",
   "name": "python",
   "nbconvert_exporter": "python",
   "pygments_lexer": "ipython3",
   "version": "3.6.12"
  }
 },
 "nbformat": 4,
 "nbformat_minor": 4
}
