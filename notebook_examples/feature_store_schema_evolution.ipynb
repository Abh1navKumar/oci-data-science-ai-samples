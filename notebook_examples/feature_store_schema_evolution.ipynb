{
 "cells": [
  {
   "cell_type": "raw",
   "id": "6e72604a",
   "metadata": {},
   "source": [
    "qweews@notebook{feature_store-querying.ipynb,\n",
    "    title: Schema Enforcement and Schema Evolution in Feature Store ,\n",
    "    summary: Perform Schema Enforcement and Schema Evolution in Feature Store when materialising the data.,\n",
    "    developed_on: fspyspark32_p38_cpu_v1,\n",
    "    keywords: feature store, querying,\n",
    "    license: Universal Permissive License v 1.0\n",
    "}"
   ]
  },
  {
   "cell_type": "code",
   "execution_count": null,
   "id": "997bb810",
   "metadata": {
    "ExecuteTime": {
     "end_time": "2023-05-24T08:26:08.572567Z",
     "start_time": "2023-05-24T08:26:08.328013Z"
    }
   },
   "outputs": [],
   "source": [
    "# Upgrade Oracle ADS to pick up the latest preview version to maintain compatibility with Oracle Cloud Infrastructure.\n",
    "!pip install --pre --no-deps oracle-ads==2.9.0rc0"
   ]
  },
  {
   "cell_type": "markdown",
   "id": "3dd0bbd5",
   "metadata": {},
   "source": [
    "Oracle Data Science service sample notebook.\n",
    "\n",
    "Copyright (c) 2022 Oracle, Inc. All rights reserved. Licensed under the [Universal Permissive License v 1.0](https://oss.oracle.com/licenses/upl).\n",
    "\n",
    "***\n",
    "\n",
    "# <font color=\"red\">Schema enforcement and schema evolution</font>\n",
    "<p style=\"margin-left:10%; margin-right:10%;\">by the <font color=\"teal\">Oracle Cloud Infrastructure Data Science Service.</font></p>\n",
    "\n",
    "---\n",
    "# Overview:\n",
    "---\n",
    "Managing many datasets, data-sources and transformations for machine learning is complex and costly. Poorly cleaned data, data issues, bugs in transformations, data drift and training serving skew all leads to increased model development time and worse model performance. Here, feature store is well positioned to solve many of the problems since it provides a centralised way to transform and access data for training and serving time and helps defines a standardised pipeline for ingestion of data and querying of data. This notebook shows how schema enforcement and schema evolution are carried out in Feature Store\n",
    "\n",
    "Compatible conda pack: [PySpark 3.2 and Feature store](https://docs.oracle.com/iaas/data-science/using/conda-pyspark-fam.htm) for CPU on Python 3.8\n",
    "\n",
    "<div>\n",
    "    <img src=\"https://objectstorage.us-ashburn-1.oraclecloud.com/p/hh2NOgFJbVSg4amcLM3G3hkTuHyBD-8aE_iCsuZKEvIav1Wlld-3zfCawG4ycQGN/n/ociodscdev/b/oci-feature-store/o/beta/_images/overview-roles.png\"  />\n",
    "</div>\n",
    "\n",
    "## Contents:\n",
    "\n",
    "- <a href='#introduction'>1. Introduction</a>\n",
    "- <a href='#pre_requisites'>2. Pre-requisites</a>\n",
    "    - <a href='#setup_setup'>2.1 Setup</a>\n",
    "    - <a href='#policies_'>2.2 Policies</a>\n",
    "    - <a href='#authentication'>2.3 Authentication</a>\n",
    "    - <a href='#variables'>2.4 Variables</a>\n",
    "- <a href='#schema'>3. Schema enforcement and schema evolution</a>\n",
    "    - <a href='#dataexploration'>3.1. Exploration of data in feature store</a>\n",
    "    - <a href='#feature_store'>3.2. Create feature store logical entities</a>\n",
    "    - <a href='#schema_enforcement'>3.3. Schema enforcement</a>\n",
    "    - <a href='#ingestion_modes'>3.4. Ingestion Modes</a>\n",
    "        - <a href='#append'>3.4.1 Append</a>\n",
    "        - <a href='#overwrite'>3.4.2 Overwrite</a>\n",
    "        - <a href='#upsert'>3.4.3 Upsert</a>\n",
    "    - <a href='#history'>3.5. History</a>\n",
    "    - <a href='#preview'>3.6. As_of Feature </a>\n",
    "- <a href='#references'>4. References</a>\n",
    "\n",
    "---\n",
    "\n",
    "**Important:**\n",
    "\n",
    "Placeholder text for required values are surrounded by angle brackets that must be removed when adding the indicated content. For example, when adding a database name to `database_name = \"<database_name>\"` would become `database_name = \"production\"`.\n",
    "\n",
    "---"
   ]
  },
  {
   "cell_type": "markdown",
   "id": "cc61a6ad",
   "metadata": {},
   "source": [
    "<a id='introduction'></a>\n",
    "# 1. Introduction\n",
    "\n",
    "Oracle feature store is a stack based solution that is deployed in the customer enclave using OCI resource manager. Customer can stand up the service with infrastructure in their own tenancy. The service consists of API which are deployed in customer tenancy using resource manager.\n",
    "\n",
    "The following are some key terms that will help you understand OCI Data Science Feature Store:\n",
    "\n",
    "\n",
    "* **Feature Vector**: Set of feature values for any one primary/identifier key. Eg. All/subset of features of customer id ‘2536’ can be called as one feature vector.\n",
    "\n",
    "* **Feature**: A feature is an individual measurable property or characteristic of a phenomenon being observed.\n",
    "\n",
    "* **Entity**: An entity is a group of semantically related features. The first step a consumer of features would typically do when accessing the feature store service is to list the entities and the entities associated features. Another way to look at it is that an entity is an object or concept that is described by its features. Examples of entities could be customer, product, transaction, review, image, document, etc.\n",
    "\n",
    "* **Feature Group**: A feature group in a feature store is a collection of related features that are often used together in ml models. It serves as an organizational unit within the feature store for users to manage, version and share features across different ml projects. By organizing features into groups, data scientists and ml engineers can efficiently discover, reuse and collaborate on features reducing the redundant work and ensuring consistency in feature engineering.\n",
    "\n",
    "* **Feature Group Job**: Feature group job is the execution instance of a feature group. Each feature group job will include validation results and statistics results.\n",
    "\n",
    "* **Dataset**: A dataset is a collection of feature that are used together to either train a model or perform model inference.\n",
    "\n",
    "* **Dataset Job**: Dataset job is the execution instance of a dataset. Each dataset job will include validation results and statistics results."
   ]
  },
  {
   "cell_type": "markdown",
   "id": "10ada53a",
   "metadata": {},
   "source": [
    "<a id='pre_requisites'></a>\n",
    "# 2. Pre-requisites to Running this Notebook\n",
    "Notebook Sessions are accessible through the following conda environment: \n",
    "\n",
    "* **PySpark 3.2 and Feature Store Python 3.8 (fspyspark32_p38_cpu_v1)**\n",
    "\n",
    "You can customize `fspyspark32_p38_cpu_v1`, publish it, and use it as a runtime environment for a Notebook session cluster. \n"
   ]
  },
  {
   "cell_type": "markdown",
   "id": "e519c49e",
   "metadata": {},
   "source": [
    "<a id='setup_setup'></a>\n",
    "### 2.1. Setup\n",
    "\n",
    "<a id='setup_spark-defaults'></a>\n",
    "### `spark-defaults.conf`\n",
    "\n",
    "The `spark-defaults.conf` file is used to define the properties that are used by Spark. A templated version is installed when you install a Data Science conda environment that supports PySpark. However, you must update the template so that the Data Catalog metastore can be accessed. You can do this manually. However, the `odsc data-catalog config` commandline tool is ideal for setting up the file because it gathers information about your environment, and uses that to build the file.\n",
    "\n",
    "The `odsc data-catalog config` command line tool needs the `--metastore` option to define the Data Catalog metastore OCID. No other command line option is needed because settings have default values, or they take values from your notebook session environment. Following are common parameters that you may need to override.\n",
    "\n",
    "The `--authentication` option sets the authentication mode. It supports resource principal and API keys. The preferred method for authentication is resource principal, which is sent with `--authentication resource_principal`. If you want to use API keys, then use the `--authentication api_key` option. If the `--authentication` isn't specified, API keys are used. When API keys are used, information from the OCI configuration file is used to create the `spark-defaults.conf` file.\n",
    "\n",
    "Object Storage and Data Catalog are regional services. By default, the region is set to the region your notebook session is running in. This information is taken from the environment variable, `NB_REGION`. Use the `--region` option to override this behavior.\n",
    "\n",
    "The default location of the `spark-defaults.conf` file is `/home/datascience/spark_conf_dir` as defined in the `SPARK_CONF_DIR` environment variable. Use the `--output` option to define the directory where to write the file.\n",
    "\n",
    "You need to determine what settings are appropriate for your configuration. However, the following works for most configurations and is run in a terminal window.\n",
    "\n",
    "```bash\n",
    "odsc data-catalog config --authentication resource_principal --metastore <metastore_id>\n",
    "```\n",
    "For more assistance, use the following command in a terminal window:\n",
    "\n",
    "```bash\n",
    "odsc data-catalog config --help\n",
    "```"
   ]
  },
  {
   "cell_type": "markdown",
   "id": "e840f262",
   "metadata": {},
   "source": [
    "<a id='policies_'></a>\n",
    "### 2.2. Policies\n",
    "This section covers the creation of dynamic groups and policies needed to use the service.\n",
    "\n",
    "* [Data Flow Policies](https://docs.oracle.com/iaas/data-flow/using/policies.htm/)\n",
    "* [Data Catalog Metastore Required Policies](https://docs.oracle.com/en-us/iaas/data-catalog/using/metastore.htm)\n",
    "* [Getting Started with Data Flow](https://docs.oracle.com/iaas/data-flow/using/dfs_getting_started.htm)\n",
    "* [About Data Science Policies](https://docs.oracle.com/iaas/data-science/using/policies.htm)"
   ]
  },
  {
   "cell_type": "markdown",
   "id": "eeec1d4d",
   "metadata": {},
   "source": [
    "<a id=\"authentication\"></a>\n",
    "### 2.3. Authentication\n",
    "The [Oracle Accelerated Data Science SDK (ADS)](https://docs.oracle.com/iaas/tools/ads-sdk/latest/index.html) controls the authentication mechanism with the notebook cluster.<br>\n",
    "To setup authentication use the ```ads.set_auth(\"resource_principal\")``` or ```ads.set_auth(\"api_key\")```."
   ]
  },
  {
   "cell_type": "code",
   "execution_count": null,
   "id": "233ac5e8",
   "metadata": {
    "ExecuteTime": {
     "start_time": "2023-05-24T08:26:08.577504Z"
    },
    "is_executing": true,
    "pycharm": {
     "is_executing": true
    }
   },
   "outputs": [],
   "source": [
    "import ads\n",
    "ads.set_auth(auth=\"resource_principal\", client_kwargs={\"fs_service_endpoint\": \"https://{api_gateway}/20230101\"})"
   ]
  },
  {
   "cell_type": "markdown",
   "id": "429c36d6",
   "metadata": {},
   "source": [
    "<a id=\"variables\"></a>\n",
    "### 2.4. Variables\n",
    "To run this notebook, you must provide some information about your tenancy configuration. To create and run a feature store, you must specify a `<compartment_id>` and bucket `<metastore_id>` for offline feature store."
   ]
  },
  {
   "cell_type": "code",
   "execution_count": null,
   "id": "80e80a24",
   "metadata": {
    "pycharm": {
     "is_executing": true
    }
   },
   "outputs": [],
   "source": [
    "import os\n",
    "\n",
    "compartment_id = os.environ.get(\"NB_SESSION_COMPARTMENT_OCID\")\n",
    "metastore_id = \"<metastore_id>\""
   ]
  },
  {
   "cell_type": "markdown",
   "id": "e9f96e28",
   "metadata": {},
   "source": [
    "<a id=\"schema\"></a>\n",
    "# 3. Schema enforcement and schema evolution\n",
    "By default the **PySpark 3.2, Feature store and Data Flow** conda environment includes pre-installed [great-expectations](https://legacy.docs.greatexpectations.io/en/latest/reference/core_concepts/validation.html).Schema enforcement is a Delta Lake feature that prevents you from appending data with a different schema to a table.To change a table's current schema and to accommodate data that is changing over time,Schema evolution feature is used while performing an append or overwrite operation."
   ]
  },
  {
   "cell_type": "code",
   "execution_count": null,
   "id": "b1169e3a",
   "metadata": {
    "pycharm": {
     "is_executing": true
    }
   },
   "outputs": [],
   "source": [
    "import pandas as pd\n",
    "from ads.feature_store.feature_store import FeatureStore\n",
    "from ads.feature_store.feature_group import FeatureGroup\n",
    "from ads.feature_store.model_details import ModelDetails\n",
    "from ads.feature_store.dataset import Dataset\n",
    "from ads.feature_store.common.enums import DatasetIngestionMode\n",
    "\n",
    "from ads.feature_store.feature_group_expectation import ExpectationType\n",
    "from great_expectations.core import ExpectationSuite, ExpectationConfiguration\n",
    "from ads.feature_store.feature_store_registrar import FeatureStoreRegistrar"
   ]
  },
  {
   "cell_type": "markdown",
   "id": "a9d0cad0",
   "metadata": {},
   "source": [
    "<a id='dataexploration'></a>\n",
    "### 3.1. Exploration of data in feature store\n",
    "\n",
    "<div>\n",
    "    <img src=\"https://objectstorage.us-ashburn-1.oraclecloud.com/p/hh2NOgFJbVSg4amcLM3G3hkTuHyBD-8aE_iCsuZKEvIav1Wlld-3zfCawG4ycQGN/n/ociodscdev/b/oci-feature-store/o/beta/_images/feature_store_demo.jpg\" width=\"700\" height=\"350\" />\n",
    "</div>"
   ]
  },
  {
   "cell_type": "code",
   "execution_count": null,
   "id": "8b59c7e4",
   "metadata": {},
   "outputs": [],
   "source": [
    "flights_df = pd.read_csv(\"https://objectstorage.us-ashburn-1.oraclecloud.com/p/hh2NOgFJbVSg4amcLM3G3hkTuHyBD-8aE_iCsuZKEvIav1Wlld-3zfCawG4ycQGN/n/ociodscdev/b/oci-feature-store/o/beta/data/flights/flights.csv\")[['YEAR', 'MONTH', 'DAY', 'DAY_OF_WEEK', 'AIRLINE', 'FLIGHT_NUMBER', 'ORIGIN_AIRPORT', 'DESTINATION_AIRPORT']]\n",
    "flights_df = flights_df.head(100)\n",
    "flights_df.head()"
   ]
  },
  {
   "cell_type": "code",
   "execution_count": null,
   "id": "6735e954",
   "metadata": {
    "pycharm": {
     "is_executing": true
    }
   },
   "outputs": [],
   "source": [
    "columns = ['IATA_CODE', 'AIRPORT', 'CITY', 'STATE', 'LATITUDE', 'LONGITUDE']\n",
    "airports_df = pd.read_csv(\"https://objectstorage.us-ashburn-1.oraclecloud.com/p/hh2NOgFJbVSg4amcLM3G3hkTuHyBD-8aE_iCsuZKEvIav1Wlld-3zfCawG4ycQGN/n/ociodscdev/b/oci-feature-store/o/beta/data/flights/airports.csv\")[columns]\n",
    "airports_df.head()"
   ]
  },
  {
   "cell_type": "code",
   "execution_count": null,
   "id": "363c818b",
   "metadata": {
    "pycharm": {
     "is_executing": true
    }
   },
   "outputs": [],
   "source": [
    "airlines_df = pd.read_csv(\"https://objectstorage.us-ashburn-1.oraclecloud.com/p/hh2NOgFJbVSg4amcLM3G3hkTuHyBD-8aE_iCsuZKEvIav1Wlld-3zfCawG4ycQGN/n/ociodscdev/b/oci-feature-store/o/beta/data/flights/airlines.csv\")\n",
    "airlines_df.head()"
   ]
  },
  {
   "cell_type": "markdown",
   "id": "4c800a75",
   "metadata": {},
   "source": [
    "<a id=\"feature_store\"></a>\n",
    "### 3.2. Create feature store logical entities"
   ]
  },
  {
   "cell_type": "markdown",
   "id": "ab64f16f",
   "metadata": {},
   "source": [
    "#### 3.2.1 Feature Store\n",
    "Feature store is the top level entity for feature store service"
   ]
  },
  {
   "cell_type": "code",
   "execution_count": null,
   "id": "01c4dc79",
   "metadata": {
    "pycharm": {
     "is_executing": true
    }
   },
   "outputs": [],
   "source": [
    "feature_store_resource = (\n",
    "    FeatureStore().\n",
    "    with_description(\"Data consisting of flights\").\n",
    "    with_compartment_id(compartment_id).\n",
    "    with_display_name(\"flights details\").\n",
    "    with_offline_config(metastore_id=metastore_id)\n",
    ")"
   ]
  },
  {
   "cell_type": "markdown",
   "id": "d6c3e1bf",
   "metadata": {},
   "source": [
    "<a id=\"create_feature_store\"></a>\n",
    "##### Create Feature Store\n",
    "\n",
    "Call the ```.create()``` method of the Feature store instance to create a feature store."
   ]
  },
  {
   "cell_type": "code",
   "execution_count": null,
   "id": "35d70317",
   "metadata": {
    "pycharm": {
     "is_executing": true
    }
   },
   "outputs": [],
   "source": [
    "feature_store = feature_store_resource.create()\n",
    "feature_store"
   ]
  },
  {
   "cell_type": "markdown",
   "id": "de92fc24",
   "metadata": {},
   "source": [
    "#### 3.2.2 Entity\n",
    "An entity is a group of semantically related features."
   ]
  },
  {
   "cell_type": "code",
   "execution_count": null,
   "id": "39087c3a",
   "metadata": {},
   "outputs": [],
   "source": [
    "entity = feature_store.create_entity(\n",
    "    display_name=\"Flight details schema evolution/enforcement\",\n",
    "    description=\"description for flight details\"\n",
    ")\n",
    "entity"
   ]
  },
  {
   "cell_type": "markdown",
   "id": "33485b3e",
   "metadata": {},
   "source": [
    "<a id=\"create_feature_group_airport\"></a>\n",
    "#### 3.2.3 Feature Group\n",
    "\n",
    "Create feature group for airport"
   ]
  },
  {
   "cell_type": "code",
   "execution_count": null,
   "id": "13ff8e8c",
   "metadata": {},
   "outputs": [],
   "source": [
    "from great_expectations.core import ExpectationSuite, ExpectationConfiguration\n",
    "\n",
    "expectation_suite_airports = ExpectationSuite(\n",
    "    expectation_suite_name=\"test_airports_df\"\n",
    ")\n",
    "expectation_suite_airports.add_expectation(\n",
    "    ExpectationConfiguration(\n",
    "        expectation_type=\"expect_column_values_to_not_be_null\",\n",
    "        kwargs={\"column\": \"IATA_CODE\"},\n",
    "    )\n",
    ")\n",
    "expectation_suite_airports.add_expectation(\n",
    "    ExpectationConfiguration(\n",
    "        expectation_type=\"expect_column_values_to_be_between\",\n",
    "        kwargs={\"column\": \"LATITUDE\", \"min_value\": -1.0, \"max_value\": 1.0},\n",
    "    )\n",
    ")\n",
    "\n",
    "expectation_suite_airports.add_expectation(\n",
    "    ExpectationConfiguration(\n",
    "        expectation_type=\"expect_column_values_to_be_between\",\n",
    "        kwargs={\"column\": \"LONGITUDE\", \"min_value\": -1.0, \"max_value\": 1.0},\n",
    "    )\n",
    ")"
   ]
  },
  {
   "cell_type": "code",
   "execution_count": null,
   "id": "66fae082",
   "metadata": {},
   "outputs": [],
   "source": [
    "feature_group_airports = (\n",
    "    FeatureGroup()\n",
    "    .with_feature_store_id(feature_store.id)\n",
    "    .with_primary_keys([\"IATA_CODE\"])\n",
    "    .with_name(\"airport_feature_group\")\n",
    "    .with_entity_id(entity.id)\n",
    "    .with_compartment_id(compartment_id)\n",
    "    .with_schema_details_from_dataframe(airports_df)\n",
    "    .with_expectation_suite(\n",
    "        expectation_suite=expectation_suite_airports,\n",
    "        expectation_type=ExpectationType.LENIENT,\n",
    "     )\n",
    ")"
   ]
  },
  {
   "cell_type": "code",
   "execution_count": null,
   "id": "d966fc78",
   "metadata": {
    "collapsed": false,
    "jupyter": {
     "outputs_hidden": false
    }
   },
   "outputs": [],
   "source": [
    "feature_group_airports.create()"
   ]
  },
  {
   "cell_type": "code",
   "execution_count": null,
   "id": "e4bbefa2",
   "metadata": {},
   "outputs": [],
   "source": [
    "feature_group_airports.show()"
   ]
  },
  {
   "cell_type": "code",
   "execution_count": null,
   "id": "9f9519e6",
   "metadata": {},
   "outputs": [],
   "source": [
    "feature_group_airports.materialise(airports_df)"
   ]
  },
  {
   "cell_type": "markdown",
   "id": "dff776cc",
   "metadata": {},
   "source": [
    "<a id=\"schema_enforcement\"></a>\n",
    "### 3.3. Schema enforcement\n",
    "\n",
    "Schema enforcement, also known as schema validation, is a safeguard in Delta Lake that ensures data quality by rejecting writes to a table that do not match the table's schema. Like the front desk manager at a busy restaurant that only accepts reservations, it checks to see whether each column in data inserted into the table is on its list of expected columns (in other words, whether each one has a \"reservation\"), and rejects any writes with columns that aren't on the list."
   ]
  },
  {
   "cell_type": "code",
   "execution_count": null,
   "id": "1791d8f0",
   "metadata": {},
   "outputs": [],
   "source": [
    "columns = ['IATA_CODE', 'AIRPORT', 'CITY', 'STATE', 'LATITUDE', 'LONGITUDE', 'COUNTRY']\n",
    "airports_df = pd.read_csv(\"https://objectstorage.us-ashburn-1.oraclecloud.com/p/hh2NOgFJbVSg4amcLM3G3hkTuHyBD-8aE_iCsuZKEvIav1Wlld-3zfCawG4ycQGN/n/ociodscdev/b/oci-feature-store/o/beta/data/flights/airports.csv\")[columns]\n",
    "airports_df.head()"
   ]
  },
  {
   "cell_type": "code",
   "execution_count": null,
   "id": "c6357225",
   "metadata": {},
   "outputs": [],
   "source": [
    "feature_group_airports.with_schema_details_from_dataframe(airports_df)\n",
    "feature_group_airports.update()"
   ]
  },
  {
   "cell_type": "code",
   "execution_count": null,
   "id": "7dc15e14",
   "metadata": {},
   "outputs": [],
   "source": [
    "feature_group_airports.materialise(airports_df)"
   ]
  },
  {
   "cell_type": "markdown",
   "id": "107c8b58",
   "metadata": {},
   "source": [
    "<a id=\"schema_evolution\"></a>\n",
    "### 3.4. Schema evolution\n",
    "\n",
    "Schema evolution is a feature that allows users to easily change a table's current schema to accommodate data that is changing over time. Most commonly, it's used when performing an append or overwrite operation, to automatically adapt the schema to include one or more new columns."
   ]
  },
  {
   "cell_type": "code",
   "execution_count": null,
   "id": "aeba1145",
   "metadata": {},
   "outputs": [],
   "source": [
    "from ads.feature_store.feature_option_details import FeatureOptionDetails\n",
    "feature_option_details = FeatureOptionDetails().with_feature_option_write_config_details(merge_schema=True)"
   ]
  },
  {
   "cell_type": "code",
   "execution_count": null,
   "id": "42e74b33",
   "metadata": {},
   "outputs": [],
   "source": [
    "feature_group_airports.materialise(\n",
    "    input_dataframe=airports_df,\n",
    "    feature_option_details=feature_option_details\n",
    ")"
   ]
  },
  {
   "cell_type": "code",
   "execution_count": null,
   "id": "f4e11f65",
   "metadata": {},
   "outputs": [],
   "source": [
    "feature_group_airports"
   ]
  },
  {
   "cell_type": "markdown",
   "id": "a30c68c3",
   "metadata": {},
   "source": [
    "<a id=\"ingestion_modes\"></a>\n",
    "### 3.5. Ingestion modes"
   ]
  },
  {
   "cell_type": "markdown",
   "id": "43eb6897",
   "metadata": {},
   "source": [
    "<a id=\"append\"></a>\n",
    "#### 3.5.1. Append\n",
    "\n",
    "In ``append`` mode, new data is added to the existing table. If the table already exists, the new data is appended to it, extending the dataset. This mode is suitable for scenarios where you want to continuously add new records without modifying or deleting existing data. It preserves the existing data and only appends the new data to the end of the table."
   ]
  },
  {
   "cell_type": "code",
   "execution_count": null,
   "id": "c6587f2e",
   "metadata": {},
   "outputs": [],
   "source": [
    "from ads.feature_store.feature_group_job import IngestionMode\n",
    "feature_group_airports.materialise(airports_df, ingestion_mode=IngestionMode.APPEND)"
   ]
  },
  {
   "cell_type": "markdown",
   "id": "363557f5",
   "metadata": {},
   "source": [
    "<a id=\"overwrite\"></a>\n",
    "#### 3.5.2. Overwrite\n",
    "In ``overwrite`` mode, the existing table is replaced entirely with the new data being saved. If the table already exists, it will be dropped and a new table will be created with the new data. This mode is useful when you want to completely refresh the data in the table with the latest data, discarding any previous records."
   ]
  },
  {
   "cell_type": "code",
   "execution_count": null,
   "id": "a869935e",
   "metadata": {},
   "outputs": [],
   "source": [
    "from ads.feature_store.feature_group_job import IngestionMode\n",
    "feature_group_airports.materialise(airports_df, ingestion_mode=IngestionMode.OVERWRITE)"
   ]
  },
  {
   "cell_type": "markdown",
   "id": "320681ba",
   "metadata": {},
   "source": [
    "<a id=\"upsert\"></a>\n",
    "#### 3.5.3. Upsert\n",
    "``Upsert`` mode, also known as ``merge`` mode, is used to update existing records in the table based on a primary key or a specified condition. If a record with the same key exists, it will be updated with the new data; otherwise, a new record will be inserted. This mode is useful for maintaining and synchronizing data between the source and destination tables while avoiding duplicates."
   ]
  },
  {
   "cell_type": "code",
   "execution_count": null,
   "id": "39016aea",
   "metadata": {},
   "outputs": [],
   "source": [
    "from ads.feature_store.feature_group_job import IngestionMode\n",
    "feature_group_airports.materialise(airports_df, ingestion_mode=IngestionMode.UPSERT)"
   ]
  },
  {
   "cell_type": "markdown",
   "id": "61d6d851",
   "metadata": {},
   "source": [
    "<a id=\"history\"></a>\n",
    "### 3.6. History\n",
    "You can call the ``history()`` method of the FeatureGroup instance to show history of the feature group."
   ]
  },
  {
   "cell_type": "code",
   "execution_count": null,
   "id": "ecfb6075",
   "metadata": {},
   "outputs": [],
   "source": [
    "feature_group_airports.history().toPandas()"
   ]
  },
  {
   "cell_type": "markdown",
   "id": "eb8e49ff",
   "metadata": {},
   "source": [
    "<a id=\"preview\"></a>\n",
    "### 3.7. as_of\n",
    "\n",
    "You can call the ``as_of()`` method of the FeatureGroup instance to to get specified point in time and time traveled data.\n",
    "The ``.as_of()`` method takes the following optional parameter:\n",
    "\n",
    "- commit_timestamp: date-time. Commit timestamp for feature group\n",
    "- version_number: int. Version number for feature group"
   ]
  },
  {
   "cell_type": "code",
   "execution_count": null,
   "id": "a559b6ed",
   "metadata": {},
   "outputs": [],
   "source": [
    "feature_group_airports.as_of(version_number = 0).show()"
   ]
  },
  {
   "cell_type": "code",
   "execution_count": null,
   "id": "8c701548",
   "metadata": {},
   "outputs": [],
   "source": [
    "feature_group_airports.as_of(version_number = 1).show()"
   ]
  },
  {
   "cell_type": "markdown",
   "id": "0abb3f0e",
   "metadata": {},
   "source": [
    "<a id='references'></a>\n",
    "# References\n",
    "- [Feature Store Documentation](https://feature-store-accelerated-data-science.readthedocs.io/en/latest/overview.html)\n",
    "- [ADS Library Documentation](https://accelerated-data-science.readthedocs.io/en/latest/index.html)\n",
    "- [Data Science YouTube Videos](https://www.youtube.com/playlist?list=PLKCk3OyNwIzv6CWMhvqSB_8MLJIZdO80L)\n",
    "- [OCI Data Science Documentation](https://docs.cloud.oracle.com/en-us/iaas/data-science/using/data-science.htm)\n",
    "- [Oracle Data & AI Blog](https://blogs.oracle.com/datascience/)"
   ]
  },
  {
   "cell_type": "code",
   "execution_count": null,
   "id": "965b015a",
   "metadata": {},
   "outputs": [],
   "source": []
  }
 ],
 "metadata": {
  "kernelspec": {
   "display_name": "Python [conda env:fspyspark32_p38_cpu_v1]",
   "language": "python",
   "name": "conda-env-fspyspark32_p38_cpu_v1-py"
  },
  "language_info": {
   "codemirror_mode": {
    "name": "ipython",
    "version": 3
   },
   "file_extension": ".py",
   "mimetype": "text/x-python",
   "name": "python",
   "nbconvert_exporter": "python",
   "pygments_lexer": "ipython3",
   "version": "3.8.17"
  }
 },
 "nbformat": 4,
 "nbformat_minor": 5
}
