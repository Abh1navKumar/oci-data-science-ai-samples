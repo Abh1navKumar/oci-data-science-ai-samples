{
 "cells": [
  {
   "cell_type": "markdown",
   "metadata": {},
   "source": [
    "# Cohere Embedding Models for Semantic Search in OCI OpenSearch\n",
    "In this tutorial, we will walk through the steps to conduct a semantic search using the Cohere embedding model with OCI Search.\n",
    "\n",
    "### Prerequesites\n",
    "- You have a Running Instance of OCI Search.\n",
    "- OpenSearch version has to be at least 2.8.0.\n",
    "- You need to install langchain, opensearch-py, and oracle-ads.\n",
    "\n",
    "To check how to spin up an instance of OCI search, see [Search and visualize data using OCI Search Service with OpenSearch](https://docs.oracle.com/en/learn/oci-opensearch/index.html#introduction)"
   ]
  },
  {
   "cell_type": "code",
   "execution_count": null,
   "metadata": {},
   "outputs": [],
   "source": [
    "!pip install --upgrade oracle-ads langchain opensearch-py"
   ]
  },
  {
   "cell_type": "markdown",
   "metadata": {},
   "source": [
    "### Step 1: Load and Split your Documents Into Chunks\n",
    "Let's say you're looking to create a search engine that enables users to search through documentation stored as markdown files. Actually, it does not matter what file format your documentation are in as Langchain offers support for various types of document loaders. In this tutorial, we will just use markdown file as an example."
   ]
  },
  {
   "cell_type": "code",
   "execution_count": 1,
   "metadata": {},
   "outputs": [],
   "source": [
    "import fsspec\n",
    "from langchain.text_splitter import MarkdownHeaderTextSplitter\n",
    "\n",
    "with fsspec.open(\n",
    "    \"https://raw.githubusercontent.com/oracle-samples/oci-data-science-ai-samples/155f76109d24860ceeb72ed6b742ced33a46ce22/README.md\",\n",
    "    \"r\"\n",
    ") as f:\n",
    "    report = f.read()\n",
    "    \n",
    "    \n",
    "headers_to_split_on = [\n",
    "    (\"#\", \"Header 1\"),\n",
    "    (\"##\", \"Header 2\"),\n",
    "    (\"###\", \"Header 3\"),\n",
    "]\n",
    "\n",
    "markdown_splitter = MarkdownHeaderTextSplitter(headers_to_split_on=headers_to_split_on)\n",
    "md_header_splits = markdown_splitter.split_text(report)\n",
    "texts = [text.page_content for text in md_header_splits]"
   ]
  },
  {
   "cell_type": "code",
   "execution_count": 2,
   "metadata": {},
   "outputs": [
    {
     "name": "stdout",
     "output_type": "stream",
     "text": [
      "Number of documents: 15\n",
      "First document:\n",
      "The Oracle Cloud Infrastructure (OCI) Data Science service has created this repo to make demos, tutorials, and code examples that highlight various features of the [OCI Data Science service](https://www.oracle.com/data-science/cloud-infrastructure-data-science.html) and AI services. We welcome your feedback and would like to know what content is useful and what content is missing. Open an [issue](https://github.com/oracle/oci-data-science-ai-samples/issues) to do this. We know that a lot of you are creating great content and we would like to help you share it. See the [contributions](CONTRIBUTING.md) document.  \n",
      "Oracle Cloud Infrastructure (OCI) Data Science Services provide a powerful suite of tools for data scientists, enabling faster machine learning model development and deployment. With features like the Accelerated Data Science (ADS) SDK, distributed training, batch processing and machine learning pipelines, OCI Data Science Services offer the scalability and flexibility needed to tackle complex data science and machine learning challenges. Whether you're a beginner or an experienced machine learning practitioner or data scientist, OCI Data Science Services provide the resources you need to build, train, and deploy your models with ease.\n"
     ]
    }
   ],
   "source": [
    "print(f\"Number of documents: {len(texts)}\")\n",
    "print(f\"First document:\\n{texts[0]}\")"
   ]
  },
  {
   "cell_type": "markdown",
   "metadata": {},
   "source": [
    "### Step 2: Embed your Documents\n",
    "\n",
    "You can use oracle-ads to access the GenerativeAI embedding models. The embedding models returns embedding vectors of length 1024. oracle-ads is an open source library. It speeds up common data science activities by providing tools that automate and simplify common data science tasks. Additionally, provides data scientists a friendly pythonic interface to OCI services. Check [oracle-ads github](https://github.com/oracle/accelerated-data-science) for more information."
   ]
  },
  {
   "cell_type": "code",
   "execution_count": 3,
   "metadata": {},
   "outputs": [
    {
     "name": "stderr",
     "output_type": "stream",
     "text": [
      "/Users/z7ye/miniconda3/envs/ads_testing/lib/python3.8/site-packages/tqdm/auto.py:21: TqdmWarning: IProgress not found. Please update jupyter and ipywidgets. See https://ipywidgets.readthedocs.io/en/stable/user_install.html\n",
      "  from .autonotebook import tqdm as notebook_tqdm\n"
     ]
    }
   ],
   "source": [
    "import ads\n",
    "from ads.llm import GenerativeAIEmbeddings\n",
    " \n",
    "oci_embedings = GenerativeAIEmbeddings(\n",
    "    compartment_id=\"ocid1.compartment.oc1.######\",\n",
    "    client_kwargs=dict(service_endpoint=\"https://generativeai.aiservice.us-chicago-1.oci.oraclecloud.com\") # this can be omitted after Generative AI service is GA.\n",
    ")\n",
    "embeddings = oci_embedings.embed_documents(texts=texts)"
   ]
  },
  {
   "cell_type": "code",
   "execution_count": 4,
   "metadata": {},
   "outputs": [
    {
     "name": "stdout",
     "output_type": "stream",
     "text": [
      "Number of embeddings: 15\n",
      "Embedding dimensions: 1024\n"
     ]
    }
   ],
   "source": [
    "print(f\"Number of embeddings: {len(embeddings)}\")\n",
    "print(f\"Embedding dimensions: {len(embeddings[0])}\")"
   ]
  },
  {
   "cell_type": "markdown",
   "metadata": {},
   "source": [
    "### Step 3: Create an Index for your Documents\n",
    "\n",
    "First connect to your OCI search cluster."
   ]
  },
  {
   "cell_type": "code",
   "execution_count": 6,
   "metadata": {},
   "outputs": [],
   "source": [
    "# Connect to the opensearch cluster.\n",
    "from opensearchpy import OpenSearch\n",
    " \n",
    "# Create a connection to your OpenSearch cluster\n",
    "es = OpenSearch(\n",
    "    ['https://####'],  # Replace with your OpenSearch endpoint URL\n",
    "    http_auth=('username', 'password'),  # Replace with your credentials\n",
    "    verify_certs=False,  # Set to True if you want to verify SSL certificates\n",
    "    timeout=30\n",
    ")"
   ]
  },
  {
   "cell_type": "markdown",
   "metadata": {},
   "source": [
    "First, you must create a k-NN index and set the index.knn parameter to true. This settings tells the plugin to generate native library indexes specifically tailored for k-NN searches. \n",
    "\n",
    "Next, you must add one or more fields of the knn_vector data type. This example creates an index with one knn_vector and one text. The knn_vector uses lucene fields.\n",
    "\n",
    "See [documentation](https://opensearch.org/docs/2.7/search-plugins/knn/knn-index#method-definitions) for more details on parameters' definitions.\n",
    "\n",
    "**Note**: The Lucene engine can support dimension up to 1,024."
   ]
  },
  {
   "cell_type": "code",
   "execution_count": 7,
   "metadata": {},
   "outputs": [],
   "source": [
    "INDEX_NAME = \"cosine-similarity\"\n",
    "VECTOR_1_NAME = \"embedding_vector\"\n",
    "VECTOR_2_NAME = \"text\"\n",
    " \n",
    "body = {\n",
    "    # Index setting: https://opensearch.org/docs/2.11/search-plugins/knn/knn-index\n",
    "    \"settings\": {\"index\": {\"knn\": \"true\", \"knn.algo_param.ef_search\": 100}},\n",
    "    # Explicit mapping: https://opensearch.org/docs/2.11/field-types/index/#explicit-mapping\n",
    "    \"mappings\": { \n",
    "        \"properties\": {\n",
    "            VECTOR_1_NAME: {\n",
    "                # Supported field types: https://opensearch.org/docs/2.11/field-types/supported-field-types/index/\n",
    "                \"type\": \"knn_vector\", \n",
    "                \"dimension\": 1024,\n",
    "                # Method definition: https://opensearch.org/docs/2.11/search-plugins/knn/knn-index#method-definitions\n",
    "                \"method\": { \n",
    "                    \"name\": \"hnsw\",\n",
    "                    \"space_type\": \"cosinesimil\",\n",
    "                    \"engine\": \"lucene\",\n",
    "                    \"parameters\": {\"ef_construction\": 128, \"m\": 24},\n",
    "                },\n",
    "            },\n",
    "            VECTOR_2_NAME: {\n",
    "                 \"type\": \"text\"\n",
    "               },\n",
    "        }\n",
    "    },\n",
    "}\n",
    "response = es.indices.create(INDEX_NAME, body=body)\n",
    "response"
   ]
  },
  {
   "cell_type": "markdown",
   "metadata": {},
   "source": [
    "### Step 4: Insert the Embedding Vectors for your Documents\n",
    "Now let's populate the index using the embedding vectors calculated from your documents using Cohere Embedding Models. "
   ]
  },
  {
   "cell_type": "code",
   "execution_count": 8,
   "metadata": {},
   "outputs": [],
   "source": [
    "i = 0\n",
    "# insert each row one-at-a-time to the document index\n",
    "for text, embed in zip(texts, embeddings):\n",
    " \n",
    "    try:\n",
    "         \n",
    "        body = {\n",
    "            VECTOR_1_NAME: embed,\n",
    "            VECTOR_2_NAME: text,\n",
    "        }\n",
    "        response = es.index(index=INDEX_NAME, body=body)\n",
    "    except Exception as e:\n",
    "        print(f\"[ERROR]: {e}\")\n",
    "        continue\n",
    "    i += 1"
   ]
  },
  {
   "cell_type": "markdown",
   "metadata": {},
   "source": [
    "\n",
    "A new query coming in, first calcualte the embedding vector and then conduct a semantic search.\n",
    "\n",
    "- `k`: the number of neighbors the search will return\n",
    "- `size`: (required) how many results the query actually returns. The plugin returns k amount of results for each shard (and each segment) and size amount of results for the entire query. The plugin supports a maximum k value of 10,000."
   ]
  },
  {
   "cell_type": "code",
   "execution_count": 9,
   "metadata": {},
   "outputs": [
    {
     "name": "stdout",
     "output_type": "stream",
     "text": [
      "Oracle Cloud Infrastructure (OCI) [Data Science Jobs](https://docs.oracle.com/en-us/iaas/data-science/using/jobs-about.htm) is a powerful tool that allows you to define and run repeatable machine learning tasks on a fully managed infrastructure. With Jobs, you have the flexibility to apply custom tasks to meet your specific use cases, such as data preparation, model training, hyperparameter optimization, batch inference, large model training and more.  \n",
      "On-demand jobs and batch processing are especially important for businesses that need to process large volumes of data on a regular basis, as they enable companies to automate data processing workflows, reduce the need for manual intervention, and save costs associated with running compute resources for extended periods of time. With the ability to define and schedule jobs to run at specific times, businesses can automate their data processing workflows and reduce the need for manual intervention. This helps to improve efficiency, reduce errors, and save valuable time and resources. Additionally, by using a fully managed infrastructure, businesses can ensure that their data processing workflows are secure and compliant with industry regulations. Overall, OCI Data Science Jobs is a powerful tool that can help businesses to scale their machine learning workflows and improve their data processing capabilities.\n"
     ]
    }
   ],
   "source": [
    "query_vector = oci_embedings.embed_query(text=\"oci job\")\n",
    "query = {\n",
    "    \"size\": 2,\n",
    "    \"query\": {\"knn\": {VECTOR_1_NAME: {\"vector\": query_vector, \"k\": 3}}},\n",
    "}\n",
    " \n",
    "response = es.search(body=query, index=INDEX_NAME)  # the same as before\n",
    "print(response[\"hits\"][\"hits\"][0]['_source']['text'])"
   ]
  },
  {
   "cell_type": "markdown",
   "metadata": {},
   "source": [
    "#### Comparing Semantic Search with Keywords search\n",
    "\n",
    "here is the result of keyword search. you can see that since it does not understand the meaning of oci job, it gave irrelevant results."
   ]
  },
  {
   "cell_type": "code",
   "execution_count": 10,
   "metadata": {},
   "outputs": [
    {
     "name": "stdout",
     "output_type": "stream",
     "text": [
      "Check out the following resources for more information about the OCI Data Science and AI services:  \n",
      "* [ADS class documentation](https://accelerated-data-science.readthedocs.io/en/latest/modules.html)\n",
      "* [ADS user guide](https://accelerated-data-science.readthedocs.io/en/latest/index.html)\n",
      "* [AI & Data Science blog](https://blogs.oracle.com/ai-and-datascience/)\n",
      "* [OCI Data Science service guide](https://docs.oracle.com/en-us/iaas/data-science/using/data-science.htm)\n",
      "* [OCI Data Science service release notes](https://docs.cloud.oracle.com/en-us/iaas/releasenotes/services/data-science/)\n",
      "* [YouTube playlist](https://www.youtube.com/playlist?list=PLKCk3OyNwIzv6CWMhvqSB_8MLJIZdO80L)\n",
      "* [OCI Data Labeling Service guide](https://docs.oracle.com/en-us/iaas/data-labeling/data-labeling/using/home.htm)\n",
      "* [OCI DLS DP API](https://docs.oracle.com/en-us/iaas/api/#/en/datalabeling-dp/20211001/)\n",
      "* [OCI DLS CP API](https://docs.oracle.com/en-us/iaas/api/#/en/datalabeling/20211001/)\n"
     ]
    }
   ],
   "source": [
    "query = {\n",
    "  \"query\": {\n",
    "    \"match\": {\n",
    "      \"text\": {\n",
    "        \"query\": \"oci job\",\n",
    "        \"analyzer\": \"standard\"\n",
    "      }\n",
    "    }\n",
    "  }\n",
    "}\n",
    " \n",
    "response = es.search(body=query, index=INDEX_NAME)  # the same as before\n",
    "print(response[\"hits\"][\"hits\"][0]['_source']['text'])"
   ]
  }
 ],
 "metadata": {
  "kernelspec": {
   "display_name": "Python 3 (ipykernel)",
   "language": "python",
   "name": "python3"
  },
  "language_info": {
   "codemirror_mode": {
    "name": "ipython",
    "version": 3
   },
   "file_extension": ".py",
   "mimetype": "text/x-python",
   "name": "python",
   "nbconvert_exporter": "python",
   "pygments_lexer": "ipython3",
   "version": "3.8.18"
  }
 },
 "nbformat": 4,
 "nbformat_minor": 4
}
