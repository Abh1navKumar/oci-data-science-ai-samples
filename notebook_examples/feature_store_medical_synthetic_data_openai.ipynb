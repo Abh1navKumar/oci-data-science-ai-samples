{
 "cells": [
  {
   "cell_type": "raw",
   "source": [
    "qweews@notebook{feature_store-querying.ipynb,\n",
    "    title: Using feature store for synthetic data generation using openai,\n",
    "    summary: Feature store quickstart guide to perform synthetic data generation using openai,\n",
    "    developed_on: pyspark32_p38_cpu_feature_store_v1,\n",
    "    keywords: feature store, querying, synthetic data generation\n",
    "    license: Universal Permissive License v 1.0\n",
    "}"
   ],
   "metadata": {
    "collapsed": false
   }
  },
  {
   "cell_type": "code",
   "execution_count": null,
   "id": "92012e9e",
   "metadata": {
    "ExecuteTime": {
     "end_time": "2023-05-24T08:26:08.572567Z",
     "start_time": "2023-05-24T08:26:08.328013Z"
    }
   },
   "outputs": [],
   "source": [
    "!odsc conda install -s fspyspark32_p38_cpu_v2"
   ]
  },
  {
   "cell_type": "code",
   "execution_count": null,
   "id": "473f364a",
   "metadata": {},
   "outputs": [],
   "source": [
    "!pip install transformers datasets evaluate"
   ]
  },
  {
   "cell_type": "markdown",
   "id": "a1b0939c",
   "metadata": {},
   "source": [
    "Oracle Data Science service sample notebook.\n",
    "\n",
    "Copyright (c) 2022 Oracle, Inc. All rights reserved. Licensed under the [Universal Permissive License v 1.0](https://oss.oracle.com/licenses/upl).\n",
    "\n",
    "***\n",
    "\n",
    "# <font color=\"red\">Synthetic data generation in feature store using OpenAI and FewShotPromptTemplate</font>\n",
    "<p style=\"margin-left:10%; margin-right:10%;\">by the <font color=\"teal\">Oracle Cloud Infrastructure Data Science Service.</font></p>\n",
    "\n",
    "---\n",
    "# Overview:\n",
    "---\n",
    "Synthetic data is artificially generated data, rather than data collected from real-world events. It's used to simulate real data without compromising privacy or encountering real-world limitations. \n",
    "\n",
    "Benefits of Synthetic Data:\n",
    "\n",
    "1. **Privacy and Security**: No real personal data at risk of breaches.\n",
    "2. **Data Augmentation**: Expands datasets for machine learning.\n",
    "3. **Flexibility**: Create specific or rare scenarios.\n",
    "4. **Cost-effective**: Often cheaper than real-world data collection.\n",
    "5. **Regulatory Compliance**: Helps navigate strict data protection laws.\n",
    "6. **Model Robustness**: Can lead to better generalizing AI models.\n",
    "7. **Rapid Prototyping**: Enables quick testing without real data.\n",
    "8. **Controlled Experimentation**: Simulate specific conditions.\n",
    "9. **Access to Data**: Alternative when real data isn't available.\n",
    "\n",
    "Note: Despite the benefits, synthetic data should be used carefully, as it may not always capture real-world complexities.\n",
    "\n",
    "\n",
    "Compatible conda pack: [PySpark 3.2 and Feature store](https://docs.oracle.com/iaas/data-science/using/conda-pyspark-fam.htm) for CPU on Python 3.8\n",
    "\n",
    "## Contents:\n",
    "\n",
    "- <a href=\"#concepts\">1. Introduction</a>\n",
    "- <a href='#pre-requisites'>1. Pre-requisites</a>\n",
    "    - <a href='#policies'>2.1 Policies</a>\n",
    "    - <a href='#prerequisites_authentication'>2.2 Authentication</a>\n",
    "    - <a href='#prerequisites_variables'>2.3 Variables</a>\n",
    "- <a href='#featurestore_querying'>3. Feature store querying</a>\n",
    "    - <a href='#data_exploration'>3.1. Exploration of data in feature store</a>\n",
    "    - <a href='#load_featuregroup'>3.2. Load feature groups</a>\n",
    "    - <a href='#explore_featuregroup'>3.3. Explore feature groups</a>\n",
    "    - <a href='#select_subset_featuregroup'>3.4. Select subset of features</a>\n",
    "    - <a href='#filter_featuregroup'>3.5. Filter feature groups</a>\n",
    "    - <a href='#join_featuregroup'>3.6. Apply joins on feature group</a>\n",
    "    - <a href='#create_dataset'>3.7. Create dataset from multiple or one feature group</a>\n",
    "    - <a href='#sql_query'>3.8 Free form sql query</a>\n",
    "- <a href='#ref'>4. References</a>\n",
    "\n",
    "---\n",
    "\n",
    "**Important:**\n",
    "\n",
    "Placeholder text for required values are surrounded by angle brackets that must be removed when adding the indicated content. For example, when adding a database name to `database_name = \"<database_name>\"` would become `database_name = \"production\"`.\n",
    "\n",
    "---"
   ]
  },
  {
   "cell_type": "markdown",
   "id": "62af759d",
   "metadata": {},
   "source": [
    "<a id=\"concepts\"></a>\n",
    "# 1. Introduction\n",
    "\n",
    "Oracle feature store is a stack based solution that is deployed in the customer enclave using OCI resource manager. Customer can stand up the service with infrastructure in their own tenancy. The service consists of API which are deployed in customer tenancy using resource manager.\n",
    "\n",
    "The following are some key terms that will help you understand OCI Data Science Feature Store:\n",
    "\n",
    "\n",
    "* **Feature Vector**: Set of feature values for any one primary/identifier key. Eg. All/subset of features of customer id ‘2536’ can be called as one feature vector.\n",
    "\n",
    "* **Feature**: A feature is an individual measurable property or characteristic of a phenomenon being observed.\n",
    "\n",
    "* **Entity**: An entity is a group of semantically related features. The first step a consumer of features would typically do when accessing the feature store service is to list the entities and the entities associated features. Another way to look at it is that an entity is an object or concept that is described by its features. Examples of entities could be customer, product, transaction, review, image, document, etc.\n",
    "\n",
    "* **Feature Group**: A feature group in a feature store is a collection of related features that are often used together in ml models. It serves as an organizational unit within the feature store for users to manage, version and share features across different ml projects. By organizing features into groups, data scientists and ml engineers can efficiently discover, reuse and collaborate on features reducing the redundant work and ensuring consistency in feature engineering.\n",
    "\n",
    "* **Feature Group Job**: Feature group job is the execution instance of a feature group. Each feature group job will include validation results and statistics results.\n",
    "\n",
    "* **Dataset**: A dataset is a collection of feature that are used together to either train a model or perform model inference.\n",
    "\n",
    "* **Dataset Job**: Dataset job is the execution instance of a dataset. Each dataset job will include validation results and statistics results."
   ]
  },
  {
   "cell_type": "markdown",
   "id": "745f4228",
   "metadata": {},
   "source": [
    "<a id='pre-requisites'></a>\n",
    "# 2. Pre-requisites\n",
    "\n",
    "Data Flow Sessions are accessible through the following conda environment:\n",
    "\n",
    "* **PySpark 3.2, Feature store 1.0 and Data Flow 1.0 (fs_pyspark32_p38_cpu_v1)**\n",
    "\n",
    "The [Data Catalog Hive Metastore](https://docs.oracle.com/en-us/iaas/data-catalog/using/metastore.htm) provides schema definitions for objects in structured and unstructured data assets. The Metastore is the central metadata repository to understand tables backed by files on object storage. You can customize `fs_pyspark32_p38_cpu_v1`, publish it, and use it as a runtime environment for a Data Flow session cluster. The metastore id of hive metastore is tied to feature store construct of feature store service.\n"
   ]
  },
  {
   "cell_type": "markdown",
   "id": "a8ee97bf",
   "metadata": {},
   "source": [
    "<a id='setup_spark-defaults'></a>\n",
    "### `spark-defaults.conf`\n",
    "\n",
    "The `spark-defaults.conf` file is used to define the properties that are used by Spark. A templated version is installed when you install a Data Science conda environment that supports PySpark. However, you must update the template so that the Data Catalog metastore can be accessed. You can do this manually. However, the `odsc data-catalog config` commandline tool is ideal for setting up the file because it gathers information about your environment, and uses that to build the file.\n",
    "\n",
    "The `odsc data-catalog config` command line tool needs the `--metastore` option to define the Data Catalog metastore OCID. No other command line option is needed because settings have default values, or they take values from your notebook session environment. Following are common parameters that you may need to override.\n",
    "\n",
    "The `--authentication` option sets the authentication mode. It supports resource principal and API keys. The preferred method for authentication is resource principal, which is sent with `--authentication resource_principal`. If you want to use API keys, then use the `--authentication api_key` option. If the `--authentication` isn't specified, API keys are used. When API keys are used, information from the OCI configuration file is used to create the `spark-defaults.conf` file.\n",
    "\n",
    "Object Storage and Data Catalog are regional services. By default, the region is set to the region your notebook session is running in. This information is taken from the environment variable, `NB_REGION`. Use the `--region` option to override this behavior.\n",
    "\n",
    "The default location of the `spark-defaults.conf` file is `/home/datascience/spark_conf_dir` as defined in the `SPARK_CONF_DIR` environment variable. Use the `--output` option to define the directory where to write the file.\n",
    "\n",
    "You need to determine what settings are appropriate for your configuration. However, the following works for most configurations and is run in a terminal window.\n",
    "\n",
    "```bash\n",
    "odsc data-catalog config --authentication resource_principal --metastore <metastore_id>\n",
    "```\n",
    "For more assistance, use the following command in a terminal window:\n",
    "\n",
    "```bash\n",
    "odsc data-catalog config --help\n",
    "```\n",
    "\n",
    "<a id='setup_session'></a>\n",
    "### Session Setup\n",
    "\n",
    "The notebook makes connections to the Data Catalog metastore and Object Storage. In the next cell, specify the bucket URI to act as the data warehouse. Use the `warehouse_uri` variable with the `oci://<bucket_name>@<namespace_name>/<key>` format. Update the variable `metastore_id` with the OCID of the Data Catalog metastore."
   ]
  },
  {
   "cell_type": "markdown",
   "id": "76f24790",
   "metadata": {},
   "source": [
    "python -m pip install --pre oracle-ads==2.9.0rc0<a id='policies'></a>\n",
    "### 2.1. Policies\n",
    "This section covers the creation of dynamic groups and policies needed to use the service.\n",
    "\n",
    "* [Data Flow Policies](https://docs.oracle.com/iaas/data-flow/using/policies.htm/)\n",
    "* [Data Catalog Metastore Required Policies](https://docs.oracle.com/en-us/iaas/data-catalog/using/metastore.htm)\n",
    "* [Getting Started with Data Flow](https://docs.oracle.com/iaas/data-flow/using/dfs_getting_started.htm)\n",
    "* [About Data Science Policies](https://docs.oracle.com/iaas/data-science/using/policies.htm)"
   ]
  },
  {
   "cell_type": "code",
   "execution_count": 1,
   "id": "21a60364",
   "metadata": {},
   "outputs": [
    {
     "name": "stdout",
     "output_type": "stream",
     "text": [
      "Collecting oracle-ads==2.9.0rc0\n",
      "  Obtaining dependency information for oracle-ads==2.9.0rc0 from https://files.pythonhosted.org/packages/da/5a/155af49717f08104e7eabf682ffcd1344a3d78d63ff8aedb8ef392bebc6c/oracle_ads-2.9.0rc0-py3-none-any.whl.metadata\n",
      "  Using cached oracle_ads-2.9.0rc0-py3-none-any.whl.metadata (11 kB)\n",
      "Using cached oracle_ads-2.9.0rc0-py3-none-any.whl (4.3 MB)\n",
      "Installing collected packages: oracle-ads\n",
      "  Attempting uninstall: oracle-ads\n",
      "    Found existing installation: oracle-ads 2.8.8\n",
      "    Uninstalling oracle-ads-2.8.8:\n",
      "      Successfully uninstalled oracle-ads-2.8.8\n",
      "Successfully installed oracle-ads-2.9.0rc0\n"
     ]
    }
   ],
   "source": [
    "!pip install --pre --no-deps oracle-ads==2.9.0rc0 "
   ]
  },
  {
   "cell_type": "markdown",
   "id": "4b6dad3f",
   "metadata": {},
   "source": [
    "<a id=\"prerequisites_authentication\"></a>\n",
    "### 2.2. Authentication\n",
    "The [Oracle Accelerated Data Science SDK (ADS)](https://docs.oracle.com/iaas/tools/ads-sdk/latest/index.html) controls the authentication mechanism with the notebook cluster.<br>\n",
    "To setup authentication use the ```ads.set_auth(\"resource_principal\")``` or ```ads.set_auth(\"api_key\")```."
   ]
  },
  {
   "cell_type": "code",
   "execution_count": 1,
   "id": "45ead83d",
   "metadata": {
    "ExecuteTime": {
     "start_time": "2023-05-24T08:26:08.577504Z"
    },
    "is_executing": true,
    "pycharm": {
     "is_executing": true
    }
   },
   "outputs": [],
   "source": [
    "import ads\n",
    "ads.set_auth(auth=\"resource_principal\", client_kwargs={\"service_endpoint\": \"<endpoint>\"})"
   ]
  },
  {
   "cell_type": "markdown",
   "id": "774eb18e",
   "metadata": {},
   "source": [
    "<a id=\"prerequisites_variables\"></a>\n",
    "### 2.3. Variables\n",
    "To run this notebook, you must provide some information about your tenancy configuration. To create and run a feature store, you must specify a `<compartment_id>` and bucket `<metastore_id>` for offline feature store."
   ]
  },
  {
   "cell_type": "code",
   "execution_count": 2,
   "id": "634b7292",
   "metadata": {
    "pycharm": {
     "is_executing": true
    }
   },
   "outputs": [],
   "source": [
    "import os\n",
    "\n",
    "compartment_id = \"<compartment_id>\"\n",
    "metastore_id = \"<metastore_id>\""
   ]
  },
  {
   "cell_type": "markdown",
   "id": "be02370a",
   "metadata": {},
   "source": [
    "<a id=\"featurestore_querying\"></a>\n",
    "# 3. Feature group use cases\n",
    "By default the **PySpark 3.2, Feature store and Data Flow** conda environment includes pre-installed [great-expectations](https://legacy.docs.greatexpectations.io/en/latest/reference/core_concepts/validation.html) and [deeque](https://github.com/awslabs/deequ) libraries. The joining functionality is heavily inspired by the APIs used by Pandas to merge, join or filter DataFrames. The APIs allow you to specify which features to select from which feature group, how to join them and which features to use in join conditions."
   ]
  },
  {
   "cell_type": "code",
   "execution_count": 3,
   "id": "17f55bb2",
   "metadata": {
    "pycharm": {
     "is_executing": true
    }
   },
   "outputs": [],
   "source": [
    "import warnings\n",
    "warnings.filterwarnings(\"ignore\", message=\"iteritems is deprecated\")\n",
    "warnings.filterwarnings(\"ignore\", category=DeprecationWarning)"
   ]
  },
  {
   "cell_type": "code",
   "execution_count": 4,
   "id": "032666db",
   "metadata": {
    "pycharm": {
     "is_executing": true
    }
   },
   "outputs": [
    {
     "name": "stdout",
     "output_type": "stream",
     "text": [
      "WARNING:py.warnings:/home/datascience/conda/fspyspark32_p38_cpu_v2/lib/python3.8/site-packages/ads/model/deployment/model_deployment.py:53: DeprecationWarning: The `ads.model.deployment.model_deployment_properties` is deprecated in `oracle-ads 2.8.6` and will be removed in `oracle-ads 3.0`.Use `ModelDeploymentInfrastructure` and `ModelDeploymentRuntime` classes in `ads.model.deployment` module for configuring model deployment. Check https://accelerated-data-science.readthedocs.io/en/latest/user_guide/model_registration/introduction.html\n",
      "  from .model_deployment_properties import ModelDeploymentProperties\n",
      "\n",
      "WARNING:py.warnings:/home/datascience/conda/fspyspark32_p38_cpu_v2/lib/python3.8/site-packages/ads/model/deployment/__init__.py:7: DeprecationWarning: The `ads.model.deployment.model_deployer` is deprecated in `oracle-ads 2.8.6` and will be removed in `oracle-ads 3.0`.Use `ModelDeployment` class in `ads.model.deployment` module for initializing and deploying model deployment. Check https://accelerated-data-science.readthedocs.io/en/latest/user_guide/model_registration/introduction.html\n",
      "  from .model_deployer import ModelDeployer\n",
      "\n",
      "WARNING:py.warnings:/home/datascience/conda/fspyspark32_p38_cpu_v2/lib/python3.8/site-packages/pyspark/sql/pandas/utils.py:35: DeprecationWarning: distutils Version classes are deprecated. Use packaging.version instead.\n",
      "  if LooseVersion(pandas.__version__) < LooseVersion(minimum_pandas_version):\n",
      "\n",
      "WARNING:py.warnings:/home/datascience/conda/fspyspark32_p38_cpu_v2/lib/python3.8/site-packages/pyspark/sql/pandas/utils.py:57: DeprecationWarning: distutils Version classes are deprecated. Use packaging.version instead.\n",
      "  if LooseVersion(pyarrow.__version__) < LooseVersion(minimum_pyarrow_version):\n",
      "\n",
      "WARNING:py.warnings:/home/datascience/conda/fspyspark32_p38_cpu_v2/lib/python3.8/site-packages/pyspark/pandas/__init__.py:44: DeprecationWarning: distutils Version classes are deprecated. Use packaging.version instead.\n",
      "  LooseVersion(pyarrow.__version__) >= LooseVersion(\"2.0.0\")\n",
      "\n",
      "WARNING:root:'PYARROW_IGNORE_TIMEZONE' environment variable was not set. It is required to set this environment variable to '1' in both driver and executor sides if you use pyarrow>=2.0.0. pandas-on-Spark will set it for you but it does not work if there is a Spark context already launched.\n",
      "WARNING:py.warnings:/home/datascience/conda/fspyspark32_p38_cpu_v2/lib/python3.8/site-packages/pyspark/pandas/frame.py:62: DeprecationWarning: distutils Version classes are deprecated. Use packaging.version instead.\n",
      "  if LooseVersion(pd.__version__) >= LooseVersion(\"0.24\"):\n",
      "\n",
      "WARNING:py.warnings:/home/datascience/conda/fspyspark32_p38_cpu_v2/lib/python3.8/site-packages/pyspark/pandas/missing/frame.py:81: DeprecationWarning: distutils Version classes are deprecated. Use packaging.version instead.\n",
      "  if LooseVersion(pd.__version__) < LooseVersion(\"1.0\"):\n",
      "\n",
      "WARNING:py.warnings:/home/datascience/conda/fspyspark32_p38_cpu_v2/lib/python3.8/site-packages/pyspark/pandas/missing/indexes.py:85: DeprecationWarning: distutils Version classes are deprecated. Use packaging.version instead.\n",
      "  if LooseVersion(pd.__version__) < LooseVersion(\"1.0\"):\n",
      "\n",
      "WARNING:py.warnings:/home/datascience/conda/fspyspark32_p38_cpu_v2/lib/python3.8/site-packages/pyspark/pandas/missing/indexes.py:191: DeprecationWarning: distutils Version classes are deprecated. Use packaging.version instead.\n",
      "  if LooseVersion(pd.__version__) < LooseVersion(\"1.0\"):\n",
      "\n",
      "WARNING:py.warnings:/home/datascience/conda/fspyspark32_p38_cpu_v2/lib/python3.8/site-packages/pyspark/pandas/missing/series.py:89: DeprecationWarning: distutils Version classes are deprecated. Use packaging.version instead.\n",
      "  if LooseVersion(pd.__version__) < LooseVersion(\"1.0\"):\n",
      "\n",
      "WARNING:py.warnings:/home/datascience/conda/fspyspark32_p38_cpu_v2/lib/python3.8/site-packages/pyspark/pandas/groupby.py:50: DeprecationWarning: distutils Version classes are deprecated. Use packaging.version instead.\n",
      "  if LooseVersion(pd.__version__) >= LooseVersion(\"1.3.0\"):\n",
      "\n",
      "WARNING:py.warnings:/home/datascience/conda/fspyspark32_p38_cpu_v2/lib/python3.8/site-packages/fs/__init__.py:4: DeprecationWarning: Deprecated call to `pkg_resources.declare_namespace('fs')`.\n",
      "Implementing implicit namespace packages (as specified in PEP 420) is preferred to `pkg_resources.declare_namespace`. See https://setuptools.pypa.io/en/latest/references/keywords.html#keyword-namespace-packages\n",
      "  __import__(\"pkg_resources\").declare_namespace(__name__)  # type: ignore\n",
      "\n",
      "WARNING:py.warnings:/home/datascience/conda/fspyspark32_p38_cpu_v2/lib/python3.8/site-packages/fs/opener/__init__.py:6: DeprecationWarning: Deprecated call to `pkg_resources.declare_namespace('fs.opener')`.\n",
      "Implementing implicit namespace packages (as specified in PEP 420) is preferred to `pkg_resources.declare_namespace`. See https://setuptools.pypa.io/en/latest/references/keywords.html#keyword-namespace-packages\n",
      "  __import__(\"pkg_resources\").declare_namespace(__name__)  # type: ignore\n",
      "\n",
      "WARNING:py.warnings:/home/datascience/conda/fspyspark32_p38_cpu_v2/lib/python3.8/site-packages/pkg_resources/__init__.py:2350: DeprecationWarning: Deprecated call to `pkg_resources.declare_namespace('fs')`.\n",
      "Implementing implicit namespace packages (as specified in PEP 420) is preferred to `pkg_resources.declare_namespace`. See https://setuptools.pypa.io/en/latest/references/keywords.html#keyword-namespace-packages\n",
      "  declare_namespace(parent)\n",
      "\n"
     ]
    }
   ],
   "source": [
    "import pandas as pd\n",
    "from ads.feature_store.feature_store import FeatureStore\n",
    "from ads.feature_store.feature_group import FeatureGroup\n",
    "from ads.feature_store.model_details import ModelDetails\n",
    "from ads.feature_store.dataset import Dataset\n",
    "from ads.feature_store.common.enums import DatasetIngestionMode\n",
    "\n",
    "\n",
    "from ads.feature_store.feature_group_expectation import ExpectationType\n",
    "from great_expectations.core import ExpectationSuite, ExpectationConfiguration\n",
    "from ads.feature_store.feature_store_registrar import FeatureStoreRegistrar"
   ]
  },
  {
   "cell_type": "markdown",
   "id": "27208c7e",
   "metadata": {},
   "source": [
    "<a id=\"data_exploration\"></a>\n",
    "### 3.1. Exploration of data in feature store"
   ]
  },
  {
   "cell_type": "markdown",
   "id": "65f2a8b9",
   "metadata": {},
   "source": [
    "#### 3.1.1 Load Synthetic dataset\n",
    "\n",
    "The `FewShotPromptTemplate` includes:\n",
    "\n",
    "- `prefix` and `suffix`: These likely contain guiding context or instructions.\n",
    "- `examples`: The sample data we defined earlier.\n",
    "- `input_variables`: These variables (\"subject\", \"extra\") are placeholders you can dynamically fill later. For instance, \"subject\" might be filled with \"medical_billing\" to guide the model further.\n",
    "- `example_prompt`: This prompt template is the format we want each example row to take in our prompt."
   ]
  },
  {
   "cell_type": "markdown",
   "id": "d27078e1",
   "metadata": {},
   "source": [
    "<a id=\"load_featuregroup\"></a>\n",
    "### 3.2. Create feature store logical entities"
   ]
  },
  {
   "cell_type": "markdown",
   "id": "2b949582",
   "metadata": {},
   "source": [
    "#### 3.2.1 Feature Store\n",
    "Feature store is the top level entity for feature store service"
   ]
  },
  {
   "cell_type": "code",
   "execution_count": 5,
   "id": "f2926e7e",
   "metadata": {
    "pycharm": {
     "is_executing": true
    }
   },
   "outputs": [],
   "source": [
    "feature_store_resource = (\n",
    "    FeatureStore().\n",
    "    with_description(\"Medical Synthetic Data Feature Store\").\n",
    "    with_compartment_id(compartment_id).\n",
    "    with_display_name(\"Synthetic data details\").\n",
    "    with_offline_config(metastore_id=metastore_id)\n",
    ")"
   ]
  },
  {
   "cell_type": "markdown",
   "id": "cac75b7d",
   "metadata": {},
   "source": [
    "<a id=\"create_feature_store\"></a>\n",
    "##### Create Feature Store\n",
    "\n",
    "Call the ```.create()``` method of the Feature store instance to create a feature store."
   ]
  },
  {
   "cell_type": "code",
   "execution_count": 6,
   "id": "be2180c7",
   "metadata": {
    "pycharm": {
     "is_executing": true
    }
   },
   "outputs": [
    {
     "data": {
      "text/plain": [
       "\n",
       "kind: featurestore\n",
       "spec:\n",
       "  compartmentId: ocid1.tenancy.oc1..aaaaaaaa462hfhplpx652b32ix62xrdijppq2c7okwcqjlgrbknhgtj2kofa\n",
       "  description: Medical Synthetic Data Feature Store\n",
       "  displayName: Synthetic data details\n",
       "  id: 22F0AE1826B035E226A1C6A41C07C299\n",
       "  offlineConfig:\n",
       "    metastoreId: ocid1.datacatalogmetastore.oc1.iad.amaaaaaabiudgxyap7tizm4gscwz7amu7dixz7ml3mtesqzzwwg3urvvdgua\n",
       "type: featureStore"
      ]
     },
     "execution_count": 6,
     "metadata": {},
     "output_type": "execute_result"
    }
   ],
   "source": [
    "feature_store = feature_store_resource.create()\n",
    "feature_store"
   ]
  },
  {
   "cell_type": "markdown",
   "id": "880205df",
   "metadata": {},
   "source": [
    "#### 3.2.2 Entity\n",
    "An entity is a logical segregation of feature store entities"
   ]
  },
  {
   "cell_type": "code",
   "execution_count": 7,
   "id": "f8176ae8",
   "metadata": {},
   "outputs": [
    {
     "data": {
      "text/plain": [
       "\n",
       "kind: entity\n",
       "spec:\n",
       "  compartmentId: ocid1.tenancy.oc1..aaaaaaaa462hfhplpx652b32ix62xrdijppq2c7okwcqjlgrbknhgtj2kofa\n",
       "  description: description for medical entity details\n",
       "  featureStoreId: 22F0AE1826B035E226A1C6A41C07C299\n",
       "  id: 8B1A0CCD3AEA4A63A52907E90A4D0F3F\n",
       "  name: Synthetic Medical Entity\n",
       "type: entity"
      ]
     },
     "execution_count": 7,
     "metadata": {},
     "output_type": "execute_result"
    }
   ],
   "source": [
    "entity = feature_store.create_entity(\n",
    "    display_name=\"Synthetic Medical Entity\",\n",
    "    description=\"description for medical entity details\"\n",
    ")\n",
    "entity"
   ]
  },
  {
   "cell_type": "markdown",
   "id": "af0e548e",
   "metadata": {},
   "source": [
    "#### 3.2.3 Transformation"
   ]
  },
  {
   "cell_type": "code",
   "execution_count": 8,
   "id": "1f097382",
   "metadata": {},
   "outputs": [],
   "source": [
    "!pip install -U langchain langchain_experimental openai"
   ]
  },
  {
   "cell_type": "code",
   "execution_count": 9,
   "id": "ed55244f",
   "metadata": {},
   "outputs": [],
   "source": [
    "!pip install python-dotenv"
   ]
  },
  {
   "cell_type": "code",
   "execution_count": 10,
   "id": "656f70df",
   "metadata": {},
   "outputs": [],
   "source": [
    "def generate_synthetic_data(dataframe):\n",
    "    import pandas as pd\n",
    "    import dotenv\n",
    "    from langchain.prompts import FewShotPromptTemplate, PromptTemplate\n",
    "    from langchain.chat_models import ChatOpenAI\n",
    "    from langchain.pydantic_v1 import BaseModel\n",
    "    from langchain_experimental.tabular_synthetic_data.base import SyntheticDataGenerator\n",
    "    from langchain_experimental.tabular_synthetic_data.openai import create_openai_data_generator\n",
    "    from langchain_experimental.tabular_synthetic_data.prompts import SYNTHETIC_FEW_SHOT_SUFFIX, SYNTHETIC_FEW_SHOT_PREFIX\n",
    "\n",
    "    # Set env var OPENAI_API_KEY or load from a .env file:\n",
    "    dotenv.load_dotenv()\n",
    "\n",
    "    class MedicalBilling(BaseModel):\n",
    "        patient_id: int\n",
    "        patient_name: str\n",
    "        diagnosis_code: str\n",
    "        procedure_code: str\n",
    "        total_charge: float\n",
    "        insurance_claim_amount: float\n",
    "\n",
    "    examples = [\n",
    "        {\n",
    "            \"example\": \"\"\"Patient ID: 123456, Patient Name: John Doe, Diagnosis Code: \n",
    "            J20.9, Procedure Code: 99203, Total Charge: $500, Insurance Claim Amount: $350\"\"\"\n",
    "        },\n",
    "        {\n",
    "            \"example\": \"\"\"Patient ID: 789012, Patient Name: Johnson Smith, Diagnosis \n",
    "            Code: M54.5, Procedure Code: 99213, Total Charge: $150, Insurance Claim Amount: $120\"\"\"\n",
    "        },\n",
    "        {\n",
    "            \"example\": \"\"\"Patient ID: 345678, Patient Name: Emily Stone, Diagnosis Code: \n",
    "            E11.9, Procedure Code: 99214, Total Charge: $300, Insurance Claim Amount: $250\"\"\"\n",
    "        },\n",
    "    ]\n",
    "\n",
    "    OPENAI_TEMPLATE = PromptTemplate(input_variables=[\"example\"], template=\"{example}\")\n",
    "\n",
    "    prompt_template = FewShotPromptTemplate(\n",
    "        prefix=SYNTHETIC_FEW_SHOT_PREFIX,\n",
    "        examples=examples,\n",
    "        suffix=SYNTHETIC_FEW_SHOT_SUFFIX,\n",
    "        input_variables=[\"subject\", \"extra\"],\n",
    "        example_prompt=OPENAI_TEMPLATE,\n",
    "    )\n",
    "\n",
    "    synthetic_data_generator = create_openai_data_generator(\n",
    "        output_schema=MedicalBilling,\n",
    "        llm=ChatOpenAI(\n",
    "            temperature=1\n",
    "        ),  # You'll need to replace with your actual Language Model instance\n",
    "        prompt=prompt_template,\n",
    "    )\n",
    "\n",
    "    synthetic_results = synthetic_data_generator.generate(\n",
    "        subject=\"medical_billing\",\n",
    "        extra=\"the name must be chosen at random. Make it something you wouldn't normally choose.\",\n",
    "        runs=1,\n",
    "    )\n",
    "\n",
    "    # Convert to DataFrame\n",
    "    df = pd.DataFrame([result.dict() for result in synthetic_results])\n",
    "    return df"
   ]
  },
  {
   "cell_type": "code",
   "execution_count": 11,
   "id": "538cd3e3",
   "metadata": {},
   "outputs": [
    {
     "data": {
      "text/plain": [
       "\n",
       "kind: transformation\n",
       "spec:\n",
       "  compartmentId: ocid1.tenancy.oc1..aaaaaaaa462hfhplpx652b32ix62xrdijppq2c7okwcqjlgrbknhgtj2kofa\n",
       "  displayName: generate_synthetic_data\n",
       "  featureStoreId: 22F0AE1826B035E226A1C6A41C07C299\n",
       "  id: D3666026ED85F082B62B1142AA6B77DD\n",
       "  sourceCode: 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\n",
       "  transformationMode: pandas\n",
       "type: transformation"
      ]
     },
     "execution_count": 11,
     "metadata": {},
     "output_type": "execute_result"
    }
   ],
   "source": [
    "from ads.feature_store.transformation import TransformationMode\n",
    "\n",
    "synthetic_transformation = feature_store.create_transformation(\n",
    "    transformation_mode=TransformationMode.PANDAS,\n",
    "    source_code_func=generate_synthetic_data,\n",
    "    display_name=\"generate_synthetic_data\",\n",
    ")\n",
    "\n",
    "synthetic_transformation"
   ]
  },
  {
   "cell_type": "markdown",
   "id": "33d0c38a",
   "metadata": {},
   "source": [
    "#### 3.2.3 Feature group\n",
    "A feature group is an object that represents a logical group of time-series feature data as it is found in a datasource."
   ]
  },
  {
   "cell_type": "markdown",
   "id": "ea162d9d",
   "metadata": {},
   "source": [
    "<a id=\"create_feature_group_flights\"></a>\n",
    "##### Synthetic medical feature Group\n",
    "\n",
    "Create feature group for Synthetic Dataset Feature Group\n",
    "\n",
    "<div>\n",
    "    <img src=\"https://objectstorage.us-ashburn-1.oraclecloud.com/p/hh2NOgFJbVSg4amcLM3G3hkTuHyBD-8aE_iCsuZKEvIav1Wlld-3zfCawG4ycQGN/n/ociodscdev/b/oci-feature-store/o/beta/_images/feature_group_flights.gif\" width=\"700\" height=\"350\" />\n",
    "</div>"
   ]
  },
  {
   "cell_type": "code",
   "execution_count": 12,
   "id": "69615dda",
   "metadata": {},
   "outputs": [
    {
     "data": {
      "text/html": [
       "<div>\n",
       "<style scoped>\n",
       "    .dataframe tbody tr th:only-of-type {\n",
       "        vertical-align: middle;\n",
       "    }\n",
       "\n",
       "    .dataframe tbody tr th {\n",
       "        vertical-align: top;\n",
       "    }\n",
       "\n",
       "    .dataframe thead th {\n",
       "        text-align: right;\n",
       "    }\n",
       "</style>\n",
       "<table border=\"1\" class=\"dataframe\">\n",
       "  <thead>\n",
       "    <tr style=\"text-align: right;\">\n",
       "      <th></th>\n",
       "      <th>patient_id</th>\n",
       "      <th>patient_name</th>\n",
       "      <th>diagnosis_code</th>\n",
       "      <th>procedure_code</th>\n",
       "      <th>total_charge</th>\n",
       "      <th>insurance_claim_amount</th>\n",
       "    </tr>\n",
       "  </thead>\n",
       "  <tbody>\n",
       "    <tr>\n",
       "      <th>0</th>\n",
       "      <td>123456</td>\n",
       "      <td>John Doe</td>\n",
       "      <td>J20.9</td>\n",
       "      <td>99203</td>\n",
       "      <td>500.0</td>\n",
       "      <td>350.0</td>\n",
       "    </tr>\n",
       "  </tbody>\n",
       "</table>\n",
       "</div>"
      ],
      "text/plain": [
       "   patient_id patient_name diagnosis_code procedure_code  total_charge  \\\n",
       "0      123456     John Doe          J20.9          99203         500.0   \n",
       "\n",
       "   insurance_claim_amount  \n",
       "0                   350.0  "
      ]
     },
     "execution_count": 12,
     "metadata": {},
     "output_type": "execute_result"
    }
   ],
   "source": [
    "empty_df = pd.DataFrame([{\n",
    "    \"patient_id\": 123456,\n",
    "    \"patient_name\": \"John Doe\",\n",
    "    \"diagnosis_code\": \"J20.9\",\n",
    "    \"procedure_code\": \"99203\",\n",
    "    \"total_charge\": 500.0,\n",
    "    \"insurance_claim_amount\": 350.0,\n",
    "}])\n",
    "empty_df"
   ]
  },
  {
   "cell_type": "code",
   "execution_count": 13,
   "id": "79ebdb7f",
   "metadata": {},
   "outputs": [
    {
     "data": {
      "text/plain": [
       "{\"expectation_type\": \"expect_column_values_to_not_be_null\", \"kwargs\": {\"column\": \"diagnosis_code\"}, \"meta\": {}}"
      ]
     },
     "execution_count": 13,
     "metadata": {},
     "output_type": "execute_result"
    }
   ],
   "source": [
    "expectation_suite = ExpectationSuite(\n",
    "    expectation_suite_name=\"test_synthetic data\"\n",
    ")\n",
    "expectation_suite.add_expectation(\n",
    "    ExpectationConfiguration(\n",
    "        expectation_type=\"expect_column_values_to_not_be_null\",\n",
    "        kwargs={\"column\": \"patient_id\"},\n",
    "    )\n",
    ")\n",
    "expectation_suite.add_expectation(\n",
    "    ExpectationConfiguration(\n",
    "        expectation_type=\"expect_column_values_to_not_be_null\",\n",
    "        kwargs={\"column\": \"patient_name\"},\n",
    "    )\n",
    ")\n",
    "\n",
    "expectation_suite.add_expectation(\n",
    "    ExpectationConfiguration(\n",
    "        expectation_type=\"expect_column_values_to_not_be_null\",\n",
    "        kwargs={\"column\": \"diagnosis_code\"},\n",
    "    )\n",
    ")"
   ]
  },
  {
   "cell_type": "code",
   "execution_count": 14,
   "id": "72b23d17",
   "metadata": {},
   "outputs": [
    {
     "name": "stderr",
     "output_type": "stream",
     "text": [
      "Setting default log level to \"WARN\".\n",
      "To adjust logging level use sc.setLogLevel(newLevel). For SparkR, use setLogLevel(newLevel).\n",
      "2023/11/11 06:13:09 NativeCodeLoader: Unable to load native-hadoop library for your platform... using builtin-java classes where applicable\n"
     ]
    },
    {
     "name": "stdout",
     "output_type": "stream",
     "text": [
      "WARNING:py.warnings:/home/datascience/conda/fspyspark32_p38_cpu_v2/lib/python3.8/site-packages/pyspark/sql/pandas/utils.py:35: DeprecationWarning: distutils Version classes are deprecated. Use packaging.version instead.\n",
      "  if LooseVersion(pandas.__version__) < LooseVersion(minimum_pandas_version):\n",
      "\n",
      "WARNING:py.warnings:/home/datascience/conda/fspyspark32_p38_cpu_v2/lib/python3.8/site-packages/pyspark/sql/pandas/utils.py:57: DeprecationWarning: distutils Version classes are deprecated. Use packaging.version instead.\n",
      "  if LooseVersion(pyarrow.__version__) < LooseVersion(minimum_pyarrow_version):\n",
      "\n"
     ]
    }
   ],
   "source": [
    "synthetic_data_embedding_feature_group = (\n",
    "    FeatureGroup()\n",
    "    .with_feature_store_id(feature_store.id)\n",
    "    .with_primary_keys([])\n",
    "    .with_name(\"synthetic_data_feature_group\")\n",
    "    .with_entity_id(entity.id)\n",
    "    .with_compartment_id(compartment_id)\n",
    "    .with_schema_details_from_dataframe(empty_df)\n",
    "    .with_transformation_id(synthetic_transformation.id)\n",
    "    .with_expectation_suite(\n",
    "        expectation_suite=expectation_suite,\n",
    "        expectation_type=ExpectationType.STRICT,\n",
    "     )\n",
    ")"
   ]
  },
  {
   "cell_type": "code",
   "execution_count": 15,
   "id": "9719948a",
   "metadata": {},
   "outputs": [
    {
     "data": {
      "text/plain": [
       "\n",
       "kind: FeatureGroup\n",
       "spec:\n",
       "  compartmentId: ocid1.tenancy.oc1..aaaaaaaa462hfhplpx652b32ix62xrdijppq2c7okwcqjlgrbknhgtj2kofa\n",
       "  entityId: 8B1A0CCD3AEA4A63A52907E90A4D0F3F\n",
       "  expectationDetails:\n",
       "    createRuleDetails:\n",
       "    - arguments:\n",
       "        column: patient_id\n",
       "      levelType: ERROR\n",
       "      name: Rule-0\n",
       "      ruleType: expect_column_values_to_not_be_null\n",
       "    - arguments:\n",
       "        column: patient_name\n",
       "      levelType: ERROR\n",
       "      name: Rule-1\n",
       "      ruleType: expect_column_values_to_not_be_null\n",
       "    - arguments:\n",
       "        column: diagnosis_code\n",
       "      levelType: ERROR\n",
       "      name: Rule-2\n",
       "      ruleType: expect_column_values_to_not_be_null\n",
       "    expectationType: STRICT\n",
       "    name: test_synthetic data\n",
       "    validationEngineType: GREAT_EXPECTATIONS\n",
       "  featureStoreId: 22F0AE1826B035E226A1C6A41C07C299\n",
       "  id: 4DFC763EE0C63298E9BA88C30E9C582C\n",
       "  inputFeatureDetails:\n",
       "  - featureType: LONG\n",
       "    name: patient_id\n",
       "    orderNumber: 1\n",
       "  - featureType: STRING\n",
       "    name: patient_name\n",
       "    orderNumber: 2\n",
       "  - featureType: STRING\n",
       "    name: diagnosis_code\n",
       "    orderNumber: 3\n",
       "  - featureType: STRING\n",
       "    name: procedure_code\n",
       "    orderNumber: 4\n",
       "  - featureType: DOUBLE\n",
       "    name: total_charge\n",
       "    orderNumber: 5\n",
       "  - featureType: DOUBLE\n",
       "    name: insurance_claim_amount\n",
       "    orderNumber: 6\n",
       "  isInferSchema: true\n",
       "  name: synthetic_data_feature_group\n",
       "  primaryKeys:\n",
       "    items: []\n",
       "  statisticsConfig:\n",
       "    isEnabled: true\n",
       "  transformationId: D3666026ED85F082B62B1142AA6B77DD\n",
       "  transformationParameters: e30=\n",
       "type: featureGroup"
      ]
     },
     "execution_count": 15,
     "metadata": {},
     "output_type": "execute_result"
    }
   ],
   "source": [
    "synthetic_data_embedding_feature_group.create()"
   ]
  },
  {
   "cell_type": "code",
   "execution_count": 16,
   "id": "c26f37ca",
   "metadata": {},
   "outputs": [
    {
     "data": {
      "image/svg+xml": [
       "<?xml version=\"1.0\" encoding=\"UTF-8\" standalone=\"no\"?>\n",
       "<!DOCTYPE svg PUBLIC \"-//W3C//DTD SVG 1.1//EN\"\n",
       " \"http://www.w3.org/Graphics/SVG/1.1/DTD/svg11.dtd\">\n",
       "<!-- Generated by graphviz version 2.30.1 (20200602.1248)\n",
       " -->\n",
       "<!-- Title: %3 Pages: 1 -->\n",
       "<svg width=\"590pt\" height=\"134pt\"\n",
       " viewBox=\"0.00 0.00 590.00 134.00\" xmlns=\"http://www.w3.org/2000/svg\" xmlns:xlink=\"http://www.w3.org/1999/xlink\">\n",
       "<g id=\"graph0\" class=\"graph\" transform=\"scale(1 1) rotate(0) translate(4 130)\">\n",
       "<title>%3</title>\n",
       "<polygon fill=\"white\" stroke=\"white\" points=\"-4,5 -4,-130 587,-130 587,5 -4,5\"/>\n",
       "<!-- 22F0AE1826B035E226A1C6A41C07C299 -->\n",
       "<g id=\"node1\" class=\"node\"><title>22F0AE1826B035E226A1C6A41C07C299</title>\n",
       "<path fill=\"#dedede\" stroke=\"#dedede\" d=\"M158,-90C158,-90 12,-90 12,-90 6,-90 0,-84 0,-78 0,-78 0,-48 0,-48 0,-42 6,-36 12,-36 12,-36 158,-36 158,-36 164,-36 170,-42 170,-48 170,-48 170,-78 170,-78 170,-84 164,-90 158,-90\"/>\n",
       "<text text-anchor=\"start\" x=\"33.5\" y=\"-73.7\" font-family=\"Helvetica,Arial,sans-serif\" font-size=\"11.00\">Synthetic data details</text>\n",
       "<text text-anchor=\"start\" x=\"63.5\" y=\"-59.4\" font-family=\"Helvetica,Arial,sans-serif\" font-size=\"7.00\">Feature Store</text>\n",
       "<text text-anchor=\"start\" x=\"12.5\" y=\"-46.4\" font-family=\"Courier New\" font-size=\"7.00\">22F0AE1826B035E226A1C6A41C07C299</text>\n",
       "</g>\n",
       "<!-- 8B1A0CCD3AEA4A63A52907E90A4D0F3F -->\n",
       "<g id=\"node2\" class=\"node\"><title>8B1A0CCD3AEA4A63A52907E90A4D0F3F</title>\n",
       "<path fill=\"#dedede\" stroke=\"#dedede\" d=\"M364,-126C364,-126 218,-126 218,-126 212,-126 206,-120 206,-114 206,-114 206,-84 206,-84 206,-78 212,-72 218,-72 218,-72 364,-72 364,-72 370,-72 376,-78 376,-84 376,-84 376,-114 376,-114 376,-120 370,-126 364,-126\"/>\n",
       "<text text-anchor=\"start\" x=\"233.5\" y=\"-109.7\" font-family=\"Helvetica,Arial,sans-serif\" font-size=\"11.00\">Synthetic Medical Entity</text>\n",
       "<text text-anchor=\"start\" x=\"281.5\" y=\"-95.4\" font-family=\"Helvetica,Arial,sans-serif\" font-size=\"7.00\">Entity</text>\n",
       "<text text-anchor=\"start\" x=\"218.5\" y=\"-82.4\" font-family=\"Courier New\" font-size=\"7.00\">8B1A0CCD3AEA4A63A52907E90A4D0F3F</text>\n",
       "</g>\n",
       "<!-- 22F0AE1826B035E226A1C6A41C07C299&#45;&gt;8B1A0CCD3AEA4A63A52907E90A4D0F3F -->\n",
       "<g id=\"edge1\" class=\"edge\"><title>22F0AE1826B035E226A1C6A41C07C299&#45;&gt;8B1A0CCD3AEA4A63A52907E90A4D0F3F</title>\n",
       "<path fill=\"none\" stroke=\"black\" d=\"M170.152,-77.8504C178.593,-79.34 187.202,-80.8592 195.739,-82.3656\"/>\n",
       "<polygon fill=\"black\" stroke=\"black\" points=\"195.256,-85.8344 205.712,-84.1256 196.472,-78.9409 195.256,-85.8344\"/>\n",
       "</g>\n",
       "<!-- D3666026ED85F082B62B1142AA6B77DD -->\n",
       "<g id=\"node3\" class=\"node\"><title>D3666026ED85F082B62B1142AA6B77DD</title>\n",
       "<path fill=\"#dedede\" stroke=\"#dedede\" d=\"M364,-54C364,-54 218,-54 218,-54 212,-54 206,-48 206,-42 206,-42 206,-12 206,-12 206,-6 212,-0 218,-0 218,-0 364,-0 364,-0 370,-0 376,-6 376,-12 376,-12 376,-42 376,-42 376,-48 370,-54 364,-54\"/>\n",
       "<text text-anchor=\"start\" x=\"232\" y=\"-37.7\" font-family=\"Helvetica,Arial,sans-serif\" font-size=\"11.00\">generate_synthetic_data</text>\n",
       "<text text-anchor=\"start\" x=\"267.5\" y=\"-23.4\" font-family=\"Helvetica,Arial,sans-serif\" font-size=\"7.00\">Transformation</text>\n",
       "<text text-anchor=\"start\" x=\"218.5\" y=\"-10.4\" font-family=\"Courier New\" font-size=\"7.00\">D3666026ED85F082B62B1142AA6B77DD</text>\n",
       "</g>\n",
       "<!-- 22F0AE1826B035E226A1C6A41C07C299&#45;&gt;D3666026ED85F082B62B1142AA6B77DD -->\n",
       "<g id=\"edge2\" class=\"edge\"><title>22F0AE1826B035E226A1C6A41C07C299&#45;&gt;D3666026ED85F082B62B1142AA6B77DD</title>\n",
       "<path fill=\"none\" stroke=\"black\" d=\"M170.152,-48.1496C178.593,-46.66 187.202,-45.1408 195.739,-43.6344\"/>\n",
       "<polygon fill=\"black\" stroke=\"black\" points=\"196.472,-47.0591 205.712,-41.8744 195.256,-40.1656 196.472,-47.0591\"/>\n",
       "</g>\n",
       "<!-- 4DFC763EE0C63298E9BA88C30E9C582C -->\n",
       "<g id=\"node4\" class=\"node\"><title>4DFC763EE0C63298E9BA88C30E9C582C</title>\n",
       "<path fill=\"#dedede\" stroke=\"#dedede\" d=\"M570,-90C570,-90 424,-90 424,-90 418,-90 412,-84 412,-78 412,-78 412,-48 412,-48 412,-42 418,-36 424,-36 424,-36 570,-36 570,-36 576,-36 582,-42 582,-48 582,-48 582,-78 582,-78 582,-84 576,-90 570,-90\"/>\n",
       "<text text-anchor=\"start\" x=\"425.5\" y=\"-73.7\" font-family=\"Helvetica,Arial,sans-serif\" font-size=\"11.00\">synthetic_data_feature_group</text>\n",
       "<text text-anchor=\"start\" x=\"474\" y=\"-59.4\" font-family=\"Helvetica,Arial,sans-serif\" font-size=\"7.00\">Feature Group</text>\n",
       "<text text-anchor=\"start\" x=\"424.5\" y=\"-46.4\" font-family=\"Courier New\" font-size=\"7.00\">4DFC763EE0C63298E9BA88C30E9C582C</text>\n",
       "</g>\n",
       "<!-- 8B1A0CCD3AEA4A63A52907E90A4D0F3F&#45;&gt;4DFC763EE0C63298E9BA88C30E9C582C -->\n",
       "<g id=\"edge3\" class=\"edge\"><title>8B1A0CCD3AEA4A63A52907E90A4D0F3F&#45;&gt;4DFC763EE0C63298E9BA88C30E9C582C</title>\n",
       "<path fill=\"none\" stroke=\"black\" d=\"M376.152,-84.1496C384.593,-82.66 393.202,-81.1408 401.739,-79.6344\"/>\n",
       "<polygon fill=\"black\" stroke=\"black\" points=\"402.472,-83.0591 411.712,-77.8744 401.256,-76.1656 402.472,-83.0591\"/>\n",
       "</g>\n",
       "<!-- D3666026ED85F082B62B1142AA6B77DD&#45;&gt;4DFC763EE0C63298E9BA88C30E9C582C -->\n",
       "<g id=\"edge4\" class=\"edge\"><title>D3666026ED85F082B62B1142AA6B77DD&#45;&gt;4DFC763EE0C63298E9BA88C30E9C582C</title>\n",
       "<path fill=\"none\" stroke=\"black\" d=\"M376.152,-41.8504C384.593,-43.34 393.202,-44.8592 401.739,-46.3656\"/>\n",
       "<polygon fill=\"black\" stroke=\"black\" points=\"401.256,-49.8344 411.712,-48.1256 402.472,-42.9409 401.256,-49.8344\"/>\n",
       "</g>\n",
       "</g>\n",
       "</svg>\n"
      ],
      "text/plain": [
       "<graphviz.dot.Digraph at 0x7f9c0fb1b820>"
      ]
     },
     "metadata": {},
     "output_type": "display_data"
    }
   ],
   "source": [
    "synthetic_data_embedding_feature_group.show()"
   ]
  },
  {
   "cell_type": "code",
   "execution_count": 17,
   "id": "0f68179c",
   "metadata": {},
   "outputs": [
    {
     "name": "stderr",
     "output_type": "stream",
     "text": [
      "Hive Session ID = 29f04188-c119-4093-b6e1-6f89d2f5be11\n"
     ]
    },
    {
     "name": "stdout",
     "output_type": "stream",
     "text": [
      "INFO:great_expectations.validator.validator:\t3 expectation(s) included in expectation_suite.\n"
     ]
    },
    {
     "data": {
      "application/vnd.jupyter.widget-view+json": {
       "model_id": "9a53dee100d343b8b830fc7cab4f0c93",
       "version_major": 2,
       "version_minor": 0
      },
      "text/plain": [
       "Calculating Metrics:   0%|          | 0/12 [00:00<?, ?it/s]"
      ]
     },
     "metadata": {},
     "output_type": "display_data"
    },
    {
     "name": "stdout",
     "output_type": "stream",
     "text": [
      "INFO:ads.feature_store.common.utils.utility:Validation Summary \n",
      "╒════════════════════╤══════════════════════════╤═══════════════════════════╤═════════════════════════════╤═══════════════════╤═══════════════════════╕\n",
      "│  expectation_type  │  evaluated_expectations  │  successful_expectations  │  unsuccessful_expectations  │  success_percent  │   ingestion_status    │\n",
      "╞════════════════════╪══════════════════════════╪═══════════════════════════╪═════════════════════════════╪═══════════════════╪═══════════════════════╡\n",
      "│       STRICT       │            3             │             3             │              0              │        100        │ Ingestion in progress │\n",
      "╘════════════════════╧══════════════════════════╧═══════════════════════════╧═════════════════════════════╧═══════════════════╧═══════════════════════╛\n",
      "INFO:ads.feature_store.common.utils.utility:Validations Rules Summary \n",
      "╒═════════════════════════════════════╤══════════════════════════════╤══════════╕\n",
      "│              rule_type              │          arguments           │  status  │\n",
      "╞═════════════════════════════════════╪══════════════════════════════╪══════════╡\n",
      "│ expect_column_values_to_not_be_null │   {'column': 'patient_id'}   │   True   │\n",
      "├─────────────────────────────────────┼──────────────────────────────┼──────────┤\n",
      "│ expect_column_values_to_not_be_null │  {'column': 'patient_name'}  │   True   │\n",
      "├─────────────────────────────────────┼──────────────────────────────┼──────────┤\n",
      "│ expect_column_values_to_not_be_null │ {'column': 'diagnosis_code'} │   True   │\n",
      "╘═════════════════════════════════════╧══════════════════════════════╧══════════╛\n",
      "INFO:httpx:HTTP Request: POST https://api.openai.com/v1/chat/completions \"HTTP/1.1 200 OK\"\n",
      "WARNING:py.warnings:/home/datascience/conda/fspyspark32_p38_cpu_v2/lib/python3.8/site-packages/pyspark/sql/pandas/utils.py:35: DeprecationWarning: distutils Version classes are deprecated. Use packaging.version instead.\n",
      "  if LooseVersion(pandas.__version__) < LooseVersion(minimum_pandas_version):\n",
      "\n",
      "WARNING:py.warnings:/home/datascience/conda/fspyspark32_p38_cpu_v2/lib/python3.8/site-packages/pyspark/sql/pandas/utils.py:57: DeprecationWarning: distutils Version classes are deprecated. Use packaging.version instead.\n",
      "  if LooseVersion(pyarrow.__version__) < LooseVersion(minimum_pyarrow_version):\n",
      "\n"
     ]
    },
    {
     "name": "stderr",
     "output_type": "stream",
     "text": [
      "                                                                                \r"
     ]
    },
    {
     "name": "stdout",
     "output_type": "stream",
     "text": [
      "INFO:mlm_insights.builder:validating required components\n",
      "INFO:mlm_insights.builder:required components validated\n",
      "INFO:mlm_insights.builder.usage:Activating Minimal Insights Usage\n",
      "INFO:mlm_insights.builder:Generating Runner object\n",
      "INFO:mlm_insights.builder:Generating workflow request\n",
      "INFO:mlm_insights.workflow:Fetching engine object\n",
      "INFO:mlm_insights.workflow:Returning native engine object\n",
      "INFO:mlm_insights.builder:Running Fugue Workflow\n",
      "INFO:mlm_insights.workflow:Executing Fugue Workflow\n"
     ]
    },
    {
     "name": "stderr",
     "output_type": "stream",
     "text": [
      "[Stage 8:>                                                          (0 + 1) / 1]\r"
     ]
    },
    {
     "name": "stdout",
     "output_type": "stream",
     "text": [
      "INFO:mlm_insights.core.sfcs:creating sfc from {'c5144335a509689fc50d13d03eebc9b1': FrequentItemsSFC(sketch=<_datasketches.frequent_strings_sketch object at 0x7f9c0d320470>), 'c19e3960aa08a392d20aaa5da607d9ea': DescriptiveStatisticsSFC(total_count=1.0, mean=123456.0, minimum=123456.0, maximum=123456.0, central_moments=[1.0, 0.0, 0.0, 0.0, 0.0]), '4cd1d3704778a196571a6c83581854cc': DistinctCountSFC(sketch=<_datasketches.hll_sketch object at 0x7f9c0c1eba30>), '6e3ac490990d92bca69c828fe3aff8ad': QuantilesSFC(kll_sketch=<_datasketches.kll_doubles_sketch object at 0x7f9c0c1eb970>)} sfc map\n",
      "INFO:mlm_insights.core.sfcs:creating sfc from {'c5144335a509689fc50d13d03eebc9b1': FrequentItemsSFC(sketch=<_datasketches.frequent_strings_sketch object at 0x7f9c0cefc1b0>), '4cd1d3704778a196571a6c83581854cc': DistinctCountSFC(sketch=<_datasketches.hll_sketch object at 0x7f9c0cefb7f0>)} sfc map\n",
      "INFO:mlm_insights.core.sfcs:creating sfc from {'c5144335a509689fc50d13d03eebc9b1': FrequentItemsSFC(sketch=<_datasketches.frequent_strings_sketch object at 0x7f9c0c1ebc70>), '4cd1d3704778a196571a6c83581854cc': DistinctCountSFC(sketch=<_datasketches.hll_sketch object at 0x7f9c0c1ebcf0>)} sfc map\n",
      "INFO:mlm_insights.core.sfcs:creating sfc from {'c5144335a509689fc50d13d03eebc9b1': FrequentItemsSFC(sketch=<_datasketches.frequent_strings_sketch object at 0x7f9c0c1ebd30>), '4cd1d3704778a196571a6c83581854cc': DistinctCountSFC(sketch=<_datasketches.hll_sketch object at 0x7f9c0c1f21b0>)} sfc map\n",
      "INFO:mlm_insights.core.sfcs:creating sfc from {'c5144335a509689fc50d13d03eebc9b1': FrequentItemsSFC(sketch=<_datasketches.frequent_strings_sketch object at 0x7f9c0c1f20f0>), 'c19e3960aa08a392d20aaa5da607d9ea': DescriptiveStatisticsSFC(total_count=1.0, mean=250.0, minimum=250.0, maximum=250.0, central_moments=[1.0, 0.0, 0.0, 0.0, 0.0]), '4cd1d3704778a196571a6c83581854cc': DistinctCountSFC(sketch=<_datasketches.hll_sketch object at 0x7f9c0c1f2870>), '6e3ac490990d92bca69c828fe3aff8ad': QuantilesSFC(kll_sketch=<_datasketches.kll_doubles_sketch object at 0x7f9c0c1f28b0>)} sfc map\n",
      "INFO:mlm_insights.core.sfcs:creating sfc from {'c5144335a509689fc50d13d03eebc9b1': FrequentItemsSFC(sketch=<_datasketches.frequent_strings_sketch object at 0x7f9c0c1f2570>), 'c19e3960aa08a392d20aaa5da607d9ea': DescriptiveStatisticsSFC(total_count=1.0, mean=200.0, minimum=200.0, maximum=200.0, central_moments=[1.0, 0.0, 0.0, 0.0, 0.0]), '4cd1d3704778a196571a6c83581854cc': DistinctCountSFC(sketch=<_datasketches.hll_sketch object at 0x7f9c0c1f2df0>), '6e3ac490990d92bca69c828fe3aff8ad': QuantilesSFC(kll_sketch=<_datasketches.kll_doubles_sketch object at 0x7f9c0c1f2e30>)} sfc map\n",
      "INFO:mlm_insights.core.sdcs:creating sdc from {} sdc map\n",
      "INFO:mlm_insights.builder:Profile Generated Successfully\n",
      "INFO:mlm_insights.core.sfcs:getting SFCMetaData(klass=<class 'mlm_insights.core.sfcs.descriptive_statistics_sfc.DescriptiveStatisticsSFC'>, config={}) sfc from sfc meta data\n",
      "INFO:mlm_insights.core.metrics:Calculated Skewness metric, value: None\n",
      "INFO:mlm_insights.core.sfcs:getting SFCMetaData(klass=<class 'mlm_insights.core.sfcs.descriptive_statistics_sfc.DescriptiveStatisticsSFC'>, config={}) sfc from sfc meta data\n",
      "INFO:mlm_insights.core.sfcs:getting SFCMetaData(klass=<class 'mlm_insights.core.sfcs.descriptive_statistics_sfc.DescriptiveStatisticsSFC'>, config={}) sfc from sfc meta data\n",
      "INFO:mlm_insights.core.metrics:Creating StandardDeviation metric, value: 0.0\n",
      "INFO:mlm_insights.core.sfcs:getting SFCMetaData(klass=<class 'mlm_insights.core.sfcs.descriptive_statistics_sfc.DescriptiveStatisticsSFC'>, config={}) sfc from sfc meta data\n",
      "INFO:mlm_insights.core.sfcs:getting SFCMetaData(klass=<class 'mlm_insights.core.sfcs.descriptive_statistics_sfc.DescriptiveStatisticsSFC'>, config={}) sfc from sfc meta data\n",
      "INFO:mlm_insights.core.metrics:Calculated Min metric, value: 123456.0\n",
      "INFO:mlm_insights.core.sfcs:getting SFCMetaData(klass=<class 'mlm_insights.core.sfcs.descriptive_statistics_sfc.DescriptiveStatisticsSFC'>, config={}) sfc from sfc meta data\n",
      "INFO:mlm_insights.core.sfcs:getting SFCMetaData(klass=<class 'mlm_insights.core.sfcs.frequent_items_sfc.FrequentItemsSFC'>, config={}) sfc from sfc meta data\n",
      "INFO:mlm_insights.core.sfcs:Getting top 2 frequent items\n",
      "INFO:mlm_insights.core.sfcs:Getting list of all frequent items\n",
      "INFO:mlm_insights.core.metrics:Calculated IsConstantFeature metric, value: True\n",
      "INFO:mlm_insights.core.sfcs:getting SFCMetaData(klass=<class 'mlm_insights.core.sfcs.quantiles_sfc.QuantilesSFC'>, config={}) sfc from sfc meta data\n",
      "INFO:mlm_insights.core.sfcs:getting quantiles from sketch for rank 0.75\n",
      "INFO:mlm_insights.core.sfcs:getting quantiles from sketch for rank 0.25\n",
      "INFO:mlm_insights.core.metrics:Calculated IQR metric, value: 0.0\n",
      "INFO:mlm_insights.core.sfcs:getting quantiles from sketch for rank 0.75\n",
      "INFO:mlm_insights.core.sfcs:getting quantiles from sketch for rank 0.25\n",
      "INFO:mlm_insights.core.sfcs:getting SFCMetaData(klass=<class 'mlm_insights.core.sfcs.descriptive_statistics_sfc.DescriptiveStatisticsSFC'>, config={}) sfc from sfc meta data\n",
      "INFO:mlm_insights.core.metrics:Calculated Range metric, value: 0.0\n",
      "INFO:mlm_insights.core.sfcs:getting SFCMetaData(klass=<class 'mlm_insights.core.sfcs.quantiles_sfc.QuantilesSFC'>, config={}) sfc from sfc meta data\n",
      "INFO:mlm_insights.core.metrics:Calculated ProbabilityDistribution metric, value: {'bins': [123456.0], 'density': [1.0]}\n",
      "INFO:mlm_insights.core.sfcs:getting SFCMetaData(klass=<class 'mlm_insights.core.sfcs.descriptive_statistics_sfc.DescriptiveStatisticsSFC'>, config={}) sfc from sfc meta data\n",
      "INFO:mlm_insights.core.metrics:Calculated Variance metric, value: 0.0\n",
      "INFO:mlm_insights.core.sfcs:getting SFCMetaData(klass=<class 'mlm_insights.core.sfcs.descriptive_statistics_sfc.DescriptiveStatisticsSFC'>, config={}) sfc from sfc meta data\n",
      "INFO:mlm_insights.core.metrics:Calculated TypeMetric metric, value: {'string_type_count': 0, 'integral_type_count': 1, 'fractional_type_count': 0, 'boolean_type_count': 0}\n",
      "INFO:mlm_insights.core.sfcs:getting SFCMetaData(klass=<class 'mlm_insights.core.sfcs.quantiles_sfc.QuantilesSFC'>, config={}) sfc from sfc meta data\n",
      "INFO:mlm_insights.core.metrics:Calculated FrequencyDistribution metric, value: {'bins': [123456.0], 'frequency': [1]}\n",
      "INFO:mlm_insights.core.metrics:Calculated Count metric, value: {'total_count': 1.0, 'missing_count': 0.0, 'missing_count_percentage': 0.0}\n",
      "INFO:mlm_insights.core.sfcs:getting SFCMetaData(klass=<class 'mlm_insights.core.sfcs.descriptive_statistics_sfc.DescriptiveStatisticsSFC'>, config={}) sfc from sfc meta data\n",
      "INFO:mlm_insights.core.metrics:Calculated Max metric, value: 123456.0\n",
      "INFO:mlm_insights.core.sfcs:getting SFCMetaData(klass=<class 'mlm_insights.core.sfcs.descriptive_statistics_sfc.DescriptiveStatisticsSFC'>, config={}) sfc from sfc meta data\n",
      "INFO:mlm_insights.core.sfcs:getting SFCMetaData(klass=<class 'mlm_insights.core.sfcs.distinct_count_sfc.DistinctCountSFC'>, config={}) sfc from sfc meta data\n",
      "INFO:mlm_insights.core.sfcs:getting SFCMetaData(klass=<class 'mlm_insights.core.sfcs.frequent_items_sfc.FrequentItemsSFC'>, config={}) sfc from sfc meta data\n",
      "INFO:mlm_insights.core.sfcs:Getting total count of input data\n",
      "INFO:mlm_insights.core.sfcs:Calculated cardinality = 1.0 in Distinct count SFC, upper bound = 1.000049929250618, lower bound = 1.0\n",
      "INFO:mlm_insights.core.metrics:Calculated DistinctCount metric, value: 1.0\n",
      "INFO:mlm_insights.core.metrics:Calculated Sum metric, value: 123456.0\n",
      "INFO:mlm_insights.core.sfcs:getting SFCMetaData(klass=<class 'mlm_insights.core.sfcs.frequent_items_sfc.FrequentItemsSFC'>, config={}) sfc from sfc meta data\n",
      "INFO:mlm_insights.core.sfcs:Getting list of all frequent items\n",
      "INFO:mlm_insights.core.metrics:Calculated IsQuasiConstantFeature metric, value: True\n",
      "INFO:mlm_insights.core.sfcs:getting SFCMetaData(klass=<class 'mlm_insights.core.sfcs.quantiles_sfc.QuantilesSFC'>, config={}) sfc from sfc meta data\n",
      "INFO:mlm_insights.core.sfcs:getting quantiles from sketch for rank 0.25\n",
      "INFO:mlm_insights.core.sfcs:getting quantiles from sketch for rank 0.5\n",
      "INFO:mlm_insights.core.sfcs:getting quantiles from sketch for rank 0.75\n",
      "INFO:mlm_insights.core.metrics:Calculated Quartiles metric, value: {'q1': 123456.0, 'q2': 123456.0, 'q3': 123456.0}\n",
      "INFO:mlm_insights.core.sfcs:getting SFCMetaData(klass=<class 'mlm_insights.core.sfcs.descriptive_statistics_sfc.DescriptiveStatisticsSFC'>, config={}) sfc from sfc meta data\n",
      "INFO:mlm_insights.core.metrics:Calculated Mean metric, value: 123456.0\n",
      "INFO:mlm_insights.core.sfcs:getting SFCMetaData(klass=<class 'mlm_insights.core.sfcs.descriptive_statistics_sfc.DescriptiveStatisticsSFC'>, config={}) sfc from sfc meta data\n",
      "INFO:mlm_insights.core.sfcs:getting SFCMetaData(klass=<class 'mlm_insights.core.sfcs.descriptive_statistics_sfc.DescriptiveStatisticsSFC'>, config={}) sfc from sfc meta data\n",
      "INFO:mlm_insights.core.metrics:Calculated Kurtosis metric, value: None\n",
      "INFO:mlm_insights.core.sfcs:getting SFCMetaData(klass=<class 'mlm_insights.core.sfcs.descriptive_statistics_sfc.DescriptiveStatisticsSFC'>, config={}) sfc from sfc meta data\n",
      "INFO:mlm_insights.core.metrics:Calculated Count metric, value: {'total_count': 1.0, 'missing_count': 0.0, 'missing_count_percentage': 0.0}\n",
      "INFO:mlm_insights.core.sfcs:getting SFCMetaData(klass=<class 'mlm_insights.core.sfcs.frequent_items_sfc.FrequentItemsSFC'>, config={}) sfc from sfc meta data\n",
      "INFO:mlm_insights.core.sfcs:Getting top 10 frequent items\n",
      "INFO:mlm_insights.core.sfcs:Getting list of all frequent items\n",
      "INFO:mlm_insights.core.metrics:Calculated TopKFrequentElements metric, value: [FrequentItemEstimate(value='Jane Smith', estimate=1, lower_bound=1, upper_bound=1)]\n",
      "INFO:mlm_insights.core.sfcs:getting SFCMetaData(klass=<class 'mlm_insights.core.sfcs.frequent_items_sfc.FrequentItemsSFC'>, config={}) sfc from sfc meta data\n",
      "INFO:mlm_insights.core.sfcs:Getting top 10 frequent items\n",
      "INFO:mlm_insights.core.sfcs:Getting list of all frequent items\n",
      "INFO:mlm_insights.core.metrics:Calculated TypeMetric metric, value: {'string_type_count': 1, 'integral_type_count': 0, 'fractional_type_count': 0, 'boolean_type_count': 0}\n",
      "INFO:mlm_insights.core.sfcs:getting SFCMetaData(klass=<class 'mlm_insights.core.sfcs.distinct_count_sfc.DistinctCountSFC'>, config={}) sfc from sfc meta data\n",
      "INFO:mlm_insights.core.sfcs:getting SFCMetaData(klass=<class 'mlm_insights.core.sfcs.frequent_items_sfc.FrequentItemsSFC'>, config={}) sfc from sfc meta data\n",
      "INFO:mlm_insights.core.sfcs:Calculated cardinality = 1.0 in Distinct count SFC, upper bound = 1.000049929250618, lower bound = 1.0\n",
      "INFO:mlm_insights.core.sfcs:Getting total count of input data\n",
      "INFO:mlm_insights.core.metrics:Calculated DuplicateCount metric, value: {'count': 0, 'percentage': 0.0}\n",
      "INFO:mlm_insights.core.sfcs:getting SFCMetaData(klass=<class 'mlm_insights.core.sfcs.frequent_items_sfc.FrequentItemsSFC'>, config={}) sfc from sfc meta data\n",
      "INFO:mlm_insights.core.sfcs:Getting top 2 frequent items\n",
      "INFO:mlm_insights.core.sfcs:Getting list of all frequent items\n",
      "INFO:mlm_insights.core.metrics:Calculated Mode metric, value: ['Jane Smith']\n",
      "INFO:mlm_insights.core.sfcs:getting SFCMetaData(klass=<class 'mlm_insights.core.sfcs.distinct_count_sfc.DistinctCountSFC'>, config={}) sfc from sfc meta data\n",
      "INFO:mlm_insights.core.sfcs:getting SFCMetaData(klass=<class 'mlm_insights.core.sfcs.frequent_items_sfc.FrequentItemsSFC'>, config={}) sfc from sfc meta data\n",
      "INFO:mlm_insights.core.sfcs:Getting total count of input data\n",
      "INFO:mlm_insights.core.sfcs:Calculated cardinality = 1.0 in Distinct count SFC, upper bound = 1.000049929250618, lower bound = 1.0\n",
      "INFO:mlm_insights.core.metrics:Calculated DistinctCount metric, value: 1.0\n",
      "INFO:mlm_insights.core.metrics:Calculated Count metric, value: {'total_count': 1.0, 'missing_count': 0.0, 'missing_count_percentage': 0.0}\n",
      "INFO:mlm_insights.core.sfcs:getting SFCMetaData(klass=<class 'mlm_insights.core.sfcs.frequent_items_sfc.FrequentItemsSFC'>, config={}) sfc from sfc meta data\n",
      "INFO:mlm_insights.core.sfcs:Getting top 10 frequent items\n",
      "INFO:mlm_insights.core.sfcs:Getting list of all frequent items\n",
      "INFO:mlm_insights.core.metrics:Calculated TopKFrequentElements metric, value: [FrequentItemEstimate(value='D50.0', estimate=1, lower_bound=1, upper_bound=1)]\n",
      "INFO:mlm_insights.core.sfcs:getting SFCMetaData(klass=<class 'mlm_insights.core.sfcs.frequent_items_sfc.FrequentItemsSFC'>, config={}) sfc from sfc meta data\n",
      "INFO:mlm_insights.core.sfcs:Getting top 10 frequent items\n",
      "INFO:mlm_insights.core.sfcs:Getting list of all frequent items\n",
      "INFO:mlm_insights.core.metrics:Calculated TypeMetric metric, value: {'string_type_count': 1, 'integral_type_count': 0, 'fractional_type_count': 0, 'boolean_type_count': 0}\n",
      "INFO:mlm_insights.core.sfcs:getting SFCMetaData(klass=<class 'mlm_insights.core.sfcs.distinct_count_sfc.DistinctCountSFC'>, config={}) sfc from sfc meta data\n",
      "INFO:mlm_insights.core.sfcs:getting SFCMetaData(klass=<class 'mlm_insights.core.sfcs.frequent_items_sfc.FrequentItemsSFC'>, config={}) sfc from sfc meta data\n",
      "INFO:mlm_insights.core.sfcs:Calculated cardinality = 1.0 in Distinct count SFC, upper bound = 1.000049929250618, lower bound = 1.0\n",
      "INFO:mlm_insights.core.sfcs:Getting total count of input data\n",
      "INFO:mlm_insights.core.metrics:Calculated DuplicateCount metric, value: {'count': 0, 'percentage': 0.0}\n",
      "INFO:mlm_insights.core.sfcs:getting SFCMetaData(klass=<class 'mlm_insights.core.sfcs.frequent_items_sfc.FrequentItemsSFC'>, config={}) sfc from sfc meta data\n",
      "INFO:mlm_insights.core.sfcs:Getting top 2 frequent items\n",
      "INFO:mlm_insights.core.sfcs:Getting list of all frequent items\n",
      "INFO:mlm_insights.core.metrics:Calculated Mode metric, value: ['D50.0']\n",
      "INFO:mlm_insights.core.sfcs:getting SFCMetaData(klass=<class 'mlm_insights.core.sfcs.distinct_count_sfc.DistinctCountSFC'>, config={}) sfc from sfc meta data\n",
      "INFO:mlm_insights.core.sfcs:getting SFCMetaData(klass=<class 'mlm_insights.core.sfcs.frequent_items_sfc.FrequentItemsSFC'>, config={}) sfc from sfc meta data\n",
      "INFO:mlm_insights.core.sfcs:Getting total count of input data\n",
      "INFO:mlm_insights.core.sfcs:Calculated cardinality = 1.0 in Distinct count SFC, upper bound = 1.000049929250618, lower bound = 1.0\n",
      "INFO:mlm_insights.core.metrics:Calculated DistinctCount metric, value: 1.0\n",
      "INFO:mlm_insights.core.metrics:Calculated Count metric, value: {'total_count': 1.0, 'missing_count': 0.0, 'missing_count_percentage': 0.0}\n",
      "INFO:mlm_insights.core.sfcs:getting SFCMetaData(klass=<class 'mlm_insights.core.sfcs.frequent_items_sfc.FrequentItemsSFC'>, config={}) sfc from sfc meta data\n",
      "INFO:mlm_insights.core.sfcs:Getting top 10 frequent items\n",
      "INFO:mlm_insights.core.sfcs:Getting list of all frequent items\n",
      "INFO:mlm_insights.core.metrics:Calculated TopKFrequentElements metric, value: [FrequentItemEstimate(value='99204', estimate=1, lower_bound=1, upper_bound=1)]\n",
      "INFO:mlm_insights.core.sfcs:getting SFCMetaData(klass=<class 'mlm_insights.core.sfcs.frequent_items_sfc.FrequentItemsSFC'>, config={}) sfc from sfc meta data\n",
      "INFO:mlm_insights.core.sfcs:Getting top 10 frequent items\n",
      "INFO:mlm_insights.core.sfcs:Getting list of all frequent items\n",
      "INFO:mlm_insights.core.metrics:Calculated TypeMetric metric, value: {'string_type_count': 1, 'integral_type_count': 0, 'fractional_type_count': 0, 'boolean_type_count': 0}\n",
      "INFO:mlm_insights.core.sfcs:getting SFCMetaData(klass=<class 'mlm_insights.core.sfcs.distinct_count_sfc.DistinctCountSFC'>, config={}) sfc from sfc meta data\n",
      "INFO:mlm_insights.core.sfcs:getting SFCMetaData(klass=<class 'mlm_insights.core.sfcs.frequent_items_sfc.FrequentItemsSFC'>, config={}) sfc from sfc meta data\n",
      "INFO:mlm_insights.core.sfcs:Calculated cardinality = 1.0 in Distinct count SFC, upper bound = 1.000049929250618, lower bound = 1.0\n",
      "INFO:mlm_insights.core.sfcs:Getting total count of input data\n",
      "INFO:mlm_insights.core.metrics:Calculated DuplicateCount metric, value: {'count': 0, 'percentage': 0.0}\n",
      "INFO:mlm_insights.core.sfcs:getting SFCMetaData(klass=<class 'mlm_insights.core.sfcs.frequent_items_sfc.FrequentItemsSFC'>, config={}) sfc from sfc meta data\n",
      "INFO:mlm_insights.core.sfcs:Getting top 2 frequent items\n",
      "INFO:mlm_insights.core.sfcs:Getting list of all frequent items\n",
      "INFO:mlm_insights.core.metrics:Calculated Mode metric, value: ['99204']\n",
      "INFO:mlm_insights.core.sfcs:getting SFCMetaData(klass=<class 'mlm_insights.core.sfcs.distinct_count_sfc.DistinctCountSFC'>, config={}) sfc from sfc meta data\n",
      "INFO:mlm_insights.core.sfcs:getting SFCMetaData(klass=<class 'mlm_insights.core.sfcs.frequent_items_sfc.FrequentItemsSFC'>, config={}) sfc from sfc meta data\n",
      "INFO:mlm_insights.core.sfcs:Getting total count of input data\n",
      "INFO:mlm_insights.core.sfcs:Calculated cardinality = 1.0 in Distinct count SFC, upper bound = 1.000049929250618, lower bound = 1.0\n",
      "INFO:mlm_insights.core.metrics:Calculated DistinctCount metric, value: 1.0\n",
      "INFO:mlm_insights.core.sfcs:getting SFCMetaData(klass=<class 'mlm_insights.core.sfcs.descriptive_statistics_sfc.DescriptiveStatisticsSFC'>, config={}) sfc from sfc meta data\n",
      "INFO:mlm_insights.core.metrics:Calculated Skewness metric, value: None\n",
      "INFO:mlm_insights.core.sfcs:getting SFCMetaData(klass=<class 'mlm_insights.core.sfcs.descriptive_statistics_sfc.DescriptiveStatisticsSFC'>, config={}) sfc from sfc meta data\n",
      "INFO:mlm_insights.core.sfcs:getting SFCMetaData(klass=<class 'mlm_insights.core.sfcs.descriptive_statistics_sfc.DescriptiveStatisticsSFC'>, config={}) sfc from sfc meta data\n",
      "INFO:mlm_insights.core.metrics:Creating StandardDeviation metric, value: 0.0\n",
      "INFO:mlm_insights.core.sfcs:getting SFCMetaData(klass=<class 'mlm_insights.core.sfcs.descriptive_statistics_sfc.DescriptiveStatisticsSFC'>, config={}) sfc from sfc meta data\n",
      "INFO:mlm_insights.core.sfcs:getting SFCMetaData(klass=<class 'mlm_insights.core.sfcs.descriptive_statistics_sfc.DescriptiveStatisticsSFC'>, config={}) sfc from sfc meta data\n",
      "INFO:mlm_insights.core.metrics:Calculated Min metric, value: 250.0\n",
      "INFO:mlm_insights.core.sfcs:getting SFCMetaData(klass=<class 'mlm_insights.core.sfcs.descriptive_statistics_sfc.DescriptiveStatisticsSFC'>, config={}) sfc from sfc meta data\n",
      "INFO:mlm_insights.core.sfcs:getting SFCMetaData(klass=<class 'mlm_insights.core.sfcs.frequent_items_sfc.FrequentItemsSFC'>, config={}) sfc from sfc meta data\n",
      "INFO:mlm_insights.core.sfcs:Getting top 2 frequent items\n",
      "INFO:mlm_insights.core.sfcs:Getting list of all frequent items\n",
      "INFO:mlm_insights.core.metrics:Calculated IsConstantFeature metric, value: True\n",
      "INFO:mlm_insights.core.sfcs:getting SFCMetaData(klass=<class 'mlm_insights.core.sfcs.quantiles_sfc.QuantilesSFC'>, config={}) sfc from sfc meta data\n",
      "INFO:mlm_insights.core.sfcs:getting quantiles from sketch for rank 0.75\n",
      "INFO:mlm_insights.core.sfcs:getting quantiles from sketch for rank 0.25\n",
      "INFO:mlm_insights.core.metrics:Calculated IQR metric, value: 0.0\n",
      "INFO:mlm_insights.core.sfcs:getting quantiles from sketch for rank 0.75\n",
      "INFO:mlm_insights.core.sfcs:getting quantiles from sketch for rank 0.25\n",
      "INFO:mlm_insights.core.sfcs:getting SFCMetaData(klass=<class 'mlm_insights.core.sfcs.descriptive_statistics_sfc.DescriptiveStatisticsSFC'>, config={}) sfc from sfc meta data\n",
      "INFO:mlm_insights.core.metrics:Calculated Range metric, value: 0.0\n",
      "INFO:mlm_insights.core.sfcs:getting SFCMetaData(klass=<class 'mlm_insights.core.sfcs.quantiles_sfc.QuantilesSFC'>, config={}) sfc from sfc meta data\n",
      "INFO:mlm_insights.core.metrics:Calculated ProbabilityDistribution metric, value: {'bins': [250.0], 'density': [1.0]}\n",
      "INFO:mlm_insights.core.sfcs:getting SFCMetaData(klass=<class 'mlm_insights.core.sfcs.descriptive_statistics_sfc.DescriptiveStatisticsSFC'>, config={}) sfc from sfc meta data\n",
      "INFO:mlm_insights.core.metrics:Calculated Variance metric, value: 0.0\n",
      "INFO:mlm_insights.core.sfcs:getting SFCMetaData(klass=<class 'mlm_insights.core.sfcs.descriptive_statistics_sfc.DescriptiveStatisticsSFC'>, config={}) sfc from sfc meta data\n",
      "INFO:mlm_insights.core.metrics:Calculated TypeMetric metric, value: {'string_type_count': 0, 'integral_type_count': 0, 'fractional_type_count': 1, 'boolean_type_count': 0}\n",
      "INFO:mlm_insights.core.sfcs:getting SFCMetaData(klass=<class 'mlm_insights.core.sfcs.quantiles_sfc.QuantilesSFC'>, config={}) sfc from sfc meta data\n",
      "INFO:mlm_insights.core.metrics:Calculated FrequencyDistribution metric, value: {'bins': [250.0], 'frequency': [1]}\n",
      "INFO:mlm_insights.core.metrics:Calculated Count metric, value: {'total_count': 1.0, 'missing_count': 0.0, 'missing_count_percentage': 0.0}\n",
      "INFO:mlm_insights.core.sfcs:getting SFCMetaData(klass=<class 'mlm_insights.core.sfcs.descriptive_statistics_sfc.DescriptiveStatisticsSFC'>, config={}) sfc from sfc meta data\n",
      "INFO:mlm_insights.core.metrics:Calculated Max metric, value: 250.0\n",
      "INFO:mlm_insights.core.sfcs:getting SFCMetaData(klass=<class 'mlm_insights.core.sfcs.descriptive_statistics_sfc.DescriptiveStatisticsSFC'>, config={}) sfc from sfc meta data\n",
      "INFO:mlm_insights.core.sfcs:getting SFCMetaData(klass=<class 'mlm_insights.core.sfcs.distinct_count_sfc.DistinctCountSFC'>, config={}) sfc from sfc meta data\n",
      "INFO:mlm_insights.core.sfcs:getting SFCMetaData(klass=<class 'mlm_insights.core.sfcs.frequent_items_sfc.FrequentItemsSFC'>, config={}) sfc from sfc meta data\n",
      "INFO:mlm_insights.core.sfcs:Getting total count of input data\n",
      "INFO:mlm_insights.core.sfcs:Calculated cardinality = 1.0 in Distinct count SFC, upper bound = 1.000049929250618, lower bound = 1.0\n",
      "INFO:mlm_insights.core.metrics:Calculated DistinctCount metric, value: 1.0\n",
      "INFO:mlm_insights.core.metrics:Calculated Sum metric, value: 250.0\n",
      "INFO:mlm_insights.core.sfcs:getting SFCMetaData(klass=<class 'mlm_insights.core.sfcs.frequent_items_sfc.FrequentItemsSFC'>, config={}) sfc from sfc meta data\n",
      "INFO:mlm_insights.core.sfcs:Getting list of all frequent items\n",
      "INFO:mlm_insights.core.metrics:Calculated IsQuasiConstantFeature metric, value: True\n",
      "INFO:mlm_insights.core.sfcs:getting SFCMetaData(klass=<class 'mlm_insights.core.sfcs.quantiles_sfc.QuantilesSFC'>, config={}) sfc from sfc meta data\n",
      "INFO:mlm_insights.core.sfcs:getting quantiles from sketch for rank 0.25\n",
      "INFO:mlm_insights.core.sfcs:getting quantiles from sketch for rank 0.5\n",
      "INFO:mlm_insights.core.sfcs:getting quantiles from sketch for rank 0.75\n",
      "INFO:mlm_insights.core.metrics:Calculated Quartiles metric, value: {'q1': 250.0, 'q2': 250.0, 'q3': 250.0}\n",
      "INFO:mlm_insights.core.sfcs:getting SFCMetaData(klass=<class 'mlm_insights.core.sfcs.descriptive_statistics_sfc.DescriptiveStatisticsSFC'>, config={}) sfc from sfc meta data\n",
      "INFO:mlm_insights.core.metrics:Calculated Mean metric, value: 250.0\n",
      "INFO:mlm_insights.core.sfcs:getting SFCMetaData(klass=<class 'mlm_insights.core.sfcs.descriptive_statistics_sfc.DescriptiveStatisticsSFC'>, config={}) sfc from sfc meta data\n",
      "INFO:mlm_insights.core.sfcs:getting SFCMetaData(klass=<class 'mlm_insights.core.sfcs.descriptive_statistics_sfc.DescriptiveStatisticsSFC'>, config={}) sfc from sfc meta data\n",
      "INFO:mlm_insights.core.metrics:Calculated Kurtosis metric, value: None\n",
      "INFO:mlm_insights.core.sfcs:getting SFCMetaData(klass=<class 'mlm_insights.core.sfcs.descriptive_statistics_sfc.DescriptiveStatisticsSFC'>, config={}) sfc from sfc meta data\n",
      "INFO:mlm_insights.core.sfcs:getting SFCMetaData(klass=<class 'mlm_insights.core.sfcs.descriptive_statistics_sfc.DescriptiveStatisticsSFC'>, config={}) sfc from sfc meta data\n",
      "INFO:mlm_insights.core.metrics:Calculated Skewness metric, value: None\n",
      "INFO:mlm_insights.core.sfcs:getting SFCMetaData(klass=<class 'mlm_insights.core.sfcs.descriptive_statistics_sfc.DescriptiveStatisticsSFC'>, config={}) sfc from sfc meta data\n",
      "INFO:mlm_insights.core.sfcs:getting SFCMetaData(klass=<class 'mlm_insights.core.sfcs.descriptive_statistics_sfc.DescriptiveStatisticsSFC'>, config={}) sfc from sfc meta data\n",
      "INFO:mlm_insights.core.metrics:Creating StandardDeviation metric, value: 0.0\n",
      "INFO:mlm_insights.core.sfcs:getting SFCMetaData(klass=<class 'mlm_insights.core.sfcs.descriptive_statistics_sfc.DescriptiveStatisticsSFC'>, config={}) sfc from sfc meta data\n",
      "INFO:mlm_insights.core.sfcs:getting SFCMetaData(klass=<class 'mlm_insights.core.sfcs.descriptive_statistics_sfc.DescriptiveStatisticsSFC'>, config={}) sfc from sfc meta data\n",
      "INFO:mlm_insights.core.metrics:Calculated Min metric, value: 200.0\n",
      "INFO:mlm_insights.core.sfcs:getting SFCMetaData(klass=<class 'mlm_insights.core.sfcs.descriptive_statistics_sfc.DescriptiveStatisticsSFC'>, config={}) sfc from sfc meta data\n",
      "INFO:mlm_insights.core.sfcs:getting SFCMetaData(klass=<class 'mlm_insights.core.sfcs.frequent_items_sfc.FrequentItemsSFC'>, config={}) sfc from sfc meta data\n",
      "INFO:mlm_insights.core.sfcs:Getting top 2 frequent items\n",
      "INFO:mlm_insights.core.sfcs:Getting list of all frequent items\n",
      "INFO:mlm_insights.core.metrics:Calculated IsConstantFeature metric, value: True\n",
      "INFO:mlm_insights.core.sfcs:getting SFCMetaData(klass=<class 'mlm_insights.core.sfcs.quantiles_sfc.QuantilesSFC'>, config={}) sfc from sfc meta data\n",
      "INFO:mlm_insights.core.sfcs:getting quantiles from sketch for rank 0.75\n",
      "INFO:mlm_insights.core.sfcs:getting quantiles from sketch for rank 0.25\n",
      "INFO:mlm_insights.core.metrics:Calculated IQR metric, value: 0.0\n",
      "INFO:mlm_insights.core.sfcs:getting quantiles from sketch for rank 0.75\n",
      "INFO:mlm_insights.core.sfcs:getting quantiles from sketch for rank 0.25\n",
      "INFO:mlm_insights.core.sfcs:getting SFCMetaData(klass=<class 'mlm_insights.core.sfcs.descriptive_statistics_sfc.DescriptiveStatisticsSFC'>, config={}) sfc from sfc meta data\n",
      "INFO:mlm_insights.core.metrics:Calculated Range metric, value: 0.0\n",
      "INFO:mlm_insights.core.sfcs:getting SFCMetaData(klass=<class 'mlm_insights.core.sfcs.quantiles_sfc.QuantilesSFC'>, config={}) sfc from sfc meta data\n",
      "INFO:mlm_insights.core.metrics:Calculated ProbabilityDistribution metric, value: {'bins': [200.0], 'density': [1.0]}\n",
      "INFO:mlm_insights.core.sfcs:getting SFCMetaData(klass=<class 'mlm_insights.core.sfcs.descriptive_statistics_sfc.DescriptiveStatisticsSFC'>, config={}) sfc from sfc meta data\n",
      "INFO:mlm_insights.core.metrics:Calculated Variance metric, value: 0.0\n",
      "INFO:mlm_insights.core.sfcs:getting SFCMetaData(klass=<class 'mlm_insights.core.sfcs.descriptive_statistics_sfc.DescriptiveStatisticsSFC'>, config={}) sfc from sfc meta data\n",
      "INFO:mlm_insights.core.metrics:Calculated TypeMetric metric, value: {'string_type_count': 0, 'integral_type_count': 0, 'fractional_type_count': 1, 'boolean_type_count': 0}\n",
      "INFO:mlm_insights.core.sfcs:getting SFCMetaData(klass=<class 'mlm_insights.core.sfcs.quantiles_sfc.QuantilesSFC'>, config={}) sfc from sfc meta data\n",
      "INFO:mlm_insights.core.metrics:Calculated FrequencyDistribution metric, value: {'bins': [200.0], 'frequency': [1]}\n",
      "INFO:mlm_insights.core.metrics:Calculated Count metric, value: {'total_count': 1.0, 'missing_count': 0.0, 'missing_count_percentage': 0.0}\n",
      "INFO:mlm_insights.core.sfcs:getting SFCMetaData(klass=<class 'mlm_insights.core.sfcs.descriptive_statistics_sfc.DescriptiveStatisticsSFC'>, config={}) sfc from sfc meta data\n",
      "INFO:mlm_insights.core.metrics:Calculated Max metric, value: 200.0\n",
      "INFO:mlm_insights.core.sfcs:getting SFCMetaData(klass=<class 'mlm_insights.core.sfcs.descriptive_statistics_sfc.DescriptiveStatisticsSFC'>, config={}) sfc from sfc meta data\n",
      "INFO:mlm_insights.core.sfcs:getting SFCMetaData(klass=<class 'mlm_insights.core.sfcs.distinct_count_sfc.DistinctCountSFC'>, config={}) sfc from sfc meta data\n",
      "INFO:mlm_insights.core.sfcs:getting SFCMetaData(klass=<class 'mlm_insights.core.sfcs.frequent_items_sfc.FrequentItemsSFC'>, config={}) sfc from sfc meta data\n",
      "INFO:mlm_insights.core.sfcs:Getting total count of input data\n",
      "INFO:mlm_insights.core.sfcs:Calculated cardinality = 1.0 in Distinct count SFC, upper bound = 1.000049929250618, lower bound = 1.0\n",
      "INFO:mlm_insights.core.metrics:Calculated DistinctCount metric, value: 1.0\n",
      "INFO:mlm_insights.core.metrics:Calculated Sum metric, value: 200.0\n",
      "INFO:mlm_insights.core.sfcs:getting SFCMetaData(klass=<class 'mlm_insights.core.sfcs.frequent_items_sfc.FrequentItemsSFC'>, config={}) sfc from sfc meta data\n",
      "INFO:mlm_insights.core.sfcs:Getting list of all frequent items\n",
      "INFO:mlm_insights.core.metrics:Calculated IsQuasiConstantFeature metric, value: True\n",
      "INFO:mlm_insights.core.sfcs:getting SFCMetaData(klass=<class 'mlm_insights.core.sfcs.quantiles_sfc.QuantilesSFC'>, config={}) sfc from sfc meta data\n",
      "INFO:mlm_insights.core.sfcs:getting quantiles from sketch for rank 0.25\n",
      "INFO:mlm_insights.core.sfcs:getting quantiles from sketch for rank 0.5\n",
      "INFO:mlm_insights.core.sfcs:getting quantiles from sketch for rank 0.75\n",
      "INFO:mlm_insights.core.metrics:Calculated Quartiles metric, value: {'q1': 200.0, 'q2': 200.0, 'q3': 200.0}\n",
      "INFO:mlm_insights.core.sfcs:getting SFCMetaData(klass=<class 'mlm_insights.core.sfcs.descriptive_statistics_sfc.DescriptiveStatisticsSFC'>, config={}) sfc from sfc meta data\n",
      "INFO:mlm_insights.core.metrics:Calculated Mean metric, value: 200.0\n",
      "INFO:mlm_insights.core.sfcs:getting SFCMetaData(klass=<class 'mlm_insights.core.sfcs.descriptive_statistics_sfc.DescriptiveStatisticsSFC'>, config={}) sfc from sfc meta data\n",
      "INFO:mlm_insights.core.sfcs:getting SFCMetaData(klass=<class 'mlm_insights.core.sfcs.descriptive_statistics_sfc.DescriptiveStatisticsSFC'>, config={}) sfc from sfc meta data\n",
      "INFO:mlm_insights.core.metrics:Calculated Kurtosis metric, value: None\n",
      "INFO:mlm_insights.core.sfcs:getting SFCMetaData(klass=<class 'mlm_insights.core.sfcs.descriptive_statistics_sfc.DescriptiveStatisticsSFC'>, config={}) sfc from sfc meta data\n",
      "INFO:mlm_insights.core.metrics:Calculated RowCount metric, value: 1.0\n",
      "INFO:ads.feature_store.common.utils.utility:Ingestion Summary \n",
      "╒══════════════════════════════════╤═══════════════╤════════════════════╤═════════════════╕\n",
      "│            entity_id             │  entity_type  │  ingestion_status  │  error_details  │\n",
      "╞══════════════════════════════════╪═══════════════╪════════════════════╪═════════════════╡\n",
      "│ 4DFC763EE0C63298E9BA88C30E9C582C │ FEATURE_GROUP │     Succeeded      │      None       │\n",
      "╘══════════════════════════════════╧═══════════════╧════════════════════╧═════════════════╛\n"
     ]
    },
    {
     "name": "stderr",
     "output_type": "stream",
     "text": [
      "/home/datascience/conda/fspyspark32_p38_cpu_v2/lib/python3.8/site-packages/mlm_insights/core/sfcs/descriptive_statistics_sfc.py:80: RuntimeWarning: Precision loss occurred in moment calculation due to catastrophic cancellation. This occurs when the data are nearly identical. Results may be unreliable.\n",
      "  self.central_moments = [moment(column, moment=i) for i in range(MAXIMUM_MOMENT_ORDER + 1)]\n",
      "/home/datascience/conda/fspyspark32_p38_cpu_v2/lib/python3.8/site-packages/mlm_insights/core/sfcs/descriptive_statistics_sfc.py:80: RuntimeWarning: Precision loss occurred in moment calculation due to catastrophic cancellation. This occurs when the data are nearly identical. Results may be unreliable.\n",
      "  self.central_moments = [moment(column, moment=i) for i in range(MAXIMUM_MOMENT_ORDER + 1)]\n",
      "/home/datascience/conda/fspyspark32_p38_cpu_v2/lib/python3.8/site-packages/mlm_insights/core/sfcs/descriptive_statistics_sfc.py:80: RuntimeWarning: Precision loss occurred in moment calculation due to catastrophic cancellation. This occurs when the data are nearly identical. Results may be unreliable.\n",
      "  self.central_moments = [moment(column, moment=i) for i in range(MAXIMUM_MOMENT_ORDER + 1)]\n",
      "                                                                                \r"
     ]
    }
   ],
   "source": [
    "synthetic_data_embedding_feature_group.materialise(empty_df)"
   ]
  },
  {
   "cell_type": "markdown",
   "id": "b09e9a05",
   "metadata": {},
   "source": [
    "<a id=\"explore_featuregroup\"></a>\n",
    "### 3.3. Explore feature groups"
   ]
  },
  {
   "cell_type": "code",
   "execution_count": 18,
   "id": "28d2131f",
   "metadata": {},
   "outputs": [],
   "source": [
    "# synthetic_data_embedding_feature_group.get_statistics().to_viz()"
   ]
  },
  {
   "cell_type": "code",
   "execution_count": 19,
   "id": "ecbf2c9a",
   "metadata": {},
   "outputs": [
    {
     "name": "stdout",
     "output_type": "stream",
     "text": [
      "+-------+-------------------+------+--------+--------------------+--------------------+----+--------+---------+-----------+--------------+-------------+--------------------+------------+--------------------+\n",
      "|version|          timestamp|userId|userName|           operation| operationParameters| job|notebook|clusterId|readVersion|isolationLevel|isBlindAppend|    operationMetrics|userMetadata|          engineInfo|\n",
      "+-------+-------------------+------+--------+--------------------+--------------------+----+--------+---------+-----------+--------------+-------------+--------------------+------------+--------------------+\n",
      "|      0|2023-11-11 06:14:11|  null|    null|CREATE OR REPLACE...|{isManaged -> tru...|null|    null|     null|       null|  Serializable|        false|{numFiles -> 1, n...|        null|Apache-Spark/3.2....|\n",
      "+-------+-------------------+------+--------+--------------------+--------------------+----+--------+---------+-----------+--------------+-------------+--------------------+------------+--------------------+\n",
      "\n"
     ]
    }
   ],
   "source": [
    "synthetic_data_embedding_feature_group.history().show()"
   ]
  },
  {
   "cell_type": "code",
   "execution_count": 20,
   "id": "1693c57c",
   "metadata": {},
   "outputs": [
    {
     "name": "stdout",
     "output_type": "stream",
     "text": [
      "+----------+------------+--------------+--------------+------------+----------------------+\n",
      "|patient_id|patient_name|diagnosis_code|procedure_code|total_charge|insurance_claim_amount|\n",
      "+----------+------------+--------------+--------------+------------+----------------------+\n",
      "|    123456|  Jane Smith|         D50.0|         99204|       250.0|                 200.0|\n",
      "+----------+------------+--------------+--------------+------------+----------------------+\n",
      "\n"
     ]
    },
    {
     "name": "stderr",
     "output_type": "stream",
     "text": [
      "                                                                                \r"
     ]
    }
   ],
   "source": [
    "synthetic_data_embedding_feature_group.as_of(version_number=0).show()"
   ]
  },
  {
   "cell_type": "code",
   "execution_count": 21,
   "id": "7457eb44",
   "metadata": {},
   "outputs": [
    {
     "data": {
      "text/html": [
       "<div>\n",
       "<style scoped>\n",
       "    .dataframe tbody tr th:only-of-type {\n",
       "        vertical-align: middle;\n",
       "    }\n",
       "\n",
       "    .dataframe tbody tr th {\n",
       "        vertical-align: top;\n",
       "    }\n",
       "\n",
       "    .dataframe thead th {\n",
       "        text-align: right;\n",
       "    }\n",
       "</style>\n",
       "<table border=\"1\" class=\"dataframe\">\n",
       "  <thead>\n",
       "    <tr style=\"text-align: right;\">\n",
       "      <th></th>\n",
       "      <th>name</th>\n",
       "      <th>type</th>\n",
       "    </tr>\n",
       "  </thead>\n",
       "  <tbody>\n",
       "    <tr>\n",
       "      <th>0</th>\n",
       "      <td>patient_id</td>\n",
       "      <td>LONG</td>\n",
       "    </tr>\n",
       "    <tr>\n",
       "      <th>1</th>\n",
       "      <td>patient_name</td>\n",
       "      <td>STRING</td>\n",
       "    </tr>\n",
       "    <tr>\n",
       "      <th>2</th>\n",
       "      <td>diagnosis_code</td>\n",
       "      <td>STRING</td>\n",
       "    </tr>\n",
       "    <tr>\n",
       "      <th>3</th>\n",
       "      <td>procedure_code</td>\n",
       "      <td>STRING</td>\n",
       "    </tr>\n",
       "    <tr>\n",
       "      <th>4</th>\n",
       "      <td>total_charge</td>\n",
       "      <td>DOUBLE</td>\n",
       "    </tr>\n",
       "    <tr>\n",
       "      <th>5</th>\n",
       "      <td>insurance_claim_amount</td>\n",
       "      <td>DOUBLE</td>\n",
       "    </tr>\n",
       "  </tbody>\n",
       "</table>\n",
       "</div>"
      ],
      "text/plain": [
       "                     name    type\n",
       "0              patient_id    LONG\n",
       "1            patient_name  STRING\n",
       "2          diagnosis_code  STRING\n",
       "3          procedure_code  STRING\n",
       "4            total_charge  DOUBLE\n",
       "5  insurance_claim_amount  DOUBLE"
      ]
     },
     "execution_count": 21,
     "metadata": {},
     "output_type": "execute_result"
    }
   ],
   "source": [
    "synthetic_data_embedding_feature_group.get_features_df()"
   ]
  },
  {
   "cell_type": "code",
   "execution_count": 22,
   "id": "92242539",
   "metadata": {},
   "outputs": [
    {
     "data": {
      "text/html": [
       "<div>\n",
       "<style scoped>\n",
       "    .dataframe tbody tr th:only-of-type {\n",
       "        vertical-align: middle;\n",
       "    }\n",
       "\n",
       "    .dataframe tbody tr th {\n",
       "        vertical-align: top;\n",
       "    }\n",
       "\n",
       "    .dataframe thead th {\n",
       "        text-align: right;\n",
       "    }\n",
       "</style>\n",
       "<table border=\"1\" class=\"dataframe\">\n",
       "  <thead>\n",
       "    <tr style=\"text-align: right;\">\n",
       "      <th></th>\n",
       "      <th>0</th>\n",
       "      <th>1</th>\n",
       "      <th>2</th>\n",
       "    </tr>\n",
       "  </thead>\n",
       "  <tbody>\n",
       "    <tr>\n",
       "      <th>success</th>\n",
       "      <td>True</td>\n",
       "      <td>True</td>\n",
       "      <td>True</td>\n",
       "    </tr>\n",
       "    <tr>\n",
       "      <th>expectation_config.expectation_type</th>\n",
       "      <td>expect_column_values_to_not_be_null</td>\n",
       "      <td>expect_column_values_to_not_be_null</td>\n",
       "      <td>expect_column_values_to_not_be_null</td>\n",
       "    </tr>\n",
       "    <tr>\n",
       "      <th>expectation_config.kwargs.column</th>\n",
       "      <td>patient_id</td>\n",
       "      <td>patient_name</td>\n",
       "      <td>diagnosis_code</td>\n",
       "    </tr>\n",
       "    <tr>\n",
       "      <th>expectation_config.kwargs.batch_id</th>\n",
       "      <td>f375a21b5118a85cf380226d22b60f8c</td>\n",
       "      <td>f375a21b5118a85cf380226d22b60f8c</td>\n",
       "      <td>f375a21b5118a85cf380226d22b60f8c</td>\n",
       "    </tr>\n",
       "    <tr>\n",
       "      <th>result.element_count</th>\n",
       "      <td>1</td>\n",
       "      <td>1</td>\n",
       "      <td>1</td>\n",
       "    </tr>\n",
       "    <tr>\n",
       "      <th>result.unexpected_count</th>\n",
       "      <td>0</td>\n",
       "      <td>0</td>\n",
       "      <td>0</td>\n",
       "    </tr>\n",
       "    <tr>\n",
       "      <th>result.unexpected_percent</th>\n",
       "      <td>0.0</td>\n",
       "      <td>0.0</td>\n",
       "      <td>0.0</td>\n",
       "    </tr>\n",
       "    <tr>\n",
       "      <th>result.partial_unexpected_list</th>\n",
       "      <td>[]</td>\n",
       "      <td>[]</td>\n",
       "      <td>[]</td>\n",
       "    </tr>\n",
       "    <tr>\n",
       "      <th>exception_info.raised_exception</th>\n",
       "      <td>False</td>\n",
       "      <td>False</td>\n",
       "      <td>False</td>\n",
       "    </tr>\n",
       "    <tr>\n",
       "      <th>exception_info.exception_traceback</th>\n",
       "      <td>None</td>\n",
       "      <td>None</td>\n",
       "      <td>None</td>\n",
       "    </tr>\n",
       "    <tr>\n",
       "      <th>exception_info.exception_message</th>\n",
       "      <td>None</td>\n",
       "      <td>None</td>\n",
       "      <td>None</td>\n",
       "    </tr>\n",
       "  </tbody>\n",
       "</table>\n",
       "</div>"
      ],
      "text/plain": [
       "                                                                       0  \\\n",
       "success                                                             True   \n",
       "expectation_config.expectation_type  expect_column_values_to_not_be_null   \n",
       "expectation_config.kwargs.column                              patient_id   \n",
       "expectation_config.kwargs.batch_id      f375a21b5118a85cf380226d22b60f8c   \n",
       "result.element_count                                                   1   \n",
       "result.unexpected_count                                                0   \n",
       "result.unexpected_percent                                            0.0   \n",
       "result.partial_unexpected_list                                        []   \n",
       "exception_info.raised_exception                                    False   \n",
       "exception_info.exception_traceback                                  None   \n",
       "exception_info.exception_message                                    None   \n",
       "\n",
       "                                                                       1  \\\n",
       "success                                                             True   \n",
       "expectation_config.expectation_type  expect_column_values_to_not_be_null   \n",
       "expectation_config.kwargs.column                            patient_name   \n",
       "expectation_config.kwargs.batch_id      f375a21b5118a85cf380226d22b60f8c   \n",
       "result.element_count                                                   1   \n",
       "result.unexpected_count                                                0   \n",
       "result.unexpected_percent                                            0.0   \n",
       "result.partial_unexpected_list                                        []   \n",
       "exception_info.raised_exception                                    False   \n",
       "exception_info.exception_traceback                                  None   \n",
       "exception_info.exception_message                                    None   \n",
       "\n",
       "                                                                       2  \n",
       "success                                                             True  \n",
       "expectation_config.expectation_type  expect_column_values_to_not_be_null  \n",
       "expectation_config.kwargs.column                          diagnosis_code  \n",
       "expectation_config.kwargs.batch_id      f375a21b5118a85cf380226d22b60f8c  \n",
       "result.element_count                                                   1  \n",
       "result.unexpected_count                                                0  \n",
       "result.unexpected_percent                                            0.0  \n",
       "result.partial_unexpected_list                                        []  \n",
       "exception_info.raised_exception                                    False  \n",
       "exception_info.exception_traceback                                  None  \n",
       "exception_info.exception_message                                    None  "
      ]
     },
     "execution_count": 22,
     "metadata": {},
     "output_type": "execute_result"
    }
   ],
   "source": [
    "synthetic_data_embedding_feature_group.get_validation_output().to_pandas()"
   ]
  },
  {
   "cell_type": "code",
   "execution_count": 23,
   "id": "1fbcbe46",
   "metadata": {},
   "outputs": [
    {
     "name": "stdout",
     "output_type": "stream",
     "text": [
      "+----------+------------+--------------+--------------+------------+----------------------+\n",
      "|patient_id|patient_name|diagnosis_code|procedure_code|total_charge|insurance_claim_amount|\n",
      "+----------+------------+--------------+--------------+------------+----------------------+\n",
      "|    123456|  Jane Smith|         D50.0|         99204|       250.0|                 200.0|\n",
      "+----------+------------+--------------+--------------+------------+----------------------+\n",
      "\n"
     ]
    }
   ],
   "source": [
    "synthetic_data_embedding_feature_group.select().show()"
   ]
  },
  {
   "cell_type": "markdown",
   "id": "2c31f955",
   "metadata": {},
   "source": [
    "<a id=\"select_subset_featuregroup\"></a>\n",
    "### 3.4. Select subset of features"
   ]
  },
  {
   "cell_type": "code",
   "execution_count": 24,
   "id": "a8f3841c",
   "metadata": {},
   "outputs": [
    {
     "name": "stdout",
     "output_type": "stream",
     "text": [
      "+----------+------------+\n",
      "|patient_id|patient_name|\n",
      "+----------+------------+\n",
      "|    123456|  Jane Smith|\n",
      "+----------+------------+\n",
      "\n"
     ]
    }
   ],
   "source": [
    "synthetic_data_embedding_feature_group.select(['patient_id', 'patient_name']).show()"
   ]
  },
  {
   "cell_type": "markdown",
   "id": "1363f042",
   "metadata": {},
   "source": [
    "<a id=\"filter_featuregroup\"></a>\n",
    "### 3.5. Filter feature groups"
   ]
  },
  {
   "cell_type": "code",
   "execution_count": 25,
   "id": "063fc8e0",
   "metadata": {},
   "outputs": [
    {
     "name": "stderr",
     "output_type": "stream",
     "text": [
      "[Stage 22:>                                                         (0 + 1) / 1]\r"
     ]
    },
    {
     "name": "stdout",
     "output_type": "stream",
     "text": [
      "+----------+------------+--------------+--------------+------------+----------------------+\n",
      "|patient_id|patient_name|diagnosis_code|procedure_code|total_charge|insurance_claim_amount|\n",
      "+----------+------------+--------------+--------------+------------+----------------------+\n",
      "|    123456|  Jane Smith|         D50.0|         99204|       250.0|                 200.0|\n",
      "+----------+------------+--------------+--------------+------------+----------------------+\n",
      "\n"
     ]
    },
    {
     "name": "stderr",
     "output_type": "stream",
     "text": [
      "                                                                                \r"
     ]
    }
   ],
   "source": [
    "synthetic_data_embedding_feature_group.filter(synthetic_data_embedding_feature_group.patient_id == \"123456\").show()"
   ]
  },
  {
   "cell_type": "code",
   "execution_count": 26,
   "id": "8351bc71",
   "metadata": {},
   "outputs": [
    {
     "name": "stdout",
     "output_type": "stream",
     "text": [
      "WARNING:py.warnings:/home/datascience/conda/fspyspark32_p38_cpu_v2/lib/python3.8/site-packages/pyspark/sql/pandas/utils.py:35: DeprecationWarning: distutils Version classes are deprecated. Use packaging.version instead.\n",
      "  if LooseVersion(pandas.__version__) < LooseVersion(minimum_pandas_version):\n",
      "\n",
      "WARNING:py.warnings:/home/datascience/conda/fspyspark32_p38_cpu_v2/lib/python3.8/site-packages/pyspark/sql/pandas/utils.py:57: DeprecationWarning: distutils Version classes are deprecated. Use packaging.version instead.\n",
      "  if LooseVersion(pyarrow.__version__) < LooseVersion(minimum_pyarrow_version):\n",
      "\n"
     ]
    },
    {
     "data": {
      "text/html": [
       "<div>\n",
       "<style scoped>\n",
       "    .dataframe tbody tr th:only-of-type {\n",
       "        vertical-align: middle;\n",
       "    }\n",
       "\n",
       "    .dataframe tbody tr th {\n",
       "        vertical-align: top;\n",
       "    }\n",
       "\n",
       "    .dataframe thead th {\n",
       "        text-align: right;\n",
       "    }\n",
       "</style>\n",
       "<table border=\"1\" class=\"dataframe\">\n",
       "  <thead>\n",
       "    <tr style=\"text-align: right;\">\n",
       "      <th></th>\n",
       "      <th>patient_id</th>\n",
       "      <th>patient_name</th>\n",
       "      <th>diagnosis_code</th>\n",
       "      <th>procedure_code</th>\n",
       "      <th>total_charge</th>\n",
       "      <th>insurance_claim_amount</th>\n",
       "    </tr>\n",
       "  </thead>\n",
       "  <tbody>\n",
       "    <tr>\n",
       "      <th>0</th>\n",
       "      <td>123456</td>\n",
       "      <td>Jane Smith</td>\n",
       "      <td>D50.0</td>\n",
       "      <td>99204</td>\n",
       "      <td>250.0</td>\n",
       "      <td>200.0</td>\n",
       "    </tr>\n",
       "  </tbody>\n",
       "</table>\n",
       "</div>"
      ],
      "text/plain": [
       "   patient_id patient_name diagnosis_code procedure_code  total_charge  \\\n",
       "0      123456   Jane Smith          D50.0          99204         250.0   \n",
       "\n",
       "   insurance_claim_amount  \n",
       "0                   200.0  "
      ]
     },
     "execution_count": 26,
     "metadata": {},
     "output_type": "execute_result"
    }
   ],
   "source": [
    "tranining_df = synthetic_data_embedding_feature_group.select().read().toPandas()\n",
    "tranining_df"
   ]
  },
  {
   "cell_type": "markdown",
   "id": "e8a39722",
   "metadata": {},
   "source": [
    "<a id='ref'></a>\n",
    "# References\n",
    "\n",
    "- [ADS Library Documentation](https://accelerated-data-science.readthedocs.io/en/latest/index.html)\n",
    "- [Data Science YouTube Videos](https://www.youtube.com/playlist?list=PLKCk3OyNwIzv6CWMhvqSB_8MLJIZdO80L)\n",
    "- [OCI Data Science Documentation](https://docs.cloud.oracle.com/en-us/iaas/data-science/using/data-science.htm)\n",
    "- [Oracle Data & AI Blog](https://blogs.oracle.com/datascience/)"
   ]
  },
  {
   "cell_type": "code",
   "execution_count": null,
   "id": "9c682c31",
   "metadata": {},
   "outputs": [],
   "source": []
  },
  {
   "cell_type": "code",
   "execution_count": null,
   "id": "528dc078",
   "metadata": {},
   "outputs": [],
   "source": []
  },
  {
   "cell_type": "code",
   "execution_count": null,
   "id": "12658dcc",
   "metadata": {},
   "outputs": [],
   "source": []
  }
 ],
 "metadata": {
  "kernelspec": {
   "display_name": "Python [conda env:fspyspark32_p38_cpu_v2]",
   "language": "python",
   "name": "conda-env-fspyspark32_p38_cpu_v2-py"
  },
  "language_info": {
   "codemirror_mode": {
    "name": "ipython",
    "version": 3
   },
   "file_extension": ".py",
   "mimetype": "text/x-python",
   "name": "python",
   "nbconvert_exporter": "python",
   "pygments_lexer": "ipython3",
   "version": "3.8.17"
  }
 },
 "nbformat": 4,
 "nbformat_minor": 5
}
