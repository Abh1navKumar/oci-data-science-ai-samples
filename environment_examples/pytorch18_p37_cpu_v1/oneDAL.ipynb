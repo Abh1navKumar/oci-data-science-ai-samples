{
 "cells": [
  {
   "cell_type": "markdown",
   "id": "f2a785cf",
   "metadata": {},
   "source": [
    "<font color=gray>ADS Sample Notebook.\n",
    "\n",
    "Copyright (c) 2021 Oracle, Inc.  All rights reserved.\n",
    "Licensed under the Universal Permissive License v 1.0 as shown at https://oss.oracle.com/licenses/upl.\n",
    "</font>"
   ]
  },
  {
   "cell_type": "markdown",
   "id": "6436c7af",
   "metadata": {},
   "source": [
    "***\n",
    "# <font color=red>Improving Performance of Estimators Using `daal4py`</font>\n",
    "<p style=\"margin-left:10%; margin-right:10%;\">by the <font color=teal> Oracle ADS Team </font></p>\n",
    "\n",
    "***"
   ]
  },
  {
   "cell_type": "markdown",
   "id": "fb605422",
   "metadata": {},
   "source": [
    "Overview:\n",
    "\n",
    "This notebook demonstrates an easy way to enhance performance of scikit-learn models using Intel provided Python accelerators. Acceleration is achieved by using the Intel(R)oneAPI Data Analytics Library (oneDAL) that allows fast use of the framework suited for Data Scientists or Machine Learning users. Daal4py was created to give data scientists the easiest way to get better performance while using the familiar `scikit-learn` package."
   ]
  },
  {
   "cell_type": "markdown",
   "id": "9c6ff321",
   "metadata": {},
   "source": [
    "## Business Use Cases \n",
    "\n",
    "Performance improvement of using `daal4py` accelerator for `scikit-learn` models.\n",
    "\n",
    "---"
   ]
  },
  {
   "cell_type": "markdown",
   "id": "372309d3",
   "metadata": {},
   "source": [
    "## Prerequisites \n",
    "  - Experience level: Novice (Python and Machine Learning)\n",
    "  - Professional experience: Some industry experience"
   ]
  },
  {
   "cell_type": "markdown",
   "id": "139c8680",
   "metadata": {},
   "source": [
    "## Objectives:\n",
    "\n",
    "- <a href='#intro'>Check for an Intel-based Shape</a>\n",
    "- <a href='#prepare'>Prepare the Data</a>\n",
    "- <a href='#default'>Train a K-Means Model Using `sklearn`</a>\n",
    "- <a href='#daal4py'>Train K-Means Model Using the `daal4py` Accelerator</a>\n",
    "- <a href='#unpatch'>Unpatch `daal4py` from `sklearn`</a>\n",
    "- <a href=\"#reference\">References</a>\n",
    "\n",
    "---\n",
    "\n",
    " **Important:**\n",
    "\n",
    "Placeholder text for required values are surrounded by angle brackets that must be removed when adding the indicated content. For example, when adding a database name to `database_name = \"<database_name>\"` would become `database_name = \"production\"`."
   ]
  },
  {
   "cell_type": "markdown",
   "id": "404b9a4e",
   "metadata": {},
   "source": [
    "<a id='intro'></a>\n",
    "### Check for an Intel-based Shape\n",
    "\n",
    "Ensure that this notebook is running on an instance with Intel. The next cell validates whether this notebook is running on a valid instance."
   ]
  },
  {
   "cell_type": "code",
   "execution_count": null,
   "id": "7ba5f06c",
   "metadata": {},
   "outputs": [],
   "source": [
    "import cpuinfo\n",
    "shape_name = cpuinfo.get_cpu_info()['brand_raw']\n",
    "\n",
    "assert \"Intel\" in shape_name, \"Switch to a VM shape with Intel\""
   ]
  },
  {
   "cell_type": "markdown",
   "id": "662a81b2",
   "metadata": {},
   "source": [
    "Load the necessary modules:"
   ]
  },
  {
   "cell_type": "code",
   "execution_count": null,
   "id": "c4ff966d",
   "metadata": {},
   "outputs": [],
   "source": [
    "import daal4py.sklearn\n",
    "import importlib\n",
    "import logging\n",
    "import numpy as np\n",
    "import sklearn\n",
    "import time\n",
    "import warnings\n",
    "\n",
    "from sklearn.datasets import make_blobs\n",
    "from sklearn.cluster import KMeans\n",
    "\n",
    "warnings.filterwarnings('ignore')\n",
    "logging.basicConfig(format='%(levelname)s:%(message)s', level=logging.ERROR)"
   ]
  },
  {
   "cell_type": "markdown",
   "id": "029b4d02",
   "metadata": {},
   "source": [
    "<a id='prepare'></a>\n",
    "### Prepare the Data\n",
    "\n",
    "The data is prepared using the `sklearn` `make_blobs` function that generates isotropic Gaussian blobs for clustering."
   ]
  },
  {
   "cell_type": "code",
   "execution_count": null,
   "id": "45aa96c2",
   "metadata": {},
   "outputs": [],
   "source": [
    "rows, cols = 1000, 150\n",
    "X, y = make_blobs(n_samples=rows, n_features=cols, centers=8, random_state=42)"
   ]
  },
  {
   "cell_type": "markdown",
   "id": "6c38a73a",
   "metadata": {},
   "source": [
    "<a id='default'></a>\n",
    "### Train a K-Means Model Using `sklearn`\n",
    "\n",
    "Use `sklearn` to train a K-Means model on a dataset:"
   ]
  },
  {
   "cell_type": "code",
   "execution_count": null,
   "id": "d819b865",
   "metadata": {},
   "outputs": [],
   "source": [
    "estimator = KMeans(n_clusters=8)\n",
    "print(\"Module being used: \" + estimator.__module__)\n",
    "\n",
    "t0 = time.perf_counter()\n",
    "trained = estimator.fit(X)\n",
    "fit_elapsed = str(time.perf_counter() - t0)\n",
    "\n",
    "print(\"Training took seconds \" + fit_elapsed + \" seconds\")"
   ]
  },
  {
   "cell_type": "code",
   "execution_count": null,
   "id": "77f0121e",
   "metadata": {},
   "outputs": [],
   "source": [
    "t0 = time.perf_counter()\n",
    "preds = trained.predict([[1]*150])\n",
    "predict_elapsed = str(time.perf_counter() - t0)\n",
    "\n",
    "print(\"Prediction took \" + predict_elapsed + \" seconds\")"
   ]
  },
  {
   "cell_type": "markdown",
   "id": "fa56b752",
   "metadata": {},
   "source": [
    "<a id='daal4py'></a>\n",
    "### Train K-Means Model Using the `daal4py` Accelerator\n",
    "\n",
    "To use oneDAL as the underlying solver, you use `daal4py` to dynamically patch the `sklearn` estimators. You get the same solution as before, but faster. The `sklearn` modules must be imported again after the patching is complete."
   ]
  },
  {
   "cell_type": "code",
   "execution_count": null,
   "id": "d4c9600b",
   "metadata": {},
   "outputs": [],
   "source": [
    "daal4py.sklearn.patch_sklearn()\n",
    "sklearn = importlib.reload(sklearn)\n",
    "\n",
    "from sklearn.cluster import KMeans\n",
    "estimator = KMeans(n_clusters=8)\n",
    "\n",
    "# After patching, this should indicate daal4py is being used\n",
    "print(\"Module being used: \" + estimator.__module__)"
   ]
  },
  {
   "cell_type": "code",
   "execution_count": null,
   "id": "621696cb",
   "metadata": {},
   "outputs": [],
   "source": [
    "t0 = time.perf_counter()\n",
    "trained = estimator.fit(X)\n",
    "fit_elapsed = str(time.perf_counter() - t0)\n",
    "\n",
    "print(\"Training took seconds \" + fit_elapsed + \" seconds\")"
   ]
  },
  {
   "cell_type": "code",
   "execution_count": null,
   "id": "90922e48",
   "metadata": {},
   "outputs": [],
   "source": [
    "t0 = time.perf_counter()\n",
    "preds = trained.predict([[1]*150])\n",
    "predict_elapsed = str(time.perf_counter() - t0)\n",
    "\n",
    "print(\"Prediction took \" + predict_elapsed + \" seconds\")"
   ]
  },
  {
   "cell_type": "markdown",
   "id": "ce013d58",
   "metadata": {},
   "source": [
    "Comparing the performance when using `sklearn` versus `daal4py`, it is evident that `daal4py` significantly improves performance."
   ]
  },
  {
   "cell_type": "markdown",
   "id": "8e4b9957",
   "metadata": {},
   "source": [
    "<a id='unpatch'></a>\n",
    "### Unpatch `daal4py` from `sklearn`\n",
    "\n",
    "To use `sklearn` again, you simply unpatch `daal4py`, reload `sklearn`, and import the relevant `sklearn` modules again: "
   ]
  },
  {
   "cell_type": "code",
   "execution_count": null,
   "id": "ebe76669",
   "metadata": {},
   "outputs": [],
   "source": [
    "daal4py.sklearn.unpatch_sklearn()\n",
    "sklearn = importlib.reload(sklearn)\n",
    "# remember to re-import all the relevant modules"
   ]
  },
  {
   "cell_type": "markdown",
   "id": "4637bc20",
   "metadata": {},
   "source": [
    "<a id=\"reference\"></a>\n",
    "# References\n",
    "- [OCI Data Science Documentation](https://docs.cloud.oracle.com/en-us/iaas/data-science/using/data-science.htm)\n",
    "- [ADS Library Documentation](https://docs.cloud.oracle.com/en-us/iaas/tools/ads-sdk/latest/index.html)\n",
    "- [Oracle Data & AI Blog](https://blogs.oracle.com/datascience/)\n",
    "- [Data Science YouTube Videos](https://www.youtube.com/playlist?list=PLKCk3OyNwIzv6CWMhvqSB_8MLJIZdO80L)\n",
    "- [Fast, Scalable and Easy Machine Learning With DAAL4PY](https://intelpython.github.io/daal4py/)"
   ]
  }
 ],
 "metadata": {
  "kernelspec": {
   "display_name": "Python [conda env:pytorch18_p37_cpu_v1_0]",
   "language": "python",
   "name": "conda-env-pytorch18_p37_cpu_v1_0-py"
  },
  "language_info": {
   "codemirror_mode": {
    "name": "ipython",
    "version": 3
   },
   "file_extension": ".py",
   "mimetype": "text/x-python",
   "name": "python",
   "nbconvert_exporter": "python",
   "pygments_lexer": "ipython3",
   "version": "3.7.10"
  },
  "pycharm": {
   "stem_cell": {
    "cell_type": "raw",
    "metadata": {
     "collapsed": false
    },
    "source": []
   }
  }
 },
 "nbformat": 4,
 "nbformat_minor": 5
}
