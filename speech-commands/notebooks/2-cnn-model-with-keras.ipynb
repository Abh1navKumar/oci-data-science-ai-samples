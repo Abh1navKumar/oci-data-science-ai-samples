{
 "cells": [
  {
   "cell_type": "markdown",
   "metadata": {},
   "source": [
    "<font color=gray>Oracle Cloud Infrastructure Data Science Demo Notebook\n",
    "\n",
    "Copyright (c) 2021 Oracle, Inc.<br>\n",
    "Licensed under the Universal Permissive License v 1.0 as shown at https://oss.oracle.com/licenses/upl.\n",
    "</font>"
   ]
  },
  {
   "cell_type": "markdown",
   "metadata": {},
   "source": [
    "***\n",
    "# <font> Speech Command Recognition Task with Keras </font>\n",
    "<p style=\"margin-left:10%; margin-right:10%;\">by the <font color=teal> OCI Data Science PM Team </font></p>\n",
    "\n",
    "***"
   ]
  },
  {
   "cell_type": "markdown",
   "metadata": {},
   "source": [
    "In this notebook, we will train a simple convolutional neural network (CNN) to recognize utterances of different words. "
   ]
  },
  {
   "cell_type": "markdown",
   "metadata": {},
   "source": [
    "![banner](https://user-images.githubusercontent.com/5395649/46774810-22395980-ccb9-11e8-8f1a-535769d657ec.png)"
   ]
  },
  {
   "cell_type": "markdown",
   "metadata": {},
   "source": [
    "We'll first start by installing some libraries that are not installed in the notebook session environment. "
   ]
  },
  {
   "cell_type": "code",
   "execution_count": null,
   "metadata": {},
   "outputs": [],
   "source": [
    "%%bash \n",
    "\n",
    "pip install -r requirements.txt > .install_logs"
   ]
  },
  {
   "cell_type": "markdown",
   "metadata": {},
   "source": [
    "Also upgrade the version of the OCI Python SDK that is installed in your conda environment. The new version will include support for Model Deployment. "
   ]
  },
  {
   "cell_type": "code",
   "execution_count": null,
   "metadata": {},
   "outputs": [],
   "source": [
    "!pip install --upgrade oci"
   ]
  },
  {
   "cell_type": "markdown",
   "metadata": {},
   "source": [
    "Re-start the kernel and start from here: "
   ]
  },
  {
   "cell_type": "code",
   "execution_count": 1,
   "metadata": {
    "collapsed": false,
    "jupyter": {
     "outputs_hidden": false
    }
   },
   "outputs": [
    {
     "name": "stderr",
     "output_type": "stream",
     "text": [
      "/home/datascience/conda/speech-commands-with-deployv1_0/lib/python3.6/site-packages/librosa/util/decorators.py:9: NumbaDeprecationWarning: \u001b[1mAn import was requested from a module that has moved location.\n",
      "Import of 'jit' requested from: 'numba.decorators', please update to use 'numba.core.decorators' or pin to Numba version 0.48.0. This alias will not be present in Numba version 0.50.0.\u001b[0m\n",
      "  from numba.decorators import jit as optional_jit\n"
     ]
    }
   ],
   "source": [
    "import keras \n",
    "import tensorflow as tf\n",
    "import numpy as np\n",
    "import librosa\n",
    "import os \n",
    "import hashlib \n",
    "import re\n",
    "import pandas as pd \n",
    "import IPython.display as ipd\n",
    "from sklearn.metrics import confusion_matrix\n",
    "from tqdm import tqdm \n",
    "import pickle as pkl \n",
    "from seaborn import heatmap \n",
    "\n",
    "#from preprocess import *\n",
    "from keras.models import Sequential\n",
    "from keras.layers import Dense, Dropout, Flatten, Conv2D, MaxPooling2D\n",
    "from keras.utils import to_categorical\n",
    "\n",
    "from ads.common.model import prepare_generic_model\n",
    "import ads\n",
    "\n",
    "import warnings\n",
    "warnings.filterwarnings('ignore')\n",
    "import logging\n",
    "logging.basicConfig(format='%(levelname)s:%(message)s', level=logging.ERROR)\n",
    "import tensorflow as tf \n",
    "tf.logging.set_verbosity(tf.logging.ERROR)"
   ]
  },
  {
   "cell_type": "markdown",
   "metadata": {},
   "source": [
    "[librosa](https://librosa.github.io/librosa/) is an interesting python library for audio analysis. The paper describing the library can be found [here](http://conference.scipy.org/proceedings/scipy2015/pdfs/brian_mcfee.pdf)."
   ]
  },
  {
   "cell_type": "markdown",
   "metadata": {},
   "source": [
    "# Before we get started... \n",
    "\n",
    "* **If you are unfamiliar with signal processing in general, we recommend you review the notebook `1-intro-to-audio-data.ipynb`. You need to run this notebook first to download the data to your notebook session**\n",
    "\n",
    "* You don't need the raw data to run this notebook. You will be able to load a pre-processed dataset that is stored in this repo. This dataset will work for all default parameters provided in this notebook. \n",
    "\n",
    "Let us define some variables that will be used throughout the notebook. \n",
    "\n",
    "* `data_dir` points to the `wav` folder of the dataset. On the platform, this means `/home/datascience/data/`.\n",
    "* `MAX_NUM_WAVS_PER_CLASS` is the maximum number of audio clip examples per word class. Leave it as is for now.\n",
    "\n",
    "## A few words on the dataset \n",
    "\n",
    "The dataset we use is the [Speech Commands Dataset](https://arxiv.org/abs/1804.03209). This dataset includes 105k utterances of 35 words. Each word has its corresponding folder containing between 1k and 4k examples. In total, **over 2K different speakers were recorded**. Each clip lasts 1 second at a sampling rate of 16 kHz. The uncompressed data take about 4Gb on disk. \n",
    "\n",
    "The dataset is licensed under the [Creative Commons BY 4.0 license](https://creativecommons.org/licenses/by/4.0/). See the LICENSE file in the dataset folder for full details. Its original location was at\n",
    "[http://download.tensorflow.org/data/speech_commands_v0.02.tar.gz](http://download.tensorflow.org/data/speech_commands_v0.02.tar.gz)"
   ]
  },
  {
   "cell_type": "code",
   "execution_count": 2,
   "metadata": {
    "collapsed": false,
    "jupyter": {
     "outputs_hidden": false
    }
   },
   "outputs": [],
   "source": [
    "# the root directory of the dataset. If you are running this notebook on the Platform, this\n",
    "# folder should be /home/datascience/data/\n",
    "data_dir = '../data/'\n",
    "\n",
    "MAX_NUM_WAVS_PER_CLASS = 2**27 - 1  # ~134M\n",
    "\n",
    "# Training, validation and testing data split. An 80-10-10% split is standard. \n",
    "training_fraction = 80.0\n",
    "validation_fraction = 10.0\n",
    "testing_fraction = 10.0 \n",
    "\n",
    "# If you have not downloaded the original dataset and you want to \n",
    "# use the pre-processed, transformed dataset, set the flag \"list_available_words\" to False\n",
    "list_available_words = False \n",
    "\n",
    "if list_available_words: \n",
    "    # Lets find what words are available for us to classify: \n",
    "    words_available = [ d for d in os.listdir(data_dir) \n",
    "                   if os.path.isdir(os.path.join(data_dir, d)) ] \n",
    "\n",
    "    # This is the list of available utterances one can use in their classifier\n",
    "    print(words_available)"
   ]
  },
  {
   "cell_type": "markdown",
   "metadata": {},
   "source": [
    "For this particular model, **we will train a classifier whose purpose will be to \n",
    "classify utterances of the words \"right\", \"eight\", \"cat\"**"
   ]
  },
  {
   "cell_type": "code",
   "execution_count": 3,
   "metadata": {},
   "outputs": [],
   "source": [
    "words_selected = ['right', 'eight', 'cat']"
   ]
  },
  {
   "cell_type": "markdown",
   "metadata": {},
   "source": [
    "# Build a training, validation and testing sets\n",
    "\n",
    "In the cells below, we build the training, validation, and training datasets that will be used to train the CNN model. \n",
    "We recommend that you load the pre-processed data. It takes a while to compute the MFCCs for these sound clips. **The pre-processed, feature-extracted data was generated for words (`right`, `eight`, `cat`) only.** If you want to use different words, you need to download the raw, original dataset.  "
   ]
  },
  {
   "cell_type": "code",
   "execution_count": 4,
   "metadata": {
    "collapsed": false,
    "jupyter": {
     "outputs_hidden": false
    }
   },
   "outputs": [
    {
     "name": "stdout",
     "output_type": "stream",
     "text": [
      "{'right': 0, 'eight': 1, 'cat': 2}\n"
     ]
    }
   ],
   "source": [
    "# Create the mapping between index for one-hot encoding and the class label:\n",
    "class_to_int = {label:i for i, label in enumerate(words_selected)}\n",
    "print(class_to_int)\n",
    "\n",
    "# Save that lookup dictionary to disk: \n",
    "pkl.dump(class_to_int, open('./class_label_lookup.pkl','wb'))"
   ]
  },
  {
   "cell_type": "code",
   "execution_count": 5,
   "metadata": {},
   "outputs": [],
   "source": [
    "# Either load the processed and feature-extracted dataset or generate your own. \n",
    "# Set this value to True unless you have downloaded the raw data locally using the shell script. \n",
    "\n",
    "load_preprocessed_data = True\n",
    "\n",
    "if load_preprocessed_data: \n",
    "    df = pkl.load(open('../data/processed_data.pkl','rb'))\n",
    "else: \n",
    "    tqdm.pandas()\n",
    "    df = pd.DataFrame(columns=['filename','label','sample'])\n",
    "\n",
    "    for w in words_selected: \n",
    "        files = [ f for f in os.listdir(data_dir + w) if f[-4:] == '.wav' ]\n",
    "        labels = [ w for f in files]\n",
    "        sample = [ which_set(f, validation_fraction, testing_fraction) for f in files ]\n",
    "        tmp = pd.DataFrame({'filename':files, 'label':labels, 'sample':sample})\n",
    "        df = df.append(tmp, ignore_index=True)\n",
    "   \n",
    "    # adding the full path, mfcc data and class label mapping \n",
    "    df['full_path'] = data_dir + df['label'] + \"/\" + df['filename']\n",
    "    df['mfcc'] = df['full_path'].progress_apply(lambda x: data_processing(x))\n",
    "    df['y_hot'] = df['label'].map(class_to_int)\n",
    "    \n",
    "    # save data to disk: \n",
    "    df.to_pickle('../data/processed_data.pkl')"
   ]
  },
  {
   "cell_type": "code",
   "execution_count": 6,
   "metadata": {
    "collapsed": false,
    "jupyter": {
     "outputs_hidden": false
    }
   },
   "outputs": [
    {
     "data": {
      "text/html": [
       "<div>\n",
       "<style scoped>\n",
       "    .dataframe tbody tr th:only-of-type {\n",
       "        vertical-align: middle;\n",
       "    }\n",
       "\n",
       "    .dataframe tbody tr th {\n",
       "        vertical-align: top;\n",
       "    }\n",
       "\n",
       "    .dataframe thead th {\n",
       "        text-align: right;\n",
       "    }\n",
       "</style>\n",
       "<table border=\"1\" class=\"dataframe\">\n",
       "  <thead>\n",
       "    <tr style=\"text-align: right;\">\n",
       "      <th></th>\n",
       "      <th>filename</th>\n",
       "      <th>label</th>\n",
       "      <th>sample</th>\n",
       "      <th>full_path</th>\n",
       "      <th>mfcc</th>\n",
       "      <th>y_hot</th>\n",
       "    </tr>\n",
       "  </thead>\n",
       "  <tbody>\n",
       "    <tr>\n",
       "      <th>0</th>\n",
       "      <td>1b88bf70_nohash_0.wav</td>\n",
       "      <td>right</td>\n",
       "      <td>training</td>\n",
       "      <td>/home/datascience/data/right/1b88bf70_nohash_0...</td>\n",
       "      <td>[[-433.3795378509684, -434.2466677165984, -436...</td>\n",
       "      <td>0</td>\n",
       "    </tr>\n",
       "    <tr>\n",
       "      <th>1</th>\n",
       "      <td>b12bef84_nohash_1.wav</td>\n",
       "      <td>right</td>\n",
       "      <td>training</td>\n",
       "      <td>/home/datascience/data/right/b12bef84_nohash_1...</td>\n",
       "      <td>[[-395.73158891078725, -374.81060233119285, -3...</td>\n",
       "      <td>0</td>\n",
       "    </tr>\n",
       "    <tr>\n",
       "      <th>2</th>\n",
       "      <td>05b2db80_nohash_1.wav</td>\n",
       "      <td>right</td>\n",
       "      <td>training</td>\n",
       "      <td>/home/datascience/data/right/05b2db80_nohash_1...</td>\n",
       "      <td>[[-265.1568901743038, -266.41782567801494, -27...</td>\n",
       "      <td>0</td>\n",
       "    </tr>\n",
       "    <tr>\n",
       "      <th>3</th>\n",
       "      <td>b66f4f93_nohash_5.wav</td>\n",
       "      <td>right</td>\n",
       "      <td>training</td>\n",
       "      <td>/home/datascience/data/right/b66f4f93_nohash_5...</td>\n",
       "      <td>[[-549.6284243645459, -551.6706347878757, -558...</td>\n",
       "      <td>0</td>\n",
       "    </tr>\n",
       "    <tr>\n",
       "      <th>4</th>\n",
       "      <td>750e3e75_nohash_0.wav</td>\n",
       "      <td>right</td>\n",
       "      <td>validation</td>\n",
       "      <td>/home/datascience/data/right/750e3e75_nohash_0...</td>\n",
       "      <td>[[-513.6241339519378, -511.58181167935845, -51...</td>\n",
       "      <td>0</td>\n",
       "    </tr>\n",
       "  </tbody>\n",
       "</table>\n",
       "</div>"
      ],
      "text/plain": [
       "                filename  label      sample  \\\n",
       "0  1b88bf70_nohash_0.wav  right    training   \n",
       "1  b12bef84_nohash_1.wav  right    training   \n",
       "2  05b2db80_nohash_1.wav  right    training   \n",
       "3  b66f4f93_nohash_5.wav  right    training   \n",
       "4  750e3e75_nohash_0.wav  right  validation   \n",
       "\n",
       "                                           full_path  \\\n",
       "0  /home/datascience/data/right/1b88bf70_nohash_0...   \n",
       "1  /home/datascience/data/right/b12bef84_nohash_1...   \n",
       "2  /home/datascience/data/right/05b2db80_nohash_1...   \n",
       "3  /home/datascience/data/right/b66f4f93_nohash_5...   \n",
       "4  /home/datascience/data/right/750e3e75_nohash_0...   \n",
       "\n",
       "                                                mfcc  y_hot  \n",
       "0  [[-433.3795378509684, -434.2466677165984, -436...      0  \n",
       "1  [[-395.73158891078725, -374.81060233119285, -3...      0  \n",
       "2  [[-265.1568901743038, -266.41782567801494, -27...      0  \n",
       "3  [[-549.6284243645459, -551.6706347878757, -558...      0  \n",
       "4  [[-513.6241339519378, -511.58181167935845, -51...      0  "
      ]
     },
     "execution_count": 6,
     "metadata": {},
     "output_type": "execute_result"
    }
   ],
   "source": [
    "df.head()"
   ]
  },
  {
   "cell_type": "code",
   "execution_count": 7,
   "metadata": {
    "collapsed": false,
    "jupyter": {
     "outputs_hidden": false
    }
   },
   "outputs": [
    {
     "data": {
      "image/png": "[encoded data removed]",
      "text/plain": [
       "<Figure size 432x288 with 2 Axes>"
      ]
     },
     "metadata": {
      "needs_background": "light"
     },
     "output_type": "display_data"
    }
   ],
   "source": [
    "# Let's display the content of the column \"mfcc\". This column \n",
    "# contains the Mel-frequency Cepstral Coefficients (MFCC). \n",
    "# It's basically a power spectrum. \n",
    "\n",
    "def display_spectrogram(df, id): \n",
    "    \"\"\"Given the index value of the example in the pandas dataframe \n",
    "    this function will display a 2-D heatmap of the MFCC spectrum. \n",
    "    \n",
    "    Args: \n",
    "      - df (pd.DataFrame) : Dataframe of interest. \n",
    "      - id (integer) : row index of the example of interest \n",
    "    \"\"\"\n",
    "    ax = heatmap(df.iloc[id]['mfcc'], center=-150, cmap=\"YlGnBu\")\n",
    "    ax.set(xlabel=\"time chunk\", ylabel=\"mfcc\") \n",
    "\n",
    "# We will take a look at the first example in the t\n",
    "display_spectrogram(df, 0)"
   ]
  },
  {
   "cell_type": "code",
   "execution_count": 8,
   "metadata": {
    "collapsed": false,
    "jupyter": {
     "outputs_hidden": false
    }
   },
   "outputs": [
    {
     "data": {
      "text/plain": [
       "training      7709\n",
       "testing        998\n",
       "validation     889\n",
       "Name: sample, dtype: int64"
      ]
     },
     "execution_count": 8,
     "metadata": {},
     "output_type": "execute_result"
    }
   ],
   "source": [
    "# Sanity check: counts for each sample category. \n",
    "df['sample'].value_counts()"
   ]
  },
  {
   "cell_type": "markdown",
   "metadata": {},
   "source": [
    "# Splitting into training and testing sets\n",
    "\n",
    "Below we split the datasets by training, validation and evaluation (test) samples. \n",
    "We will use the mfcc values as the covariates/features for each clip. "
   ]
  },
  {
   "cell_type": "code",
   "execution_count": 9,
   "metadata": {},
   "outputs": [],
   "source": [
    "# Training dataset: \n",
    "X_train = df[df['sample'] == \"training\"]['mfcc'].values\n",
    "Y_train = df[df['sample'] == \"training\"]['y_hot'].values\n",
    "\n",
    "# Validation dataset: \n",
    "X_valid = df[df['sample'] == \"validation\"]['mfcc'].values\n",
    "Y_valid = df[df['sample'] == \"validation\"]['y_hot'].values\n",
    "\n",
    "# Evaluation dataset: \n",
    "X_test = df[df['sample'] == \"testing\"]['mfcc'].values\n",
    "Y_test = df[df['sample'] == \"testing\"]['y_hot'].values "
   ]
  },
  {
   "cell_type": "code",
   "execution_count": 10,
   "metadata": {},
   "outputs": [],
   "source": [
    "# Reshaping the MFCCs  \n",
    "Xtrain = np.asarray([ sub.reshape(20,32,1) for sub in X_train ])\n",
    "Xvalid = np.asarray([ sub.reshape(20,32,1) for sub in X_valid ])\n",
    "Xtest = np.asarray([ sub.reshape(20,32,1) for sub in X_test ])\n",
    "\n",
    "# Converting the index values to categorical values using the Keras to_categorical() function \n",
    "Ytrain = to_categorical(Y_train)\n",
    "Yvalid = to_categorical(Y_valid)\n",
    "Ytest = to_categorical(Y_test)"
   ]
  },
  {
   "cell_type": "code",
   "execution_count": 11,
   "metadata": {
    "collapsed": false,
    "jupyter": {
     "outputs_hidden": false
    }
   },
   "outputs": [
    {
     "data": {
      "text/plain": [
       "((7709, 20, 32, 1), (7709, 3), (998, 20, 32, 1), (998, 3))"
      ]
     },
     "execution_count": 11,
     "metadata": {},
     "output_type": "execute_result"
    }
   ],
   "source": [
    "# let's make sure we have the right dimensions for all these arrays: \n",
    "Xtrain.shape, Ytrain.shape, Xtest.shape, Ytest.shape"
   ]
  },
  {
   "cell_type": "markdown",
   "metadata": {},
   "source": [
    "Congratulations! You are now ready to train the Convolutional Neural Network (CNN) model. "
   ]
  },
  {
   "cell_type": "markdown",
   "metadata": {},
   "source": [
    "# Training the CNN model \n",
    "\n",
    "I adopted a slight variation of the [Sainath & Parada (2015)](https://static.googleusercontent.com/media/research.google.com/en//pubs/archive/43969.pdf) `cnn-trad-fpool3` model for the purpose of this demo. I invite the reader to read this paper for more details. \n",
    "\n",
    "This is a simple model that performs well. I adopted convolution kernels of equal size in both frequency and time space. I removed the linear low-rank layer. I also used fewer filters and the kernel size is smaller. \n",
    "\n",
    "I invite the reader to modify the network architecture and try different approaches. "
   ]
  },
  {
   "cell_type": "code",
   "execution_count": 12,
   "metadata": {
    "collapsed": false,
    "jupyter": {
     "outputs_hidden": false
    }
   },
   "outputs": [],
   "source": [
    "# Convolutional Neural Network (CNN) Model Definition:  \n",
    "\n",
    "model = Sequential()\n",
    "\n",
    "# Convolution layer (4x8), 32 filters \n",
    "model.add(Conv2D(32, kernel_size=(4, 8), activation='relu', input_shape=(20, 32, 1)))\n",
    "model.add(MaxPooling2D(pool_size=(2, 2)))\n",
    "model.add(Dropout(0.25))\n",
    "\n",
    "# Convolution layer (2x4), 16 filters \n",
    "model.add(Conv2D(16, kernel_size=(2, 4), activation='relu'))\n",
    "model.add(MaxPooling2D(pool_size=(2, 2)))\n",
    "model.add(Dropout(0.25))\n",
    "\n",
    "model.add(Flatten())\n",
    "# DNN FC layer: \n",
    "model.add(Dense(128, activation='relu'))\n",
    "model.add(Dropout(0.25))\n",
    "# softmax layer (3 words)\n",
    "model.add(Dense(len(words_selected), activation='softmax'))\n",
    "model.compile(loss=keras.losses.categorical_crossentropy,\n",
    "              optimizer=keras.optimizers.Adadelta(),\n",
    "              metrics=['accuracy'])"
   ]
  },
  {
   "cell_type": "markdown",
   "metadata": {},
   "source": [
    "Let's fit the model. \n",
    "\n",
    "Ten epochs is good enough to start. It will give you an accuracy superior to 0.90. I invite the reader to train the models for 100+ epochs."
   ]
  },
  {
   "cell_type": "code",
   "execution_count": 13,
   "metadata": {
    "collapsed": false,
    "jupyter": {
     "outputs_hidden": false
    }
   },
   "outputs": [
    {
     "name": "stdout",
     "output_type": "stream",
     "text": [
      "Train on 7709 samples, validate on 889 samples\n",
      "Epoch 1/10\n",
      "7709/7709 [==============================] - 2s 293us/step - loss: 1.9900 - acc: 0.5091 - val_loss: 0.7326 - val_acc: 0.7357\n",
      "Epoch 2/10\n",
      "7709/7709 [==============================] - 1s 137us/step - loss: 0.6869 - acc: 0.7147 - val_loss: 0.5469 - val_acc: 0.8144\n",
      "Epoch 3/10\n",
      "7709/7709 [==============================] - 1s 135us/step - loss: 0.5373 - acc: 0.7893 - val_loss: 0.3862 - val_acc: 0.8763\n",
      "Epoch 4/10\n",
      "7709/7709 [==============================] - 1s 136us/step - loss: 0.4842 - acc: 0.8096 - val_loss: 0.2942 - val_acc: 0.9010\n",
      "Epoch 5/10\n",
      "7709/7709 [==============================] - 1s 136us/step - loss: 0.4244 - acc: 0.8377 - val_loss: 0.2922 - val_acc: 0.9033\n",
      "Epoch 6/10\n",
      "7709/7709 [==============================] - 1s 135us/step - loss: 0.3789 - acc: 0.8559 - val_loss: 0.2123 - val_acc: 0.9336\n",
      "Epoch 7/10\n",
      "7709/7709 [==============================] - 1s 134us/step - loss: 0.3425 - acc: 0.8696 - val_loss: 0.1918 - val_acc: 0.9460\n",
      "Epoch 8/10\n",
      "7709/7709 [==============================] - 1s 136us/step - loss: 0.3230 - acc: 0.8775 - val_loss: 0.2262 - val_acc: 0.9246\n",
      "Epoch 9/10\n",
      "7709/7709 [==============================] - 1s 135us/step - loss: 0.3100 - acc: 0.8849 - val_loss: 0.1683 - val_acc: 0.9381\n",
      "Epoch 10/10\n",
      "7709/7709 [==============================] - 1s 134us/step - loss: 0.2975 - acc: 0.8890 - val_loss: 0.1563 - val_acc: 0.9483\n"
     ]
    },
    {
     "data": {
      "text/plain": [
       "<keras.callbacks.History at 0x7f59ce83beb8>"
      ]
     },
     "execution_count": 13,
     "metadata": {},
     "output_type": "execute_result"
    }
   ],
   "source": [
    "# Fitting the model: \n",
    "\n",
    "model.fit(Xtrain, Ytrain, \n",
    "          batch_size=100, \n",
    "          epochs=10, \n",
    "          verbose=1, \n",
    "          shuffle=True,\n",
    "          validation_data=(Xvalid, Yvalid))"
   ]
  },
  {
   "cell_type": "markdown",
   "metadata": {},
   "source": [
    "# Model Evaluation"
   ]
  },
  {
   "cell_type": "code",
   "execution_count": 14,
   "metadata": {
    "collapsed": false,
    "jupyter": {
     "outputs_hidden": false
    }
   },
   "outputs": [
    {
     "name": "stdout",
     "output_type": "stream",
     "text": [
      "998/998 [==============================] - 0s 70us/step\n",
      "loss = 0.19060915093383712, accuracy = 0.9348697394789579\n"
     ]
    }
   ],
   "source": [
    "# Evaluating the model: \n",
    "\n",
    "loss, accuracy = model.evaluate(x=Xtest, y=Ytest)\n",
    "print(\"loss = {}, accuracy = {}\".format(loss, accuracy))"
   ]
  },
  {
   "cell_type": "code",
   "execution_count": 15,
   "metadata": {
    "collapsed": false,
    "jupyter": {
     "outputs_hidden": false
    }
   },
   "outputs": [
    {
     "data": {
      "text/plain": [
       "[Text(0.5, 15.0, 'predicted'), Text(33.0, 0.5, 'observed')]"
      ]
     },
     "execution_count": 15,
     "metadata": {},
     "output_type": "execute_result"
    },
    {
     "data": {
      "image/png": "[encoded data removed]",
      "text/plain": [
       "<Figure size 432x288 with 2 Axes>"
      ]
     },
     "metadata": {
      "needs_background": "light"
     },
     "output_type": "display_data"
    }
   ],
   "source": [
    "# Compute and plot Confusion matrix \n",
    "\n",
    "Ypred = model.predict_classes(Xtest)\n",
    "cm = confusion_matrix(Y_test, Ypred, labels=[0,1,2])#, labels = words_selected)\n",
    "\n",
    "ax = heatmap(cm, annot=True, fmt='d', \n",
    "                     linewidths=.2, \n",
    "                     xticklabels=words_selected, \n",
    "                     yticklabels=words_selected)\n",
    "\n",
    "ax.set(xlabel='predicted',ylabel='observed')"
   ]
  },
  {
   "cell_type": "markdown",
   "metadata": {},
   "source": [
    "Looks like we are doing well with this model. Next we are going to save this model to the model catalog and later deploy it as an HTTP endpoint. "
   ]
  },
  {
   "cell_type": "markdown",
   "metadata": {},
   "source": [
    "# Save the model to the Model Catalog"
   ]
  },
  {
   "cell_type": "markdown",
   "metadata": {},
   "source": [
    "## Step 1: Publish your conda environment \n",
    "\n",
    "If you have: \n",
    "* modified a data science conda environment by adding a new library for example \n",
    "* created your own conda environment \n",
    "\n",
    "then you need to publish your conda environment. In the file `runtime.yaml` of the model artifact, we keep a reference of the conda environment that was used to train the model. That same conda environment can also be used as the inference environment used by the model deployment resource, if you decide to deploy the model later on. \n",
    "\n",
    "You can publish a conda by running the following `odsc conda` commands in the terminal or by executing the following cells. Initialize `odsc conda` first by providing a target bucket destination for your conda: "
   ]
  },
  {
   "cell_type": "code",
   "execution_count": 16,
   "metadata": {},
   "outputs": [],
   "source": [
    "# replace with your values: \n",
    "#!odsc conda init -b <YOUR_BUCKET_NAME> -n <YOUR_BUCKET_NAMESPACE>"
   ]
  },
  {
   "cell_type": "code",
   "execution_count": 17,
   "metadata": {},
   "outputs": [],
   "source": [
    "# specify the slugname of the installed conda environment that you want to publish: \n",
    "#!odsc conda publish -s <YOUR_INSTALLED_CONDA_SLUG>"
   ]
  },
  {
   "cell_type": "markdown",
   "metadata": {},
   "source": [
    "## Step 2: Prepare the model artifact\n",
    "\n",
    "First we want to prepare a model artifact. That artifact is a zip archive of the following: \n",
    "* **score.py**:  an inference file is used to load the model object to memory and call the inference endpoint of the model (i.e. predict())\n",
    "* **runtime.yaml**: a file describing the provenance of the model as well as providing a description of the runtime Conda environment of the model. This environment will be used in the upcoming OCI Data Science Model Deployment feature. \n",
    "* **your serialized model object**. This depends on the library you are using and the format you want to use. Models can be serialized as pickle (pkl) objects, ONNX, hdf5, json, pmml, etc. "
   ]
  },
  {
   "cell_type": "markdown",
   "metadata": {},
   "source": [
    "In the cell below, we are using the `prepare_generic_model()` function to generate a template model artifact. This function can handle any model trained with any ML library. You just have to fill in the blanks. The following files will be created under the `artifact_dir` directory: \n",
    "\n",
    "* `score.py`\n",
    "* `runtime.yaml`\n",
    "\n",
    "Since those are templates, next step will be to modify each file to ensure that our model can be saved to the catalog.  \n",
    "\n",
    "In the `prepare_generic_model()` call below, we set the value of `inference_conda_env` to be the published conda environment path on object storage.  The `inference_conda_env` parameters keep track of which conda to use for model deployment. This is the same environment we used for training. You can find the path on object storage directly in the Environment Explorer in the card of your published environment just like the following screenshot shows: "
   ]
  },
  {
   "cell_type": "code",
   "execution_count": 18,
   "metadata": {},
   "outputs": [],
   "source": [
    "model_path = \"./model-artifact\""
   ]
  },
  {
   "cell_type": "code",
   "execution_count": 19,
   "metadata": {},
   "outputs": [
    {
     "data": {
      "application/vnd.jupyter.widget-view+json": {
       "model_id": "",
       "version_major": 2,
       "version_minor": 0
      },
      "text/plain": [
       "HBox(children=(HTML(value='loop1'), FloatProgress(value=0.0, max=4.0), HTML(value='')))"
      ]
     },
     "metadata": {},
     "output_type": "display_data"
    }
   ],
   "source": [
    "artifact = prepare_generic_model(model_path,\n",
    "                                 function_artifacts=False, \n",
    "                                 force_overwrite=True,\n",
    "                                 inference_conda_env='oci://conda-env-ds@bigdatadatasciencelarge/conda_environments/cpu/speech-commands-with-deploy/1.0/speech-commands-with-deployv1_0')"
   ]
  },
  {
   "cell_type": "markdown",
   "metadata": {},
   "source": [
    "Let's save our Keras model first: "
   ]
  },
  {
   "cell_type": "code",
   "execution_count": 20,
   "metadata": {},
   "outputs": [],
   "source": [
    "model.save(os.path.join(model_path, \"cnn-speech.hdf5\"))"
   ]
  },
  {
   "cell_type": "markdown",
   "metadata": {},
   "source": [
    "And the mapping between classes and words: "
   ]
  },
  {
   "cell_type": "code",
   "execution_count": 21,
   "metadata": {},
   "outputs": [],
   "source": [
    "# Save that lookup dictionary to disk: \n",
    "pkl.dump(class_to_int, open(os.path.join(model_path,'class_label_lookup.pkl'),'wb'))"
   ]
  },
  {
   "cell_type": "markdown",
   "metadata": {},
   "source": [
    "Let's modify score.py to account for the data transformation waveform -> mfcc with librosa: "
   ]
  },
  {
   "cell_type": "code",
   "execution_count": 22,
   "metadata": {},
   "outputs": [
    {
     "name": "stdout",
     "output_type": "stream",
     "text": [
      "Overwriting ./model-artifact/score.py\n"
     ]
    }
   ],
   "source": [
    "%%writefile {model_path}/score.py \n",
    "\n",
    "import json\n",
    "import os\n",
    "import keras \n",
    "import numpy as np\n",
    "from keras.models import load_model as klm \n",
    "import librosa\n",
    "import pickle as pkl\n",
    "\n",
    "model_name = 'cnn-speech.hdf5'\n",
    "\n",
    "# load the lookup dictionary:\n",
    "words_selected = pkl.load(open('class_label_lookup.pkl','rb'))\n",
    "# do a reverse lookup:\n",
    "words_selected = { value: key for key, value in words_selected.items() }\n",
    "\n",
    "def load_model(model_file_name=model_name):\n",
    "    \"\"\"\n",
    "    Loads model from the serialized format\n",
    "\n",
    "    Returns\n",
    "    -------\n",
    "    model:  a model instance on which predict API can be invoked\n",
    "    \"\"\"\n",
    "    model_dir = os.path.dirname(os.path.realpath(__file__))\n",
    "    contents = os.listdir(model_dir)\n",
    "    if model_file_name in contents:\n",
    "        modelpath = os.path.join(os.path.dirname(os.path.realpath(__file__)), model_file_name)\n",
    "        tmp = klm(modelpath)\n",
    "        tmp._make_predict_function()\n",
    "        return tmp \n",
    "    else:\n",
    "        raise Exception('{0} is not found in model directory {1}'.format(model_file_name, model_dir))\n",
    "\n",
    "\n",
    "def predict(data, model=load_model()):\n",
    "    \"\"\"\n",
    "    Returns prediction given the model and data to predict\n",
    "\n",
    "    Parameters\n",
    "    ----------\n",
    "    model: Model instance returned by load_model API\n",
    "    data: Data format as expected by the predict API of the core estimator. For eg. in case of sckit models it could be numpy array/List of list/Panda DataFrame\n",
    "\n",
    "    Returns\n",
    "    -------\n",
    "    predictions: Output from scoring server\n",
    "        Format: {'prediction':output from model.predict method}\n",
    "\n",
    "    \"\"\"\n",
    "    \n",
    "    from pandas import read_json, DataFrame\n",
    "    from io import StringIO\n",
    "    #X = read_json(StringIO(data))\n",
    "    _ = json.loads(data)\n",
    "    waveform = _['input']\n",
    "    waveform = np.asarray(waveform)\n",
    "    max_size = 32\n",
    "    mfcc = librosa.feature.mfcc(waveform, sr=16000, n_mfcc=20)\n",
    "    mfcc = np.pad(mfcc, pad_width=((0, 0),(0, max_size-mfcc.shape[1])), mode='constant')\n",
    "    mfcc = mfcc.reshape(1,20,32,1)\n",
    "    class_value = model.predict_classes(mfcc)\n",
    "    return {'what-you-said-was': words_selected[class_value[0]]}"
   ]
  },
  {
   "cell_type": "markdown",
   "metadata": {},
   "source": [
    "## Testing the Artifact with Sample Payloads \n",
    "\n",
    "Here I use a sample waveform to test the artifact predict function: "
   ]
  },
  {
   "cell_type": "code",
   "execution_count": 23,
   "metadata": {},
   "outputs": [],
   "source": [
    "# directory where some sample wave files are located: \n",
    "sample_data_dir = '../data/'\n",
    "\n",
    "# filenames \n",
    "files = ['6b81fead_nohash_0.wav',\n",
    "         'ff2b842e_nohash_2.wav',\n",
    "         'ccb1266b_nohash_1.wav']"
   ]
  },
  {
   "cell_type": "code",
   "execution_count": 24,
   "metadata": {},
   "outputs": [],
   "source": [
    "waveform0, _ = librosa.load(sample_data_dir+files[0], mono=True, sr=None)\n",
    "waveform1, _ = librosa.load(sample_data_dir+files[1], mono=True, sr=None)\n",
    "waveform2, _ = librosa.load(sample_data_dir+files[2], mono=True, sr=None)"
   ]
  },
  {
   "cell_type": "code",
   "execution_count": 25,
   "metadata": {},
   "outputs": [],
   "source": [
    "payload = {\"input\": waveform0.tolist()}"
   ]
  },
  {
   "cell_type": "code",
   "execution_count": 26,
   "metadata": {},
   "outputs": [
    {
     "data": {
      "text/plain": [
       "{'what-you-said-was': 'cat'}"
      ]
     },
     "execution_count": 26,
     "metadata": {},
     "output_type": "execute_result"
    }
   ],
   "source": [
    "import sys\n",
    "sys.path.insert(0, model_path)\n",
    "\n",
    "from score import load_model, predict\n",
    "\n",
    "_ = load_model()\n",
    "predictions_test = predict(json.dumps(payload), _)\n",
    "predictions_test"
   ]
  },
  {
   "cell_type": "code",
   "execution_count": 27,
   "metadata": {},
   "outputs": [],
   "source": [
    "from io import StringIO\n",
    "tmp = json.dumps(payload)\n"
   ]
  },
  {
   "cell_type": "code",
   "execution_count": 28,
   "metadata": {},
   "outputs": [],
   "source": [
    "_ = json.loads(tmp)"
   ]
  },
  {
   "cell_type": "code",
   "execution_count": 29,
   "metadata": {},
   "outputs": [],
   "source": [
    "#from json import load, dumps\n",
    "#\n",
    "#with open(\"payload.json\", 'r') as f: \n",
    "#    payload = load(f)"
   ]
  },
  {
   "cell_type": "markdown",
   "metadata": {},
   "source": [
    "# Saving the Model to the Catalog \n",
    "\n",
    "We are now ready to save the artifact to the catalog: "
   ]
  },
  {
   "cell_type": "code",
   "execution_count": 30,
   "metadata": {},
   "outputs": [],
   "source": [
    "# using resource principal to authenticate to the model catalog: \n",
    "ads.set_auth(auth='resource_principal')\n",
    "\n",
    "compartment_id = os.environ['NB_SESSION_COMPARTMENT_OCID']\n",
    "project_id = os.environ[\"PROJECT_OCID\"]"
   ]
  },
  {
   "cell_type": "code",
   "execution_count": 31,
   "metadata": {},
   "outputs": [
    {
     "name": "stdout",
     "output_type": "stream",
     "text": [
      "INFO:ADS:{\n",
      "  \"git_branch\": \"None\",\n",
      "  \"git_commit\": \"None\",\n",
      "  \"repository_url\": \"None\",\n",
      "  \"script_dir\": \"/home/datascience/demos/speech-commmands/notebooks/model-artifact\",\n",
      "  \"training_script\": \"None\"\n",
      "}\n"
     ]
    },
    {
     "data": {
      "application/vnd.jupyter.widget-view+json": {
       "model_id": "",
       "version_major": 2,
       "version_minor": 0
      },
      "text/plain": [
       "HBox(children=(HTML(value='loop1'), FloatProgress(value=0.0, max=4.0), HTML(value='')))"
      ]
     },
     "metadata": {},
     "output_type": "display_data"
    },
    {
     "data": {
      "text/html": [
       "<style  type=\"text/css\" >\n",
       "#T_3f56a39a_8c21_11eb_b4f1_0242ac130002row0_col0,#T_3f56a39a_8c21_11eb_b4f1_0242ac130002row1_col0,#T_3f56a39a_8c21_11eb_b4f1_0242ac130002row2_col0,#T_3f56a39a_8c21_11eb_b4f1_0242ac130002row3_col0,#T_3f56a39a_8c21_11eb_b4f1_0242ac130002row4_col0,#T_3f56a39a_8c21_11eb_b4f1_0242ac130002row5_col0,#T_3f56a39a_8c21_11eb_b4f1_0242ac130002row6_col0,#T_3f56a39a_8c21_11eb_b4f1_0242ac130002row7_col0,#T_3f56a39a_8c21_11eb_b4f1_0242ac130002row8_col0,#T_3f56a39a_8c21_11eb_b4f1_0242ac130002row9_col0,#T_3f56a39a_8c21_11eb_b4f1_0242ac130002row10_col0,#T_3f56a39a_8c21_11eb_b4f1_0242ac130002row11_col0,#T_3f56a39a_8c21_11eb_b4f1_0242ac130002row12_col0,#T_3f56a39a_8c21_11eb_b4f1_0242ac130002row13_col0,#T_3f56a39a_8c21_11eb_b4f1_0242ac130002row14_col0,#T_3f56a39a_8c21_11eb_b4f1_0242ac130002row15_col0{\n",
       "            margin-left:  0px;\n",
       "        }</style><table id=\"T_3f56a39a_8c21_11eb_b4f1_0242ac130002\" ><thead>    <tr>        <th class=\"blank level0\" ></th>        <th class=\"col_heading level0 col0\" ></th>    </tr></thead><tbody>\n",
       "                <tr>\n",
       "                        <th id=\"T_3f56a39a_8c21_11eb_b4f1_0242ac130002level0_row0\" class=\"row_heading level0 row0\" >id</th>\n",
       "                        <td id=\"T_3f56a39a_8c21_11eb_b4f1_0242ac130002row0_col0\" class=\"data row0 col0\" >ocid1.datasciencemodel.oc1.iad.amaaaaaanif7xwiaxkkrtqyn6vqgzgu67fqmvtyze6j4xypoudbketktvhiq</td>\n",
       "            </tr>\n",
       "            <tr>\n",
       "                        <th id=\"T_3f56a39a_8c21_11eb_b4f1_0242ac130002level0_row1\" class=\"row_heading level0 row1\" >compartment_id</th>\n",
       "                        <td id=\"T_3f56a39a_8c21_11eb_b4f1_0242ac130002row1_col0\" class=\"data row1 col0\" >ocid1.compartment.oc1..aaaaaaaalcio324mqxi6egudwmc2wzix3yclcysmmji4cggvnj4b5timvw2q</td>\n",
       "            </tr>\n",
       "            <tr>\n",
       "                        <th id=\"T_3f56a39a_8c21_11eb_b4f1_0242ac130002level0_row2\" class=\"row_heading level0 row2\" >project_id</th>\n",
       "                        <td id=\"T_3f56a39a_8c21_11eb_b4f1_0242ac130002row2_col0\" class=\"data row2 col0\" >ocid1.datascienceproject.oc1.iad.amaaaaaanif7xwiaot7v42xns7rha7cfvno76gzn4n2yhknw5c4i3jo5wpfq</td>\n",
       "            </tr>\n",
       "            <tr>\n",
       "                        <th id=\"T_3f56a39a_8c21_11eb_b4f1_0242ac130002level0_row3\" class=\"row_heading level0 row3\" >display_name</th>\n",
       "                        <td id=\"T_3f56a39a_8c21_11eb_b4f1_0242ac130002row3_col0\" class=\"data row3 col0\" >cnn-speech-commands</td>\n",
       "            </tr>\n",
       "            <tr>\n",
       "                        <th id=\"T_3f56a39a_8c21_11eb_b4f1_0242ac130002level0_row4\" class=\"row_heading level0 row4\" >description</th>\n",
       "                        <td id=\"T_3f56a39a_8c21_11eb_b4f1_0242ac130002row4_col0\" class=\"data row4 col0\" >Simple CNN model to classify speech commands</td>\n",
       "            </tr>\n",
       "            <tr>\n",
       "                        <th id=\"T_3f56a39a_8c21_11eb_b4f1_0242ac130002level0_row5\" class=\"row_heading level0 row5\" >lifecycle_state</th>\n",
       "                        <td id=\"T_3f56a39a_8c21_11eb_b4f1_0242ac130002row5_col0\" class=\"data row5 col0\" >ACTIVE</td>\n",
       "            </tr>\n",
       "            <tr>\n",
       "                        <th id=\"T_3f56a39a_8c21_11eb_b4f1_0242ac130002level0_row6\" class=\"row_heading level0 row6\" >time_created</th>\n",
       "                        <td id=\"T_3f56a39a_8c21_11eb_b4f1_0242ac130002row6_col0\" class=\"data row6 col0\" >2021-03-23 21:46:37.593000+00:00</td>\n",
       "            </tr>\n",
       "            <tr>\n",
       "                        <th id=\"T_3f56a39a_8c21_11eb_b4f1_0242ac130002level0_row7\" class=\"row_heading level0 row7\" >created_by</th>\n",
       "                        <td id=\"T_3f56a39a_8c21_11eb_b4f1_0242ac130002row7_col0\" class=\"data row7 col0\" >ocid1.datasciencenotebooksession.oc1.iad.amaaaaaanif7xwiaa3o52rhzybjx3djdga75hl2ehkpgpvxduq65bfarfo2a</td>\n",
       "            </tr>\n",
       "            <tr>\n",
       "                        <th id=\"T_3f56a39a_8c21_11eb_b4f1_0242ac130002level0_row8\" class=\"row_heading level0 row8\" >freeform_tags</th>\n",
       "                        <td id=\"T_3f56a39a_8c21_11eb_b4f1_0242ac130002row8_col0\" class=\"data row8 col0\" >{}</td>\n",
       "            </tr>\n",
       "            <tr>\n",
       "                        <th id=\"T_3f56a39a_8c21_11eb_b4f1_0242ac130002level0_row9\" class=\"row_heading level0 row9\" >defined_tags</th>\n",
       "                        <td id=\"T_3f56a39a_8c21_11eb_b4f1_0242ac130002row9_col0\" class=\"data row9 col0\" >{'Oracle-Tags': {'CreatedBy': 'ocid1.datasciencenotebooksession.oc1.iad.amaaaaaanif7xwiaa3o52rhzybjx3djdga75hl2ehkpgpvxduq65bfarfo2a', 'CreatedOn': '2021-03-23T21:46:37.128Z'}}</td>\n",
       "            </tr>\n",
       "            <tr>\n",
       "                        <th id=\"T_3f56a39a_8c21_11eb_b4f1_0242ac130002level0_row10\" class=\"row_heading level0 row10\" >user_name</th>\n",
       "                        <td id=\"T_3f56a39a_8c21_11eb_b4f1_0242ac130002row10_col0\" class=\"data row10 col0\" ></td>\n",
       "            </tr>\n",
       "            <tr>\n",
       "                        <th id=\"T_3f56a39a_8c21_11eb_b4f1_0242ac130002level0_row11\" class=\"row_heading level0 row11\" >repository_url</th>\n",
       "                        <td id=\"T_3f56a39a_8c21_11eb_b4f1_0242ac130002row11_col0\" class=\"data row11 col0\" >None</td>\n",
       "            </tr>\n",
       "            <tr>\n",
       "                        <th id=\"T_3f56a39a_8c21_11eb_b4f1_0242ac130002level0_row12\" class=\"row_heading level0 row12\" >git_branch</th>\n",
       "                        <td id=\"T_3f56a39a_8c21_11eb_b4f1_0242ac130002row12_col0\" class=\"data row12 col0\" >None</td>\n",
       "            </tr>\n",
       "            <tr>\n",
       "                        <th id=\"T_3f56a39a_8c21_11eb_b4f1_0242ac130002level0_row13\" class=\"row_heading level0 row13\" >git_commit</th>\n",
       "                        <td id=\"T_3f56a39a_8c21_11eb_b4f1_0242ac130002row13_col0\" class=\"data row13 col0\" >None</td>\n",
       "            </tr>\n",
       "            <tr>\n",
       "                        <th id=\"T_3f56a39a_8c21_11eb_b4f1_0242ac130002level0_row14\" class=\"row_heading level0 row14\" >script_dir</th>\n",
       "                        <td id=\"T_3f56a39a_8c21_11eb_b4f1_0242ac130002row14_col0\" class=\"data row14 col0\" >/home/datascience/demos/speech-commmands/notebooks/model-artifact</td>\n",
       "            </tr>\n",
       "            <tr>\n",
       "                        <th id=\"T_3f56a39a_8c21_11eb_b4f1_0242ac130002level0_row15\" class=\"row_heading level0 row15\" >training_script</th>\n",
       "                        <td id=\"T_3f56a39a_8c21_11eb_b4f1_0242ac130002row15_col0\" class=\"data row15 col0\" >None</td>\n",
       "            </tr>\n",
       "    </tbody></table>"
      ],
      "text/plain": [
       "{\n",
       "  \"compartment_id\": \"ocid1.compartment.oc1..aaaaaaaalcio324mqxi6egudwmc2wzix3yclcysmmji4cggvnj4b5timvw2q\",\n",
       "  \"created_by\": \"ocid1.datasciencenotebooksession.oc1.iad.amaaaaaanif7xwiaa3o52rhzybjx3djdga75hl2ehkpgpvxduq65bfarfo2a\",\n",
       "  \"defined_tags\": {\n",
       "    \"Oracle-Tags\": {\n",
       "      \"CreatedBy\": \"ocid1.datasciencenotebooksession.oc1.iad.amaaaaaanif7xwiaa3o52rhzybjx3djdga75hl2ehkpgpvxduq65bfarfo2a\",\n",
       "      \"CreatedOn\": \"2021-03-23T21:46:37.128Z\"\n",
       "    }\n",
       "  },\n",
       "  \"description\": \"Simple CNN model to classify speech commands\",\n",
       "  \"display_name\": \"cnn-speech-commands\",\n",
       "  \"freeform_tags\": {},\n",
       "  \"id\": \"ocid1.datasciencemodel.oc1.iad.amaaaaaanif7xwiaxkkrtqyn6vqgzgu67fqmvtyze6j4xypoudbketktvhiq\",\n",
       "  \"lifecycle_state\": \"ACTIVE\",\n",
       "  \"project_id\": \"ocid1.datascienceproject.oc1.iad.amaaaaaanif7xwiaot7v42xns7rha7cfvno76gzn4n2yhknw5c4i3jo5wpfq\",\n",
       "  \"time_created\": \"2021-03-23T21:46:37.593000+00:00\",\n",
       "  \"user_name\": \"\"\n",
       "}"
      ]
     },
     "execution_count": 31,
     "metadata": {},
     "output_type": "execute_result"
    }
   ],
   "source": [
    "mc_model = artifact.save(project_id=project_id, \n",
    "                         compartment_id=compartment_id, \n",
    "                         display_name=\"cnn-speech-commands\",\n",
    "                         description=f\"Simple CNN model to classify speech commands\",\n",
    "                         ignore_pending_changes=True)\n",
    "mc_model"
   ]
  },
  {
   "cell_type": "markdown",
   "metadata": {},
   "source": [
    "# Create a Model Deployment\n",
    "\n",
    "Here you have a couple of options. You can either create a model deployment directly in the console or do it programmatically via the OCI Python SDK. \n",
    "\n",
    "The cells below walk you through the programmatic deployment. If you decide to create the deployment in the console, you can skip this section and go to the \"Invoking the Deployed Model `/predict` Endpoint\" section  "
   ]
  },
  {
   "cell_type": "code",
   "execution_count": 32,
   "metadata": {},
   "outputs": [],
   "source": [
    "import oci \n",
    "from oci.data_science import DataScienceClient, DataScienceClientCompositeOperations\n",
    "\n",
    "from oci.data_science.models import ModelConfigurationDetails, InstanceConfiguration, \\\n",
    "                                    FixedSizeScalingPolicy, CategoryLogDetails, LogDetails, \\\n",
    "                                    SingleModelDeploymentConfigurationDetails, CreateModelDeploymentDetails"
   ]
  },
  {
   "cell_type": "code",
   "execution_count": 33,
   "metadata": {},
   "outputs": [],
   "source": [
    "# using resource principals\n",
    "auth = oci.auth.signers.get_resource_principals_signer()\n",
    "data_science = DataScienceClient({}, signer=auth)\n",
    "\n",
    "# OR the config + pem authn flow: \n",
    "#oci_config = oci.config.from_file('~/.oci/config', \"DEFAULT\")\n",
    "#data_science = DataScienceClient(oci_config)"
   ]
  },
  {
   "cell_type": "code",
   "execution_count": 34,
   "metadata": {},
   "outputs": [],
   "source": [
    "# Configuration of the model: \n",
    "# We deploy the sklearn model we saved to the model catalog in this notebook (catalog_entry.id)\n",
    "# You can change the shape, instance_count, or the bandwidth of the load balancer (in Mbps)\n",
    "model_configuration_details_object = ModelConfigurationDetails(model_id=mc_model.id,\n",
    "                                                               instance_configuration=InstanceConfiguration(instance_shape_name='VM.Standard2.1'),\n",
    "                                                               scaling_policy=FixedSizeScalingPolicy(instance_count=1),\n",
    "                                                               bandwidth_mbps=10)\n",
    "\n",
    "# Single Model Deployment Configuration\n",
    "# Includes info about the deployment type and the model configuration details: \n",
    "# At the moment, only deployment+type='SINGLE_MODEL' is supported. \n",
    "single_model_config = SingleModelDeploymentConfigurationDetails(deployment_type='SINGLE_MODEL',\n",
    "                                                                model_configuration_details=model_configuration_details_object)\n",
    "\n",
    "\n",
    "# OPTIONAL - Configuration of the access and predict logs. \n",
    "# Make sure you have the proper policy in place to allow model deployment to emit predict/access logs. For example: \n",
    "# allow any-user to use log-content in tenancy where ALL {request.principal.type = 'datasciencemodeldeployment'}\n",
    "logging_config = False\n",
    "if logging_config: \n",
    "\n",
    "    access_log_group_id = \"<your-log-group-id>\"\n",
    "    access_log_id = \"<your-log-id>\"\n",
    "    predict_log_group_id = \"<your-log-group-id>\"\n",
    "    predict_log_id = \"<your-log-id>\"\n",
    "\n",
    "    logs_configuration_details_object = CategoryLogDetails(access=LogDetails(log_group_id=access_log_group_id,\n",
    "                                                                             log_id=access_log_id),\n",
    "                                                           predict=LogDetails(log_group_id=predict_log_group_id,\n",
    "                                                                             log_id=predict_log_id))\n",
    "else: \n",
    "    logs_configuration_details_object = {}\n",
    "\n",
    "\n",
    "# Wrapping all of these configs into a model deploy configuration: \n",
    "# Replace with your own values for display_name, description, project, and compartment OCIDs \n",
    "model_deploy_configuration = CreateModelDeploymentDetails(display_name='speech-commands',\n",
    "                                                          description='speech commands classification model',\n",
    "                                                          project_id=os.environ['PROJECT_OCID'],\n",
    "                                                          compartment_id=os.environ['NB_SESSION_COMPARTMENT_OCID'],\n",
    "                                                          model_deployment_configuration_details=single_model_config,\n",
    "                                                          category_log_details=logs_configuration_details_object)"
   ]
  },
  {
   "cell_type": "code",
   "execution_count": 35,
   "metadata": {},
   "outputs": [],
   "source": [
    "# Creating a model deployment. This action takes a few minutes\n",
    "\n",
    "data_science_composite = DataScienceClientCompositeOperations(data_science)\n",
    "model_deployment = data_science_composite.create_model_deployment_and_wait_for_state(model_deploy_configuration, \n",
    "                                                                                     wait_for_states=[\"SUCCEEDED\", \"FAILED\"])"
   ]
  },
  {
   "cell_type": "markdown",
   "metadata": {},
   "source": [
    "# Invoking the Deployed Model `/predict` Endpoint \n",
    "\n",
    "Last step is to invoke/call the model endpoint. Here again you can pick between resource principals or the config+key authn flow. "
   ]
  },
  {
   "cell_type": "code",
   "execution_count": 36,
   "metadata": {},
   "outputs": [],
   "source": [
    "import requests\n",
    "import oci\n",
    "from oci.signer import Signer"
   ]
  },
  {
   "cell_type": "code",
   "execution_count": 40,
   "metadata": {},
   "outputs": [
    {
     "name": "stdout",
     "output_type": "stream",
     "text": [
      "https://modeldeployment.us-ashburn-1.oci.customer-oci.com/ocid1.datasciencemodeldeployment.oc1.iad.amaaaaaanif7xwiapgjmhlfauewhafdlban6qlfni76jjhuju2ofqwehi6wq/predict\n"
     ]
    }
   ],
   "source": [
    "# model deployment endpoint. Here we assume that the notebook region is the same as the region where the model deployment occurs.\n",
    "# Alternatively you can also go in the details page of your model deployment in the OCI console. Under \"Invoke Your Model\", you will find the HTTP endpoint \n",
    "# of your model. \n",
    "#uri = f\"https://modeldeployment.{os.environ['NB_REGION']}.oci.customer-oci.com/{model_deployment.data.resources[0].identifier}/predict\"\n",
    "uri = f\"https://modeldeployment.us-ashburn-1.oci.customer-oci.com/ocid1.datasciencemodeldeployment.oc1.iad.amaaaaaanif7xwiapgjmhlfauewhafdlban6qlfni76jjhuju2ofqwehi6wq/predict\"\n",
    "print(uri)"
   ]
  },
  {
   "cell_type": "code",
   "execution_count": 41,
   "metadata": {},
   "outputs": [],
   "source": [
    "# Using Resource principal to authenticate against the model endpoint. Set using_rps=False if you are using \n",
    "# the config+key flow. \n",
    "using_rps = True\n",
    "endpoint = uri\n",
    "\n",
    "# payload: \n",
    "payload = {\"input\": waveform0.tolist()}\n",
    "input_data = json.dumps(payload)\n",
    "\n",
    "if using_rps: # using resource principal:     \n",
    "    auth = oci.auth.signers.get_resource_principals_signer()\n",
    "else: # using config + key: \n",
    "    config = oci.config.from_file(\"~/.oci/config\") # replace with the location of your oci config file\n",
    "    auth = Signer(\n",
    "        tenancy=config['tenancy'],\n",
    "        user=config['user'],\n",
    "        fingerprint=config['fingerprint'],\n",
    "        private_key_file_location=config['key_file'],\n",
    "        pass_phrase=config['pass_phrase'])"
   ]
  },
  {
   "cell_type": "code",
   "execution_count": 42,
   "metadata": {},
   "outputs": [
    {
     "name": "stdout",
     "output_type": "stream",
     "text": [
      "CPU times: user 36 ms, sys: 4.16 ms, total: 40.1 ms\n",
      "Wall time: 1.02 s\n"
     ]
    },
    {
     "data": {
      "text/plain": [
       "{'what-you-said-was': 'cat'}"
      ]
     },
     "execution_count": 42,
     "metadata": {},
     "output_type": "execute_result"
    }
   ],
   "source": [
    "%%time\n",
    "    \n",
    "# submit request to model endpoint: \n",
    "requests.post(endpoint, json=input_data, auth=auth).json()"
   ]
  },
  {
   "cell_type": "markdown",
   "metadata": {},
   "source": [
    "# What Next?\n",
    "\n",
    "You can experiment and expand on the model trained in this notebook. Here are a few areas to explore: \n",
    "\n",
    "* increase the number of classes. Try to classify 10+ words \n",
    "* add noise to your examples. Create a more robust classifier. \n",
    "* try different CNN architectures \n",
    "* include an \"other\" class\n",
    "* include a \"silence\" class"
   ]
  },
  {
   "cell_type": "markdown",
   "metadata": {},
   "source": [
    "# References \n",
    "\n",
    "* Warden, P. 2018, \"Speech Commands: A Dataset for Limited-Vocabulary Speech Recognition\", [arXiv:1804.03209](https://arxiv.org/abs/1804.03209)\n",
    "* Sainath, T.N., Parada, C. 2015 [\"Convolutional Neural Networks for Small-footprint Keyword Spotting\"]( https://static.googleusercontent.com/media/research.google.com/en//pubs/archive/43969.pdf)"
   ]
  },
  {
   "cell_type": "markdown",
   "metadata": {},
   "source": [
    "# Appendix"
   ]
  },
  {
   "cell_type": "markdown",
   "metadata": {},
   "source": [
    "Here's the network architecture for reference. \n",
    "\n",
    "![network-architecture](https://user-images.githubusercontent.com/5395649/46776515-cb378280-ccc0-11e8-8dcb-84db4156e981.png)"
   ]
  },
  {
   "cell_type": "markdown",
   "metadata": {},
   "source": [
    "Below is a function I took directly from the `README` file that came with the dataset. This is a very useful function that ensures testing/validation data does not make its way in the training dataset. We will be using it to assign the sample (training, validation, testing) to which each audio clip belongs. "
   ]
  },
  {
   "cell_type": "code",
   "execution_count": null,
   "metadata": {},
   "outputs": [],
   "source": [
    "# From Warden (2018) : https://arxiv.org/abs/1804.03209\n",
    "\n",
    "def which_set(filename, validation_percentage, testing_percentage):\n",
    "    \"\"\"Determines which data partition the file should belong to.\n",
    "    We want to keep files in the same training, validation, or testing sets even\n",
    "    if new ones are added over time. This makes it less likely that testing\n",
    "    samples will accidentally be reused in training when long runs are restarted \n",
    "    for example. To keep this stability, a hash of the filename is taken and used \n",
    "    to determine which set it should belong to. This determination only depends on \n",
    "    the name and the set proportions, so it won't change as other files are added.\n",
    "    \n",
    "    It's also useful to associate particular files as related (for example words \n",
    "    spoken by the same person), so anything after '_nohash_' in a filename is \n",
    "    ignored for set determination. This ensures that 'bobby_nohash_0.wav' and \n",
    "    'bobby_nohash_1.wav' are always in the same set, for example.\n",
    "    \n",
    "    Args\n",
    "    filename: File path of the data sample.\n",
    "    validation_percentage: How much of the data set to use for validation.\n",
    "    testing_percentage: How much of the data set to use for testing.\n",
    "    \n",
    "    Returns:\n",
    "    String, one of 'training', 'validation', or 'testing'.\n",
    "    \"\"\"\n",
    "    base_name = os.path.basename(filename)\n",
    "    #print(base_name)\n",
    "    # We want to ignore anything after '_nohash_' in the file name when\n",
    "    # deciding which set to put a wav in, so the data set creator has a way of\n",
    "    # grouping wavs that are close variations of each other.\n",
    "    hash_name = re.sub(r'_nohash_.*$', '', base_name).encode('utf-8')\n",
    "    # This looks a bit magical, but we need to decide whether this file should\n",
    "    # go into the training, testing, or validation sets, and we want to keep\n",
    "    # existing files in the same set even if more files are subsequently\n",
    "    # added.\n",
    "    # To do that, we need a stable way of deciding based on just the file name\n",
    "    # itself, so we do a hash of that and then use that to generate a\n",
    "    # probability value that we use to assign it. \n",
    "    hash_name_hashed = hashlib.sha1(hash_name).hexdigest() \n",
    "    percentage_hash = ((int(hash_name_hashed, 16) %\n",
    "                      (MAX_NUM_WAVS_PER_CLASS + 1)) *\n",
    "                     (100.0 / MAX_NUM_WAVS_PER_CLASS)) \n",
    "    if percentage_hash < validation_percentage:\n",
    "        result = 'validation'\n",
    "    elif percentage_hash < (testing_percentage + validation_percentage):\n",
    "        result = 'testing'\n",
    "    else:\n",
    "        result = 'training'\n",
    "    return result"
   ]
  },
  {
   "cell_type": "markdown",
   "metadata": {},
   "source": [
    "Below is the data transformation that we apply to each audio clip before feeding the clip to the CNN model. Take a look at the [intro notebook](1-intro-to-audio-data.ipynb) where we discuss spectrogram and MFCCs. "
   ]
  },
  {
   "cell_type": "code",
   "execution_count": null,
   "metadata": {},
   "outputs": [],
   "source": [
    "def data_processing(filepath, max_len=32):\n",
    "    \"\"\" Compute MFCCs for a given clip\n",
    "    \n",
    "    Args: \n",
    "        - filepath (str) : path of the wav file to analyze. \n",
    "        - max_len (int) : \n",
    "        \n",
    "    Returns: \n",
    "        - Mel-frequency cepstral coefficients array. \n",
    "    \"\"\"\n",
    "    \n",
    "    # Here we are loading the audio clip using librosa.\n",
    "    waveform, sampling_rate = librosa.load(filepath, mono=True, sr=None)\n",
    "    # compute the Mel-frequency cepstral coefficients. n_mfcc \n",
    "    # represents the number of coefficients to return. \n",
    "    mfcc = librosa.feature.mfcc(waveform, sr=16000, n_mfcc=20)\n",
    "    \n",
    "    # Not all clips have the same duration. Padding along the time dimension to \n",
    "    # ensure each clip has the same dimensions. Each image fed to the CNN needs \n",
    "    # to have the same dimensions. \n",
    "    mfcc = np.pad(mfcc, pad_width=((0, 0),(0, max_len-mfcc.shape[1])), mode='constant')\n",
    "    return mfcc "
   ]
  }
 ],
 "metadata": {
  "anaconda-cloud": {},
  "kernelspec": {
   "display_name": "Python [conda env:speech-commands-with-deployv1_0]",
   "language": "python",
   "name": "conda-env-speech-commands-with-deployv1_0-py"
  },
  "language_info": {
   "codemirror_mode": {
    "name": "ipython",
    "version": 3
   },
   "file_extension": ".py",
   "mimetype": "text/x-python",
   "name": "python",
   "nbconvert_exporter": "python",
   "pygments_lexer": "ipython3",
   "version": "3.6.11"
  },
  "varInspector": {
   "cols": {
    "lenName": 16,
    "lenType": 16,
    "lenVar": 40
   },
   "kernels_config": {
    "python": {
     "delete_cmd_postfix": "",
     "delete_cmd_prefix": "del ",
     "library": "var_list.py",
     "varRefreshCmd": "print(var_dic_list())"
    },
    "r": {
     "delete_cmd_postfix": ") ",
     "delete_cmd_prefix": "rm(",
     "library": "var_list.r",
     "varRefreshCmd": "cat(var_dic_list()) "
    }
   },
   "types_to_exclude": [
    "module",
    "function",
    "builtin_function_or_method",
    "instance",
    "_Feature"
   ],
   "window_display": false
  }
 },
 "nbformat": 4,
 "nbformat_minor": 4
}
