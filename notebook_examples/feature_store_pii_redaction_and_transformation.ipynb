{
 "cells": [
  {
   "cell_type": "raw",
   "id": "bcf2f36c",
   "metadata": {},
   "source": [
    "qweews@notebook{feature_store_pii_redaction_and_transformation.ipynb,\n",
    "    title: Use feature store to perform PII data redaction, summarization, translation using openai,\n",
    "    summary: Use feature store to perform PII data redaction, summarization, translation using openai.,\n",
    "    developed_on: pyspark32_p38_cpu_feature_store_v1,\n",
    "    keywords: feature store, querying,\n",
    "    license: Universal Permissive License v 1.0\n",
    "}"
   ]
  },
  {
   "cell_type": "code",
   "execution_count": null,
   "id": "47ccedc2",
   "metadata": {
    "ExecuteTime": {
     "end_time": "2023-05-24T08:26:08.572567Z",
     "start_time": "2023-05-24T08:26:08.328013Z"
    }
   },
   "outputs": [],
   "source": [
    "!odsc conda install -s fspyspark32_p38_cpu_v2"
   ]
  },
  {
   "cell_type": "markdown",
   "id": "6d9a9ef0",
   "metadata": {},
   "source": [
    "Oracle Data Science service sample notebook.\n",
    "\n",
    "Copyright (c) 2022 Oracle, Inc. All rights reserved. Licensed under the [Universal Permissive License v 1.0](https://oss.oracle.com/licenses/upl).\n",
    "\n",
    "***\n",
    "\n",
    "# <font color=\"red\">PII Data redaction, Summarise Content and Translate content using doctran and open AI</font>\n",
    "<p style=\"margin-left:10%; margin-right:10%;\">by the <font color=\"teal\">Oracle Cloud Infrastructure Data Science Service.</font></p>\n",
    "\n",
    "---\n",
    "# Overview:\n",
    "---\n",
    "One way to think of Doctran is a LLM-powered black box where messy strings go in and nice, clean, labelled strings come out. Another way to think about it is a modular, declarative wrapper over OpenAI's functional calling feature that significantly improves the developer experience.\n",
    "\n",
    "Benefits of Data Transformation:\n",
    "\n",
    "1. **Redact**: Uses a spaCy model to remove names, emails, phone numbers and other sensitive information from a document. Runs locally to avoid sending sensitive data to third party APIs.\n",
    "2. **Summarize**: Summarize the information in a document. token_limit may be passed to configure the size of the summary, however it may not be respected by OpenAI.\n",
    "3. **Flexibility**: Remove all information from a document unless it's related to a specific set of topics.\n",
    "4. **Translate**: Translates text into another language.\n",
    "5. **Interrogate**: Convert information in a document into question and answer format. End user queries often take the form of a question, so converting information into questions and creating indexes from these questions often yields better results when using a vector database for context retrieval.\n",
    "\n",
    "Compatible conda pack: [PySpark 3.2 and Feature store](https://docs.oracle.com/iaas/data-science/using/conda-pyspark-fam.htm) for CPU on Python 3.8\n",
    "\n",
    "## Contents:\n",
    "\n",
    "- <a href=\"#concepts\">1. Introduction</a>\n",
    "- <a href='#pre-requisites'>1. Pre-requisites</a>\n",
    "    - <a href='#policies'>2.1 Policies</a>\n",
    "    - <a href='#prerequisites_authentication'>2.2 Authentication</a>\n",
    "    - <a href='#prerequisites_variables'>2.3 Variables</a>\n",
    "- <a href='#featurestore_querying'>3. Feature store querying</a>\n",
    "    - <a href='#data_exploration'>3.1. Exploration of data in feature store</a>\n",
    "    - <a href='#load_featuregroup'>3.2. Load feature groups</a>\n",
    "    - <a href='#explore_featuregroup'>3.3. Explore feature groups</a>\n",
    "    - <a href='#select_subset_featuregroup'>3.4. Select subset of features</a>\n",
    "    - <a href='#filter_featuregroup'>3.5. Filter feature groups</a>\n",
    "    - <a href='#join_featuregroup'>3.6. Apply joins on feature group</a>\n",
    "    - <a href='#create_dataset'>3.7. Create dataset from multiple or one feature group</a>\n",
    "    - <a href='#sql_query'>3.8 Free form sql query</a>\n",
    "- <a href='#ref'>4. References</a>\n",
    "\n",
    "---\n",
    "\n",
    "**Important:**\n",
    "\n",
    "Placeholder text for required values are surrounded by angle brackets that must be removed when adding the indicated content. For example, when adding a database name to `database_name = \"<database_name>\"` would become `database_name = \"production\"`.\n",
    "\n",
    "---"
   ]
  },
  {
   "cell_type": "markdown",
   "id": "792187bf",
   "metadata": {},
   "source": [
    "<a id=\"concepts\"></a>\n",
    "# 1. Introduction\n",
    "\n",
    "Oracle feature store is a stack based solution that is deployed in the customer enclave using OCI resource manager. Customer can stand up the service with infrastructure in their own tenancy. The service consists of API which are deployed in customer tenancy using resource manager.\n",
    "\n",
    "The following are some key terms that will help you understand OCI Data Science Feature Store:\n",
    "\n",
    "\n",
    "* **Feature Vector**: Set of feature values for any one primary/identifier key. Eg. All/subset of features of customer id ‘2536’ can be called as one feature vector.\n",
    "\n",
    "* **Feature**: A feature is an individual measurable property or characteristic of a phenomenon being observed.\n",
    "\n",
    "* **Entity**: An entity is a group of semantically related features. The first step a consumer of features would typically do when accessing the feature store service is to list the entities and the entities associated features. Another way to look at it is that an entity is an object or concept that is described by its features. Examples of entities could be customer, product, transaction, review, image, document, etc.\n",
    "\n",
    "* **Feature Group**: A feature group in a feature store is a collection of related features that are often used together in ml models. It serves as an organizational unit within the feature store for users to manage, version and share features across different ml projects. By organizing features into groups, data scientists and ml engineers can efficiently discover, reuse and collaborate on features reducing the redundant work and ensuring consistency in feature engineering.\n",
    "\n",
    "* **Feature Group Job**: Feature group job is the execution instance of a feature group. Each feature group job will include validation results and statistics results.\n",
    "\n",
    "* **Dataset**: A dataset is a collection of feature that are used together to either train a model or perform model inference.\n",
    "\n",
    "* **Dataset Job**: Dataset job is the execution instance of a dataset. Each dataset job will include validation results and statistics results."
   ]
  },
  {
   "cell_type": "markdown",
   "id": "cf4a4f31",
   "metadata": {},
   "source": [
    "<a id='pre-requisites'></a>\n",
    "# 2. Pre-requisites\n",
    "\n",
    "Data Flow Sessions are accessible through the following conda environment:\n",
    "\n",
    "* **PySpark 3.2, Feature store 1.0 and Data Flow 1.0 (fs_pyspark32_p38_cpu_v1)**\n",
    "\n",
    "The [Data Catalog Hive Metastore](https://docs.oracle.com/en-us/iaas/data-catalog/using/metastore.htm) provides schema definitions for objects in structured and unstructured data assets. The Metastore is the central metadata repository to understand tables backed by files on object storage. You can customize `fs_pyspark32_p38_cpu_v1`, publish it, and use it as a runtime environment for a Data Flow session cluster. The metastore id of hive metastore is tied to feature store construct of feature store service.\n"
   ]
  },
  {
   "cell_type": "markdown",
   "id": "5c854c9a",
   "metadata": {},
   "source": [
    "<a id='setup_spark-defaults'></a>\n",
    "### `spark-defaults.conf`\n",
    "\n",
    "The `spark-defaults.conf` file is used to define the properties that are used by Spark. A templated version is installed when you install a Data Science conda environment that supports PySpark. However, you must update the template so that the Data Catalog metastore can be accessed. You can do this manually. However, the `odsc data-catalog config` commandline tool is ideal for setting up the file because it gathers information about your environment, and uses that to build the file.\n",
    "\n",
    "The `odsc data-catalog config` command line tool needs the `--metastore` option to define the Data Catalog metastore OCID. No other command line option is needed because settings have default values, or they take values from your notebook session environment. Following are common parameters that you may need to override.\n",
    "\n",
    "The `--authentication` option sets the authentication mode. It supports resource principal and API keys. The preferred method for authentication is resource principal, which is sent with `--authentication resource_principal`. If you want to use API keys, then use the `--authentication api_key` option. If the `--authentication` isn't specified, API keys are used. When API keys are used, information from the OCI configuration file is used to create the `spark-defaults.conf` file.\n",
    "\n",
    "Object Storage and Data Catalog are regional services. By default, the region is set to the region your notebook session is running in. This information is taken from the environment variable, `NB_REGION`. Use the `--region` option to override this behavior.\n",
    "\n",
    "The default location of the `spark-defaults.conf` file is `/home/datascience/spark_conf_dir` as defined in the `SPARK_CONF_DIR` environment variable. Use the `--output` option to define the directory where to write the file.\n",
    "\n",
    "You need to determine what settings are appropriate for your configuration. However, the following works for most configurations and is run in a terminal window.\n",
    "\n",
    "```bash\n",
    "odsc data-catalog config --authentication resource_principal --metastore <metastore_id>\n",
    "```\n",
    "For more assistance, use the following command in a terminal window:\n",
    "\n",
    "```bash\n",
    "odsc data-catalog config --help\n",
    "```\n",
    "\n",
    "<a id='setup_session'></a>\n",
    "### Session Setup\n",
    "\n",
    "The notebook makes connections to the Data Catalog metastore and Object Storage. In the next cell, specify the bucket URI to act as the data warehouse. Use the `warehouse_uri` variable with the `oci://<bucket_name>@<namespace_name>/<key>` format. Update the variable `metastore_id` with the OCID of the Data Catalog metastore."
   ]
  },
  {
   "cell_type": "markdown",
   "id": "cb17ae19",
   "metadata": {},
   "source": [
    "python -m pip install --pre oracle-ads==2.9.0rc0<a id='policies'></a>\n",
    "### 2.1. Policies\n",
    "This section covers the creation of dynamic groups and policies needed to use the service.\n",
    "\n",
    "* [Data Flow Policies](https://docs.oracle.com/iaas/data-flow/using/policies.htm/)\n",
    "* [Data Catalog Metastore Required Policies](https://docs.oracle.com/en-us/iaas/data-catalog/using/metastore.htm)\n",
    "* [Getting Started with Data Flow](https://docs.oracle.com/iaas/data-flow/using/dfs_getting_started.htm)\n",
    "* [About Data Science Policies](https://docs.oracle.com/iaas/data-science/using/policies.htm)"
   ]
  },
  {
   "cell_type": "code",
   "execution_count": 2,
   "id": "38f4322d",
   "metadata": {},
   "outputs": [
    {
     "name": "stdout",
     "output_type": "stream",
     "text": [
      "Collecting doctran\n",
      "  Using cached doctran-0.0.14-py3-none-any.whl.metadata (8.6 kB)\n",
      "Requirement already satisfied: python-dotenv in ./conda/fspyspark32_p38_cpu_v2/lib/python3.8/site-packages (1.0.0)\n",
      "Requirement already satisfied: spacy in ./conda/fspyspark32_p38_cpu_v2/lib/python3.8/site-packages (3.5.3)\n",
      "Collecting lxml<5.0.0,>=4.9.2 (from doctran)\n",
      "  Downloading lxml-4.9.3-cp38-cp38-manylinux_2_17_x86_64.manylinux2014_x86_64.manylinux_2_24_x86_64.whl.metadata (3.8 kB)\n",
      "Collecting openai<0.28.0,>=0.27.8 (from doctran)\n",
      "  Downloading openai-0.27.10-py3-none-any.whl.metadata (13 kB)\n",
      "Collecting presidio-analyzer<3.0.0,>=2.2.33 (from doctran)\n",
      "  Downloading presidio_analyzer-2.2.351-py3-none-any.whl.metadata (2.5 kB)\n",
      "Collecting presidio-anonymizer<3.0.0,>=2.2.33 (from doctran)\n",
      "  Downloading presidio_anonymizer-2.2.351-py3-none-any.whl.metadata (8.0 kB)\n",
      "Requirement already satisfied: pydantic<2.0.0,>=1.10.9 in ./conda/fspyspark32_p38_cpu_v2/lib/python3.8/site-packages (from doctran) (1.10.12)\n",
      "Collecting spacy\n",
      "  Downloading spacy-3.7.2-cp38-cp38-manylinux_2_17_x86_64.manylinux2014_x86_64.whl.metadata (25 kB)\n",
      "Requirement already satisfied: tiktoken<0.6.0,>=0.5.0 in ./conda/fspyspark32_p38_cpu_v2/lib/python3.8/site-packages (from doctran) (0.5.2)\n",
      "Requirement already satisfied: spacy-legacy<3.1.0,>=3.0.11 in ./conda/fspyspark32_p38_cpu_v2/lib/python3.8/site-packages (from spacy) (3.0.12)\n",
      "Requirement already satisfied: spacy-loggers<2.0.0,>=1.0.0 in ./conda/fspyspark32_p38_cpu_v2/lib/python3.8/site-packages (from spacy) (1.0.4)\n",
      "Requirement already satisfied: murmurhash<1.1.0,>=0.28.0 in ./conda/fspyspark32_p38_cpu_v2/lib/python3.8/site-packages (from spacy) (1.0.7)\n",
      "Requirement already satisfied: cymem<2.1.0,>=2.0.2 in ./conda/fspyspark32_p38_cpu_v2/lib/python3.8/site-packages (from spacy) (2.0.6)\n",
      "Requirement already satisfied: preshed<3.1.0,>=3.0.2 in ./conda/fspyspark32_p38_cpu_v2/lib/python3.8/site-packages (from spacy) (3.0.6)\n",
      "Requirement already satisfied: thinc<8.3.0,>=8.1.8 in ./conda/fspyspark32_p38_cpu_v2/lib/python3.8/site-packages (from spacy) (8.1.10)\n",
      "Requirement already satisfied: wasabi<1.2.0,>=0.9.1 in ./conda/fspyspark32_p38_cpu_v2/lib/python3.8/site-packages (from spacy) (0.9.1)\n",
      "Requirement already satisfied: srsly<3.0.0,>=2.4.3 in ./conda/fspyspark32_p38_cpu_v2/lib/python3.8/site-packages (from spacy) (2.4.8)\n",
      "Requirement already satisfied: catalogue<2.1.0,>=2.0.6 in ./conda/fspyspark32_p38_cpu_v2/lib/python3.8/site-packages (from spacy) (2.0.7)\n",
      "Collecting weasel<0.4.0,>=0.1.0 (from spacy)\n",
      "  Downloading weasel-0.3.4-py3-none-any.whl.metadata (4.7 kB)\n",
      "Requirement already satisfied: typer<0.10.0,>=0.3.0 in ./conda/fspyspark32_p38_cpu_v2/lib/python3.8/site-packages (from spacy) (0.4.1)\n",
      "Requirement already satisfied: smart-open<7.0.0,>=5.2.1 in ./conda/fspyspark32_p38_cpu_v2/lib/python3.8/site-packages (from spacy) (5.2.1)\n",
      "Requirement already satisfied: tqdm<5.0.0,>=4.38.0 in ./conda/fspyspark32_p38_cpu_v2/lib/python3.8/site-packages (from spacy) (4.65.0)\n",
      "Requirement already satisfied: requests<3.0.0,>=2.13.0 in ./conda/fspyspark32_p38_cpu_v2/lib/python3.8/site-packages (from spacy) (2.31.0)\n",
      "Requirement already satisfied: jinja2 in ./conda/fspyspark32_p38_cpu_v2/lib/python3.8/site-packages (from spacy) (3.1.2)\n",
      "Requirement already satisfied: setuptools in ./conda/fspyspark32_p38_cpu_v2/lib/python3.8/site-packages (from spacy) (68.0.0)\n",
      "Requirement already satisfied: packaging>=20.0 in ./conda/fspyspark32_p38_cpu_v2/lib/python3.8/site-packages (from spacy) (23.2)\n",
      "Requirement already satisfied: langcodes<4.0.0,>=3.2.0 in ./conda/fspyspark32_p38_cpu_v2/lib/python3.8/site-packages (from spacy) (3.3.0)\n",
      "Requirement already satisfied: numpy>=1.15.0 in ./conda/fspyspark32_p38_cpu_v2/lib/python3.8/site-packages (from spacy) (1.24.2)\n",
      "Requirement already satisfied: aiohttp in ./conda/fspyspark32_p38_cpu_v2/lib/python3.8/site-packages (from openai<0.28.0,>=0.27.8->doctran) (3.9.0)\n",
      "Requirement already satisfied: regex in ./conda/fspyspark32_p38_cpu_v2/lib/python3.8/site-packages (from presidio-analyzer<3.0.0,>=2.2.33->doctran) (2023.10.3)\n",
      "Collecting tldextract (from presidio-analyzer<3.0.0,>=2.2.33->doctran)\n",
      "  Downloading tldextract-5.1.1-py3-none-any.whl.metadata (11 kB)\n",
      "Requirement already satisfied: pyyaml in ./conda/fspyspark32_p38_cpu_v2/lib/python3.8/site-packages (from presidio-analyzer<3.0.0,>=2.2.33->doctran) (6.0.1)\n",
      "Collecting phonenumbers<9.0.0,>=8.12 (from presidio-analyzer<3.0.0,>=2.2.33->doctran)\n",
      "  Downloading phonenumbers-8.13.26-py2.py3-none-any.whl.metadata (11 kB)\n",
      "Collecting pycryptodome>=3.10.1 (from presidio-anonymizer<3.0.0,>=2.2.33->doctran)\n",
      "  Downloading pycryptodome-3.19.0-cp35-abi3-manylinux_2_17_x86_64.manylinux2014_x86_64.whl.metadata (3.4 kB)\n",
      "Requirement already satisfied: typing-extensions>=4.2.0 in ./conda/fspyspark32_p38_cpu_v2/lib/python3.8/site-packages (from pydantic<2.0.0,>=1.10.9->doctran) (4.5.0)\n",
      "Requirement already satisfied: charset-normalizer<4,>=2 in ./conda/fspyspark32_p38_cpu_v2/lib/python3.8/site-packages (from requests<3.0.0,>=2.13.0->spacy) (2.0.4)\n",
      "Requirement already satisfied: idna<4,>=2.5 in ./conda/fspyspark32_p38_cpu_v2/lib/python3.8/site-packages (from requests<3.0.0,>=2.13.0->spacy) (3.4)\n",
      "Requirement already satisfied: urllib3<3,>=1.21.1 in ./conda/fspyspark32_p38_cpu_v2/lib/python3.8/site-packages (from requests<3.0.0,>=2.13.0->spacy) (1.26.18)\n",
      "Requirement already satisfied: certifi>=2017.4.17 in ./conda/fspyspark32_p38_cpu_v2/lib/python3.8/site-packages (from requests<3.0.0,>=2.13.0->spacy) (2023.11.17)\n",
      "Requirement already satisfied: blis<0.8.0,>=0.7.8 in ./conda/fspyspark32_p38_cpu_v2/lib/python3.8/site-packages (from thinc<8.3.0,>=8.1.8->spacy) (0.7.9)\n",
      "Requirement already satisfied: confection<1.0.0,>=0.0.1 in ./conda/fspyspark32_p38_cpu_v2/lib/python3.8/site-packages (from thinc<8.3.0,>=8.1.8->spacy) (0.0.4)\n",
      "Requirement already satisfied: click<9.0.0,>=7.1.1 in ./conda/fspyspark32_p38_cpu_v2/lib/python3.8/site-packages (from typer<0.10.0,>=0.3.0->spacy) (8.0.4)\n",
      "Collecting cloudpathlib<0.17.0,>=0.7.0 (from weasel<0.4.0,>=0.1.0->spacy)\n",
      "  Downloading cloudpathlib-0.16.0-py3-none-any.whl.metadata (14 kB)\n",
      "Requirement already satisfied: MarkupSafe>=2.0 in ./conda/fspyspark32_p38_cpu_v2/lib/python3.8/site-packages (from jinja2->spacy) (2.1.1)\n",
      "Requirement already satisfied: attrs>=17.3.0 in ./conda/fspyspark32_p38_cpu_v2/lib/python3.8/site-packages (from aiohttp->openai<0.28.0,>=0.27.8->doctran) (23.1.0)\n",
      "Requirement already satisfied: multidict<7.0,>=4.5 in ./conda/fspyspark32_p38_cpu_v2/lib/python3.8/site-packages (from aiohttp->openai<0.28.0,>=0.27.8->doctran) (6.0.4)\n",
      "Requirement already satisfied: yarl<2.0,>=1.0 in ./conda/fspyspark32_p38_cpu_v2/lib/python3.8/site-packages (from aiohttp->openai<0.28.0,>=0.27.8->doctran) (1.9.3)\n",
      "Requirement already satisfied: frozenlist>=1.1.1 in ./conda/fspyspark32_p38_cpu_v2/lib/python3.8/site-packages (from aiohttp->openai<0.28.0,>=0.27.8->doctran) (1.4.0)\n",
      "Requirement already satisfied: aiosignal>=1.1.2 in ./conda/fspyspark32_p38_cpu_v2/lib/python3.8/site-packages (from aiohttp->openai<0.28.0,>=0.27.8->doctran) (1.2.0)\n",
      "Requirement already satisfied: async-timeout<5.0,>=4.0 in ./conda/fspyspark32_p38_cpu_v2/lib/python3.8/site-packages (from aiohttp->openai<0.28.0,>=0.27.8->doctran) (4.0.2)\n",
      "Collecting requests-file>=1.4 (from tldextract->presidio-analyzer<3.0.0,>=2.2.33->doctran)\n",
      "  Downloading requests_file-1.5.1-py2.py3-none-any.whl (3.7 kB)\n",
      "Requirement already satisfied: filelock>=3.0.8 in ./conda/fspyspark32_p38_cpu_v2/lib/python3.8/site-packages (from tldextract->presidio-analyzer<3.0.0,>=2.2.33->doctran) (3.13.1)\n",
      "Requirement already satisfied: six in ./conda/fspyspark32_p38_cpu_v2/lib/python3.8/site-packages (from requests-file>=1.4->tldextract->presidio-analyzer<3.0.0,>=2.2.33->doctran) (1.16.0)\n",
      "Downloading doctran-0.0.14-py3-none-any.whl (11 kB)\n",
      "Downloading spacy-3.7.2-cp38-cp38-manylinux_2_17_x86_64.manylinux2014_x86_64.whl (6.7 MB)\n",
      "\u001B[2K   \u001B[90m━━━━━━━━━━━━━━━━━━━━━━━━━━━━━━━━━━━━━━━━\u001B[0m \u001B[32m6.7/6.7 MB\u001B[0m \u001B[31m66.3 MB/s\u001B[0m eta \u001B[36m0:00:00\u001B[0m:00:01\u001B[0m00:01\u001B[0m\n",
      "\u001B[?25hDownloading lxml-4.9.3-cp38-cp38-manylinux_2_17_x86_64.manylinux2014_x86_64.manylinux_2_24_x86_64.whl (7.1 MB)\n",
      "\u001B[2K   \u001B[90m━━━━━━━━━━━━━━━━━━━━━━━━━━━━━━━━━━━━━━━━\u001B[0m \u001B[32m7.1/7.1 MB\u001B[0m \u001B[31m68.6 MB/s\u001B[0m eta \u001B[36m0:00:00\u001B[0m:00:01\u001B[0m00:01\u001B[0m\n",
      "\u001B[?25hDownloading openai-0.27.10-py3-none-any.whl (76 kB)\n",
      "\u001B[2K   \u001B[90m━━━━━━━━━━━━━━━━━━━━━━━━━━━━━━━━━━━━━━━━\u001B[0m \u001B[32m76.5/76.5 kB\u001B[0m \u001B[31m8.5 MB/s\u001B[0m eta \u001B[36m0:00:00\u001B[0m\n",
      "\u001B[?25hDownloading presidio_analyzer-2.2.351-py3-none-any.whl (80 kB)\n",
      "\u001B[2K   \u001B[90m━━━━━━━━━━━━━━━━━━━━━━━━━━━━━━━━━━━━━━━━\u001B[0m \u001B[32m80.1/80.1 kB\u001B[0m \u001B[31m8.9 MB/s\u001B[0m eta \u001B[36m0:00:00\u001B[0m\n",
      "\u001B[?25hDownloading presidio_anonymizer-2.2.351-py3-none-any.whl (28 kB)\n",
      "Downloading weasel-0.3.4-py3-none-any.whl (50 kB)\n",
      "\u001B[2K   \u001B[90m━━━━━━━━━━━━━━━━━━━━━━━━━━━━━━━━━━━━━━━━\u001B[0m \u001B[32m50.1/50.1 kB\u001B[0m \u001B[31m5.9 MB/s\u001B[0m eta \u001B[36m0:00:00\u001B[0m\n",
      "\u001B[?25hDownloading cloudpathlib-0.16.0-py3-none-any.whl (45 kB)\n",
      "\u001B[2K   \u001B[90m━━━━━━━━━━━━━━━━━━━━━━━━━━━━━━━━━━━━━━━━\u001B[0m \u001B[32m45.0/45.0 kB\u001B[0m \u001B[31m3.7 MB/s\u001B[0m eta \u001B[36m0:00:00\u001B[0m\n",
      "\u001B[?25hDownloading phonenumbers-8.13.26-py2.py3-none-any.whl (2.6 MB)\n",
      "\u001B[2K   \u001B[90m━━━━━━━━━━━━━━━━━━━━━━━━━━━━━━━━━━━━━━━━\u001B[0m \u001B[32m2.6/2.6 MB\u001B[0m \u001B[31m73.7 MB/s\u001B[0m eta \u001B[36m0:00:00\u001B[0m:00:01\u001B[0m\n",
      "\u001B[?25hDownloading pycryptodome-3.19.0-cp35-abi3-manylinux_2_17_x86_64.manylinux2014_x86_64.whl (2.1 MB)\n",
      "\u001B[2K   \u001B[90m━━━━━━━━━━━━━━━━━━━━━━━━━━━━━━━━━━━━━━━━\u001B[0m \u001B[32m2.1/2.1 MB\u001B[0m \u001B[31m78.2 MB/s\u001B[0m eta \u001B[36m0:00:00\u001B[0m\n",
      "\u001B[?25hDownloading tldextract-5.1.1-py3-none-any.whl (97 kB)\n",
      "\u001B[2K   \u001B[90m━━━━━━━━━━━━━━━━━━━━━━━━━━━━━━━━━━━━━━━━\u001B[0m \u001B[32m97.7/97.7 kB\u001B[0m \u001B[31m7.2 MB/s\u001B[0m eta \u001B[36m0:00:00\u001B[0m\n",
      "\u001B[?25hInstalling collected packages: phonenumbers, pycryptodome, lxml, cloudpathlib, requests-file, presidio-anonymizer, weasel, tldextract, openai, spacy, presidio-analyzer, doctran\n",
      "  Attempting uninstall: openai\n",
      "    Found existing installation: openai 1.3.8\n",
      "    Uninstalling openai-1.3.8:\n",
      "      Successfully uninstalled openai-1.3.8\n",
      "  Attempting uninstall: spacy\n",
      "    Found existing installation: spacy 3.5.3\n",
      "    Uninstalling spacy-3.5.3:\n",
      "      Successfully uninstalled spacy-3.5.3\n",
      "Successfully installed cloudpathlib-0.16.0 doctran-0.0.14 lxml-4.9.3 openai-0.27.10 phonenumbers-8.13.26 presidio-analyzer-2.2.351 presidio-anonymizer-2.2.351 pycryptodome-3.19.0 requests-file-1.5.1 spacy-3.7.2 tldextract-5.1.1 weasel-0.3.4\n"
     ]
    }
   ],
   "source": [
    "!pip install doctran python-dotenv spacy"
   ]
  },
  {
   "cell_type": "code",
   "execution_count": 2,
   "id": "dea89309",
   "metadata": {},
   "outputs": [
    {
     "name": "stdout",
     "output_type": "stream",
     "text": [
      "2023-12-11 06:50:37.574601: I tensorflow/tsl/cuda/cudart_stub.cc:28] Could not find cuda drivers on your machine, GPU will not be used.\n",
      "2023-12-11 06:50:37.610508: I tensorflow/tsl/cuda/cudart_stub.cc:28] Could not find cuda drivers on your machine, GPU will not be used.\n",
      "2023-12-11 06:50:37.610883: I tensorflow/core/platform/cpu_feature_guard.cc:182] This TensorFlow binary is optimized to use available CPU instructions in performance-critical operations.\n",
      "To enable the following instructions: AVX2 FMA, in other operations, rebuild TensorFlow with the appropriate compiler flags.\n",
      "2023-12-11 06:50:38.293467: W tensorflow/compiler/tf2tensorrt/utils/py_utils.cc:38] TF-TRT Warning: Could not find TensorRT\n",
      "Collecting en-core-web-md==3.7.1\n",
      "  Downloading https://github.com/explosion/spacy-models/releases/download/en_core_web_md-3.7.1/en_core_web_md-3.7.1-py3-none-any.whl (42.8 MB)\n",
      "\u001B[2K     \u001B[90m━━━━━━━━━━━━━━━━━━━━━━━━━━━━━━━━━━━━━━━━\u001B[0m \u001B[32m42.8/42.8 MB\u001B[0m \u001B[31m24.8 MB/s\u001B[0m eta \u001B[36m0:00:00\u001B[0m00:01\u001B[0m00:01\u001B[0m\n",
      "\u001B[?25hRequirement already satisfied: spacy<3.8.0,>=3.7.2 in ./conda/fspyspark32_p38_cpu_v2/lib/python3.8/site-packages (from en-core-web-md==3.7.1) (3.7.2)\n",
      "Requirement already satisfied: spacy-legacy<3.1.0,>=3.0.11 in ./conda/fspyspark32_p38_cpu_v2/lib/python3.8/site-packages (from spacy<3.8.0,>=3.7.2->en-core-web-md==3.7.1) (3.0.12)\n",
      "Requirement already satisfied: spacy-loggers<2.0.0,>=1.0.0 in ./conda/fspyspark32_p38_cpu_v2/lib/python3.8/site-packages (from spacy<3.8.0,>=3.7.2->en-core-web-md==3.7.1) (1.0.4)\n",
      "Requirement already satisfied: murmurhash<1.1.0,>=0.28.0 in ./conda/fspyspark32_p38_cpu_v2/lib/python3.8/site-packages (from spacy<3.8.0,>=3.7.2->en-core-web-md==3.7.1) (1.0.7)\n",
      "Requirement already satisfied: cymem<2.1.0,>=2.0.2 in ./conda/fspyspark32_p38_cpu_v2/lib/python3.8/site-packages (from spacy<3.8.0,>=3.7.2->en-core-web-md==3.7.1) (2.0.6)\n",
      "Requirement already satisfied: preshed<3.1.0,>=3.0.2 in ./conda/fspyspark32_p38_cpu_v2/lib/python3.8/site-packages (from spacy<3.8.0,>=3.7.2->en-core-web-md==3.7.1) (3.0.6)\n",
      "Requirement already satisfied: thinc<8.3.0,>=8.1.8 in ./conda/fspyspark32_p38_cpu_v2/lib/python3.8/site-packages (from spacy<3.8.0,>=3.7.2->en-core-web-md==3.7.1) (8.1.10)\n",
      "Requirement already satisfied: wasabi<1.2.0,>=0.9.1 in ./conda/fspyspark32_p38_cpu_v2/lib/python3.8/site-packages (from spacy<3.8.0,>=3.7.2->en-core-web-md==3.7.1) (0.9.1)\n",
      "Requirement already satisfied: srsly<3.0.0,>=2.4.3 in ./conda/fspyspark32_p38_cpu_v2/lib/python3.8/site-packages (from spacy<3.8.0,>=3.7.2->en-core-web-md==3.7.1) (2.4.8)\n",
      "Requirement already satisfied: catalogue<2.1.0,>=2.0.6 in ./conda/fspyspark32_p38_cpu_v2/lib/python3.8/site-packages (from spacy<3.8.0,>=3.7.2->en-core-web-md==3.7.1) (2.0.7)\n",
      "Requirement already satisfied: weasel<0.4.0,>=0.1.0 in ./conda/fspyspark32_p38_cpu_v2/lib/python3.8/site-packages (from spacy<3.8.0,>=3.7.2->en-core-web-md==3.7.1) (0.3.4)\n",
      "Requirement already satisfied: typer<0.10.0,>=0.3.0 in ./conda/fspyspark32_p38_cpu_v2/lib/python3.8/site-packages (from spacy<3.8.0,>=3.7.2->en-core-web-md==3.7.1) (0.4.1)\n",
      "Requirement already satisfied: smart-open<7.0.0,>=5.2.1 in ./conda/fspyspark32_p38_cpu_v2/lib/python3.8/site-packages (from spacy<3.8.0,>=3.7.2->en-core-web-md==3.7.1) (5.2.1)\n",
      "Requirement already satisfied: tqdm<5.0.0,>=4.38.0 in ./conda/fspyspark32_p38_cpu_v2/lib/python3.8/site-packages (from spacy<3.8.0,>=3.7.2->en-core-web-md==3.7.1) (4.65.0)\n",
      "Requirement already satisfied: requests<3.0.0,>=2.13.0 in ./conda/fspyspark32_p38_cpu_v2/lib/python3.8/site-packages (from spacy<3.8.0,>=3.7.2->en-core-web-md==3.7.1) (2.31.0)\n",
      "Requirement already satisfied: pydantic!=1.8,!=1.8.1,<3.0.0,>=1.7.4 in ./conda/fspyspark32_p38_cpu_v2/lib/python3.8/site-packages (from spacy<3.8.0,>=3.7.2->en-core-web-md==3.7.1) (1.10.12)\n",
      "Requirement already satisfied: jinja2 in ./conda/fspyspark32_p38_cpu_v2/lib/python3.8/site-packages (from spacy<3.8.0,>=3.7.2->en-core-web-md==3.7.1) (3.1.2)\n",
      "Requirement already satisfied: setuptools in ./conda/fspyspark32_p38_cpu_v2/lib/python3.8/site-packages (from spacy<3.8.0,>=3.7.2->en-core-web-md==3.7.1) (68.0.0)\n",
      "Requirement already satisfied: packaging>=20.0 in ./conda/fspyspark32_p38_cpu_v2/lib/python3.8/site-packages (from spacy<3.8.0,>=3.7.2->en-core-web-md==3.7.1) (23.2)\n",
      "Requirement already satisfied: langcodes<4.0.0,>=3.2.0 in ./conda/fspyspark32_p38_cpu_v2/lib/python3.8/site-packages (from spacy<3.8.0,>=3.7.2->en-core-web-md==3.7.1) (3.3.0)\n",
      "Requirement already satisfied: numpy>=1.15.0 in ./conda/fspyspark32_p38_cpu_v2/lib/python3.8/site-packages (from spacy<3.8.0,>=3.7.2->en-core-web-md==3.7.1) (1.24.2)\n",
      "Requirement already satisfied: typing-extensions>=4.2.0 in ./conda/fspyspark32_p38_cpu_v2/lib/python3.8/site-packages (from pydantic!=1.8,!=1.8.1,<3.0.0,>=1.7.4->spacy<3.8.0,>=3.7.2->en-core-web-md==3.7.1) (4.5.0)\n",
      "Requirement already satisfied: charset-normalizer<4,>=2 in ./conda/fspyspark32_p38_cpu_v2/lib/python3.8/site-packages (from requests<3.0.0,>=2.13.0->spacy<3.8.0,>=3.7.2->en-core-web-md==3.7.1) (2.0.4)\n",
      "Requirement already satisfied: idna<4,>=2.5 in ./conda/fspyspark32_p38_cpu_v2/lib/python3.8/site-packages (from requests<3.0.0,>=2.13.0->spacy<3.8.0,>=3.7.2->en-core-web-md==3.7.1) (3.4)\n",
      "Requirement already satisfied: urllib3<3,>=1.21.1 in ./conda/fspyspark32_p38_cpu_v2/lib/python3.8/site-packages (from requests<3.0.0,>=2.13.0->spacy<3.8.0,>=3.7.2->en-core-web-md==3.7.1) (1.26.18)\n",
      "Requirement already satisfied: certifi>=2017.4.17 in ./conda/fspyspark32_p38_cpu_v2/lib/python3.8/site-packages (from requests<3.0.0,>=2.13.0->spacy<3.8.0,>=3.7.2->en-core-web-md==3.7.1) (2023.11.17)\n",
      "Requirement already satisfied: blis<0.8.0,>=0.7.8 in ./conda/fspyspark32_p38_cpu_v2/lib/python3.8/site-packages (from thinc<8.3.0,>=8.1.8->spacy<3.8.0,>=3.7.2->en-core-web-md==3.7.1) (0.7.9)\n",
      "Requirement already satisfied: confection<1.0.0,>=0.0.1 in ./conda/fspyspark32_p38_cpu_v2/lib/python3.8/site-packages (from thinc<8.3.0,>=8.1.8->spacy<3.8.0,>=3.7.2->en-core-web-md==3.7.1) (0.0.4)\n",
      "Requirement already satisfied: click<9.0.0,>=7.1.1 in ./conda/fspyspark32_p38_cpu_v2/lib/python3.8/site-packages (from typer<0.10.0,>=0.3.0->spacy<3.8.0,>=3.7.2->en-core-web-md==3.7.1) (8.0.4)\n",
      "Requirement already satisfied: cloudpathlib<0.17.0,>=0.7.0 in ./conda/fspyspark32_p38_cpu_v2/lib/python3.8/site-packages (from weasel<0.4.0,>=0.1.0->spacy<3.8.0,>=3.7.2->en-core-web-md==3.7.1) (0.16.0)\n",
      "Requirement already satisfied: MarkupSafe>=2.0 in ./conda/fspyspark32_p38_cpu_v2/lib/python3.8/site-packages (from jinja2->spacy<3.8.0,>=3.7.2->en-core-web-md==3.7.1) (2.1.1)\n",
      "Installing collected packages: en-core-web-md\n",
      "Successfully installed en-core-web-md-3.7.1\n",
      "\u001B[38;5;2m✔ Download and installation successful\u001B[0m\n",
      "You can now load the package via spacy.load('en_core_web_md')\n"
     ]
    }
   ],
   "source": [
    "!python -m spacy download en_core_web_md"
   ]
  },
  {
   "cell_type": "code",
   "execution_count": 3,
   "id": "0fd5befe",
   "metadata": {},
   "outputs": [
    {
     "data": {
      "text/plain": [
       "<spacy.lang.en.English at 0x7f1b16e9d940>"
      ]
     },
     "execution_count": 3,
     "metadata": {},
     "output_type": "execute_result"
    }
   ],
   "source": [
    "import spacy\n",
    "spacy.load('en_core_web_md')"
   ]
  },
  {
   "cell_type": "markdown",
   "id": "40d0f050",
   "metadata": {},
   "source": [
    "<a id=\"prerequisites_authentication\"></a>\n",
    "### 2.2. Authentication\n",
    "The [Oracle Accelerated Data Science SDK (ADS)](https://docs.oracle.com/iaas/tools/ads-sdk/latest/index.html) controls the authentication mechanism with the notebook cluster.<br>\n",
    "To setup authentication use the ```ads.set_auth(\"resource_principal\")``` or ```ads.set_auth(\"api_key\")```."
   ]
  },
  {
   "cell_type": "code",
   "execution_count": 4,
   "id": "b9fd7cad",
   "metadata": {
    "ExecuteTime": {
     "start_time": "2023-05-24T08:26:08.577504Z"
    },
    "is_executing": true,
    "pycharm": {
     "is_executing": true
    }
   },
   "outputs": [],
   "source": [
    "import ads\n",
    "ads.set_auth(auth=\"resource_principal\", client_kwargs={\"fs_service_endpoint\": \"https://pxch6velt3jybrrmzja7p74bam.apigateway.us-ashburn-1.oci.customer-oci.com/20230101\"})"
   ]
  },
  {
   "cell_type": "markdown",
   "id": "801295be",
   "metadata": {},
   "source": [
    "<a id=\"prerequisites_variables\"></a>\n",
    "### 2.3. Variables\n",
    "To run this notebook, you must provide some information about your tenancy configuration. To create and run a feature store, you must specify a `<compartment_id>` and bucket `<metastore_id>` for offline feature store."
   ]
  },
  {
   "cell_type": "code",
   "execution_count": 12,
   "id": "6a1a9de8",
   "metadata": {
    "pycharm": {
     "is_executing": true
    }
   },
   "outputs": [],
   "source": [
    "import os\n",
    "\n",
    "compartment_id = os.environ.get(\"NB_SESSION_COMPARTMENT_OCID\")\n",
    "metastore_id = \"<metastore_id>\"\n",
    "os.environ[\"OPENAI_API_KEY\"] = \"<OPENAI_API_KEY>\""
   ]
  },
  {
   "cell_type": "markdown",
   "id": "76567e0d",
   "metadata": {},
   "source": [
    "<a id=\"featurestore_querying\"></a>\n",
    "# 3. Feature group use cases\n",
    "By default the **PySpark 3.2, Feature store and Data Flow** conda environment includes pre-installed [great-expectations](https://legacy.docs.greatexpectations.io/en/latest/reference/core_concepts/validation.html) and [deeque](https://github.com/awslabs/deequ) libraries. The joining functionality is heavily inspired by the APIs used by Pandas to merge, join or filter DataFrames. The APIs allow you to specify which features to select from which feature group, how to join them and which features to use in join conditions."
   ]
  },
  {
   "cell_type": "code",
   "execution_count": 6,
   "id": "d73b5058",
   "metadata": {
    "pycharm": {
     "is_executing": true
    }
   },
   "outputs": [],
   "source": [
    "import warnings\n",
    "warnings.filterwarnings(\"ignore\", message=\"iteritems is deprecated\")\n",
    "warnings.filterwarnings(\"ignore\", category=DeprecationWarning)"
   ]
  },
  {
   "cell_type": "code",
   "execution_count": 7,
   "id": "b81ab452",
   "metadata": {
    "pycharm": {
     "is_executing": true
    }
   },
   "outputs": [
    {
     "name": "stdout",
     "output_type": "stream",
     "text": [
      "WARNING:py.warnings:/home/datascience/conda/fspyspark32_p38_cpu_v2/lib/python3.8/site-packages/ads/model/deployment/model_deployment.py:54: DeprecationWarning: The `ads.model.deployment.model_deployment_properties` is deprecated in `oracle-ads 2.8.6` and will be removed in `oracle-ads 3.0`.Use `ModelDeploymentInfrastructure` and `ModelDeploymentRuntime` classes in `ads.model.deployment` module for configuring model deployment. Check https://accelerated-data-science.readthedocs.io/en/latest/user_guide/model_registration/introduction.html\n",
      "  from .model_deployment_properties import ModelDeploymentProperties\n",
      "\n",
      "WARNING:py.warnings:/home/datascience/conda/fspyspark32_p38_cpu_v2/lib/python3.8/site-packages/ads/model/deployment/__init__.py:7: DeprecationWarning: The `ads.model.deployment.model_deployer` is deprecated in `oracle-ads 2.8.6` and will be removed in `oracle-ads 3.0`.Use `ModelDeployment` class in `ads.model.deployment` module for initializing and deploying model deployment. Check https://accelerated-data-science.readthedocs.io/en/latest/user_guide/model_registration/introduction.html\n",
      "  from .model_deployer import ModelDeployer\n",
      "\n",
      "WARNING:py.warnings:/home/datascience/conda/fspyspark32_p38_cpu_v2/lib/python3.8/site-packages/pyspark/sql/pandas/utils.py:35: DeprecationWarning: distutils Version classes are deprecated. Use packaging.version instead.\n",
      "  if LooseVersion(pandas.__version__) < LooseVersion(minimum_pandas_version):\n",
      "\n",
      "WARNING:py.warnings:/home/datascience/conda/fspyspark32_p38_cpu_v2/lib/python3.8/site-packages/pyspark/sql/pandas/utils.py:57: DeprecationWarning: distutils Version classes are deprecated. Use packaging.version instead.\n",
      "  if LooseVersion(pyarrow.__version__) < LooseVersion(minimum_pyarrow_version):\n",
      "\n",
      "WARNING:py.warnings:/home/datascience/conda/fspyspark32_p38_cpu_v2/lib/python3.8/site-packages/pyspark/pandas/__init__.py:44: DeprecationWarning: distutils Version classes are deprecated. Use packaging.version instead.\n",
      "  LooseVersion(pyarrow.__version__) >= LooseVersion(\"2.0.0\")\n",
      "\n",
      "WARNING:root:'PYARROW_IGNORE_TIMEZONE' environment variable was not set. It is required to set this environment variable to '1' in both driver and executor sides if you use pyarrow>=2.0.0. pandas-on-Spark will set it for you but it does not work if there is a Spark context already launched.\n",
      "WARNING:py.warnings:/home/datascience/conda/fspyspark32_p38_cpu_v2/lib/python3.8/site-packages/pyspark/pandas/frame.py:62: DeprecationWarning: distutils Version classes are deprecated. Use packaging.version instead.\n",
      "  if LooseVersion(pd.__version__) >= LooseVersion(\"0.24\"):\n",
      "\n",
      "WARNING:py.warnings:/home/datascience/conda/fspyspark32_p38_cpu_v2/lib/python3.8/site-packages/pyspark/pandas/missing/frame.py:81: DeprecationWarning: distutils Version classes are deprecated. Use packaging.version instead.\n",
      "  if LooseVersion(pd.__version__) < LooseVersion(\"1.0\"):\n",
      "\n",
      "WARNING:py.warnings:/home/datascience/conda/fspyspark32_p38_cpu_v2/lib/python3.8/site-packages/pyspark/pandas/missing/indexes.py:85: DeprecationWarning: distutils Version classes are deprecated. Use packaging.version instead.\n",
      "  if LooseVersion(pd.__version__) < LooseVersion(\"1.0\"):\n",
      "\n",
      "WARNING:py.warnings:/home/datascience/conda/fspyspark32_p38_cpu_v2/lib/python3.8/site-packages/pyspark/pandas/missing/indexes.py:191: DeprecationWarning: distutils Version classes are deprecated. Use packaging.version instead.\n",
      "  if LooseVersion(pd.__version__) < LooseVersion(\"1.0\"):\n",
      "\n",
      "WARNING:py.warnings:/home/datascience/conda/fspyspark32_p38_cpu_v2/lib/python3.8/site-packages/pyspark/pandas/missing/series.py:89: DeprecationWarning: distutils Version classes are deprecated. Use packaging.version instead.\n",
      "  if LooseVersion(pd.__version__) < LooseVersion(\"1.0\"):\n",
      "\n",
      "WARNING:py.warnings:/home/datascience/conda/fspyspark32_p38_cpu_v2/lib/python3.8/site-packages/pyspark/pandas/groupby.py:50: DeprecationWarning: distutils Version classes are deprecated. Use packaging.version instead.\n",
      "  if LooseVersion(pd.__version__) >= LooseVersion(\"1.3.0\"):\n",
      "\n",
      "WARNING:py.warnings:/home/datascience/conda/fspyspark32_p38_cpu_v2/lib/python3.8/site-packages/fs/__init__.py:4: DeprecationWarning: Deprecated call to `pkg_resources.declare_namespace('fs')`.\n",
      "Implementing implicit namespace packages (as specified in PEP 420) is preferred to `pkg_resources.declare_namespace`. See https://setuptools.pypa.io/en/latest/references/keywords.html#keyword-namespace-packages\n",
      "  __import__(\"pkg_resources\").declare_namespace(__name__)  # type: ignore\n",
      "\n",
      "WARNING:py.warnings:/home/datascience/conda/fspyspark32_p38_cpu_v2/lib/python3.8/site-packages/fs/opener/__init__.py:6: DeprecationWarning: Deprecated call to `pkg_resources.declare_namespace('fs.opener')`.\n",
      "Implementing implicit namespace packages (as specified in PEP 420) is preferred to `pkg_resources.declare_namespace`. See https://setuptools.pypa.io/en/latest/references/keywords.html#keyword-namespace-packages\n",
      "  __import__(\"pkg_resources\").declare_namespace(__name__)  # type: ignore\n",
      "\n",
      "WARNING:py.warnings:/home/datascience/conda/fspyspark32_p38_cpu_v2/lib/python3.8/site-packages/pkg_resources/__init__.py:2350: DeprecationWarning: Deprecated call to `pkg_resources.declare_namespace('fs')`.\n",
      "Implementing implicit namespace packages (as specified in PEP 420) is preferred to `pkg_resources.declare_namespace`. See https://setuptools.pypa.io/en/latest/references/keywords.html#keyword-namespace-packages\n",
      "  declare_namespace(parent)\n",
      "\n"
     ]
    }
   ],
   "source": [
    "import pandas as pd\n",
    "from ads.feature_store.feature_store import FeatureStore\n",
    "from ads.feature_store.feature_group import FeatureGroup\n",
    "from ads.feature_store.model_details import ModelDetails\n",
    "from ads.feature_store.dataset import Dataset\n",
    "from ads.feature_store.common.enums import DatasetIngestionMode\n",
    "\n",
    "\n",
    "from ads.feature_store.feature_group_expectation import ExpectationType\n",
    "from great_expectations.core import ExpectationSuite, ExpectationConfiguration\n",
    "from ads.feature_store.feature_store_registrar import FeatureStoreRegistrar"
   ]
  },
  {
   "cell_type": "markdown",
   "id": "83c431b3",
   "metadata": {},
   "source": [
    "<a id=\"data_exploration\"></a>\n",
    "### 3.1. Exploration of data in feature store"
   ]
  },
  {
   "cell_type": "code",
   "execution_count": 8,
   "id": "f97faa60",
   "metadata": {},
   "outputs": [
    {
     "data": {
      "text/html": [
       "<div>\n",
       "<style scoped>\n",
       "    .dataframe tbody tr th:only-of-type {\n",
       "        vertical-align: middle;\n",
       "    }\n",
       "\n",
       "    .dataframe tbody tr th {\n",
       "        vertical-align: top;\n",
       "    }\n",
       "\n",
       "    .dataframe thead th {\n",
       "        text-align: right;\n",
       "    }\n",
       "</style>\n",
       "<table border=\"1\" class=\"dataframe\">\n",
       "  <thead>\n",
       "    <tr style=\"text-align: right;\">\n",
       "      <th></th>\n",
       "      <th>id</th>\n",
       "      <th>letter</th>\n",
       "    </tr>\n",
       "  </thead>\n",
       "  <tbody>\n",
       "    <tr>\n",
       "      <th>0</th>\n",
       "      <td>1</td>\n",
       "      <td>[Generated with ChatGPT]\\n\\nConfidential Document - For Internal Use Only\\n\\nDate: July 1, 2023\\n\\nSubject: Updates and Discussions on Various Topics\\n\\nDear Team,\\n\\nI hope this email finds you well. In this document, I would like to provide you with some important updates and discuss various topics that require our attention. Please treat the information contained herein as highly confidential.\\n\\nSecurity and Privacy Measures\\nAs part of our ongoing commitment to ensure the security and privacy of our customers' data, we have implemented robust measures across all our systems. We would like to commend John Doe (email: john.doe@example.com) from the IT department for his diligent work in enhancing our network security. Moving forward, we kindly remind everyone to strictly adhere to our data protection policies and guidelines. Additionally, if you come across any potential security risks or incidents, please report them immediately to our dedicated team at security@example.com.\\n\\nHR Updates and Employee Benefits\\nRecently, we welcomed several new team members who have made significant contributions to their respective departments. I would like to recognize Jane Smith (SSN: 049-45-5928) for her outstanding performance in customer service. Jane has consistently received positive feedback from our clients. Furthermore, please remember that the open enrollment period for our employee benefits program is fast approaching. Should you have any questions or require assistance, please contact our HR representative, Michael Johnson (phone: 418-492-3850, email: michael.johnson@example.com).\\n\\nMarketing Initiatives and Campaigns\\nOur marketing team has been actively working on developing new strategies to increase brand awareness and drive customer engagement. We would like to thank Sarah Thompson (phone: 415-555-1234) for her exceptional efforts in managing our social media platforms. Sarah has successfully increased our follower base by 20% in the past month alone. Moreover, please mark your calendars for the upcoming product launch event on July 15th. We encourage all team members to attend and support this exciting milestone for our company.\\n\\nResearch and Development Projects\\nIn our pursuit of innovation, our research and development department has been working tirelessly on various projects. I would like to acknowledge the exceptional work of David Rodriguez (email: david.rodriguez@example.com) in his role as project lead. David's contributions to the development of our cutting-edge technology have been instrumental. Furthermore, we would like to remind everyone to share their ideas and suggestions for potential new projects during our monthly R&amp;D brainstorming session, scheduled for July 10th.\\n\\nPlease treat the information in this document with utmost confidentiality and ensure that it is not shared with unauthorized individuals. If you have any questions or concerns regarding the topics discussed, please do not hesitate to reach out to me directly.\\n\\nThank you for your attention, and let's continue to work together to achieve our goals.\\n\\nBest regards,\\n\\nJason Fan\\nCofounder &amp; CEO\\nPsychic\\njason@psychic.dev</td>\n",
       "    </tr>\n",
       "  </tbody>\n",
       "</table>\n",
       "</div>"
      ],
      "text/plain": [
       "   id  \\\n",
       "0   1   \n",
       "\n",
       "                                                                                                                                                                                                                                                                                                                                                                                                                                                                                                                                                                                                                                                                                                                                                                                                                                                                                                                                                                                                                                                                                                                                                                                                                                                                                                                                                                                                                                                                                                                                                                                                                                                                                                                                                                                                                                                                                                                                                                                                                                                                                                                                                                                                                                                                                                                                                                                                                                                                                                                                                                                                                                                                                                                                                                                                                                                                                                                                                                                                                                                                                                                                                                                                                                                                                                letter  \n",
       "0  [Generated with ChatGPT]\\n\\nConfidential Document - For Internal Use Only\\n\\nDate: July 1, 2023\\n\\nSubject: Updates and Discussions on Various Topics\\n\\nDear Team,\\n\\nI hope this email finds you well. In this document, I would like to provide you with some important updates and discuss various topics that require our attention. Please treat the information contained herein as highly confidential.\\n\\nSecurity and Privacy Measures\\nAs part of our ongoing commitment to ensure the security and privacy of our customers' data, we have implemented robust measures across all our systems. We would like to commend John Doe (email: john.doe@example.com) from the IT department for his diligent work in enhancing our network security. Moving forward, we kindly remind everyone to strictly adhere to our data protection policies and guidelines. Additionally, if you come across any potential security risks or incidents, please report them immediately to our dedicated team at security@example.com.\\n\\nHR Updates and Employee Benefits\\nRecently, we welcomed several new team members who have made significant contributions to their respective departments. I would like to recognize Jane Smith (SSN: 049-45-5928) for her outstanding performance in customer service. Jane has consistently received positive feedback from our clients. Furthermore, please remember that the open enrollment period for our employee benefits program is fast approaching. Should you have any questions or require assistance, please contact our HR representative, Michael Johnson (phone: 418-492-3850, email: michael.johnson@example.com).\\n\\nMarketing Initiatives and Campaigns\\nOur marketing team has been actively working on developing new strategies to increase brand awareness and drive customer engagement. We would like to thank Sarah Thompson (phone: 415-555-1234) for her exceptional efforts in managing our social media platforms. Sarah has successfully increased our follower base by 20% in the past month alone. Moreover, please mark your calendars for the upcoming product launch event on July 15th. We encourage all team members to attend and support this exciting milestone for our company.\\n\\nResearch and Development Projects\\nIn our pursuit of innovation, our research and development department has been working tirelessly on various projects. I would like to acknowledge the exceptional work of David Rodriguez (email: david.rodriguez@example.com) in his role as project lead. David's contributions to the development of our cutting-edge technology have been instrumental. Furthermore, we would like to remind everyone to share their ideas and suggestions for potential new projects during our monthly R&D brainstorming session, scheduled for July 10th.\\n\\nPlease treat the information in this document with utmost confidentiality and ensure that it is not shared with unauthorized individuals. If you have any questions or concerns regarding the topics discussed, please do not hesitate to reach out to me directly.\\n\\nThank you for your attention, and let's continue to work together to achieve our goals.\\n\\nBest regards,\\n\\nJason Fan\\nCofounder & CEO\\nPsychic\\njason@psychic.dev  "
      ]
     },
     "execution_count": 8,
     "metadata": {},
     "output_type": "execute_result"
    }
   ],
   "source": [
    "import pandas as pd\n",
    "\n",
    "# Define the text and ID\n",
    "text = \"\"\"[Generated with ChatGPT]\n",
    "\n",
    "Confidential Document - For Internal Use Only\n",
    "\n",
    "Date: July 1, 2023\n",
    "\n",
    "Subject: Updates and Discussions on Various Topics\n",
    "\n",
    "Dear Team,\n",
    "\n",
    "I hope this email finds you well. In this document, I would like to provide you with some important updates and discuss various topics that require our attention. Please treat the information contained herein as highly confidential.\n",
    "\n",
    "Security and Privacy Measures\n",
    "As part of our ongoing commitment to ensure the security and privacy of our customers' data, we have implemented robust measures across all our systems. We would like to commend John Doe (email: john.doe@example.com) from the IT department for his diligent work in enhancing our network security. Moving forward, we kindly remind everyone to strictly adhere to our data protection policies and guidelines. Additionally, if you come across any potential security risks or incidents, please report them immediately to our dedicated team at security@example.com.\n",
    "\n",
    "HR Updates and Employee Benefits\n",
    "Recently, we welcomed several new team members who have made significant contributions to their respective departments. I would like to recognize Jane Smith (SSN: 049-45-5928) for her outstanding performance in customer service. Jane has consistently received positive feedback from our clients. Furthermore, please remember that the open enrollment period for our employee benefits program is fast approaching. Should you have any questions or require assistance, please contact our HR representative, Michael Johnson (phone: 418-492-3850, email: michael.johnson@example.com).\n",
    "\n",
    "Marketing Initiatives and Campaigns\n",
    "Our marketing team has been actively working on developing new strategies to increase brand awareness and drive customer engagement. We would like to thank Sarah Thompson (phone: 415-555-1234) for her exceptional efforts in managing our social media platforms. Sarah has successfully increased our follower base by 20% in the past month alone. Moreover, please mark your calendars for the upcoming product launch event on July 15th. We encourage all team members to attend and support this exciting milestone for our company.\n",
    "\n",
    "Research and Development Projects\n",
    "In our pursuit of innovation, our research and development department has been working tirelessly on various projects. I would like to acknowledge the exceptional work of David Rodriguez (email: david.rodriguez@example.com) in his role as project lead. David's contributions to the development of our cutting-edge technology have been instrumental. Furthermore, we would like to remind everyone to share their ideas and suggestions for potential new projects during our monthly R&D brainstorming session, scheduled for July 10th.\n",
    "\n",
    "Please treat the information in this document with utmost confidentiality and ensure that it is not shared with unauthorized individuals. If you have any questions or concerns regarding the topics discussed, please do not hesitate to reach out to me directly.\n",
    "\n",
    "Thank you for your attention, and let's continue to work together to achieve our goals.\n",
    "\n",
    "Best regards,\n",
    "\n",
    "Jason Fan\n",
    "Cofounder & CEO\n",
    "Psychic\n",
    "jason@psychic.dev\"\"\"\n",
    "\n",
    "document_id = 1\n",
    "\n",
    "df = pd.DataFrame({'id': [document_id], 'letter': [text]})\n",
    "df"
   ]
  },
  {
   "cell_type": "markdown",
   "id": "b072368c",
   "metadata": {},
   "source": [
    "<a id=\"load_featuregroup\"></a>\n",
    "### 3.2. Create feature store logical entities"
   ]
  },
  {
   "cell_type": "markdown",
   "id": "71af21a6",
   "metadata": {},
   "source": [
    "#### 3.2.1 Feature Store\n",
    "Feature store is the top level entity for feature store service"
   ]
  },
  {
   "cell_type": "code",
   "execution_count": 13,
   "id": "b66ea3e2",
   "metadata": {
    "pycharm": {
     "is_executing": true
    }
   },
   "outputs": [],
   "source": [
    "feature_store_resource = (\n",
    "    FeatureStore().\n",
    "    with_description(\"Data Redaction Feature Store\").\n",
    "    with_compartment_id(compartment_id).\n",
    "    with_display_name(\"Data redaction\").\n",
    "    with_offline_config(metastore_id=metastore_id)\n",
    ")"
   ]
  },
  {
   "cell_type": "markdown",
   "id": "ff2bc982",
   "metadata": {},
   "source": [
    "<a id=\"create_feature_store\"></a>\n",
    "##### Create Feature Store\n",
    "\n",
    "Call the ```.create()``` method of the Feature store instance to create a feature store."
   ]
  },
  {
   "cell_type": "code",
   "execution_count": 14,
   "id": "d57f4cbf",
   "metadata": {
    "pycharm": {
     "is_executing": true
    }
   },
   "outputs": [
    {
     "data": {
      "text/plain": [
       "\n",
       "kind: featurestore\n",
       "spec:\n",
       "  compartmentId: ocid1.tenancy.oc1..aaaaaaaa462hfhplpx652b32ix62xrdijppq2c7okwcqjlgrbknhgtj2kofa\n",
       "  description: Data Redaction Feature Store\n",
       "  displayName: Data redaction\n",
       "  id: B5F77901F80F9D75158729736B977903\n",
       "  offlineConfig:\n",
       "    metastoreId: ocid1.datacatalogmetastore.oc1.iad.amaaaaaabiudgxya2ipeqjr2m7npnn3kboq4s27erl3ts56wggl6ls6gpn3q\n",
       "type: featureStore"
      ]
     },
     "execution_count": 14,
     "metadata": {},
     "output_type": "execute_result"
    }
   ],
   "source": [
    "feature_store = feature_store_resource.create()\n",
    "feature_store"
   ]
  },
  {
   "cell_type": "markdown",
   "id": "af6f5fb9",
   "metadata": {},
   "source": [
    "#### 3.2.2 Entity\n",
    "An entity is a logical segregation of feature store entities"
   ]
  },
  {
   "cell_type": "code",
   "execution_count": 15,
   "id": "5259ab71",
   "metadata": {},
   "outputs": [
    {
     "data": {
      "text/plain": [
       "\n",
       "kind: entity\n",
       "spec:\n",
       "  compartmentId: ocid1.tenancy.oc1..aaaaaaaa462hfhplpx652b32ix62xrdijppq2c7okwcqjlgrbknhgtj2kofa\n",
       "  description: Data Redaction Feature Store\n",
       "  featureStoreId: B5F77901F80F9D75158729736B977903\n",
       "  id: 0260751F634DFC5648A588F735D70F6D\n",
       "  name: Data Redaction Feature Store\n",
       "type: entity"
      ]
     },
     "execution_count": 15,
     "metadata": {},
     "output_type": "execute_result"
    }
   ],
   "source": [
    "entity = feature_store.create_entity(\n",
    "    display_name=\"Data Redaction Feature Store\",\n",
    "    description=\"Data Redaction Feature Store\"\n",
    ")\n",
    "entity"
   ]
  },
  {
   "cell_type": "markdown",
   "id": "818c90ce",
   "metadata": {},
   "source": [
    "#### 3.2.3 Transformation"
   ]
  },
  {
   "cell_type": "code",
   "execution_count": 16,
   "id": "b37eee05",
   "metadata": {},
   "outputs": [],
   "source": [
    "def transform_dataframe(input_df, content_column='letter'):\n",
    "    import pandas as pd\n",
    "    from doctran import Doctran\n",
    "    import dotenv\n",
    "    import os\n",
    "    dotenv.load_dotenv()\n",
    "    OPENAI_API_KEY = os.getenv(\"OPENAI_API_KEY\")\n",
    "    OPENAI_MODEL = \"gpt-4\"\n",
    "    OPENAI_TOKEN_LIMIT = 8000\n",
    "\n",
    "    # Function to apply transformations to each row\n",
    "    def apply_transformations(row):\n",
    "        doctran = Doctran(openai_api_key=OPENAI_API_KEY, openai_model=OPENAI_MODEL, openai_token_limit=OPENAI_TOKEN_LIMIT)\n",
    "        document = doctran.parse(content=row[content_column])\n",
    "        transformed_document = (document\n",
    "                                .redact(entities=[\"PERSON\", \"EMAIL_ADDRESS\", \"PHONE_NUMBER\", \"US_SSN\"])\n",
    "                                .summarize(token_limit=10)\n",
    "                                .translate(language=\"french\")\n",
    "                                .execute()\n",
    "                                )\n",
    "\n",
    "        return transformed_document.transformed_content\n",
    "\n",
    "    # Apply the transformations to each row\n",
    "    input_df['transformed_content'] = input_df.apply(apply_transformations, axis=1)\n",
    "    return input_df"
   ]
  },
  {
   "cell_type": "code",
   "execution_count": 17,
   "id": "1b713052",
   "metadata": {},
   "outputs": [
    {
     "data": {
      "text/plain": [
       "\n",
       "kind: transformation\n",
       "spec:\n",
       "  compartmentId: ocid1.tenancy.oc1..aaaaaaaa462hfhplpx652b32ix62xrdijppq2c7okwcqjlgrbknhgtj2kofa\n",
       "  displayName: transform_dataframe\n",
       "  featureStoreId: B5F77901F80F9D75158729736B977903\n",
       "  id: A86998FDEBFEC9E5EACB9227D3E9C561\n",
       "  sourceCode: ZGVmIHRyYW5zZm9ybV9kYXRhZnJhbWUoaW5wdXRfZGYsIGNvbnRlbnRfY29sdW1uPSdsZXR0ZXInKToKICAgIGltcG9ydCBwYW5kYXMgYXMgcGQKICAgIGZyb20gZG9jdHJhbiBpbXBvcnQgRG9jdHJhbgogICAgaW1wb3J0IGRvdGVudgogICAgaW1wb3J0IG9zCiAgICBkb3RlbnYubG9hZF9kb3RlbnYoKQogICAgT1BFTkFJX0FQSV9LRVkgPSBvcy5nZXRlbnYoIk9QRU5BSV9BUElfS0VZIikKICAgIE9QRU5BSV9NT0RFTCA9ICJncHQtNCIKICAgIE9QRU5BSV9UT0tFTl9MSU1JVCA9IDgwMDAKCiAgICAjIEZ1bmN0aW9uIHRvIGFwcGx5IHRyYW5zZm9ybWF0aW9ucyB0byBlYWNoIHJvdwogICAgZGVmIGFwcGx5X3RyYW5zZm9ybWF0aW9ucyhyb3cpOgogICAgICAgIGRvY3RyYW4gPSBEb2N0cmFuKG9wZW5haV9hcGlfa2V5PU9QRU5BSV9BUElfS0VZLCBvcGVuYWlfbW9kZWw9T1BFTkFJX01PREVMLCBvcGVuYWlfdG9rZW5fbGltaXQ9T1BFTkFJX1RPS0VOX0xJTUlUKQogICAgICAgIGRvY3VtZW50ID0gZG9jdHJhbi5wYXJzZShjb250ZW50PXJvd1tjb250ZW50X2NvbHVtbl0pCiAgICAgICAgdHJhbnNmb3JtZWRfZG9jdW1lbnQgPSAoZG9jdW1lbnQKICAgICAgICAgICAgICAgICAgICAgICAgICAgICAgICAucmVkYWN0KGVudGl0aWVzPVsiUEVSU09OIiwgIkVNQUlMX0FERFJFU1MiLCAiUEhPTkVfTlVNQkVSIiwgIlVTX1NTTiJdKQogICAgICAgICAgICAgICAgICAgICAgICAgICAgICAgIC5zdW1tYXJpemUodG9rZW5fbGltaXQ9MTApCiAgICAgICAgICAgICAgICAgICAgICAgICAgICAgICAgLnRyYW5zbGF0ZShsYW5ndWFnZT0iZnJlbmNoIikKICAgICAgICAgICAgICAgICAgICAgICAgICAgICAgICAuZXhlY3V0ZSgpCiAgICAgICAgICAgICAgICAgICAgICAgICAgICAgICAgKQoKICAgICAgICByZXR1cm4gdHJhbnNmb3JtZWRfZG9jdW1lbnQudHJhbnNmb3JtZWRfY29udGVudAoKICAgICMgQXBwbHkgdGhlIHRyYW5zZm9ybWF0aW9ucyB0byBlYWNoIHJvdwogICAgaW5wdXRfZGZbJ3RyYW5zZm9ybWVkX2NvbnRlbnQnXSA9IGlucHV0X2RmLmFwcGx5KGFwcGx5X3RyYW5zZm9ybWF0aW9ucywgYXhpcz0xKQogICAgcmV0dXJuIGlucHV0X2RmCg==\n",
       "  transformationMode: pandas\n",
       "type: transformation"
      ]
     },
     "execution_count": 17,
     "metadata": {},
     "output_type": "execute_result"
    }
   ],
   "source": [
    "from ads.feature_store.transformation import TransformationMode\n",
    "\n",
    "pii_data_redaction_transformation = feature_store.create_transformation(\n",
    "    transformation_mode=TransformationMode.PANDAS,\n",
    "    source_code_func=transform_dataframe,\n",
    "    display_name=\"transform_dataframe\",\n",
    ")\n",
    "\n",
    "pii_data_redaction_transformation"
   ]
  },
  {
   "cell_type": "markdown",
   "id": "8e407373",
   "metadata": {},
   "source": [
    "#### 3.2.3 Feature group\n",
    "A feature group is an object that represents a logical group of time-series feature data as it is found in a datasource."
   ]
  },
  {
   "cell_type": "markdown",
   "id": "ce9dabc8",
   "metadata": {},
   "source": [
    "<a id=\"create_feature_group_flights\"></a>\n",
    "##### PII redaction feature Group\n",
    "\n",
    "Create feature group for PII Redaction Feature Group\n",
    "\n",
    "<div>\n",
    "    <img src=\"https://objectstorage.us-ashburn-1.oraclecloud.com/p/hh2NOgFJbVSg4amcLM3G3hkTuHyBD-8aE_iCsuZKEvIav1Wlld-3zfCawG4ycQGN/n/ociodscdev/b/oci-feature-store/o/beta/_images/feature_group_flights.gif\" width=\"700\" height=\"350\" />\n",
    "</div>"
   ]
  },
  {
   "cell_type": "code",
   "execution_count": 18,
   "id": "d56b5ec6",
   "metadata": {},
   "outputs": [
    {
     "name": "stdout",
     "output_type": "stream",
     "text": [
      "WARNING:ads.common.oci_client:OCI SDK with feature store support is not installed\n"
     ]
    },
    {
     "name": "stderr",
     "output_type": "stream",
     "text": [
      "Setting default log level to \"WARN\".\n",
      "To adjust logging level use sc.setLogLevel(newLevel). For SparkR, use setLogLevel(newLevel).\n",
      "2023/12/11 06:51:38 NativeCodeLoader: Unable to load native-hadoop library for your platform... using builtin-java classes where applicable\n"
     ]
    },
    {
     "name": "stdout",
     "output_type": "stream",
     "text": [
      "WARNING:py.warnings:/home/datascience/conda/fspyspark32_p38_cpu_v2/lib/python3.8/site-packages/pyspark/sql/pandas/utils.py:35: DeprecationWarning: distutils Version classes are deprecated. Use packaging.version instead.\n",
      "  if LooseVersion(pandas.__version__) < LooseVersion(minimum_pandas_version):\n",
      "\n",
      "WARNING:py.warnings:/home/datascience/conda/fspyspark32_p38_cpu_v2/lib/python3.8/site-packages/pyspark/sql/pandas/utils.py:57: DeprecationWarning: distutils Version classes are deprecated. Use packaging.version instead.\n",
      "  if LooseVersion(pyarrow.__version__) < LooseVersion(minimum_pyarrow_version):\n",
      "\n"
     ]
    }
   ],
   "source": [
    "data_redaction_feature_group = (\n",
    "    FeatureGroup()\n",
    "    .with_feature_store_id(feature_store.id)\n",
    "    .with_primary_keys([])\n",
    "    .with_name(\"data_redaction_fg\")\n",
    "    .with_entity_id(entity.id)\n",
    "    .with_compartment_id(compartment_id)\n",
    "    .with_schema_details_from_dataframe(df)\n",
    "    .with_transformation_id(pii_data_redaction_transformation.id)\n",
    ")"
   ]
  },
  {
   "cell_type": "code",
   "execution_count": 19,
   "id": "cba38915",
   "metadata": {},
   "outputs": [
    {
     "data": {
      "text/plain": [
       "\n",
       "kind: FeatureGroup\n",
       "spec:\n",
       "  compartmentId: ocid1.tenancy.oc1..aaaaaaaa462hfhplpx652b32ix62xrdijppq2c7okwcqjlgrbknhgtj2kofa\n",
       "  entityId: 0260751F634DFC5648A588F735D70F6D\n",
       "  featureStoreId: B5F77901F80F9D75158729736B977903\n",
       "  id: 2BD27E07A2D2F60C1CED77B95C8084B1\n",
       "  inputFeatureDetails:\n",
       "  - featureType: LONG\n",
       "    name: id\n",
       "    orderNumber: 1\n",
       "  - featureType: STRING\n",
       "    name: letter\n",
       "    orderNumber: 2\n",
       "  isInferSchema: true\n",
       "  name: data_redaction_fg\n",
       "  primaryKeys:\n",
       "    items: []\n",
       "  statisticsConfig:\n",
       "    isEnabled: true\n",
       "  transformationId: A86998FDEBFEC9E5EACB9227D3E9C561\n",
       "  transformationParameters: e30=\n",
       "type: featureGroup"
      ]
     },
     "execution_count": 19,
     "metadata": {},
     "output_type": "execute_result"
    }
   ],
   "source": [
    "data_redaction_feature_group.create()"
   ]
  },
  {
   "cell_type": "code",
   "execution_count": 20,
   "id": "869b3db4",
   "metadata": {},
   "outputs": [
    {
     "data": {
      "image/svg+xml": [
       "<?xml version=\"1.0\" encoding=\"UTF-8\" standalone=\"no\"?>\n",
       "<!DOCTYPE svg PUBLIC \"-//W3C//DTD SVG 1.1//EN\"\n",
       " \"http://www.w3.org/Graphics/SVG/1.1/DTD/svg11.dtd\">\n",
       "<!-- Generated by graphviz version 2.50.0 (0)\n",
       " -->\n",
       "<!-- Pages: 1 -->\n",
       "<svg width=\"558pt\" height=\"138pt\"\n",
       " viewBox=\"0.00 0.00 558.00 138.00\" xmlns=\"http://www.w3.org/2000/svg\" xmlns:xlink=\"http://www.w3.org/1999/xlink\">\n",
       "<g id=\"graph0\" class=\"graph\" transform=\"scale(1 1) rotate(0) translate(4 134)\">\n",
       "<polygon fill=\"white\" stroke=\"transparent\" points=\"-4,4 -4,-134 554,-134 554,4 -4,4\"/>\n",
       "<!-- B5F77901F80F9D75158729736B977903 -->\n",
       "<g id=\"node1\" class=\"node\">\n",
       "<title>B5F77901F80F9D75158729736B977903</title>\n",
       "<path fill=\"#dedede\" stroke=\"#dedede\" d=\"M133,-93C133,-93 12,-93 12,-93 6,-93 0,-87 0,-81 0,-81 0,-49 0,-49 0,-43 6,-37 12,-37 12,-37 133,-37 133,-37 139,-37 145,-43 145,-49 145,-49 145,-81 145,-81 145,-87 139,-93 133,-93\"/>\n",
       "<text text-anchor=\"start\" x=\"32\" y=\"-76.2\" font-family=\"Helvetica,Arial,sans-serif\" font-size=\"11.00\">Data redaction</text>\n",
       "<text text-anchor=\"start\" x=\"48\" y=\"-61.4\" font-family=\"Helvetica,Arial,sans-serif\" font-size=\"7.00\">Feature Store</text>\n",
       "<text text-anchor=\"start\" x=\"12.5\" y=\"-47.4\" font-family=\"Courier New\" font-size=\"7.00\">B5F77901F80F9D75158729736B977903</text>\n",
       "</g>\n",
       "<!-- 0260751F634DFC5648A588F735D70F6D -->\n",
       "<g id=\"node2\" class=\"node\">\n",
       "<title>0260751F634DFC5648A588F735D70F6D</title>\n",
       "<path fill=\"#dedede\" stroke=\"#dedede\" d=\"M357,-130C357,-130 193,-130 193,-130 187,-130 181,-124 181,-118 181,-118 181,-86 181,-86 181,-80 187,-74 193,-74 193,-74 357,-74 357,-74 363,-74 369,-80 369,-86 369,-86 369,-118 369,-118 369,-124 363,-130 357,-130\"/>\n",
       "<text text-anchor=\"start\" x=\"193\" y=\"-113.2\" font-family=\"Helvetica,Arial,sans-serif\" font-size=\"11.00\">Data Redaction Feature Store</text>\n",
       "<text text-anchor=\"start\" x=\"264\" y=\"-98.4\" font-family=\"Helvetica,Arial,sans-serif\" font-size=\"7.00\">Entity</text>\n",
       "<text text-anchor=\"start\" x=\"214.5\" y=\"-84.4\" font-family=\"Courier New\" font-size=\"7.00\">0260751F634DFC5648A588F735D70F6D</text>\n",
       "</g>\n",
       "<!-- B5F77901F80F9D75158729736B977903&#45;&gt;0260751F634DFC5648A588F735D70F6D -->\n",
       "<g id=\"edge1\" class=\"edge\">\n",
       "<title>B5F77901F80F9D75158729736B977903&#45;&gt;0260751F634DFC5648A588F735D70F6D</title>\n",
       "<path fill=\"none\" stroke=\"black\" d=\"M145.04,-78.2C153.45,-79.75 162.16,-81.36 170.9,-82.97\"/>\n",
       "<polygon fill=\"black\" stroke=\"black\" points=\"170.3,-86.42 180.77,-84.8 171.57,-79.54 170.3,-86.42\"/>\n",
       "</g>\n",
       "<!-- A86998FDEBFEC9E5EACB9227D3E9C561 -->\n",
       "<g id=\"node3\" class=\"node\">\n",
       "<title>A86998FDEBFEC9E5EACB9227D3E9C561</title>\n",
       "<path fill=\"#dedede\" stroke=\"#dedede\" d=\"M335.5,-56C335.5,-56 214.5,-56 214.5,-56 208.5,-56 202.5,-50 202.5,-44 202.5,-44 202.5,-12 202.5,-12 202.5,-6 208.5,0 214.5,0 214.5,0 335.5,0 335.5,0 341.5,0 347.5,-6 347.5,-12 347.5,-12 347.5,-44 347.5,-44 347.5,-50 341.5,-56 335.5,-56\"/>\n",
       "<text text-anchor=\"start\" x=\"217\" y=\"-39.2\" font-family=\"Helvetica,Arial,sans-serif\" font-size=\"11.00\">transform_dataframe</text>\n",
       "<text text-anchor=\"start\" x=\"248\" y=\"-24.4\" font-family=\"Helvetica,Arial,sans-serif\" font-size=\"7.00\">Transformation</text>\n",
       "<text text-anchor=\"start\" x=\"215\" y=\"-10.4\" font-family=\"Courier New\" font-size=\"7.00\">A86998FDEBFEC9E5EACB9227D3E9C561</text>\n",
       "</g>\n",
       "<!-- B5F77901F80F9D75158729736B977903&#45;&gt;A86998FDEBFEC9E5EACB9227D3E9C561 -->\n",
       "<g id=\"edge2\" class=\"edge\">\n",
       "<title>B5F77901F80F9D75158729736B977903&#45;&gt;A86998FDEBFEC9E5EACB9227D3E9C561</title>\n",
       "<path fill=\"none\" stroke=\"black\" d=\"M145.04,-51.8C160.35,-48.97 176.64,-45.97 192.3,-43.08\"/>\n",
       "<polygon fill=\"black\" stroke=\"black\" points=\"193.29,-46.45 202.49,-41.2 192.02,-39.57 193.29,-46.45\"/>\n",
       "</g>\n",
       "<!-- 2BD27E07A2D2F60C1CED77B95C8084B1 -->\n",
       "<g id=\"node4\" class=\"node\">\n",
       "<title>2BD27E07A2D2F60C1CED77B95C8084B1</title>\n",
       "<path fill=\"#dedede\" stroke=\"#dedede\" d=\"M538,-93C538,-93 417,-93 417,-93 411,-93 405,-87 405,-81 405,-81 405,-49 405,-49 405,-43 411,-37 417,-37 417,-37 538,-37 538,-37 544,-37 550,-43 550,-49 550,-49 550,-81 550,-81 550,-87 544,-93 538,-93\"/>\n",
       "<text text-anchor=\"start\" x=\"429\" y=\"-76.2\" font-family=\"Helvetica,Arial,sans-serif\" font-size=\"11.00\">data_redaction_fg</text>\n",
       "<text text-anchor=\"start\" x=\"452\" y=\"-61.4\" font-family=\"Helvetica,Arial,sans-serif\" font-size=\"7.00\">Feature Group</text>\n",
       "<text text-anchor=\"start\" x=\"417.5\" y=\"-47.4\" font-family=\"Courier New\" font-size=\"7.00\">2BD27E07A2D2F60C1CED77B95C8084B1</text>\n",
       "</g>\n",
       "<!-- 0260751F634DFC5648A588F735D70F6D&#45;&gt;2BD27E07A2D2F60C1CED77B95C8084B1 -->\n",
       "<g id=\"edge3\" class=\"edge\">\n",
       "<title>0260751F634DFC5648A588F735D70F6D&#45;&gt;2BD27E07A2D2F60C1CED77B95C8084B1</title>\n",
       "<path fill=\"none\" stroke=\"black\" d=\"M369.21,-84.8C377.81,-83.21 386.48,-81.61 394.96,-80.05\"/>\n",
       "<polygon fill=\"black\" stroke=\"black\" points=\"395.62,-83.48 404.82,-78.23 394.35,-76.6 395.62,-83.48\"/>\n",
       "</g>\n",
       "<!-- A86998FDEBFEC9E5EACB9227D3E9C561&#45;&gt;2BD27E07A2D2F60C1CED77B95C8084B1 -->\n",
       "<g id=\"edge4\" class=\"edge\">\n",
       "<title>A86998FDEBFEC9E5EACB9227D3E9C561&#45;&gt;2BD27E07A2D2F60C1CED77B95C8084B1</title>\n",
       "<path fill=\"none\" stroke=\"black\" d=\"M347.54,-41.2C362.85,-44.03 379.14,-47.03 394.8,-49.92\"/>\n",
       "<polygon fill=\"black\" stroke=\"black\" points=\"394.52,-53.43 404.99,-51.8 395.79,-46.55 394.52,-53.43\"/>\n",
       "</g>\n",
       "</g>\n",
       "</svg>\n"
      ],
      "text/plain": [
       "<graphviz.dot.Digraph at 0x7f1b003af400>"
      ]
     },
     "metadata": {},
     "output_type": "display_data"
    }
   ],
   "source": [
    "data_redaction_feature_group.show()"
   ]
  },
  {
   "cell_type": "code",
   "execution_count": 21,
   "id": "75674af9",
   "metadata": {},
   "outputs": [
    {
     "name": "stderr",
     "output_type": "stream",
     "text": [
      "Hive Session ID = 389c6de5-e543-4d05-8606-574fb15146a1\n"
     ]
    },
    {
     "name": "stdout",
     "output_type": "stream",
     "text": [
      "WARNING:presidio-analyzer:model_to_presidio_entity_mapping is missing from configuration, using default\n",
      "WARNING:presidio-analyzer:low_score_entity_names is missing from configuration, using default\n",
      "WARNING:presidio-analyzer:labels_to_ignore is missing from configuration, using default\n",
      "INFO:presidio-analyzer:Created NLP engine: spacy. Loaded models: ['en']\n",
      "INFO:presidio-analyzer:registry not provided, creating default.\n",
      "INFO:presidio-analyzer:Loaded recognizer: UsBankRecognizer\n",
      "INFO:presidio-analyzer:Loaded recognizer: UsLicenseRecognizer\n",
      "INFO:presidio-analyzer:Loaded recognizer: UsItinRecognizer\n",
      "INFO:presidio-analyzer:Loaded recognizer: UsPassportRecognizer\n",
      "INFO:presidio-analyzer:Loaded recognizer: UsSsnRecognizer\n",
      "INFO:presidio-analyzer:Loaded recognizer: NhsRecognizer\n",
      "INFO:presidio-analyzer:Loaded recognizer: SgFinRecognizer\n",
      "INFO:presidio-analyzer:Loaded recognizer: AuAbnRecognizer\n",
      "INFO:presidio-analyzer:Loaded recognizer: AuAcnRecognizer\n",
      "INFO:presidio-analyzer:Loaded recognizer: AuTfnRecognizer\n",
      "INFO:presidio-analyzer:Loaded recognizer: AuMedicareRecognizer\n",
      "INFO:presidio-analyzer:Loaded recognizer: InPanRecognizer\n",
      "INFO:presidio-analyzer:Loaded recognizer: CreditCardRecognizer\n",
      "INFO:presidio-analyzer:Loaded recognizer: CryptoRecognizer\n",
      "INFO:presidio-analyzer:Loaded recognizer: DateRecognizer\n",
      "INFO:presidio-analyzer:Loaded recognizer: EmailRecognizer\n",
      "INFO:presidio-analyzer:Loaded recognizer: IbanRecognizer\n",
      "INFO:presidio-analyzer:Loaded recognizer: IpRecognizer\n",
      "INFO:presidio-analyzer:Loaded recognizer: MedicalLicenseRecognizer\n",
      "INFO:presidio-analyzer:Loaded recognizer: PhoneRecognizer\n",
      "INFO:presidio-analyzer:Loaded recognizer: UrlRecognizer\n",
      "INFO:presidio-analyzer:Loaded recognizer: SpacyRecognizer\n",
      "WARNING:py.warnings:/home/datascience/conda/fspyspark32_p38_cpu_v2/lib/python3.8/site-packages/pyspark/sql/pandas/utils.py:35: DeprecationWarning: distutils Version classes are deprecated. Use packaging.version instead.\n",
      "  if LooseVersion(pandas.__version__) < LooseVersion(minimum_pandas_version):\n",
      "\n",
      "WARNING:py.warnings:/home/datascience/conda/fspyspark32_p38_cpu_v2/lib/python3.8/site-packages/pyspark/sql/pandas/utils.py:57: DeprecationWarning: distutils Version classes are deprecated. Use packaging.version instead.\n",
      "  if LooseVersion(pyarrow.__version__) < LooseVersion(minimum_pyarrow_version):\n",
      "\n"
     ]
    },
    {
     "name": "stderr",
     "output_type": "stream",
     "text": [
      "[Stage 8:>                                                          (0 + 1) / 1]\r"
     ]
    }
   ],
   "source": [
    "data_redaction_feature_group.materialise(df)"
   ]
  },
  {
   "cell_type": "markdown",
   "id": "d473e0ce",
   "metadata": {},
   "source": [
    "<a id=\"explore_featuregroup\"></a>\n",
    "### 3.3. Explore feature groups"
   ]
  },
  {
   "cell_type": "code",
   "execution_count": 22,
   "id": "fe9b0914",
   "metadata": {},
   "outputs": [
    {
     "name": "stdout",
     "output_type": "stream",
     "text": [
      "+-------+-------------------+------+--------+--------------------+--------------------+----+--------+---------+-----------+--------------+-------------+--------------------+------------+--------------------+\n",
      "|version|          timestamp|userId|userName|           operation| operationParameters| job|notebook|clusterId|readVersion|isolationLevel|isBlindAppend|    operationMetrics|userMetadata|          engineInfo|\n",
      "+-------+-------------------+------+--------+--------------------+--------------------+----+--------+---------+-----------+--------------+-------------+--------------------+------------+--------------------+\n",
      "|      0|2023-12-11 06:52:13|  null|    null|CREATE OR REPLACE...|{isManaged -> tru...|null|    null|     null|       null|  Serializable|        false|{numFiles -> 1, n...|        null|Apache-Spark/3.2....|\n",
      "+-------+-------------------+------+--------+--------------------+--------------------+----+--------+---------+-----------+--------------+-------------+--------------------+------------+--------------------+\n",
      "\n"
     ]
    }
   ],
   "source": [
    "data_redaction_feature_group.history().show()"
   ]
  },
  {
   "cell_type": "code",
   "execution_count": 23,
   "id": "6e3281a4",
   "metadata": {},
   "outputs": [
    {
     "name": "stdout",
     "output_type": "stream",
     "text": [
      "+---+--------------------+--------------------+\n",
      "| id|              letter| transformed_content|\n",
      "+---+--------------------+--------------------+\n",
      "|  1|[Generated with C...|Mise à jour inter...|\n",
      "+---+--------------------+--------------------+\n",
      "\n"
     ]
    }
   ],
   "source": [
    "data_redaction_feature_group.as_of(version_number=0).show()"
   ]
  },
  {
   "cell_type": "code",
   "execution_count": 24,
   "id": "8b5d7d2e",
   "metadata": {},
   "outputs": [
    {
     "data": {
      "text/html": [
       "<div>\n",
       "<style scoped>\n",
       "    .dataframe tbody tr th:only-of-type {\n",
       "        vertical-align: middle;\n",
       "    }\n",
       "\n",
       "    .dataframe tbody tr th {\n",
       "        vertical-align: top;\n",
       "    }\n",
       "\n",
       "    .dataframe thead th {\n",
       "        text-align: right;\n",
       "    }\n",
       "</style>\n",
       "<table border=\"1\" class=\"dataframe\">\n",
       "  <thead>\n",
       "    <tr style=\"text-align: right;\">\n",
       "      <th></th>\n",
       "      <th>name</th>\n",
       "      <th>type</th>\n",
       "    </tr>\n",
       "  </thead>\n",
       "  <tbody>\n",
       "    <tr>\n",
       "      <th>0</th>\n",
       "      <td>id</td>\n",
       "      <td>LONG</td>\n",
       "    </tr>\n",
       "    <tr>\n",
       "      <th>1</th>\n",
       "      <td>letter</td>\n",
       "      <td>STRING</td>\n",
       "    </tr>\n",
       "    <tr>\n",
       "      <th>2</th>\n",
       "      <td>transformed_content</td>\n",
       "      <td>STRING</td>\n",
       "    </tr>\n",
       "  </tbody>\n",
       "</table>\n",
       "</div>"
      ],
      "text/plain": [
       "                  name    type\n",
       "0                   id    LONG\n",
       "1               letter  STRING\n",
       "2  transformed_content  STRING"
      ]
     },
     "execution_count": 24,
     "metadata": {},
     "output_type": "execute_result"
    }
   ],
   "source": [
    "data_redaction_feature_group.get_features_df()"
   ]
  },
  {
   "cell_type": "code",
   "execution_count": 25,
   "id": "8a650b49",
   "metadata": {},
   "outputs": [
    {
     "name": "stdout",
     "output_type": "stream",
     "text": [
      "+---+--------------------+--------------------+\n",
      "| id|              letter| transformed_content|\n",
      "+---+--------------------+--------------------+\n",
      "|  1|[Generated with C...|Mise à jour inter...|\n",
      "+---+--------------------+--------------------+\n",
      "\n"
     ]
    }
   ],
   "source": [
    "data_redaction_feature_group.select().show()"
   ]
  },
  {
   "cell_type": "markdown",
   "id": "719f8458",
   "metadata": {},
   "source": [
    "<a id=\"select_subset_featuregroup\"></a>\n",
    "### 3.4. Select subset of features"
   ]
  },
  {
   "cell_type": "code",
   "execution_count": 26,
   "id": "4f0d0770",
   "metadata": {},
   "outputs": [
    {
     "name": "stdout",
     "output_type": "stream",
     "text": [
      "+--------------------+--------------------+\n",
      "|              letter| transformed_content|\n",
      "+--------------------+--------------------+\n",
      "|[Generated with C...|Mise à jour inter...|\n",
      "+--------------------+--------------------+\n",
      "\n"
     ]
    }
   ],
   "source": [
    "data_redaction_feature_group.select(['letter', 'transformed_content']).show()"
   ]
  },
  {
   "cell_type": "code",
   "execution_count": 27,
   "id": "2c7db60f",
   "metadata": {},
   "outputs": [
    {
     "name": "stderr",
     "output_type": "stream",
     "text": [
      "[Stage 22:>                                                         (0 + 1) / 1]\r"
     ]
    },
    {
     "name": "stdout",
     "output_type": "stream",
     "text": [
      "+---+--------------------+--------------------+\n",
      "| id|              letter| transformed_content|\n",
      "+---+--------------------+--------------------+\n",
      "|  1|[Generated with C...|Mise à jour inter...|\n",
      "+---+--------------------+--------------------+\n",
      "\n"
     ]
    },
    {
     "name": "stderr",
     "output_type": "stream",
     "text": [
      "                                                                                \r"
     ]
    }
   ],
   "source": [
    "data_redaction_feature_group.select().show()"
   ]
  },
  {
   "cell_type": "markdown",
   "id": "fa5a70d8",
   "metadata": {},
   "source": [
    "<a id=\"filter_featuregroup\"></a>\n",
    "### 3.5. Filter feature groups"
   ]
  },
  {
   "cell_type": "code",
   "execution_count": 28,
   "id": "dccce50d",
   "metadata": {},
   "outputs": [
    {
     "name": "stdout",
     "output_type": "stream",
     "text": [
      "WARNING:py.warnings:/home/datascience/conda/fspyspark32_p38_cpu_v2/lib/python3.8/site-packages/pyspark/sql/pandas/utils.py:35: DeprecationWarning: distutils Version classes are deprecated. Use packaging.version instead.\n",
      "  if LooseVersion(pandas.__version__) < LooseVersion(minimum_pandas_version):\n",
      "\n",
      "WARNING:py.warnings:/home/datascience/conda/fspyspark32_p38_cpu_v2/lib/python3.8/site-packages/pyspark/sql/pandas/utils.py:57: DeprecationWarning: distutils Version classes are deprecated. Use packaging.version instead.\n",
      "  if LooseVersion(pyarrow.__version__) < LooseVersion(minimum_pyarrow_version):\n",
      "\n"
     ]
    },
    {
     "data": {
      "text/html": [
       "<div>\n",
       "<style scoped>\n",
       "    .dataframe tbody tr th:only-of-type {\n",
       "        vertical-align: middle;\n",
       "    }\n",
       "\n",
       "    .dataframe tbody tr th {\n",
       "        vertical-align: top;\n",
       "    }\n",
       "\n",
       "    .dataframe thead th {\n",
       "        text-align: right;\n",
       "    }\n",
       "</style>\n",
       "<table border=\"1\" class=\"dataframe\">\n",
       "  <thead>\n",
       "    <tr style=\"text-align: right;\">\n",
       "      <th></th>\n",
       "      <th>id</th>\n",
       "      <th>letter</th>\n",
       "      <th>transformed_content</th>\n",
       "    </tr>\n",
       "  </thead>\n",
       "  <tbody>\n",
       "    <tr>\n",
       "      <th>0</th>\n",
       "      <td>1</td>\n",
       "      <td>[Generated with ChatGPT]\\n\\nConfidential Document - For Internal Use Only\\n\\nDate: July 1, 2023\\n\\nSubject: Updates and Discussions on Various Topics\\n\\nDear Team,\\n\\nI hope this email finds you well. In this document, I would like to provide you with some important updates and discuss various topics that require our attention. Please treat the information contained herein as highly confidential.\\n\\nSecurity and Privacy Measures\\nAs part of our ongoing commitment to ensure the security and privacy of our customers' data, we have implemented robust measures across all our systems. We would like to commend John Doe (email: john.doe@example.com) from the IT department for his diligent work in enhancing our network security. Moving forward, we kindly remind everyone to strictly adhere to our data protection policies and guidelines. Additionally, if you come across any potential security risks or incidents, please report them immediately to our dedicated team at security@example.com.\\n\\nHR Updates and Employee Benefits\\nRecently, we welcomed several new team members who have made significant contributions to their respective departments. I would like to recognize Jane Smith (SSN: 049-45-5928) for her outstanding performance in customer service. Jane has consistently received positive feedback from our clients. Furthermore, please remember that the open enrollment period for our employee benefits program is fast approaching. Should you have any questions or require assistance, please contact our HR representative, Michael Johnson (phone: 418-492-3850, email: michael.johnson@example.com).\\n\\nMarketing Initiatives and Campaigns\\nOur marketing team has been actively working on developing new strategies to increase brand awareness and drive customer engagement. We would like to thank Sarah Thompson (phone: 415-555-1234) for her exceptional efforts in managing our social media platforms. Sarah has successfully increased our follower base by 20% in the past month alone. Moreover, please mark your calendars for the upcoming product launch event on July 15th. We encourage all team members to attend and support this exciting milestone for our company.\\n\\nResearch and Development Projects\\nIn our pursuit of innovation, our research and development department has been working tirelessly on various projects. I would like to acknowledge the exceptional work of David Rodriguez (email: david.rodriguez@example.com) in his role as project lead. David's contributions to the development of our cutting-edge technology have been instrumental. Furthermore, we would like to remind everyone to share their ideas and suggestions for potential new projects during our monthly R&amp;D brainstorming session, scheduled for July 10th.\\n\\nPlease treat the information in this document with utmost confidentiality and ensure that it is not shared with unauthorized individuals. If you have any questions or concerns regarding the topics discussed, please do not hesitate to reach out to me directly.\\n\\nThank you for your attention, and let's continue to work together to achieve our goals.\\n\\nBest regards,\\n\\nJason Fan\\nCofounder &amp; CEO\\nPsychic\\njason@psychic.dev</td>\n",
       "      <td>Mise à jour interne confidentielle sur la sécurité, les ressources humaines, le marketing et la R&amp;D.</td>\n",
       "    </tr>\n",
       "  </tbody>\n",
       "</table>\n",
       "</div>"
      ],
      "text/plain": [
       "   id  \\\n",
       "0   1   \n",
       "\n",
       "                                                                                                                                                                                                                                                                                                                                                                                                                                                                                                                                                                                                                                                                                                                                                                                                                                                                                                                                                                                                                                                                                                                                                                                                                                                                                                                                                                                                                                                                                                                                                                                                                                                                                                                                                                                                                                                                                                                                                                                                                                                                                                                                                                                                                                                                                                                                                                                                                                                                                                                                                                                                                                                                                                                                                                                                                                                                                                                                                                                                                                                                                                                                                                                                                                                                                                letter  \\\n",
       "0  [Generated with ChatGPT]\\n\\nConfidential Document - For Internal Use Only\\n\\nDate: July 1, 2023\\n\\nSubject: Updates and Discussions on Various Topics\\n\\nDear Team,\\n\\nI hope this email finds you well. In this document, I would like to provide you with some important updates and discuss various topics that require our attention. Please treat the information contained herein as highly confidential.\\n\\nSecurity and Privacy Measures\\nAs part of our ongoing commitment to ensure the security and privacy of our customers' data, we have implemented robust measures across all our systems. We would like to commend John Doe (email: john.doe@example.com) from the IT department for his diligent work in enhancing our network security. Moving forward, we kindly remind everyone to strictly adhere to our data protection policies and guidelines. Additionally, if you come across any potential security risks or incidents, please report them immediately to our dedicated team at security@example.com.\\n\\nHR Updates and Employee Benefits\\nRecently, we welcomed several new team members who have made significant contributions to their respective departments. I would like to recognize Jane Smith (SSN: 049-45-5928) for her outstanding performance in customer service. Jane has consistently received positive feedback from our clients. Furthermore, please remember that the open enrollment period for our employee benefits program is fast approaching. Should you have any questions or require assistance, please contact our HR representative, Michael Johnson (phone: 418-492-3850, email: michael.johnson@example.com).\\n\\nMarketing Initiatives and Campaigns\\nOur marketing team has been actively working on developing new strategies to increase brand awareness and drive customer engagement. We would like to thank Sarah Thompson (phone: 415-555-1234) for her exceptional efforts in managing our social media platforms. Sarah has successfully increased our follower base by 20% in the past month alone. Moreover, please mark your calendars for the upcoming product launch event on July 15th. We encourage all team members to attend and support this exciting milestone for our company.\\n\\nResearch and Development Projects\\nIn our pursuit of innovation, our research and development department has been working tirelessly on various projects. I would like to acknowledge the exceptional work of David Rodriguez (email: david.rodriguez@example.com) in his role as project lead. David's contributions to the development of our cutting-edge technology have been instrumental. Furthermore, we would like to remind everyone to share their ideas and suggestions for potential new projects during our monthly R&D brainstorming session, scheduled for July 10th.\\n\\nPlease treat the information in this document with utmost confidentiality and ensure that it is not shared with unauthorized individuals. If you have any questions or concerns regarding the topics discussed, please do not hesitate to reach out to me directly.\\n\\nThank you for your attention, and let's continue to work together to achieve our goals.\\n\\nBest regards,\\n\\nJason Fan\\nCofounder & CEO\\nPsychic\\njason@psychic.dev   \n",
       "\n",
       "                                                                                    transformed_content  \n",
       "0  Mise à jour interne confidentielle sur la sécurité, les ressources humaines, le marketing et la R&D.  "
      ]
     },
     "execution_count": 28,
     "metadata": {},
     "output_type": "execute_result"
    }
   ],
   "source": [
    "tranining_df = data_redaction_feature_group.select().read().toPandas()\n",
    "tranining_df"
   ]
  },
  {
   "cell_type": "markdown",
   "id": "92092156",
   "metadata": {},
   "source": [
    "<a id='ref'></a>\n",
    "# References\n",
    "\n",
    "- [ADS Library Documentation](https://accelerated-data-science.readthedocs.io/en/latest/index.html)\n",
    "- [Data Science YouTube Videos](https://www.youtube.com/playlist?list=PLKCk3OyNwIzv6CWMhvqSB_8MLJIZdO80L)\n",
    "- [OCI Data Science Documentation](https://docs.cloud.oracle.com/en-us/iaas/data-science/using/data-science.htm)\n",
    "- [Oracle Data & AI Blog](https://blogs.oracle.com/datascience/)"
   ]
  },
  {
   "cell_type": "code",
   "execution_count": null,
   "id": "61971abe",
   "metadata": {},
   "outputs": [],
   "source": []
  },
  {
   "cell_type": "code",
   "execution_count": null,
   "id": "803246b0",
   "metadata": {},
   "outputs": [],
   "source": []
  },
  {
   "cell_type": "code",
   "execution_count": null,
   "id": "7869f689",
   "metadata": {},
   "outputs": [],
   "source": []
  }
 ],
 "metadata": {
  "kernelspec": {
   "display_name": "Python [conda env:fspyspark32_p38_cpu_v2]",
   "language": "python",
   "name": "conda-env-fspyspark32_p38_cpu_v2-py"
  },
  "language_info": {
   "codemirror_mode": {
    "name": "ipython",
    "version": 3
   },
   "file_extension": ".py",
   "mimetype": "text/x-python",
   "name": "python",
   "nbconvert_exporter": "python",
   "pygments_lexer": "ipython3",
   "version": "3.8.16"
  }
 },
 "nbformat": 4,
 "nbformat_minor": 5
}
