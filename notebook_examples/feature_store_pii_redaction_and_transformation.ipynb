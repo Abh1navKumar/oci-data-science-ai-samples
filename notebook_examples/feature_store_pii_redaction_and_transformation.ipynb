{
 "cells": [
  {
   "cell_type": "raw",
   "source": [
    "qweews@notebook{feature_store_pii_redaction_and_transformation.ipynb,\n",
    "    title: Use feature store to perform PII data redaction, summarization, translation using openai,\n",
    "    summary: Use feature store to perform PII data redaction, summarization, translation using openai.,\n",
    "    developed_on: pyspark32_p38_cpu_feature_store_v1,\n",
    "    keywords: feature store, querying,\n",
    "    license: Universal Permissive License v 1.0\n",
    "}"
   ],
   "metadata": {
    "collapsed": false
   }
  },
  {
   "cell_type": "code",
   "execution_count": null,
   "id": "897407c4",
   "metadata": {
    "ExecuteTime": {
     "end_time": "2023-05-24T08:26:08.572567Z",
     "start_time": "2023-05-24T08:26:08.328013Z"
    }
   },
   "outputs": [],
   "source": [
    "!odsc conda install -s fspyspark32_p38_cpu_v1"
   ]
  },
  {
   "cell_type": "markdown",
   "id": "772843dd",
   "metadata": {},
   "source": [
    "Oracle Data Science service sample notebook.\n",
    "\n",
    "Copyright (c) 2022 Oracle, Inc. All rights reserved. Licensed under the [Universal Permissive License v 1.0](https://oss.oracle.com/licenses/upl).\n",
    "\n",
    "***\n",
    "\n",
    "# <font color=\"red\">PII Data redaction, Summarise Content and Translate content using doctran and open AI</font>\n",
    "<p style=\"margin-left:10%; margin-right:10%;\">by the <font color=\"teal\">Oracle Cloud Infrastructure Data Science Service.</font></p>\n",
    "\n",
    "---\n",
    "# Overview:\n",
    "---\n",
    "One way to think of Doctran is a LLM-powered black box where messy strings go in and nice, clean, labelled strings come out. Another way to think about it is a modular, declarative wrapper over OpenAI's functional calling feature that significantly improves the developer experience.\n",
    "\n",
    "Benefits of Data Transformation:\n",
    "\n",
    "1. **Redact**: Uses a spaCy model to remove names, emails, phone numbers and other sensitive information from a document. Runs locally to avoid sending sensitive data to third party APIs.\n",
    "2. **Summarize**: Summarize the information in a document. token_limit may be passed to configure the size of the summary, however it may not be respected by OpenAI.\n",
    "3. **Flexibility**: Remove all information from a document unless it's related to a specific set of topics.\n",
    "4. **Translate**: Translates text into another language.\n",
    "5. **Interrogate**: Convert information in a document into question and answer format. End user queries often take the form of a question, so converting information into questions and creating indexes from these questions often yields better results when using a vector database for context retrieval.\n",
    "\n",
    "Compatible conda pack: [PySpark 3.2 and Feature store](https://docs.oracle.com/iaas/data-science/using/conda-pyspark-fam.htm) for CPU on Python 3.8\n",
    "\n",
    "## Contents:\n",
    "\n",
    "- <a href=\"#concepts\">1. Introduction</a>\n",
    "- <a href='#pre-requisites'>1. Pre-requisites</a>\n",
    "    - <a href='#policies'>2.1 Policies</a>\n",
    "    - <a href='#prerequisites_authentication'>2.2 Authentication</a>\n",
    "    - <a href='#prerequisites_variables'>2.3 Variables</a>\n",
    "- <a href='#featurestore_querying'>3. Feature store querying</a>\n",
    "    - <a href='#data_exploration'>3.1. Exploration of data in feature store</a>\n",
    "    - <a href='#load_featuregroup'>3.2. Load feature groups</a>\n",
    "    - <a href='#explore_featuregroup'>3.3. Explore feature groups</a>\n",
    "    - <a href='#select_subset_featuregroup'>3.4. Select subset of features</a>\n",
    "    - <a href='#filter_featuregroup'>3.5. Filter feature groups</a>\n",
    "    - <a href='#join_featuregroup'>3.6. Apply joins on feature group</a>\n",
    "    - <a href='#create_dataset'>3.7. Create dataset from multiple or one feature group</a>\n",
    "    - <a href='#sql_query'>3.8 Free form sql query</a>\n",
    "- <a href='#ref'>4. References</a>\n",
    "\n",
    "---\n",
    "\n",
    "**Important:**\n",
    "\n",
    "Placeholder text for required values are surrounded by angle brackets that must be removed when adding the indicated content. For example, when adding a database name to `database_name = \"<database_name>\"` would become `database_name = \"production\"`.\n",
    "\n",
    "---"
   ]
  },
  {
   "cell_type": "markdown",
   "id": "b69441b9",
   "metadata": {},
   "source": [
    "<a id=\"concepts\"></a>\n",
    "# 1. Introduction\n",
    "\n",
    "Oracle feature store is a stack based solution that is deployed in the customer enclave using OCI resource manager. Customer can stand up the service with infrastructure in their own tenancy. The service consists of API which are deployed in customer tenancy using resource manager.\n",
    "\n",
    "The following are some key terms that will help you understand OCI Data Science Feature Store:\n",
    "\n",
    "\n",
    "* **Feature Vector**: Set of feature values for any one primary/identifier key. Eg. All/subset of features of customer id ‘2536’ can be called as one feature vector.\n",
    "\n",
    "* **Feature**: A feature is an individual measurable property or characteristic of a phenomenon being observed.\n",
    "\n",
    "* **Entity**: An entity is a group of semantically related features. The first step a consumer of features would typically do when accessing the feature store service is to list the entities and the entities associated features. Another way to look at it is that an entity is an object or concept that is described by its features. Examples of entities could be customer, product, transaction, review, image, document, etc.\n",
    "\n",
    "* **Feature Group**: A feature group in a feature store is a collection of related features that are often used together in ml models. It serves as an organizational unit within the feature store for users to manage, version and share features across different ml projects. By organizing features into groups, data scientists and ml engineers can efficiently discover, reuse and collaborate on features reducing the redundant work and ensuring consistency in feature engineering.\n",
    "\n",
    "* **Feature Group Job**: Feature group job is the execution instance of a feature group. Each feature group job will include validation results and statistics results.\n",
    "\n",
    "* **Dataset**: A dataset is a collection of feature that are used together to either train a model or perform model inference.\n",
    "\n",
    "* **Dataset Job**: Dataset job is the execution instance of a dataset. Each dataset job will include validation results and statistics results."
   ]
  },
  {
   "cell_type": "markdown",
   "id": "56f63b68",
   "metadata": {},
   "source": [
    "<a id='pre-requisites'></a>\n",
    "# 2. Pre-requisites\n",
    "\n",
    "Data Flow Sessions are accessible through the following conda environment:\n",
    "\n",
    "* **PySpark 3.2, Feature store 1.0 and Data Flow 1.0 (fs_pyspark32_p38_cpu_v1)**\n",
    "\n",
    "The [Data Catalog Hive Metastore](https://docs.oracle.com/en-us/iaas/data-catalog/using/metastore.htm) provides schema definitions for objects in structured and unstructured data assets. The Metastore is the central metadata repository to understand tables backed by files on object storage. You can customize `fs_pyspark32_p38_cpu_v1`, publish it, and use it as a runtime environment for a Data Flow session cluster. The metastore id of hive metastore is tied to feature store construct of feature store service.\n"
   ]
  },
  {
   "cell_type": "markdown",
   "id": "670c12b9",
   "metadata": {},
   "source": [
    "<a id='setup_spark-defaults'></a>\n",
    "### `spark-defaults.conf`\n",
    "\n",
    "The `spark-defaults.conf` file is used to define the properties that are used by Spark. A templated version is installed when you install a Data Science conda environment that supports PySpark. However, you must update the template so that the Data Catalog metastore can be accessed. You can do this manually. However, the `odsc data-catalog config` commandline tool is ideal for setting up the file because it gathers information about your environment, and uses that to build the file.\n",
    "\n",
    "The `odsc data-catalog config` command line tool needs the `--metastore` option to define the Data Catalog metastore OCID. No other command line option is needed because settings have default values, or they take values from your notebook session environment. Following are common parameters that you may need to override.\n",
    "\n",
    "The `--authentication` option sets the authentication mode. It supports resource principal and API keys. The preferred method for authentication is resource principal, which is sent with `--authentication resource_principal`. If you want to use API keys, then use the `--authentication api_key` option. If the `--authentication` isn't specified, API keys are used. When API keys are used, information from the OCI configuration file is used to create the `spark-defaults.conf` file.\n",
    "\n",
    "Object Storage and Data Catalog are regional services. By default, the region is set to the region your notebook session is running in. This information is taken from the environment variable, `NB_REGION`. Use the `--region` option to override this behavior.\n",
    "\n",
    "The default location of the `spark-defaults.conf` file is `/home/datascience/spark_conf_dir` as defined in the `SPARK_CONF_DIR` environment variable. Use the `--output` option to define the directory where to write the file.\n",
    "\n",
    "You need to determine what settings are appropriate for your configuration. However, the following works for most configurations and is run in a terminal window.\n",
    "\n",
    "```bash\n",
    "odsc data-catalog config --authentication resource_principal --metastore <metastore_id>\n",
    "```\n",
    "For more assistance, use the following command in a terminal window:\n",
    "\n",
    "```bash\n",
    "odsc data-catalog config --help\n",
    "```\n",
    "\n",
    "<a id='setup_session'></a>\n",
    "### Session Setup\n",
    "\n",
    "The notebook makes connections to the Data Catalog metastore and Object Storage. In the next cell, specify the bucket URI to act as the data warehouse. Use the `warehouse_uri` variable with the `oci://<bucket_name>@<namespace_name>/<key>` format. Update the variable `metastore_id` with the OCID of the Data Catalog metastore."
   ]
  },
  {
   "cell_type": "markdown",
   "id": "b2fbb03f",
   "metadata": {},
   "source": [
    "python -m pip install --pre oracle-ads==2.9.0rc0<a id='policies'></a>\n",
    "### 2.1. Policies\n",
    "This section covers the creation of dynamic groups and policies needed to use the service.\n",
    "\n",
    "* [Data Flow Policies](https://docs.oracle.com/iaas/data-flow/using/policies.htm/)\n",
    "* [Data Catalog Metastore Required Policies](https://docs.oracle.com/en-us/iaas/data-catalog/using/metastore.htm)\n",
    "* [Getting Started with Data Flow](https://docs.oracle.com/iaas/data-flow/using/dfs_getting_started.htm)\n",
    "* [About Data Science Policies](https://docs.oracle.com/iaas/data-science/using/policies.htm)"
   ]
  },
  {
   "cell_type": "code",
   "execution_count": 1,
   "id": "924ba999",
   "metadata": {},
   "outputs": [
    {
     "name": "stdout",
     "output_type": "stream",
     "text": [
      "Collecting oracle-ads==2.9.0rc0\n",
      "  Obtaining dependency information for oracle-ads==2.9.0rc0 from https://files.pythonhosted.org/packages/da/5a/155af49717f08104e7eabf682ffcd1344a3d78d63ff8aedb8ef392bebc6c/oracle_ads-2.9.0rc0-py3-none-any.whl.metadata\n",
      "  Using cached oracle_ads-2.9.0rc0-py3-none-any.whl.metadata (11 kB)\n",
      "Using cached oracle_ads-2.9.0rc0-py3-none-any.whl (4.3 MB)\n",
      "Installing collected packages: oracle-ads\n",
      "  Attempting uninstall: oracle-ads\n",
      "    Found existing installation: oracle-ads 2.8.8\n",
      "    Uninstalling oracle-ads-2.8.8:\n",
      "      Successfully uninstalled oracle-ads-2.8.8\n",
      "Successfully installed oracle-ads-2.9.0rc0\n"
     ]
    }
   ],
   "source": [
    "!pip install --pre --no-deps oracle-ads==2.9.0rc0 "
   ]
  },
  {
   "cell_type": "code",
   "execution_count": 25,
   "id": "11b0f0a6",
   "metadata": {},
   "outputs": [
    {
     "name": "stdout",
     "output_type": "stream",
     "text": [
      "Requirement already satisfied: doctran in /home/datascience/conda/fspyspark32_p38_cpu_v1/lib/python3.8/site-packages (0.0.14)\n",
      "Requirement already satisfied: python-dotenv in /home/datascience/conda/fspyspark32_p38_cpu_v1/lib/python3.8/site-packages (1.0.0)\n",
      "\u001B[31mERROR: Could not find a version that satisfies the requirement os (from versions: none)\u001B[0m\u001B[31m\n",
      "\u001B[0m\u001B[31mERROR: No matching distribution found for os\u001B[0m\u001B[31m\n",
      "\u001B[0m"
     ]
    }
   ],
   "source": [
    "!pip install doctran python-dotenv os spacy"
   ]
  },
  {
   "cell_type": "code",
   "execution_count": null,
   "id": "361a41ce",
   "metadata": {},
   "outputs": [],
   "source": [
    "import spacy\n",
    "spacy.load('en_core_web_md')"
   ]
  },
  {
   "cell_type": "markdown",
   "id": "0be32e55",
   "metadata": {},
   "source": [
    "<a id=\"prerequisites_authentication\"></a>\n",
    "### 2.2. Authentication\n",
    "The [Oracle Accelerated Data Science SDK (ADS)](https://docs.oracle.com/iaas/tools/ads-sdk/latest/index.html) controls the authentication mechanism with the notebook cluster.<br>\n",
    "To setup authentication use the ```ads.set_auth(\"resource_principal\")``` or ```ads.set_auth(\"api_key\")```."
   ]
  },
  {
   "cell_type": "code",
   "execution_count": 1,
   "id": "224df6fb",
   "metadata": {
    "ExecuteTime": {
     "start_time": "2023-05-24T08:26:08.577504Z"
    },
    "is_executing": true,
    "pycharm": {
     "is_executing": true
    }
   },
   "outputs": [],
   "source": [
    "import ads\n",
    "ads.set_auth(auth=\"resource_principal\", client_kwargs={\"service_endpoint\": \"<api_path>\"})"
   ]
  },
  {
   "cell_type": "markdown",
   "id": "6efd2a75",
   "metadata": {},
   "source": [
    "<a id=\"prerequisites_variables\"></a>\n",
    "### 2.3. Variables\n",
    "To run this notebook, you must provide some information about your tenancy configuration. To create and run a feature store, you must specify a `<compartment_id>` and bucket `<metastore_id>` for offline feature store."
   ]
  },
  {
   "cell_type": "code",
   "execution_count": 2,
   "id": "0ce295e7",
   "metadata": {
    "pycharm": {
     "is_executing": true
    }
   },
   "outputs": [],
   "source": [
    "import os\n",
    "\n",
    "compartment_id = \"<compartment_i>\"\n",
    "metastore_id = \"<metastore_id>\""
   ]
  },
  {
   "cell_type": "markdown",
   "id": "ea9971b2",
   "metadata": {},
   "source": [
    "<a id=\"featurestore_querying\"></a>\n",
    "# 3. Feature group use cases\n",
    "By default the **PySpark 3.2, Feature store and Data Flow** conda environment includes pre-installed [great-expectations](https://legacy.docs.greatexpectations.io/en/latest/reference/core_concepts/validation.html) and [deeque](https://github.com/awslabs/deequ) libraries. The joining functionality is heavily inspired by the APIs used by Pandas to merge, join or filter DataFrames. The APIs allow you to specify which features to select from which feature group, how to join them and which features to use in join conditions."
   ]
  },
  {
   "cell_type": "code",
   "execution_count": 3,
   "id": "2fd484bb",
   "metadata": {
    "pycharm": {
     "is_executing": true
    }
   },
   "outputs": [],
   "source": [
    "import warnings\n",
    "warnings.filterwarnings(\"ignore\", message=\"iteritems is deprecated\")\n",
    "warnings.filterwarnings(\"ignore\", category=DeprecationWarning)"
   ]
  },
  {
   "cell_type": "code",
   "execution_count": 4,
   "id": "44f42deb",
   "metadata": {
    "pycharm": {
     "is_executing": true
    }
   },
   "outputs": [
    {
     "name": "stdout",
     "output_type": "stream",
     "text": [
      "WARNING:py.warnings:/home/datascience/conda/fspyspark32_p38_cpu_v1/lib/python3.8/site-packages/ads/model/deployment/model_deployment.py:53: DeprecationWarning: The `ads.model.deployment.model_deployment_properties` is deprecated in `oracle-ads 2.8.6` and will be removed in `oracle-ads 3.0`.Use `ModelDeploymentInfrastructure` and `ModelDeploymentRuntime` classes in `ads.model.deployment` module for configuring model deployment. Check https://accelerated-data-science.readthedocs.io/en/latest/user_guide/model_registration/introduction.html\n",
      "  from .model_deployment_properties import ModelDeploymentProperties\n",
      "\n",
      "WARNING:py.warnings:/home/datascience/conda/fspyspark32_p38_cpu_v1/lib/python3.8/site-packages/ads/model/deployment/__init__.py:7: DeprecationWarning: The `ads.model.deployment.model_deployer` is deprecated in `oracle-ads 2.8.6` and will be removed in `oracle-ads 3.0`.Use `ModelDeployment` class in `ads.model.deployment` module for initializing and deploying model deployment. Check https://accelerated-data-science.readthedocs.io/en/latest/user_guide/model_registration/introduction.html\n",
      "  from .model_deployer import ModelDeployer\n",
      "\n",
      "WARNING:py.warnings:/home/datascience/conda/fspyspark32_p38_cpu_v1/lib/python3.8/site-packages/pyspark/sql/pandas/utils.py:35: DeprecationWarning: distutils Version classes are deprecated. Use packaging.version instead.\n",
      "  if LooseVersion(pandas.__version__) < LooseVersion(minimum_pandas_version):\n",
      "\n",
      "WARNING:py.warnings:/home/datascience/conda/fspyspark32_p38_cpu_v1/lib/python3.8/site-packages/pyspark/sql/pandas/utils.py:57: DeprecationWarning: distutils Version classes are deprecated. Use packaging.version instead.\n",
      "  if LooseVersion(pyarrow.__version__) < LooseVersion(minimum_pyarrow_version):\n",
      "\n",
      "WARNING:py.warnings:/home/datascience/conda/fspyspark32_p38_cpu_v1/lib/python3.8/site-packages/pyspark/pandas/__init__.py:44: DeprecationWarning: distutils Version classes are deprecated. Use packaging.version instead.\n",
      "  LooseVersion(pyarrow.__version__) >= LooseVersion(\"2.0.0\")\n",
      "\n",
      "WARNING:root:'PYARROW_IGNORE_TIMEZONE' environment variable was not set. It is required to set this environment variable to '1' in both driver and executor sides if you use pyarrow>=2.0.0. pandas-on-Spark will set it for you but it does not work if there is a Spark context already launched.\n",
      "WARNING:py.warnings:/home/datascience/conda/fspyspark32_p38_cpu_v1/lib/python3.8/site-packages/pyspark/pandas/frame.py:62: DeprecationWarning: distutils Version classes are deprecated. Use packaging.version instead.\n",
      "  if LooseVersion(pd.__version__) >= LooseVersion(\"0.24\"):\n",
      "\n",
      "WARNING:py.warnings:/home/datascience/conda/fspyspark32_p38_cpu_v1/lib/python3.8/site-packages/pyspark/pandas/missing/frame.py:81: DeprecationWarning: distutils Version classes are deprecated. Use packaging.version instead.\n",
      "  if LooseVersion(pd.__version__) < LooseVersion(\"1.0\"):\n",
      "\n",
      "WARNING:py.warnings:/home/datascience/conda/fspyspark32_p38_cpu_v1/lib/python3.8/site-packages/pyspark/pandas/missing/indexes.py:85: DeprecationWarning: distutils Version classes are deprecated. Use packaging.version instead.\n",
      "  if LooseVersion(pd.__version__) < LooseVersion(\"1.0\"):\n",
      "\n",
      "WARNING:py.warnings:/home/datascience/conda/fspyspark32_p38_cpu_v1/lib/python3.8/site-packages/pyspark/pandas/missing/indexes.py:191: DeprecationWarning: distutils Version classes are deprecated. Use packaging.version instead.\n",
      "  if LooseVersion(pd.__version__) < LooseVersion(\"1.0\"):\n",
      "\n",
      "WARNING:py.warnings:/home/datascience/conda/fspyspark32_p38_cpu_v1/lib/python3.8/site-packages/pyspark/pandas/missing/series.py:89: DeprecationWarning: distutils Version classes are deprecated. Use packaging.version instead.\n",
      "  if LooseVersion(pd.__version__) < LooseVersion(\"1.0\"):\n",
      "\n",
      "WARNING:py.warnings:/home/datascience/conda/fspyspark32_p38_cpu_v1/lib/python3.8/site-packages/pyspark/pandas/groupby.py:50: DeprecationWarning: distutils Version classes are deprecated. Use packaging.version instead.\n",
      "  if LooseVersion(pd.__version__) >= LooseVersion(\"1.3.0\"):\n",
      "\n",
      "WARNING:py.warnings:/home/datascience/conda/fspyspark32_p38_cpu_v1/lib/python3.8/site-packages/fs/__init__.py:4: DeprecationWarning: Deprecated call to `pkg_resources.declare_namespace('fs')`.\n",
      "Implementing implicit namespace packages (as specified in PEP 420) is preferred to `pkg_resources.declare_namespace`. See https://setuptools.pypa.io/en/latest/references/keywords.html#keyword-namespace-packages\n",
      "  __import__(\"pkg_resources\").declare_namespace(__name__)  # type: ignore\n",
      "\n",
      "WARNING:py.warnings:/home/datascience/conda/fspyspark32_p38_cpu_v1/lib/python3.8/site-packages/fs/opener/__init__.py:6: DeprecationWarning: Deprecated call to `pkg_resources.declare_namespace('fs.opener')`.\n",
      "Implementing implicit namespace packages (as specified in PEP 420) is preferred to `pkg_resources.declare_namespace`. See https://setuptools.pypa.io/en/latest/references/keywords.html#keyword-namespace-packages\n",
      "  __import__(\"pkg_resources\").declare_namespace(__name__)  # type: ignore\n",
      "\n",
      "WARNING:py.warnings:/home/datascience/conda/fspyspark32_p38_cpu_v1/lib/python3.8/site-packages/pkg_resources/__init__.py:2350: DeprecationWarning: Deprecated call to `pkg_resources.declare_namespace('fs')`.\n",
      "Implementing implicit namespace packages (as specified in PEP 420) is preferred to `pkg_resources.declare_namespace`. See https://setuptools.pypa.io/en/latest/references/keywords.html#keyword-namespace-packages\n",
      "  declare_namespace(parent)\n",
      "\n"
     ]
    }
   ],
   "source": [
    "import pandas as pd\n",
    "from ads.feature_store.feature_store import FeatureStore\n",
    "from ads.feature_store.feature_group import FeatureGroup\n",
    "from ads.feature_store.model_details import ModelDetails\n",
    "from ads.feature_store.dataset import Dataset\n",
    "from ads.feature_store.common.enums import DatasetIngestionMode\n",
    "\n",
    "\n",
    "from ads.feature_store.feature_group_expectation import ExpectationType\n",
    "from great_expectations.core import ExpectationSuite, ExpectationConfiguration\n",
    "from ads.feature_store.feature_store_registrar import FeatureStoreRegistrar"
   ]
  },
  {
   "cell_type": "markdown",
   "id": "ed84371b",
   "metadata": {},
   "source": [
    "<a id=\"data_exploration\"></a>\n",
    "### 3.1. Exploration of data in feature store"
   ]
  },
  {
   "cell_type": "code",
   "execution_count": 5,
   "id": "6dcd917d",
   "metadata": {},
   "outputs": [
    {
     "data": {
      "text/html": [
       "<div>\n",
       "<style scoped>\n",
       "    .dataframe tbody tr th:only-of-type {\n",
       "        vertical-align: middle;\n",
       "    }\n",
       "\n",
       "    .dataframe tbody tr th {\n",
       "        vertical-align: top;\n",
       "    }\n",
       "\n",
       "    .dataframe thead th {\n",
       "        text-align: right;\n",
       "    }\n",
       "</style>\n",
       "<table border=\"1\" class=\"dataframe\">\n",
       "  <thead>\n",
       "    <tr style=\"text-align: right;\">\n",
       "      <th></th>\n",
       "      <th>id</th>\n",
       "      <th>letter</th>\n",
       "    </tr>\n",
       "  </thead>\n",
       "  <tbody>\n",
       "    <tr>\n",
       "      <th>0</th>\n",
       "      <td>1</td>\n",
       "      <td>[Generated with ChatGPT]\\n\\nConfidential Document - For Internal Use Only\\n\\nDate: July 1, 2023\\n\\nSubject: Updates and Discussions on Various Topics\\n\\nDear Team,\\n\\nI hope this email finds you well. In this document, I would like to provide you with some important updates and discuss various topics that require our attention. Please treat the information contained herein as highly confidential.\\n\\nSecurity and Privacy Measures\\nAs part of our ongoing commitment to ensure the security and privacy of our customers' data, we have implemented robust measures across all our systems. We would like to commend John Doe (email: john.doe@example.com) from the IT department for his diligent work in enhancing our network security. Moving forward, we kindly remind everyone to strictly adhere to our data protection policies and guidelines. Additionally, if you come across any potential security risks or incidents, please report them immediately to our dedicated team at security@example.com.\\n\\nHR Updates and Employee Benefits\\nRecently, we welcomed several new team members who have made significant contributions to their respective departments. I would like to recognize Jane Smith (SSN: 049-45-5928) for her outstanding performance in customer service. Jane has consistently received positive feedback from our clients. Furthermore, please remember that the open enrollment period for our employee benefits program is fast approaching. Should you have any questions or require assistance, please contact our HR representative, Michael Johnson (phone: 418-492-3850, email: michael.johnson@example.com).\\n\\nMarketing Initiatives and Campaigns\\nOur marketing team has been actively working on developing new strategies to increase brand awareness and drive customer engagement. We would like to thank Sarah Thompson (phone: 415-555-1234) for her exceptional efforts in managing our social media platforms. Sarah has successfully increased our follower base by 20% in the past month alone. Moreover, please mark your calendars for the upcoming product launch event on July 15th. We encourage all team members to attend and support this exciting milestone for our company.\\n\\nResearch and Development Projects\\nIn our pursuit of innovation, our research and development department has been working tirelessly on various projects. I would like to acknowledge the exceptional work of David Rodriguez (email: david.rodriguez@example.com) in his role as project lead. David's contributions to the development of our cutting-edge technology have been instrumental. Furthermore, we would like to remind everyone to share their ideas and suggestions for potential new projects during our monthly R&amp;D brainstorming session, scheduled for July 10th.\\n\\nPlease treat the information in this document with utmost confidentiality and ensure that it is not shared with unauthorized individuals. If you have any questions or concerns regarding the topics discussed, please do not hesitate to reach out to me directly.\\n\\nThank you for your attention, and let's continue to work together to achieve our goals.\\n\\nBest regards,\\n\\nJason Fan\\nCofounder &amp; CEO\\nPsychic\\njason@psychic.dev</td>\n",
       "    </tr>\n",
       "  </tbody>\n",
       "</table>\n",
       "</div>"
      ],
      "text/plain": [
       "   id  \\\n",
       "0   1   \n",
       "\n",
       "                                                                                                                                                                                                                                                                                                                                                                                                                                                                                                                                                                                                                                                                                                                                                                                                                                                                                                                                                                                                                                                                                                                                                                                                                                                                                                                                                                                                                                                                                                                                                                                                                                                                                                                                                                                                                                                                                                                                                                                                                                                                                                                                                                                                                                                                                                                                                                                                                                                                                                                                                                                                                                                                                                                                                                                                                                                                                                                                                                                                                                                                                                                                                                                                                                                                                                letter  \n",
       "0  [Generated with ChatGPT]\\n\\nConfidential Document - For Internal Use Only\\n\\nDate: July 1, 2023\\n\\nSubject: Updates and Discussions on Various Topics\\n\\nDear Team,\\n\\nI hope this email finds you well. In this document, I would like to provide you with some important updates and discuss various topics that require our attention. Please treat the information contained herein as highly confidential.\\n\\nSecurity and Privacy Measures\\nAs part of our ongoing commitment to ensure the security and privacy of our customers' data, we have implemented robust measures across all our systems. We would like to commend John Doe (email: john.doe@example.com) from the IT department for his diligent work in enhancing our network security. Moving forward, we kindly remind everyone to strictly adhere to our data protection policies and guidelines. Additionally, if you come across any potential security risks or incidents, please report them immediately to our dedicated team at security@example.com.\\n\\nHR Updates and Employee Benefits\\nRecently, we welcomed several new team members who have made significant contributions to their respective departments. I would like to recognize Jane Smith (SSN: 049-45-5928) for her outstanding performance in customer service. Jane has consistently received positive feedback from our clients. Furthermore, please remember that the open enrollment period for our employee benefits program is fast approaching. Should you have any questions or require assistance, please contact our HR representative, Michael Johnson (phone: 418-492-3850, email: michael.johnson@example.com).\\n\\nMarketing Initiatives and Campaigns\\nOur marketing team has been actively working on developing new strategies to increase brand awareness and drive customer engagement. We would like to thank Sarah Thompson (phone: 415-555-1234) for her exceptional efforts in managing our social media platforms. Sarah has successfully increased our follower base by 20% in the past month alone. Moreover, please mark your calendars for the upcoming product launch event on July 15th. We encourage all team members to attend and support this exciting milestone for our company.\\n\\nResearch and Development Projects\\nIn our pursuit of innovation, our research and development department has been working tirelessly on various projects. I would like to acknowledge the exceptional work of David Rodriguez (email: david.rodriguez@example.com) in his role as project lead. David's contributions to the development of our cutting-edge technology have been instrumental. Furthermore, we would like to remind everyone to share their ideas and suggestions for potential new projects during our monthly R&D brainstorming session, scheduled for July 10th.\\n\\nPlease treat the information in this document with utmost confidentiality and ensure that it is not shared with unauthorized individuals. If you have any questions or concerns regarding the topics discussed, please do not hesitate to reach out to me directly.\\n\\nThank you for your attention, and let's continue to work together to achieve our goals.\\n\\nBest regards,\\n\\nJason Fan\\nCofounder & CEO\\nPsychic\\njason@psychic.dev  "
      ]
     },
     "execution_count": 5,
     "metadata": {},
     "output_type": "execute_result"
    }
   ],
   "source": [
    "import pandas as pd\n",
    "\n",
    "# Define the text and ID\n",
    "text = \"\"\"[Generated with ChatGPT]\n",
    "\n",
    "Confidential Document - For Internal Use Only\n",
    "\n",
    "Date: July 1, 2023\n",
    "\n",
    "Subject: Updates and Discussions on Various Topics\n",
    "\n",
    "Dear Team,\n",
    "\n",
    "I hope this email finds you well. In this document, I would like to provide you with some important updates and discuss various topics that require our attention. Please treat the information contained herein as highly confidential.\n",
    "\n",
    "Security and Privacy Measures\n",
    "As part of our ongoing commitment to ensure the security and privacy of our customers' data, we have implemented robust measures across all our systems. We would like to commend John Doe (email: john.doe@example.com) from the IT department for his diligent work in enhancing our network security. Moving forward, we kindly remind everyone to strictly adhere to our data protection policies and guidelines. Additionally, if you come across any potential security risks or incidents, please report them immediately to our dedicated team at security@example.com.\n",
    "\n",
    "HR Updates and Employee Benefits\n",
    "Recently, we welcomed several new team members who have made significant contributions to their respective departments. I would like to recognize Jane Smith (SSN: 049-45-5928) for her outstanding performance in customer service. Jane has consistently received positive feedback from our clients. Furthermore, please remember that the open enrollment period for our employee benefits program is fast approaching. Should you have any questions or require assistance, please contact our HR representative, Michael Johnson (phone: 418-492-3850, email: michael.johnson@example.com).\n",
    "\n",
    "Marketing Initiatives and Campaigns\n",
    "Our marketing team has been actively working on developing new strategies to increase brand awareness and drive customer engagement. We would like to thank Sarah Thompson (phone: 415-555-1234) for her exceptional efforts in managing our social media platforms. Sarah has successfully increased our follower base by 20% in the past month alone. Moreover, please mark your calendars for the upcoming product launch event on July 15th. We encourage all team members to attend and support this exciting milestone for our company.\n",
    "\n",
    "Research and Development Projects\n",
    "In our pursuit of innovation, our research and development department has been working tirelessly on various projects. I would like to acknowledge the exceptional work of David Rodriguez (email: david.rodriguez@example.com) in his role as project lead. David's contributions to the development of our cutting-edge technology have been instrumental. Furthermore, we would like to remind everyone to share their ideas and suggestions for potential new projects during our monthly R&D brainstorming session, scheduled for July 10th.\n",
    "\n",
    "Please treat the information in this document with utmost confidentiality and ensure that it is not shared with unauthorized individuals. If you have any questions or concerns regarding the topics discussed, please do not hesitate to reach out to me directly.\n",
    "\n",
    "Thank you for your attention, and let's continue to work together to achieve our goals.\n",
    "\n",
    "Best regards,\n",
    "\n",
    "Jason Fan\n",
    "Cofounder & CEO\n",
    "Psychic\n",
    "jason@psychic.dev\"\"\"\n",
    "\n",
    "document_id = 1\n",
    "\n",
    "df = pd.DataFrame({'id': [document_id], 'letter': [text]})\n",
    "df"
   ]
  },
  {
   "cell_type": "markdown",
   "id": "65cc0e6e",
   "metadata": {},
   "source": [
    "<a id=\"load_featuregroup\"></a>\n",
    "### 3.2. Create feature store logical entities"
   ]
  },
  {
   "cell_type": "markdown",
   "id": "123eba61",
   "metadata": {},
   "source": [
    "#### 3.2.1 Feature Store\n",
    "Feature store is the top level entity for feature store service"
   ]
  },
  {
   "cell_type": "code",
   "execution_count": 6,
   "id": "622596cb",
   "metadata": {
    "pycharm": {
     "is_executing": true
    }
   },
   "outputs": [],
   "source": [
    "feature_store_resource = (\n",
    "    FeatureStore().\n",
    "    with_description(\"Data Redaction Feature Store\").\n",
    "    with_compartment_id(compartment_id).\n",
    "    with_display_name(\"Data redaction\").\n",
    "    with_offline_config(metastore_id=metastore_id)\n",
    ")"
   ]
  },
  {
   "cell_type": "markdown",
   "id": "f1882af4",
   "metadata": {},
   "source": [
    "<a id=\"create_feature_store\"></a>\n",
    "##### Create Feature Store\n",
    "\n",
    "Call the ```.create()``` method of the Feature store instance to create a feature store."
   ]
  },
  {
   "cell_type": "code",
   "execution_count": 7,
   "id": "2b390afb",
   "metadata": {
    "pycharm": {
     "is_executing": true
    }
   },
   "outputs": [
    {
     "data": {
      "text/plain": [
       "\n",
       "kind: featurestore\n",
       "spec:\n",
       "  compartmentId: ocid1.tenancy.oc1..aaaaaaaa462hfhplpx652b32ix62xrdijppq2c7okwcqjlgrbknhgtj2kofa\n",
       "  description: Data Redaction Feature Store\n",
       "  displayName: Data redaction\n",
       "  id: E8A14F21A0E746EC7470D62D5F18EF85\n",
       "  offlineConfig:\n",
       "    metastoreId: ocid1.datacatalogmetastore.oc1.iad.amaaaaaabiudgxyap7tizm4gscwz7amu7dixz7ml3mtesqzzwwg3urvvdgua\n",
       "type: featureStore"
      ]
     },
     "execution_count": 7,
     "metadata": {},
     "output_type": "execute_result"
    }
   ],
   "source": [
    "feature_store = feature_store_resource.create()\n",
    "feature_store"
   ]
  },
  {
   "cell_type": "markdown",
   "id": "f9aac334",
   "metadata": {},
   "source": [
    "#### 3.2.2 Entity\n",
    "An entity is a logical segregation of feature store entities"
   ]
  },
  {
   "cell_type": "code",
   "execution_count": 8,
   "id": "74f1d627",
   "metadata": {},
   "outputs": [
    {
     "data": {
      "text/plain": [
       "\n",
       "kind: entity\n",
       "spec:\n",
       "  compartmentId: ocid1.tenancy.oc1..aaaaaaaa462hfhplpx652b32ix62xrdijppq2c7okwcqjlgrbknhgtj2kofa\n",
       "  description: Data Redaction Feature Store\n",
       "  featureStoreId: E8A14F21A0E746EC7470D62D5F18EF85\n",
       "  id: 488CBD7C038DA49C77B5C8C13094BFD4\n",
       "  name: Data Redaction Feature Store\n",
       "type: entity"
      ]
     },
     "execution_count": 8,
     "metadata": {},
     "output_type": "execute_result"
    }
   ],
   "source": [
    "entity = feature_store.create_entity(\n",
    "    display_name=\"Data Redaction Feature Store\",\n",
    "    description=\"Data Redaction Feature Store\"\n",
    ")\n",
    "entity"
   ]
  },
  {
   "cell_type": "markdown",
   "id": "30fea434",
   "metadata": {},
   "source": [
    "#### 3.2.3 Transformation"
   ]
  },
  {
   "cell_type": "code",
   "execution_count": 9,
   "id": "0ed916b9",
   "metadata": {},
   "outputs": [],
   "source": [
    "def transform_dataframe(input_df, content_column='letter'):\n",
    "    import pandas as pd\n",
    "    from doctran import Doctran\n",
    "    import dotenv\n",
    "    import os\n",
    "    dotenv.load_dotenv()\n",
    "    OPENAI_API_KEY = os.getenv(\"OPENAI_API_KEY\")\n",
    "    OPENAI_MODEL = \"gpt-4\"\n",
    "    OPENAI_TOKEN_LIMIT = 8000\n",
    "\n",
    "    # Function to apply transformations to each row\n",
    "    def apply_transformations(row):\n",
    "        doctran = Doctran(openai_api_key=OPENAI_API_KEY, openai_model=OPENAI_MODEL, openai_token_limit=OPENAI_TOKEN_LIMIT)\n",
    "        document = doctran.parse(content=row[content_column])\n",
    "        transformed_document = (document\n",
    "                                .redact(entities=[\"PERSON\", \"EMAIL_ADDRESS\", \"PHONE_NUMBER\", \"US_SSN\"])\n",
    "                                .summarize(token_limit=10)\n",
    "                                .translate(language=\"french\")\n",
    "                                .execute()\n",
    "                                )\n",
    "\n",
    "        return transformed_document.transformed_content\n",
    "\n",
    "    # Apply the transformations to each row\n",
    "    input_df['transformed_content'] = input_df.apply(apply_transformations, axis=1)\n",
    "    return input_df"
   ]
  },
  {
   "cell_type": "code",
   "execution_count": 10,
   "id": "a7c00c39",
   "metadata": {},
   "outputs": [
    {
     "data": {
      "text/plain": [
       "\n",
       "kind: transformation\n",
       "spec:\n",
       "  compartmentId: ocid1.tenancy.oc1..aaaaaaaa462hfhplpx652b32ix62xrdijppq2c7okwcqjlgrbknhgtj2kofa\n",
       "  displayName: transform_dataframe\n",
       "  featureStoreId: E8A14F21A0E746EC7470D62D5F18EF85\n",
       "  id: EA2BC47BD5DDF318148DC478EE78F71D\n",
       "  sourceCode: ZGVmIHRyYW5zZm9ybV9kYXRhZnJhbWUoaW5wdXRfZGYsIGNvbnRlbnRfY29sdW1uPSdsZXR0ZXInKToKICAgIGltcG9ydCBwYW5kYXMgYXMgcGQKICAgIGZyb20gZG9jdHJhbiBpbXBvcnQgRG9jdHJhbgogICAgaW1wb3J0IGRvdGVudgogICAgaW1wb3J0IG9zCiAgICBkb3RlbnYubG9hZF9kb3RlbnYoKQogICAgT1BFTkFJX0FQSV9LRVkgPSBvcy5nZXRlbnYoIk9QRU5BSV9BUElfS0VZIikKICAgIE9QRU5BSV9NT0RFTCA9ICJncHQtNCIKICAgIE9QRU5BSV9UT0tFTl9MSU1JVCA9IDgwMDAKCiAgICAjIEZ1bmN0aW9uIHRvIGFwcGx5IHRyYW5zZm9ybWF0aW9ucyB0byBlYWNoIHJvdwogICAgZGVmIGFwcGx5X3RyYW5zZm9ybWF0aW9ucyhyb3cpOgogICAgICAgIGRvY3RyYW4gPSBEb2N0cmFuKG9wZW5haV9hcGlfa2V5PU9QRU5BSV9BUElfS0VZLCBvcGVuYWlfbW9kZWw9T1BFTkFJX01PREVMLCBvcGVuYWlfdG9rZW5fbGltaXQ9T1BFTkFJX1RPS0VOX0xJTUlUKQogICAgICAgIGRvY3VtZW50ID0gZG9jdHJhbi5wYXJzZShjb250ZW50PXJvd1tjb250ZW50X2NvbHVtbl0pCiAgICAgICAgdHJhbnNmb3JtZWRfZG9jdW1lbnQgPSAoZG9jdW1lbnQKICAgICAgICAgICAgICAgICAgICAgICAgICAgICAgICAucmVkYWN0KGVudGl0aWVzPVsiUEVSU09OIiwgIkVNQUlMX0FERFJFU1MiLCAiUEhPTkVfTlVNQkVSIiwgIlVTX1NTTiJdKQogICAgICAgICAgICAgICAgICAgICAgICAgICAgICAgIC5zdW1tYXJpemUodG9rZW5fbGltaXQ9MTApCiAgICAgICAgICAgICAgICAgICAgICAgICAgICAgICAgLnRyYW5zbGF0ZShsYW5ndWFnZT0iZnJlbmNoIikKICAgICAgICAgICAgICAgICAgICAgICAgICAgICAgICAuZXhlY3V0ZSgpCiAgICAgICAgICAgICAgICAgICAgICAgICAgICAgICAgKQoKICAgICAgICByZXR1cm4gdHJhbnNmb3JtZWRfZG9jdW1lbnQudHJhbnNmb3JtZWRfY29udGVudAoKICAgICMgQXBwbHkgdGhlIHRyYW5zZm9ybWF0aW9ucyB0byBlYWNoIHJvdwogICAgaW5wdXRfZGZbJ3RyYW5zZm9ybWVkX2NvbnRlbnQnXSA9IGlucHV0X2RmLmFwcGx5KGFwcGx5X3RyYW5zZm9ybWF0aW9ucywgYXhpcz0xKQogICAgcmV0dXJuIGlucHV0X2RmCg==\n",
       "  transformationMode: pandas\n",
       "type: transformation"
      ]
     },
     "execution_count": 10,
     "metadata": {},
     "output_type": "execute_result"
    }
   ],
   "source": [
    "from ads.feature_store.transformation import TransformationMode\n",
    "\n",
    "pii_data_redaction_transformation = feature_store.create_transformation(\n",
    "    transformation_mode=TransformationMode.PANDAS,\n",
    "    source_code_func=transform_dataframe,\n",
    "    display_name=\"transform_dataframe\",\n",
    ")\n",
    "\n",
    "pii_data_redaction_transformation"
   ]
  },
  {
   "cell_type": "markdown",
   "id": "dc735868",
   "metadata": {},
   "source": [
    "#### 3.2.3 Feature group\n",
    "A feature group is an object that represents a logical group of time-series feature data as it is found in a datasource."
   ]
  },
  {
   "cell_type": "markdown",
   "id": "8a7b4cc4",
   "metadata": {},
   "source": [
    "<a id=\"create_feature_group_flights\"></a>\n",
    "##### PII redaction feature Group\n",
    "\n",
    "Create feature group for PII Redaction Feature Group\n",
    "\n",
    "<div>\n",
    "    <img src=\"https://objectstorage.us-ashburn-1.oraclecloud.com/p/hh2NOgFJbVSg4amcLM3G3hkTuHyBD-8aE_iCsuZKEvIav1Wlld-3zfCawG4ycQGN/n/ociodscdev/b/oci-feature-store/o/beta/_images/feature_group_flights.gif\" width=\"700\" height=\"350\" />\n",
    "</div>"
   ]
  },
  {
   "cell_type": "code",
   "execution_count": 11,
   "id": "0e7772dc",
   "metadata": {},
   "outputs": [
    {
     "name": "stderr",
     "output_type": "stream",
     "text": [
      "Setting default log level to \"WARN\".\n",
      "To adjust logging level use sc.setLogLevel(newLevel). For SparkR, use setLogLevel(newLevel).\n",
      "2023/11/11 07:54:41 NativeCodeLoader: Unable to load native-hadoop library for your platform... using builtin-java classes where applicable\n"
     ]
    },
    {
     "name": "stdout",
     "output_type": "stream",
     "text": [
      "WARNING:py.warnings:/home/datascience/conda/fspyspark32_p38_cpu_v1/lib/python3.8/site-packages/pyspark/sql/pandas/utils.py:35: DeprecationWarning: distutils Version classes are deprecated. Use packaging.version instead.\n",
      "  if LooseVersion(pandas.__version__) < LooseVersion(minimum_pandas_version):\n",
      "\n",
      "WARNING:py.warnings:/home/datascience/conda/fspyspark32_p38_cpu_v1/lib/python3.8/site-packages/pyspark/sql/pandas/utils.py:57: DeprecationWarning: distutils Version classes are deprecated. Use packaging.version instead.\n",
      "  if LooseVersion(pyarrow.__version__) < LooseVersion(minimum_pyarrow_version):\n",
      "\n"
     ]
    }
   ],
   "source": [
    "data_redaction_feature_group = (\n",
    "    FeatureGroup()\n",
    "    .with_feature_store_id(feature_store.id)\n",
    "    .with_primary_keys([])\n",
    "    .with_name(\"data_redaction_fg\")\n",
    "    .with_entity_id(entity.id)\n",
    "    .with_compartment_id(compartment_id)\n",
    "    .with_schema_details_from_dataframe(df)\n",
    "    .with_transformation_id(pii_data_redaction_transformation.id)\n",
    ")"
   ]
  },
  {
   "cell_type": "code",
   "execution_count": 12,
   "id": "2e6eeade",
   "metadata": {},
   "outputs": [
    {
     "data": {
      "text/plain": [
       "\n",
       "kind: FeatureGroup\n",
       "spec:\n",
       "  compartmentId: ocid1.tenancy.oc1..aaaaaaaa462hfhplpx652b32ix62xrdijppq2c7okwcqjlgrbknhgtj2kofa\n",
       "  entityId: 488CBD7C038DA49C77B5C8C13094BFD4\n",
       "  featureStoreId: E8A14F21A0E746EC7470D62D5F18EF85\n",
       "  id: 7F5265FE17466AD35C0ED2DEA14A7080\n",
       "  inputFeatureDetails:\n",
       "  - featureType: LONG\n",
       "    name: id\n",
       "    orderNumber: 1\n",
       "  - featureType: STRING\n",
       "    name: letter\n",
       "    orderNumber: 2\n",
       "  isInferSchema: true\n",
       "  name: data_redaction_fg\n",
       "  primaryKeys:\n",
       "    items: []\n",
       "  statisticsConfig:\n",
       "    isEnabled: true\n",
       "  transformationId: EA2BC47BD5DDF318148DC478EE78F71D\n",
       "  transformationParameters: e30=\n",
       "type: featureGroup"
      ]
     },
     "execution_count": 12,
     "metadata": {},
     "output_type": "execute_result"
    }
   ],
   "source": [
    "data_redaction_feature_group.create()"
   ]
  },
  {
   "cell_type": "code",
   "execution_count": 13,
   "id": "02f78c2c",
   "metadata": {},
   "outputs": [
    {
     "data": {
      "image/svg+xml": [
       "<?xml version=\"1.0\" encoding=\"UTF-8\" standalone=\"no\"?>\n",
       "<!DOCTYPE svg PUBLIC \"-//W3C//DTD SVG 1.1//EN\"\n",
       " \"http://www.w3.org/Graphics/SVG/1.1/DTD/svg11.dtd\">\n",
       "<!-- Generated by graphviz version 2.30.1 (20200602.1248)\n",
       " -->\n",
       "<!-- Title: %3 Pages: 1 -->\n",
       "<svg width=\"590pt\" height=\"134pt\"\n",
       " viewBox=\"0.00 0.00 590.00 134.00\" xmlns=\"http://www.w3.org/2000/svg\" xmlns:xlink=\"http://www.w3.org/1999/xlink\">\n",
       "<g id=\"graph0\" class=\"graph\" transform=\"scale(1 1) rotate(0) translate(4 130)\">\n",
       "<title>%3</title>\n",
       "<polygon fill=\"white\" stroke=\"white\" points=\"-4,5 -4,-130 587,-130 587,5 -4,5\"/>\n",
       "<!-- E8A14F21A0E746EC7470D62D5F18EF85 -->\n",
       "<g id=\"node1\" class=\"node\"><title>E8A14F21A0E746EC7470D62D5F18EF85</title>\n",
       "<path fill=\"#dedede\" stroke=\"#dedede\" d=\"M158,-90C158,-90 12,-90 12,-90 6,-90 0,-84 0,-78 0,-78 0,-48 0,-48 0,-42 6,-36 12,-36 12,-36 158,-36 158,-36 164,-36 170,-42 170,-48 170,-48 170,-78 170,-78 170,-84 164,-90 158,-90\"/>\n",
       "<text text-anchor=\"start\" x=\"49.5\" y=\"-73.7\" font-family=\"Helvetica,Arial,sans-serif\" font-size=\"11.00\">Data redaction</text>\n",
       "<text text-anchor=\"start\" x=\"63.5\" y=\"-59.4\" font-family=\"Helvetica,Arial,sans-serif\" font-size=\"7.00\">Feature Store</text>\n",
       "<text text-anchor=\"start\" x=\"12.5\" y=\"-46.4\" font-family=\"Courier New\" font-size=\"7.00\">E8A14F21A0E746EC7470D62D5F18EF85</text>\n",
       "</g>\n",
       "<!-- 488CBD7C038DA49C77B5C8C13094BFD4 -->\n",
       "<g id=\"node2\" class=\"node\"><title>488CBD7C038DA49C77B5C8C13094BFD4</title>\n",
       "<path fill=\"#dedede\" stroke=\"#dedede\" d=\"M364,-126C364,-126 218,-126 218,-126 212,-126 206,-120 206,-114 206,-114 206,-84 206,-84 206,-78 212,-72 218,-72 218,-72 364,-72 364,-72 370,-72 376,-78 376,-84 376,-84 376,-114 376,-114 376,-120 370,-126 364,-126\"/>\n",
       "<text text-anchor=\"start\" x=\"218.5\" y=\"-109.7\" font-family=\"Helvetica,Arial,sans-serif\" font-size=\"11.00\">Data Redaction Feature Store</text>\n",
       "<text text-anchor=\"start\" x=\"281.5\" y=\"-95.4\" font-family=\"Helvetica,Arial,sans-serif\" font-size=\"7.00\">Entity</text>\n",
       "<text text-anchor=\"start\" x=\"218.5\" y=\"-82.4\" font-family=\"Courier New\" font-size=\"7.00\">488CBD7C038DA49C77B5C8C13094BFD4</text>\n",
       "</g>\n",
       "<!-- E8A14F21A0E746EC7470D62D5F18EF85&#45;&gt;488CBD7C038DA49C77B5C8C13094BFD4 -->\n",
       "<g id=\"edge1\" class=\"edge\"><title>E8A14F21A0E746EC7470D62D5F18EF85&#45;&gt;488CBD7C038DA49C77B5C8C13094BFD4</title>\n",
       "<path fill=\"none\" stroke=\"black\" d=\"M170.152,-77.8504C178.593,-79.34 187.202,-80.8592 195.739,-82.3656\"/>\n",
       "<polygon fill=\"black\" stroke=\"black\" points=\"195.256,-85.8344 205.712,-84.1256 196.472,-78.9409 195.256,-85.8344\"/>\n",
       "</g>\n",
       "<!-- EA2BC47BD5DDF318148DC478EE78F71D -->\n",
       "<g id=\"node3\" class=\"node\"><title>EA2BC47BD5DDF318148DC478EE78F71D</title>\n",
       "<path fill=\"#dedede\" stroke=\"#dedede\" d=\"M364,-54C364,-54 218,-54 218,-54 212,-54 206,-48 206,-42 206,-42 206,-12 206,-12 206,-6 212,-0 218,-0 218,-0 364,-0 364,-0 370,-0 376,-6 376,-12 376,-12 376,-42 376,-42 376,-48 370,-54 364,-54\"/>\n",
       "<text text-anchor=\"start\" x=\"240.5\" y=\"-37.7\" font-family=\"Helvetica,Arial,sans-serif\" font-size=\"11.00\">transform_dataframe</text>\n",
       "<text text-anchor=\"start\" x=\"267.5\" y=\"-23.4\" font-family=\"Helvetica,Arial,sans-serif\" font-size=\"7.00\">Transformation</text>\n",
       "<text text-anchor=\"start\" x=\"218.5\" y=\"-10.4\" font-family=\"Courier New\" font-size=\"7.00\">EA2BC47BD5DDF318148DC478EE78F71D</text>\n",
       "</g>\n",
       "<!-- E8A14F21A0E746EC7470D62D5F18EF85&#45;&gt;EA2BC47BD5DDF318148DC478EE78F71D -->\n",
       "<g id=\"edge2\" class=\"edge\"><title>E8A14F21A0E746EC7470D62D5F18EF85&#45;&gt;EA2BC47BD5DDF318148DC478EE78F71D</title>\n",
       "<path fill=\"none\" stroke=\"black\" d=\"M170.152,-48.1496C178.593,-46.66 187.202,-45.1408 195.739,-43.6344\"/>\n",
       "<polygon fill=\"black\" stroke=\"black\" points=\"196.472,-47.0591 205.712,-41.8744 195.256,-40.1656 196.472,-47.0591\"/>\n",
       "</g>\n",
       "<!-- 7F5265FE17466AD35C0ED2DEA14A7080 -->\n",
       "<g id=\"node4\" class=\"node\"><title>7F5265FE17466AD35C0ED2DEA14A7080</title>\n",
       "<path fill=\"#dedede\" stroke=\"#dedede\" d=\"M570,-90C570,-90 424,-90 424,-90 418,-90 412,-84 412,-78 412,-78 412,-48 412,-48 412,-42 418,-36 424,-36 424,-36 570,-36 570,-36 576,-36 582,-42 582,-48 582,-48 582,-78 582,-78 582,-84 576,-90 570,-90\"/>\n",
       "<text text-anchor=\"start\" x=\"453.5\" y=\"-73.7\" font-family=\"Helvetica,Arial,sans-serif\" font-size=\"11.00\">data_redaction_fg</text>\n",
       "<text text-anchor=\"start\" x=\"474\" y=\"-59.4\" font-family=\"Helvetica,Arial,sans-serif\" font-size=\"7.00\">Feature Group</text>\n",
       "<text text-anchor=\"start\" x=\"424.5\" y=\"-46.4\" font-family=\"Courier New\" font-size=\"7.00\">7F5265FE17466AD35C0ED2DEA14A7080</text>\n",
       "</g>\n",
       "<!-- 488CBD7C038DA49C77B5C8C13094BFD4&#45;&gt;7F5265FE17466AD35C0ED2DEA14A7080 -->\n",
       "<g id=\"edge3\" class=\"edge\"><title>488CBD7C038DA49C77B5C8C13094BFD4&#45;&gt;7F5265FE17466AD35C0ED2DEA14A7080</title>\n",
       "<path fill=\"none\" stroke=\"black\" d=\"M376.152,-84.1496C384.593,-82.66 393.202,-81.1408 401.739,-79.6344\"/>\n",
       "<polygon fill=\"black\" stroke=\"black\" points=\"402.472,-83.0591 411.712,-77.8744 401.256,-76.1656 402.472,-83.0591\"/>\n",
       "</g>\n",
       "<!-- EA2BC47BD5DDF318148DC478EE78F71D&#45;&gt;7F5265FE17466AD35C0ED2DEA14A7080 -->\n",
       "<g id=\"edge4\" class=\"edge\"><title>EA2BC47BD5DDF318148DC478EE78F71D&#45;&gt;7F5265FE17466AD35C0ED2DEA14A7080</title>\n",
       "<path fill=\"none\" stroke=\"black\" d=\"M376.152,-41.8504C384.593,-43.34 393.202,-44.8592 401.739,-46.3656\"/>\n",
       "<polygon fill=\"black\" stroke=\"black\" points=\"401.256,-49.8344 411.712,-48.1256 402.472,-42.9409 401.256,-49.8344\"/>\n",
       "</g>\n",
       "</g>\n",
       "</svg>\n"
      ],
      "text/plain": [
       "<graphviz.dot.Digraph at 0x7f70b86e9e80>"
      ]
     },
     "metadata": {},
     "output_type": "display_data"
    }
   ],
   "source": [
    "data_redaction_feature_group.show()"
   ]
  },
  {
   "cell_type": "code",
   "execution_count": 14,
   "id": "f6a0801e",
   "metadata": {},
   "outputs": [
    {
     "name": "stderr",
     "output_type": "stream",
     "text": [
      "Hive Session ID = 36e117f9-b568-4a23-9817-cedc8adb1937\n"
     ]
    },
    {
     "name": "stdout",
     "output_type": "stream",
     "text": [
      "WARNING:presidio-analyzer:model_to_presidio_entity_mapping is missing from configuration, using default\n",
      "WARNING:presidio-analyzer:low_score_entity_names is missing from configuration, using default\n",
      "WARNING:presidio-analyzer:labels_to_ignore is missing from configuration, using default\n",
      "INFO:presidio-analyzer:Created NLP engine: spacy. Loaded models: ['en']\n",
      "INFO:presidio-analyzer:registry not provided, creating default.\n",
      "INFO:presidio-analyzer:Loaded recognizer: UsBankRecognizer\n",
      "INFO:presidio-analyzer:Loaded recognizer: UsLicenseRecognizer\n",
      "INFO:presidio-analyzer:Loaded recognizer: UsItinRecognizer\n",
      "INFO:presidio-analyzer:Loaded recognizer: UsPassportRecognizer\n",
      "INFO:presidio-analyzer:Loaded recognizer: UsSsnRecognizer\n",
      "INFO:presidio-analyzer:Loaded recognizer: NhsRecognizer\n",
      "INFO:presidio-analyzer:Loaded recognizer: SgFinRecognizer\n",
      "INFO:presidio-analyzer:Loaded recognizer: AuAbnRecognizer\n",
      "INFO:presidio-analyzer:Loaded recognizer: AuAcnRecognizer\n",
      "INFO:presidio-analyzer:Loaded recognizer: AuTfnRecognizer\n",
      "INFO:presidio-analyzer:Loaded recognizer: AuMedicareRecognizer\n",
      "INFO:presidio-analyzer:Loaded recognizer: InPanRecognizer\n",
      "INFO:presidio-analyzer:Loaded recognizer: CreditCardRecognizer\n",
      "INFO:presidio-analyzer:Loaded recognizer: CryptoRecognizer\n",
      "INFO:presidio-analyzer:Loaded recognizer: DateRecognizer\n",
      "INFO:presidio-analyzer:Loaded recognizer: EmailRecognizer\n",
      "INFO:presidio-analyzer:Loaded recognizer: IbanRecognizer\n",
      "INFO:presidio-analyzer:Loaded recognizer: IpRecognizer\n",
      "INFO:presidio-analyzer:Loaded recognizer: MedicalLicenseRecognizer\n",
      "INFO:presidio-analyzer:Loaded recognizer: PhoneRecognizer\n",
      "INFO:presidio-analyzer:Loaded recognizer: UrlRecognizer\n",
      "INFO:presidio-analyzer:Loaded recognizer: SpacyRecognizer\n",
      "WARNING:py.warnings:/home/datascience/conda/fspyspark32_p38_cpu_v1/lib/python3.8/site-packages/pyspark/sql/pandas/utils.py:35: DeprecationWarning: distutils Version classes are deprecated. Use packaging.version instead.\n",
      "  if LooseVersion(pandas.__version__) < LooseVersion(minimum_pandas_version):\n",
      "\n",
      "WARNING:py.warnings:/home/datascience/conda/fspyspark32_p38_cpu_v1/lib/python3.8/site-packages/pyspark/sql/pandas/utils.py:57: DeprecationWarning: distutils Version classes are deprecated. Use packaging.version instead.\n",
      "  if LooseVersion(pyarrow.__version__) < LooseVersion(minimum_pyarrow_version):\n",
      "\n"
     ]
    },
    {
     "name": "stderr",
     "output_type": "stream",
     "text": [
      "                                                                                \r"
     ]
    },
    {
     "name": "stdout",
     "output_type": "stream",
     "text": [
      "INFO:mlm_insights.builder:validating required components\n",
      "INFO:mlm_insights.builder:required components validated\n",
      "INFO:mlm_insights.builder.usage:Activating Minimal Insights Usage\n",
      "INFO:mlm_insights.builder:Generating Runner object\n",
      "INFO:mlm_insights.builder:Generating workflow request\n",
      "INFO:mlm_insights.workflow:Fetching engine object\n",
      "INFO:mlm_insights.workflow:Returning native engine object\n",
      "INFO:mlm_insights.builder:Running Fugue Workflow\n",
      "INFO:mlm_insights.workflow:Executing Fugue Workflow\n"
     ]
    },
    {
     "name": "stderr",
     "output_type": "stream",
     "text": [
      "[Stage 8:>                                                          (0 + 1) / 1]\r"
     ]
    },
    {
     "name": "stdout",
     "output_type": "stream",
     "text": [
      "INFO:mlm_insights.core.sfcs:creating sfc from {'c5144335a509689fc50d13d03eebc9b1': FrequentItemsSFC(sketch=<_datasketches.frequent_strings_sketch object at 0x7f70a52f01f0>), 'c19e3960aa08a392d20aaa5da607d9ea': DescriptiveStatisticsSFC(total_count=1.0, mean=1.0, minimum=1.0, maximum=1.0, central_moments=[1.0, 0.0, 0.0, 0.0, 0.0]), '4cd1d3704778a196571a6c83581854cc': DistinctCountSFC(sketch=<_datasketches.hll_sketch object at 0x7f70a5244ab0>), '6e3ac490990d92bca69c828fe3aff8ad': QuantilesSFC(kll_sketch=<_datasketches.kll_doubles_sketch object at 0x7f70a52fa170>)} sfc map\n",
      "INFO:mlm_insights.core.sfcs:creating sfc from {'c5144335a509689fc50d13d03eebc9b1': FrequentItemsSFC(sketch=<_datasketches.frequent_strings_sketch object at 0x7f70b017c030>), '4cd1d3704778a196571a6c83581854cc': DistinctCountSFC(sketch=<_datasketches.hll_sketch object at 0x7f70a52fa0f0>)} sfc map\n",
      "INFO:mlm_insights.core.sfcs:creating sfc from {'c5144335a509689fc50d13d03eebc9b1': FrequentItemsSFC(sketch=<_datasketches.frequent_strings_sketch object at 0x7f70a52fa470>), '4cd1d3704778a196571a6c83581854cc': DistinctCountSFC(sketch=<_datasketches.hll_sketch object at 0x7f70a52fa5b0>)} sfc map\n",
      "INFO:mlm_insights.core.sdcs:creating sdc from {} sdc map\n",
      "INFO:mlm_insights.builder:Profile Generated Successfully\n",
      "INFO:mlm_insights.core.sfcs:getting SFCMetaData(klass=<class 'mlm_insights.core.sfcs.descriptive_statistics_sfc.DescriptiveStatisticsSFC'>, config={}) sfc from sfc meta data\n",
      "INFO:mlm_insights.core.metrics:Calculated Skewness metric, value: None\n",
      "INFO:mlm_insights.core.sfcs:getting SFCMetaData(klass=<class 'mlm_insights.core.sfcs.descriptive_statistics_sfc.DescriptiveStatisticsSFC'>, config={}) sfc from sfc meta data\n",
      "INFO:mlm_insights.core.sfcs:getting SFCMetaData(klass=<class 'mlm_insights.core.sfcs.descriptive_statistics_sfc.DescriptiveStatisticsSFC'>, config={}) sfc from sfc meta data\n",
      "INFO:mlm_insights.core.metrics:Creating StandardDeviation metric, value: 0.0\n",
      "INFO:mlm_insights.core.sfcs:getting SFCMetaData(klass=<class 'mlm_insights.core.sfcs.descriptive_statistics_sfc.DescriptiveStatisticsSFC'>, config={}) sfc from sfc meta data\n",
      "INFO:mlm_insights.core.sfcs:getting SFCMetaData(klass=<class 'mlm_insights.core.sfcs.descriptive_statistics_sfc.DescriptiveStatisticsSFC'>, config={}) sfc from sfc meta data\n",
      "INFO:mlm_insights.core.metrics:Calculated Min metric, value: 1.0\n",
      "INFO:mlm_insights.core.sfcs:getting SFCMetaData(klass=<class 'mlm_insights.core.sfcs.descriptive_statistics_sfc.DescriptiveStatisticsSFC'>, config={}) sfc from sfc meta data\n",
      "INFO:mlm_insights.core.sfcs:getting SFCMetaData(klass=<class 'mlm_insights.core.sfcs.frequent_items_sfc.FrequentItemsSFC'>, config={}) sfc from sfc meta data\n",
      "INFO:mlm_insights.core.sfcs:Getting top 2 frequent items\n",
      "INFO:mlm_insights.core.sfcs:Getting list of all frequent items\n",
      "INFO:mlm_insights.core.metrics:Calculated IsConstantFeature metric, value: True\n",
      "INFO:mlm_insights.core.sfcs:getting SFCMetaData(klass=<class 'mlm_insights.core.sfcs.quantiles_sfc.QuantilesSFC'>, config={}) sfc from sfc meta data\n",
      "INFO:mlm_insights.core.sfcs:getting quantiles from sketch for rank 0.75\n",
      "INFO:mlm_insights.core.sfcs:getting quantiles from sketch for rank 0.25\n",
      "INFO:mlm_insights.core.metrics:Calculated IQR metric, value: 0.0\n",
      "INFO:mlm_insights.core.sfcs:getting quantiles from sketch for rank 0.75\n",
      "INFO:mlm_insights.core.sfcs:getting quantiles from sketch for rank 0.25\n",
      "INFO:mlm_insights.core.sfcs:getting SFCMetaData(klass=<class 'mlm_insights.core.sfcs.descriptive_statistics_sfc.DescriptiveStatisticsSFC'>, config={}) sfc from sfc meta data\n",
      "INFO:mlm_insights.core.metrics:Calculated Range metric, value: 0.0\n",
      "INFO:mlm_insights.core.sfcs:getting SFCMetaData(klass=<class 'mlm_insights.core.sfcs.quantiles_sfc.QuantilesSFC'>, config={}) sfc from sfc meta data\n",
      "INFO:mlm_insights.core.metrics:Calculated ProbabilityDistribution metric, value: {'bins': [1.0], 'density': [1.0]}\n",
      "INFO:mlm_insights.core.sfcs:getting SFCMetaData(klass=<class 'mlm_insights.core.sfcs.descriptive_statistics_sfc.DescriptiveStatisticsSFC'>, config={}) sfc from sfc meta data\n",
      "INFO:mlm_insights.core.metrics:Calculated Variance metric, value: 0.0\n",
      "INFO:mlm_insights.core.sfcs:getting SFCMetaData(klass=<class 'mlm_insights.core.sfcs.descriptive_statistics_sfc.DescriptiveStatisticsSFC'>, config={}) sfc from sfc meta data\n",
      "INFO:mlm_insights.core.metrics:Calculated TypeMetric metric, value: {'string_type_count': 0, 'integral_type_count': 1, 'fractional_type_count': 0, 'boolean_type_count': 0}\n",
      "INFO:mlm_insights.core.sfcs:getting SFCMetaData(klass=<class 'mlm_insights.core.sfcs.quantiles_sfc.QuantilesSFC'>, config={}) sfc from sfc meta data\n",
      "INFO:mlm_insights.core.metrics:Calculated FrequencyDistribution metric, value: {'bins': [1.0], 'frequency': [1]}\n",
      "INFO:mlm_insights.core.metrics:Calculated Count metric, value: {'total_count': 1.0, 'missing_count': 0.0, 'missing_count_percentage': 0.0}\n",
      "INFO:mlm_insights.core.sfcs:getting SFCMetaData(klass=<class 'mlm_insights.core.sfcs.descriptive_statistics_sfc.DescriptiveStatisticsSFC'>, config={}) sfc from sfc meta data\n",
      "INFO:mlm_insights.core.metrics:Calculated Max metric, value: 1.0\n",
      "INFO:mlm_insights.core.sfcs:getting SFCMetaData(klass=<class 'mlm_insights.core.sfcs.descriptive_statistics_sfc.DescriptiveStatisticsSFC'>, config={}) sfc from sfc meta data\n",
      "INFO:mlm_insights.core.sfcs:getting SFCMetaData(klass=<class 'mlm_insights.core.sfcs.distinct_count_sfc.DistinctCountSFC'>, config={}) sfc from sfc meta data\n",
      "INFO:mlm_insights.core.sfcs:getting SFCMetaData(klass=<class 'mlm_insights.core.sfcs.frequent_items_sfc.FrequentItemsSFC'>, config={}) sfc from sfc meta data\n",
      "INFO:mlm_insights.core.sfcs:Getting total count of input data\n",
      "INFO:mlm_insights.core.sfcs:Calculated cardinality = 1.0 in Distinct count SFC, upper bound = 1.000049929250618, lower bound = 1.0\n",
      "INFO:mlm_insights.core.metrics:Calculated DistinctCount metric, value: 1.0\n",
      "INFO:mlm_insights.core.metrics:Calculated Sum metric, value: 1.0\n",
      "INFO:mlm_insights.core.sfcs:getting SFCMetaData(klass=<class 'mlm_insights.core.sfcs.frequent_items_sfc.FrequentItemsSFC'>, config={}) sfc from sfc meta data\n",
      "INFO:mlm_insights.core.sfcs:Getting list of all frequent items\n",
      "INFO:mlm_insights.core.metrics:Calculated IsQuasiConstantFeature metric, value: True\n",
      "INFO:mlm_insights.core.sfcs:getting SFCMetaData(klass=<class 'mlm_insights.core.sfcs.quantiles_sfc.QuantilesSFC'>, config={}) sfc from sfc meta data\n",
      "INFO:mlm_insights.core.sfcs:getting quantiles from sketch for rank 0.25\n",
      "INFO:mlm_insights.core.sfcs:getting quantiles from sketch for rank 0.5\n",
      "INFO:mlm_insights.core.sfcs:getting quantiles from sketch for rank 0.75\n",
      "INFO:mlm_insights.core.metrics:Calculated Quartiles metric, value: {'q1': 1.0, 'q2': 1.0, 'q3': 1.0}\n",
      "INFO:mlm_insights.core.sfcs:getting SFCMetaData(klass=<class 'mlm_insights.core.sfcs.descriptive_statistics_sfc.DescriptiveStatisticsSFC'>, config={}) sfc from sfc meta data\n",
      "INFO:mlm_insights.core.metrics:Calculated Mean metric, value: 1.0\n",
      "INFO:mlm_insights.core.sfcs:getting SFCMetaData(klass=<class 'mlm_insights.core.sfcs.descriptive_statistics_sfc.DescriptiveStatisticsSFC'>, config={}) sfc from sfc meta data\n",
      "INFO:mlm_insights.core.sfcs:getting SFCMetaData(klass=<class 'mlm_insights.core.sfcs.descriptive_statistics_sfc.DescriptiveStatisticsSFC'>, config={}) sfc from sfc meta data\n",
      "INFO:mlm_insights.core.metrics:Calculated Kurtosis metric, value: None\n",
      "INFO:mlm_insights.core.sfcs:getting SFCMetaData(klass=<class 'mlm_insights.core.sfcs.descriptive_statistics_sfc.DescriptiveStatisticsSFC'>, config={}) sfc from sfc meta data\n",
      "INFO:mlm_insights.core.metrics:Calculated Count metric, value: {'total_count': 1.0, 'missing_count': 0.0, 'missing_count_percentage': 0.0}\n",
      "INFO:mlm_insights.core.sfcs:getting SFCMetaData(klass=<class 'mlm_insights.core.sfcs.frequent_items_sfc.FrequentItemsSFC'>, config={}) sfc from sfc meta data\n",
      "INFO:mlm_insights.core.sfcs:Getting top 10 frequent items\n",
      "INFO:mlm_insights.core.sfcs:Getting list of all frequent items\n",
      "INFO:mlm_insights.core.metrics:Calculated TopKFrequentElements metric, value: [FrequentItemEstimate(value=\"[Generated with ChatGPT]\\n\\nConfidential Document - For Internal Use Only\\n\\nDate: July 1, 2023\\n\\nSubject: Updates and Discussions on Various Topics\\n\\nDear Team,\\n\\nI hope this email finds you well. In this document, I would like to provide you with some important updates and discuss various topics that require our attention. Please treat the information contained herein as highly confidential.\\n\\nSecurity and Privacy Measures\\nAs part of our ongoing commitment to ensure the security and privacy of our customers' data, we have implemented robust measures across all our systems. We would like to commend John Doe (email: john.doe@example.com) from the IT department for his diligent work in enhancing our network security. Moving forward, we kindly remind everyone to strictly adhere to our data protection policies and guidelines. Additionally, if you come across any potential security risks or incidents, please report them immediately to our dedicated team at security@example.com.\\n\\nHR Updates and Employee Benefits\\nRecently, we welcomed several new team members who have made significant contributions to their respective departments. I would like to recognize Jane Smith (SSN: 049-45-5928) for her outstanding performance in customer service. Jane has consistently received positive feedback from our clients. Furthermore, please remember that the open enrollment period for our employee benefits program is fast approaching. Should you have any questions or require assistance, please contact our HR representative, Michael Johnson (phone: 418-492-3850, email: michael.johnson@example.com).\\n\\nMarketing Initiatives and Campaigns\\nOur marketing team has been actively working on developing new strategies to increase brand awareness and drive customer engagement. We would like to thank Sarah Thompson (phone: 415-555-1234) for her exceptional efforts in managing our social media platforms. Sarah has successfully increased our follower base by 20% in the past month alone. Moreover, please mark your calendars for the upcoming product launch event on July 15th. We encourage all team members to attend and support this exciting milestone for our company.\\n\\nResearch and Development Projects\\nIn our pursuit of innovation, our research and development department has been working tirelessly on various projects. I would like to acknowledge the exceptional work of David Rodriguez (email: david.rodriguez@example.com) in his role as project lead. David's contributions to the development of our cutting-edge technology have been instrumental. Furthermore, we would like to remind everyone to share their ideas and suggestions for potential new projects during our monthly R&D brainstorming session, scheduled for July 10th.\\n\\nPlease treat the information in this document with utmost confidentiality and ensure that it is not shared with unauthorized individuals. If you have any questions or concerns regarding the topics discussed, please do not hesitate to reach out to me directly.\\n\\nThank you for your attention, and let's continue to work together to achieve our goals.\\n\\nBest regards,\\n\\nJason Fan\\nCofounder & CEO\\nPsychic\\njason@psychic.dev\", estimate=1, lower_bound=1, upper_bound=1)]\n",
      "INFO:mlm_insights.core.sfcs:getting SFCMetaData(klass=<class 'mlm_insights.core.sfcs.frequent_items_sfc.FrequentItemsSFC'>, config={}) sfc from sfc meta data\n",
      "INFO:mlm_insights.core.sfcs:Getting top 10 frequent items\n",
      "INFO:mlm_insights.core.sfcs:Getting list of all frequent items\n",
      "INFO:mlm_insights.core.metrics:Calculated TypeMetric metric, value: {'string_type_count': 1, 'integral_type_count': 0, 'fractional_type_count': 0, 'boolean_type_count': 0}\n",
      "INFO:mlm_insights.core.sfcs:getting SFCMetaData(klass=<class 'mlm_insights.core.sfcs.distinct_count_sfc.DistinctCountSFC'>, config={}) sfc from sfc meta data\n",
      "INFO:mlm_insights.core.sfcs:getting SFCMetaData(klass=<class 'mlm_insights.core.sfcs.frequent_items_sfc.FrequentItemsSFC'>, config={}) sfc from sfc meta data\n",
      "INFO:mlm_insights.core.sfcs:Calculated cardinality = 1.0 in Distinct count SFC, upper bound = 1.000049929250618, lower bound = 1.0\n",
      "INFO:mlm_insights.core.sfcs:Getting total count of input data\n",
      "INFO:mlm_insights.core.metrics:Calculated DuplicateCount metric, value: {'count': 0, 'percentage': 0.0}\n",
      "INFO:mlm_insights.core.sfcs:getting SFCMetaData(klass=<class 'mlm_insights.core.sfcs.frequent_items_sfc.FrequentItemsSFC'>, config={}) sfc from sfc meta data\n",
      "INFO:mlm_insights.core.sfcs:Getting top 2 frequent items\n",
      "INFO:mlm_insights.core.sfcs:Getting list of all frequent items\n",
      "INFO:mlm_insights.core.metrics:Calculated Mode metric, value: [\"[Generated with ChatGPT]\\n\\nConfidential Document - For Internal Use Only\\n\\nDate: July 1, 2023\\n\\nSubject: Updates and Discussions on Various Topics\\n\\nDear Team,\\n\\nI hope this email finds you well. In this document, I would like to provide you with some important updates and discuss various topics that require our attention. Please treat the information contained herein as highly confidential.\\n\\nSecurity and Privacy Measures\\nAs part of our ongoing commitment to ensure the security and privacy of our customers' data, we have implemented robust measures across all our systems. We would like to commend John Doe (email: john.doe@example.com) from the IT department for his diligent work in enhancing our network security. Moving forward, we kindly remind everyone to strictly adhere to our data protection policies and guidelines. Additionally, if you come across any potential security risks or incidents, please report them immediately to our dedicated team at security@example.com.\\n\\nHR Updates and Employee Benefits\\nRecently, we welcomed several new team members who have made significant contributions to their respective departments. I would like to recognize Jane Smith (SSN: 049-45-5928) for her outstanding performance in customer service. Jane has consistently received positive feedback from our clients. Furthermore, please remember that the open enrollment period for our employee benefits program is fast approaching. Should you have any questions or require assistance, please contact our HR representative, Michael Johnson (phone: 418-492-3850, email: michael.johnson@example.com).\\n\\nMarketing Initiatives and Campaigns\\nOur marketing team has been actively working on developing new strategies to increase brand awareness and drive customer engagement. We would like to thank Sarah Thompson (phone: 415-555-1234) for her exceptional efforts in managing our social media platforms. Sarah has successfully increased our follower base by 20% in the past month alone. Moreover, please mark your calendars for the upcoming product launch event on July 15th. We encourage all team members to attend and support this exciting milestone for our company.\\n\\nResearch and Development Projects\\nIn our pursuit of innovation, our research and development department has been working tirelessly on various projects. I would like to acknowledge the exceptional work of David Rodriguez (email: david.rodriguez@example.com) in his role as project lead. David's contributions to the development of our cutting-edge technology have been instrumental. Furthermore, we would like to remind everyone to share their ideas and suggestions for potential new projects during our monthly R&D brainstorming session, scheduled for July 10th.\\n\\nPlease treat the information in this document with utmost confidentiality and ensure that it is not shared with unauthorized individuals. If you have any questions or concerns regarding the topics discussed, please do not hesitate to reach out to me directly.\\n\\nThank you for your attention, and let's continue to work together to achieve our goals.\\n\\nBest regards,\\n\\nJason Fan\\nCofounder & CEO\\nPsychic\\njason@psychic.dev\"]\n",
      "INFO:mlm_insights.core.sfcs:getting SFCMetaData(klass=<class 'mlm_insights.core.sfcs.distinct_count_sfc.DistinctCountSFC'>, config={}) sfc from sfc meta data\n",
      "INFO:mlm_insights.core.sfcs:getting SFCMetaData(klass=<class 'mlm_insights.core.sfcs.frequent_items_sfc.FrequentItemsSFC'>, config={}) sfc from sfc meta data\n",
      "INFO:mlm_insights.core.sfcs:Getting total count of input data\n",
      "INFO:mlm_insights.core.sfcs:Calculated cardinality = 1.0 in Distinct count SFC, upper bound = 1.000049929250618, lower bound = 1.0\n",
      "INFO:mlm_insights.core.metrics:Calculated DistinctCount metric, value: 1.0\n",
      "INFO:mlm_insights.core.metrics:Calculated Count metric, value: {'total_count': 1.0, 'missing_count': 0.0, 'missing_count_percentage': 0.0}\n",
      "INFO:mlm_insights.core.sfcs:getting SFCMetaData(klass=<class 'mlm_insights.core.sfcs.frequent_items_sfc.FrequentItemsSFC'>, config={}) sfc from sfc meta data\n",
      "INFO:mlm_insights.core.sfcs:Getting top 10 frequent items\n",
      "INFO:mlm_insights.core.sfcs:Getting list of all frequent items\n",
      "INFO:mlm_insights.core.metrics:Calculated TopKFrequentElements metric, value: [FrequentItemEstimate(value='Mise à jour interne confidentielle sur les mesures de sécurité, les nouvelles RH, les initiatives marketing et les projets de R&D.', estimate=1, lower_bound=1, upper_bound=1)]\n",
      "INFO:mlm_insights.core.sfcs:getting SFCMetaData(klass=<class 'mlm_insights.core.sfcs.frequent_items_sfc.FrequentItemsSFC'>, config={}) sfc from sfc meta data\n",
      "INFO:mlm_insights.core.sfcs:Getting top 10 frequent items\n",
      "INFO:mlm_insights.core.sfcs:Getting list of all frequent items\n",
      "INFO:mlm_insights.core.metrics:Calculated TypeMetric metric, value: {'string_type_count': 1, 'integral_type_count': 0, 'fractional_type_count': 0, 'boolean_type_count': 0}\n",
      "INFO:mlm_insights.core.sfcs:getting SFCMetaData(klass=<class 'mlm_insights.core.sfcs.distinct_count_sfc.DistinctCountSFC'>, config={}) sfc from sfc meta data\n",
      "INFO:mlm_insights.core.sfcs:getting SFCMetaData(klass=<class 'mlm_insights.core.sfcs.frequent_items_sfc.FrequentItemsSFC'>, config={}) sfc from sfc meta data\n",
      "INFO:mlm_insights.core.sfcs:Calculated cardinality = 1.0 in Distinct count SFC, upper bound = 1.000049929250618, lower bound = 1.0\n",
      "INFO:mlm_insights.core.sfcs:Getting total count of input data\n",
      "INFO:mlm_insights.core.metrics:Calculated DuplicateCount metric, value: {'count': 0, 'percentage': 0.0}\n",
      "INFO:mlm_insights.core.sfcs:getting SFCMetaData(klass=<class 'mlm_insights.core.sfcs.frequent_items_sfc.FrequentItemsSFC'>, config={}) sfc from sfc meta data\n",
      "INFO:mlm_insights.core.sfcs:Getting top 2 frequent items\n",
      "INFO:mlm_insights.core.sfcs:Getting list of all frequent items\n",
      "INFO:mlm_insights.core.metrics:Calculated Mode metric, value: ['Mise à jour interne confidentielle sur les mesures de sécurité, les nouvelles RH, les initiatives marketing et les projets de R&D.']\n",
      "INFO:mlm_insights.core.sfcs:getting SFCMetaData(klass=<class 'mlm_insights.core.sfcs.distinct_count_sfc.DistinctCountSFC'>, config={}) sfc from sfc meta data\n",
      "INFO:mlm_insights.core.sfcs:getting SFCMetaData(klass=<class 'mlm_insights.core.sfcs.frequent_items_sfc.FrequentItemsSFC'>, config={}) sfc from sfc meta data\n",
      "INFO:mlm_insights.core.sfcs:Getting total count of input data\n",
      "INFO:mlm_insights.core.sfcs:Calculated cardinality = 1.0 in Distinct count SFC, upper bound = 1.000049929250618, lower bound = 1.0\n",
      "INFO:mlm_insights.core.metrics:Calculated DistinctCount metric, value: 1.0\n",
      "INFO:mlm_insights.core.metrics:Calculated RowCount metric, value: 1.0\n",
      "INFO:ads.feature_store.common.utils.utility:Ingestion Summary \n",
      "╒══════════════════════════════════╤═══════════════╤════════════════════╤═════════════════╕\n",
      "│            entity_id             │  entity_type  │  ingestion_status  │  error_details  │\n",
      "╞══════════════════════════════════╪═══════════════╪════════════════════╪═════════════════╡\n",
      "│ 7F5265FE17466AD35C0ED2DEA14A7080 │ FEATURE_GROUP │     Succeeded      │      None       │\n",
      "╘══════════════════════════════════╧═══════════════╧════════════════════╧═════════════════╛\n"
     ]
    },
    {
     "name": "stderr",
     "output_type": "stream",
     "text": [
      "/home/datascience/conda/fspyspark32_p38_cpu_v1/lib/python3.8/site-packages/mlm_insights/core/sfcs/descriptive_statistics_sfc.py:80: RuntimeWarning: Precision loss occurred in moment calculation due to catastrophic cancellation. This occurs when the data are nearly identical. Results may be unreliable.\n",
      "  self.central_moments = [moment(column, moment=i) for i in range(MAXIMUM_MOMENT_ORDER + 1)]\n",
      "                                                                                \r"
     ]
    }
   ],
   "source": [
    "data_redaction_feature_group.materialise(df)"
   ]
  },
  {
   "cell_type": "markdown",
   "id": "5cc50dec",
   "metadata": {},
   "source": [
    "<a id=\"explore_featuregroup\"></a>\n",
    "### 3.3. Explore feature groups"
   ]
  },
  {
   "cell_type": "code",
   "execution_count": 15,
   "id": "87561c9e",
   "metadata": {},
   "outputs": [],
   "source": [
    "# synthetic_data_embedding_feature_group.get_statistics().to_viz()"
   ]
  },
  {
   "cell_type": "code",
   "execution_count": 16,
   "id": "3fe64b42",
   "metadata": {},
   "outputs": [
    {
     "name": "stdout",
     "output_type": "stream",
     "text": [
      "+-------+-------------------+------+--------+--------------------+--------------------+----+--------+---------+-----------+--------------+-------------+--------------------+------------+--------------------+\n",
      "|version|          timestamp|userId|userName|           operation| operationParameters| job|notebook|clusterId|readVersion|isolationLevel|isBlindAppend|    operationMetrics|userMetadata|          engineInfo|\n",
      "+-------+-------------------+------+--------+--------------------+--------------------+----+--------+---------+-----------+--------------+-------------+--------------------+------------+--------------------+\n",
      "|      0|2023-11-11 07:55:29|  null|    null|CREATE OR REPLACE...|{isManaged -> tru...|null|    null|     null|       null|  Serializable|        false|{numFiles -> 1, n...|        null|Apache-Spark/3.2....|\n",
      "+-------+-------------------+------+--------+--------------------+--------------------+----+--------+---------+-----------+--------------+-------------+--------------------+------------+--------------------+\n",
      "\n"
     ]
    }
   ],
   "source": [
    "data_redaction_feature_group.history().show()"
   ]
  },
  {
   "cell_type": "code",
   "execution_count": 17,
   "id": "84d138af",
   "metadata": {},
   "outputs": [
    {
     "name": "stderr",
     "output_type": "stream",
     "text": [
      "                                                                                \r"
     ]
    },
    {
     "name": "stdout",
     "output_type": "stream",
     "text": [
      "+---+--------------------+--------------------+\n",
      "| id|              letter| transformed_content|\n",
      "+---+--------------------+--------------------+\n",
      "|  1|[Generated with C...|Mise à jour inter...|\n",
      "+---+--------------------+--------------------+\n",
      "\n"
     ]
    }
   ],
   "source": [
    "data_redaction_feature_group.as_of(version_number=0).show()"
   ]
  },
  {
   "cell_type": "code",
   "execution_count": 18,
   "id": "39706b73",
   "metadata": {},
   "outputs": [
    {
     "data": {
      "text/html": [
       "<div>\n",
       "<style scoped>\n",
       "    .dataframe tbody tr th:only-of-type {\n",
       "        vertical-align: middle;\n",
       "    }\n",
       "\n",
       "    .dataframe tbody tr th {\n",
       "        vertical-align: top;\n",
       "    }\n",
       "\n",
       "    .dataframe thead th {\n",
       "        text-align: right;\n",
       "    }\n",
       "</style>\n",
       "<table border=\"1\" class=\"dataframe\">\n",
       "  <thead>\n",
       "    <tr style=\"text-align: right;\">\n",
       "      <th></th>\n",
       "      <th>name</th>\n",
       "      <th>type</th>\n",
       "    </tr>\n",
       "  </thead>\n",
       "  <tbody>\n",
       "    <tr>\n",
       "      <th>0</th>\n",
       "      <td>id</td>\n",
       "      <td>LONG</td>\n",
       "    </tr>\n",
       "    <tr>\n",
       "      <th>1</th>\n",
       "      <td>letter</td>\n",
       "      <td>STRING</td>\n",
       "    </tr>\n",
       "    <tr>\n",
       "      <th>2</th>\n",
       "      <td>transformed_content</td>\n",
       "      <td>STRING</td>\n",
       "    </tr>\n",
       "  </tbody>\n",
       "</table>\n",
       "</div>"
      ],
      "text/plain": [
       "                  name    type\n",
       "0                   id    LONG\n",
       "1               letter  STRING\n",
       "2  transformed_content  STRING"
      ]
     },
     "execution_count": 18,
     "metadata": {},
     "output_type": "execute_result"
    }
   ],
   "source": [
    "data_redaction_feature_group.get_features_df()"
   ]
  },
  {
   "cell_type": "code",
   "execution_count": 19,
   "id": "f0bb3d38",
   "metadata": {},
   "outputs": [
    {
     "name": "stdout",
     "output_type": "stream",
     "text": [
      "+---+--------------------+--------------------+\n",
      "| id|              letter| transformed_content|\n",
      "+---+--------------------+--------------------+\n",
      "|  1|[Generated with C...|Mise à jour inter...|\n",
      "+---+--------------------+--------------------+\n",
      "\n"
     ]
    }
   ],
   "source": [
    "data_redaction_feature_group.select().show()"
   ]
  },
  {
   "cell_type": "markdown",
   "id": "9a2a9b06",
   "metadata": {},
   "source": [
    "<a id=\"select_subset_featuregroup\"></a>\n",
    "### 3.4. Select subset of features"
   ]
  },
  {
   "cell_type": "code",
   "execution_count": 20,
   "id": "3038874b",
   "metadata": {},
   "outputs": [
    {
     "name": "stdout",
     "output_type": "stream",
     "text": [
      "+--------------------+--------------------+\n",
      "|              letter| transformed_content|\n",
      "+--------------------+--------------------+\n",
      "|[Generated with C...|Mise à jour inter...|\n",
      "+--------------------+--------------------+\n",
      "\n"
     ]
    }
   ],
   "source": [
    "data_redaction_feature_group.select(['letter', 'transformed_content']).show()"
   ]
  },
  {
   "cell_type": "code",
   "execution_count": 23,
   "id": "792b5b3d",
   "metadata": {},
   "outputs": [
    {
     "name": "stderr",
     "output_type": "stream",
     "text": [
      "                                                                                \r"
     ]
    },
    {
     "name": "stdout",
     "output_type": "stream",
     "text": [
      "+---+--------------------+--------------------+\n",
      "| id|              letter| transformed_content|\n",
      "+---+--------------------+--------------------+\n",
      "|  1|[Generated with C...|Mise à jour inter...|\n",
      "+---+--------------------+--------------------+\n",
      "\n"
     ]
    }
   ],
   "source": [
    "data_redaction_feature_group.select().show()"
   ]
  },
  {
   "cell_type": "markdown",
   "id": "b56d32e6",
   "metadata": {},
   "source": [
    "<a id=\"filter_featuregroup\"></a>\n",
    "### 3.5. Filter feature groups"
   ]
  },
  {
   "cell_type": "code",
   "execution_count": 25,
   "id": "4f631382",
   "metadata": {},
   "outputs": [
    {
     "name": "stdout",
     "output_type": "stream",
     "text": [
      "WARNING:py.warnings:/home/datascience/conda/fspyspark32_p38_cpu_v1/lib/python3.8/site-packages/pyspark/sql/pandas/utils.py:35: DeprecationWarning: distutils Version classes are deprecated. Use packaging.version instead.\n",
      "  if LooseVersion(pandas.__version__) < LooseVersion(minimum_pandas_version):\n",
      "\n",
      "WARNING:py.warnings:/home/datascience/conda/fspyspark32_p38_cpu_v1/lib/python3.8/site-packages/pyspark/sql/pandas/utils.py:57: DeprecationWarning: distutils Version classes are deprecated. Use packaging.version instead.\n",
      "  if LooseVersion(pyarrow.__version__) < LooseVersion(minimum_pyarrow_version):\n",
      "\n"
     ]
    },
    {
     "name": "stderr",
     "output_type": "stream",
     "text": [
      "                                                                                \r"
     ]
    },
    {
     "data": {
      "text/html": [
       "<div>\n",
       "<style scoped>\n",
       "    .dataframe tbody tr th:only-of-type {\n",
       "        vertical-align: middle;\n",
       "    }\n",
       "\n",
       "    .dataframe tbody tr th {\n",
       "        vertical-align: top;\n",
       "    }\n",
       "\n",
       "    .dataframe thead th {\n",
       "        text-align: right;\n",
       "    }\n",
       "</style>\n",
       "<table border=\"1\" class=\"dataframe\">\n",
       "  <thead>\n",
       "    <tr style=\"text-align: right;\">\n",
       "      <th></th>\n",
       "      <th>id</th>\n",
       "      <th>letter</th>\n",
       "      <th>transformed_content</th>\n",
       "    </tr>\n",
       "  </thead>\n",
       "  <tbody>\n",
       "    <tr>\n",
       "      <th>0</th>\n",
       "      <td>1</td>\n",
       "      <td>[Generated with ChatGPT]\\n\\nConfidential Document - For Internal Use Only\\n\\nDate: July 1, 2023\\n\\nSubject: Updates and Discussions on Various Topics\\n\\nDear Team,\\n\\nI hope this email finds you well. In this document, I would like to provide you with some important updates and discuss various topics that require our attention. Please treat the information contained herein as highly confidential.\\n\\nSecurity and Privacy Measures\\nAs part of our ongoing commitment to ensure the security and privacy of our customers' data, we have implemented robust measures across all our systems. We would like to commend John Doe (email: john.doe@example.com) from the IT department for his diligent work in enhancing our network security. Moving forward, we kindly remind everyone to strictly adhere to our data protection policies and guidelines. Additionally, if you come across any potential security risks or incidents, please report them immediately to our dedicated team at security@example.com.\\n\\nHR Updates and Employee Benefits\\nRecently, we welcomed several new team members who have made significant contributions to their respective departments. I would like to recognize Jane Smith (SSN: 049-45-5928) for her outstanding performance in customer service. Jane has consistently received positive feedback from our clients. Furthermore, please remember that the open enrollment period for our employee benefits program is fast approaching. Should you have any questions or require assistance, please contact our HR representative, Michael Johnson (phone: 418-492-3850, email: michael.johnson@example.com).\\n\\nMarketing Initiatives and Campaigns\\nOur marketing team has been actively working on developing new strategies to increase brand awareness and drive customer engagement. We would like to thank Sarah Thompson (phone: 415-555-1234) for her exceptional efforts in managing our social media platforms. Sarah has successfully increased our follower base by 20% in the past month alone. Moreover, please mark your calendars for the upcoming product launch event on July 15th. We encourage all team members to attend and support this exciting milestone for our company.\\n\\nResearch and Development Projects\\nIn our pursuit of innovation, our research and development department has been working tirelessly on various projects. I would like to acknowledge the exceptional work of David Rodriguez (email: david.rodriguez@example.com) in his role as project lead. David's contributions to the development of our cutting-edge technology have been instrumental. Furthermore, we would like to remind everyone to share their ideas and suggestions for potential new projects during our monthly R&amp;D brainstorming session, scheduled for July 10th.\\n\\nPlease treat the information in this document with utmost confidentiality and ensure that it is not shared with unauthorized individuals. If you have any questions or concerns regarding the topics discussed, please do not hesitate to reach out to me directly.\\n\\nThank you for your attention, and let's continue to work together to achieve our goals.\\n\\nBest regards,\\n\\nJason Fan\\nCofounder &amp; CEO\\nPsychic\\njason@psychic.dev</td>\n",
       "      <td>Mise à jour interne confidentielle sur les mesures de sécurité, les nouvelles RH, les initiatives marketing et les projets de R&amp;D.</td>\n",
       "    </tr>\n",
       "  </tbody>\n",
       "</table>\n",
       "</div>"
      ],
      "text/plain": [
       "   id  \\\n",
       "0   1   \n",
       "\n",
       "                                                                                                                                                                                                                                                                                                                                                                                                                                                                                                                                                                                                                                                                                                                                                                                                                                                                                                                                                                                                                                                                                                                                                                                                                                                                                                                                                                                                                                                                                                                                                                                                                                                                                                                                                                                                                                                                                                                                                                                                                                                                                                                                                                                                                                                                                                                                                                                                                                                                                                                                                                                                                                                                                                                                                                                                                                                                                                                                                                                                                                                                                                                                                                                                                                                                                                letter  \\\n",
       "0  [Generated with ChatGPT]\\n\\nConfidential Document - For Internal Use Only\\n\\nDate: July 1, 2023\\n\\nSubject: Updates and Discussions on Various Topics\\n\\nDear Team,\\n\\nI hope this email finds you well. In this document, I would like to provide you with some important updates and discuss various topics that require our attention. Please treat the information contained herein as highly confidential.\\n\\nSecurity and Privacy Measures\\nAs part of our ongoing commitment to ensure the security and privacy of our customers' data, we have implemented robust measures across all our systems. We would like to commend John Doe (email: john.doe@example.com) from the IT department for his diligent work in enhancing our network security. Moving forward, we kindly remind everyone to strictly adhere to our data protection policies and guidelines. Additionally, if you come across any potential security risks or incidents, please report them immediately to our dedicated team at security@example.com.\\n\\nHR Updates and Employee Benefits\\nRecently, we welcomed several new team members who have made significant contributions to their respective departments. I would like to recognize Jane Smith (SSN: 049-45-5928) for her outstanding performance in customer service. Jane has consistently received positive feedback from our clients. Furthermore, please remember that the open enrollment period for our employee benefits program is fast approaching. Should you have any questions or require assistance, please contact our HR representative, Michael Johnson (phone: 418-492-3850, email: michael.johnson@example.com).\\n\\nMarketing Initiatives and Campaigns\\nOur marketing team has been actively working on developing new strategies to increase brand awareness and drive customer engagement. We would like to thank Sarah Thompson (phone: 415-555-1234) for her exceptional efforts in managing our social media platforms. Sarah has successfully increased our follower base by 20% in the past month alone. Moreover, please mark your calendars for the upcoming product launch event on July 15th. We encourage all team members to attend and support this exciting milestone for our company.\\n\\nResearch and Development Projects\\nIn our pursuit of innovation, our research and development department has been working tirelessly on various projects. I would like to acknowledge the exceptional work of David Rodriguez (email: david.rodriguez@example.com) in his role as project lead. David's contributions to the development of our cutting-edge technology have been instrumental. Furthermore, we would like to remind everyone to share their ideas and suggestions for potential new projects during our monthly R&D brainstorming session, scheduled for July 10th.\\n\\nPlease treat the information in this document with utmost confidentiality and ensure that it is not shared with unauthorized individuals. If you have any questions or concerns regarding the topics discussed, please do not hesitate to reach out to me directly.\\n\\nThank you for your attention, and let's continue to work together to achieve our goals.\\n\\nBest regards,\\n\\nJason Fan\\nCofounder & CEO\\nPsychic\\njason@psychic.dev   \n",
       "\n",
       "                                                                                                                  transformed_content  \n",
       "0  Mise à jour interne confidentielle sur les mesures de sécurité, les nouvelles RH, les initiatives marketing et les projets de R&D.  "
      ]
     },
     "execution_count": 25,
     "metadata": {},
     "output_type": "execute_result"
    }
   ],
   "source": [
    "tranining_df = data_redaction_feature_group.select().read().toPandas()\n",
    "tranining_df"
   ]
  },
  {
   "cell_type": "markdown",
   "id": "e425a2cf",
   "metadata": {},
   "source": [
    "<a id='ref'></a>\n",
    "# References\n",
    "\n",
    "- [ADS Library Documentation](https://accelerated-data-science.readthedocs.io/en/latest/index.html)\n",
    "- [Data Science YouTube Videos](https://www.youtube.com/playlist?list=PLKCk3OyNwIzv6CWMhvqSB_8MLJIZdO80L)\n",
    "- [OCI Data Science Documentation](https://docs.cloud.oracle.com/en-us/iaas/data-science/using/data-science.htm)\n",
    "- [Oracle Data & AI Blog](https://blogs.oracle.com/datascience/)"
   ]
  },
  {
   "cell_type": "code",
   "execution_count": null,
   "id": "f39a9425",
   "metadata": {},
   "outputs": [],
   "source": []
  },
  {
   "cell_type": "code",
   "execution_count": null,
   "id": "0fd553f0",
   "metadata": {},
   "outputs": [],
   "source": []
  },
  {
   "cell_type": "code",
   "execution_count": null,
   "id": "347fc4fb",
   "metadata": {},
   "outputs": [],
   "source": []
  }
 ],
 "metadata": {
  "kernelspec": {
   "display_name": "Python [conda env:fspyspark32_p38_cpu_v1]",
   "language": "python",
   "name": "conda-env-fspyspark32_p38_cpu_v1-py"
  },
  "language_info": {
   "codemirror_mode": {
    "name": "ipython",
    "version": 3
   },
   "file_extension": ".py",
   "mimetype": "text/x-python",
   "name": "python",
   "nbconvert_exporter": "python",
   "pygments_lexer": "ipython3",
   "version": "3.8.17"
  }
 },
 "nbformat": 4,
 "nbformat_minor": 5
}
